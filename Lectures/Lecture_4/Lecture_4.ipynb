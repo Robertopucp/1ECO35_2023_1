{
 "cells": [
  {
   "cell_type": "code",
   "execution_count": 5,
   "id": "10ae030c",
   "metadata": {},
   "outputs": [
    {
     "name": "stdout",
     "output_type": "stream",
     "text": [
      "120\n"
     ]
    }
   ],
   "source": [
    "def factorial(n):\n",
    "    if n == 0:\n",
    "        return 1\n",
    "    else:\n",
    "        return n * factorial(n-1)\n",
    "print(factorial(5))"
   ]
  },
  {
   "cell_type": "code",
   "execution_count": 2,
   "id": "38d9ec86",
   "metadata": {},
   "outputs": [
    {
     "name": "stdout",
     "output_type": "stream",
     "text": [
      "Estudiante 1 - Peso: 70 Talla: 1.5 IMC: 31.11111111111111 Clasificación: Moderado\n",
      "Estudiante 2 - Peso: 85 Talla: 1.8 IMC: 26.234567901234566 Clasificación: Aumentado\n",
      "Estudiante 3 - Peso: 50 Talla: 1.6 IM 19.531249999999996 Clasificación: Promedio\n"
     ]
    }
   ],
   "source": [
    "def calcular_imc(peso, talla):\n",
    "    imc = peso / (talla**2)\n",
    "    if 18.5 <= imc < 24.9:\n",
    "        clasificacion = \"Promedio\"\n",
    "    elif 25 <= imc < 29.9:\n",
    "        clasificacion = \"Aumentado\"\n",
    "    elif 30 <= imc < 34.9 :\n",
    "        clasificacion = \"Moderado\"\n",
    "    elif 35 <= imc < 39.9 :\n",
    "        clasificacion = \"Severo\"\n",
    "    else:\n",
    "        clasificacion = \"Muy Severo\"\n",
    "    return peso, talla, imc, clasificacion\n",
    "\n",
    "# Datos de los estudiantes\n",
    "estudiante1_peso = 70\n",
    "estudiante1_talla = 1.5\n",
    "estudiante2_peso = 85\n",
    "estudiante2_talla = 1.8\n",
    "estudiante3_peso = 50\n",
    "estudiante3_talla = 1.6\n",
    "\n",
    "# Cálculo del IMC y clasificación para cada estudiante\n",
    "estudiante1_peso, estudiante1_talla, estudiante1_imc, estudiante1_clasificacion = calcular_imc(estudiante1_peso, estudiante1_talla)\n",
    "estudiante2_peso, estudiante2_talla, estudiante2_imc, estudiante2_clasificacion = calcular_imc(estudiante2_peso, estudiante2_talla)\n",
    "estudiante3_peso, estudiante3_talla, estudiante3_imc, estudiante3_clasificacion = calcular_imc(estudiante3_peso, estudiante3_talla)\n",
    "\n",
    "# Imprimir resultados\n",
    "print(\"Estudiante 1 - Peso:\", estudiante1_peso, \"Talla:\", estudiante1_talla, \"IMC:\", estudiante1_imc, \"Clasificación:\", estudiante1_clasificacion)\n",
    "print(\"Estudiante 2 - Peso:\", estudiante2_peso, \"Talla:\", estudiante2_talla, \"IMC:\", estudiante2_imc, \"Clasificación:\", estudiante2_clasificacion)\n",
    "print(\"Estudiante 3 - Peso:\", estudiante3_peso, \"Talla:\", estudiante3_talla, \"IM\" , estudiante3_imc, \"Clasificación:\", estudiante3_clasificacion)\n"
   ]
  },
  {
   "cell_type": "code",
   "execution_count": 6,
   "id": "5879aabb",
   "metadata": {},
   "outputs": [],
   "source": [
    "import pandas as pd\n",
    "\n",
    "portafolio = pd.read_csv(r\"../../data/portafolio.csv\")\n",
    "portafolio \n",
    "import numpy as np\n",
    "\n",
    "def calculadora(data):\n",
    "    X = data['X']\n",
    "    Y = data['Y']\n",
    "    w1 = 0.2\n",
    "    w2 = 0.8"
   ]
  },
  {
   "cell_type": "code",
   "execution_count": 8,
   "id": "309c6298",
   "metadata": {},
   "outputs": [
    {
     "data": {
      "text/plain": [
       "(0.5206743364408886, 2.7196251779069125)"
      ]
     },
     "execution_count": 8,
     "metadata": {},
     "output_type": "execute_result"
    }
   ],
   "source": [
    "import pandas as pd\n",
    "\n",
    "portafolio = pd.read_csv(r\"../../data/portafolio.csv\")\n",
    "portafolio \n",
    "import numpy as np\n",
    "\n",
    "def calculadora(data):\n",
    "    X = data['X']\n",
    "    Y = data['Y']\n",
    "    w1 = 0.2\n",
    "    w2 = 0.8\n",
    "    \n",
    "    # Coeficiente de correlación de Pearson\n",
    "    corr_coef = np.cov(X, Y)[0, 1] / (np.var(X) * np.var(Y)) ** 0.5\n",
    "    \n",
    "    # Varianza del portafolio\n",
    "    port_var = (np.var(X) * w1 * 2) + (np.var(Y) * w2 * 2) + (2 * np.cov(X, Y)[0, 1] * w1 * w2)\n",
    "    \n",
    "    return corr_coef, port_var\n",
    "\n",
    "calculadora(portafolio)"
   ]
  },
  {
   "cell_type": "code",
   "execution_count": 9,
   "id": "13529d2c",
   "metadata": {},
   "outputs": [
    {
     "ename": "IndentationError",
     "evalue": "expected an indented block (543338348.py, line 4)",
     "output_type": "error",
     "traceback": [
      "\u001b[1;36m  Input \u001b[1;32mIn [9]\u001b[1;36m\u001b[0m\n\u001b[1;33m    return (x - x.min()) / (x.max() - x.min())\u001b[0m\n\u001b[1;37m    ^\u001b[0m\n\u001b[1;31mIndentationError\u001b[0m\u001b[1;31m:\u001b[0m expected an indented block\n"
     ]
    }
   ],
   "source": [
    "datos = pd.read_csv(\"../../data/BDD_compras_consumidores.csv\")\n",
    "\n",
    "def escalamiento(x):\n",
    "return (x - x.min()) / (x.max() - x.min())\n",
    "\n",
    "datos.loc[:, datos.select_dtypes(include=np.number).columns] = datos.select_dtypes(include=np.number).apply(escalamiento)\n",
    "\n",
    "vector = np.random.rand(100)\n",
    "vector_esc = escalamiento(vector)"
   ]
  },
  {
   "cell_type": "code",
   "execution_count": 11,
   "id": "c8ff6ceb",
   "metadata": {},
   "outputs": [
    {
     "name": "stdout",
     "output_type": "stream",
     "text": [
      "[0.84445443 0.37772083 0.0779432  0.30218777 0.93472662 0.64980059\n",
      " 0.61083957 0.65725197 0.51069146 0.24712166 0.00689864 0.01080945\n",
      " 0.42177535 0.08044428 0.37236993 0.94267958 0.60962646 0.\n",
      " 0.40022457 0.61011119 0.4903953  0.27995878 0.0131009  0.16047429\n",
      " 0.15270443 0.60224758 0.89678333 0.69275997 0.75031045 0.80491711\n",
      " 0.83853063 0.49116418 0.64174687 0.10837722 0.28129226 0.34436659\n",
      " 0.24756053 0.69632438 0.28282287 0.79444387 0.51773766 0.61727801\n",
      " 0.82585173 0.89728565 0.40496322 0.15028008 0.06455691 0.66325428\n",
      " 0.8462881  0.19164109 0.86346679 0.34170427 0.71064288 0.53645029\n",
      " 0.4249486  0.94788666 0.4781089  0.7807799  0.24967544 0.46611263\n",
      " 0.99734181 0.30575266 0.50038495 0.40910497 0.41812327 0.97417621\n",
      " 0.9297162  1.         0.69612397 0.35681774 0.88090308 0.59694839\n",
      " 0.72576167 0.61037154 0.58625717 0.01239431 0.36349654 0.89885841\n",
      " 0.4544295  0.3213543  0.47440025 0.11300719 0.95247663 0.94263091\n",
      " 0.46464848 0.29865311 0.53130131 0.98325873 0.89165288 0.69145076\n",
      " 0.64453449 0.90812506 0.8259013  0.21569624 0.12192517 0.39404401\n",
      " 0.10544947 0.61445169 0.0178941  0.35443661]\n"
     ]
    }
   ],
   "source": [
    "import pandas as pd\n",
    "datos = pd.read_csv(\"../../data/BDD_compras_consumidores.csv\")\n",
    "def escalamiento(x):\n",
    "    return (x - x.min()) / (x.max() - x.min())\n",
    "datos.loc[:, datos.dtypes == 'float64'] = datos.loc[:, datos.dtypes == 'float64'].apply(escalamiento)\n",
    "import numpy as np\n",
    "vector = np.random.rand(100)\n",
    "vector_esc = escalamiento(vector)\n",
    "print(vector_esc)"
   ]
  },
  {
   "cell_type": "code",
   "execution_count": null,
   "id": "66471411",
   "metadata": {},
   "outputs": [],
   "source": []
  }
 ],
 "metadata": {
  "kernelspec": {
   "display_name": "Python 3 (ipykernel)",
   "language": "python",
   "name": "python3"
  },
  "language_info": {
   "codemirror_mode": {
    "name": "ipython",
    "version": 3
   },
   "file_extension": ".py",
   "mimetype": "text/x-python",
   "name": "python",
   "nbconvert_exporter": "python",
   "pygments_lexer": "ipython3",
   "version": "3.9.12"
  }
 },
 "nbformat": 4,
 "nbformat_minor": 5
}
