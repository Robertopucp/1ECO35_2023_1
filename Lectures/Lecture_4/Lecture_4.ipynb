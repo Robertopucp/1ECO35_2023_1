{
 "cells": [
  {
   "cell_type": "code",
   "execution_count": 6,
   "id": "10ae030c",
   "metadata": {},
   "outputs": [
    {
     "name": "stdout",
     "output_type": "stream",
     "text": [
      "24\n"
     ]
    }
   ],
   "source": [
    "def factorial(n):\n",
    "    if n == 0:\n",
    "        return 1\n",
    "    else:\n",
    "        return n * factorial(n-1)\n",
    "print(factorial(4))"
   ]
  },
  {
   "cell_type": "code",
   "execution_count": 2,
   "id": "38d9ec86",
   "metadata": {},
   "outputs": [
    {
     "name": "stdout",
     "output_type": "stream",
     "text": [
      "Estudiante 1 - Peso: 70 Talla: 1.5 IMC: 31.11111111111111 Clasificación: Moderado\n",
      "Estudiante 2 - Peso: 85 Talla: 1.8 IMC: 26.234567901234566 Clasificación: Aumentado\n",
      "Estudiante 3 - Peso: 50 Talla: 1.6 IM 19.531249999999996 Clasificación: Promedio\n"
     ]
    }
   ],
   "source": [
    "def calcular_imc(peso, talla):\n",
    "    imc = peso / (talla**2)\n",
    "    if 18.5 <= imc < 24.9:\n",
    "        clasificacion = \"Promedio\"\n",
    "    elif 25 <= imc < 29.9:\n",
    "        clasificacion = \"Aumentado\"\n",
    "    elif 30 <= imc < 34.9 :\n",
    "        clasificacion = \"Moderado\"\n",
    "    elif 35 <= imc < 39.9 :\n",
    "        clasificacion = \"Severo\"\n",
    "    else:\n",
    "        clasificacion = \"Muy Severo\"\n",
    "    return peso, talla, imc, clasificacion\n",
    "\n",
    "# Datos de los estudiantes\n",
    "estudiante1_peso = 70\n",
    "estudiante1_talla = 1.5\n",
    "estudiante2_peso = 85\n",
    "estudiante2_talla = 1.8\n",
    "estudiante3_peso = 50\n",
    "estudiante3_talla = 1.6\n",
    "\n",
    "# Cálculo del IMC y clasificación para cada estudiante\n",
    "estudiante1_peso, estudiante1_talla, estudiante1_imc, estudiante1_clasificacion = calcular_imc(estudiante1_peso, estudiante1_talla)\n",
    "estudiante2_peso, estudiante2_talla, estudiante2_imc, estudiante2_clasificacion = calcular_imc(estudiante2_peso, estudiante2_talla)\n",
    "estudiante3_peso, estudiante3_talla, estudiante3_imc, estudiante3_clasificacion = calcular_imc(estudiante3_peso, estudiante3_talla)\n",
    "\n",
    "# Imprimir resultados\n",
    "print(\"Estudiante 1 - Peso:\", estudiante1_peso, \"Talla:\", estudiante1_talla, \"IMC:\", estudiante1_imc, \"Clasificación:\", estudiante1_clasificacion)\n",
    "print(\"Estudiante 2 - Peso:\", estudiante2_peso, \"Talla:\", estudiante2_talla, \"IMC:\", estudiante2_imc, \"Clasificación:\", estudiante2_clasificacion)\n",
    "print(\"Estudiante 3 - Peso:\", estudiante3_peso, \"Talla:\", estudiante3_talla, \"IM\" , estudiante3_imc, \"Clasificación:\", estudiante3_clasificacion)\n"
   ]
  },
  {
   "cell_type": "code",
   "execution_count": 5,
   "id": "0fb7fda3",
   "metadata": {},
   "outputs": [],
   "source": [
    "import pandas as pd\n",
    "import numpy as np\n",
    "import os "
   ]
  },
  {
   "cell_type": "code",
   "execution_count": 6,
   "id": "7802b8d1",
   "metadata": {},
   "outputs": [
    {
     "data": {
      "text/plain": [
       "'C:\\\\Users\\\\Allison\\\\Documents\\\\GitHub\\\\GITHUB\\\\1ECO35_2023_1\\\\Lectures\\\\Lecture_4'"
      ]
     },
     "execution_count": 6,
     "metadata": {},
     "output_type": "execute_result"
    }
   ],
   "source": [
    "os.getcwd()"
   ]
  },
  {
   "cell_type": "code",
   "execution_count": 7,
   "id": "9f86ba1a",
   "metadata": {},
   "outputs": [
    {
     "data": {
      "text/html": [
       "<div>\n",
       "<style scoped>\n",
       "    .dataframe tbody tr th:only-of-type {\n",
       "        vertical-align: middle;\n",
       "    }\n",
       "\n",
       "    .dataframe tbody tr th {\n",
       "        vertical-align: top;\n",
       "    }\n",
       "\n",
       "    .dataframe thead th {\n",
       "        text-align: right;\n",
       "    }\n",
       "</style>\n",
       "<table border=\"1\" class=\"dataframe\">\n",
       "  <thead>\n",
       "    <tr style=\"text-align: right;\">\n",
       "      <th></th>\n",
       "      <th>X</th>\n",
       "      <th>Y</th>\n",
       "    </tr>\n",
       "  </thead>\n",
       "  <tbody>\n",
       "    <tr>\n",
       "      <th>0</th>\n",
       "      <td>-0.895251</td>\n",
       "      <td>-0.234924</td>\n",
       "    </tr>\n",
       "    <tr>\n",
       "      <th>1</th>\n",
       "      <td>-1.562454</td>\n",
       "      <td>-0.885176</td>\n",
       "    </tr>\n",
       "    <tr>\n",
       "      <th>2</th>\n",
       "      <td>-0.417090</td>\n",
       "      <td>0.271888</td>\n",
       "    </tr>\n",
       "    <tr>\n",
       "      <th>3</th>\n",
       "      <td>1.044356</td>\n",
       "      <td>-0.734198</td>\n",
       "    </tr>\n",
       "    <tr>\n",
       "      <th>4</th>\n",
       "      <td>-0.315568</td>\n",
       "      <td>0.841983</td>\n",
       "    </tr>\n",
       "    <tr>\n",
       "      <th>...</th>\n",
       "      <td>...</td>\n",
       "      <td>...</td>\n",
       "    </tr>\n",
       "    <tr>\n",
       "      <th>95</th>\n",
       "      <td>0.479091</td>\n",
       "      <td>1.454774</td>\n",
       "    </tr>\n",
       "    <tr>\n",
       "      <th>96</th>\n",
       "      <td>-0.535020</td>\n",
       "      <td>-0.399175</td>\n",
       "    </tr>\n",
       "    <tr>\n",
       "      <th>97</th>\n",
       "      <td>-0.773129</td>\n",
       "      <td>-0.957175</td>\n",
       "    </tr>\n",
       "    <tr>\n",
       "      <th>98</th>\n",
       "      <td>0.403634</td>\n",
       "      <td>1.396038</td>\n",
       "    </tr>\n",
       "    <tr>\n",
       "      <th>99</th>\n",
       "      <td>-0.588496</td>\n",
       "      <td>-0.497285</td>\n",
       "    </tr>\n",
       "  </tbody>\n",
       "</table>\n",
       "<p>100 rows × 2 columns</p>\n",
       "</div>"
      ],
      "text/plain": [
       "           X         Y\n",
       "0  -0.895251 -0.234924\n",
       "1  -1.562454 -0.885176\n",
       "2  -0.417090  0.271888\n",
       "3   1.044356 -0.734198\n",
       "4  -0.315568  0.841983\n",
       "..       ...       ...\n",
       "95  0.479091  1.454774\n",
       "96 -0.535020 -0.399175\n",
       "97 -0.773129 -0.957175\n",
       "98  0.403634  1.396038\n",
       "99 -0.588496 -0.497285\n",
       "\n",
       "[100 rows x 2 columns]"
      ]
     },
     "execution_count": 7,
     "metadata": {},
     "output_type": "execute_result"
    }
   ],
   "source": [
    "datos_excel = pd.read_csv(r\"../../data/Portafolio.csv\")\n",
    "datos_excel"
   ]
  },
  {
   "cell_type": "code",
   "execution_count": null,
   "id": "b322f826",
   "metadata": {},
   "outputs": [],
   "source": [
    "\n",
    "# Datos\n",
    "\n",
    "# Coeficiente de correlación\n",
    "mean_x = sum(X) / len(X)\n",
    "mean_y = sum(activo_y) / len(activo_y)\n",
    "\n",
    "var_x = sum((x - mean_x) ** 2 for x in activo_x) / (len(activo_x) - 1)\n",
    "var_y = sum((y - mean_y) ** 2 for y in activo_y) / (len(activo_y) - 1)\n",
    "\n",
    "std_x = math.sqrt(var_x)\n",
    "std_y = math.sqrt(var_y)\n",
    "\n",
    "cov_xy = sum((activo_x[i] - mean_x) * (activo_y[i] - mean_y) for i in range(len(activo_x))) / (len(activo_x) - 1)\n",
    "\n",
    "corr_xy = cov_xy/(std_x * std_y)\n",
    "\n",
    "# Varianza del portafolio\n",
    "peso_x = 0.2\n",
    "peso_y = 0.8\n",
    "\n",
    "var_port = (peso_x**2 * var_x) + (peso_y**2 * var_y) + (2 * peso_x * peso_y * corr_xy * std_x * std_y)\n",
    "\n",
    "# Imprimiendo resultados\n",
    "print(\"Coeficiente de Correlación de Pearson:\", corr_xy)\n",
    "print(\"Varianza del Portafolio:\", var_port)\n"
   ]
  },
  {
   "cell_type": "code",
   "execution_count": 8,
   "id": "0a58cce2",
   "metadata": {},
   "outputs": [
    {
     "ename": "NameError",
     "evalue": "name 'X' is not defined",
     "output_type": "error",
     "traceback": [
      "\u001b[1;31m---------------------------------------------------------------------------\u001b[0m",
      "\u001b[1;31mNameError\u001b[0m                                 Traceback (most recent call last)",
      "Input \u001b[1;32mIn [8]\u001b[0m, in \u001b[0;36m<cell line: 1>\u001b[1;34m()\u001b[0m\n\u001b[1;32m----> 1\u001b[0m mean_x \u001b[38;5;241m=\u001b[39m \u001b[38;5;28msum\u001b[39m(\u001b[43mX\u001b[49m) \u001b[38;5;241m/\u001b[39m \u001b[38;5;28mlen\u001b[39m(X)\n",
      "\u001b[1;31mNameError\u001b[0m: name 'X' is not defined"
     ]
    }
   ],
   "source": [
    "mean_x = sum(X) / len(X)"
   ]
  },
  {
   "cell_type": "code",
   "execution_count": null,
   "id": "b2cba441",
   "metadata": {},
   "outputs": [],
   "source": []
  }
 ],
 "metadata": {
  "kernelspec": {
   "display_name": "Python 3 (ipykernel)",
   "language": "python",
   "name": "python3"
  },
  "language_info": {
   "codemirror_mode": {
    "name": "ipython",
    "version": 3
   },
   "file_extension": ".py",
   "mimetype": "text/x-python",
   "name": "python",
   "nbconvert_exporter": "python",
   "pygments_lexer": "ipython3",
   "version": "3.9.12"
  }
 },
 "nbformat": 4,
 "nbformat_minor": 5
}
