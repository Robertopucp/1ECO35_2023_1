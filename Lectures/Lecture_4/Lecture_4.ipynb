{
 "cells": [
  {
   "cell_type": "code",
   "execution_count": 5,
   "id": "10ae030c",
   "metadata": {},
   "outputs": [
    {
     "name": "stdout",
     "output_type": "stream",
     "text": [
      "120\n"
     ]
    }
   ],
   "source": [
    "def factorial(n):\n",
    "    if n == 0:\n",
    "        return 1\n",
    "    else:\n",
    "        return n * factorial(n-1)\n",
    "print(factorial(5))"
   ]
  },
  {
   "cell_type": "code",
   "execution_count": 2,
   "id": "38d9ec86",
   "metadata": {},
   "outputs": [
    {
     "name": "stdout",
     "output_type": "stream",
     "text": [
      "Estudiante 1 - Peso: 70 Talla: 1.5 IMC: 31.11111111111111 Clasificación: Moderado\n",
      "Estudiante 2 - Peso: 85 Talla: 1.8 IMC: 26.234567901234566 Clasificación: Aumentado\n",
      "Estudiante 3 - Peso: 50 Talla: 1.6 IM 19.531249999999996 Clasificación: Promedio\n"
     ]
    }
   ],
   "source": [
    "def calcular_imc(peso, talla):\n",
    "    imc = peso / (talla**2)\n",
    "    if 18.5 <= imc < 24.9:\n",
    "        clasificacion = \"Promedio\"\n",
    "    elif 25 <= imc < 29.9:\n",
    "        clasificacion = \"Aumentado\"\n",
    "    elif 30 <= imc < 34.9 :\n",
    "        clasificacion = \"Moderado\"\n",
    "    elif 35 <= imc < 39.9 :\n",
    "        clasificacion = \"Severo\"\n",
    "    else:\n",
    "        clasificacion = \"Muy Severo\"\n",
    "    return peso, talla, imc, clasificacion\n",
    "\n",
    "# Datos de los estudiantes\n",
    "estudiante1_peso = 70\n",
    "estudiante1_talla = 1.5\n",
    "estudiante2_peso = 85\n",
    "estudiante2_talla = 1.8\n",
    "estudiante3_peso = 50\n",
    "estudiante3_talla = 1.6\n",
    "\n",
    "# Cálculo del IMC y clasificación para cada estudiante\n",
    "estudiante1_peso, estudiante1_talla, estudiante1_imc, estudiante1_clasificacion = calcular_imc(estudiante1_peso, estudiante1_talla)\n",
    "estudiante2_peso, estudiante2_talla, estudiante2_imc, estudiante2_clasificacion = calcular_imc(estudiante2_peso, estudiante2_talla)\n",
    "estudiante3_peso, estudiante3_talla, estudiante3_imc, estudiante3_clasificacion = calcular_imc(estudiante3_peso, estudiante3_talla)\n",
    "\n",
    "# Imprimir resultados\n",
    "print(\"Estudiante 1 - Peso:\", estudiante1_peso, \"Talla:\", estudiante1_talla, \"IMC:\", estudiante1_imc, \"Clasificación:\", estudiante1_clasificacion)\n",
    "print(\"Estudiante 2 - Peso:\", estudiante2_peso, \"Talla:\", estudiante2_talla, \"IMC:\", estudiante2_imc, \"Clasificación:\", estudiante2_clasificacion)\n",
    "print(\"Estudiante 3 - Peso:\", estudiante3_peso, \"Talla:\", estudiante3_talla, \"IM\" , estudiante3_imc, \"Clasificación:\", estudiante3_clasificacion)\n"
   ]
  },
  {
   "cell_type": "code",
   "execution_count": 6,
   "id": "d6cbcba4",
   "metadata": {},
   "outputs": [],
   "source": [
    "import pandas as pd\n",
    "\n",
    "portafolio = pd.read_csv(r\"../../data/portafolio.csv\")\n",
    "portafolio \n",
    "import numpy as np\n",
    "\n",
    "def calculadora(data):\n",
    "    X = data['X']\n",
    "    Y = data['Y']\n",
    "    w1 = 0.2\n",
    "    w2 = 0.8"
   ]
  },
  {
   "cell_type": "code",
   "execution_count": 8,
   "id": "e97ef608",
   "metadata": {},
   "outputs": [
    {
     "data": {
      "text/plain": [
       "(0.5206743364408886, 2.7196251779069125)"
      ]
     },
     "execution_count": 8,
     "metadata": {},
     "output_type": "execute_result"
    }
   ],
   "source": [
    "import pandas as pd\n",
    "\n",
    "portafolio = pd.read_csv(r\"../../data/portafolio.csv\")\n",
    "portafolio \n",
    "import numpy as np\n",
    "\n",
    "def calculadora(data):\n",
    "    X = data['X']\n",
    "    Y = data['Y']\n",
    "    w1 = 0.2\n",
    "    w2 = 0.8\n",
    "    \n",
    "    # Coeficiente de correlación de Pearson\n",
    "    corr_coef = np.cov(X, Y)[0, 1] / (np.var(X) * np.var(Y)) ** 0.5\n",
    "    \n",
    "    # Varianza del portafolio\n",
    "    port_var = (np.var(X) * w1 * 2) + (np.var(Y) * w2 * 2) + (2 * np.cov(X, Y)[0, 1] * w1 * w2)\n",
    "    \n",
    "    return corr_coef, port_var\n",
    "\n",
    "calculadora(portafolio)"
   ]
  },
  {
   "cell_type": "code",
   "execution_count": 13,
   "id": "a4886c19",
   "metadata": {},
   "outputs": [
    {
     "name": "stdout",
     "output_type": "stream",
     "text": [
      "[0.52229141 0.47457004 0.05966135 0.81156355 0.51547269 0.65402927\n",
      " 0.21461515 0.41826351 0.19061484 0.93693786 0.13011112 0.58969019\n",
      " 0.35857916 0.76421173 0.72972421 0.4460166  0.95876898 0.29174448\n",
      " 0.80915807 0.64677366 0.74470484 0.53383484 0.27367289 0.51364127\n",
      " 0.73304017 0.61171741 0.25557779 0.48167331 0.35313158 0.50297428\n",
      " 0.31481443 0.73087437 0.75927117 0.645996   0.93677753 0.45111701\n",
      " 0.58922193 0.15519804 0.43303534 0.         0.13055379 0.1290608\n",
      " 0.25286245 0.13946488 0.80190088 0.85146428 0.28724233 0.4984227\n",
      " 0.15116077 0.62307116 0.22133961 0.28871411 0.98215225 0.63368777\n",
      " 0.6471831  0.41550042 0.88020316 0.21986182 0.54594051 0.81461201\n",
      " 0.89410873 0.09564864 0.94483549 0.72918757 0.78267366 0.35805522\n",
      " 0.31460294 0.06624729 0.99378195 0.49123406 0.95811725 0.55883655\n",
      " 0.09685077 0.43704198 0.46821564 0.60164526 0.92344324 0.66243232\n",
      " 0.72037584 0.56200772 0.92569541 0.64762068 0.20261657 0.84970162\n",
      " 0.06730847 0.15157564 0.98320615 0.3235243  0.68643121 0.36423529\n",
      " 0.20746906 0.97501321 1.         0.58230397 0.72210272 0.05696531\n",
      " 0.98657587 0.26770721 0.40050528 0.09847672]\n"
     ]
    }
   ],
   "source": [
    "datos = pd.read_csv(\"../../data/BDD_compras_consumidores.csv\")\n",
    "\n",
    "def escalamiento(x):\n",
    "    return (x - x.min()) / (x.max() - x.min())\n",
    "\n",
    "datos.loc[:, datos.select_dtypes(include=np.number).columns] = datos.select_dtypes(include=np.number).apply(escalamiento)\n",
    "\n",
    "vector = np.random.rand(100)\n",
    "vector_esc = escalamiento(vector)\n",
    "print(vector_esc)"
   ]
  },
  {
   "cell_type": "code",
   "execution_count": 15,
   "id": "9b40c3ce",
   "metadata": {},
   "outputs": [
    {
     "name": "stdout",
     "output_type": "stream",
     "text": [
      "[3.48454677e-01 5.06644385e-01 7.86694305e-01 2.15677922e-01\n",
      " 4.39333591e-01 4.12481753e-01 8.35165816e-02 1.00000000e+00\n",
      " 9.01804978e-01 9.27148837e-01 1.60121381e-01 4.43932491e-01\n",
      " 2.18715468e-01 2.17912012e-01 9.59181453e-01 3.70484455e-01\n",
      " 6.35852042e-01 8.85783771e-01 6.61800133e-01 6.34285852e-02\n",
      " 8.36523540e-01 5.00221870e-01 4.81214459e-01 4.76346416e-01\n",
      " 7.44707073e-01 2.80119977e-02 2.45066385e-01 9.00306982e-02\n",
      " 7.69982316e-01 3.75685951e-01 5.24315895e-01 2.29117187e-01\n",
      " 6.27201261e-02 3.02317490e-01 1.68186249e-01 5.74131832e-02\n",
      " 3.62172503e-01 4.67602883e-01 6.13732401e-01 3.57026134e-01\n",
      " 7.38895826e-01 2.83058011e-01 7.77083867e-01 7.92373228e-02\n",
      " 2.13210353e-01 5.90244014e-01 3.58668381e-01 3.59380776e-01\n",
      " 9.50753374e-01 8.02790294e-02 6.28938320e-01 5.17006822e-01\n",
      " 2.62296773e-01 4.33524195e-01 5.87234083e-01 3.63587069e-01\n",
      " 9.07533786e-01 9.00421193e-01 6.89493043e-01 9.89636729e-02\n",
      " 2.66969637e-01 5.30800385e-01 7.52467354e-01 2.80046637e-01\n",
      " 6.39964967e-01 5.58256965e-04 7.53359638e-02 1.11530705e-01\n",
      " 7.51255536e-01 9.84797887e-01 3.57044030e-01 2.49940861e-01\n",
      " 2.23295470e-01 8.48872259e-01 4.73743913e-01 4.31000313e-01\n",
      " 0.00000000e+00 8.29191742e-01 7.83399128e-01 8.76191293e-01\n",
      " 7.12189192e-01 2.57687591e-01 8.40708933e-02 4.81284000e-01\n",
      " 4.01120343e-01 4.58297957e-01 1.61689225e-01 3.75980056e-02\n",
      " 9.53302498e-01 7.05848799e-02 5.47013716e-01 7.57379046e-01\n",
      " 7.55780948e-01 9.92571684e-01 9.97511057e-01 5.37489185e-01\n",
      " 6.28500349e-01 4.73834738e-01 1.32188994e-01 2.57375942e-01]\n"
     ]
    }
   ],
   "source": [
    "import pandas as pd\n",
    "datos = pd.read_csv(\"../../data/BDD_compras_consumidores.csv\")\n",
    "def escalamiento(x):\n",
    "    return (x - x.min()) / (x.max() - x.min())\n",
    "datos.loc[:, datos.dtypes == 'float64'] = datos.loc[:, datos.dtypes == 'float64'].apply(escalamiento)\n",
    "import numpy as np\n",
    "vector = np.random.rand(100)\n",
    "vector_esc = escalamiento(vector)\n",
    "print(vector_esc)"
   ]
  },
  {
   "cell_type": "code",
   "execution_count": 16,
   "id": "48fea764",
   "metadata": {},
   "outputs": [
    {
     "ename": "AttributeError",
     "evalue": "module 'pandas' has no attribute 'read_xlsx'",
     "output_type": "error",
     "traceback": [
      "\u001b[1;31m---------------------------------------------------------------------------\u001b[0m",
      "\u001b[1;31mAttributeError\u001b[0m                            Traceback (most recent call last)",
      "Input \u001b[1;32mIn [16]\u001b[0m, in \u001b[0;36m<cell line: 4>\u001b[1;34m()\u001b[0m\n\u001b[0;32m      1\u001b[0m \u001b[38;5;28;01mimport\u001b[39;00m \u001b[38;5;21;01mpandas\u001b[39;00m \u001b[38;5;28;01mas\u001b[39;00m \u001b[38;5;21;01mpd\u001b[39;00m\n\u001b[0;32m      3\u001b[0m \u001b[38;5;66;03m# Cargar el archivo siagie.xlsx \u001b[39;00m\n\u001b[1;32m----> 4\u001b[0m datos \u001b[38;5;241m=\u001b[39m \u001b[43mpd\u001b[49m\u001b[38;5;241;43m.\u001b[39;49m\u001b[43mread_xlsx\u001b[49m(\u001b[38;5;124m\"\u001b[39m\u001b[38;5;124m../../data/siagie.xlsx\u001b[39m\u001b[38;5;124m\"\u001b[39m)\n\u001b[0;32m      6\u001b[0m \u001b[38;5;66;03m# Calcular la nota promedio final de cada alumno\u001b[39;00m\n\u001b[0;32m      7\u001b[0m df[\u001b[38;5;124m'\u001b[39m\u001b[38;5;124mPromedio\u001b[39m\u001b[38;5;124m'\u001b[39m] \u001b[38;5;241m=\u001b[39m df\u001b[38;5;241m.\u001b[39mmean(axis\u001b[38;5;241m=\u001b[39m\u001b[38;5;241m1\u001b[39m)\n",
      "File \u001b[1;32m~\\anaconda3\\lib\\site-packages\\pandas\\__init__.py:261\u001b[0m, in \u001b[0;36m__getattr__\u001b[1;34m(name)\u001b[0m\n\u001b[0;32m    257\u001b[0m     \u001b[38;5;28;01mfrom\u001b[39;00m \u001b[38;5;21;01mpandas\u001b[39;00m\u001b[38;5;21;01m.\u001b[39;00m\u001b[38;5;21;01mcore\u001b[39;00m\u001b[38;5;21;01m.\u001b[39;00m\u001b[38;5;21;01marrays\u001b[39;00m\u001b[38;5;21;01m.\u001b[39;00m\u001b[38;5;21;01msparse\u001b[39;00m \u001b[38;5;28;01mimport\u001b[39;00m SparseArray \u001b[38;5;28;01mas\u001b[39;00m _SparseArray\n\u001b[0;32m    259\u001b[0m     \u001b[38;5;28;01mreturn\u001b[39;00m _SparseArray\n\u001b[1;32m--> 261\u001b[0m \u001b[38;5;28;01mraise\u001b[39;00m \u001b[38;5;167;01mAttributeError\u001b[39;00m(\u001b[38;5;124mf\u001b[39m\u001b[38;5;124m\"\u001b[39m\u001b[38;5;124mmodule \u001b[39m\u001b[38;5;124m'\u001b[39m\u001b[38;5;124mpandas\u001b[39m\u001b[38;5;124m'\u001b[39m\u001b[38;5;124m has no attribute \u001b[39m\u001b[38;5;124m'\u001b[39m\u001b[38;5;132;01m{\u001b[39;00mname\u001b[38;5;132;01m}\u001b[39;00m\u001b[38;5;124m'\u001b[39m\u001b[38;5;124m\"\u001b[39m)\n",
      "\u001b[1;31mAttributeError\u001b[0m: module 'pandas' has no attribute 'read_xlsx'"
     ]
    }
   ],
   "source": [
    "import pandas as pd\n",
    "\n",
    "# Cargar el archivo siagie.xlsx \n",
    "datos = pd.read_xlsx(\"../../data/siagie.xlsx\")\n",
    "\n",
    "# Calcular la nota promedio final de cada alumno\n",
    "df['Promedio'] = df.mean(axis=1)\n",
    "\n",
    "# Calcular la nota máxima y mínima de cada alumno\n",
    "df['Nota Maxima'] = df.max(axis=1)\n",
    "df['Nota Minima'] = df.min(axis=1)\n",
    "\n",
    "# Calcular el promedio y la mediana de notas de cada curso\n",
    "promedios_cursos = df.mean()\n",
    "medianas_cursos = df.median()\n",
    "\n",
    "print('Notas promedio finales de cada alumno:')\n",
    "print(df[['Alumno', 'Promedio']])\n",
    "\n",
    "print('Nota máxima y mínima de cada alumno:')\n",
    "print(df[['Alumno', 'Nota Maxima', 'Nota Minima']])\n",
    "\n",
    "print('Promedio y mediana de notas de cada curso:')\n",
    "print(promedios_cursos)\n",
    "print(medianas_cursos)\n"
   ]
  },
  {
   "cell_type": "code",
   "execution_count": null,
   "id": "e7a0e1cb",
   "metadata": {},
   "outputs": [],
   "source": []
  }
 ],
 "metadata": {
  "kernelspec": {
   "display_name": "Python 3 (ipykernel)",
   "language": "python",
   "name": "python3"
  },
  "language_info": {
   "codemirror_mode": {
    "name": "ipython",
    "version": 3
   },
   "file_extension": ".py",
   "mimetype": "text/x-python",
   "name": "python",
   "nbconvert_exporter": "python",
   "pygments_lexer": "ipython3",

  }
 },
 "nbformat": 4,
 "nbformat_minor": 5
}
