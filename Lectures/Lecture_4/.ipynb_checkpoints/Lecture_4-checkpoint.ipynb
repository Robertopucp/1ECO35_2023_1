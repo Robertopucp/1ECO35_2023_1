{
 "cells": [
  {
   "cell_type": "code",

   "id": "10ae030c",
   "metadata": {},
   "outputs": [
    {
     "name": "stdout",
     "output_type": "stream",
     "text": [
     ]
    }
   ],
   "source": [
    "def factorial(n):\n",
    "    if n == 0:\n",
    "        return 1\n",
    "    else:\n",
    "        return n * factorial(n-1)\n",
   ]
  },
  {
   "cell_type": "code",
   "execution_count": 2,
   "id": "38d9ec86",
   "metadata": {},
   "outputs": [
    {
     "name": "stdout",
     "output_type": "stream",
     "text": [
      "Estudiante 1 - Peso: 70 Talla: 1.5 IMC: 31.11111111111111 Clasificación: Moderado\n",
      "Estudiante 2 - Peso: 85 Talla: 1.8 IMC: 26.234567901234566 Clasificación: Aumentado\n",
      "Estudiante 3 - Peso: 50 Talla: 1.6 IM 19.531249999999996 Clasificación: Promedio\n"
     ]
    }
   ],
   "source": [
    "def calcular_imc(peso, talla):\n",
    "    imc = peso / (talla**2)\n",
    "    if 18.5 <= imc < 24.9:\n",
    "        clasificacion = \"Promedio\"\n",
    "    elif 25 <= imc < 29.9:\n",
    "        clasificacion = \"Aumentado\"\n",
    "    elif 30 <= imc < 34.9 :\n",
    "        clasificacion = \"Moderado\"\n",
    "    elif 35 <= imc < 39.9 :\n",
    "        clasificacion = \"Severo\"\n",
    "    else:\n",
    "        clasificacion = \"Muy Severo\"\n",
    "    return peso, talla, imc, clasificacion\n",
    "\n",
    "# Datos de los estudiantes\n",
    "estudiante1_peso = 70\n",
    "estudiante1_talla = 1.5\n",
    "estudiante2_peso = 85\n",
    "estudiante2_talla = 1.8\n",
    "estudiante3_peso = 50\n",
    "estudiante3_talla = 1.6\n",
    "\n",
    "# Cálculo del IMC y clasificación para cada estudiante\n",
    "estudiante1_peso, estudiante1_talla, estudiante1_imc, estudiante1_clasificacion = calcular_imc(estudiante1_peso, estudiante1_talla)\n",
    "estudiante2_peso, estudiante2_talla, estudiante2_imc, estudiante2_clasificacion = calcular_imc(estudiante2_peso, estudiante2_talla)\n",
    "estudiante3_peso, estudiante3_talla, estudiante3_imc, estudiante3_clasificacion = calcular_imc(estudiante3_peso, estudiante3_talla)\n",
    "\n",
    "# Imprimir resultados\n",
    "print(\"Estudiante 1 - Peso:\", estudiante1_peso, \"Talla:\", estudiante1_talla, \"IMC:\", estudiante1_imc, \"Clasificación:\", estudiante1_clasificacion)\n",
    "print(\"Estudiante 2 - Peso:\", estudiante2_peso, \"Talla:\", estudiante2_talla, \"IMC:\", estudiante2_imc, \"Clasificación:\", estudiante2_clasificacion)\n",
    "print(\"Estudiante 3 - Peso:\", estudiante3_peso, \"Talla:\", estudiante3_talla, \"IM\" , estudiante3_imc, \"Clasificación:\", estudiante3_clasificacion)\n"
   ]
  },
  {
   "cell_type": "code",
   "metadata": {},
   "outputs": [],
   "source": [
    "import pandas as pd\n",
   ]
  },
  {
   "cell_type": "code",
   "metadata": {},
   "outputs": [
    {
     "data": {
      "text/plain": [
     "metadata": {},
     "output_type": "execute_result"
    }
   ],
   "source": [
   ]
  },
  {
   "cell_type": "code",
   ]
  },
  {
   "cell_type": "code",
   "execution_count": null,
   "metadata": {},
   "outputs": [],
   "source": []
  }
 ],
 "metadata": {
  "kernelspec": {
   "display_name": "Python 3 (ipykernel)",
   "language": "python",
   "name": "python3"
  },
  "language_info": {
   "codemirror_mode": {
    "name": "ipython",
    "version": 3
   },
   "file_extension": ".py",
   "mimetype": "text/x-python",
   "name": "python",
   "nbconvert_exporter": "python",
   "pygments_lexer": "ipython3",
  }
 },
 "nbformat": 4,
 "nbformat_minor": 5
}
