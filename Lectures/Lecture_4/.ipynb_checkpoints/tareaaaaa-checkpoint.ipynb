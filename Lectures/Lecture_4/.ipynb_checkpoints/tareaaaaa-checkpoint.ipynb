{
 "cells": [
  {
   "cell_type": "code",
   "execution_count": 1,
   "id": "10ae030c",
   "metadata": {},
   "outputs": [
    {
     "name": "stdout",
     "output_type": "stream",
     "text": [
      "120\n"
     ]
    }
   ],
   "source": [
    "#Creamos una funcion que permita calcular el factorial del numero (n).  \n",
    "def factorial(n):\n",
    "    if n == 0:\n",
    "        return 1\n",
    "    else:\n",
    "        return n * factorial(n-1)\n",
    "print(factorial(5))"
   ]
  },
  {
   "cell_type": "code",
   "execution_count": 2,
   "id": "38d9ec86",
   "metadata": {},
   "outputs": [
    {
     "name": "stdout",
     "output_type": "stream",
     "text": [
      "Estudiante 1 - Peso: 70 Talla: 1.5 IMC: 31.11111111111111 Clasificación: Obesidad grado I\n",
      "Estudiante 2 - Peso: 85 Talla: 1.8 IMC: 26.234567901234566 Clasificación: Sobrepeso\n",
      "Estudiante 3 - Peso: 50 Talla: 1.6 IM 19.531249999999996 Clasificación: Normal\n"
     ]
    }
   ],
   "source": [
    "#Creamos una funcion de masa corporal\n",
    "def calcular_imc(peso, talla):\n",
    "    imc = peso / (talla**2)\n",
    "    if 18.5 <= imc < 24.9:\n",
    "        clasificacion = \"Normal\"\n",
    "    elif 25 <= imc < 29.9:\n",
    "        clasificacion = \"Sobrepeso\"\n",
    "    elif 30 <= imc < 34.9 :\n",
    "        clasificacion = \"Obesidad grado I\"\n",
    "    elif 35 <= imc < 39.9 :\n",
    "        clasificacion = \"Obesidad grado II\"\n",
    "    else:\n",
    "        clasificacion = \"Obesidad grado III\"\n",
    "    return peso, talla, imc, clasificacion\n",
    "\n",
    "# Datos de los estudiantes\n",
    "estudiante1_peso = 70\n",
    "estudiante1_talla = 1.5\n",
    "estudiante2_peso = 85\n",
    "estudiante2_talla = 1.8\n",
    "estudiante3_peso = 50\n",
    "estudiante3_talla = 1.6\n",
    "\n",
    "# Cálculo del IMC y clasificación para cada estudiante\n",
    "estudiante1_peso, estudiante1_talla, estudiante1_imc, estudiante1_clasificacion = calcular_imc(estudiante1_peso, estudiante1_talla)\n",
    "estudiante2_peso, estudiante2_talla, estudiante2_imc, estudiante2_clasificacion = calcular_imc(estudiante2_peso, estudiante2_talla)\n",
    "estudiante3_peso, estudiante3_talla, estudiante3_imc, estudiante3_clasificacion = calcular_imc(estudiante3_peso, estudiante3_talla)\n",
    "\n",
    "# Imprimir resultados\n",
    "print(\"Estudiante 1 - Peso:\", estudiante1_peso, \"Talla:\", estudiante1_talla, \"IMC:\", estudiante1_imc, \"Clasificación:\", estudiante1_clasificacion)\n",
    "print(\"Estudiante 2 - Peso:\", estudiante2_peso, \"Talla:\", estudiante2_talla, \"IMC:\", estudiante2_imc, \"Clasificación:\", estudiante2_clasificacion)\n",
    "print(\"Estudiante 3 - Peso:\", estudiante3_peso, \"Talla:\", estudiante3_talla, \"IM\" , estudiante3_imc, \"Clasificación:\", estudiante3_clasificacion)\n"
   ]
  },
  {
   "cell_type": "code",
   "execution_count": 3,
   "id": "d6cbcba4",
   "metadata": {},
   "outputs": [],
   "source": [
    "#Funcion aplicado a 2 activos financieros\n",
    "import pandas as pd\n",
    "\n",
    "portafolio = pd.read_csv(r\"../../data/portafolio.csv\")\n",
    "portafolio \n",
    "import numpy as np\n",
    "\n",
    "def calculadora(data):\n",
    "    X = data['X']\n",
    "    Y = data['Y']\n",
    "    w1 = 0.2\n",
    "    w2 = 0.8"
   ]
  },
  {
   "cell_type": "code",
   "execution_count": 4,
   "id": "e97ef608",
   "metadata": {},
   "outputs": [
    {
     "data": {
      "text/plain": [
       "(0.5206743364408886, 2.7196251779069125)"
      ]
     },
     "execution_count": 4,
     "metadata": {},
     "output_type": "execute_result"
    }
   ],
   "source": [
    "# Coeficiente de Pearson de 2 variables aleatorias\n",
    "import pandas as pd\n",
    "\n",
    "portafolio = pd.read_csv(r\"../../data/portafolio.csv\")\n",
    "portafolio \n",
    "import numpy as np\n",
    "\n",
    "def calculadora(data):\n",
    "    X = data['X']\n",
    "    Y = data['Y']\n",
    "    w1 = 0.2\n",
    "    w2 = 0.8\n",
    "    \n",
    "    # Coeficiente de correlación de Pearson\n",
    "    corr_coef = np.cov(X, Y)[0, 1] / (np.var(X) * np.var(Y)) ** 0.5\n",
    "    \n",
    "    # Varianza del portafolio\n",
    "    port_var = (np.var(X) * w1 * 2) + (np.var(Y) * w2 * 2) + (2 * np.cov(X, Y)[0, 1] * w1 * w2)\n",
    "    \n",
    "    return corr_coef, port_var\n",
    "\n",
    "calculadora(portafolio)"
   ]
  },
  {
   "cell_type": "code",
   "execution_count": 5,
   "id": "a4886c19",
   "metadata": {},
   "outputs": [
    {
     "name": "stdout",
     "output_type": "stream",
     "text": [
      "[0.20117918 0.70851222 0.89012911 0.3414706  0.67993374 0.05486307\n",
      " 0.69926679 0.10835915 0.54041666 0.56614279 0.23128375 0.59007052\n",
      " 0.21069236 0.08913257 0.20659585 0.59036337 0.97484178 0.1525108\n",
      " 0.70779819 0.93637331 0.5462576  0.25865071 0.10760391 0.14459375\n",
      " 0.9883546  0.90133739 0.08600821 0.7228244  0.86903768 0.60458065\n",
      " 0.14456738 0.8457425  0.62978631 0.32452893 0.65024789 0.85884731\n",
      " 0.91303264 0.46872202 0.61617752 0.28335311 0.50059966 0.26807851\n",
      " 0.60849817 0.38786692 0.20403975 0.55780816 0.81917958 0.88898395\n",
      " 0.14878095 0.80494612 0.91721268 0.57959903 0.48877039 0.\n",
      " 0.1220449  0.52079802 0.71876072 0.39012231 0.85653912 0.05127891\n",
      " 0.14082922 0.99048698 0.78074879 0.86939465 0.6941025  0.69801264\n",
      " 0.12206632 0.55849975 0.08279785 0.69214918 0.18477726 0.7608574\n",
      " 0.726606   0.36595921 0.61956095 0.46617383 0.88338638 0.89556703\n",
      " 0.36730378 0.87784081 0.38425253 0.1796843  0.5953132  0.98700972\n",
      " 0.61864586 0.02726178 0.43394188 0.85621534 0.51412047 0.16153307\n",
      " 0.87262007 0.45034915 1.         0.04719519 0.18779514 0.83996966\n",
      " 0.67143382 0.43696568 0.95865391 0.85199758]\n"
     ]
    }
   ],
   "source": [
    "datos = pd.read_csv(\"../../data/BDD_compras_consumidores.csv\")\n",
    "\n",
    "def escalamiento(x):\n",
    "    return (x - x.min()) / (x.max() - x.min())\n",
    "\n",
    "datos.loc[:, datos.select_dtypes(include=np.number).columns] = datos.select_dtypes(include=np.number).apply(escalamiento)\n",
    "\n",
    "vector = np.random.rand(100)\n",
    "vector_esc = escalamiento(vector)\n",
    "print(vector_esc)"
   ]
  },
  {
   "cell_type": "code",
   "execution_count": 6,
   "id": "9b40c3ce",
   "metadata": {},
   "outputs": [
    {
     "name": "stdout",
     "output_type": "stream",
     "text": [
      "[0.9289934  0.46246887 0.94407409 0.24134886 0.197453   0.7298092\n",
      " 0.49194262 0.35602411 0.28322417 0.76699533 0.62510935 0.37476842\n",
      " 0.46794753 0.35277033 0.42058894 0.22619883 0.26100424 0.41988461\n",
      " 0.14385918 0.99418806 0.60694278 0.39304434 0.82618952 0.59336995\n",
      " 0.20428428 0.61635992 0.49325718 0.1700031  0.38257818 0.89262194\n",
      " 0.15951657 0.79882909 0.33230465 0.02598153 0.34929564 0.9770419\n",
      " 0.09374028 0.05829113 0.34362251 0.79141864 0.14208824 0.43104502\n",
      " 0.23080962 0.69826043 0.73455367 0.13629972 0.18560332 0.88177319\n",
      " 0.14162693 0.75210379 0.15250078 0.54067653 0.02398511 0.23180983\n",
      " 0.28154826 0.70205377 0.57877952 0.22255306 0.60874532 0.1225897\n",
      " 0.8426659  0.97960868 0.91908914 0.38179115 0.50905398 0.24533932\n",
      " 0.88701725 0.44007261 0.13946798 0.83821291 0.56679319 0.84524201\n",
      " 0.88841871 0.66058073 0.72317569 0.62632828 0.28665772 0.68687431\n",
      " 0.50908452 0.23747998 0.         0.08175124 1.         0.23263841\n",
      " 0.86475294 0.92061804 0.85665064 0.92148159 0.81699832 0.67851483\n",
      " 0.94325523 0.40831366 0.4079308  0.27333879 0.40729095 0.47261517\n",
      " 0.78827245 0.84188452 0.17577162 0.50054397]\n"
     ]
    }
   ],
   "source": [
    "import pandas as pd\n",
    "datos = pd.read_csv(\"../../data/BDD_compras_consumidores.csv\")\n",
    "def escalamiento(x):\n",
    "    return (x - x.min()) / (x.max() - x.min())\n",
    "datos.loc[:, datos.dtypes == 'float64'] = datos.loc[:, datos.dtypes == 'float64'].apply(escalamiento)\n",
    "import numpy as np\n",
    "vector = np.random.rand(100)\n",
    "vector_esc = escalamiento(vector)\n",
    "print(vector_esc)"
   ]
  },
  {
   "cell_type": "code",
   "execution_count": 8,
   "id": "48fea764",
   "metadata": {},
   "outputs": [
    {
     "ename": "AttributeError",
     "evalue": "module 'pandas' has no attribute 'read_xlsx'",
     "output_type": "error",
     "traceback": [
      "\u001b[1;31m---------------------------------------------------------------------------\u001b[0m",
      "\u001b[1;31mAttributeError\u001b[0m                            Traceback (most recent call last)",
      "Input \u001b[1;32mIn [8]\u001b[0m, in \u001b[0;36m<cell line: 4>\u001b[1;34m()\u001b[0m\n\u001b[0;32m      1\u001b[0m \u001b[38;5;28;01mimport\u001b[39;00m \u001b[38;5;21;01mpandas\u001b[39;00m \u001b[38;5;28;01mas\u001b[39;00m \u001b[38;5;21;01mpd\u001b[39;00m\n\u001b[0;32m      3\u001b[0m \u001b[38;5;66;03m# Cargar el archivo siagie.xlsx \u001b[39;00m\n\u001b[1;32m----> 4\u001b[0m datos \u001b[38;5;241m=\u001b[39m \u001b[43mpd\u001b[49m\u001b[38;5;241;43m.\u001b[39;49m\u001b[43mread_xlsx\u001b[49m(\u001b[38;5;124m\"\u001b[39m\u001b[38;5;124m../../data/siagie.xlsx\u001b[39m\u001b[38;5;124m\"\u001b[39m)\n\u001b[0;32m      6\u001b[0m \u001b[38;5;66;03m# Calcular la nota promedio final de cada alumno\u001b[39;00m\n\u001b[0;32m      7\u001b[0m datos[\u001b[38;5;124m'\u001b[39m\u001b[38;5;124mPromedio\u001b[39m\u001b[38;5;124m'\u001b[39m] \u001b[38;5;241m=\u001b[39m df\u001b[38;5;241m.\u001b[39mmean(axis\u001b[38;5;241m=\u001b[39m\u001b[38;5;241m1\u001b[39m)\n",
      "File \u001b[1;32m~\\anaconda3\\lib\\site-packages\\pandas\\__init__.py:261\u001b[0m, in \u001b[0;36m__getattr__\u001b[1;34m(name)\u001b[0m\n\u001b[0;32m    257\u001b[0m     \u001b[38;5;28;01mfrom\u001b[39;00m \u001b[38;5;21;01mpandas\u001b[39;00m\u001b[38;5;21;01m.\u001b[39;00m\u001b[38;5;21;01mcore\u001b[39;00m\u001b[38;5;21;01m.\u001b[39;00m\u001b[38;5;21;01marrays\u001b[39;00m\u001b[38;5;21;01m.\u001b[39;00m\u001b[38;5;21;01msparse\u001b[39;00m \u001b[38;5;28;01mimport\u001b[39;00m SparseArray \u001b[38;5;28;01mas\u001b[39;00m _SparseArray\n\u001b[0;32m    259\u001b[0m     \u001b[38;5;28;01mreturn\u001b[39;00m _SparseArray\n\u001b[1;32m--> 261\u001b[0m \u001b[38;5;28;01mraise\u001b[39;00m \u001b[38;5;167;01mAttributeError\u001b[39;00m(\u001b[38;5;124mf\u001b[39m\u001b[38;5;124m\"\u001b[39m\u001b[38;5;124mmodule \u001b[39m\u001b[38;5;124m'\u001b[39m\u001b[38;5;124mpandas\u001b[39m\u001b[38;5;124m'\u001b[39m\u001b[38;5;124m has no attribute \u001b[39m\u001b[38;5;124m'\u001b[39m\u001b[38;5;132;01m{\u001b[39;00mname\u001b[38;5;132;01m}\u001b[39;00m\u001b[38;5;124m'\u001b[39m\u001b[38;5;124m\"\u001b[39m)\n",
      "\u001b[1;31mAttributeError\u001b[0m: module 'pandas' has no attribute 'read_xlsx'"
     ]
    }
   ],
   "source": [
    "import pandas as pd\n",
    "\n",
    "# Cargar el archivo siagie.xlsx \n",
    "datos = pd.read_xlsx(\"../../data/siagie.xlsx\")\n",
    "\n",
    "# Calcular la nota promedio final de cada alumno\n",
    "datos['Promedio'] = datos.mean(axis=1)\n",
    "\n",
    "# Calcular la nota máxima y mínima de cada alumno\n",
    "datos['Nota Maxima'] = datos.max(axis=1)\n",
    "datos['Nota Minima'] = datos.min(axis=1)\n",
    "\n",
    "# Calcular el promedio y la mediana de notas de cada curso\n",
    "promedios_cursos = datos.mean()\n",
    "medianas_cursos = datos.median()\n",
    "\n",
    "print('Notas promedio finales de cada alumno:')\n",
    "print(datos[['Alumno', 'Promedio']])\n",
    "\n",
    "print('Nota máxima y mínima de cada alumno:')\n",
    "print(datos[['Alumno', 'Nota Maxima', 'Nota Minima']])\n",
    "\n",
    "print('Promedio y mediana de notas de cada curso:')\n",
    "print(promedios_cursos)\n",
    "print(medianas_cursos)\n"
   ]
  },
  {
   "cell_type": "code",
   "execution_count": null,
   "id": "e7a0e1cb",
   "metadata": {},
   "outputs": [],
   "source": []
  }
 ],
 "metadata": {
  "kernelspec": {
   "display_name": "Python 3 (ipykernel)",
   "language": "python",
   "name": "python3"
  },
  "language_info": {
   "codemirror_mode": {
    "name": "ipython",
    "version": 3
   },
   "file_extension": ".py",
   "mimetype": "text/x-python",
   "name": "python",
   "nbconvert_exporter": "python",
   "pygments_lexer": "ipython3",
   "version": "3.9.12"
  }
 },
 "nbformat": 4,
 "nbformat_minor": 5
}
