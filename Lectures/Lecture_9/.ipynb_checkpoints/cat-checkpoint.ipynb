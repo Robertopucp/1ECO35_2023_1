{
 "cells": [
  {
   "cell_type": "code",
   "execution_count": 1,
   "id": "db115b3a",
   "metadata": {},
   "outputs": [
    {
     "name": "stdout",
     "output_type": "stream",
     "text": [
      "Requirement already satisfied: ghostscript in c:\\users\\hp\\anaconda3\\lib\\site-packages (0.7)\n",
      "Requirement already satisfied: setuptools>=38.6.0 in c:\\users\\hp\\anaconda3\\lib\\site-packages (from ghostscript) (65.6.3)\n",
      "Requirement already satisfied: camelot-py[cv] in c:\\users\\hp\\anaconda3\\lib\\site-packages (0.9.0)\n",
      "Requirement already satisfied: pdfminer.six>=20200726 in c:\\users\\hp\\anaconda3\\lib\\site-packages (from camelot-py[cv]) (20221105)\n",
      "Requirement already satisfied: openpyxl>=2.5.8 in c:\\users\\hp\\anaconda3\\lib\\site-packages (from camelot-py[cv]) (3.0.10)\n",
      "Requirement already satisfied: numpy>=1.13.3 in c:\\users\\hp\\anaconda3\\lib\\site-packages (from camelot-py[cv]) (1.23.5)\n",
      "Requirement already satisfied: chardet>=3.0.4 in c:\\users\\hp\\anaconda3\\lib\\site-packages (from camelot-py[cv]) (4.0.0)\n",
      "Requirement already satisfied: click>=6.7 in c:\\users\\hp\\anaconda3\\lib\\site-packages (from camelot-py[cv]) (8.1.3)\n",
      "Requirement already satisfied: PyPDF2>=1.26.0 in c:\\users\\hp\\anaconda3\\lib\\site-packages (from camelot-py[cv]) (2.12.1)\n",
      "Requirement already satisfied: pandas>=0.23.4 in c:\\users\\hp\\anaconda3\\lib\\site-packages (from camelot-py[cv]) (1.5.3)\n",
      "Requirement already satisfied: opencv-python>=3.4.2.17 in c:\\users\\hp\\anaconda3\\lib\\site-packages (from camelot-py[cv]) (4.7.0.72)\n",
      "Requirement already satisfied: colorama in c:\\users\\hp\\anaconda3\\lib\\site-packages (from click>=6.7->camelot-py[cv]) (0.4.6)\n",
      "Requirement already satisfied: et_xmlfile in c:\\users\\hp\\anaconda3\\lib\\site-packages (from openpyxl>=2.5.8->camelot-py[cv]) (1.1.0)\n",
      "Requirement already satisfied: pytz>=2020.1 in c:\\users\\hp\\anaconda3\\lib\\site-packages (from pandas>=0.23.4->camelot-py[cv]) (2022.7)\n",
      "Requirement already satisfied: python-dateutil>=2.8.1 in c:\\users\\hp\\anaconda3\\lib\\site-packages (from pandas>=0.23.4->camelot-py[cv]) (2.8.2)\n",
      "Requirement already satisfied: cryptography>=36.0.0 in c:\\users\\hp\\anaconda3\\lib\\site-packages (from pdfminer.six>=20200726->camelot-py[cv]) (39.0.1)\n",
      "Requirement already satisfied: charset-normalizer>=2.0.0 in c:\\users\\hp\\anaconda3\\lib\\site-packages (from pdfminer.six>=20200726->camelot-py[cv]) (2.0.4)\n",
      "Requirement already satisfied: cffi>=1.12 in c:\\users\\hp\\anaconda3\\lib\\site-packages (from cryptography>=36.0.0->pdfminer.six>=20200726->camelot-py[cv]) (1.15.1)\n",
      "Requirement already satisfied: six>=1.5 in c:\\users\\hp\\anaconda3\\lib\\site-packages (from python-dateutil>=2.8.1->pandas>=0.23.4->camelot-py[cv]) (1.16.0)\n",
      "Requirement already satisfied: pycparser in c:\\users\\hp\\anaconda3\\lib\\site-packages (from cffi>=1.12->cryptography>=36.0.0->pdfminer.six>=20200726->camelot-py[cv]) (2.21)\n",
      "Requirement already satisfied: excalibur-py in c:\\users\\hp\\anaconda3\\lib\\site-packages (0.4.3)\n",
      "Requirement already satisfied: SQLAlchemy>=1.2.12 in c:\\users\\hp\\anaconda3\\lib\\site-packages (from excalibur-py) (1.4.39)\n",
      "Requirement already satisfied: Click>=7.0 in c:\\users\\hp\\anaconda3\\lib\\site-packages (from excalibur-py) (8.1.3)\n",
      "Requirement already satisfied: Werkzeug<1.0.0 in c:\\users\\hp\\anaconda3\\lib\\site-packages (from excalibur-py) (0.16.1)\n",
      "Requirement already satisfied: celery>=4.1.1 in c:\\users\\hp\\anaconda3\\lib\\site-packages (from excalibur-py) (5.3.0)\n",
      "Requirement already satisfied: Flask>=1.0.2 in c:\\users\\hp\\anaconda3\\lib\\site-packages (from excalibur-py) (1.1.2)\n",
      "Requirement already satisfied: camelot-py[cv]>=0.7.1 in c:\\users\\hp\\anaconda3\\lib\\site-packages (from excalibur-py) (0.9.0)\n",
      "Requirement already satisfied: configparser<3.6.0,>=3.5.0 in c:\\users\\hp\\anaconda3\\lib\\site-packages (from excalibur-py) (3.5.3)\n",
      "Requirement already satisfied: PyPDF2>=1.26.0 in c:\\users\\hp\\anaconda3\\lib\\site-packages (from camelot-py[cv]>=0.7.1->excalibur-py) (2.12.1)\n",
      "Requirement already satisfied: numpy>=1.13.3 in c:\\users\\hp\\anaconda3\\lib\\site-packages (from camelot-py[cv]>=0.7.1->excalibur-py) (1.23.5)\n",
      "Requirement already satisfied: openpyxl>=2.5.8 in c:\\users\\hp\\anaconda3\\lib\\site-packages (from camelot-py[cv]>=0.7.1->excalibur-py) (3.0.10)\n",
      "Requirement already satisfied: chardet>=3.0.4 in c:\\users\\hp\\anaconda3\\lib\\site-packages (from camelot-py[cv]>=0.7.1->excalibur-py) (4.0.0)\n",
      "Requirement already satisfied: pandas>=0.23.4 in c:\\users\\hp\\anaconda3\\lib\\site-packages (from camelot-py[cv]>=0.7.1->excalibur-py) (1.5.3)\n",
      "Requirement already satisfied: pdfminer.six>=20200726 in c:\\users\\hp\\anaconda3\\lib\\site-packages (from camelot-py[cv]>=0.7.1->excalibur-py) (20221105)\n",
      "Requirement already satisfied: opencv-python>=3.4.2.17 in c:\\users\\hp\\anaconda3\\lib\\site-packages (from camelot-py[cv]>=0.7.1->excalibur-py) (4.7.0.72)\n",
      "Requirement already satisfied: click-didyoumean>=0.3.0 in c:\\users\\hp\\anaconda3\\lib\\site-packages (from celery>=4.1.1->excalibur-py) (0.3.0)\n",
      "Requirement already satisfied: click-plugins>=1.1.1 in c:\\users\\hp\\anaconda3\\lib\\site-packages (from celery>=4.1.1->excalibur-py) (1.1.1)\n",
      "Requirement already satisfied: click-repl>=0.2.0 in c:\\users\\hp\\anaconda3\\lib\\site-packages (from celery>=4.1.1->excalibur-py) (0.2.0)\n",
      "Requirement already satisfied: billiard<5.0,>=4.1.0 in c:\\users\\hp\\anaconda3\\lib\\site-packages (from celery>=4.1.1->excalibur-py) (4.1.0)\n",
      "Requirement already satisfied: vine<6.0,>=5.0.0 in c:\\users\\hp\\anaconda3\\lib\\site-packages (from celery>=4.1.1->excalibur-py) (5.0.0)\n",
      "Requirement already satisfied: tzdata>=2022.7 in c:\\users\\hp\\anaconda3\\lib\\site-packages (from celery>=4.1.1->excalibur-py) (2023.3)\n",
      "Requirement already satisfied: kombu<6.0,>=5.3.0 in c:\\users\\hp\\anaconda3\\lib\\site-packages (from celery>=4.1.1->excalibur-py) (5.3.0)\n",
      "Requirement already satisfied: python-dateutil>=2.8.2 in c:\\users\\hp\\anaconda3\\lib\\site-packages (from celery>=4.1.1->excalibur-py) (2.8.2)\n",
      "Requirement already satisfied: colorama in c:\\users\\hp\\anaconda3\\lib\\site-packages (from Click>=7.0->excalibur-py) (0.4.6)\n",
      "Requirement already satisfied: Jinja2>=2.10.1 in c:\\users\\hp\\anaconda3\\lib\\site-packages (from Flask>=1.0.2->excalibur-py) (3.1.2)\n",
      "Requirement already satisfied: itsdangerous>=0.24 in c:\\users\\hp\\anaconda3\\lib\\site-packages (from Flask>=1.0.2->excalibur-py) (2.0.1)\n",
      "Requirement already satisfied: greenlet!=0.4.17 in c:\\users\\hp\\anaconda3\\lib\\site-packages (from SQLAlchemy>=1.2.12->excalibur-py) (2.0.1)\n",
      "Requirement already satisfied: six in c:\\users\\hp\\anaconda3\\lib\\site-packages (from click-repl>=0.2.0->celery>=4.1.1->excalibur-py) (1.16.0)\n",
      "Requirement already satisfied: prompt-toolkit in c:\\users\\hp\\anaconda3\\lib\\site-packages (from click-repl>=0.2.0->celery>=4.1.1->excalibur-py) (3.0.36)\n",
      "Requirement already satisfied: MarkupSafe>=2.0 in c:\\users\\hp\\anaconda3\\lib\\site-packages (from Jinja2>=2.10.1->Flask>=1.0.2->excalibur-py) (2.1.1)\n",
      "Requirement already satisfied: amqp<6.0.0,>=5.1.1 in c:\\users\\hp\\anaconda3\\lib\\site-packages (from kombu<6.0,>=5.3.0->celery>=4.1.1->excalibur-py) (5.1.1)\n",
      "Requirement already satisfied: et_xmlfile in c:\\users\\hp\\anaconda3\\lib\\site-packages (from openpyxl>=2.5.8->camelot-py[cv]>=0.7.1->excalibur-py) (1.1.0)\n",
      "Requirement already satisfied: pytz>=2020.1 in c:\\users\\hp\\anaconda3\\lib\\site-packages (from pandas>=0.23.4->camelot-py[cv]>=0.7.1->excalibur-py) (2022.7)\n",
      "Requirement already satisfied: charset-normalizer>=2.0.0 in c:\\users\\hp\\anaconda3\\lib\\site-packages (from pdfminer.six>=20200726->camelot-py[cv]>=0.7.1->excalibur-py) (2.0.4)\n",
      "Requirement already satisfied: cryptography>=36.0.0 in c:\\users\\hp\\anaconda3\\lib\\site-packages (from pdfminer.six>=20200726->camelot-py[cv]>=0.7.1->excalibur-py) (39.0.1)\n",
      "Requirement already satisfied: cffi>=1.12 in c:\\users\\hp\\anaconda3\\lib\\site-packages (from cryptography>=36.0.0->pdfminer.six>=20200726->camelot-py[cv]>=0.7.1->excalibur-py) (1.15.1)\n",
      "Requirement already satisfied: wcwidth in c:\\users\\hp\\anaconda3\\lib\\site-packages (from prompt-toolkit->click-repl>=0.2.0->celery>=4.1.1->excalibur-py) (0.2.5)\n",
      "Requirement already satisfied: pycparser in c:\\users\\hp\\anaconda3\\lib\\site-packages (from cffi>=1.12->cryptography>=36.0.0->pdfminer.six>=20200726->camelot-py[cv]>=0.7.1->excalibur-py) (2.21)\n"
     ]
    },
    {
     "name": "stderr",
     "output_type": "stream",
     "text": [
      "\"apt\" no se reconoce como un comando interno o externo,\n",
      "programa o archivo por lotes ejecutable.\n"
     ]
    },
    {
     "name": "stdout",
     "output_type": "stream",
     "text": [
      "Requirement already satisfied: PyPDF2==2.12.1 in c:\\users\\hp\\anaconda3\\lib\\site-packages (2.12.1)\n"
     ]
    }
   ],
   "source": [
    "#intalamos codigos\n",
    "!pip install ghostscript\n",
    "!pip install camelot-py[cv]\n",
    "!pip install excalibur-py\n",
    "!apt install ghostscript python3-tk\n",
    "\n",
    "!pip install --upgrade PyPDF2==2.12.1\n"
   ]
  },
  {
   "cell_type": "code",
   "execution_count": 2,
   "id": "5cd6748c",
   "metadata": {},
   "outputs": [],
   "source": [
    "# importamos librerias\n",
    "import camelot as cm  \n",
    "import numpy as np\n",
    "import pandas as pd\n",
    "from pandas import Series, DataFrame\n",
    "import os\n",
    "from PyPDF2 import PdfFileReader\n",
    "import re "
   ]
  },
  {
   "cell_type": "code",
   "execution_count": 3,
   "id": "faf83ff7",
   "metadata": {},
   "outputs": [
    {
     "ename": "FileNotFoundError",
     "evalue": "[Errno 2] No such file or directory: '/content/sample_data/G6_APURIMAC.pdf'",
     "output_type": "error",
     "traceback": [
      "\u001b[1;31m---------------------------------------------------------------------------\u001b[0m",
      "\u001b[1;31mFileNotFoundError\u001b[0m                         Traceback (most recent call last)",
      "Cell \u001b[1;32mIn[3], line 2\u001b[0m\n\u001b[0;32m      1\u001b[0m \u001b[38;5;66;03m#Trabajamos con el pdf que nos toco\u001b[39;00m\n\u001b[1;32m----> 2\u001b[0m tables \u001b[38;5;241m=\u001b[39m \u001b[43mcm\u001b[49m\u001b[38;5;241;43m.\u001b[39;49m\u001b[43mread_pdf\u001b[49m\u001b[43m(\u001b[49m\u001b[38;5;124;43m\"\u001b[39;49m\u001b[38;5;124;43m/content/sample_data/G6_APURIMAC.pdf\u001b[39;49m\u001b[38;5;124;43m\"\u001b[39;49m\u001b[43m)\u001b[49m\n",
      "File \u001b[1;32m~\\anaconda3\\lib\\site-packages\\camelot\\io.py:113\u001b[0m, in \u001b[0;36mread_pdf\u001b[1;34m(filepath, pages, password, flavor, suppress_stdout, layout_kwargs, **kwargs)\u001b[0m\n\u001b[0;32m    111\u001b[0m p \u001b[38;5;241m=\u001b[39m PDFHandler(filepath, pages\u001b[38;5;241m=\u001b[39mpages, password\u001b[38;5;241m=\u001b[39mpassword)\n\u001b[0;32m    112\u001b[0m kwargs \u001b[38;5;241m=\u001b[39m remove_extra(kwargs, flavor\u001b[38;5;241m=\u001b[39mflavor)\n\u001b[1;32m--> 113\u001b[0m tables \u001b[38;5;241m=\u001b[39m p\u001b[38;5;241m.\u001b[39mparse(\n\u001b[0;32m    114\u001b[0m     flavor\u001b[38;5;241m=\u001b[39mflavor,\n\u001b[0;32m    115\u001b[0m     suppress_stdout\u001b[38;5;241m=\u001b[39msuppress_stdout,\n\u001b[0;32m    116\u001b[0m     layout_kwargs\u001b[38;5;241m=\u001b[39mlayout_kwargs,\n\u001b[0;32m    117\u001b[0m     \u001b[38;5;241m*\u001b[39m\u001b[38;5;241m*\u001b[39mkwargs\n\u001b[0;32m    118\u001b[0m )\n\u001b[0;32m    119\u001b[0m \u001b[38;5;28;01mreturn\u001b[39;00m tables\n",
      "File \u001b[1;32m~\\anaconda3\\lib\\site-packages\\camelot\\handlers.py:169\u001b[0m, in \u001b[0;36mPDFHandler.parse\u001b[1;34m(self, flavor, suppress_stdout, layout_kwargs, **kwargs)\u001b[0m\n\u001b[0;32m    167\u001b[0m \u001b[38;5;28;01mwith\u001b[39;00m TemporaryDirectory() \u001b[38;5;28;01mas\u001b[39;00m tempdir:\n\u001b[0;32m    168\u001b[0m     \u001b[38;5;28;01mfor\u001b[39;00m p \u001b[38;5;129;01min\u001b[39;00m \u001b[38;5;28mself\u001b[39m\u001b[38;5;241m.\u001b[39mpages:\n\u001b[1;32m--> 169\u001b[0m         \u001b[38;5;28;43mself\u001b[39;49m\u001b[38;5;241;43m.\u001b[39;49m\u001b[43m_save_page\u001b[49m\u001b[43m(\u001b[49m\u001b[38;5;28;43mself\u001b[39;49m\u001b[38;5;241;43m.\u001b[39;49m\u001b[43mfilepath\u001b[49m\u001b[43m,\u001b[49m\u001b[43m \u001b[49m\u001b[43mp\u001b[49m\u001b[43m,\u001b[49m\u001b[43m \u001b[49m\u001b[43mtempdir\u001b[49m\u001b[43m)\u001b[49m\n\u001b[0;32m    170\u001b[0m     pages \u001b[38;5;241m=\u001b[39m [os\u001b[38;5;241m.\u001b[39mpath\u001b[38;5;241m.\u001b[39mjoin(tempdir, \u001b[38;5;124mf\u001b[39m\u001b[38;5;124m\"\u001b[39m\u001b[38;5;124mpage-\u001b[39m\u001b[38;5;132;01m{\u001b[39;00mp\u001b[38;5;132;01m}\u001b[39;00m\u001b[38;5;124m.pdf\u001b[39m\u001b[38;5;124m\"\u001b[39m) \u001b[38;5;28;01mfor\u001b[39;00m p \u001b[38;5;129;01min\u001b[39;00m \u001b[38;5;28mself\u001b[39m\u001b[38;5;241m.\u001b[39mpages]\n\u001b[0;32m    171\u001b[0m     parser \u001b[38;5;241m=\u001b[39m Lattice(\u001b[38;5;241m*\u001b[39m\u001b[38;5;241m*\u001b[39mkwargs) \u001b[38;5;28;01mif\u001b[39;00m flavor \u001b[38;5;241m==\u001b[39m \u001b[38;5;124m\"\u001b[39m\u001b[38;5;124mlattice\u001b[39m\u001b[38;5;124m\"\u001b[39m \u001b[38;5;28;01melse\u001b[39;00m Stream(\u001b[38;5;241m*\u001b[39m\u001b[38;5;241m*\u001b[39mkwargs)\n",
      "File \u001b[1;32m~\\anaconda3\\lib\\site-packages\\camelot\\handlers.py:107\u001b[0m, in \u001b[0;36mPDFHandler._save_page\u001b[1;34m(self, filepath, page, temp)\u001b[0m\n\u001b[0;32m     94\u001b[0m \u001b[38;5;28;01mdef\u001b[39;00m \u001b[38;5;21m_save_page\u001b[39m(\u001b[38;5;28mself\u001b[39m, filepath, page, temp):\n\u001b[0;32m     95\u001b[0m     \u001b[38;5;124;03m\"\"\"Saves specified page from PDF into a temporary directory.\u001b[39;00m\n\u001b[0;32m     96\u001b[0m \n\u001b[0;32m     97\u001b[0m \u001b[38;5;124;03m    Parameters\u001b[39;00m\n\u001b[1;32m   (...)\u001b[0m\n\u001b[0;32m    105\u001b[0m \n\u001b[0;32m    106\u001b[0m \u001b[38;5;124;03m    \"\"\"\u001b[39;00m\n\u001b[1;32m--> 107\u001b[0m     \u001b[38;5;28;01mwith\u001b[39;00m \u001b[38;5;28;43mopen\u001b[39;49m\u001b[43m(\u001b[49m\u001b[43mfilepath\u001b[49m\u001b[43m,\u001b[49m\u001b[43m \u001b[49m\u001b[38;5;124;43m\"\u001b[39;49m\u001b[38;5;124;43mrb\u001b[39;49m\u001b[38;5;124;43m\"\u001b[39;49m\u001b[43m)\u001b[49m \u001b[38;5;28;01mas\u001b[39;00m fileobj:\n\u001b[0;32m    108\u001b[0m         infile \u001b[38;5;241m=\u001b[39m PdfFileReader(fileobj, strict\u001b[38;5;241m=\u001b[39m\u001b[38;5;28;01mFalse\u001b[39;00m)\n\u001b[0;32m    109\u001b[0m         \u001b[38;5;28;01mif\u001b[39;00m infile\u001b[38;5;241m.\u001b[39misEncrypted:\n",
      "\u001b[1;31mFileNotFoundError\u001b[0m: [Errno 2] No such file or directory: '/content/sample_data/G6_APURIMAC.pdf'"
     ]
    }
   ],
   "source": [
    "#Trabajamos con el pdf que nos toco\n",
    "tables = cm.read_pdf(\"/content/sample_data/G6_APURIMAC.pdf\")"
   ]
  },
  {
   "cell_type": "code",
   "execution_count": null,
   "id": "d28afe50",
   "metadata": {},
   "outputs": [],
   "source": [
    "tables"
   ]
  },
  {
   "cell_type": "code",
   "execution_count": null,
   "id": "867d31ad",
   "metadata": {},
   "outputs": [],
   "source": [
    "dir(tables\n",
    "    )"
   ]
  },
  {
   "cell_type": "code",
   "execution_count": null,
   "id": "bd266776",
   "metadata": {},
   "outputs": [],
   "source": [
    "dir(tables[0])"
   ]
  },
  {
   "cell_type": "code",
   "execution_count": null,
   "id": "6cbedb2d",
   "metadata": {},
   "outputs": [],
   "source": [
    "#chequeamos las coordendads de la celda\n",
    "tables[0].cells "
   ]
  },
  {
   "cell_type": "code",
   "execution_count": null,
   "id": "0802827b",
   "metadata": {},
   "outputs": [],
   "source": [
    "#chequeamos cada fila de la tabla en formato lista \n",
    "tables[0].data  "
   ]
  },
  {
   "cell_type": "code",
   "execution_count": null,
   "id": "28c31720",
   "metadata": {},
   "outputs": [],
   "source": [
    "#Primera tabla\n",
    "tables[0].df"
   ]
  },
  {
   "cell_type": "code",
   "execution_count": null,
   "id": "c3c6a9bb",
   "metadata": {},
   "outputs": [],
   "source": [
    "#Segunda tabla\n",
    "tables[1].df"
   ]
  },
  {
   "cell_type": "code",
   "execution_count": null,
   "id": "2e9dc2e6",
   "metadata": {},
   "outputs": [],
   "source": [
    "#Lo hacemos hasta la ultima\n",
    "tables[10].df"
   ]
  },
  {
   "cell_type": "code",
   "execution_count": null,
   "id": "2cc952f3",
   "metadata": {},
   "outputs": [],
   "source": [
    "#Debemos convertir las tablas en DataFrames para poder unirlas\n",
    "dataframes = [table.df for table in tables]\n",
    "#Unimos\n",
    "merged_df = pd.concat(dataframes)"
   ]
  },
  {
   "cell_type": "code",
   "execution_count": null,
   "id": "6b6580cd",
   "metadata": {},
   "outputs": [],
   "source": [
    "#Debemos restablecer el índice \n",
    "merged_df = merged_df.reset_index(drop=True)"
   ]
  },
  {
   "cell_type": "code",
   "execution_count": null,
   "id": "2eeb9877",
   "metadata": {},
   "outputs": [],
   "source": [
    "#Cambiamos los nombres de las columnas para el formato stata\n",
    "merged_df.columns = ['columna_1', 'columna_2', 'columna_3', 'columna_4', 'columna_5', 'columna_6', 'columna_7', 'columna_8', 'columna_9', 'columna_10', 'columna_11', 'columna_12', 'columna_13']"
   ]
  },
  {
   "cell_type": "code",
   "execution_count": null,
   "id": "831684bf",
   "metadata": {},
   "outputs": [],
   "source": [
    "#Exportamos a formato stata\n",
    "merged_df.to_stata('jec_data_4.dta')\n",
    "\n",
    "merged_df"
   ]
  },
  {
   "cell_type": "code",
   "execution_count": null,
   "id": "984f64eb",
   "metadata": {},
   "outputs": [],
   "source": []
  }
 ],
 "metadata": {
  "kernelspec": {
   "display_name": "Python 3 (ipykernel)",
   "language": "python",
   "name": "python3"
  },
  "language_info": {
   "codemirror_mode": {
    "name": "ipython",
    "version": 3
   },
   "file_extension": ".py",
   "mimetype": "text/x-python",
   "name": "python",
   "nbconvert_exporter": "python",
   "pygments_lexer": "ipython3",
   "version": "3.10.9"
  }
 },
 "nbformat": 4,
 "nbformat_minor": 5
}
