{
 "cells": [
  {
   "cell_type": "code",
   "execution_count": 1,
   "id": "db115b3a",
   "metadata": {},
   "outputs": [
    {
     "name": "stdout",
     "output_type": "stream",
     "text": [
      "Collecting ghostscript\n",
      "  Downloading ghostscript-0.7-py2.py3-none-any.whl (25 kB)\n",
      "Requirement already satisfied: setuptools>=38.6.0 in c:\\users\\hp\\anaconda3\\lib\\site-packages (from ghostscript) (65.6.3)\n",
      "Installing collected packages: ghostscript\n",
      "Successfully installed ghostscript-0.7\n",
      "Collecting camelot-py[cv]\n",
      "  Downloading camelot_py-0.11.0-py3-none-any.whl (40 kB)\n",
      "     -------------------------------------- 41.0/41.0 kB 991.5 kB/s eta 0:00:00\n",
      "Requirement already satisfied: chardet>=3.0.4 in c:\\users\\hp\\anaconda3\\lib\\site-packages (from camelot-py[cv]) (4.0.0)\n",
      "Collecting pypdf>=3.0.0\n",
      "  Downloading pypdf-3.9.1-py3-none-any.whl (249 kB)\n",
      "     -------------------------------------- 249.3/249.3 kB 1.5 MB/s eta 0:00:00\n",
      "Requirement already satisfied: click>=6.7 in c:\\users\\hp\\anaconda3\\lib\\site-packages (from camelot-py[cv]) (8.0.4)\n",
      "Requirement already satisfied: numpy>=1.13.3 in c:\\users\\hp\\anaconda3\\lib\\site-packages (from camelot-py[cv]) (1.23.5)\n",
      "Collecting pdfminer.six>=20200726\n",
      "  Downloading pdfminer.six-20221105-py3-none-any.whl (5.6 MB)\n",
      "     ---------------------------------------- 5.6/5.6 MB 4.0 MB/s eta 0:00:00\n",
      "Requirement already satisfied: tabulate>=0.8.9 in c:\\users\\hp\\anaconda3\\lib\\site-packages (from camelot-py[cv]) (0.8.10)\n",
      "Requirement already satisfied: openpyxl>=2.5.8 in c:\\users\\hp\\anaconda3\\lib\\site-packages (from camelot-py[cv]) (3.0.10)\n",
      "Requirement already satisfied: pandas>=0.23.4 in c:\\users\\hp\\anaconda3\\lib\\site-packages (from camelot-py[cv]) (1.5.3)\n",
      "Collecting camelot-py[cv]\n",
      "  Downloading camelot_py-0.10.1-py3-none-any.whl (40 kB)\n",
      "     ---------------------------------------- 41.0/41.0 kB 2.1 MB/s eta 0:00:00\n",
      "Collecting PyPDF2>=1.26.0\n",
      "  Downloading pypdf2-3.0.1-py3-none-any.whl (232 kB)\n",
      "     -------------------------------------- 232.6/232.6 kB 7.2 MB/s eta 0:00:00\n",
      "Collecting camelot-py[cv]\n",
      "  Downloading camelot_py-0.10.0-py3-none-any.whl (40 kB)\n",
      "     ---------------------------------------- 41.0/41.0 kB 1.9 MB/s eta 0:00:00\n",
      "  Downloading camelot_py-0.9.0-py3-none-any.whl (43 kB)\n",
      "     ---------------------------------------- 43.2/43.2 kB 2.1 MB/s eta 0:00:00\n",
      "Collecting opencv-python>=3.4.2.17\n",
      "  Downloading opencv_python-4.7.0.72-cp37-abi3-win_amd64.whl (38.2 MB)\n",
      "     ---------------------------------------- 38.2/38.2 MB 4.1 MB/s eta 0:00:00\n",
      "Requirement already satisfied: colorama in c:\\users\\hp\\anaconda3\\lib\\site-packages (from click>=6.7->camelot-py[cv]) (0.4.6)\n",
      "Requirement already satisfied: et_xmlfile in c:\\users\\hp\\anaconda3\\lib\\site-packages (from openpyxl>=2.5.8->camelot-py[cv]) (1.1.0)\n",
      "Requirement already satisfied: python-dateutil>=2.8.1 in c:\\users\\hp\\anaconda3\\lib\\site-packages (from pandas>=0.23.4->camelot-py[cv]) (2.8.2)\n",
      "Requirement already satisfied: pytz>=2020.1 in c:\\users\\hp\\anaconda3\\lib\\site-packages (from pandas>=0.23.4->camelot-py[cv]) (2022.7)\n",
      "Requirement already satisfied: charset-normalizer>=2.0.0 in c:\\users\\hp\\anaconda3\\lib\\site-packages (from pdfminer.six>=20200726->camelot-py[cv]) (2.0.4)\n",
      "Requirement already satisfied: cryptography>=36.0.0 in c:\\users\\hp\\anaconda3\\lib\\site-packages (from pdfminer.six>=20200726->camelot-py[cv]) (39.0.1)\n",
      "Requirement already satisfied: cffi>=1.12 in c:\\users\\hp\\anaconda3\\lib\\site-packages (from cryptography>=36.0.0->pdfminer.six>=20200726->camelot-py[cv]) (1.15.1)\n",
      "Requirement already satisfied: six>=1.5 in c:\\users\\hp\\anaconda3\\lib\\site-packages (from python-dateutil>=2.8.1->pandas>=0.23.4->camelot-py[cv]) (1.16.0)\n",
      "Requirement already satisfied: pycparser in c:\\users\\hp\\anaconda3\\lib\\site-packages (from cffi>=1.12->cryptography>=36.0.0->pdfminer.six>=20200726->camelot-py[cv]) (2.21)\n",
      "Installing collected packages: PyPDF2, opencv-python, pdfminer.six, camelot-py\n",
      "Successfully installed PyPDF2-3.0.1 camelot-py-0.9.0 opencv-python-4.7.0.72 pdfminer.six-20221105\n",
      "Collecting excalibur-py\n",
      "  Downloading excalibur_py-0.4.3-py3-none-any.whl (1.5 MB)\n",
      "     ---------------------------------------- 1.5/1.5 MB 4.1 MB/s eta 0:00:00\n",
      "Requirement already satisfied: Click>=7.0 in c:\\users\\hp\\anaconda3\\lib\\site-packages (from excalibur-py) (8.0.4)\n",
      "Collecting celery>=4.1.1\n",
      "  Downloading celery-5.3.0-py3-none-any.whl (420 kB)\n",
      "     -------------------------------------- 420.3/420.3 kB 4.4 MB/s eta 0:00:00\n",
      "Requirement already satisfied: SQLAlchemy>=1.2.12 in c:\\users\\hp\\anaconda3\\lib\\site-packages (from excalibur-py) (1.4.39)\n",
      "Collecting configparser<3.6.0,>=3.5.0\n",
      "  Downloading configparser-3.5.3-py3-none-any.whl (21 kB)\n",
      "Collecting Werkzeug<1.0.0\n",
      "  Downloading Werkzeug-0.16.1-py2.py3-none-any.whl (327 kB)\n",
      "     -------------------------------------- 327.4/327.4 kB 4.1 MB/s eta 0:00:00\n",
      "Requirement already satisfied: Flask>=1.0.2 in c:\\users\\hp\\anaconda3\\lib\\site-packages (from excalibur-py) (2.2.2)\n",
      "Requirement already satisfied: camelot-py[cv]>=0.7.1 in c:\\users\\hp\\anaconda3\\lib\\site-packages (from excalibur-py) (0.9.0)\n",
      "Requirement already satisfied: chardet>=3.0.4 in c:\\users\\hp\\anaconda3\\lib\\site-packages (from camelot-py[cv]>=0.7.1->excalibur-py) (4.0.0)\n",
      "Requirement already satisfied: openpyxl>=2.5.8 in c:\\users\\hp\\anaconda3\\lib\\site-packages (from camelot-py[cv]>=0.7.1->excalibur-py) (3.0.10)\n",
      "Requirement already satisfied: pdfminer.six>=20200726 in c:\\users\\hp\\anaconda3\\lib\\site-packages (from camelot-py[cv]>=0.7.1->excalibur-py) (20221105)\n",
      "Requirement already satisfied: pandas>=0.23.4 in c:\\users\\hp\\anaconda3\\lib\\site-packages (from camelot-py[cv]>=0.7.1->excalibur-py) (1.5.3)\n",
      "Requirement already satisfied: PyPDF2>=1.26.0 in c:\\users\\hp\\anaconda3\\lib\\site-packages (from camelot-py[cv]>=0.7.1->excalibur-py) (3.0.1)\n",
      "Requirement already satisfied: numpy>=1.13.3 in c:\\users\\hp\\anaconda3\\lib\\site-packages (from camelot-py[cv]>=0.7.1->excalibur-py) (1.23.5)\n",
      "Requirement already satisfied: opencv-python>=3.4.2.17 in c:\\users\\hp\\anaconda3\\lib\\site-packages (from camelot-py[cv]>=0.7.1->excalibur-py) (4.7.0.72)\n",
      "Collecting click-repl>=0.2.0\n",
      "  Downloading click_repl-0.2.0-py3-none-any.whl (5.2 kB)\n",
      "Collecting billiard<5.0,>=4.1.0\n",
      "  Downloading billiard-4.1.0-py3-none-any.whl (86 kB)\n",
      "     ---------------------------------------- 86.7/86.7 kB 2.5 MB/s eta 0:00:00\n",
      "Collecting click-didyoumean>=0.3.0\n",
      "  Downloading click_didyoumean-0.3.0-py3-none-any.whl (2.7 kB)\n",
      "Collecting Click>=7.0\n",
      "  Downloading click-8.1.3-py3-none-any.whl (96 kB)\n",
      "     ---------------------------------------- 96.6/96.6 kB 2.8 MB/s eta 0:00:00\n",
      "Collecting tzdata>=2022.7\n",
      "  Downloading tzdata-2023.3-py2.py3-none-any.whl (341 kB)\n",
      "     -------------------------------------- 341.8/341.8 kB 2.7 MB/s eta 0:00:00\n",
      "Requirement already satisfied: python-dateutil>=2.8.2 in c:\\users\\hp\\anaconda3\\lib\\site-packages (from celery>=4.1.1->excalibur-py) (2.8.2)\n",
      "Collecting click-plugins>=1.1.1\n",
      "  Downloading click_plugins-1.1.1-py2.py3-none-any.whl (7.5 kB)\n",
      "Collecting vine<6.0,>=5.0.0\n",
      "  Downloading vine-5.0.0-py2.py3-none-any.whl (9.4 kB)\n",
      "Collecting kombu<6.0,>=5.3.0\n",
      "  Downloading kombu-5.3.0-py3-none-any.whl (198 kB)\n",
      "     -------------------------------------- 198.5/198.5 kB 4.0 MB/s eta 0:00:00\n",
      "Requirement already satisfied: colorama in c:\\users\\hp\\anaconda3\\lib\\site-packages (from Click>=7.0->excalibur-py) (0.4.6)\n",
      "Collecting Flask>=1.0.2\n",
      "  Downloading Flask-2.3.2-py3-none-any.whl (96 kB)\n",
      "     ---------------------------------------- 96.9/96.9 kB 5.8 MB/s eta 0:00:00\n",
      "Requirement already satisfied: Jinja2>=3.1.2 in c:\\users\\hp\\anaconda3\\lib\\site-packages (from Flask>=1.0.2->excalibur-py) (3.1.2)\n",
      "Collecting itsdangerous>=2.1.2\n",
      "  Downloading itsdangerous-2.1.2-py3-none-any.whl (15 kB)\n",
      "Collecting blinker>=1.6.2\n",
      "  Downloading blinker-1.6.2-py3-none-any.whl (13 kB)\n",
      "Collecting Flask>=1.0.2\n",
      "  Downloading Flask-2.3.1-py3-none-any.whl (96 kB)\n",
      "     ---------------------------------------- 97.0/97.0 kB 5.4 MB/s eta 0:00:00\n",
      "  Downloading Flask-2.3.0-py3-none-any.whl (96 kB)\n",
      "     ---------------------------------------- 97.0/97.0 kB 2.8 MB/s eta 0:00:00\n",
      "  Downloading Flask-2.2.5-py3-none-any.whl (101 kB)\n",
      "     -------------------------------------- 101.8/101.8 kB 3.0 MB/s eta 0:00:00\n",
      "  Downloading Flask-2.2.4-py3-none-any.whl (101 kB)\n",
      "     -------------------------------------- 101.7/101.7 kB 1.9 MB/s eta 0:00:00\n",
      "  Downloading Flask-2.2.3-py3-none-any.whl (101 kB)\n",
      "     -------------------------------------- 101.8/101.8 kB 2.9 MB/s eta 0:00:00\n",
      "  Downloading Flask-2.2.1-py3-none-any.whl (101 kB)\n",
      "     -------------------------------------- 101.5/101.5 kB 2.9 MB/s eta 0:00:00\n",
      "  Downloading Flask-2.2.0-py3-none-any.whl (101 kB)\n",
      "     -------------------------------------- 101.1/101.1 kB 2.9 MB/s eta 0:00:00\n",
      "  Downloading Flask-2.1.3-py3-none-any.whl (95 kB)\n",
      "     ---------------------------------------- 95.6/95.6 kB 5.7 MB/s eta 0:00:00\n",
      "  Downloading Flask-2.1.2-py3-none-any.whl (95 kB)\n",
      "     ---------------------------------------- 95.2/95.2 kB 2.7 MB/s eta 0:00:00\n",
      "  Downloading Flask-2.1.1-py3-none-any.whl (95 kB)\n",
      "     ---------------------------------------- 95.2/95.2 kB 5.3 MB/s eta 0:00:00\n",
      "  Downloading Flask-2.1.0-py3-none-any.whl (95 kB)\n",
      "     ---------------------------------------- 95.2/95.2 kB 2.7 MB/s eta 0:00:00\n",
      "  Downloading Flask-2.0.3-py3-none-any.whl (95 kB)\n",
      "     ---------------------------------------- 95.6/95.6 kB 5.7 MB/s eta 0:00:00\n",
      "  Downloading Flask-2.0.2-py3-none-any.whl (95 kB)\n",
      "     -------------------------------------- 95.2/95.2 kB 388.1 kB/s eta 0:00:00\n",
      "  Downloading Flask-2.0.1-py3-none-any.whl (94 kB)\n",
      "     ---------------------------------------- 94.8/94.8 kB 2.7 MB/s eta 0:00:00\n",
      "  Downloading Flask-2.0.0-py3-none-any.whl (93 kB)\n",
      "     ---------------------------------------- 93.2/93.2 kB 1.8 MB/s eta 0:00:00\n",
      "  Downloading Flask-1.1.4-py2.py3-none-any.whl (94 kB)\n",
      "     ---------------------------------------- 94.6/94.6 kB 5.3 MB/s eta 0:00:00\n",
      "Collecting Jinja2<3.0,>=2.10.1\n",
      "  Downloading Jinja2-2.11.3-py2.py3-none-any.whl (125 kB)\n",
      "     -------------------------------------- 125.7/125.7 kB 2.5 MB/s eta 0:00:00\n",
      "Collecting itsdangerous<2.0,>=0.24\n",
      "  Downloading itsdangerous-1.1.0-py2.py3-none-any.whl (16 kB)\n",
      "Collecting Flask>=1.0.2\n",
      "  Downloading Flask-1.1.3-py2.py3-none-any.whl (94 kB)\n",
      "     ---------------------------------------- 94.6/94.6 kB 1.8 MB/s eta 0:00:00\n",
      "  Downloading Flask-1.1.2-py2.py3-none-any.whl (94 kB)\n",
      "     ---------------------------------------- 94.6/94.6 kB 2.7 MB/s eta 0:00:00\n",
      "Requirement already satisfied: itsdangerous>=0.24 in c:\\users\\hp\\anaconda3\\lib\\site-packages (from Flask>=1.0.2->excalibur-py) (2.0.1)\n",
      "Requirement already satisfied: greenlet!=0.4.17 in c:\\users\\hp\\anaconda3\\lib\\site-packages (from SQLAlchemy>=1.2.12->excalibur-py) (2.0.1)\n",
      "Requirement already satisfied: six in c:\\users\\hp\\anaconda3\\lib\\site-packages (from click-repl>=0.2.0->celery>=4.1.1->excalibur-py) (1.16.0)\n",
      "Requirement already satisfied: prompt-toolkit in c:\\users\\hp\\anaconda3\\lib\\site-packages (from click-repl>=0.2.0->celery>=4.1.1->excalibur-py) (3.0.36)\n",
      "Requirement already satisfied: MarkupSafe>=2.0 in c:\\users\\hp\\anaconda3\\lib\\site-packages (from Jinja2>=3.1.2->Flask>=1.0.2->excalibur-py) (2.1.1)\n",
      "Collecting amqp<6.0.0,>=5.1.1\n",
      "  Downloading amqp-5.1.1-py3-none-any.whl (50 kB)\n",
      "     ---------------------------------------- 50.8/50.8 kB 1.3 MB/s eta 0:00:00\n",
      "Requirement already satisfied: et_xmlfile in c:\\users\\hp\\anaconda3\\lib\\site-packages (from openpyxl>=2.5.8->camelot-py[cv]>=0.7.1->excalibur-py) (1.1.0)\n",
      "Requirement already satisfied: pytz>=2020.1 in c:\\users\\hp\\anaconda3\\lib\\site-packages (from pandas>=0.23.4->camelot-py[cv]>=0.7.1->excalibur-py) (2022.7)\n",
      "Requirement already satisfied: charset-normalizer>=2.0.0 in c:\\users\\hp\\anaconda3\\lib\\site-packages (from pdfminer.six>=20200726->camelot-py[cv]>=0.7.1->excalibur-py) (2.0.4)\n",
      "Requirement already satisfied: cryptography>=36.0.0 in c:\\users\\hp\\anaconda3\\lib\\site-packages (from pdfminer.six>=20200726->camelot-py[cv]>=0.7.1->excalibur-py) (39.0.1)\n",
      "Requirement already satisfied: cffi>=1.12 in c:\\users\\hp\\anaconda3\\lib\\site-packages (from cryptography>=36.0.0->pdfminer.six>=20200726->camelot-py[cv]>=0.7.1->excalibur-py) (1.15.1)\n",
      "Requirement already satisfied: wcwidth in c:\\users\\hp\\anaconda3\\lib\\site-packages (from prompt-toolkit->click-repl>=0.2.0->celery>=4.1.1->excalibur-py) (0.2.5)\n",
      "Requirement already satisfied: pycparser in c:\\users\\hp\\anaconda3\\lib\\site-packages (from cffi>=1.12->cryptography>=36.0.0->pdfminer.six>=20200726->camelot-py[cv]>=0.7.1->excalibur-py) (2.21)\n",
      "Installing collected packages: Werkzeug, vine, tzdata, configparser, Click, billiard, Flask, click-repl, click-plugins, click-didyoumean, amqp, kombu, celery, excalibur-py\n",
      "  Attempting uninstall: Werkzeug\n",
      "    Found existing installation: Werkzeug 2.2.2\n",
      "    Uninstalling Werkzeug-2.2.2:\n",
      "      Successfully uninstalled Werkzeug-2.2.2\n",
      "  Attempting uninstall: Click\n",
      "    Found existing installation: click 8.0.4\n",
      "    Uninstalling click-8.0.4:\n",
      "      Successfully uninstalled click-8.0.4\n",
      "  Attempting uninstall: Flask\n",
      "    Found existing installation: Flask 2.2.2\n",
      "    Uninstalling Flask-2.2.2:\n",
      "      Successfully uninstalled Flask-2.2.2\n",
      "Successfully installed Click-8.1.3 Flask-1.1.2 Werkzeug-0.16.1 amqp-5.1.1 billiard-4.1.0 celery-5.3.0 click-didyoumean-0.3.0 click-plugins-1.1.1 click-repl-0.2.0 configparser-3.5.3 excalibur-py-0.4.3 kombu-5.3.0 tzdata-2023.3 vine-5.0.0\n"
     ]
    },
    {
     "name": "stderr",
     "output_type": "stream",
     "text": [
      "\"apt\" no se reconoce como un comando interno o externo,\n",
      "programa o archivo por lotes ejecutable.\n"
     ]
    },
    {
     "name": "stdout",
     "output_type": "stream",
     "text": [
      "Collecting PyPDF2==2.12.1\n",
      "  Downloading pypdf2-2.12.1-py3-none-any.whl (222 kB)\n",
      "     ------------------------------------ 222.8/222.8 kB 715.8 kB/s eta 0:00:00\n",
      "Installing collected packages: PyPDF2\n",
      "  Attempting uninstall: PyPDF2\n",
      "    Found existing installation: PyPDF2 3.0.1\n",
      "    Uninstalling PyPDF2-3.0.1:\n",
      "      Successfully uninstalled PyPDF2-3.0.1\n",
      "Successfully installed PyPDF2-2.12.1\n"
     ]
    }
   ],
   "source": [
    "#intalamos codigos\n",
    "!pip install ghostscript\n",
    "!pip install camelot-py[cv]\n",
    "!pip install excalibur-py\n",
    "!apt install ghostscript python3-tk\n",
    "\n",
    "!pip install --upgrade PyPDF2==2.12.1\n"
   ]
  },
  {
   "cell_type": "code",
   "execution_count": 2,
   "id": "5cd6748c",
   "metadata": {},
   "outputs": [],
   "source": [
    "# importamos librerias\n",
    "import camelot as cm  \n",
    "import numpy as np\n",
    "import pandas as pd\n",
    "from pandas import Series, DataFrame\n",
    "import os\n",
    "from PyPDF2 import PdfFileReader\n",
    "import re "
   ]
  },
  {
   "cell_type": "code",
   "execution_count": 4,
   "id": "faf83ff7",
   "metadata": {},
   "outputs": [
    {
     "ename": "FileNotFoundError",
     "evalue": "[Errno 2] No such file or directory: '/content/sample_data/G6_APURIMAC.pdf'",
     "output_type": "error",
     "traceback": [
      "\u001b[1;31m---------------------------------------------------------------------------\u001b[0m",
      "\u001b[1;31mFileNotFoundError\u001b[0m                         Traceback (most recent call last)",
      "Cell \u001b[1;32mIn[4], line 2\u001b[0m\n\u001b[0;32m      1\u001b[0m \u001b[38;5;66;03m#Trabajamos con el pdf que nos toco\u001b[39;00m\n\u001b[1;32m----> 2\u001b[0m tables \u001b[38;5;241m=\u001b[39m \u001b[43mcm\u001b[49m\u001b[38;5;241;43m.\u001b[39;49m\u001b[43mread_pdf\u001b[49m\u001b[43m(\u001b[49m\u001b[38;5;124;43m\"\u001b[39;49m\u001b[38;5;124;43m/content/sample_data/G6_APURIMAC.pdf\u001b[39;49m\u001b[38;5;124;43m\"\u001b[39;49m\u001b[43m,\u001b[49m\u001b[43m \u001b[49m\u001b[43mpages\u001b[49m\u001b[38;5;241;43m=\u001b[39;49m\u001b[38;5;124;43m'\u001b[39;49m\u001b[38;5;124;43m1-5\u001b[39;49m\u001b[38;5;124;43m'\u001b[39;49m\u001b[43m)\u001b[49m\n",
      "File \u001b[1;32m~\\anaconda3\\lib\\site-packages\\camelot\\io.py:111\u001b[0m, in \u001b[0;36mread_pdf\u001b[1;34m(filepath, pages, password, flavor, suppress_stdout, layout_kwargs, **kwargs)\u001b[0m\n\u001b[0;32m    108\u001b[0m     warnings\u001b[38;5;241m.\u001b[39msimplefilter(\u001b[38;5;124m\"\u001b[39m\u001b[38;5;124mignore\u001b[39m\u001b[38;5;124m\"\u001b[39m)\n\u001b[0;32m    110\u001b[0m validate_input(kwargs, flavor\u001b[38;5;241m=\u001b[39mflavor)\n\u001b[1;32m--> 111\u001b[0m p \u001b[38;5;241m=\u001b[39m \u001b[43mPDFHandler\u001b[49m\u001b[43m(\u001b[49m\u001b[43mfilepath\u001b[49m\u001b[43m,\u001b[49m\u001b[43m \u001b[49m\u001b[43mpages\u001b[49m\u001b[38;5;241;43m=\u001b[39;49m\u001b[43mpages\u001b[49m\u001b[43m,\u001b[49m\u001b[43m \u001b[49m\u001b[43mpassword\u001b[49m\u001b[38;5;241;43m=\u001b[39;49m\u001b[43mpassword\u001b[49m\u001b[43m)\u001b[49m\n\u001b[0;32m    112\u001b[0m kwargs \u001b[38;5;241m=\u001b[39m remove_extra(kwargs, flavor\u001b[38;5;241m=\u001b[39mflavor)\n\u001b[0;32m    113\u001b[0m tables \u001b[38;5;241m=\u001b[39m p\u001b[38;5;241m.\u001b[39mparse(\n\u001b[0;32m    114\u001b[0m     flavor\u001b[38;5;241m=\u001b[39mflavor,\n\u001b[0;32m    115\u001b[0m     suppress_stdout\u001b[38;5;241m=\u001b[39msuppress_stdout,\n\u001b[0;32m    116\u001b[0m     layout_kwargs\u001b[38;5;241m=\u001b[39mlayout_kwargs,\n\u001b[0;32m    117\u001b[0m     \u001b[38;5;241m*\u001b[39m\u001b[38;5;241m*\u001b[39mkwargs\n\u001b[0;32m    118\u001b[0m )\n",
      "File \u001b[1;32m~\\anaconda3\\lib\\site-packages\\camelot\\handlers.py:50\u001b[0m, in \u001b[0;36mPDFHandler.__init__\u001b[1;34m(self, filepath, pages, password)\u001b[0m\n\u001b[0;32m     48\u001b[0m     \u001b[38;5;28;01mif\u001b[39;00m sys\u001b[38;5;241m.\u001b[39mversion_info[\u001b[38;5;241m0\u001b[39m] \u001b[38;5;241m<\u001b[39m \u001b[38;5;241m3\u001b[39m:\n\u001b[0;32m     49\u001b[0m         \u001b[38;5;28mself\u001b[39m\u001b[38;5;241m.\u001b[39mpassword \u001b[38;5;241m=\u001b[39m \u001b[38;5;28mself\u001b[39m\u001b[38;5;241m.\u001b[39mpassword\u001b[38;5;241m.\u001b[39mencode(\u001b[38;5;124m\"\u001b[39m\u001b[38;5;124mascii\u001b[39m\u001b[38;5;124m\"\u001b[39m)\n\u001b[1;32m---> 50\u001b[0m \u001b[38;5;28mself\u001b[39m\u001b[38;5;241m.\u001b[39mpages \u001b[38;5;241m=\u001b[39m \u001b[38;5;28;43mself\u001b[39;49m\u001b[38;5;241;43m.\u001b[39;49m\u001b[43m_get_pages\u001b[49m\u001b[43m(\u001b[49m\u001b[38;5;28;43mself\u001b[39;49m\u001b[38;5;241;43m.\u001b[39;49m\u001b[43mfilepath\u001b[49m\u001b[43m,\u001b[49m\u001b[43m \u001b[49m\u001b[43mpages\u001b[49m\u001b[43m)\u001b[49m\n",
      "File \u001b[1;32m~\\anaconda3\\lib\\site-packages\\camelot\\handlers.py:73\u001b[0m, in \u001b[0;36mPDFHandler._get_pages\u001b[1;34m(self, filepath, pages)\u001b[0m\n\u001b[0;32m     71\u001b[0m     page_numbers\u001b[38;5;241m.\u001b[39mappend({\u001b[38;5;124m\"\u001b[39m\u001b[38;5;124mstart\u001b[39m\u001b[38;5;124m\"\u001b[39m: \u001b[38;5;241m1\u001b[39m, \u001b[38;5;124m\"\u001b[39m\u001b[38;5;124mend\u001b[39m\u001b[38;5;124m\"\u001b[39m: \u001b[38;5;241m1\u001b[39m})\n\u001b[0;32m     72\u001b[0m \u001b[38;5;28;01melse\u001b[39;00m:\n\u001b[1;32m---> 73\u001b[0m     instream \u001b[38;5;241m=\u001b[39m \u001b[38;5;28;43mopen\u001b[39;49m\u001b[43m(\u001b[49m\u001b[43mfilepath\u001b[49m\u001b[43m,\u001b[49m\u001b[43m \u001b[49m\u001b[38;5;124;43m\"\u001b[39;49m\u001b[38;5;124;43mrb\u001b[39;49m\u001b[38;5;124;43m\"\u001b[39;49m\u001b[43m)\u001b[49m\n\u001b[0;32m     74\u001b[0m     infile \u001b[38;5;241m=\u001b[39m PdfFileReader(instream, strict\u001b[38;5;241m=\u001b[39m\u001b[38;5;28;01mFalse\u001b[39;00m)\n\u001b[0;32m     75\u001b[0m     \u001b[38;5;28;01mif\u001b[39;00m infile\u001b[38;5;241m.\u001b[39misEncrypted:\n",
      "\u001b[1;31mFileNotFoundError\u001b[0m: [Errno 2] No such file or directory: '/content/sample_data/G6_APURIMAC.pdf'"
     ]
    }
   ],
   "source": [
    "#Trabajamos con el pdf que nos toco\n",
    "tables = cm.read_pdf(\"/content/sample_data/G6_APURIMAC.pdf\", pages='1-5')"
   ]
  },
  {
   "cell_type": "code",
   "execution_count": null,
   "id": "d28afe50",
   "metadata": {},
   "outputs": [],
   "source": [
    "tables"
   ]
  },
  {
   "cell_type": "code",
   "execution_count": null,
   "id": "867d31ad",
   "metadata": {},
   "outputs": [],
   "source": [
    "dir(tables\n",
    "    )"
   ]
  },
  {
   "cell_type": "code",
   "execution_count": null,
   "id": "bd266776",
   "metadata": {},
   "outputs": [],
   "source": [
    "dir(tables[0])"
   ]
  },
  {
   "cell_type": "code",
   "execution_count": null,
   "id": "6cbedb2d",
   "metadata": {},
   "outputs": [],
   "source": [
    "#chequeamos las coordendads de la celda\n",
    "tables[0].cells "
   ]
  },
  {
   "cell_type": "code",
   "execution_count": null,
   "id": "0802827b",
   "metadata": {},
   "outputs": [],
   "source": [
    "#chequeamos cada fila de la tabla en formato lista \n",
    "tables[0].data  "
   ]
  },
  {
   "cell_type": "code",
   "execution_count": null,
   "id": "28c31720",
   "metadata": {},
   "outputs": [],
   "source": [
    "#Primera tabla\n",
    "tables[0].df"
   ]
  },
  {
   "cell_type": "code",
   "execution_count": null,
   "id": "c3c6a9bb",
   "metadata": {},
   "outputs": [],
   "source": [
    "#Segunda tabla\n",
    "tables[1].df"
   ]
  },
  {
   "cell_type": "code",
   "execution_count": null,
   "id": "2e9dc2e6",
   "metadata": {},
   "outputs": [],
   "source": [
    "#Lo hacemos hasta la ultima\n",
    "tables[10].df"
   ]
  },
  {
   "cell_type": "code",
   "execution_count": null,
   "id": "2cc952f3",
   "metadata": {},
   "outputs": [],
   "source": [
    "#Debemos convertir las tablas en DataFrames para poder unirlas\n",
    "dataframes = [table.df for table in tables]\n",
    "#Unimos\n",
    "merged_df = pd.concat(dataframes)"
   ]
  },
  {
   "cell_type": "code",
   "execution_count": null,
   "id": "6b6580cd",
   "metadata": {},
   "outputs": [],
   "source": [
    "#Debemos restablecer el índice \n",
    "merged_df = merged_df.reset_index(drop=True)"
   ]
  },
  {
   "cell_type": "code",
   "execution_count": null,
   "id": "2eeb9877",
   "metadata": {},
   "outputs": [],
   "source": [
    "#Cambiamos los nombres de las columnas para el formato stata\n",
    "merged_df.columns = ['columna_1', 'columna_2', 'columna_3', 'columna_4', 'columna_5', 'columna_6', 'columna_7', 'columna_8', 'columna_9', 'columna_10', 'columna_11', 'columna_12', 'columna_13']"
   ]
  },
  {
   "cell_type": "code",
   "execution_count": null,
   "id": "831684bf",
   "metadata": {},
   "outputs": [],
   "source": [
    "#Exportamos a formato stata\n",
    "merged_df.to_stata('jec_data_4.dta')\n",
    "\n",
    "merged_df"
   ]
  },
  {
   "cell_type": "code",
   "execution_count": null,
   "id": "984f64eb",
   "metadata": {},
   "outputs": [],
   "source": []
  }
 ],
 "metadata": {
  "kernelspec": {
   "display_name": "Python 3 (ipykernel)",
   "language": "python",
   "name": "python3"
  },
  "language_info": {
   "codemirror_mode": {
    "name": "ipython",
    "version": 3
   },
   "file_extension": ".py",
   "mimetype": "text/x-python",
   "name": "python",
   "nbconvert_exporter": "python",
   "pygments_lexer": "ipython3",
   "version": "3.10.9"
  }
 },
 "nbformat": 4,
 "nbformat_minor": 5
}
