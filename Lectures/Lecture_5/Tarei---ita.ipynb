{
 "cells": [
  {
   "cell_type": "code",
   "execution_count": 1,
   "id": "47c51708",
   "metadata": {},
   "outputs": [],
   "source": [
    "import pandas as pd\n",
    "import numpy as np\n",
    "import warnings\n",
    "\n",
    "import seaborn as sns\n",
    "import matplotlib.pyplot as plt \n",
    "from matplotlib.lines import Line2D\n",
    "\n",
    "warnings.filterwarnings('ignore') "
   ]
  },
  {
   "cell_type": "code",
   "execution_count": 2,
   "id": "18ac08e0",
   "metadata": {},
   "outputs": [
    {
     "name": "stdout",
     "output_type": "stream",
     "text": [
      "      IDEVENTO   IDACTO  IDACTOR IDTIPOAC  LDS_LDT  LDT  LRC  LSE  MAE  MAT  \\\n",
      "0      1000001  14867.0  54406.0      LDS      1.0  0.0  0.0  0.0  0.0  0.0   \n",
      "1      1000001  14867.0  54407.0      LDS      1.0  0.0  0.0  0.0  0.0  0.0   \n",
      "2      1000001  20535.0  74109.0      LDT      0.0  1.0  0.0  0.0  0.0  0.0   \n",
      "3      1000001  20535.0  74110.0      LDT      0.0  1.0  0.0  0.0  0.0  0.0   \n",
      "4      1000003  14834.0  54220.0      LDT      0.0  1.0  0.0  0.0  0.0  0.0   \n",
      "...        ...      ...      ...      ...      ...  ...  ...  ...  ...  ...   \n",
      "36014  1200682  13183.0  48743.0      MAE      0.0  0.0  0.0  0.0  1.0  0.0   \n",
      "36015  1991433    630.0   2473.0      LDT      0.0  1.0  0.0  0.0  0.0  0.0   \n",
      "36016  1991433    632.0   2478.0      TTR      0.0  0.0  0.0  0.0  0.0  0.0   \n",
      "36017  1991433    640.0   2509.0      MAE      1.0  0.0  0.0  0.0  1.0  0.0   \n",
      "36018  1991433    644.0   2528.0      LDT      0.0  1.0  0.0  0.0  0.0  0.0   \n",
      "\n",
      "       ...  T08  T09  T10  T11  T12  T13  T14  T15  T16  T90  \n",
      "0      ...  NaN  NaN  NaN  NaN  NaN  NaN  NaN  NaN  NaN  NaN  \n",
      "1      ...  NaN  NaN  NaN  NaN  NaN  NaN  NaN  NaN  NaN  NaN  \n",
      "2      ...  NaN  NaN  NaN  NaN  NaN  NaN  NaN  NaN  NaN  NaN  \n",
      "3      ...  NaN  NaN  NaN  NaN  NaN  NaN  NaN  NaN  NaN  NaN  \n",
      "4      ...  NaN  NaN  NaN  NaN  NaN  NaN  NaN  NaN  NaN  NaN  \n",
      "...    ...  ...  ...  ...  ...  ...  ...  ...  ...  ...  ...  \n",
      "36014  ...  NaN  NaN  NaN  NaN  NaN  NaN  NaN  NaN  NaN  NaN  \n",
      "36015  ...  NaN  NaN  NaN  NaN  NaN  NaN  NaN  NaN  NaN  NaN  \n",
      "36016  ...  0.0  0.0  0.0  0.0  0.0  0.0  0.0  0.0  0.0  0.0  \n",
      "36017  ...  NaN  NaN  NaN  NaN  NaN  NaN  NaN  NaN  NaN  NaN  \n",
      "36018  ...  NaN  NaN  NaN  NaN  NaN  NaN  NaN  NaN  NaN  NaN  \n",
      "\n",
      "[36019 rows x 118 columns]\n"
     ]
    }
   ],
   "source": [
    "import pyreadstat\n",
    "df, meta = pyreadstat.read_sav(r\"../../data/actos_est.sav\")\n",
    "print(df)"
   ]
  },
  {
   "cell_type": "code",
   "execution_count": null,
   "id": "bf2a9ba2",
   "metadata": {},
   "outputs": [],
   "source": [
    "cvr, meta =  pyreadstat.read_sav( r\"../../data/actos_est.sav\")\n",
    "cvr"
   ]
  }
 ],
 "metadata": {
  "kernelspec": {
   "display_name": "Python 3 (ipykernel)",
   "language": "python",
   "name": "python3"
  },
  "language_info": {
   "codemirror_mode": {
    "name": "ipython",
    "version": 3
   },
   "file_extension": ".py",
   "mimetype": "text/x-python",
   "name": "python",
   "nbconvert_exporter": "python",
   "pygments_lexer": "ipython3",
   "version": "3.9.12"
  }
 },
 "nbformat": 4,
 "nbformat_minor": 5
}
