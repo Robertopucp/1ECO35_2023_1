{
 "cells": [
  {
   "cell_type": "code",
   "execution_count": 90,
   "id": "f00967bc",
   "metadata": {},
   "outputs": [],
   "source": [
    "import pandas as pd\n",
    "import numpy as np\n",
    "import warnings\n",
    "import pyreadstat\n",
    "\n",
    "import seaborn as sns\n",
    "import matplotlib.pyplot as plt \n",
    "from matplotlib.lines import Line2D\n",
    "from matplotlib.legend import Legend\n",
    "import matplotlib.patches as mpatches\n",
    "\n",
    "warnings.filterwarnings('ignore') "
   ]
  },
  {
   "cell_type": "code",
   "execution_count": 36,
   "id": "3547a897",
   "metadata": {},
   "outputs": [
    {
     "data": {
      "text/html": [
       "<div>\n",
       "<style scoped>\n",
       "    .dataframe tbody tr th:only-of-type {\n",
       "        vertical-align: middle;\n",
       "    }\n",
       "\n",
       "    .dataframe tbody tr th {\n",
       "        vertical-align: top;\n",
       "    }\n",
       "\n",
       "    .dataframe thead th {\n",
       "        text-align: right;\n",
       "    }\n",
       "</style>\n",
       "<table border=\"1\" class=\"dataframe\">\n",
       "  <thead>\n",
       "    <tr style=\"text-align: right;\">\n",
       "      <th></th>\n",
       "      <th>edad</th>\n",
       "      <th>sexo</th>\n",
       "      <th>nrodepen</th>\n",
       "      <th>fonopart</th>\n",
       "      <th>fonolab</th>\n",
       "      <th>autovaluo</th>\n",
       "      <th>esaval</th>\n",
       "      <th>tieneaval</th>\n",
       "      <th>antiguedad</th>\n",
       "      <th>tiporenta</th>\n",
       "      <th>dpto</th>\n",
       "      <th>morosidad</th>\n",
       "    </tr>\n",
       "  </thead>\n",
       "  <tbody>\n",
       "    <tr>\n",
       "      <th>0</th>\n",
       "      <td>44.0</td>\n",
       "      <td>2.0</td>\n",
       "      <td>3.0</td>\n",
       "      <td>2.0</td>\n",
       "      <td>2.0</td>\n",
       "      <td>1.0</td>\n",
       "      <td>1.0</td>\n",
       "      <td>1.0</td>\n",
       "      <td>63.0</td>\n",
       "      <td>2.0</td>\n",
       "      <td>1.0</td>\n",
       "      <td>1.0</td>\n",
       "    </tr>\n",
       "    <tr>\n",
       "      <th>1</th>\n",
       "      <td>77.0</td>\n",
       "      <td>2.0</td>\n",
       "      <td>4.0</td>\n",
       "      <td>2.0</td>\n",
       "      <td>2.0</td>\n",
       "      <td>1.0</td>\n",
       "      <td>1.0</td>\n",
       "      <td>2.0</td>\n",
       "      <td>62.0</td>\n",
       "      <td>2.0</td>\n",
       "      <td>1.0</td>\n",
       "      <td>2.0</td>\n",
       "    </tr>\n",
       "    <tr>\n",
       "      <th>2</th>\n",
       "      <td>59.0</td>\n",
       "      <td>2.0</td>\n",
       "      <td>5.0</td>\n",
       "      <td>1.0</td>\n",
       "      <td>1.0</td>\n",
       "      <td>1.0</td>\n",
       "      <td>2.0</td>\n",
       "      <td>1.0</td>\n",
       "      <td>59.0</td>\n",
       "      <td>2.0</td>\n",
       "      <td>1.0</td>\n",
       "      <td>2.0</td>\n",
       "    </tr>\n",
       "    <tr>\n",
       "      <th>3</th>\n",
       "      <td>35.0</td>\n",
       "      <td>2.0</td>\n",
       "      <td>5.0</td>\n",
       "      <td>1.0</td>\n",
       "      <td>2.0</td>\n",
       "      <td>1.0</td>\n",
       "      <td>1.0</td>\n",
       "      <td>1.0</td>\n",
       "      <td>58.0</td>\n",
       "      <td>2.0</td>\n",
       "      <td>1.0</td>\n",
       "      <td>2.0</td>\n",
       "    </tr>\n",
       "    <tr>\n",
       "      <th>4</th>\n",
       "      <td>65.0</td>\n",
       "      <td>2.0</td>\n",
       "      <td>0.0</td>\n",
       "      <td>2.0</td>\n",
       "      <td>1.0</td>\n",
       "      <td>1.0</td>\n",
       "      <td>2.0</td>\n",
       "      <td>1.0</td>\n",
       "      <td>56.0</td>\n",
       "      <td>2.0</td>\n",
       "      <td>1.0</td>\n",
       "      <td>1.0</td>\n",
       "    </tr>\n",
       "    <tr>\n",
       "      <th>...</th>\n",
       "      <td>...</td>\n",
       "      <td>...</td>\n",
       "      <td>...</td>\n",
       "      <td>...</td>\n",
       "      <td>...</td>\n",
       "      <td>...</td>\n",
       "      <td>...</td>\n",
       "      <td>...</td>\n",
       "      <td>...</td>\n",
       "      <td>...</td>\n",
       "      <td>...</td>\n",
       "      <td>...</td>\n",
       "    </tr>\n",
       "    <tr>\n",
       "      <th>8466</th>\n",
       "      <td>57.0</td>\n",
       "      <td>2.0</td>\n",
       "      <td>5.0</td>\n",
       "      <td>1.0</td>\n",
       "      <td>1.0</td>\n",
       "      <td>1.0</td>\n",
       "      <td>2.0</td>\n",
       "      <td>2.0</td>\n",
       "      <td>0.0</td>\n",
       "      <td>2.0</td>\n",
       "      <td>6.0</td>\n",
       "      <td>2.0</td>\n",
       "    </tr>\n",
       "    <tr>\n",
       "      <th>8467</th>\n",
       "      <td>57.0</td>\n",
       "      <td>2.0</td>\n",
       "      <td>3.0</td>\n",
       "      <td>2.0</td>\n",
       "      <td>1.0</td>\n",
       "      <td>1.0</td>\n",
       "      <td>1.0</td>\n",
       "      <td>2.0</td>\n",
       "      <td>0.0</td>\n",
       "      <td>2.0</td>\n",
       "      <td>6.0</td>\n",
       "      <td>1.0</td>\n",
       "    </tr>\n",
       "    <tr>\n",
       "      <th>8468</th>\n",
       "      <td>64.0</td>\n",
       "      <td>2.0</td>\n",
       "      <td>1.0</td>\n",
       "      <td>2.0</td>\n",
       "      <td>1.0</td>\n",
       "      <td>2.0</td>\n",
       "      <td>1.0</td>\n",
       "      <td>1.0</td>\n",
       "      <td>0.0</td>\n",
       "      <td>2.0</td>\n",
       "      <td>6.0</td>\n",
       "      <td>1.0</td>\n",
       "    </tr>\n",
       "    <tr>\n",
       "      <th>8469</th>\n",
       "      <td>67.0</td>\n",
       "      <td>1.0</td>\n",
       "      <td>0.0</td>\n",
       "      <td>2.0</td>\n",
       "      <td>1.0</td>\n",
       "      <td>2.0</td>\n",
       "      <td>1.0</td>\n",
       "      <td>2.0</td>\n",
       "      <td>0.0</td>\n",
       "      <td>2.0</td>\n",
       "      <td>6.0</td>\n",
       "      <td>1.0</td>\n",
       "    </tr>\n",
       "    <tr>\n",
       "      <th>8470</th>\n",
       "      <td>69.0</td>\n",
       "      <td>2.0</td>\n",
       "      <td>1.0</td>\n",
       "      <td>1.0</td>\n",
       "      <td>1.0</td>\n",
       "      <td>1.0</td>\n",
       "      <td>2.0</td>\n",
       "      <td>1.0</td>\n",
       "      <td>0.0</td>\n",
       "      <td>2.0</td>\n",
       "      <td>6.0</td>\n",
       "      <td>1.0</td>\n",
       "    </tr>\n",
       "  </tbody>\n",
       "</table>\n",
       "<p>8471 rows × 12 columns</p>\n",
       "</div>"
      ],
      "text/plain": [
       "      edad  sexo  nrodepen  fonopart  fonolab  autovaluo  esaval  tieneaval  \\\n",
       "0     44.0   2.0       3.0       2.0      2.0        1.0     1.0        1.0   \n",
       "1     77.0   2.0       4.0       2.0      2.0        1.0     1.0        2.0   \n",
       "2     59.0   2.0       5.0       1.0      1.0        1.0     2.0        1.0   \n",
       "3     35.0   2.0       5.0       1.0      2.0        1.0     1.0        1.0   \n",
       "4     65.0   2.0       0.0       2.0      1.0        1.0     2.0        1.0   \n",
       "...    ...   ...       ...       ...      ...        ...     ...        ...   \n",
       "8466  57.0   2.0       5.0       1.0      1.0        1.0     2.0        2.0   \n",
       "8467  57.0   2.0       3.0       2.0      1.0        1.0     1.0        2.0   \n",
       "8468  64.0   2.0       1.0       2.0      1.0        2.0     1.0        1.0   \n",
       "8469  67.0   1.0       0.0       2.0      1.0        2.0     1.0        2.0   \n",
       "8470  69.0   2.0       1.0       1.0      1.0        1.0     2.0        1.0   \n",
       "\n",
       "      antiguedad  tiporenta  dpto  morosidad  \n",
       "0           63.0        2.0   1.0        1.0  \n",
       "1           62.0        2.0   1.0        2.0  \n",
       "2           59.0        2.0   1.0        2.0  \n",
       "3           58.0        2.0   1.0        2.0  \n",
       "4           56.0        2.0   1.0        1.0  \n",
       "...          ...        ...   ...        ...  \n",
       "8466         0.0        2.0   6.0        2.0  \n",
       "8467         0.0        2.0   6.0        1.0  \n",
       "8468         0.0        2.0   6.0        1.0  \n",
       "8469         0.0        2.0   6.0        1.0  \n",
       "8470         0.0        2.0   6.0        1.0  \n",
       "\n",
       "[8471 rows x 12 columns]"
      ]
     },
     "execution_count": 36,
     "metadata": {},
     "output_type": "execute_result"
    }
   ],
   "source": [
    "data1, meta =  pyreadstat.read_sav( r\"../../data/Riesgo_morosidad.sav\")\n",
    "data1\n"
   ]
  },
  {
   "cell_type": "code",
   "execution_count": 42,
   "id": "8c32f191",
   "metadata": {},
   "outputs": [],
   "source": [
    "datospss = data1.copy()"
   ]
  },
  {
   "cell_type": "code",
   "execution_count": 43,
   "id": "2c320b82",
   "metadata": {},
   "outputs": [
    {
     "data": {
      "text/plain": [
       "{'edad': 'Edad',\n",
       " 'sexo': 'Sexo',\n",
       " 'nrodepen': 'Número de Dependientes',\n",
       " 'fonopart': '¿Tiene teléfono particular?',\n",
       " 'fonolab': '¿Tiene teléfono en el trabajo?',\n",
       " 'autovaluo': '¿Presenta autovaluo?',\n",
       " 'esaval': '¿Es aval de otros clientes?',\n",
       " 'tieneaval': '¿Tiene aval?',\n",
       " 'antiguedad': 'Antiguedad en años',\n",
       " 'tiporenta': 'Tipo de renta',\n",
       " 'dpto': 'Departamento',\n",
       " 'morosidad': 'Morosidad'}"
      ]
     },
     "execution_count": 43,
     "metadata": {},
     "output_type": "execute_result"
    }
   ],
   "source": [
    "# etiquetas de variable \n",
    "\n",
    "var_labels = dict(zip(meta.column_names, meta.column_labels))\n",
    "var_labels"
   ]
  },
  {
   "cell_type": "code",
   "execution_count": 44,
   "id": "c6e2ba7b",
   "metadata": {},
   "outputs": [
    {
     "data": {
      "text/plain": [
       "{'sexo': {1.0: 'Femenino', 2.0: 'Masculino'},\n",
       " 'fonopart': {1.0: 'No', 2.0: 'Si'},\n",
       " 'fonolab': {1.0: 'No', 2.0: 'Si'},\n",
       " 'autovaluo': {1.0: 'No', 2.0: 'Si'},\n",
       " 'esaval': {1.0: 'No', 2.0: 'Si'},\n",
       " 'tieneaval': {1.0: 'No', 2.0: 'Si'},\n",
       " 'tiporenta': {2.0: 'Fijo', 3.0: 'Variable'},\n",
       " 'dpto': {1.0: 'Lima',\n",
       "  2.0: 'Trujillo',\n",
       "  3.0: 'Arequipa',\n",
       "  4.0: 'Cusco',\n",
       "  5.0: 'Ica',\n",
       "  6.0: 'Piura'},\n",
       " 'morosidad': {1.0: 'No Moroso', 2.0: 'Moroso'}}"
      ]
     },
     "execution_count": 44,
     "metadata": {},
     "output_type": "execute_result"
    }
   ],
   "source": [
    "# etiqueta de valores\n",
    "meta.variable_value_labels"
   ]
  },
  {
   "cell_type": "markdown",
   "id": "3270d4f4",
   "metadata": {},
   "source": [
    "## Bar Plot"
   ]
  },
  {
   "cell_type": "code",
   "execution_count": 45,
   "id": "32e90303",
   "metadata": {},
   "outputs": [
    {
     "data": {
      "image/png": "[encoded data removed]",
      "text/plain": [
       "<Figure size 504x288 with 1 Axes>"
      ]
     },
     "metadata": {
      "needs_background": "light"
     },
     "output_type": "display_data"
    }
   ],
   "source": [
    "fig, ax = plt.subplots( figsize=(7,4) )\n"
   ]
  },
  {
   "cell_type": "code",
   "execution_count": 46,
   "id": "b8a2ba88",
   "metadata": {},
   "outputs": [
    {
     "data": {
      "text/plain": [
       "<AxesSubplot:xlabel='morosidad', ylabel='count'>"
      ]
     },
     "execution_count": 46,
     "metadata": {},
     "output_type": "execute_result"
    },
    {
     "data": {
      "image/png": "[encoded data removed]",
      "text/plain": [
       "<Figure size 504x288 with 1 Axes>"
      ]
     },
     "metadata": {
      "needs_background": "light"
     },
     "output_type": "display_data"
    }
   ],
   "source": [
    "fig, ax = plt.subplots( figsize=(7,4) )\n",
    "\n",
    "# countplot de la libreria seaborn \n",
    "\n",
    "sns.countplot( x=\"morosidad\", data=datospss)\n"
   ]
  },
  {
   "cell_type": "code",
   "execution_count": 47,
   "id": "feb31f2b",
   "metadata": {},
   "outputs": [
    {
     "data": {
      "text/plain": [
       "Text(0.5, 0, '')"
      ]
     },
     "execution_count": 47,
     "metadata": {},
     "output_type": "execute_result"
    },
    {
     "data": {
      "image/png": "[encoded data removed]",
      "text/plain": [
       "<Figure size 504x288 with 1 Axes>"
      ]
     },
     "metadata": {
      "needs_background": "light"
     },
     "output_type": "display_data"
    }
   ],
   "source": [
    "fig, ax = plt.subplots( figsize=(7,4) )\n",
    "\n",
    "sns.countplot( x=\"morosidad\", data=datospss )\n",
    "\n",
    "ax.set_xticklabels([\"No Moroso\", \"Moroso\"], size=11)\n",
    "# titulos en los ejes\n",
    "plt.ylabel('')\n",
    "plt.xlabel('')"
   ]
  },
  {
   "cell_type": "code",
   "execution_count": 9,
   "id": "4269453f",
   "metadata": {},
   "outputs": [
    {
     "data": {
      "text/plain": [
       "Text(0.5, 0, '')"
      ]
     },
     "execution_count": 9,
     "metadata": {},
     "output_type": "execute_result"
    },
    {
     "data": {
      "image/png": "[encoded data removed]",
      "text/plain": [
       "<Figure size 504x288 with 1 Axes>"
      ]
     },
     "metadata": {
      "needs_background": "light"
     },
     "output_type": "display_data"
    }
   ],
   "source": [
    "# Cambio de Orientación\n",
    "\n",
    "fig, ax = plt.subplots( figsize=(7,4) )\n",
    "\n",
    "sns.countplot( y=\"morosidad\", data=datospss )\n",
    "\n",
    "ax.set_yticklabels([\"No Moroso\", \"Moroso\"], size=11)\n",
    "plt.ylabel('')\n",
    "plt.xlabel('')"
   ]
  },
  {
   "cell_type": "code",
   "execution_count": 10,
   "id": "f042354c",
   "metadata": {},
   "outputs": [
    {
     "data": {
      "text/plain": [
       "Text(0.5, 0, '')"
      ]
     },
     "execution_count": 10,
     "metadata": {},
     "output_type": "execute_result"
    },
    {
     "data": {
      "image/png": "[encoded data removed]",
      "text/plain": [
       "<Figure size 504x288 with 1 Axes>"
      ]
     },
     "metadata": {
      "needs_background": "light"
     },
     "output_type": "display_data"
    }
   ],
   "source": [
    "fig, ax = plt.subplots( figsize=(7,4) )\n",
    "\n",
    "sns.countplot( x=\"morosidad\", data=datospss )\n",
    "\n",
    "ax.set_xticklabels([\"No Moroso\", \"Moroso\"], size=11)\n",
    "plt.ylabel('')\n",
    "plt.xlabel('')"
   ]
  },
  {
   "cell_type": "code",
   "execution_count": 11,
   "id": "ebac433a",
   "metadata": {},
   "outputs": [
    {
     "data": {
      "text/plain": [
       "Text(0.5, 1.0, 'Gráfico de Barras de morosidad')"
      ]
     },
     "execution_count": 11,
     "metadata": {},
     "output_type": "execute_result"
    },
    {
     "data": {
      "image/png": "[encoded data removed]",
      "text/plain": [
       "<Figure size 504x288 with 1 Axes>"
      ]
     },
     "metadata": {
      "needs_background": "light"
     },
     "output_type": "display_data"
    }
   ],
   "source": [
    "# añadiendo subtitulos y titulo de gráfico\n",
    "\n",
    "fig, ax = plt.subplots( figsize=(7,4) )\n",
    "\n",
    "sns.countplot( x=\"morosidad\", data=datospss )\n",
    "\n",
    "ax.set_xticklabels([\"No Moroso\", \"Moroso\"], size=11)\n",
    "plt.ylabel('Frecuencia absoluta')\n",
    "plt.xlabel('Condición de la morosidad')\n",
    "plt.title(\"Gráfico de Barras de morosidad\")"
   ]
  },
  {
   "cell_type": "code",
   "execution_count": 17,
   "id": "dadd5f95",
   "metadata": {},
   "outputs": [
    {
     "data": {
      "text/plain": [
       "Text(0.5, 1.0, 'Gráfico de barras de morosidad')"
      ]
     },
     "execution_count": 17,
     "metadata": {},
     "output_type": "execute_result"
    },
    {
     "data": {
      "image/png": "[encoded data removed]",
      "text/plain": [
       "<Figure size 504x288 with 1 Axes>"
      ]
     },
     "metadata": {
      "needs_background": "light"
     },
     "output_type": "display_data"
    }
   ],
   "source": [
    "# ajustanto el tamaño de los susbtitulos y titulos\n",
    "\n",
    "fig, ax = plt.subplots( figsize=(7,4) )\n",
    "\n",
    "sns.countplot( x=\"morosidad\", data=datospss )\n",
    "\n",
    "ax.set_xticklabels([\"No Moroso\", \"Moroso\"], size=11)\n",
    "plt.ylabel('Frecuencia absoluta', size = 8)\n",
    "plt.xlabel('Condición de la morosidad', size = 8)\n",
    "plt.title(\"Gráfico de barras de morosidad\", size = 18)"
   ]
  },
  {
   "cell_type": "code",
   "execution_count": 28,
   "id": "d356331f",
   "metadata": {},
   "outputs": [
    {
     "data": {
      "text/plain": [
       "Text(0.5, 1.0, 'Gráfico de barras de morosidad')"
      ]
     },
     "execution_count": 28,
     "metadata": {},
     "output_type": "execute_result"
    },
    {
     "data": {
      "image/png": "[encoded data removed]",
      "text/plain": [
       "<Figure size 504x288 with 1 Axes>"
      ]
     },
     "metadata": {
      "needs_background": "light"
     },
     "output_type": "display_data"
    }
   ],
   "source": [
    "# Asignando colores diferentes\n",
    "\n",
    "fig, ax = plt.subplots( figsize=(7,4) )\n",
    "\n",
    "sns.countplot( x=\"morosidad\", data=datospss , palette=['lightblue', 'lightgreen'])\n",
    "\n",
    "ax.set_xticklabels([\"No Moroso\", \"Moroso\"], size=11)\n",
    "plt.ylabel('Frecuencia absoluta', size = 8)\n",
    "plt.xlabel('Condición de la morosidad', size = 8)\n",
    "plt.title(\"Gráfico de barras de morosidad\", size = 18)"
   ]
  },
  {
   "cell_type": "code",
   "execution_count": 34,
   "id": "97af7ffc",
   "metadata": {},
   "outputs": [
    {
     "data": {
      "image/png": "[encoded data removed]",
      "text/plain": [
       "<Figure size 504x288 with 1 Axes>"
      ]
     },
     "metadata": {
      "needs_background": "light"
     },
     "output_type": "display_data"
    }
   ],
   "source": [
    "# Usando los colores RGB\n",
    "\n",
    "fig, ax = plt.subplots( figsize=(7,4) )\n",
    "\n",
    "sns.countplot( x=\"morosidad\", data=datospss , palette=[\"#44a5c2\", \"#ffae49\"], edgecolor = \"black\")\n",
    "\n",
    "# edge color: color de borde \n",
    "\n",
    "ax.set_xticklabels([\"No Moroso\", \"Moroso\"], size=11)\n",
    "plt.ylabel('Frecuencia absoluta', size = 8)\n",
    "plt.xlabel('Condición de la morosidad', size = 8)\n",
    "plt.title(\"Gráfico de barras de morosidad\", size = 18)\n",
    "\n",
    "\n",
    "# save plot\n",
    "\n",
    "fig.savefig(r'../../output/plots/plot_bar_morosidad.png', dpi=800, bbox_inches='tight')\n",
    "\n",
    "# bbox_inches='tight' : titulos, subtitulos, anotaciones, leyenda serán visibles en la imagen"
   ]
  },
  {
   "cell_type": "markdown",
   "id": "8ccb5aac",
   "metadata": {},
   "source": [
    "### Colores RGB\n",
    "\n",
    "https://www.rapidtables.com/web/color/RGB_Color.html"
   ]
  },
  {
   "cell_type": "markdown",
   "id": "c3bb7fcf",
   "metadata": {},
   "source": [
    "### Stacked bar "
   ]
  },
  {
   "cell_type": "code",
   "execution_count": 67,
   "id": "e7d9117c",
   "metadata": {},
   "outputs": [],
   "source": [
    "base = datospss.groupby(['tiporenta','morosidad'])['morosidad'].count().reset_index(name='cantidad').\\\n",
    "pivot(index = 'tiporenta', columns = 'morosidad', values = 'cantidad')"
   ]
  },
  {
   "cell_type": "code",
   "execution_count": 97,
   "id": "21491036",
   "metadata": {},
   "outputs": [
    {
     "data": {
      "text/plain": [
       "<matplotlib.legend.Legend at 0x2416b6fdd30>"
      ]
     },
     "execution_count": 97,
     "metadata": {},
     "output_type": "execute_result"
    },
    {
     "data": {
      "image/png": "[encoded data removed]",
      "text/plain": [
       "<Figure size 360x288 with 1 Axes>"
      ]
     },
     "metadata": {
      "needs_background": "light"
     },
     "output_type": "display_data"
    }
   ],
   "source": [
    "fig, ax = plt.subplots( figsize=(5,4) )\n",
    "\n",
    "base.plot( kind='bar', stacked=True, title='Situación de la Morosidad según Tipo de Renta', color = ['lightblue', 'blue'] , ax = ax)\n",
    "plt.xlabel('Tipo de Renta')\n",
    "plt.ylabel('Frecuencia')\n",
    "ax.set_xticklabels([\"No Moroso\", \"Moroso\"], size=11)\n",
    "\n",
    "no_moroso = mpatches.Patch(color='blue', label='Moroso')\n",
    "moroso = mpatches.Patch(color='lightblue', label='No moroso')\n",
    "\n",
    "plt.legend(title = \"\", handles=[no_moroso, moroso], bbox_to_anchor=(1.4, 0.65))"
   ]
  },
  {
   "cell_type": "code",
   "execution_count": null,
   "id": "f7e97a62",
   "metadata": {},
   "outputs": [],
   "source": []
  },
  {
   "cell_type": "code",
   "execution_count": null,
   "id": "c5f308b1",
   "metadata": {},
   "outputs": [],
   "source": []
  },
  {
   "cell_type": "code",
   "execution_count": null,
   "id": "cb3f12a9",
   "metadata": {},
   "outputs": [],
   "source": []
  },
  {
   "cell_type": "code",
   "execution_count": null,
   "id": "58f5c932",
   "metadata": {},
   "outputs": [],
   "source": []
  },
  {
   "cell_type": "code",
   "execution_count": null,
   "id": "ea95962c",
   "metadata": {},
   "outputs": [],
   "source": []
  },
  {
   "cell_type": "code",
   "execution_count": null,
   "id": "f234784c",
   "metadata": {},
   "outputs": [],
   "source": []
  },
  {
   "cell_type": "code",
   "execution_count": null,
   "id": "8ad5f40c",
   "metadata": {},
   "outputs": [],
   "source": []
  },
  {
   "cell_type": "markdown",
   "id": "1bcc8b1d",
   "metadata": {},
   "source": [
    "# References\n",
    "\n",
    "https://d2cml-ai.github.io/python_visual_library/python_notebooks/07_random_inference.html"
   ]
  }
 ],
 "metadata": {
  "kernelspec": {
   "display_name": "Python 3 (ipykernel)",
   "language": "python",
   "name": "python3"
  },
  "language_info": {
   "codemirror_mode": {
    "name": "ipython",
    "version": 3
   },
   "file_extension": ".py",
   "mimetype": "text/x-python",
   "name": "python",
   "nbconvert_exporter": "python",
   "pygments_lexer": "ipython3",
   "version": "3.9.7"
  }
 },
 "nbformat": 4,
 "nbformat_minor": 5
}
