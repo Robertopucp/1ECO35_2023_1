{
 "cells": [
  {
   "cell_type": "code",
   "execution_count": 2,
   "id": "f00967bc",
   "metadata": {},
   "outputs": [],
   "source": [
    "import pandas as pd\n",
    "import numpy as np\n",
    "import warnings\n",
    "import pyreadstat\n",
    "\n",
    "import seaborn as sns\n",
    "import matplotlib.pyplot as plt \n",
    "from matplotlib.lines import Line2D\n",
    "from matplotlib.legend import Legend\n",
    "import matplotlib.patches as mpatches\n",
    "\n",
    "warnings.filterwarnings('ignore') "
   ]
  },
  {
   "cell_type": "code",
   "execution_count": 3,
   "id": "3547a897",
   "metadata": {},
   "outputs": [
    {
     "data": {
      "text/html": [
       "<div>\n",
       "<style scoped>\n",
       "    .dataframe tbody tr th:only-of-type {\n",
       "        vertical-align: middle;\n",
       "    }\n",
       "\n",
       "    .dataframe tbody tr th {\n",
       "        vertical-align: top;\n",
       "    }\n",
       "\n",
       "    .dataframe thead th {\n",
       "        text-align: right;\n",
       "    }\n",
       "</style>\n",
       "<table border=\"1\" class=\"dataframe\">\n",
       "  <thead>\n",
       "    <tr style=\"text-align: right;\">\n",
       "      <th></th>\n",
       "      <th>edad</th>\n",
       "      <th>sexo</th>\n",
       "      <th>nrodepen</th>\n",
       "      <th>fonopart</th>\n",
       "      <th>fonolab</th>\n",
       "      <th>autovaluo</th>\n",
       "      <th>esaval</th>\n",
       "      <th>tieneaval</th>\n",
       "      <th>antiguedad</th>\n",
       "      <th>tiporenta</th>\n",
       "      <th>dpto</th>\n",
       "      <th>morosidad</th>\n",
       "    </tr>\n",
       "  </thead>\n",
       "  <tbody>\n",
       "    <tr>\n",
       "      <th>0</th>\n",
       "      <td>44.0</td>\n",
       "      <td>2.0</td>\n",
       "      <td>3.0</td>\n",
       "      <td>2.0</td>\n",
       "      <td>2.0</td>\n",
       "      <td>1.0</td>\n",
       "      <td>1.0</td>\n",
       "      <td>1.0</td>\n",
       "      <td>63.0</td>\n",
       "      <td>2.0</td>\n",
       "      <td>1.0</td>\n",
       "      <td>1.0</td>\n",
       "    </tr>\n",
       "    <tr>\n",
       "      <th>1</th>\n",
       "      <td>77.0</td>\n",
       "      <td>2.0</td>\n",
       "      <td>4.0</td>\n",
       "      <td>2.0</td>\n",
       "      <td>2.0</td>\n",
       "      <td>1.0</td>\n",
       "      <td>1.0</td>\n",
       "      <td>2.0</td>\n",
       "      <td>62.0</td>\n",
       "      <td>2.0</td>\n",
       "      <td>1.0</td>\n",
       "      <td>2.0</td>\n",
       "    </tr>\n",
       "    <tr>\n",
       "      <th>2</th>\n",
       "      <td>59.0</td>\n",
       "      <td>2.0</td>\n",
       "      <td>5.0</td>\n",
       "      <td>1.0</td>\n",
       "      <td>1.0</td>\n",
       "      <td>1.0</td>\n",
       "      <td>2.0</td>\n",
       "      <td>1.0</td>\n",
       "      <td>59.0</td>\n",
       "      <td>2.0</td>\n",
       "      <td>1.0</td>\n",
       "      <td>2.0</td>\n",
       "    </tr>\n",
       "    <tr>\n",
       "      <th>3</th>\n",
       "      <td>35.0</td>\n",
       "      <td>2.0</td>\n",
       "      <td>5.0</td>\n",
       "      <td>1.0</td>\n",
       "      <td>2.0</td>\n",
       "      <td>1.0</td>\n",
       "      <td>1.0</td>\n",
       "      <td>1.0</td>\n",
       "      <td>58.0</td>\n",
       "      <td>2.0</td>\n",
       "      <td>1.0</td>\n",
       "      <td>2.0</td>\n",
       "    </tr>\n",
       "    <tr>\n",
       "      <th>4</th>\n",
       "      <td>65.0</td>\n",
       "      <td>2.0</td>\n",
       "      <td>0.0</td>\n",
       "      <td>2.0</td>\n",
       "      <td>1.0</td>\n",
       "      <td>1.0</td>\n",
       "      <td>2.0</td>\n",
       "      <td>1.0</td>\n",
       "      <td>56.0</td>\n",
       "      <td>2.0</td>\n",
       "      <td>1.0</td>\n",
       "      <td>1.0</td>\n",
       "    </tr>\n",
       "    <tr>\n",
       "      <th>...</th>\n",
       "      <td>...</td>\n",
       "      <td>...</td>\n",
       "      <td>...</td>\n",
       "      <td>...</td>\n",
       "      <td>...</td>\n",
       "      <td>...</td>\n",
       "      <td>...</td>\n",
       "      <td>...</td>\n",
       "      <td>...</td>\n",
       "      <td>...</td>\n",
       "      <td>...</td>\n",
       "      <td>...</td>\n",
       "    </tr>\n",
       "    <tr>\n",
       "      <th>8466</th>\n",
       "      <td>57.0</td>\n",
       "      <td>2.0</td>\n",
       "      <td>5.0</td>\n",
       "      <td>1.0</td>\n",
       "      <td>1.0</td>\n",
       "      <td>1.0</td>\n",
       "      <td>2.0</td>\n",
       "      <td>2.0</td>\n",
       "      <td>0.0</td>\n",
       "      <td>2.0</td>\n",
       "      <td>6.0</td>\n",
       "      <td>2.0</td>\n",
       "    </tr>\n",
       "    <tr>\n",
       "      <th>8467</th>\n",
       "      <td>57.0</td>\n",
       "      <td>2.0</td>\n",
       "      <td>3.0</td>\n",
       "      <td>2.0</td>\n",
       "      <td>1.0</td>\n",
       "      <td>1.0</td>\n",
       "      <td>1.0</td>\n",
       "      <td>2.0</td>\n",
       "      <td>0.0</td>\n",
       "      <td>2.0</td>\n",
       "      <td>6.0</td>\n",
       "      <td>1.0</td>\n",
       "    </tr>\n",
       "    <tr>\n",
       "      <th>8468</th>\n",
       "      <td>64.0</td>\n",
       "      <td>2.0</td>\n",
       "      <td>1.0</td>\n",
       "      <td>2.0</td>\n",
       "      <td>1.0</td>\n",
       "      <td>2.0</td>\n",
       "      <td>1.0</td>\n",
       "      <td>1.0</td>\n",
       "      <td>0.0</td>\n",
       "      <td>2.0</td>\n",
       "      <td>6.0</td>\n",
       "      <td>1.0</td>\n",
       "    </tr>\n",
       "    <tr>\n",
       "      <th>8469</th>\n",
       "      <td>67.0</td>\n",
       "      <td>1.0</td>\n",
       "      <td>0.0</td>\n",
       "      <td>2.0</td>\n",
       "      <td>1.0</td>\n",
       "      <td>2.0</td>\n",
       "      <td>1.0</td>\n",
       "      <td>2.0</td>\n",
       "      <td>0.0</td>\n",
       "      <td>2.0</td>\n",
       "      <td>6.0</td>\n",
       "      <td>1.0</td>\n",
       "    </tr>\n",
       "    <tr>\n",
       "      <th>8470</th>\n",
       "      <td>69.0</td>\n",
       "      <td>2.0</td>\n",
       "      <td>1.0</td>\n",
       "      <td>1.0</td>\n",
       "      <td>1.0</td>\n",
       "      <td>1.0</td>\n",
       "      <td>2.0</td>\n",
       "      <td>1.0</td>\n",
       "      <td>0.0</td>\n",
       "      <td>2.0</td>\n",
       "      <td>6.0</td>\n",
       "      <td>1.0</td>\n",
       "    </tr>\n",
       "  </tbody>\n",
       "</table>\n",
       "<p>8471 rows × 12 columns</p>\n",
       "</div>"
      ],
      "text/plain": [
       "      edad  sexo  nrodepen  fonopart  fonolab  autovaluo  esaval  tieneaval  \\\n",
       "0     44.0   2.0       3.0       2.0      2.0        1.0     1.0        1.0   \n",
       "1     77.0   2.0       4.0       2.0      2.0        1.0     1.0        2.0   \n",
       "2     59.0   2.0       5.0       1.0      1.0        1.0     2.0        1.0   \n",
       "3     35.0   2.0       5.0       1.0      2.0        1.0     1.0        1.0   \n",
       "4     65.0   2.0       0.0       2.0      1.0        1.0     2.0        1.0   \n",
       "...    ...   ...       ...       ...      ...        ...     ...        ...   \n",
       "8466  57.0   2.0       5.0       1.0      1.0        1.0     2.0        2.0   \n",
       "8467  57.0   2.0       3.0       2.0      1.0        1.0     1.0        2.0   \n",
       "8468  64.0   2.0       1.0       2.0      1.0        2.0     1.0        1.0   \n",
       "8469  67.0   1.0       0.0       2.0      1.0        2.0     1.0        2.0   \n",
       "8470  69.0   2.0       1.0       1.0      1.0        1.0     2.0        1.0   \n",
       "\n",
       "      antiguedad  tiporenta  dpto  morosidad  \n",
       "0           63.0        2.0   1.0        1.0  \n",
       "1           62.0        2.0   1.0        2.0  \n",
       "2           59.0        2.0   1.0        2.0  \n",
       "3           58.0        2.0   1.0        2.0  \n",
       "4           56.0        2.0   1.0        1.0  \n",
       "...          ...        ...   ...        ...  \n",
       "8466         0.0        2.0   6.0        2.0  \n",
       "8467         0.0        2.0   6.0        1.0  \n",
       "8468         0.0        2.0   6.0        1.0  \n",
       "8469         0.0        2.0   6.0        1.0  \n",
       "8470         0.0        2.0   6.0        1.0  \n",
       "\n",
       "[8471 rows x 12 columns]"
      ]
     },
     "execution_count": 3,
     "metadata": {},
     "output_type": "execute_result"
    }
   ],
   "source": [
    "data1, meta =  pyreadstat.read_sav( r\"../../data/Riesgo_morosidad.sav\")\n",
    "data1\n"
   ]
  },
  {
   "cell_type": "code",
   "execution_count": 4,
   "id": "8c32f191",
   "metadata": {},
   "outputs": [],
   "source": [
    "datospss = data1.copy()"
   ]
  },
  {
   "cell_type": "code",
   "execution_count": 5,
   "id": "2c320b82",
   "metadata": {},
   "outputs": [
    {
     "data": {
      "text/plain": [
       "{'edad': 'Edad',\n",
       " 'sexo': 'Sexo',\n",
       " 'nrodepen': 'Número de Dependientes',\n",
       " 'fonopart': '¿Tiene teléfono particular?',\n",
       " 'fonolab': '¿Tiene teléfono en el trabajo?',\n",
       " 'autovaluo': '¿Presenta autovaluo?',\n",
       " 'esaval': '¿Es aval de otros clientes?',\n",
       " 'tieneaval': '¿Tiene aval?',\n",
       " 'antiguedad': 'Antiguedad en años',\n",
       " 'tiporenta': 'Tipo de renta',\n",
       " 'dpto': 'Departamento',\n",
       " 'morosidad': 'Morosidad'}"
      ]
     },
     "execution_count": 5,
     "metadata": {},
     "output_type": "execute_result"
    }
   ],
   "source": [
    "# etiquetas de variable \n",
    "\n",
    "var_labels = dict(zip(meta.column_names, meta.column_labels))\n",
    "var_labels"
   ]
  },
  {
   "cell_type": "code",
   "execution_count": 6,
   "id": "c6e2ba7b",
   "metadata": {},
   "outputs": [
    {
     "data": {
      "text/plain": [
       "{'sexo': {1.0: 'Femenino', 2.0: 'Masculino'},\n",
       " 'fonopart': {1.0: 'No', 2.0: 'Si'},\n",
       " 'fonolab': {1.0: 'No', 2.0: 'Si'},\n",
       " 'autovaluo': {1.0: 'No', 2.0: 'Si'},\n",
       " 'esaval': {1.0: 'No', 2.0: 'Si'},\n",
       " 'tieneaval': {1.0: 'No', 2.0: 'Si'},\n",
       " 'tiporenta': {2.0: 'Fijo', 3.0: 'Variable'},\n",
       " 'dpto': {1.0: 'Lima',\n",
       "  2.0: 'Trujillo',\n",
       "  3.0: 'Arequipa',\n",
       "  4.0: 'Cusco',\n",
       "  5.0: 'Ica',\n",
       "  6.0: 'Piura'},\n",
       " 'morosidad': {1.0: 'No Moroso', 2.0: 'Moroso'}}"
      ]
     },
     "execution_count": 6,
     "metadata": {},
     "output_type": "execute_result"
    }
   ],
   "source": [
    "# etiqueta de valores\n",
    "meta.variable_value_labels"
   ]
  },
  {
   "cell_type": "markdown",
   "id": "3270d4f4",
   "metadata": {},
   "source": [
    "## Bar Plot"
   ]
  },
  {
   "cell_type": "code",
   "execution_count": 7,
   "id": "32e90303",
   "metadata": {},
   "outputs": [
    {
     "data": {
      "image/png": "[encoded data removed]",
      "text/plain": [
       "<Figure size 504x288 with 1 Axes>"
      ]
     },
     "metadata": {
      "needs_background": "light"
     },
     "output_type": "display_data"
    }
   ],
   "source": [
    "fig, ax = plt.subplots( figsize=(7,4) )\n"
   ]
  },
  {
   "cell_type": "code",
   "execution_count": 8,
   "id": "b8a2ba88",
   "metadata": {},
   "outputs": [
    {
     "data": {
      "text/plain": [
       "<AxesSubplot:xlabel='morosidad', ylabel='count'>"
      ]
     },
     "execution_count": 8,
     "metadata": {},
     "output_type": "execute_result"
    },
    {
     "data": {
      "image/png": "[encoded data removed]",
      "text/plain": [
       "<Figure size 504x288 with 1 Axes>"
      ]
     },
     "metadata": {
      "needs_background": "light"
     },
     "output_type": "display_data"
    }
   ],
   "source": [
    "fig, ax = plt.subplots( figsize=(7,4) )\n",
    "\n",
    "# countplot de la libreria seaborn \n",
    "\n",
    "sns.countplot( x=\"morosidad\", data=datospss)\n"
   ]
  },
  {
   "cell_type": "code",
   "execution_count": 9,
   "id": "feb31f2b",
   "metadata": {},
   "outputs": [
    {
     "data": {
      "text/plain": [
       "Text(0.5, 0, '')"
      ]
     },
     "execution_count": 9,
     "metadata": {},
     "output_type": "execute_result"
    },
    {
     "data": {
      "image/png": "[encoded data removed]",
      "text/plain": [
       "<Figure size 504x288 with 1 Axes>"
      ]
     },
     "metadata": {
      "needs_background": "light"
     },
     "output_type": "display_data"
    }
   ],
   "source": [
    "fig, ax = plt.subplots( figsize=(7,4) )\n",
    "\n",
    "sns.countplot( x=\"morosidad\", data=datospss )\n",
    "\n",
    "ax.set_xticklabels([\"No Moroso\", \"Moroso\"], size=11)\n",
    "# titulos en los ejes\n",
    "plt.ylabel('')\n",
    "plt.xlabel('')"
   ]
  },
  {
   "cell_type": "code",
   "execution_count": 10,
   "id": "4269453f",
   "metadata": {},
   "outputs": [
    {
     "data": {
      "text/plain": [
       "Text(0.5, 0, '')"
      ]
     },
     "execution_count": 10,
     "metadata": {},
     "output_type": "execute_result"
    },
    {
     "data": {
      "image/png": "[encoded data removed]",
      "text/plain": [
       "<Figure size 504x288 with 1 Axes>"
      ]
     },
     "metadata": {
      "needs_background": "light"
     },
     "output_type": "display_data"
    }
   ],
   "source": [
    "# Cambio de Orientación\n",
    "\n",
    "fig, ax = plt.subplots( figsize=(7,4) )\n",
    "\n",
    "sns.countplot( y=\"morosidad\", data=datospss )\n",
    "\n",
    "ax.set_yticklabels([\"No Moroso\", \"Moroso\"], size=11)\n",
    "plt.ylabel('')\n",
    "plt.xlabel('')"
   ]
  },
  {
   "cell_type": "code",
   "execution_count": 11,
   "id": "f042354c",
   "metadata": {},
   "outputs": [
    {
     "data": {
      "text/plain": [
       "Text(0.5, 0, '')"
      ]
     },
     "execution_count": 11,
     "metadata": {},
     "output_type": "execute_result"
    },
    {
     "data": {
      "image/png": "[encoded data removed]",
      "text/plain": [
       "<Figure size 504x288 with 1 Axes>"
      ]
     },
     "metadata": {
      "needs_background": "light"
     },
     "output_type": "display_data"
    }
   ],
   "source": [
    "fig, ax = plt.subplots( figsize=(7,4) )\n",
    "\n",
    "sns.countplot( x=\"morosidad\", data=datospss )\n",
    "\n",
    "ax.set_xticklabels([\"No Moroso\", \"Moroso\"], size=11)\n",
    "plt.ylabel('')\n",
    "plt.xlabel('')"
   ]
  },
  {
   "cell_type": "code",
   "execution_count": 12,
   "id": "ebac433a",
   "metadata": {},
   "outputs": [
    {
     "data": {
      "text/plain": [
       "Text(0.5, 1.0, 'Gráfico de Barras de morosidad')"
      ]
     },
     "execution_count": 12,
     "metadata": {},
     "output_type": "execute_result"
    },
    {
     "data": {
      "image/png": "[encoded data removed]",
      "text/plain": [
       "<Figure size 504x288 with 1 Axes>"
      ]
     },
     "metadata": {
      "needs_background": "light"
     },
     "output_type": "display_data"
    }
   ],
   "source": [
    "# añadiendo subtitulos y titulo de gráfico\n",
    "\n",
    "fig, ax = plt.subplots( figsize=(7,4) )\n",
    "\n",
    "sns.countplot( x=\"morosidad\", data=datospss )\n",
    "\n",
    "ax.set_xticklabels([\"No Moroso\", \"Moroso\"], size=11)\n",
    "plt.ylabel('Frecuencia absoluta')\n",
    "plt.xlabel('Condición de la morosidad')\n",
    "plt.title(\"Gráfico de Barras de morosidad\")"
   ]
  },
  {
   "cell_type": "code",
   "execution_count": 13,
   "id": "dadd5f95",
   "metadata": {},
   "outputs": [
    {
     "data": {
      "text/plain": [
       "Text(0.5, 1.0, 'Gráfico de barras de morosidad')"
      ]
     },
     "execution_count": 13,
     "metadata": {},
     "output_type": "execute_result"
    },
    {
     "data": {
      "image/png": "[encoded data removed]",
      "text/plain": [
       "<Figure size 504x288 with 1 Axes>"
      ]
     },
     "metadata": {
      "needs_background": "light"
     },
     "output_type": "display_data"
    }
   ],
   "source": [
    "# ajustanto el tamaño de los susbtitulos y titulos\n",
    "\n",
    "fig, ax = plt.subplots( figsize=(7,4) )\n",
    "\n",
    "sns.countplot( x=\"morosidad\", data=datospss )\n",
    "\n",
    "ax.set_xticklabels([\"No Moroso\", \"Moroso\"], size=11)\n",
    "plt.ylabel('Frecuencia absoluta', size = 8)\n",
    "plt.xlabel('Condición de la morosidad', size = 8)\n",
    "plt.title(\"Gráfico de barras de morosidad\", size = 18)"
   ]
  },
  {
   "cell_type": "code",
   "execution_count": 14,
   "id": "d356331f",
   "metadata": {},
   "outputs": [
    {
     "data": {
      "text/plain": [
       "Text(0.5, 1.0, 'Gráfico de barras de morosidad')"
      ]
     },
     "execution_count": 14,
     "metadata": {},
     "output_type": "execute_result"
    },
    {
     "data": {
      "image/png": "[encoded data removed]",
      "text/plain": [
       "<Figure size 504x288 with 1 Axes>"
      ]
     },
     "metadata": {
      "needs_background": "light"
     },
     "output_type": "display_data"
    }
   ],
   "source": [
    "# Asignando colores diferentes\n",
    "\n",
    "fig, ax = plt.subplots( figsize=(7,4) )\n",
    "\n",
    "sns.countplot( x=\"morosidad\", data=datospss , palette=['lightblue', 'lightgreen'])\n",
    "\n",
    "ax.set_xticklabels([\"No Moroso\", \"Moroso\"], size=11)\n",
    "plt.ylabel('Frecuencia absoluta', size = 8)\n",
    "plt.xlabel('Condición de la morosidad', size = 8)\n",
    "plt.title(\"Gráfico de barras de morosidad\", size = 18)"
   ]
  },
  {
   "cell_type": "code",
   "execution_count": 15,
   "id": "97af7ffc",
   "metadata": {
    "scrolled": true
   },
   "outputs": [
    {
     "data": {
      "image/png": "[encoded data removed]",
      "text/plain": [
       "<Figure size 504x288 with 1 Axes>"
      ]
     },
     "metadata": {
      "needs_background": "light"
     },
     "output_type": "display_data"
    }
   ],
   "source": [
    "# Usando los colores RGB\n",
    "\n",
    "fig, ax = plt.subplots( figsize=(7,4) )\n",
    "\n",
    "sns.countplot( x=\"morosidad\", data=datospss , palette=[\"#44a5c2\", \"#ffae49\"], edgecolor = \"black\")\n",
    "\n",
    "\n",
    "# edge color: color de borde \n",
    "\n",
    "ax.set_xticklabels([\"No Moroso\", \"Moroso\"], size=11)\n",
    "plt.ylabel('Frecuencia absoluta', size = 8)\n",
    "plt.xlabel('Condición de la morosidad', size = 8)\n",
    "plt.title(\"Gráfico de barras de morosidad\", size = 18)\n",
    "\n",
    "\n",
    "# save plot\n",
    "\n",
    "fig.savefig(r'../../output/plots/plot_bar_morosidad.png', dpi=800, bbox_inches='tight')\n",
    "\n",
    "# bbox_inches='tight' : titulos, subtitulos, anotaciones, leyenda serán visibles en la imagen"
   ]
  },
  {
   "cell_type": "markdown",
   "id": "8ccb5aac",
   "metadata": {},
   "source": [
    "### Colores RGB\n",
    "\n",
    "https://www.rapidtables.com/web/color/RGB_Color.html"
   ]
  },
  {
   "cell_type": "markdown",
   "id": "c3bb7fcf",
   "metadata": {},
   "source": [
    "### Stacked bar "
   ]
  },
  {
   "cell_type": "code",
   "execution_count": 16,
   "id": "76d297ad",
   "metadata": {},
   "outputs": [
    {
     "data": {
      "text/html": [
       "<div>\n",
       "<style scoped>\n",
       "    .dataframe tbody tr th:only-of-type {\n",
       "        vertical-align: middle;\n",
       "    }\n",
       "\n",
       "    .dataframe tbody tr th {\n",
       "        vertical-align: top;\n",
       "    }\n",
       "\n",
       "    .dataframe thead th {\n",
       "        text-align: right;\n",
       "    }\n",
       "</style>\n",
       "<table border=\"1\" class=\"dataframe\">\n",
       "  <thead>\n",
       "    <tr style=\"text-align: right;\">\n",
       "      <th>morosidad</th>\n",
       "      <th>1.0</th>\n",
       "      <th>2.0</th>\n",
       "    </tr>\n",
       "    <tr>\n",
       "      <th>tiporenta</th>\n",
       "      <th></th>\n",
       "      <th></th>\n",
       "    </tr>\n",
       "  </thead>\n",
       "  <tbody>\n",
       "    <tr>\n",
       "      <th>2.0</th>\n",
       "      <td>2539</td>\n",
       "      <td>1237</td>\n",
       "    </tr>\n",
       "    <tr>\n",
       "      <th>3.0</th>\n",
       "      <td>2721</td>\n",
       "      <td>1974</td>\n",
       "    </tr>\n",
       "  </tbody>\n",
       "</table>\n",
       "</div>"
      ],
      "text/plain": [
       "morosidad   1.0   2.0\n",
       "tiporenta            \n",
       "2.0        2539  1237\n",
       "3.0        2721  1974"
      ]
     },
     "execution_count": 16,
     "metadata": {},
     "output_type": "execute_result"
    }
   ],
   "source": [
    "base = pd.crosstab(datospss.tiporenta, datospss.morosidad) #.pivot(index = 'tiporenta', columns = 'morosidad', values = 'cantidad')\n",
    "base"
   ]
  },
  {
   "cell_type": "code",
   "execution_count": 17,
   "id": "21491036",
   "metadata": {},
   "outputs": [
    {
     "data": {
      "text/plain": [
       "<matplotlib.legend.Legend at 0x265f7090460>"
      ]
     },
     "execution_count": 17,
     "metadata": {},
     "output_type": "execute_result"
    },
    {
     "data": {
      "image/png": "[encoded data removed]",
      "text/plain": [
       "<Figure size 360x288 with 1 Axes>"
      ]
     },
     "metadata": {
      "needs_background": "light"
     },
     "output_type": "display_data"
    }
   ],
   "source": [
    "fig, ax = plt.subplots( figsize=(5,4) )\n",
    "\n",
    "base.plot( kind='bar', stacked=True, title='Situación de la Morosidad según Tipo de Renta',\n",
    "          colormap='tab10' , ax = ax)  # colormap \n",
    "\n",
    "plt.xlabel('Tipo de Renta')\n",
    "plt.ylabel('Frecuencia')\n",
    "ax.set_xticklabels([\"Fijo\", \"Variable\"], size=11, rotation=0)\n",
    "\n",
    "plt.legend( labels = [\"No moroso\", \"Moroso\"] , bbox_to_anchor=(1.4, 0.65))"
   ]
  },
  {
   "cell_type": "markdown",
   "id": "c67e0c6e",
   "metadata": {},
   "source": [
    "- Colores combinados \n",
    "\n",
    "https://matplotlib.org/stable/tutorials/colors/colormaps.html"
   ]
  },
  {
   "cell_type": "markdown",
   "id": "ab8ee85a",
   "metadata": {},
   "source": [
    "## Stacked Bar Plot en proporción"
   ]
  },
  {
   "cell_type": "code",
   "execution_count": 18,
   "id": "c5f308b1",
   "metadata": {
    "scrolled": true
   },
   "outputs": [
    {
     "data": {
      "text/html": [
       "<div>\n",
       "<style scoped>\n",
       "    .dataframe tbody tr th:only-of-type {\n",
       "        vertical-align: middle;\n",
       "    }\n",
       "\n",
       "    .dataframe tbody tr th {\n",
       "        vertical-align: top;\n",
       "    }\n",
       "\n",
       "    .dataframe thead th {\n",
       "        text-align: right;\n",
       "    }\n",
       "</style>\n",
       "<table border=\"1\" class=\"dataframe\">\n",
       "  <thead>\n",
       "    <tr style=\"text-align: right;\">\n",
       "      <th>morosidad</th>\n",
       "      <th>1.0</th>\n",
       "      <th>2.0</th>\n",
       "    </tr>\n",
       "    <tr>\n",
       "      <th>tiporenta</th>\n",
       "      <th></th>\n",
       "      <th></th>\n",
       "    </tr>\n",
       "  </thead>\n",
       "  <tbody>\n",
       "    <tr>\n",
       "      <th>2.0</th>\n",
       "      <td>0.672405</td>\n",
       "      <td>0.327595</td>\n",
       "    </tr>\n",
       "    <tr>\n",
       "      <th>3.0</th>\n",
       "      <td>0.579553</td>\n",
       "      <td>0.420447</td>\n",
       "    </tr>\n",
       "  </tbody>\n",
       "</table>\n",
       "</div>"
      ],
      "text/plain": [
       "morosidad       1.0       2.0\n",
       "tiporenta                    \n",
       "2.0        0.672405  0.327595\n",
       "3.0        0.579553  0.420447"
      ]
     },
     "execution_count": 18,
     "metadata": {},
     "output_type": "execute_result"
    }
   ],
   "source": [
    "base = pd.crosstab(datospss.tiporenta, datospss.morosidad, normalize=\"index\") #.pivot(index = 'tiporenta', columns = 'morosidad', values = 'cantidad')\n",
    "base"
   ]
  },
  {
   "cell_type": "code",
   "execution_count": 19,
   "id": "cb3f12a9",
   "metadata": {},
   "outputs": [
    {
     "data": {
      "text/plain": [
       "<matplotlib.legend.Legend at 0x265801559d0>"
      ]
     },
     "execution_count": 19,
     "metadata": {},
     "output_type": "execute_result"
    },
    {
     "data": {
      "image/png": "[encoded data removed]",
      "text/plain": [
       "<Figure size 360x288 with 1 Axes>"
      ]
     },
     "metadata": {
      "needs_background": "light"
     },
     "output_type": "display_data"
    }
   ],
   "source": [
    "fig, ax = plt.subplots( figsize=(5,4) )\n",
    "\n",
    "base.plot( kind='barh', stacked=True, title='Situación de la Morosidad según Tipo de Renta (%)',\n",
    "          colormap='tab10' , ax = ax)\n",
    "\n",
    "plt.xlabel('Frecuencia relativa')\n",
    "plt.ylabel('Tipo de Renta')\n",
    "plt.legend(loc=\"lower left\", bbox_to_anchor=(0.5 , 0.65))\n",
    "ax.set_yticklabels([\"Fijo\", \"Variable\"], size=11, rotation=0)\n",
    "\n",
    "plt.legend(labels = [\"No moroso\", \"Moroso\"], bbox_to_anchor=(1, 0.65))"
   ]
  },
  {
   "cell_type": "markdown",
   "id": "3ab15144",
   "metadata": {},
   "source": [
    "## Histogramas "
   ]
  },
  {
   "cell_type": "code",
   "execution_count": 20,
   "id": "ea95962c",
   "metadata": {},
   "outputs": [
    {
     "data": {
      "text/plain": [
       "<AxesSubplot:xlabel='edad', ylabel='Count'>"
      ]
     },
     "execution_count": 20,
     "metadata": {},
     "output_type": "execute_result"
    },
    {
     "data": {
      "image/png": "[encoded data removed]",
      "text/plain": [
       "<Figure size 576x360 with 1 Axes>"
      ]
     },
     "metadata": {
      "needs_background": "light"
     },
     "output_type": "display_data"
    }
   ],
   "source": [
    "fig, ax = plt.subplots(figsize=(8,5))\n",
    "\n",
    "sns.histplot(data = datospss,\n",
    "            x = 'edad',\n",
    "            alpha = 0.7,\n",
    "            edgecolor=\"0.2\",\n",
    "            linewidth=1\n",
    "            )"
   ]
  },
  {
   "cell_type": "code",
   "execution_count": 21,
   "id": "bc4e55f7",
   "metadata": {},
   "outputs": [
    {
     "data": {
      "text/plain": [
       "Text(0, 0.5, 'Frecuencia absoluta')"
      ]
     },
     "execution_count": 21,
     "metadata": {},
     "output_type": "execute_result"
    },
    {
     "data": {
      "image/png": "[encoded data removed]",
      "text/plain": [
       "<Figure size 576x360 with 1 Axes>"
      ]
     },
     "metadata": {
      "needs_background": "light"
     },
     "output_type": "display_data"
    }
   ],
   "source": [
    "fig, ax = plt.subplots(figsize=(8,5))\n",
    "\n",
    "sns.histplot(data = datospss,\n",
    "            x = 'edad',\n",
    "            alpha = 0.7,\n",
    "            edgecolor=\"0.2\",\n",
    "            linewidth=1,\n",
    "             bins = 50\n",
    "            )\n",
    "\n",
    "plt.xlabel('Edad')\n",
    "plt.ylabel('Frecuencia absoluta')"
   ]
  },
  {
   "cell_type": "code",
   "execution_count": 22,
   "id": "d3d992ea",
   "metadata": {},
   "outputs": [
    {
     "data": {
      "text/plain": [
       "<matplotlib.legend.Legend at 0x2658033e100>"
      ]
     },
     "execution_count": 22,
     "metadata": {},
     "output_type": "execute_result"
    },
    {
     "data": {
      "image/png": "[encoded data removed]",
      "text/plain": [
       "<Figure size 576x360 with 1 Axes>"
      ]
     },
     "metadata": {
      "needs_background": "light"
     },
     "output_type": "display_data"
    }
   ],
   "source": [
    "# Histograma de la edad según situación de morosidad \n",
    "\n",
    "fig, ax = plt.subplots(figsize=(8,5))\n",
    "\n",
    "sns.histplot(data = datospss,\n",
    "            x = 'edad',\n",
    "            alpha = 0.7,\n",
    "            edgecolor=\"0.2\",\n",
    "            linewidth=1,\n",
    "            hue = 'morosidad',\n",
    "            palette=[\"#E69F00\", \"#56B4E9\"]\n",
    "            )\n",
    "\n",
    "plt.xlabel('Edad')\n",
    "plt.ylabel('Frecuencia absoluta')\n",
    "plt.legend( labels = [\"Moroso\", \"No moroso\"])"
   ]
  },
  {
   "cell_type": "markdown",
   "id": "cdd333f9",
   "metadata": {},
   "source": [
    "#### Subgráficos de histogramas"
   ]
  },
  {
   "cell_type": "code",
   "execution_count": 30,
   "id": "a93ba594",
   "metadata": {},
   "outputs": [],
   "source": [
    "datospss.loc[datospss.dpto == 1, \"region\"] = \"Lima\"\n",
    "datospss.loc[datospss.dpto == 2, \"region\"] = \"Trujillo\"\n",
    "datospss.loc[datospss.dpto == 3, \"region\"] = \"Arequipa\"\n",
    "datospss.loc[datospss.dpto == 4, \"region\"] = \"Cusco\"\n",
    "datospss.loc[datospss.dpto == 5, \"region\"] = \"Ica\"\n",
    "datospss.loc[datospss.dpto == 6, \"region\"] = \"Piura\""
   ]
  },
  {
   "cell_type": "code",
   "execution_count": 40,
   "id": "6e799b3b",
   "metadata": {},
   "outputs": [
    {
     "data": {
      "text/plain": [
       "<seaborn.axisgrid.FacetGrid at 0x2658cc16b80>"
      ]
     },
     "execution_count": 40,
     "metadata": {},
     "output_type": "execute_result"
    },
    {
     "data": {
      "image/png": "[encoded data removed]",
      "text/plain": [
       "<Figure size 1080x720 with 6 Axes>"
      ]
     },
     "metadata": {
      "needs_background": "light"
     },
     "output_type": "display_data"
    }
   ],
   "source": [
    "# histograma con columnas estandarizadas\n",
    "\n",
    "figure = sns.displot( data = datospss, x = 'edad', col = 'region', \n",
    "            col_wrap = 3\n",
    "           )\n",
    "\n",
    "\n",
    "figure.set_titles(\"{col_name}\", size = 14)"
   ]
  },
  {
   "cell_type": "code",
   "execution_count": 41,
   "id": "e57a581d",
   "metadata": {},
   "outputs": [
    {
     "data": {
      "text/plain": [
       "<seaborn.axisgrid.FacetGrid at 0x2658c5f9880>"
      ]
     },
     "execution_count": 41,
     "metadata": {},
     "output_type": "execute_result"
    },
    {
     "data": {
      "image/png": "[encoded data removed]",
      "text/plain": [
       "<Figure size 1080x720 with 6 Axes>"
      ]
     },
     "metadata": {
      "needs_background": "light"
     },
     "output_type": "display_data"
    }
   ],
   "source": [
    "# Cada histograma por separado\n",
    "\n",
    "figure = sns.displot( data = datospss, x = 'edad', col = 'region', \n",
    "            col_wrap = 3,\n",
    "    facet_kws = {'sharex' : False, \n",
    "        'sharey' : False }\n",
    "           )\n",
    "\n",
    "figure.set_titles(\"{col_name}\", size = 14)  "
   ]
  },
  {
   "cell_type": "markdown",
   "id": "30c5aa2f",
   "metadata": {},
   "source": [
    "## Series de tiempo"
   ]
  },
  {
   "cell_type": "code",
   "execution_count": 44,
   "id": "09661606",
   "metadata": {},
   "outputs": [
    {
     "data": {
      "text/html": [
       "<div>\n",
       "<style scoped>\n",
       "    .dataframe tbody tr th:only-of-type {\n",
       "        vertical-align: middle;\n",
       "    }\n",
       "\n",
       "    .dataframe tbody tr th {\n",
       "        vertical-align: top;\n",
       "    }\n",
       "\n",
       "    .dataframe thead th {\n",
       "        text-align: right;\n",
       "    }\n",
       "</style>\n",
       "<table border=\"1\" class=\"dataframe\">\n",
       "  <thead>\n",
       "    <tr style=\"text-align: right;\">\n",
       "      <th></th>\n",
       "      <th>date</th>\n",
       "      <th>pce</th>\n",
       "      <th>pop</th>\n",
       "      <th>psavert</th>\n",
       "      <th>uempmed</th>\n",
       "      <th>unemploy</th>\n",
       "    </tr>\n",
       "  </thead>\n",
       "  <tbody>\n",
       "    <tr>\n",
       "      <th>0</th>\n",
       "      <td>1967-07-01</td>\n",
       "      <td>506.7</td>\n",
       "      <td>198712.000</td>\n",
       "      <td>12.6</td>\n",
       "      <td>4.5</td>\n",
       "      <td>2944</td>\n",
       "    </tr>\n",
       "    <tr>\n",
       "      <th>1</th>\n",
       "      <td>1967-08-01</td>\n",
       "      <td>509.8</td>\n",
       "      <td>198911.000</td>\n",
       "      <td>12.6</td>\n",
       "      <td>4.7</td>\n",
       "      <td>2945</td>\n",
       "    </tr>\n",
       "    <tr>\n",
       "      <th>2</th>\n",
       "      <td>1967-09-01</td>\n",
       "      <td>515.6</td>\n",
       "      <td>199113.000</td>\n",
       "      <td>11.9</td>\n",
       "      <td>4.6</td>\n",
       "      <td>2958</td>\n",
       "    </tr>\n",
       "    <tr>\n",
       "      <th>3</th>\n",
       "      <td>1967-10-01</td>\n",
       "      <td>512.2</td>\n",
       "      <td>199311.000</td>\n",
       "      <td>12.9</td>\n",
       "      <td>4.9</td>\n",
       "      <td>3143</td>\n",
       "    </tr>\n",
       "    <tr>\n",
       "      <th>4</th>\n",
       "      <td>1967-11-01</td>\n",
       "      <td>517.4</td>\n",
       "      <td>199498.000</td>\n",
       "      <td>12.8</td>\n",
       "      <td>4.7</td>\n",
       "      <td>3066</td>\n",
       "    </tr>\n",
       "    <tr>\n",
       "      <th>...</th>\n",
       "      <td>...</td>\n",
       "      <td>...</td>\n",
       "      <td>...</td>\n",
       "      <td>...</td>\n",
       "      <td>...</td>\n",
       "      <td>...</td>\n",
       "    </tr>\n",
       "    <tr>\n",
       "      <th>569</th>\n",
       "      <td>2014-12-01</td>\n",
       "      <td>12062.0</td>\n",
       "      <td>319746.157</td>\n",
       "      <td>7.6</td>\n",
       "      <td>12.9</td>\n",
       "      <td>8717</td>\n",
       "    </tr>\n",
       "    <tr>\n",
       "      <th>570</th>\n",
       "      <td>2015-01-01</td>\n",
       "      <td>12046.0</td>\n",
       "      <td>319928.646</td>\n",
       "      <td>7.7</td>\n",
       "      <td>13.2</td>\n",
       "      <td>8903</td>\n",
       "    </tr>\n",
       "    <tr>\n",
       "      <th>571</th>\n",
       "      <td>2015-02-01</td>\n",
       "      <td>12082.4</td>\n",
       "      <td>320074.511</td>\n",
       "      <td>7.9</td>\n",
       "      <td>12.9</td>\n",
       "      <td>8610</td>\n",
       "    </tr>\n",
       "    <tr>\n",
       "      <th>572</th>\n",
       "      <td>2015-03-01</td>\n",
       "      <td>12158.3</td>\n",
       "      <td>320230.786</td>\n",
       "      <td>7.4</td>\n",
       "      <td>12.0</td>\n",
       "      <td>8504</td>\n",
       "    </tr>\n",
       "    <tr>\n",
       "      <th>573</th>\n",
       "      <td>2015-04-01</td>\n",
       "      <td>12193.8</td>\n",
       "      <td>320402.295</td>\n",
       "      <td>7.6</td>\n",
       "      <td>11.5</td>\n",
       "      <td>8526</td>\n",
       "    </tr>\n",
       "  </tbody>\n",
       "</table>\n",
       "<p>574 rows × 6 columns</p>\n",
       "</div>"
      ],
      "text/plain": [
       "           date      pce         pop  psavert  uempmed  unemploy\n",
       "0    1967-07-01    506.7  198712.000     12.6      4.5      2944\n",
       "1    1967-08-01    509.8  198911.000     12.6      4.7      2945\n",
       "2    1967-09-01    515.6  199113.000     11.9      4.6      2958\n",
       "3    1967-10-01    512.2  199311.000     12.9      4.9      3143\n",
       "4    1967-11-01    517.4  199498.000     12.8      4.7      3066\n",
       "..          ...      ...         ...      ...      ...       ...\n",
       "569  2014-12-01  12062.0  319746.157      7.6     12.9      8717\n",
       "570  2015-01-01  12046.0  319928.646      7.7     13.2      8903\n",
       "571  2015-02-01  12082.4  320074.511      7.9     12.9      8610\n",
       "572  2015-03-01  12158.3  320230.786      7.4     12.0      8504\n",
       "573  2015-04-01  12193.8  320402.295      7.6     11.5      8526\n",
       "\n",
       "[574 rows x 6 columns]"
      ]
     },
     "execution_count": 44,
     "metadata": {},
     "output_type": "execute_result"
    }
   ],
   "source": [
    "economics = pd.read_csv(\"../../data/economics.csv\")\n",
    "economics"
   ]
  },
  {
   "cell_type": "code",
   "execution_count": 49,
   "id": "8171d4fd",
   "metadata": {},
   "outputs": [],
   "source": [
    "# extraemos el año\n",
    "economics['year']  = pd.to_datetime(economics['date'])"
   ]
  },
  {
   "cell_type": "code",
   "execution_count": 53,
   "id": "ca21e4f5",
   "metadata": {},
   "outputs": [
    {
     "data": {
      "text/plain": [
       "Text(0, 0.5, 'Unemplyment')"
      ]
     },
     "execution_count": 53,
     "metadata": {},
     "output_type": "execute_result"
    },
    {
     "data": {
      "image/png": "[encoded data removed]",
      "text/plain": [
       "<Figure size 576x360 with 1 Axes>"
      ]
     },
     "metadata": {
      "needs_background": "light"
     },
     "output_type": "display_data"
    }
   ],
   "source": [
    "fig, ax = plt.subplots(figsize=(8,5))\n",
    "\n",
    "sns.lineplot(x= \"year\" , y= \"unemploy\", data = economics, color=\"#56B4E9\", legend=False)\n",
    "plt.xlabel('Year')\n",
    "plt.ylabel('Unemplyment')"
   ]
  },
  {
   "cell_type": "code",
   "execution_count": 77,
   "id": "3cba891a",
   "metadata": {},
   "outputs": [
    {
     "data": {
      "text/plain": [
       "Text(0, 0.5, 'Unemplyment')"
      ]
     },
     "execution_count": 77,
     "metadata": {},
     "output_type": "execute_result"
    },
    {
     "data": {
      "image/png": "[encoded data removed]",
      "text/plain": [
       "<Figure size 576x360 with 1 Axes>"
      ]
     },
     "metadata": {
      "needs_background": "light"
     },
     "output_type": "display_data"
    }
   ],
   "source": [
    "fig, ax = plt.subplots(figsize=(8,5))\n",
    "\n",
    "sns.lineplot(x= \"year\" , y= \"psavert\", data = economics, color=\"gray\", legend=False, linewidth = 0.8)\n",
    "\n",
    "ax.set_xmargin(0)  # drop espacios right, left \n",
    "plt.ylim(0, 20)\n",
    "plt.xlabel('Year')\n",
    "plt.ylabel('Unemplyment')"
   ]
  },
  {
   "cell_type": "code",
   "execution_count": null,
   "id": "f234784c",
   "metadata": {},
   "outputs": [],
   "source": []
  },
  {
   "cell_type": "code",
   "execution_count": null,
   "id": "8ad5f40c",
   "metadata": {},
   "outputs": [],
   "source": []
  },
  {
   "cell_type": "code",
   "execution_count": null,
   "id": "b9020555",
   "metadata": {},
   "outputs": [],
   "source": []
  },
  {
   "cell_type": "code",
   "execution_count": null,
   "id": "9a427c2a",
   "metadata": {},
   "outputs": [],
   "source": []
  },
  {
   "cell_type": "code",
   "execution_count": null,
   "id": "972d841a",
   "metadata": {},
   "outputs": [],
   "source": []
  },
  {
   "cell_type": "code",
   "execution_count": null,
   "id": "4234c09c",
   "metadata": {},
   "outputs": [],
   "source": []
  },
  {
   "cell_type": "code",
   "execution_count": null,
   "id": "04e52d08",
   "metadata": {},
   "outputs": [],
   "source": []
  },
  {
   "cell_type": "code",
   "execution_count": null,
   "id": "dfda3a72",
   "metadata": {},
   "outputs": [],
   "source": []
  },
  {
   "cell_type": "code",
   "execution_count": null,
   "id": "eaa83694",
   "metadata": {},
   "outputs": [],
   "source": []
  },
  {
   "cell_type": "code",
   "execution_count": null,
   "id": "680fb681",
   "metadata": {},
   "outputs": [],
   "source": []
  },
  {
   "cell_type": "code",
   "execution_count": null,
   "id": "51b97873",
   "metadata": {},
   "outputs": [],
   "source": []
  },
  {
   "cell_type": "code",
   "execution_count": null,
   "id": "d6c43a69",
   "metadata": {},
   "outputs": [],
   "source": []
  },
  {
   "cell_type": "markdown",
   "id": "1bcc8b1d",
   "metadata": {},
   "source": [
    "# References\n",
    "\n",
    "https://d2cml-ai.github.io/python_visual_library/python_notebooks/07_random_inference.html"
   ]
  }
 ],
 "metadata": {
  "kernelspec": {
   "display_name": "Python 3 (ipykernel)",
   "language": "python",
   "name": "python3"
  },
  "language_info": {
   "codemirror_mode": {
    "name": "ipython",
    "version": 3
   },
   "file_extension": ".py",
   "mimetype": "text/x-python",
   "name": "python",
   "nbconvert_exporter": "python",
   "pygments_lexer": "ipython3",
   "version": "3.9.7"
  }
 },
 "nbformat": 4,
 "nbformat_minor": 5
}
