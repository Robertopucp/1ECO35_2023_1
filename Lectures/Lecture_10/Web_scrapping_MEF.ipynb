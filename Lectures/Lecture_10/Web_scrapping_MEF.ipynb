{
 "cells": [
  {
   "cell_type": "markdown",
   "id": "511b0998",
   "metadata": {},
   "source": [
    "## Web sracpping Página web consulta amigable (MEF)\n",
    "\n"
   ]
  },
  {
   "cell_type": "code",
   "execution_count": 1,
   "id": "9ced2cdf",
   "metadata": {},
   "outputs": [],
   "source": [
    "# import main packages\n",
    "\n",
    "import re  # regex or regular expresion \n",
    "import time  ### time library\n",
    "\n",
    "from selenium import webdriver\n",
    "from selenium.webdriver.common.by import By\n",
    "from selenium.webdriver.common.keys import Keys\n",
    "from selenium.webdriver.support.ui import Select\n",
    "\n",
    "from webdriver_manager.chrome import ChromeDriverManager   ## install Chrome driver simulator\n"
   ]
  },
  {
   "cell_type": "code",
   "execution_count": 2,
   "id": "671a7e54",
   "metadata": {},
   "outputs": [
    {
     "name": "stderr",
     "output_type": "stream",
     "text": [
      "C:\\Users\\MISHELL\\AppData\\Local\\Temp\\ipykernel_13088\\2185176457.py:7: DeprecationWarning: executable_path has been deprecated, please pass in a Service object\n",
      "  wd = webdriver.Chrome(\"chromedriver.exe\")\n"
     ]
    }
   ],
   "source": [
    "##############################################################################\n",
    "############# GOBIERNO NACIONAL, REGIONAL Y LOCAL (AGREGADOS) ################\n",
    "\n",
    "# Entrando a ChromeDriver (se puede descargar de https://chromedriver.chromium.org/downloads)\n",
    "# Antes de eso, chequear bien la versión del Chrome que uno tiene\n",
    "\n",
    "wd = webdriver.Chrome(\"chromedriver.exe\")\n",
    "url = \"http://apps5.mineco.gob.pe/transparencia/Navegador/default.aspx\"\n",
    "wd.get( url )\n",
    "\n",
    "wd.maximize_window()"
   ]
  },
  {
   "cell_type": "code",
   "execution_count": 3,
   "id": "7f911a4f",
   "metadata": {},
   "outputs": [
    {
     "ename": "NameError",
     "evalue": "name 'driver' is not defined",
     "output_type": "error",
     "traceback": [
      "\u001b[1;31m----------------------------------------------------------\u001b[0m",
      "\u001b[1;31mNameError\u001b[0m                Traceback (most recent call last)",
      "Cell \u001b[1;32mIn[3], line 2\u001b[0m\n\u001b[0;32m      1\u001b[0m \u001b[38;5;66;03m# bottom año \u001b[39;00m\n\u001b[1;32m----> 2\u001b[0m idn \u001b[38;5;241m=\u001b[39m\u001b[43mdriver\u001b[49m\u001b[38;5;241m.\u001b[39mfind_element(By\u001b[38;5;241m.\u001b[39mID,\u001b[38;5;124m\"\u001b[39m\u001b[38;5;124mctl00_CPH1_DrpYear\u001b[39m\u001b[38;5;124m\"\u001b[39m)\n",
      "\u001b[1;31mNameError\u001b[0m: name 'driver' is not defined"
     ]
    }
   ],
   "source": [
    "# bottom año \n",
    "idn =driver.find_element(By.ID,\"ctl00_CPH1_DrpYear\")\n",
    "\n",
    "# Error por que el contenido estpa dentro de otra página web "
   ]
  },
  {
   "cell_type": "code",
   "execution_count": 4,
   "id": "11388519",
   "metadata": {},
   "outputs": [],
   "source": [
    "# select Frame and select year option \n",
    "\n",
    "frame = wd.find_element(By.ID,\"frame0\")\n",
    "wd.switch_to.frame(frame)\n",
    "\n",
    "time.sleep(1.5)\n",
    "\n",
    "# selecionamos el año 2016\n",
    "\n",
    "periodo = Select(wd.find_element(By.ID,\"ctl00_CPH1_DrpYear\"))\n",
    "periodo.select_by_value(str(2016))\n",
    "\n"
   ]
  },
  {
   "cell_type": "code",
   "execution_count": 5,
   "id": "5f97625c",
   "metadata": {},
   "outputs": [],
   "source": [
    "# Se debe seleccionar la pagina web interna otra avez \n",
    "\n",
    "frame = wd.find_element(By.ID,\"frame0\")\n",
    "wd.switch_to.frame(frame)"
   ]
  },
  {
   "cell_type": "code",
   "execution_count": 6,
   "id": "f650bb32",
   "metadata": {},
   "outputs": [],
   "source": [
    "# click en el tipo de gobierno \n",
    "\n",
    "niv_gob = wd.find_element(By.NAME,\"ctl00$CPH1$BtnTipoGobierno\")\n",
    "niv_gob.click()\n",
    "\n",
    "time.sleep(1.5)\n",
    "\n",
    "# Seleccion en gobierno locales\n",
    "\n",
    "wd.find_element(By.XPATH,\"//*[@id='tr0']/td[2]\").click()"
   ]
  },
  {
   "cell_type": "code",
   "execution_count": 8,
   "id": "7fe5160f",
   "metadata": {},
   "outputs": [
    {
     "name": "stderr",
     "output_type": "stream",
     "text": [
      "C:\\Users\\MISHELL\\AppData\\Local\\Temp\\ipykernel_13088\\4124188428.py:2: DeprecationWarning: executable_path has been deprecated, please pass in a Service object\n",
      "  wd = webdriver.Chrome(\"chromedriver.exe\")\n"
     ]
    },
    {
     "name": "stdout",
     "output_type": "stream",
     "text": [
      "2015\n",
      "03: APURIMAC\n",
      "05: AYACUCHO\n",
      "06: CAJAMARCA\n",
      "2016\n",
      "03: APURIMAC\n",
      "05: AYACUCHO\n",
      "06: CAJAMARCA\n",
      "2017\n",
      "03: APURIMAC\n"
     ]
    },
    {
     "ename": "NoSuchWindowException",
     "evalue": "Message: no such window: target window already closed\nfrom unknown error: web view not found\n  (Session info: chrome=114.0.5735.199)\nStacktrace:\nBacktrace:\n\tGetHandleVerifier [0x01006E73+48323]\n\t(No symbol) [0x00F99661]\n\t(No symbol) [0x00EA5308]\n\t(No symbol) [0x00E8D243]\n\t(No symbol) [0x00EEE51B]\n\t(No symbol) [0x00EFC613]\n\t(No symbol) [0x00EEA6D6]\n\t(No symbol) [0x00EC847C]\n\t(No symbol) [0x00EC957D]\n\tGetHandleVerifier [0x0126FD5D+2575277]\n\tGetHandleVerifier [0x012AF86E+2836158]\n\tGetHandleVerifier [0x012A96DC+2811180]\n\tGetHandleVerifier [0x010941B0+626688]\n\t(No symbol) [0x00FA314C]\n\t(No symbol) [0x00F9F4B8]\n\t(No symbol) [0x00F9F59B]\n\t(No symbol) [0x00F921B7]\n\tBaseThreadInitThunk [0x76287D59+25]\n\tRtlInitializeExceptionChain [0x7717B74B+107]\n\tRtlClearBits [0x7717B6CF+191]\n",
     "output_type": "error",
     "traceback": [
      "\u001b[1;31m----------------------------------------------------------\u001b[0m",
      "\u001b[1;31mNoSuchWindowException\u001b[0m    Traceback (most recent call last)",
      "Cell \u001b[1;32mIn[8], line 57\u001b[0m\n\u001b[0;32m     55\u001b[0m \u001b[38;5;66;03m# Preparando bucle para ir por cada departamento\u001b[39;00m\n\u001b[0;32m     56\u001b[0m \u001b[38;5;28;01mfor\u001b[39;00m i \u001b[38;5;129;01min\u001b[39;00m lista_regiones: \n\u001b[1;32m---> 57\u001b[0m     region \u001b[38;5;241m=\u001b[39m \u001b[43mwd\u001b[49m\u001b[38;5;241;43m.\u001b[39;49m\u001b[43mfind_element\u001b[49m\u001b[43m(\u001b[49m\u001b[43mBy\u001b[49m\u001b[38;5;241;43m.\u001b[39;49m\u001b[43mXPATH\u001b[49m\u001b[43m,\u001b[49m\u001b[43m \u001b[49m\u001b[38;5;124;43m\"\u001b[39;49m\u001b[38;5;124;43m//*[@id=\u001b[39;49m\u001b[38;5;124;43m'\u001b[39;49m\u001b[38;5;124;43mtr\u001b[39;49m\u001b[38;5;124;43m\"\u001b[39;49m\u001b[38;5;241;43m+\u001b[39;49m\u001b[38;5;28;43mstr\u001b[39;49m\u001b[43m(\u001b[49m\u001b[43mi\u001b[49m\u001b[43m)\u001b[49m\u001b[38;5;241;43m+\u001b[39;49m\u001b[38;5;124;43m\"\u001b[39;49m\u001b[38;5;124;43m'\u001b[39;49m\u001b[38;5;124;43m]/td[2]\u001b[39;49m\u001b[38;5;124;43m\"\u001b[39;49m\u001b[43m)\u001b[49m\u001b[38;5;241m.\u001b[39mtext \u001b[38;5;66;03m# row i, columna 2\u001b[39;00m\n\u001b[0;32m     58\u001b[0m     \u001b[38;5;28mprint\u001b[39m(region) \u001b[38;5;66;03m# Extrae el texto de la opción y lo muestra en la consola (para orden)\u001b[39;00m\n\u001b[0;32m     60\u001b[0m     wd\u001b[38;5;241m.\u001b[39mfind_element(By\u001b[38;5;241m.\u001b[39mID,\u001b[38;5;124m\"\u001b[39m\u001b[38;5;124mtr\u001b[39m\u001b[38;5;124m\"\u001b[39m\u001b[38;5;241m+\u001b[39m\u001b[38;5;28mstr\u001b[39m(i)\u001b[38;5;241m+\u001b[39m\u001b[38;5;124m\"\u001b[39m\u001b[38;5;124m\"\u001b[39m)\u001b[38;5;241m.\u001b[39mclick()\n",
      "File \u001b[1;32m~\\.conda\\lib\\site-packages\\selenium\\webdriver\\remote\\webdriver.py:1251\u001b[0m, in \u001b[0;36mWebDriver.find_element\u001b[1;34m(self, by, value)\u001b[0m\n\u001b[0;32m   1248\u001b[0m     by \u001b[38;5;241m=\u001b[39m By\u001b[38;5;241m.\u001b[39mCSS_SELECTOR\n\u001b[0;32m   1249\u001b[0m     value \u001b[38;5;241m=\u001b[39m \u001b[38;5;124m'\u001b[39m\u001b[38;5;124m[name=\u001b[39m\u001b[38;5;124m\"\u001b[39m\u001b[38;5;132;01m%s\u001b[39;00m\u001b[38;5;124m\"\u001b[39m\u001b[38;5;124m]\u001b[39m\u001b[38;5;124m'\u001b[39m \u001b[38;5;241m%\u001b[39m value\n\u001b[1;32m-> 1251\u001b[0m \u001b[38;5;28;01mreturn\u001b[39;00m \u001b[38;5;28;43mself\u001b[39;49m\u001b[38;5;241;43m.\u001b[39;49m\u001b[43mexecute\u001b[49m\u001b[43m(\u001b[49m\u001b[43mCommand\u001b[49m\u001b[38;5;241;43m.\u001b[39;49m\u001b[43mFIND_ELEMENT\u001b[49m\u001b[43m,\u001b[49m\u001b[43m \u001b[49m\u001b[43m{\u001b[49m\n\u001b[0;32m   1252\u001b[0m \u001b[43m    \u001b[49m\u001b[38;5;124;43m'\u001b[39;49m\u001b[38;5;124;43musing\u001b[39;49m\u001b[38;5;124;43m'\u001b[39;49m\u001b[43m:\u001b[49m\u001b[43m \u001b[49m\u001b[43mby\u001b[49m\u001b[43m,\u001b[49m\n\u001b[0;32m   1253\u001b[0m \u001b[43m    \u001b[49m\u001b[38;5;124;43m'\u001b[39;49m\u001b[38;5;124;43mvalue\u001b[39;49m\u001b[38;5;124;43m'\u001b[39;49m\u001b[43m:\u001b[49m\u001b[43m \u001b[49m\u001b[43mvalue\u001b[49m\u001b[43m}\u001b[49m\u001b[43m)\u001b[49m[\u001b[38;5;124m'\u001b[39m\u001b[38;5;124mvalue\u001b[39m\u001b[38;5;124m'\u001b[39m]\n",
      "File \u001b[1;32m~\\.conda\\lib\\site-packages\\selenium\\webdriver\\remote\\webdriver.py:430\u001b[0m, in \u001b[0;36mWebDriver.execute\u001b[1;34m(self, driver_command, params)\u001b[0m\n\u001b[0;32m    428\u001b[0m response \u001b[38;5;241m=\u001b[39m \u001b[38;5;28mself\u001b[39m\u001b[38;5;241m.\u001b[39mcommand_executor\u001b[38;5;241m.\u001b[39mexecute(driver_command, params)\n\u001b[0;32m    429\u001b[0m \u001b[38;5;28;01mif\u001b[39;00m response:\n\u001b[1;32m--> 430\u001b[0m     \u001b[38;5;28;43mself\u001b[39;49m\u001b[38;5;241;43m.\u001b[39;49m\u001b[43merror_handler\u001b[49m\u001b[38;5;241;43m.\u001b[39;49m\u001b[43mcheck_response\u001b[49m\u001b[43m(\u001b[49m\u001b[43mresponse\u001b[49m\u001b[43m)\u001b[49m\n\u001b[0;32m    431\u001b[0m     response[\u001b[38;5;124m'\u001b[39m\u001b[38;5;124mvalue\u001b[39m\u001b[38;5;124m'\u001b[39m] \u001b[38;5;241m=\u001b[39m \u001b[38;5;28mself\u001b[39m\u001b[38;5;241m.\u001b[39m_unwrap_value(\n\u001b[0;32m    432\u001b[0m         response\u001b[38;5;241m.\u001b[39mget(\u001b[38;5;124m'\u001b[39m\u001b[38;5;124mvalue\u001b[39m\u001b[38;5;124m'\u001b[39m, \u001b[38;5;28;01mNone\u001b[39;00m))\n\u001b[0;32m    433\u001b[0m     \u001b[38;5;28;01mreturn\u001b[39;00m response\n",
      "File \u001b[1;32m~\\.conda\\lib\\site-packages\\selenium\\webdriver\\remote\\errorhandler.py:247\u001b[0m, in \u001b[0;36mErrorHandler.check_response\u001b[1;34m(self, response)\u001b[0m\n\u001b[0;32m    245\u001b[0m         alert_text \u001b[38;5;241m=\u001b[39m value[\u001b[38;5;124m'\u001b[39m\u001b[38;5;124malert\u001b[39m\u001b[38;5;124m'\u001b[39m]\u001b[38;5;241m.\u001b[39mget(\u001b[38;5;124m'\u001b[39m\u001b[38;5;124mtext\u001b[39m\u001b[38;5;124m'\u001b[39m)\n\u001b[0;32m    246\u001b[0m     \u001b[38;5;28;01mraise\u001b[39;00m exception_class(message, screen, stacktrace, alert_text)  \u001b[38;5;66;03m# type: ignore[call-arg]  # mypy is not smart enough here\u001b[39;00m\n\u001b[1;32m--> 247\u001b[0m \u001b[38;5;28;01mraise\u001b[39;00m exception_class(message, screen, stacktrace)\n",
      "\u001b[1;31mNoSuchWindowException\u001b[0m: Message: no such window: target window already closed\nfrom unknown error: web view not found\n  (Session info: chrome=114.0.5735.199)\nStacktrace:\nBacktrace:\n\tGetHandleVerifier [0x01006E73+48323]\n\t(No symbol) [0x00F99661]\n\t(No symbol) [0x00EA5308]\n\t(No symbol) [0x00E8D243]\n\t(No symbol) [0x00EEE51B]\n\t(No symbol) [0x00EFC613]\n\t(No symbol) [0x00EEA6D6]\n\t(No symbol) [0x00EC847C]\n\t(No symbol) [0x00EC957D]\n\tGetHandleVerifier [0x0126FD5D+2575277]\n\tGetHandleVerifier [0x012AF86E+2836158]\n\tGetHandleVerifier [0x012A96DC+2811180]\n\tGetHandleVerifier [0x010941B0+626688]\n\t(No symbol) [0x00FA314C]\n\t(No symbol) [0x00F9F4B8]\n\t(No symbol) [0x00F9F59B]\n\t(No symbol) [0x00F921B7]\n\tBaseThreadInitThunk [0x76287D59+25]\n\tRtlInitializeExceptionChain [0x7717B74B+107]\n\tRtlClearBits [0x7717B6CF+191]\n"
     ]
    }
   ],
   "source": [
    "\n",
    "# Preparando el bucle: Gobierno Local\n",
    "wd = webdriver.Chrome(\"chromedriver.exe\")\n",
    "wd.maximize_window()\n",
    "\n",
    "for k in range(2015, 2021): # En este caso se colocaron los años 2015 - 2021\n",
    "    wd.get(\"http://apps5.mineco.gob.pe/transparencia/Navegador/default.aspx\")\n",
    "    \n",
    "    print(k)    \n",
    "    \n",
    "    # Escogiendo el año en el desplegable (luego hacer bucle por año)\n",
    "    frame = wd.find_element(By.ID, \"frame0\")\n",
    "    wd.switch_to.frame(frame)\n",
    "    \n",
    "    periodo = Select(wd.find_element(By.ID, \"ctl00_CPH1_DrpYear\"))\n",
    "    \n",
    "    periodo.select_by_value(str(k))\n",
    "    \n",
    "    # Para escoger el nivel de gobierno que ejecuta los proyectos: Nacional\n",
    "    frame = wd.find_element(By.ID, \"frame0\")\n",
    "    wd.switch_to.frame(frame)\n",
    "    \n",
    "    niv_gob = wd.find_element(By.NAME, \"ctl00$CPH1$BtnTipoGobierno\")\n",
    "    niv_gob.click()\n",
    "    \n",
    "    time.sleep(1.5)\n",
    "    \n",
    "    gob_nac = wd.find_element(By.XPATH, \"//*[@id='tr0']/td[2]\").click()\n",
    "    \n",
    "    time.sleep(1.5)\n",
    "    \n",
    "    # Seleccionando Función (en este caso: Agropecuaria)\n",
    "    \n",
    "    wd.find_element(By.ID,  \"ctl00_CPH1_BtnFuncion\").click()\n",
    "    \n",
    "    time.sleep(2)\n",
    "    \n",
    "    # Seleccionar agropecuaria \n",
    "    \n",
    "    funcion = wd.find_element(By.XPATH, \"//*[@id='tr9']/td[1]\").click() # row 9, columna 1\n",
    "\n",
    "    time.sleep(1.5)\n",
    "    \n",
    "    # Seleccionando Función Agropecuaria (por orden alfabético)\n",
    "   \n",
    "    # Seleccionando opción de Departamento\n",
    "    dptos = wd.find_element(By.NAME,\"ctl00$CPH1$BtnDepartamentoMeta\")\n",
    "    dptos.click()\n",
    "     \n",
    "        \n",
    "    time.sleep(2)\n",
    "        \n",
    "    lista_regiones = [2, 4, 5] # En este caso se seleccionaron 3 departamentos: Apurímac, Ayacucho y Cajamarca\n",
    "\n",
    "    \n",
    "    # Preparando bucle para ir por cada departamento\n",
    "    for i in lista_regiones: \n",
    "        region = wd.find_element(By.XPATH, \"//*[@id='tr\"+str(i)+\"']/td[2]\").text # row i, columna 2\n",
    "        print(region) # Extrae el texto de la opción y lo muestra en la consola (para orden)\n",
    "        \n",
    "        wd.find_element(By.ID,\"tr\"+str(i)+\"\").click()\n",
    "              \n",
    "        time.sleep(3)\n",
    "        \n",
    "        # Seleccionando Proyectos\n",
    "        \n",
    "        time.sleep(3)\n",
    "        \n",
    "        wd.find_element(By.ID, \"ctl00_CPH1_BtnProdProy\").click()\n",
    "        \n",
    "        # Descargando los archivos de Excel\n",
    "        d_excel = wd.find_element(By.ID, \"ctl00_CPH1_lbtnExportar\").click()\n",
    "       \n",
    "        time.sleep(3)\n",
    "    \n",
    "        # Volver para cambiar de Departamento\n",
    "        otro_dep = wd.find_element(By.XPATH, '//*[@id=\"ctl00_CPH1_RptHistory_ctl04_TD0\"]')\n",
    "        otro_dep.click()\n",
    "        \n",
    "        time.sleep(3)\n",
    "        \n"
   ]
  },
  {
   "cell_type": "code",
   "execution_count": null,
   "id": "29024ba1",
   "metadata": {},
   "outputs": [],
   "source": []
  }
 ],
 "metadata": {
  "kernelspec": {
   "display_name": "Python 3 (ipykernel)",
   "language": "python",
   "name": "python3"
  },
  "language_info": {
   "codemirror_mode": {
    "name": "ipython",
    "version": 3
   },
   "file_extension": ".py",
   "mimetype": "text/x-python",
   "name": "python",
   "nbconvert_exporter": "python",
   "pygments_lexer": "ipython3",
   "version": "3.10.9"
  }
 },
 "nbformat": 4,
 "nbformat_minor": 5
}
