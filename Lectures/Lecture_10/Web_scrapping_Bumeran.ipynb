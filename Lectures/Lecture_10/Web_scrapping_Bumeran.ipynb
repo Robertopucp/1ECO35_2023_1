{
 "cells": [
  {
   "cell_type": "code",
   "execution_count": 7,
   "id": "565f6a38",
   "metadata": {},
   "outputs": [],
   "source": [
    "#Library\n",
    "# ---\n",
    "# Librerias de selenium \n",
    "\n",
    "from selenium import webdriver\n",
    "from webdriver_manager.chrome import ChromeDriverManager\n",
    "from selenium.webdriver.support.ui import Select  # selccionar opciones de las lista desplegable\n",
    "from selenium.webdriver.common.by import By  # permite seleccionar los elementos en un html\n",
    "from selenium.webdriver.common.keys import Keys  # ingresar datos a un formulario\n",
    "from selenium.common.exceptions import NoSuchElementException\n",
    "# Opciones driver\n",
    "from selenium.webdriver.chrome.options import Options\n",
    "\n",
    "# dataframes\n",
    "import pandas as pd\n",
    "from pandas import json_normalize\n",
    "import numpy as np\n",
    "\n",
    "# Similamos comportamiento humano al añadir tiempos aleatorios\n",
    "import time\n",
    "from time import sleep\n",
    "import random\n",
    "from tqdm import tqdm\n",
    "\n",
    "# Limpear data (tildes sobretodo)\n",
    "import unidecode\n",
    "\n",
    "# Manipular Json files\n",
    "import json\n"
   ]
  },
  {
   "cell_type": "code",
   "execution_count": 112,
   "id": "82a9b18d",
   "metadata": {
    "scrolled": true
   },
   "outputs": [
    {
     "name": "stderr",
     "output_type": "stream",
     "text": [
      "C:\\Users\\Roberto\\AppData\\Local\\Temp\\ipykernel_22208\\1491306052.py:3: DeprecationWarning: executable_path has been deprecated, please pass in a Service object\n",
      "  driver = webdriver.Chrome(\"chromedriver.exe\")\n"
     ]
    }
   ],
   "source": [
    "# Open la página\n",
    "\n",
    "driver = webdriver.Chrome(\"chromedriver.exe\")\n",
    "driver.get(\"https://www.bumeran.com.pe/\")\n",
    "\n",
    "driver.maximize_window()"
   ]
  },
  {
   "cell_type": "code",
   "execution_count": 113,
   "id": "07e87240",
   "metadata": {},
   "outputs": [],
   "source": [
    "# Click en Puestos_ejecutivo\n",
    "\n",
    "# Full path //*[@id=\"root\"]/div/div[1]/div/div[2]/div/div/div[1]/ul/li[2]/a \n",
    "\n",
    "\n",
    "driver.find_elements(By.XPATH, '//li[@class=\"sc-jzgbtB TduFZ\"]')[1].click()"
   ]
  },
  {
   "cell_type": "code",
   "execution_count": 114,
   "id": "3d94af3d",
   "metadata": {},
   "outputs": [],
   "source": [
    "# Se cambia el driver a nueva ventana abierta\n",
    "\n",
    "driver.switch_to.window(driver.window_handles[1])"
   ]
  },
  {
   "cell_type": "code",
   "execution_count": 115,
   "id": "12baa5eb",
   "metadata": {},
   "outputs": [
    {
     "data": {
      "text/plain": [
       "'https://www.bumeran.com.pe/empleos-seniority-gerencia-alta-gerencia-direccion.html?landing-puestos-ejecutivos=true'"
      ]
     },
     "execution_count": 115,
     "metadata": {},
     "output_type": "execute_result"
    }
   ],
   "source": [
    "# Se pude verificar que el url es de la nueva ventana\n",
    "driver.current_url"
   ]
  },
  {
   "cell_type": "code",
   "execution_count": 116,
   "id": "b1434145",
   "metadata": {},
   "outputs": [],
   "source": [
    "# Objeto que continene todos los avisos \n",
    "\n",
    "listado_de_avisos = driver.find_element(By.ID,\"listado-avisos\")"
   ]
  },
  {
   "cell_type": "code",
   "execution_count": 117,
   "id": "0c283a3b",
   "metadata": {},
   "outputs": [
    {
     "data": {
      "text/plain": [
       "[<selenium.webdriver.remote.webelement.WebElement (session=\"0116079e08d2850a2d5d9ecfcdf7370b\", element=\"E93DC4B9C55FAB040E5D83A3902E5AFB_element_116\")>,\n",
       " <selenium.webdriver.remote.webelement.WebElement (session=\"0116079e08d2850a2d5d9ecfcdf7370b\", element=\"E93DC4B9C55FAB040E5D83A3902E5AFB_element_119\")>,\n",
       " <selenium.webdriver.remote.webelement.WebElement (session=\"0116079e08d2850a2d5d9ecfcdf7370b\", element=\"E93DC4B9C55FAB040E5D83A3902E5AFB_element_247\")>,\n",
       " <selenium.webdriver.remote.webelement.WebElement (session=\"0116079e08d2850a2d5d9ecfcdf7370b\", element=\"E93DC4B9C55FAB040E5D83A3902E5AFB_element_278\")>,\n",
       " <selenium.webdriver.remote.webelement.WebElement (session=\"0116079e08d2850a2d5d9ecfcdf7370b\", element=\"E93DC4B9C55FAB040E5D83A3902E5AFB_element_284\")>,\n",
       " <selenium.webdriver.remote.webelement.WebElement (session=\"0116079e08d2850a2d5d9ecfcdf7370b\", element=\"E93DC4B9C55FAB040E5D83A3902E5AFB_element_288\")>,\n",
       " <selenium.webdriver.remote.webelement.WebElement (session=\"0116079e08d2850a2d5d9ecfcdf7370b\", element=\"E93DC4B9C55FAB040E5D83A3902E5AFB_element_321\")>,\n",
       " <selenium.webdriver.remote.webelement.WebElement (session=\"0116079e08d2850a2d5d9ecfcdf7370b\", element=\"E93DC4B9C55FAB040E5D83A3902E5AFB_element_353\")>,\n",
       " <selenium.webdriver.remote.webelement.WebElement (session=\"0116079e08d2850a2d5d9ecfcdf7370b\", element=\"E93DC4B9C55FAB040E5D83A3902E5AFB_element_385\")>,\n",
       " <selenium.webdriver.remote.webelement.WebElement (session=\"0116079e08d2850a2d5d9ecfcdf7370b\", element=\"E93DC4B9C55FAB040E5D83A3902E5AFB_element_413\")>,\n",
       " <selenium.webdriver.remote.webelement.WebElement (session=\"0116079e08d2850a2d5d9ecfcdf7370b\", element=\"E93DC4B9C55FAB040E5D83A3902E5AFB_element_439\")>,\n",
       " <selenium.webdriver.remote.webelement.WebElement (session=\"0116079e08d2850a2d5d9ecfcdf7370b\", element=\"E93DC4B9C55FAB040E5D83A3902E5AFB_element_465\")>,\n",
       " <selenium.webdriver.remote.webelement.WebElement (session=\"0116079e08d2850a2d5d9ecfcdf7370b\", element=\"E93DC4B9C55FAB040E5D83A3902E5AFB_element_497\")>,\n",
       " <selenium.webdriver.remote.webelement.WebElement (session=\"0116079e08d2850a2d5d9ecfcdf7370b\", element=\"E93DC4B9C55FAB040E5D83A3902E5AFB_element_529\")>,\n",
       " <selenium.webdriver.remote.webelement.WebElement (session=\"0116079e08d2850a2d5d9ecfcdf7370b\", element=\"E93DC4B9C55FAB040E5D83A3902E5AFB_element_555\")>,\n",
       " <selenium.webdriver.remote.webelement.WebElement (session=\"0116079e08d2850a2d5d9ecfcdf7370b\", element=\"E93DC4B9C55FAB040E5D83A3902E5AFB_element_583\")>,\n",
       " <selenium.webdriver.remote.webelement.WebElement (session=\"0116079e08d2850a2d5d9ecfcdf7370b\", element=\"E93DC4B9C55FAB040E5D83A3902E5AFB_element_615\")>,\n",
       " <selenium.webdriver.remote.webelement.WebElement (session=\"0116079e08d2850a2d5d9ecfcdf7370b\", element=\"E93DC4B9C55FAB040E5D83A3902E5AFB_element_641\")>,\n",
       " <selenium.webdriver.remote.webelement.WebElement (session=\"0116079e08d2850a2d5d9ecfcdf7370b\", element=\"E93DC4B9C55FAB040E5D83A3902E5AFB_element_673\")>,\n",
       " <selenium.webdriver.remote.webelement.WebElement (session=\"0116079e08d2850a2d5d9ecfcdf7370b\", element=\"E93DC4B9C55FAB040E5D83A3902E5AFB_element_697\")>,\n",
       " <selenium.webdriver.remote.webelement.WebElement (session=\"0116079e08d2850a2d5d9ecfcdf7370b\", element=\"E93DC4B9C55FAB040E5D83A3902E5AFB_element_721\")>,\n",
       " <selenium.webdriver.remote.webelement.WebElement (session=\"0116079e08d2850a2d5d9ecfcdf7370b\", element=\"E93DC4B9C55FAB040E5D83A3902E5AFB_element_745\")>,\n",
       " <selenium.webdriver.remote.webelement.WebElement (session=\"0116079e08d2850a2d5d9ecfcdf7370b\", element=\"E93DC4B9C55FAB040E5D83A3902E5AFB_element_769\")>,\n",
       " <selenium.webdriver.remote.webelement.WebElement (session=\"0116079e08d2850a2d5d9ecfcdf7370b\", element=\"E93DC4B9C55FAB040E5D83A3902E5AFB_element_797\")>,\n",
       " <selenium.webdriver.remote.webelement.WebElement (session=\"0116079e08d2850a2d5d9ecfcdf7370b\", element=\"E93DC4B9C55FAB040E5D83A3902E5AFB_element_824\")>,\n",
       " <selenium.webdriver.remote.webelement.WebElement (session=\"0116079e08d2850a2d5d9ecfcdf7370b\", element=\"E93DC4B9C55FAB040E5D83A3902E5AFB_element_825\")>,\n",
       " <selenium.webdriver.remote.webelement.WebElement (session=\"0116079e08d2850a2d5d9ecfcdf7370b\", element=\"E93DC4B9C55FAB040E5D83A3902E5AFB_element_827\")>,\n",
       " <selenium.webdriver.remote.webelement.WebElement (session=\"0116079e08d2850a2d5d9ecfcdf7370b\", element=\"E93DC4B9C55FAB040E5D83A3902E5AFB_element_829\")>,\n",
       " <selenium.webdriver.remote.webelement.WebElement (session=\"0116079e08d2850a2d5d9ecfcdf7370b\", element=\"E93DC4B9C55FAB040E5D83A3902E5AFB_element_831\")>,\n",
       " <selenium.webdriver.remote.webelement.WebElement (session=\"0116079e08d2850a2d5d9ecfcdf7370b\", element=\"E93DC4B9C55FAB040E5D83A3902E5AFB_element_833\")>,\n",
       " <selenium.webdriver.remote.webelement.WebElement (session=\"0116079e08d2850a2d5d9ecfcdf7370b\", element=\"E93DC4B9C55FAB040E5D83A3902E5AFB_element_836\")>,\n",
       " <selenium.webdriver.remote.webelement.WebElement (session=\"0116079e08d2850a2d5d9ecfcdf7370b\", element=\"E93DC4B9C55FAB040E5D83A3902E5AFB_element_838\")>]"
      ]
     },
     "execution_count": 117,
     "metadata": {},
     "output_type": "execute_result"
    }
   ],
   "source": [
    "listado_de_avisos.find_elements(By.TAG_NAME,'a')"
   ]
  },
  {
   "cell_type": "code",
   "execution_count": 119,
   "id": "9ac284ee",
   "metadata": {},
   "outputs": [],
   "source": [
    "# almacenamos los urls de cada oferta laboral\n",
    "\n",
    "links = listado_de_avisos.find_elements(By.TAG_NAME,'a') \n",
    "\n",
    "urls = [link.get_attribute(\"href\") for link in links if \"empleos/\" in str(link.get_attribute(\"href\"))]"
   ]
  },
  {
   "cell_type": "code",
   "execution_count": 120,
   "id": "6880b986",
   "metadata": {
    "scrolled": true
   },
   "outputs": [
    {
     "data": {
      "text/plain": [
       "['https://www.bumeran.com.pe/empleos/sub-gerente-general-rubro-transporte-de-carga-pesada-transportes-hagemsa-1115858527.html',\n",
       " 'https://www.bumeran.com.pe/empleos/residente-de-obra-casma-obrascon-huarte-lain-sa-sucursal-del-peru-1115861442.html',\n",
       " 'https://www.bumeran.com.pe/empleos/subgerente-de-recursos-humanos-mineria-cl-selection-s.a.c.-1115836746.html',\n",
       " 'https://www.bumeran.com.pe/empleos/sub-gerente-de-gestion-humana-cl-selection-s.a.c.-1115829435.html',\n",
       " 'https://www.bumeran.com.pe/empleos/gerente-de-productos-digitales-match-power-hunting-1115819345.html',\n",
       " 'https://www.bumeran.com.pe/empleos/gerente-de-administracion-y-finanzas-1115806843.html',\n",
       " 'https://www.bumeran.com.pe/empleos/coordinador-general-inmel-peru-sociedad-anonima-cerrada-1115804943.html',\n",
       " 'https://www.bumeran.com.pe/empleos/superintendente-de-metalurgia-y-control-de-procesos-copia-minera-chinalco-1115777770.html',\n",
       " 'https://www.bumeran.com.pe/empleos/delivery-manager-ntt-data-1115771341.html',\n",
       " 'https://www.bumeran.com.pe/empleos/gerente-de-almecen-y-distribucion-1115769696.html',\n",
       " 'https://www.bumeran.com.pe/empleos/analista-de-importaciones-y-logistica-telecomunicaciones-l--v--miraflores-fijo-planilla-total-talent-human-resources-1115764826.html',\n",
       " 'https://www.bumeran.com.pe/empleos/gerente-agencia-credito-grupal-cn-mala-compartamos-financiera-s.a.-1115761347.html',\n",
       " 'https://www.bumeran.com.pe/empleos/gerente-general-1115760665.html',\n",
       " 'https://www.bumeran.com.pe/empleos/director-general-bumeran-selecta-1115758235.html',\n",
       " 'https://www.bumeran.com.pe/empleos/auditor-interno-senior-ambc-consultoria-empresarial-1115862331.html',\n",
       " 'https://www.bumeran.com.pe/empleos/gerente-comercial-retail-autos-y-motos-de-marca-ambc-consultoria-empresarial-1115862306.html',\n",
       " 'https://www.bumeran.com.pe/empleos/gerente-de-ingenieria-1115862179.html',\n",
       " 'https://www.bumeran.com.pe/empleos/director-comercial-1115861856.html',\n",
       " 'https://www.bumeran.com.pe/empleos/gerente-corporativo-de-proyectos-ti-intercorp-retail-1115861440.html',\n",
       " 'https://www.bumeran.com.pe/empleos/gerente-general-enaco-cl-selection-s.a.c.-1115860938.html']"
      ]
     },
     "execution_count": 120,
     "metadata": {},
     "output_type": "execute_result"
    }
   ],
   "source": [
    "urls"
   ]
  },
  {
   "cell_type": "code",
   "execution_count": 130,
   "id": "5a23e5c9",
   "metadata": {},
   "outputs": [],
   "source": [
    "# He hecho click en una de las ofertas laborales \n",
    "# Se cambia el driver a la nueva ventana \n",
    "\n",
    "driver.get(urls[1]) # nos dirigmos al primer url con info del empleo\n",
    "\n",
    "driver.switch_to.window(driver.window_handles[1]) # ventana posición 2 , indexing 1"
   ]
  },
  {
   "cell_type": "code",
   "execution_count": 131,
   "id": "84b743cf",
   "metadata": {},
   "outputs": [],
   "source": [
    "# se extrae el titulo del empleo\n",
    "\n",
    "time.sleep(2)\n",
    "\n",
    "job = driver.find_element(By.XPATH, \"//h1[@class='sc-euoZOX hjaJMy sc-kEYyzF kcaojl']\").text\n",
    "job = unidecode.unidecode(job).title() # se retira las tildes "
   ]
  },
  {
   "cell_type": "code",
   "execution_count": 132,
   "id": "a6864cec",
   "metadata": {
    "scrolled": true
   },
   "outputs": [
    {
     "data": {
      "text/plain": [
       "'Residente De Obra - Casma'"
      ]
     },
     "execution_count": 132,
     "metadata": {},
     "output_type": "execute_result"
    }
   ],
   "source": [
    "job "
   ]
  },
  {
   "cell_type": "code",
   "execution_count": 133,
   "id": "ec4b555e",
   "metadata": {},
   "outputs": [
    {
     "data": {
      "text/plain": [
       "'OBRASCON HUARTE LAIN SA SUCURSAL DEL PERU'"
      ]
     },
     "execution_count": 133,
     "metadata": {},
     "output_type": "execute_result"
    }
   ],
   "source": [
    "# Se extrae el nombre de la empresa \n",
    "\n",
    "company = driver.find_element(By.XPATH, \"//h3[@class='sc-fslttm dowqHM']\").text\n",
    "company = unidecode.unidecode(company).upper()\n",
    "company"
   ]
  },
  {
   "cell_type": "code",
   "execution_count": 134,
   "id": "cb052651",
   "metadata": {},
   "outputs": [
    {
     "data": {
      "text/plain": [
       "'Publicado ayer'"
      ]
     },
     "execution_count": 134,
     "metadata": {},
     "output_type": "execute_result"
    }
   ],
   "source": [
    "# Click en el icono de tiempo de publicación \n",
    "\n",
    "driver.find_elements(By.XPATH, \"//i[@name='icon-light-clock']/following-sibling::h2\")[0].text\n",
    "# tenemos dos opciones. La primera opción indica hace cuanto tiempo se publico la oferta laboral \n",
    "# accedemos al tag <h2></h2> dentro del tag del icino de tiempo con following-sibling::h2"
   ]
  },
  {
   "cell_type": "code",
   "execution_count": 135,
   "id": "50de2873",
   "metadata": {},
   "outputs": [
    {
     "data": {
      "text/plain": [
       "'Casma, Ancash, Peru'"
      ]
     },
     "execution_count": 135,
     "metadata": {},
     "output_type": "execute_result"
    }
   ],
   "source": [
    "# Click en el icono ubicación\n",
    "\n",
    "driver.find_elements(By.XPATH, \"//i[@name='icon-light-location-pin']/following-sibling::h2\")[0].text\n",
    "\n",
    "# la primera opción correcponde a la ubicación de interés"
   ]
  },
  {
   "cell_type": "code",
   "execution_count": 138,
   "id": "4293cd20",
   "metadata": {
    "scrolled": false
   },
   "outputs": [
    {
     "name": "stderr",
     "output_type": "stream",
     "text": [
      "\r",
      "  0%|                                                                                          | 0/20 [00:00<?, ?it/s]"
     ]
    },
    {
     "name": "stdout",
     "output_type": "stream",
     "text": [
      "Sub Gerente General- Rubro Transporte De Carga Pesada\n"
     ]
    },
    {
     "name": "stderr",
     "output_type": "stream",
     "text": [
      "\r",
      "  5%|████                                                                              | 1/20 [00:14<04:35, 14.48s/it]"
     ]
    },
    {
     "name": "stdout",
     "output_type": "stream",
     "text": [
      "Residente De Obra - Casma\n"
     ]
    },
    {
     "name": "stderr",
     "output_type": "stream",
     "text": [
      "\r",
      " 10%|████████▏                                                                         | 2/20 [00:33<05:10, 17.24s/it]"
     ]
    },
    {
     "name": "stdout",
     "output_type": "stream",
     "text": [
      "Subgerente De Recursos Humanos / Mineria\n"
     ]
    },
    {
     "name": "stderr",
     "output_type": "stream",
     "text": [
      "\r",
      " 15%|████████████▎                                                                     | 3/20 [00:47<04:29, 15.84s/it]"
     ]
    },
    {
     "name": "stdout",
     "output_type": "stream",
     "text": [
      "Sub Gerente De Gestion Humana\n"
     ]
    },
    {
     "name": "stderr",
     "output_type": "stream",
     "text": [
      "\r",
      " 20%|████████████████▍                                                                 | 4/20 [01:02<04:08, 15.55s/it]"
     ]
    },
    {
     "name": "stdout",
     "output_type": "stream",
     "text": [
      "Gerente De Productos Digitales\n"
     ]
    },
    {
     "name": "stderr",
     "output_type": "stream",
     "text": [
      "\r",
      " 25%|████████████████████▌                                                             | 5/20 [01:22<04:14, 16.97s/it]"
     ]
    },
    {
     "name": "stdout",
     "output_type": "stream",
     "text": [
      "Gerente De Administracion Y Finanzas\n"
     ]
    },
    {
     "name": "stderr",
     "output_type": "stream",
     "text": [
      "\r",
      " 30%|████████████████████████▌                                                         | 6/20 [01:40<04:02, 17.35s/it]"
     ]
    },
    {
     "name": "stdout",
     "output_type": "stream",
     "text": [
      "Coordinador General\n"
     ]
    },
    {
     "name": "stderr",
     "output_type": "stream",
     "text": [
      "\r",
      " 35%|████████████████████████████▋                                                     | 7/20 [01:55<03:35, 16.61s/it]"
     ]
    },
    {
     "name": "stdout",
     "output_type": "stream",
     "text": [
      "Superintendente De Metalurgia Y Control De Procesos - Copia\n"
     ]
    },
    {
     "name": "stderr",
     "output_type": "stream",
     "text": [
      "\r",
      " 40%|████████████████████████████████▊                                                 | 8/20 [02:10<03:13, 16.15s/it]"
     ]
    },
    {
     "name": "stdout",
     "output_type": "stream",
     "text": [
      "Delivery Manager\n"
     ]
    },
    {
     "name": "stderr",
     "output_type": "stream",
     "text": [
      "\r",
      " 45%|████████████████████████████████████▉                                             | 9/20 [02:25<02:51, 15.57s/it]"
     ]
    },
    {
     "name": "stdout",
     "output_type": "stream",
     "text": [
      "Gerente De Almecen Y Distribucion\n"
     ]
    },
    {
     "name": "stderr",
     "output_type": "stream",
     "text": [
      "\r",
      " 50%|████████████████████████████████████████▌                                        | 10/20 [02:40<02:34, 15.43s/it]"
     ]
    },
    {
     "name": "stdout",
     "output_type": "stream",
     "text": [
      "Analista De Importaciones Y Logistica / Telecomunicaciones/ L - V - Miraflores / Fijo + Planilla\n"
     ]
    },
    {
     "name": "stderr",
     "output_type": "stream",
     "text": [
      "\r",
      " 55%|████████████████████████████████████████████▌                                    | 11/20 [02:54<02:15, 15.05s/it]"
     ]
    },
    {
     "name": "stdout",
     "output_type": "stream",
     "text": [
      "Gerente Agencia Credito Grupal - Cn Mala\n"
     ]
    },
    {
     "name": "stderr",
     "output_type": "stream",
     "text": [
      "\r",
      " 60%|████████████████████████████████████████████████▌                                | 12/20 [03:09<02:00, 15.08s/it]"
     ]
    },
    {
     "name": "stdout",
     "output_type": "stream",
     "text": [
      "Gerente General\n"
     ]
    },
    {
     "name": "stderr",
     "output_type": "stream",
     "text": [
      "\r",
      " 65%|████████████████████████████████████████████████████▋                            | 13/20 [03:27<01:52, 16.01s/it]"
     ]
    },
    {
     "name": "stdout",
     "output_type": "stream",
     "text": [
      "Director General\n"
     ]
    },
    {
     "name": "stderr",
     "output_type": "stream",
     "text": [
      "\r",
      " 70%|████████████████████████████████████████████████████████▋                        | 14/20 [03:42<01:34, 15.78s/it]"
     ]
    },
    {
     "name": "stdout",
     "output_type": "stream",
     "text": [
      "Auditor Interno Senior\n"
     ]
    },
    {
     "name": "stderr",
     "output_type": "stream",
     "text": [
      "\r",
      " 75%|████████████████████████████████████████████████████████████▊                    | 15/20 [04:01<01:22, 16.58s/it]"
     ]
    },
    {
     "name": "stdout",
     "output_type": "stream",
     "text": [
      "Gerente Comercial Retail - Autos Y Motos De Marca\n"
     ]
    },
    {
     "name": "stderr",
     "output_type": "stream",
     "text": [
      "\r",
      " 80%|████████████████████████████████████████████████████████████████▊                | 16/20 [04:20<01:09, 17.34s/it]"
     ]
    },
    {
     "name": "stdout",
     "output_type": "stream",
     "text": [
      "Gerente De Ingenieria\n"
     ]
    },
    {
     "name": "stderr",
     "output_type": "stream",
     "text": [
      "\r",
      " 85%|████████████████████████████████████████████████████████████████████▊            | 17/20 [04:39<00:53, 17.96s/it]"
     ]
    },
    {
     "name": "stdout",
     "output_type": "stream",
     "text": [
      "Director Comercial\n"
     ]
    },
    {
     "name": "stderr",
     "output_type": "stream",
     "text": [
      "\r",
      " 90%|████████████████████████████████████████████████████████████████████████▉        | 18/20 [04:56<00:34, 17.42s/it]"
     ]
    },
    {
     "name": "stdout",
     "output_type": "stream",
     "text": [
      "Gerente Corporativo De Proyectos Ti\n"
     ]
    },
    {
     "name": "stderr",
     "output_type": "stream",
     "text": [
      "\r",
      " 95%|████████████████████████████████████████████████████████████████████████████▉    | 19/20 [05:13<00:17, 17.36s/it]"
     ]
    },
    {
     "name": "stdout",
     "output_type": "stream",
     "text": [
      "Gerente General-Enaco\n"
     ]
    },
    {
     "name": "stderr",
     "output_type": "stream",
     "text": [
      "100%|█████████████████████████████████████████████████████████████████████████████████| 20/20 [05:32<00:00, 16.63s/it]\n"
     ]
    }
   ],
   "source": [
    "# Diccionario principal \n",
    "\n",
    "all_info = {}\n",
    "all_info['executive_jobs']=[] # lista vacía dentro de un diccionario de llave 'executive_jobs'\n",
    "\n",
    "\n",
    "\n",
    "for url in tqdm(urls):\n",
    "    driver.get(url)  # loop en cada url de empleo \n",
    "    time.sleep(random.randint(10,15)) # tiempo aleatorio como estrategia para evitar ser reconocidos como un bot\n",
    "    \n",
    "    page = {}  # se crea un diccionaruo vacío \n",
    "    \n",
    "# ------------------------------     HEADERS    -------------------------\n",
    "\n",
    "\n",
    "    # Switch to new page \n",
    "    \n",
    "    \n",
    "    job = driver.find_element(By.XPATH, \"//h1[@class='sc-euoZOX hjaJMy sc-kEYyzF kcaojl']\").text\n",
    "    job = unidecode.unidecode(job).title() # se interpreta las tildes o caracteres especiales. Luego formato titulo\n",
    "    \n",
    "    print(job)\n",
    "    \n",
    "    # Append\n",
    "    page['JOB_AVAILABLE'] = job\n",
    "\n",
    "    # Location by xpath\n",
    "    company = driver.find_element(By.XPATH, \"//h3[@class='sc-fslttm dowqHM']\").text\n",
    "    company = unidecode.unidecode(company).upper()  # mayuscula\n",
    "    \n",
    "    # Si la empresa es confidencias\n",
    "    \n",
    "    if company == \"CONFIDENCIAL\":\n",
    "        company = company.lower()\n",
    "\n",
    "    # Append\n",
    "    page['COMPANY'] = company\n",
    "    \n",
    "       \n",
    "# ------------------------------     SECTION RED    -------------------------\n",
    "\n",
    "    # Tiempo de publicación\n",
    "    \n",
    "    publication_date = driver.find_elements(By.XPATH, \"//i[@name='icon-light-clock']/following-sibling::h2\")[0].text\n",
    "    # Append\n",
    "    page['PUBLICATION_DATE'] = publication_date\n",
    "\n",
    "    # Ubicación\n",
    "    location = driver.find_elements(By.XPATH, \"//i[@name='icon-light-location-pin']/following-sibling::h2\")[0].text\n",
    "    location = unidecode.unidecode(location)\n",
    "\n",
    "    # Append\n",
    "    page['LOCATION'] = location\n",
    "    \n",
    "    try:\n",
    "        # Usando XPATH si la ofeta laboral esta dirigido a personas con alguna discapacidad\n",
    "        \n",
    "        disability = driver.find_element(By.XPATH, '//a[@href=\"/empleos-discapacitados-apto.html\"]').text\n",
    "        # Append\n",
    "        page['SUITABLE_FOR_PEOPLE_WITH_DISABILITIES'] = disability\n",
    "    except:\n",
    "        pass\n",
    "#  -------------------------------   SECTION BLUE   ------------------------------\n",
    "\n",
    "\n",
    "    # Tipo de empleo (Full time o part time)\n",
    "    page['SCHEDULES_AVAILABLE'] = driver.find_elements(By.XPATH, \"//i[@name='icon-light-clock']/following-sibling::h2\")[1].text\n",
    "\n",
    "    # Location by xpath using name\n",
    "    try:\n",
    "        money = driver.find_element(By.XPATH, '//i[@name=\"icon-light-money\"]/following-sibling::h2').text\n",
    "    # Append\n",
    "        page['SALARY'] = money\n",
    "        \n",
    "    except:\n",
    "        pass\n",
    "    \n",
    "    # Area laboral \n",
    "    area = driver.find_element(By.XPATH, '//i[@name=\"icon-light-cube\"]/following-sibling::h2').text\n",
    "    area = unidecode.unidecode(area)\n",
    "\n",
    "    # Append\n",
    "    page['AREA'] = area\n",
    "\n",
    "\n",
    "    # Modalidad (presencia o remoto, etc)\n",
    "    modality = driver.find_element(By.XPATH,'//i[@name=\"icon-light-office\"]/following-sibling::h2').text\n",
    "    modality = unidecode.unidecode(modality)\n",
    "    # Append\n",
    "    page['MODALITY_AVAILABLE'] = modality\n",
    "    \n",
    "    all_info['executive_jobs'].append(page) # se añade el diccionario page como un elemento de la lista all_info\n",
    "    \n",
    "   \n",
    "    \n",
    "    time.sleep(3)\n",
    "    \n",
    "driver.close() # se cierra la ventana "
   ]
  },
  {
   "cell_type": "code",
   "execution_count": 139,
   "id": "e09178a0",
   "metadata": {},
   "outputs": [
    {
     "data": {
      "text/html": [
       "<div>\n",
       "<style scoped>\n",
       "    .dataframe tbody tr th:only-of-type {\n",
       "        vertical-align: middle;\n",
       "    }\n",
       "\n",
       "    .dataframe tbody tr th {\n",
       "        vertical-align: top;\n",
       "    }\n",
       "\n",
       "    .dataframe thead th {\n",
       "        text-align: right;\n",
       "    }\n",
       "</style>\n",
       "<table border=\"1\" class=\"dataframe\">\n",
       "  <thead>\n",
       "    <tr style=\"text-align: right;\">\n",
       "      <th></th>\n",
       "      <th>JOB_AVAILABLE</th>\n",
       "      <th>COMPANY</th>\n",
       "      <th>PUBLICATION_DATE</th>\n",
       "      <th>LOCATION</th>\n",
       "      <th>SCHEDULES_AVAILABLE</th>\n",
       "      <th>AREA</th>\n",
       "      <th>MODALITY_AVAILABLE</th>\n",
       "    </tr>\n",
       "  </thead>\n",
       "  <tbody>\n",
       "    <tr>\n",
       "      <th>0</th>\n",
       "      <td>Sub Gerente General- Rubro Transporte De Carga...</td>\n",
       "      <td>TRANSPORTES HAGEMSA</td>\n",
       "      <td>Publicado hace 2 días</td>\n",
       "      <td>Arequipa, Arequipa, Peru</td>\n",
       "      <td>Full-time, Indeterminado</td>\n",
       "      <td>Direccion</td>\n",
       "      <td>Presencial</td>\n",
       "    </tr>\n",
       "    <tr>\n",
       "      <th>1</th>\n",
       "      <td>Residente De Obra - Casma</td>\n",
       "      <td>OBRASCON HUARTE LAIN SA SUCURSAL DEL PERU</td>\n",
       "      <td>Publicado ayer</td>\n",
       "      <td>Casma, Ancash, Peru</td>\n",
       "      <td>Full-time, Indeterminado</td>\n",
       "      <td>Construccion</td>\n",
       "      <td>Presencial</td>\n",
       "    </tr>\n",
       "    <tr>\n",
       "      <th>2</th>\n",
       "      <td>Subgerente De Recursos Humanos / Mineria</td>\n",
       "      <td>CL SELECTION S.A.C.</td>\n",
       "      <td>Publicado hace más de 15 días</td>\n",
       "      <td>Lima, Lima, Peru</td>\n",
       "      <td>Full-time, Indeterminado</td>\n",
       "      <td>Recursos Humanos</td>\n",
       "      <td>Remoto</td>\n",
       "    </tr>\n",
       "    <tr>\n",
       "      <th>3</th>\n",
       "      <td>Sub Gerente De Gestion Humana</td>\n",
       "      <td>CL SELECTION S.A.C.</td>\n",
       "      <td>Publicado hace más de 15 días</td>\n",
       "      <td>Lima, Lima, Peru</td>\n",
       "      <td>Full-time, Indeterminado</td>\n",
       "      <td>Recursos Humanos</td>\n",
       "      <td>Presencial</td>\n",
       "    </tr>\n",
       "    <tr>\n",
       "      <th>4</th>\n",
       "      <td>Gerente De Productos Digitales</td>\n",
       "      <td>MATCH POWER HUNTING</td>\n",
       "      <td>Publicado hace más de 15 días</td>\n",
       "      <td>Lima, Lima, Peru</td>\n",
       "      <td>Full-time, Indeterminado</td>\n",
       "      <td>Desarrollo de Negocios</td>\n",
       "      <td>Hibrido</td>\n",
       "    </tr>\n",
       "    <tr>\n",
       "      <th>5</th>\n",
       "      <td>Gerente De Administracion Y Finanzas</td>\n",
       "      <td>confidencial</td>\n",
       "      <td>Publicado hace más de 30 días</td>\n",
       "      <td>Lima, Lima, Peru</td>\n",
       "      <td>Full-time, Indeterminado</td>\n",
       "      <td>Finanzas</td>\n",
       "      <td>Presencial</td>\n",
       "    </tr>\n",
       "    <tr>\n",
       "      <th>6</th>\n",
       "      <td>Coordinador General</td>\n",
       "      <td>INMEL PERU SOCIEDAD ANONIMA CERRADA</td>\n",
       "      <td>Publicado hace más de 30 días</td>\n",
       "      <td>Lima, Lima, Peru</td>\n",
       "      <td>Full-time, Indeterminado</td>\n",
       "      <td>Ingenieria Electrica y Electronica</td>\n",
       "      <td>Presencial</td>\n",
       "    </tr>\n",
       "    <tr>\n",
       "      <th>7</th>\n",
       "      <td>Superintendente De Metalurgia Y Control De Pro...</td>\n",
       "      <td>MINERA CHINALCO</td>\n",
       "      <td>Publicado hace más de 30 días</td>\n",
       "      <td>Morococha, Junin, Peru</td>\n",
       "      <td>Full-time</td>\n",
       "      <td>Mineria/Petroleo/Gas</td>\n",
       "      <td>Presencial</td>\n",
       "    </tr>\n",
       "    <tr>\n",
       "      <th>8</th>\n",
       "      <td>Delivery Manager</td>\n",
       "      <td>NTT DATA</td>\n",
       "      <td>Publicado hace más de 30 días</td>\n",
       "      <td>Lima, Lima, Peru</td>\n",
       "      <td>Full-time, Indeterminado</td>\n",
       "      <td>Comunicacion</td>\n",
       "      <td>Remoto</td>\n",
       "    </tr>\n",
       "    <tr>\n",
       "      <th>9</th>\n",
       "      <td>Gerente De Almecen Y Distribucion</td>\n",
       "      <td>confidencial</td>\n",
       "      <td>Publicado hace más de 30 días</td>\n",
       "      <td>Lima, Lima, Peru</td>\n",
       "      <td>Full-time, Indeterminado</td>\n",
       "      <td>Logistica</td>\n",
       "      <td>Presencial</td>\n",
       "    </tr>\n",
       "    <tr>\n",
       "      <th>10</th>\n",
       "      <td>Analista De Importaciones Y Logistica / Teleco...</td>\n",
       "      <td>TOTAL TALENT HUMAN RESOURCES</td>\n",
       "      <td>Publicado hace más de 30 días</td>\n",
       "      <td>Lima, Lima, Peru</td>\n",
       "      <td>Full-time, Indeterminado</td>\n",
       "      <td>Comercio Exterior</td>\n",
       "      <td>Presencial</td>\n",
       "    </tr>\n",
       "    <tr>\n",
       "      <th>11</th>\n",
       "      <td>Gerente Agencia Credito Grupal - Cn Mala</td>\n",
       "      <td>COMPARTAMOS FINANCIERA S.A.</td>\n",
       "      <td>Publicado hace más de 30 días</td>\n",
       "      <td>San Pedro de Mala, Lima, Peru</td>\n",
       "      <td>Full-time, Indeterminado</td>\n",
       "      <td>Creditos y Cobranzas</td>\n",
       "      <td>Presencial</td>\n",
       "    </tr>\n",
       "    <tr>\n",
       "      <th>12</th>\n",
       "      <td>Gerente General</td>\n",
       "      <td>confidencial</td>\n",
       "      <td>Publicado hace más de 30 días</td>\n",
       "      <td>Lima, Lima, Peru</td>\n",
       "      <td>Full-time, Indeterminado</td>\n",
       "      <td>Gerencia / Direccion General</td>\n",
       "      <td>Presencial</td>\n",
       "    </tr>\n",
       "    <tr>\n",
       "      <th>13</th>\n",
       "      <td>Director General</td>\n",
       "      <td>BUMERAN SELECTA</td>\n",
       "      <td>Publicado hace más de 30 días</td>\n",
       "      <td>Huancayo, Junin, Peru</td>\n",
       "      <td>Full-time</td>\n",
       "      <td>Gerencia / Direccion General</td>\n",
       "      <td>Presencial</td>\n",
       "    </tr>\n",
       "    <tr>\n",
       "      <th>14</th>\n",
       "      <td>Auditor Interno Senior</td>\n",
       "      <td>AMBC CONSULTORIA EMPRESARIAL</td>\n",
       "      <td>Publicado hoy</td>\n",
       "      <td>Otra, Peru</td>\n",
       "      <td>Full-time, Indeterminado</td>\n",
       "      <td>Auditoria</td>\n",
       "      <td>Hibrido</td>\n",
       "    </tr>\n",
       "    <tr>\n",
       "      <th>15</th>\n",
       "      <td>Gerente Comercial Retail - Autos Y Motos De Marca</td>\n",
       "      <td>AMBC CONSULTORIA EMPRESARIAL</td>\n",
       "      <td>Publicado hoy</td>\n",
       "      <td>Lima, Lima, Peru</td>\n",
       "      <td>Full-time, Indeterminado</td>\n",
       "      <td>Comercial</td>\n",
       "      <td>Hibrido</td>\n",
       "    </tr>\n",
       "    <tr>\n",
       "      <th>16</th>\n",
       "      <td>Gerente De Ingenieria</td>\n",
       "      <td>confidencial</td>\n",
       "      <td>Publicado hoy</td>\n",
       "      <td>Villa El Salvador, Lima, Peru</td>\n",
       "      <td>Full-time, Indeterminado</td>\n",
       "      <td>Otras Ingenierias</td>\n",
       "      <td>Presencial</td>\n",
       "    </tr>\n",
       "    <tr>\n",
       "      <th>17</th>\n",
       "      <td>Director Comercial</td>\n",
       "      <td>confidencial</td>\n",
       "      <td>Publicado ayer</td>\n",
       "      <td>Lima, Lima, Peru</td>\n",
       "      <td>Full-time, Indeterminado</td>\n",
       "      <td>Comercial</td>\n",
       "      <td>Presencial</td>\n",
       "    </tr>\n",
       "    <tr>\n",
       "      <th>18</th>\n",
       "      <td>Gerente Corporativo De Proyectos Ti</td>\n",
       "      <td>INTERCORP RETAIL</td>\n",
       "      <td>Publicado ayer</td>\n",
       "      <td>Lince, Lima, Peru</td>\n",
       "      <td>Full-time, Indeterminado</td>\n",
       "      <td>Liderazgo de Proyecto</td>\n",
       "      <td>Hibrido</td>\n",
       "    </tr>\n",
       "    <tr>\n",
       "      <th>19</th>\n",
       "      <td>Gerente General-Enaco</td>\n",
       "      <td>CL SELECTION S.A.C.</td>\n",
       "      <td>Publicado ayer</td>\n",
       "      <td>Lima, Lima, Peru</td>\n",
       "      <td>Full-time, Indeterminado</td>\n",
       "      <td>Comercial</td>\n",
       "      <td>Presencial</td>\n",
       "    </tr>\n",
       "  </tbody>\n",
       "</table>\n",
       "</div>"
      ],
      "text/plain": [
       "                                        JOB_AVAILABLE  \\\n",
       "0   Sub Gerente General- Rubro Transporte De Carga...   \n",
       "1                           Residente De Obra - Casma   \n",
       "2            Subgerente De Recursos Humanos / Mineria   \n",
       "3                       Sub Gerente De Gestion Humana   \n",
       "4                      Gerente De Productos Digitales   \n",
       "5                Gerente De Administracion Y Finanzas   \n",
       "6                                 Coordinador General   \n",
       "7   Superintendente De Metalurgia Y Control De Pro...   \n",
       "8                                    Delivery Manager   \n",
       "9                   Gerente De Almecen Y Distribucion   \n",
       "10  Analista De Importaciones Y Logistica / Teleco...   \n",
       "11           Gerente Agencia Credito Grupal - Cn Mala   \n",
       "12                                    Gerente General   \n",
       "13                                   Director General   \n",
       "14                             Auditor Interno Senior   \n",
       "15  Gerente Comercial Retail - Autos Y Motos De Marca   \n",
       "16                              Gerente De Ingenieria   \n",
       "17                                 Director Comercial   \n",
       "18                Gerente Corporativo De Proyectos Ti   \n",
       "19                              Gerente General-Enaco   \n",
       "\n",
       "                                      COMPANY               PUBLICATION_DATE  \\\n",
       "0                         TRANSPORTES HAGEMSA          Publicado hace 2 días   \n",
       "1   OBRASCON HUARTE LAIN SA SUCURSAL DEL PERU                 Publicado ayer   \n",
       "2                         CL SELECTION S.A.C.  Publicado hace más de 15 días   \n",
       "3                         CL SELECTION S.A.C.  Publicado hace más de 15 días   \n",
       "4                         MATCH POWER HUNTING  Publicado hace más de 15 días   \n",
       "5                                confidencial  Publicado hace más de 30 días   \n",
       "6         INMEL PERU SOCIEDAD ANONIMA CERRADA  Publicado hace más de 30 días   \n",
       "7                             MINERA CHINALCO  Publicado hace más de 30 días   \n",
       "8                                    NTT DATA  Publicado hace más de 30 días   \n",
       "9                                confidencial  Publicado hace más de 30 días   \n",
       "10               TOTAL TALENT HUMAN RESOURCES  Publicado hace más de 30 días   \n",
       "11                COMPARTAMOS FINANCIERA S.A.  Publicado hace más de 30 días   \n",
       "12                               confidencial  Publicado hace más de 30 días   \n",
       "13                            BUMERAN SELECTA  Publicado hace más de 30 días   \n",
       "14               AMBC CONSULTORIA EMPRESARIAL                  Publicado hoy   \n",
       "15               AMBC CONSULTORIA EMPRESARIAL                  Publicado hoy   \n",
       "16                               confidencial                  Publicado hoy   \n",
       "17                               confidencial                 Publicado ayer   \n",
       "18                           INTERCORP RETAIL                 Publicado ayer   \n",
       "19                        CL SELECTION S.A.C.                 Publicado ayer   \n",
       "\n",
       "                         LOCATION       SCHEDULES_AVAILABLE  \\\n",
       "0        Arequipa, Arequipa, Peru  Full-time, Indeterminado   \n",
       "1             Casma, Ancash, Peru  Full-time, Indeterminado   \n",
       "2                Lima, Lima, Peru  Full-time, Indeterminado   \n",
       "3                Lima, Lima, Peru  Full-time, Indeterminado   \n",
       "4                Lima, Lima, Peru  Full-time, Indeterminado   \n",
       "5                Lima, Lima, Peru  Full-time, Indeterminado   \n",
       "6                Lima, Lima, Peru  Full-time, Indeterminado   \n",
       "7          Morococha, Junin, Peru                 Full-time   \n",
       "8                Lima, Lima, Peru  Full-time, Indeterminado   \n",
       "9                Lima, Lima, Peru  Full-time, Indeterminado   \n",
       "10               Lima, Lima, Peru  Full-time, Indeterminado   \n",
       "11  San Pedro de Mala, Lima, Peru  Full-time, Indeterminado   \n",
       "12               Lima, Lima, Peru  Full-time, Indeterminado   \n",
       "13          Huancayo, Junin, Peru                 Full-time   \n",
       "14                     Otra, Peru  Full-time, Indeterminado   \n",
       "15               Lima, Lima, Peru  Full-time, Indeterminado   \n",
       "16  Villa El Salvador, Lima, Peru  Full-time, Indeterminado   \n",
       "17               Lima, Lima, Peru  Full-time, Indeterminado   \n",
       "18              Lince, Lima, Peru  Full-time, Indeterminado   \n",
       "19               Lima, Lima, Peru  Full-time, Indeterminado   \n",
       "\n",
       "                                  AREA MODALITY_AVAILABLE  \n",
       "0                            Direccion         Presencial  \n",
       "1                         Construccion         Presencial  \n",
       "2                     Recursos Humanos             Remoto  \n",
       "3                     Recursos Humanos         Presencial  \n",
       "4               Desarrollo de Negocios            Hibrido  \n",
       "5                             Finanzas         Presencial  \n",
       "6   Ingenieria Electrica y Electronica         Presencial  \n",
       "7                 Mineria/Petroleo/Gas         Presencial  \n",
       "8                         Comunicacion             Remoto  \n",
       "9                            Logistica         Presencial  \n",
       "10                   Comercio Exterior         Presencial  \n",
       "11                Creditos y Cobranzas         Presencial  \n",
       "12        Gerencia / Direccion General         Presencial  \n",
       "13        Gerencia / Direccion General         Presencial  \n",
       "14                           Auditoria            Hibrido  \n",
       "15                           Comercial            Hibrido  \n",
       "16                   Otras Ingenierias         Presencial  \n",
       "17                           Comercial         Presencial  \n",
       "18               Liderazgo de Proyecto            Hibrido  \n",
       "19                           Comercial         Presencial  "
      ]
     },
     "execution_count": 139,
     "metadata": {},
     "output_type": "execute_result"
    }
   ],
   "source": [
    "data = json_normalize(all_info['executive_jobs']) # jsaon diccionario dentro de una lista\n",
    "data"
   ]
  },
  {
   "cell_type": "code",
   "execution_count": 140,
   "id": "a4884db2",
   "metadata": {
    "scrolled": true
   },
   "outputs": [],
   "source": [
    "# Export df to excel\n",
    "data.to_excel('Bumeran_jobs.xlsx')"
   ]
  },
  {
   "cell_type": "code",
   "execution_count": 141,
   "id": "1977cb16",
   "metadata": {},
   "outputs": [],
   "source": [
    "# Export df to Json\n",
    "data.to_json('Bumeran_jobs.json')"
   ]
  }
 ],
 "metadata": {
  "kernelspec": {
   "display_name": "Python 3 (ipykernel)",
   "language": "python",
   "name": "python3"
  },
  "language_info": {
   "codemirror_mode": {
    "name": "ipython",
    "version": 3
   },
   "file_extension": ".py",
   "mimetype": "text/x-python",
   "name": "python",
   "nbconvert_exporter": "python",
   "pygments_lexer": "ipython3",
   "version": "3.9.7"
  },
  "toc": {
   "base_numbering": 1,
   "nav_menu": {},
   "number_sections": true,
   "sideBar": true,
   "skip_h1_title": false,
   "title_cell": "Table of Contents",
   "title_sidebar": "Contents",
   "toc_cell": false,
   "toc_position": {},
   "toc_section_display": true,
   "toc_window_display": false
  }
 },
 "nbformat": 4,
 "nbformat_minor": 5
}
