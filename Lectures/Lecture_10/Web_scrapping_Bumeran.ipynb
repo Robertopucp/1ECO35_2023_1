{
 "cells": [
  {
   "cell_type": "code",
   "execution_count": 2,
   "id": "565f6a38",
   "metadata": {},
   "outputs": [],
   "source": [
    "#Library\n",
    "# ---\n",
    "# Librerias de selenium \n",
    "\n",
    "from selenium import webdriver\n",
    "from webdriver_manager.chrome import ChromeDriverManager\n",
    "from selenium.webdriver.support.ui import Select  # selccionar opciones de las lista desplegable\n",
    "from selenium.webdriver.common.by import By  # permite seleccionar los elementos en un html\n",
    "from selenium.webdriver.common.keys import Keys  # ingresar datos a un formulario\n",
    "from selenium.common.exceptions import NoSuchElementException\n",
    "# Opciones driver\n",
    "from selenium.webdriver.chrome.options import Options\n",
    "\n",
    "# dataframes\n",
    "import pandas as pd\n",
    "from pandas import json_normalize\n",
    "import numpy as np\n",
    "\n",
    "# Similamos comportamiento humano al añadir tiempos aleatorios\n",
    "import time\n",
    "from time import sleep\n",
    "import random\n",
    "from tqdm import tqdm\n",
    "\n",
    "# Limpear data (tildes sobretodo)\n",
    "import unidecode\n",
    "\n",
    "# Manipular Json files\n",
    "import json\n"
   ]
  },
  {
   "cell_type": "code",
   "execution_count": 3,
   "id": "82a9b18d",
   "metadata": {
    "scrolled": true
   },
   "outputs": [
    {
     "name": "stderr",
     "output_type": "stream",
     "text": [
      "C:\\Users\\Roberto\\AppData\\Local\\Temp\\ipykernel_20640\\1491306052.py:3: DeprecationWarning: executable_path has been deprecated, please pass in a Service object\n",
      "  driver = webdriver.Chrome(\"chromedriver.exe\")\n"
     ]
    }
   ],
   "source": [
    "# Open la página\n",
    "\n",
    "driver = webdriver.Chrome(\"chromedriver.exe\")\n",
    "driver.get(\"https://www.bumeran.com.pe/\")\n",
    "\n",
    "driver.maximize_window()"
   ]
  },
  {
   "cell_type": "code",
   "execution_count": 4,
   "id": "07e87240",
   "metadata": {},
   "outputs": [],
   "source": [
    "# Click en Puestos_ejecutivo\n",
    "\n",
    "# Full path //*[@id=\"root\"]/div/div[1]/div/div[2]/div/div/div[1]/ul/li[2]/a \n",
    "\n",
    "\n",
    "driver.find_elements(By.XPATH, '//li[@class=\"sc-jzgbtB TduFZ\"]')[1].click()\n",
    "\n"
   ]
  },
  {
   "cell_type": "code",
   "execution_count": 7,
   "id": "3d94af3d",
   "metadata": {},
   "outputs": [],
   "source": [
    "# Se cambia el driver a nueva ventana abierta\n",
    "\n",
    "time.sleep(3)\n",
    "\n",
    "driver.switch_to.window(driver.window_handles[1])"
   ]
  },
  {
   "cell_type": "code",
   "execution_count": 8,
   "id": "12baa5eb",
   "metadata": {},
   "outputs": [
    {
     "data": {
      "text/plain": [
       "'https://www.bumeran.com.pe/empleos-seniority-junior.html?landing-jovenes-profesionales=true'"
      ]
     },
     "execution_count": 8,
     "metadata": {},
     "output_type": "execute_result"
    }
   ],
   "source": [
    "# Se pude verificar que el url es de la nueva ventana\n",
    "driver.current_url\n",
    "\n",
    "# https://www.bumeran.com.pe/empleos-seniority-junior.html?landing-jovenes-profesionales=true"
   ]
  },
  {
   "cell_type": "code",
   "execution_count": 9,
   "id": "b1434145",
   "metadata": {},
   "outputs": [],
   "source": [
    "# Objeto que continene todos los avisos \n",
    "\n",
    "listado_de_avisos = driver.find_element(By.ID,\"listado-avisos\")\n",
    "\n",
    "# //*[@id=\"listado-avisos\"]/div[3]/a/div/div[2]/div/div\n",
    "\n",
    "# /html/body/div[1]/div/div[2]/div[2]/div/div[2]/div[2]\n",
    "\n",
    "# //*[@id=\"listado-avisos\"]\n",
    "\n",
    "# <div id=\"listado-avisos\" class=\"sc-izRtNG jggqWD\" style=\"height: auto !important;\">\n"
   ]
  },
  {
   "cell_type": "code",
   "execution_count": 10,
   "id": "a89e8d39",
   "metadata": {},
   "outputs": [
    {
     "data": {
      "text/plain": [
       "<selenium.webdriver.remote.webelement.WebElement (session=\"85dcfc7ec36c24e66043089716c112bb\", element=\"858BA3293D25521ECC7C7BC0B54AD847_element_178\")>"
      ]
     },
     "execution_count": 10,
     "metadata": {},
     "output_type": "execute_result"
    }
   ],
   "source": [
    "listado_de_avisos # objetvo del tag >+<div que contiene las ofertas laborales "
   ]
  },
  {
   "cell_type": "code",
   "execution_count": 117,
   "id": "0c283a3b",
   "metadata": {},
   "outputs": [
    {
     "data": {
      "text/plain": [
       "[<selenium.webdriver.remote.webelement.WebElement (session=\"0116079e08d2850a2d5d9ecfcdf7370b\", element=\"E93DC4B9C55FAB040E5D83A3902E5AFB_element_116\")>,\n",
       " <selenium.webdriver.remote.webelement.WebElement (session=\"0116079e08d2850a2d5d9ecfcdf7370b\", element=\"E93DC4B9C55FAB040E5D83A3902E5AFB_element_119\")>,\n",
       " <selenium.webdriver.remote.webelement.WebElement (session=\"0116079e08d2850a2d5d9ecfcdf7370b\", element=\"E93DC4B9C55FAB040E5D83A3902E5AFB_element_247\")>,\n",
       " <selenium.webdriver.remote.webelement.WebElement (session=\"0116079e08d2850a2d5d9ecfcdf7370b\", element=\"E93DC4B9C55FAB040E5D83A3902E5AFB_element_278\")>,\n",
       " <selenium.webdriver.remote.webelement.WebElement (session=\"0116079e08d2850a2d5d9ecfcdf7370b\", element=\"E93DC4B9C55FAB040E5D83A3902E5AFB_element_284\")>,\n",
       " <selenium.webdriver.remote.webelement.WebElement (session=\"0116079e08d2850a2d5d9ecfcdf7370b\", element=\"E93DC4B9C55FAB040E5D83A3902E5AFB_element_288\")>,\n",
       " <selenium.webdriver.remote.webelement.WebElement (session=\"0116079e08d2850a2d5d9ecfcdf7370b\", element=\"E93DC4B9C55FAB040E5D83A3902E5AFB_element_321\")>,\n",
       " <selenium.webdriver.remote.webelement.WebElement (session=\"0116079e08d2850a2d5d9ecfcdf7370b\", element=\"E93DC4B9C55FAB040E5D83A3902E5AFB_element_353\")>,\n",
       " <selenium.webdriver.remote.webelement.WebElement (session=\"0116079e08d2850a2d5d9ecfcdf7370b\", element=\"E93DC4B9C55FAB040E5D83A3902E5AFB_element_385\")>,\n",
       " <selenium.webdriver.remote.webelement.WebElement (session=\"0116079e08d2850a2d5d9ecfcdf7370b\", element=\"E93DC4B9C55FAB040E5D83A3902E5AFB_element_413\")>,\n",
       " <selenium.webdriver.remote.webelement.WebElement (session=\"0116079e08d2850a2d5d9ecfcdf7370b\", element=\"E93DC4B9C55FAB040E5D83A3902E5AFB_element_439\")>,\n",
       " <selenium.webdriver.remote.webelement.WebElement (session=\"0116079e08d2850a2d5d9ecfcdf7370b\", element=\"E93DC4B9C55FAB040E5D83A3902E5AFB_element_465\")>,\n",
       " <selenium.webdriver.remote.webelement.WebElement (session=\"0116079e08d2850a2d5d9ecfcdf7370b\", element=\"E93DC4B9C55FAB040E5D83A3902E5AFB_element_497\")>,\n",
       " <selenium.webdriver.remote.webelement.WebElement (session=\"0116079e08d2850a2d5d9ecfcdf7370b\", element=\"E93DC4B9C55FAB040E5D83A3902E5AFB_element_529\")>,\n",
       " <selenium.webdriver.remote.webelement.WebElement (session=\"0116079e08d2850a2d5d9ecfcdf7370b\", element=\"E93DC4B9C55FAB040E5D83A3902E5AFB_element_555\")>,\n",
       " <selenium.webdriver.remote.webelement.WebElement (session=\"0116079e08d2850a2d5d9ecfcdf7370b\", element=\"E93DC4B9C55FAB040E5D83A3902E5AFB_element_583\")>,\n",
       " <selenium.webdriver.remote.webelement.WebElement (session=\"0116079e08d2850a2d5d9ecfcdf7370b\", element=\"E93DC4B9C55FAB040E5D83A3902E5AFB_element_615\")>,\n",
       " <selenium.webdriver.remote.webelement.WebElement (session=\"0116079e08d2850a2d5d9ecfcdf7370b\", element=\"E93DC4B9C55FAB040E5D83A3902E5AFB_element_641\")>,\n",
       " <selenium.webdriver.remote.webelement.WebElement (session=\"0116079e08d2850a2d5d9ecfcdf7370b\", element=\"E93DC4B9C55FAB040E5D83A3902E5AFB_element_673\")>,\n",
       " <selenium.webdriver.remote.webelement.WebElement (session=\"0116079e08d2850a2d5d9ecfcdf7370b\", element=\"E93DC4B9C55FAB040E5D83A3902E5AFB_element_697\")>,\n",
       " <selenium.webdriver.remote.webelement.WebElement (session=\"0116079e08d2850a2d5d9ecfcdf7370b\", element=\"E93DC4B9C55FAB040E5D83A3902E5AFB_element_721\")>,\n",
       " <selenium.webdriver.remote.webelement.WebElement (session=\"0116079e08d2850a2d5d9ecfcdf7370b\", element=\"E93DC4B9C55FAB040E5D83A3902E5AFB_element_745\")>,\n",
       " <selenium.webdriver.remote.webelement.WebElement (session=\"0116079e08d2850a2d5d9ecfcdf7370b\", element=\"E93DC4B9C55FAB040E5D83A3902E5AFB_element_769\")>,\n",
       " <selenium.webdriver.remote.webelement.WebElement (session=\"0116079e08d2850a2d5d9ecfcdf7370b\", element=\"E93DC4B9C55FAB040E5D83A3902E5AFB_element_797\")>,\n",
       " <selenium.webdriver.remote.webelement.WebElement (session=\"0116079e08d2850a2d5d9ecfcdf7370b\", element=\"E93DC4B9C55FAB040E5D83A3902E5AFB_element_824\")>,\n",
       " <selenium.webdriver.remote.webelement.WebElement (session=\"0116079e08d2850a2d5d9ecfcdf7370b\", element=\"E93DC4B9C55FAB040E5D83A3902E5AFB_element_825\")>,\n",
       " <selenium.webdriver.remote.webelement.WebElement (session=\"0116079e08d2850a2d5d9ecfcdf7370b\", element=\"E93DC4B9C55FAB040E5D83A3902E5AFB_element_827\")>,\n",
       " <selenium.webdriver.remote.webelement.WebElement (session=\"0116079e08d2850a2d5d9ecfcdf7370b\", element=\"E93DC4B9C55FAB040E5D83A3902E5AFB_element_829\")>,\n",
       " <selenium.webdriver.remote.webelement.WebElement (session=\"0116079e08d2850a2d5d9ecfcdf7370b\", element=\"E93DC4B9C55FAB040E5D83A3902E5AFB_element_831\")>,\n",
       " <selenium.webdriver.remote.webelement.WebElement (session=\"0116079e08d2850a2d5d9ecfcdf7370b\", element=\"E93DC4B9C55FAB040E5D83A3902E5AFB_element_833\")>,\n",
       " <selenium.webdriver.remote.webelement.WebElement (session=\"0116079e08d2850a2d5d9ecfcdf7370b\", element=\"E93DC4B9C55FAB040E5D83A3902E5AFB_element_836\")>,\n",
       " <selenium.webdriver.remote.webelement.WebElement (session=\"0116079e08d2850a2d5d9ecfcdf7370b\", element=\"E93DC4B9C55FAB040E5D83A3902E5AFB_element_838\")>]"
      ]
     },
     "execution_count": 117,
     "metadata": {},
     "output_type": "execute_result"
    }
   ],
   "source": [
    "listado_de_avisos.find_elements(By.TAG_NAME,'a')\n",
    "\n",
    "# fins_elements va a encontrar a todos los links, <a> <\\/a> se usan para añadir links en la página web "
   ]
  },
  {
   "cell_type": "code",
   "execution_count": 11,
   "id": "0dbf8159",
   "metadata": {},
   "outputs": [
    {
     "data": {
      "text/plain": [
       "'https://www.bumeran.com.pe/noticias/como-mejorar-tu-imagen-personal-digital-para-encontrar-empleo/'"
      ]
     },
     "execution_count": 11,
     "metadata": {},
     "output_type": "execute_result"
    }
   ],
   "source": [
    "links = listado_de_avisos.find_elements(By.TAG_NAME,'a') \n",
    "links[1].get_attribute(\"href\")"
   ]
  },
  {
   "cell_type": "code",
   "execution_count": 16,
   "id": "932d8a71",
   "metadata": {},
   "outputs": [
    {
     "data": {
      "text/plain": [
       "'https://www.bumeran.com.pe/empleos/asesor-de-negocios-con-sin-experiencia-agencia-san-martin-juliaca-caja-huancayo-1115875150.html'"
      ]
     },
     "execution_count": 16,
     "metadata": {},
     "output_type": "execute_result"
    }
   ],
   "source": [
    "links[4].get_attribute(\"href\")"
   ]
  },
  {
   "cell_type": "code",
   "execution_count": 17,
   "id": "9ac284ee",
   "metadata": {},
   "outputs": [],
   "source": [
    "# almacenamos los urls de cada oferta laboral\n",
    "\n",
    "# liks es la lista de ruls \n",
    "\n",
    "links = listado_de_avisos.find_elements(By.TAG_NAME,'a') \n",
    "\n",
    "urls = [link.get_attribute(\"href\") for link in links if \"empleos/\" in str(link.get_attribute(\"href\"))]"
   ]
  },
  {
   "cell_type": "code",
   "execution_count": 18,
   "id": "6880b986",
   "metadata": {
    "scrolled": true
   },
   "outputs": [
    {
     "data": {
      "text/plain": [
       "['https://www.bumeran.com.pe/empleos/asesor-de-negocios-con-sin-experiencia-agencia-san-martin-juliaca-caja-huancayo-1115875150.html',\n",
       " 'https://www.bumeran.com.pe/empleos/asesor-del-cliente-para-banco-lima-adecco-consulting-1115875019.html',\n",
       " 'https://www.bumeran.com.pe/empleos/auxiliar-de-almacen-tiendas-tai-loy-s.-a.-1115873876.html',\n",
       " 'https://www.bumeran.com.pe/empleos/asesor-de-negocios-con-sin-experiencia-agencia-amauta-ate-caja-huancayo-1115866035.html',\n",
       " 'https://www.bumeran.com.pe/empleos/ejecutivo-comercial-izipay-pos-remoto-planilla-comisiones-1115872790.html',\n",
       " 'https://www.bumeran.com.pe/empleos/practicante-profesional-de-reclutamiento-bilingue-tata-consultancy-services-sucursal-peru-1115872774.html',\n",
       " 'https://www.bumeran.com.pe/empleos/asistente-de-servicio-al-cliente-crepier-1115872736.html',\n",
       " 'https://www.bumeran.com.pe/empleos/asistente-administrativo-logistica-bilingue-turno-madrugada-ntt-data-1115872730.html',\n",
       " 'https://www.bumeran.com.pe/empleos/footloose-en-bumeran-spot-match-28-06-footloose-1115872294.html',\n",
       " 'https://www.bumeran.com.pe/empleos/operario-de-almacen-apudex-1115872144.html',\n",
       " 'https://www.bumeran.com.pe/empleos/analista-jr-de-recursos-humanos-apudex-1115872124.html',\n",
       " 'https://www.bumeran.com.pe/empleos/asistente-de-capacitacion-caja-huancayo-1115871809.html',\n",
       " 'https://www.bumeran.com.pe/empleos/data-engineer-program-ntt-data-1115871545.html',\n",
       " 'https://www.bumeran.com.pe/empleos/asesor-de-negocios-sin-experiencia-agencia-pisco-caja-huancayo-1115871497.html',\n",
       " 'https://www.bumeran.com.pe/empleos/asistente-de-visual-y-trade-marketing-crepier-1115871493.html',\n",
       " 'https://www.bumeran.com.pe/empleos/operador-de-monitoreo-ntt-data-1115871198.html',\n",
       " 'https://www.bumeran.com.pe/empleos/asesor-de-negocios-con-sin-experiencia-agencia-lurin-caja-huancayo-1115870724.html',\n",
       " 'https://www.bumeran.com.pe/empleos/helpdesk-bilingue-con-conocimiento-itil-fundamentos-ntt-data-1115868848.html',\n",
       " 'https://www.bumeran.com.pe/empleos/ejecutivo-comercial-izipay-pos-remoto-planilla-comisiones-1115868820.html',\n",
       " 'https://www.bumeran.com.pe/empleos/asesor-call-center-retencion-san-isidro-pin-up-global-1115868738.html']"
      ]
     },
     "execution_count": 18,
     "metadata": {},
     "output_type": "execute_result"
    }
   ],
   "source": [
    "urls"
   ]
  },
  {
   "cell_type": "code",
   "execution_count": 19,
   "id": "5a23e5c9",
   "metadata": {},
   "outputs": [],
   "source": [
    "# He hecho click en una de las ofertas laborales \n",
    "# Se cambia el driver a la nueva ventana \n",
    "\n",
    "time.sleep(4)\n",
    "\n",
    "driver.get(urls[1]) # nos dirigmos al primer url con info del empleo\n",
    "\n",
    "driver.switch_to.window(driver.window_handles[1]) # ventana posición 2 , indexing 1"
   ]
  },
  {
   "cell_type": "code",
   "execution_count": 131,
   "id": "84b743cf",
   "metadata": {},
   "outputs": [],
   "source": [
    "# se extrae el titulo del empleo\n",
    "\n",
    "time.sleep(2)\n",
    "\n",
    "job = driver.find_element(By.XPATH, \"//h1[@class='sc-euoZOX hjaJMy sc-kEYyzF kcaojl']\").text\n",
    "job = unidecode.unidecode(job).title() # se retira las tildes \n",
    "\n",
    "#//*[@id=\"header-component\"]/div[1]/div/h1\n",
    "\n"
   ]
  },
  {
   "cell_type": "code",
   "execution_count": null,
   "id": "ba54fc9c",
   "metadata": {},
   "outputs": [],
   "source": [
    "#<h1 class=\"sc-euoZOX hjaJMy sc-kEYyzF kcaojl\">ASESOR DEL CLIENTE PARA BANCO - LIMA</h1>\n",
    "\n",
    "#\"\\\\h1[@class='sc-euoZOX hjaJMy sc-kEYyzF kcaojl']\""
   ]
  },
  {
   "cell_type": "code",
   "execution_count": 23,
   "id": "8a86acfa",
   "metadata": {},
   "outputs": [
    {
     "data": {
      "text/plain": [
       "'Asesor Del Cliente Para Banco - Lima'"
      ]
     },
     "execution_count": 23,
     "metadata": {},
     "output_type": "execute_result"
    }
   ],
   "source": [
    "driver.find_element(By.XPATH, \"//h1[@class='sc-euoZOX hjaJMy sc-kEYyzF kcaojl']\").text.title()"
   ]
  },
  {
   "cell_type": "code",
   "execution_count": 21,
   "id": "a5e996c5",
   "metadata": {},
   "outputs": [
    {
     "data": {
      "text/plain": [
       "1"
      ]
     },
     "execution_count": 21,
     "metadata": {},
     "output_type": "execute_result"
    }
   ],
   "source": [
    "len(driver.find_elements(By.XPATH, \"//h1[@class='sc-euoZOX hjaJMy sc-kEYyzF kcaojl']\"))"
   ]
  },
  {
   "cell_type": "code",
   "execution_count": 132,
   "id": "a6864cec",
   "metadata": {
    "scrolled": true
   },
   "outputs": [
    {
     "data": {
      "text/plain": [
       "'Residente De Obra - Casma'"
      ]
     },
     "execution_count": 132,
     "metadata": {},
     "output_type": "execute_result"
    }
   ],
   "source": [
    "job "
   ]
  },
  {
   "cell_type": "code",
   "execution_count": 24,
   "id": "ec4b555e",
   "metadata": {},
   "outputs": [
    {
     "data": {
      "text/plain": [
       "'ADECCO CONSULTING'"
      ]
     },
     "execution_count": 24,
     "metadata": {},
     "output_type": "execute_result"
    }
   ],
   "source": [
    "# Se extrae el nombre de la empresa \n",
    "\n",
    "company = driver.find_element(By.XPATH, \"//h3[@class='sc-fslttm dowqHM']\").text\n",
    "company = unidecode.unidecode(company).upper()\n",
    "company"
   ]
  },
  {
   "cell_type": "code",
   "execution_count": 35,
   "id": "501cc94c",
   "metadata": {},
   "outputs": [
    {
     "data": {
      "text/plain": [
       "'Publicado hoy'"
      ]
     },
     "execution_count": 35,
     "metadata": {},
     "output_type": "execute_result"
    }
   ],
   "source": [
    "driver.find_elements(By.XPATH, \"//h2[@class='sc-ijbeYI cHOfxq']\")[0].text\n",
    "\n",
    "# Esta path relativo identifica muchos elemtos de la página web \n",
    "# La solución serpa navegación por ejes\n",
    "\n",
    "#<h2 class=\"sc-ijbeYI cHOfxq\">Publicado hoy</h2>"
   ]
  },
  {
   "cell_type": "code",
   "execution_count": 39,
   "id": "39c68c05",
   "metadata": {},
   "outputs": [
    {
     "data": {
      "text/plain": [
       "<selenium.webdriver.remote.webelement.WebElement (session=\"85dcfc7ec36c24e66043089716c112bb\", element=\"202B35C0F905622A424BB8962B7B2045_element_2265\")>"
      ]
     },
     "execution_count": 39,
     "metadata": {},
     "output_type": "execute_result"
    }
   ],
   "source": [
    "# Navegación por ejes \n",
    "driver.find_elements(By.XPATH, \"//i[@name='icon-light-clock']/following-sibling::h2\")[0]\n",
    "\n"
   ]
  },
  {
   "cell_type": "code",
   "execution_count": 38,
   "id": "cb052651",
   "metadata": {},
   "outputs": [
    {
     "data": {
      "text/plain": [
       "'Publicado hoy'"
      ]
     },
     "execution_count": 38,
     "metadata": {},
     "output_type": "execute_result"
    }
   ],
   "source": [
    "# Click en el icono de tiempo de publicación \n",
    "\n",
    "driver.find_elements(By.XPATH, \"//i[@name='icon-light-clock']/following-sibling::h2\")[0].text\n",
    "# tenemos dos opciones. La primera opción indica hace cuanto tiempo se publico la oferta laboral \n",
    "# accedemos al tag <h2></h2> dentro del tag del icino de tiempo con following-sibling::h2"
   ]
  },
  {
   "cell_type": "code",
   "execution_count": 40,
   "id": "50de2873",
   "metadata": {},
   "outputs": [
    {
     "data": {
      "text/plain": [
       "'Surco, Lima, Peru'"
      ]
     },
     "execution_count": 40,
     "metadata": {},
     "output_type": "execute_result"
    }
   ],
   "source": [
    "# Click en el icono ubicación\n",
    "\n",
    "driver.find_elements(By.XPATH, \"//i[@name='icon-light-location-pin']/following-sibling::h2\")[0].text\n",
    "\n",
    "# la primera opción correcponde a la ubicación de interés"
   ]
  },
  {
   "cell_type": "code",
   "execution_count": 42,
   "id": "296c8c77",
   "metadata": {},
   "outputs": [],
   "source": [
    "all_info = {}\n",
    "all_info['executive_jobs']=[] "
   ]
  },
  {
   "cell_type": "code",
   "execution_count": 43,
   "id": "72b10032",
   "metadata": {},
   "outputs": [
    {
     "data": {
      "text/plain": [
       "{'executive_jobs': []}"
      ]
     },
     "execution_count": 43,
     "metadata": {},
     "output_type": "execute_result"
    }
   ],
   "source": [
    "all_info"
   ]
  },
  {
   "cell_type": "code",
   "execution_count": 44,
   "id": "4293cd20",
   "metadata": {
    "scrolled": false
   },
   "outputs": [
    {
     "name": "stderr",
     "output_type": "stream",
     "text": [
      "\r",
      "  0%|                                                                                          | 0/20 [00:00<?, ?it/s]"
     ]
    },
    {
     "name": "stdout",
     "output_type": "stream",
     "text": [
      "Asesor De Negocios Con/Sin Experiencia Agencia San Martin - Juliaca\n"
     ]
    },
    {
     "name": "stderr",
     "output_type": "stream",
     "text": [
      "\r",
      "  5%|████                                                                              | 1/20 [00:13<04:25, 13.98s/it]"
     ]
    },
    {
     "name": "stdout",
     "output_type": "stream",
     "text": [
      "Asesor Del Cliente Para Banco - Lima\n"
     ]
    },
    {
     "name": "stderr",
     "output_type": "stream",
     "text": [
      "\r",
      " 10%|████████▏                                                                         | 2/20 [00:28<04:15, 14.21s/it]"
     ]
    },
    {
     "name": "stdout",
     "output_type": "stream",
     "text": [
      "Auxiliar De Almacen- Tiendas\n"
     ]
    },
    {
     "name": "stderr",
     "output_type": "stream",
     "text": [
      "\r",
      " 15%|████████████▎                                                                     | 3/20 [00:45<04:24, 15.54s/it]"
     ]
    },
    {
     "name": "stdout",
     "output_type": "stream",
     "text": [
      "Asesor De Negocios Con/Sin Experiencia - Agencia Amauta (Ate)\n"
     ]
    },
    {
     "name": "stderr",
     "output_type": "stream",
     "text": [
      "\r",
      " 20%|████████████████▍                                                                 | 4/20 [01:04<04:28, 16.78s/it]"
     ]
    },
    {
     "name": "stdout",
     "output_type": "stream",
     "text": [
      "Ejecutivo Comercial- Izipay Pos (Remoto) (Planilla/ Comisiones)\n"
     ]
    },
    {
     "name": "stderr",
     "output_type": "stream",
     "text": [
      "\r",
      " 25%|████████████████████▌                                                             | 5/20 [01:20<04:10, 16.69s/it]"
     ]
    },
    {
     "name": "stdout",
     "output_type": "stream",
     "text": [
      "Practicante Profesional De Reclutamiento Bilingue\n"
     ]
    },
    {
     "name": "stderr",
     "output_type": "stream",
     "text": [
      "\r",
      " 30%|████████████████████████▌                                                         | 6/20 [01:40<04:07, 17.66s/it]"
     ]
    },
    {
     "name": "stdout",
     "output_type": "stream",
     "text": [
      "Asistente De Servicio Al Cliente\n"
     ]
    },
    {
     "name": "stderr",
     "output_type": "stream",
     "text": [
      "\r",
      " 35%|████████████████████████████▋                                                     | 7/20 [01:56<03:43, 17.16s/it]"
     ]
    },
    {
     "name": "stdout",
     "output_type": "stream",
     "text": [
      "Asistente Administrativo (Logistica) Bilingue - Turno Madrugada\n"
     ]
    },
    {
     "name": "stderr",
     "output_type": "stream",
     "text": [
      "\r",
      " 40%|████████████████████████████████▊                                                 | 8/20 [02:12<03:21, 16.77s/it]"
     ]
    },
    {
     "name": "stdout",
     "output_type": "stream",
     "text": [
      "Footloose En Bumeran Spot Match 28/06\n"
     ]
    },
    {
     "name": "stderr",
     "output_type": "stream",
     "text": [
      "\r",
      " 45%|████████████████████████████████████▉                                             | 9/20 [02:31<03:11, 17.43s/it]"
     ]
    },
    {
     "name": "stdout",
     "output_type": "stream",
     "text": [
      "Operario De Almacen\n"
     ]
    },
    {
     "name": "stderr",
     "output_type": "stream",
     "text": [
      "\r",
      " 50%|████████████████████████████████████████▌                                        | 10/20 [02:49<02:55, 17.59s/it]"
     ]
    },
    {
     "name": "stdout",
     "output_type": "stream",
     "text": [
      "Analista Jr De Recursos Humanos\n"
     ]
    },
    {
     "name": "stderr",
     "output_type": "stream",
     "text": [
      "\r",
      " 55%|████████████████████████████████████████████▌                                    | 11/20 [03:05<02:33, 17.08s/it]"
     ]
    },
    {
     "name": "stdout",
     "output_type": "stream",
     "text": [
      "Asistente De Capacitacion\n"
     ]
    },
    {
     "name": "stderr",
     "output_type": "stream",
     "text": [
      "\r",
      " 60%|████████████████████████████████████████████████▌                                | 12/20 [03:20<02:11, 16.45s/it]"
     ]
    },
    {
     "name": "stdout",
     "output_type": "stream",
     "text": [
      "Data Engineer Program\n"
     ]
    },
    {
     "name": "stderr",
     "output_type": "stream",
     "text": [
      "\r",
      " 65%|████████████████████████████████████████████████████▋                            | 13/20 [03:34<01:51, 15.99s/it]"
     ]
    },
    {
     "name": "stdout",
     "output_type": "stream",
     "text": [
      "Asesor De Negocios Sin Experiencia - Agencia Pisco\n"
     ]
    },
    {
     "name": "stderr",
     "output_type": "stream",
     "text": [
      "\r",
      " 70%|████████████████████████████████████████████████████████▋                        | 14/20 [03:53<01:41, 16.89s/it]"
     ]
    },
    {
     "name": "stdout",
     "output_type": "stream",
     "text": [
      "Asistente De Visual Y Trade Marketing\n"
     ]
    },
    {
     "name": "stderr",
     "output_type": "stream",
     "text": [
      "\r",
      " 75%|████████████████████████████████████████████████████████████▊                    | 15/20 [04:09<01:23, 16.61s/it]"
     ]
    },
    {
     "name": "stdout",
     "output_type": "stream",
     "text": [
      "Operador De Monitoreo\n"
     ]
    },
    {
     "name": "stderr",
     "output_type": "stream",
     "text": [
      "\r",
      " 80%|████████████████████████████████████████████████████████████████▊                | 16/20 [04:28<01:09, 17.32s/it]"
     ]
    },
    {
     "name": "stdout",
     "output_type": "stream",
     "text": [
      "Asesor De Negocios Con/Sin Experiencia Agencia Lurin\n"
     ]
    },
    {
     "name": "stderr",
     "output_type": "stream",
     "text": [
      "\r",
      " 85%|████████████████████████████████████████████████████████████████████▊            | 17/20 [04:44<00:50, 16.91s/it]"
     ]
    },
    {
     "name": "stdout",
     "output_type": "stream",
     "text": [
      "Helpdesk Bilingue Con Conocimiento Itil Fundamentos\n"
     ]
    },
    {
     "name": "stderr",
     "output_type": "stream",
     "text": [
      "\r",
      " 90%|████████████████████████████████████████████████████████████████████████▉        | 18/20 [04:58<00:32, 16.01s/it]"
     ]
    },
    {
     "name": "stdout",
     "output_type": "stream",
     "text": [
      "Ejecutivo Comercial- Izipay Pos (Remoto) (Planilla/ Comisiones)\n"
     ]
    },
    {
     "name": "stderr",
     "output_type": "stream",
     "text": [
      "\r",
      " 95%|████████████████████████████████████████████████████████████████████████████▉    | 19/20 [05:17<00:16, 16.91s/it]"
     ]
    },
    {
     "name": "stdout",
     "output_type": "stream",
     "text": [
      "Asesor Call Center Retencion - San Isidro\n"
     ]
    },
    {
     "name": "stderr",
     "output_type": "stream",
     "text": [
      "100%|█████████████████████████████████████████████████████████████████████████████████| 20/20 [05:34<00:00, 16.74s/it]\n"
     ]
    }
   ],
   "source": [
    "# Diccionario principal \n",
    "\n",
    "all_info = {}\n",
    "all_info['executive_jobs']=[] # lista vacía dentro de un diccionario de llave 'executive_jobs'\n",
    "\n",
    "\n",
    "\n",
    "for url in tqdm(urls):\n",
    "    driver.get(url)  # loop en cada url de empleo \n",
    "    time.sleep(random.randint(10,15)) # tiempo aleatorio como estrategia para evitar ser reconocidos como un bot\n",
    "    \n",
    "    page = {}  # se crea un diccionaruo vacío \n",
    "    \n",
    "# ------------------------------     HEADERS    -------------------------\n",
    "\n",
    "\n",
    "    # Switch to new page \n",
    "    \n",
    "    \n",
    "    job = driver.find_element(By.XPATH, \"//h1[@class='sc-euoZOX hjaJMy sc-kEYyzF kcaojl']\").text\n",
    "    job = unidecode.unidecode(job).title() # se interpreta las tildes o caracteres especiales. Luego formato titulo\n",
    "    \n",
    "    print(job)\n",
    "    \n",
    "    # Append\n",
    "    page['JOB_AVAILABLE'] = job  # guardo job en la llave JOB_AVAIBLE\n",
    "\n",
    "    # Location by xpath\n",
    "    company = driver.find_element(By.XPATH, \"//h3[@class='sc-fslttm dowqHM']\").text\n",
    "    company = unidecode.unidecode(company).upper()  # mayuscula\n",
    "    \n",
    "    # Si la empresa es confidencias\n",
    "    \n",
    "    if company == \"CONFIDENCIAL\":\n",
    "        company = company.lower()\n",
    "\n",
    "    # Append\n",
    "    page['COMPANY'] = company\n",
    "    \n",
    "       \n",
    "# ------------------------------     SECTION RED    -------------------------\n",
    "\n",
    "    # Tiempo de publicación\n",
    "    \n",
    "    publication_date = driver.find_elements(By.XPATH, \"//i[@name='icon-light-clock']/following-sibling::h2\")[0].text\n",
    "    # Append\n",
    "    page['PUBLICATION_DATE'] = publication_date\n",
    "\n",
    "    # Ubicación\n",
    "    location = driver.find_elements(By.XPATH, \"//i[@name='icon-light-location-pin']/following-sibling::h2\")[0].text\n",
    "    location = unidecode.unidecode(location)\n",
    "\n",
    "    # Append\n",
    "    page['LOCATION'] = location\n",
    "    \n",
    "    try:\n",
    "        # Usando XPATH si la ofeta laboral esta dirigido a personas con alguna discapacidad\n",
    "        \n",
    "        disability = driver.find_element(By.XPATH, '//a[@href=\"/empleos-discapacitados-apto.html\"]').text\n",
    "        # Append\n",
    "        page['SUITABLE_FOR_PEOPLE_WITH_DISABILITIES'] = disability\n",
    "    except:\n",
    "        pass\n",
    "#  -------------------------------   SECTION BLUE   ------------------------------\n",
    "\n",
    "\n",
    "    # Tipo de empleo (Full time o part time)\n",
    "    page['SCHEDULES_AVAILABLE'] = driver.find_elements(By.XPATH, \"//i[@name='icon-light-clock']/following-sibling::h2\")[1].text\n",
    "\n",
    "    # Salary\n",
    "    try:\n",
    "        money = driver.find_element(By.XPATH, '//i[@name=\"icon-light-money\"]/following-sibling::h2').text\n",
    "    # Append\n",
    "        page['SALARY'] = money\n",
    "        \n",
    "    except:\n",
    "        pass\n",
    "    \n",
    "    # Area laboral \n",
    "    area = driver.find_element(By.XPATH, '//i[@name=\"icon-light-cube\"]/following-sibling::h2').text\n",
    "    area = unidecode.unidecode(area)\n",
    "\n",
    "    # Append\n",
    "    page['AREA'] = area\n",
    "\n",
    "\n",
    "    # Modalidad (presencia o remoto, etc)\n",
    "    modality = driver.find_element(By.XPATH,'//i[@name=\"icon-light-office\"]/following-sibling::h2').text\n",
    "    modality = unidecode.unidecode(modality)\n",
    "    # Append\n",
    "    page['MODALITY_AVAILABLE'] = modality\n",
    "    \n",
    "    all_info['executive_jobs'].append(page) # se añade el diccionario page como un elemento de la lista all_info\n",
    "    \n",
    "   \n",
    "    \n",
    "    time.sleep(3)\n",
    "    \n",
    "driver.close() # se cierra la ventana "
   ]
  },
  {
   "cell_type": "code",
   "execution_count": 45,
   "id": "56451847",
   "metadata": {},
   "outputs": [
    {
     "data": {
      "text/plain": [
       "[{'JOB_AVAILABLE': 'Asesor De Negocios Con/Sin Experiencia Agencia San Martin - Juliaca',\n",
       "  'COMPANY': 'CAJA HUANCAYO',\n",
       "  'PUBLICATION_DATE': 'Publicado hoy',\n",
       "  'LOCATION': 'Juliaca, Puno, Peru',\n",
       "  'SCHEDULES_AVAILABLE': 'Full-time, Indeterminado',\n",
       "  'AREA': 'Comercial',\n",
       "  'MODALITY_AVAILABLE': 'Presencial'},\n",
       " {'JOB_AVAILABLE': 'Asesor Del Cliente Para Banco - Lima',\n",
       "  'COMPANY': 'ADECCO CONSULTING',\n",
       "  'PUBLICATION_DATE': 'Publicado hoy',\n",
       "  'LOCATION': 'Surco, Lima, Peru',\n",
       "  'SCHEDULES_AVAILABLE': 'Part-time, Indeterminado',\n",
       "  'AREA': 'Atencion al Cliente',\n",
       "  'MODALITY_AVAILABLE': 'Presencial'},\n",
       " {'JOB_AVAILABLE': 'Auxiliar De Almacen- Tiendas',\n",
       "  'COMPANY': 'TAI LOY S. A.',\n",
       "  'PUBLICATION_DATE': 'Publicado hoy',\n",
       "  'LOCATION': 'Lima, Lima, Peru',\n",
       "  'SCHEDULES_AVAILABLE': 'Full-time, Temporal',\n",
       "  'AREA': 'Almacen / Deposito / Expedicion',\n",
       "  'MODALITY_AVAILABLE': 'Presencial'},\n",
       " {'JOB_AVAILABLE': 'Asesor De Negocios Con/Sin Experiencia - Agencia Amauta (Ate)',\n",
       "  'COMPANY': 'CAJA HUANCAYO',\n",
       "  'PUBLICATION_DATE': 'Publicado ayer',\n",
       "  'LOCATION': 'Ate., Lima, Peru',\n",
       "  'SCHEDULES_AVAILABLE': 'Full-time, Indeterminado',\n",
       "  'AREA': 'Comercial',\n",
       "  'MODALITY_AVAILABLE': 'Presencial'},\n",
       " {'JOB_AVAILABLE': 'Ejecutivo Comercial- Izipay Pos (Remoto) (Planilla/ Comisiones)',\n",
       "  'COMPANY': 'confidencial',\n",
       "  'PUBLICATION_DATE': 'Publicado ayer',\n",
       "  'LOCATION': 'Otra, Peru',\n",
       "  'SCHEDULES_AVAILABLE': 'Full-time, Indeterminado',\n",
       "  'AREA': 'Comercial',\n",
       "  'MODALITY_AVAILABLE': 'Remoto'},\n",
       " {'JOB_AVAILABLE': 'Practicante Profesional De Reclutamiento Bilingue',\n",
       "  'COMPANY': 'TATA CONSULTANCY SERVICES SUCURSAL PERU',\n",
       "  'PUBLICATION_DATE': 'Publicado ayer',\n",
       "  'LOCATION': 'Lima, Lima, Peru',\n",
       "  'SUITABLE_FOR_PEOPLE_WITH_DISABILITIES': 'Apto personas con discapacidad',\n",
       "  'SCHEDULES_AVAILABLE': 'Full-time, Pasantía',\n",
       "  'AREA': 'Oficios y Profesiones',\n",
       "  'MODALITY_AVAILABLE': 'Remoto'},\n",
       " {'JOB_AVAILABLE': 'Asistente De Servicio Al Cliente',\n",
       "  'COMPANY': 'CREPIER',\n",
       "  'PUBLICATION_DATE': 'Publicado ayer',\n",
       "  'LOCATION': 'Miraflores, Lima, Peru',\n",
       "  'SCHEDULES_AVAILABLE': 'Full-time, Indeterminado',\n",
       "  'AREA': 'Atencion al Cliente',\n",
       "  'MODALITY_AVAILABLE': 'Hibrido'},\n",
       " {'JOB_AVAILABLE': 'Asistente Administrativo (Logistica) Bilingue - Turno Madrugada',\n",
       "  'COMPANY': 'NTT DATA',\n",
       "  'PUBLICATION_DATE': 'Publicado ayer',\n",
       "  'LOCATION': 'Otra, Peru',\n",
       "  'SCHEDULES_AVAILABLE': 'Full-time, Autónomo',\n",
       "  'AREA': 'Logistica',\n",
       "  'MODALITY_AVAILABLE': 'Hibrido'},\n",
       " {'JOB_AVAILABLE': 'Footloose En Bumeran Spot Match 28/06',\n",
       "  'COMPANY': 'FOOTLOOSE',\n",
       "  'PUBLICATION_DATE': 'Publicado ayer',\n",
       "  'LOCATION': 'Otra, Peru',\n",
       "  'SCHEDULES_AVAILABLE': 'Full-time, Indeterminado',\n",
       "  'AREA': 'Jovenes Profesionales',\n",
       "  'MODALITY_AVAILABLE': 'Presencial'},\n",
       " {'JOB_AVAILABLE': 'Operario De Almacen',\n",
       "  'COMPANY': 'APUDEX',\n",
       "  'PUBLICATION_DATE': 'Publicado ayer',\n",
       "  'LOCATION': 'El Agustino, Lima, Peru',\n",
       "  'SCHEDULES_AVAILABLE': 'Full-time, Temporal',\n",
       "  'AREA': 'Produccion',\n",
       "  'MODALITY_AVAILABLE': 'Presencial'},\n",
       " {'JOB_AVAILABLE': 'Analista Jr De Recursos Humanos',\n",
       "  'COMPANY': 'APUDEX',\n",
       "  'PUBLICATION_DATE': 'Publicado ayer',\n",
       "  'LOCATION': 'El Agustino, Lima, Peru',\n",
       "  'SCHEDULES_AVAILABLE': 'Full-time, Temporal',\n",
       "  'AREA': 'Recursos Humanos',\n",
       "  'MODALITY_AVAILABLE': 'Presencial'},\n",
       " {'JOB_AVAILABLE': 'Asistente De Capacitacion',\n",
       "  'COMPANY': 'CAJA HUANCAYO',\n",
       "  'PUBLICATION_DATE': 'Publicado ayer',\n",
       "  'LOCATION': 'Huancayo, Junin, Peru',\n",
       "  'SCHEDULES_AVAILABLE': 'Full-time, Indeterminado',\n",
       "  'AREA': 'Capacitacion',\n",
       "  'MODALITY_AVAILABLE': 'Presencial'},\n",
       " {'JOB_AVAILABLE': 'Data Engineer Program',\n",
       "  'COMPANY': 'NTT DATA',\n",
       "  'PUBLICATION_DATE': 'Publicado ayer',\n",
       "  'LOCATION': 'Lima, Lima, Peru',\n",
       "  'SCHEDULES_AVAILABLE': 'Full-time, Indeterminado',\n",
       "  'AREA': 'Data Warehousing',\n",
       "  'MODALITY_AVAILABLE': 'Hibrido'},\n",
       " {'JOB_AVAILABLE': 'Asesor De Negocios Sin Experiencia - Agencia Pisco',\n",
       "  'COMPANY': 'CAJA HUANCAYO',\n",
       "  'PUBLICATION_DATE': 'Publicado ayer',\n",
       "  'LOCATION': 'Pisco, Ica, Peru',\n",
       "  'SCHEDULES_AVAILABLE': 'Full-time, Indeterminado',\n",
       "  'AREA': 'Comercial',\n",
       "  'MODALITY_AVAILABLE': 'Presencial'},\n",
       " {'JOB_AVAILABLE': 'Asistente De Visual Y Trade Marketing',\n",
       "  'COMPANY': 'CREPIER',\n",
       "  'PUBLICATION_DATE': 'Publicado ayer',\n",
       "  'LOCATION': 'Lima, Lima, Peru',\n",
       "  'SUITABLE_FOR_PEOPLE_WITH_DISABILITIES': 'Apto personas con discapacidad',\n",
       "  'SCHEDULES_AVAILABLE': 'Full-time, Indeterminado',\n",
       "  'AREA': 'Arquitectura',\n",
       "  'MODALITY_AVAILABLE': 'Hibrido'},\n",
       " {'JOB_AVAILABLE': 'Operador De Monitoreo',\n",
       "  'COMPANY': 'NTT DATA',\n",
       "  'PUBLICATION_DATE': 'Publicado ayer',\n",
       "  'LOCATION': 'Trujillo, La Libertad, Peru',\n",
       "  'SUITABLE_FOR_PEOPLE_WITH_DISABILITIES': 'Apto personas con discapacidad',\n",
       "  'SCHEDULES_AVAILABLE': 'Full-time, Indeterminado',\n",
       "  'AREA': 'Tecnologia / Sistemas',\n",
       "  'MODALITY_AVAILABLE': 'Hibrido'},\n",
       " {'JOB_AVAILABLE': 'Asesor De Negocios Con/Sin Experiencia Agencia Lurin',\n",
       "  'COMPANY': 'CAJA HUANCAYO',\n",
       "  'PUBLICATION_DATE': 'Publicado hace 2 días',\n",
       "  'LOCATION': 'Lurin, Lima, Peru',\n",
       "  'SCHEDULES_AVAILABLE': 'Full-time, Indeterminado',\n",
       "  'AREA': 'Comercial',\n",
       "  'MODALITY_AVAILABLE': 'Presencial'},\n",
       " {'JOB_AVAILABLE': 'Helpdesk Bilingue Con Conocimiento Itil Fundamentos',\n",
       "  'COMPANY': 'NTT DATA',\n",
       "  'PUBLICATION_DATE': 'Publicado hace 3 días',\n",
       "  'LOCATION': 'Magdalena del Mar, Lima, Peru',\n",
       "  'SCHEDULES_AVAILABLE': 'Full-time, Autónomo',\n",
       "  'AREA': 'Tecnologia / Sistemas',\n",
       "  'MODALITY_AVAILABLE': 'Hibrido'},\n",
       " {'JOB_AVAILABLE': 'Ejecutivo Comercial- Izipay Pos (Remoto) (Planilla/ Comisiones)',\n",
       "  'COMPANY': 'confidencial',\n",
       "  'PUBLICATION_DATE': 'Publicado hace 3 días',\n",
       "  'LOCATION': 'Otra, Peru',\n",
       "  'SCHEDULES_AVAILABLE': 'Full-time, Indeterminado',\n",
       "  'AREA': 'Comercial',\n",
       "  'MODALITY_AVAILABLE': 'Remoto'},\n",
       " {'JOB_AVAILABLE': 'Asesor Call Center Retencion - San Isidro',\n",
       "  'COMPANY': 'PIN-UP GLOBAL',\n",
       "  'PUBLICATION_DATE': 'Publicado hace 3 días',\n",
       "  'LOCATION': 'Otra, Peru',\n",
       "  'SCHEDULES_AVAILABLE': 'Full-time, Indeterminado',\n",
       "  'AREA': 'Call Center',\n",
       "  'MODALITY_AVAILABLE': 'Presencial'}]"
      ]
     },
     "execution_count": 45,
     "metadata": {},
     "output_type": "execute_result"
    }
   ],
   "source": [
    "all_info['executive_jobs']"
   ]
  },
  {
   "cell_type": "code",
   "execution_count": 139,
   "id": "e09178a0",
   "metadata": {},
   "outputs": [
    {
     "data": {
      "text/html": [
       "<div>\n",
       "<style scoped>\n",
       "    .dataframe tbody tr th:only-of-type {\n",
       "        vertical-align: middle;\n",
       "    }\n",
       "\n",
       "    .dataframe tbody tr th {\n",
       "        vertical-align: top;\n",
       "    }\n",
       "\n",
       "    .dataframe thead th {\n",
       "        text-align: right;\n",
       "    }\n",
       "</style>\n",
       "<table border=\"1\" class=\"dataframe\">\n",
       "  <thead>\n",
       "    <tr style=\"text-align: right;\">\n",
       "      <th></th>\n",
       "      <th>JOB_AVAILABLE</th>\n",
       "      <th>COMPANY</th>\n",
       "      <th>PUBLICATION_DATE</th>\n",
       "      <th>LOCATION</th>\n",
       "      <th>SCHEDULES_AVAILABLE</th>\n",
       "      <th>AREA</th>\n",
       "      <th>MODALITY_AVAILABLE</th>\n",
       "    </tr>\n",
       "  </thead>\n",
       "  <tbody>\n",
       "    <tr>\n",
       "      <th>0</th>\n",
       "      <td>Sub Gerente General- Rubro Transporte De Carga...</td>\n",
       "      <td>TRANSPORTES HAGEMSA</td>\n",
       "      <td>Publicado hace 2 días</td>\n",
       "      <td>Arequipa, Arequipa, Peru</td>\n",
       "      <td>Full-time, Indeterminado</td>\n",
       "      <td>Direccion</td>\n",
       "      <td>Presencial</td>\n",
       "    </tr>\n",
       "    <tr>\n",
       "      <th>1</th>\n",
       "      <td>Residente De Obra - Casma</td>\n",
       "      <td>OBRASCON HUARTE LAIN SA SUCURSAL DEL PERU</td>\n",
       "      <td>Publicado ayer</td>\n",
       "      <td>Casma, Ancash, Peru</td>\n",
       "      <td>Full-time, Indeterminado</td>\n",
       "      <td>Construccion</td>\n",
       "      <td>Presencial</td>\n",
       "    </tr>\n",
       "    <tr>\n",
       "      <th>2</th>\n",
       "      <td>Subgerente De Recursos Humanos / Mineria</td>\n",
       "      <td>CL SELECTION S.A.C.</td>\n",
       "      <td>Publicado hace más de 15 días</td>\n",
       "      <td>Lima, Lima, Peru</td>\n",
       "      <td>Full-time, Indeterminado</td>\n",
       "      <td>Recursos Humanos</td>\n",
       "      <td>Remoto</td>\n",
       "    </tr>\n",
       "    <tr>\n",
       "      <th>3</th>\n",
       "      <td>Sub Gerente De Gestion Humana</td>\n",
       "      <td>CL SELECTION S.A.C.</td>\n",
       "      <td>Publicado hace más de 15 días</td>\n",
       "      <td>Lima, Lima, Peru</td>\n",
       "      <td>Full-time, Indeterminado</td>\n",
       "      <td>Recursos Humanos</td>\n",
       "      <td>Presencial</td>\n",
       "    </tr>\n",
       "    <tr>\n",
       "      <th>4</th>\n",
       "      <td>Gerente De Productos Digitales</td>\n",
       "      <td>MATCH POWER HUNTING</td>\n",
       "      <td>Publicado hace más de 15 días</td>\n",
       "      <td>Lima, Lima, Peru</td>\n",
       "      <td>Full-time, Indeterminado</td>\n",
       "      <td>Desarrollo de Negocios</td>\n",
       "      <td>Hibrido</td>\n",
       "    </tr>\n",
       "    <tr>\n",
       "      <th>5</th>\n",
       "      <td>Gerente De Administracion Y Finanzas</td>\n",
       "      <td>confidencial</td>\n",
       "      <td>Publicado hace más de 30 días</td>\n",
       "      <td>Lima, Lima, Peru</td>\n",
       "      <td>Full-time, Indeterminado</td>\n",
       "      <td>Finanzas</td>\n",
       "      <td>Presencial</td>\n",
       "    </tr>\n",
       "    <tr>\n",
       "      <th>6</th>\n",
       "      <td>Coordinador General</td>\n",
       "      <td>INMEL PERU SOCIEDAD ANONIMA CERRADA</td>\n",
       "      <td>Publicado hace más de 30 días</td>\n",
       "      <td>Lima, Lima, Peru</td>\n",
       "      <td>Full-time, Indeterminado</td>\n",
       "      <td>Ingenieria Electrica y Electronica</td>\n",
       "      <td>Presencial</td>\n",
       "    </tr>\n",
       "    <tr>\n",
       "      <th>7</th>\n",
       "      <td>Superintendente De Metalurgia Y Control De Pro...</td>\n",
       "      <td>MINERA CHINALCO</td>\n",
       "      <td>Publicado hace más de 30 días</td>\n",
       "      <td>Morococha, Junin, Peru</td>\n",
       "      <td>Full-time</td>\n",
       "      <td>Mineria/Petroleo/Gas</td>\n",
       "      <td>Presencial</td>\n",
       "    </tr>\n",
       "    <tr>\n",
       "      <th>8</th>\n",
       "      <td>Delivery Manager</td>\n",
       "      <td>NTT DATA</td>\n",
       "      <td>Publicado hace más de 30 días</td>\n",
       "      <td>Lima, Lima, Peru</td>\n",
       "      <td>Full-time, Indeterminado</td>\n",
       "      <td>Comunicacion</td>\n",
       "      <td>Remoto</td>\n",
       "    </tr>\n",
       "    <tr>\n",
       "      <th>9</th>\n",
       "      <td>Gerente De Almecen Y Distribucion</td>\n",
       "      <td>confidencial</td>\n",
       "      <td>Publicado hace más de 30 días</td>\n",
       "      <td>Lima, Lima, Peru</td>\n",
       "      <td>Full-time, Indeterminado</td>\n",
       "      <td>Logistica</td>\n",
       "      <td>Presencial</td>\n",
       "    </tr>\n",
       "    <tr>\n",
       "      <th>10</th>\n",
       "      <td>Analista De Importaciones Y Logistica / Teleco...</td>\n",
       "      <td>TOTAL TALENT HUMAN RESOURCES</td>\n",
       "      <td>Publicado hace más de 30 días</td>\n",
       "      <td>Lima, Lima, Peru</td>\n",
       "      <td>Full-time, Indeterminado</td>\n",
       "      <td>Comercio Exterior</td>\n",
       "      <td>Presencial</td>\n",
       "    </tr>\n",
       "    <tr>\n",
       "      <th>11</th>\n",
       "      <td>Gerente Agencia Credito Grupal - Cn Mala</td>\n",
       "      <td>COMPARTAMOS FINANCIERA S.A.</td>\n",
       "      <td>Publicado hace más de 30 días</td>\n",
       "      <td>San Pedro de Mala, Lima, Peru</td>\n",
       "      <td>Full-time, Indeterminado</td>\n",
       "      <td>Creditos y Cobranzas</td>\n",
       "      <td>Presencial</td>\n",
       "    </tr>\n",
       "    <tr>\n",
       "      <th>12</th>\n",
       "      <td>Gerente General</td>\n",
       "      <td>confidencial</td>\n",
       "      <td>Publicado hace más de 30 días</td>\n",
       "      <td>Lima, Lima, Peru</td>\n",
       "      <td>Full-time, Indeterminado</td>\n",
       "      <td>Gerencia / Direccion General</td>\n",
       "      <td>Presencial</td>\n",
       "    </tr>\n",
       "    <tr>\n",
       "      <th>13</th>\n",
       "      <td>Director General</td>\n",
       "      <td>BUMERAN SELECTA</td>\n",
       "      <td>Publicado hace más de 30 días</td>\n",
       "      <td>Huancayo, Junin, Peru</td>\n",
       "      <td>Full-time</td>\n",
       "      <td>Gerencia / Direccion General</td>\n",
       "      <td>Presencial</td>\n",
       "    </tr>\n",
       "    <tr>\n",
       "      <th>14</th>\n",
       "      <td>Auditor Interno Senior</td>\n",
       "      <td>AMBC CONSULTORIA EMPRESARIAL</td>\n",
       "      <td>Publicado hoy</td>\n",
       "      <td>Otra, Peru</td>\n",
       "      <td>Full-time, Indeterminado</td>\n",
       "      <td>Auditoria</td>\n",
       "      <td>Hibrido</td>\n",
       "    </tr>\n",
       "    <tr>\n",
       "      <th>15</th>\n",
       "      <td>Gerente Comercial Retail - Autos Y Motos De Marca</td>\n",
       "      <td>AMBC CONSULTORIA EMPRESARIAL</td>\n",
       "      <td>Publicado hoy</td>\n",
       "      <td>Lima, Lima, Peru</td>\n",
       "      <td>Full-time, Indeterminado</td>\n",
       "      <td>Comercial</td>\n",
       "      <td>Hibrido</td>\n",
       "    </tr>\n",
       "    <tr>\n",
       "      <th>16</th>\n",
       "      <td>Gerente De Ingenieria</td>\n",
       "      <td>confidencial</td>\n",
       "      <td>Publicado hoy</td>\n",
       "      <td>Villa El Salvador, Lima, Peru</td>\n",
       "      <td>Full-time, Indeterminado</td>\n",
       "      <td>Otras Ingenierias</td>\n",
       "      <td>Presencial</td>\n",
       "    </tr>\n",
       "    <tr>\n",
       "      <th>17</th>\n",
       "      <td>Director Comercial</td>\n",
       "      <td>confidencial</td>\n",
       "      <td>Publicado ayer</td>\n",
       "      <td>Lima, Lima, Peru</td>\n",
       "      <td>Full-time, Indeterminado</td>\n",
       "      <td>Comercial</td>\n",
       "      <td>Presencial</td>\n",
       "    </tr>\n",
       "    <tr>\n",
       "      <th>18</th>\n",
       "      <td>Gerente Corporativo De Proyectos Ti</td>\n",
       "      <td>INTERCORP RETAIL</td>\n",
       "      <td>Publicado ayer</td>\n",
       "      <td>Lince, Lima, Peru</td>\n",
       "      <td>Full-time, Indeterminado</td>\n",
       "      <td>Liderazgo de Proyecto</td>\n",
       "      <td>Hibrido</td>\n",
       "    </tr>\n",
       "    <tr>\n",
       "      <th>19</th>\n",
       "      <td>Gerente General-Enaco</td>\n",
       "      <td>CL SELECTION S.A.C.</td>\n",
       "      <td>Publicado ayer</td>\n",
       "      <td>Lima, Lima, Peru</td>\n",
       "      <td>Full-time, Indeterminado</td>\n",
       "      <td>Comercial</td>\n",
       "      <td>Presencial</td>\n",
       "    </tr>\n",
       "  </tbody>\n",
       "</table>\n",
       "</div>"
      ],
      "text/plain": [
       "                                        JOB_AVAILABLE  \\\n",
       "0   Sub Gerente General- Rubro Transporte De Carga...   \n",
       "1                           Residente De Obra - Casma   \n",
       "2            Subgerente De Recursos Humanos / Mineria   \n",
       "3                       Sub Gerente De Gestion Humana   \n",
       "4                      Gerente De Productos Digitales   \n",
       "5                Gerente De Administracion Y Finanzas   \n",
       "6                                 Coordinador General   \n",
       "7   Superintendente De Metalurgia Y Control De Pro...   \n",
       "8                                    Delivery Manager   \n",
       "9                   Gerente De Almecen Y Distribucion   \n",
       "10  Analista De Importaciones Y Logistica / Teleco...   \n",
       "11           Gerente Agencia Credito Grupal - Cn Mala   \n",
       "12                                    Gerente General   \n",
       "13                                   Director General   \n",
       "14                             Auditor Interno Senior   \n",
       "15  Gerente Comercial Retail - Autos Y Motos De Marca   \n",
       "16                              Gerente De Ingenieria   \n",
       "17                                 Director Comercial   \n",
       "18                Gerente Corporativo De Proyectos Ti   \n",
       "19                              Gerente General-Enaco   \n",
       "\n",
       "                                      COMPANY               PUBLICATION_DATE  \\\n",
       "0                         TRANSPORTES HAGEMSA          Publicado hace 2 días   \n",
       "1   OBRASCON HUARTE LAIN SA SUCURSAL DEL PERU                 Publicado ayer   \n",
       "2                         CL SELECTION S.A.C.  Publicado hace más de 15 días   \n",
       "3                         CL SELECTION S.A.C.  Publicado hace más de 15 días   \n",
       "4                         MATCH POWER HUNTING  Publicado hace más de 15 días   \n",
       "5                                confidencial  Publicado hace más de 30 días   \n",
       "6         INMEL PERU SOCIEDAD ANONIMA CERRADA  Publicado hace más de 30 días   \n",
       "7                             MINERA CHINALCO  Publicado hace más de 30 días   \n",
       "8                                    NTT DATA  Publicado hace más de 30 días   \n",
       "9                                confidencial  Publicado hace más de 30 días   \n",
       "10               TOTAL TALENT HUMAN RESOURCES  Publicado hace más de 30 días   \n",
       "11                COMPARTAMOS FINANCIERA S.A.  Publicado hace más de 30 días   \n",
       "12                               confidencial  Publicado hace más de 30 días   \n",
       "13                            BUMERAN SELECTA  Publicado hace más de 30 días   \n",
       "14               AMBC CONSULTORIA EMPRESARIAL                  Publicado hoy   \n",
       "15               AMBC CONSULTORIA EMPRESARIAL                  Publicado hoy   \n",
       "16                               confidencial                  Publicado hoy   \n",
       "17                               confidencial                 Publicado ayer   \n",
       "18                           INTERCORP RETAIL                 Publicado ayer   \n",
       "19                        CL SELECTION S.A.C.                 Publicado ayer   \n",
       "\n",
       "                         LOCATION       SCHEDULES_AVAILABLE  \\\n",
       "0        Arequipa, Arequipa, Peru  Full-time, Indeterminado   \n",
       "1             Casma, Ancash, Peru  Full-time, Indeterminado   \n",
       "2                Lima, Lima, Peru  Full-time, Indeterminado   \n",
       "3                Lima, Lima, Peru  Full-time, Indeterminado   \n",
       "4                Lima, Lima, Peru  Full-time, Indeterminado   \n",
       "5                Lima, Lima, Peru  Full-time, Indeterminado   \n",
       "6                Lima, Lima, Peru  Full-time, Indeterminado   \n",
       "7          Morococha, Junin, Peru                 Full-time   \n",
       "8                Lima, Lima, Peru  Full-time, Indeterminado   \n",
       "9                Lima, Lima, Peru  Full-time, Indeterminado   \n",
       "10               Lima, Lima, Peru  Full-time, Indeterminado   \n",
       "11  San Pedro de Mala, Lima, Peru  Full-time, Indeterminado   \n",
       "12               Lima, Lima, Peru  Full-time, Indeterminado   \n",
       "13          Huancayo, Junin, Peru                 Full-time   \n",
       "14                     Otra, Peru  Full-time, Indeterminado   \n",
       "15               Lima, Lima, Peru  Full-time, Indeterminado   \n",
       "16  Villa El Salvador, Lima, Peru  Full-time, Indeterminado   \n",
       "17               Lima, Lima, Peru  Full-time, Indeterminado   \n",
       "18              Lince, Lima, Peru  Full-time, Indeterminado   \n",
       "19               Lima, Lima, Peru  Full-time, Indeterminado   \n",
       "\n",
       "                                  AREA MODALITY_AVAILABLE  \n",
       "0                            Direccion         Presencial  \n",
       "1                         Construccion         Presencial  \n",
       "2                     Recursos Humanos             Remoto  \n",
       "3                     Recursos Humanos         Presencial  \n",
       "4               Desarrollo de Negocios            Hibrido  \n",
       "5                             Finanzas         Presencial  \n",
       "6   Ingenieria Electrica y Electronica         Presencial  \n",
       "7                 Mineria/Petroleo/Gas         Presencial  \n",
       "8                         Comunicacion             Remoto  \n",
       "9                            Logistica         Presencial  \n",
       "10                   Comercio Exterior         Presencial  \n",
       "11                Creditos y Cobranzas         Presencial  \n",
       "12        Gerencia / Direccion General         Presencial  \n",
       "13        Gerencia / Direccion General         Presencial  \n",
       "14                           Auditoria            Hibrido  \n",
       "15                           Comercial            Hibrido  \n",
       "16                   Otras Ingenierias         Presencial  \n",
       "17                           Comercial         Presencial  \n",
       "18               Liderazgo de Proyecto            Hibrido  \n",
       "19                           Comercial         Presencial  "
      ]
     },
     "execution_count": 139,
     "metadata": {},
     "output_type": "execute_result"
    }
   ],
   "source": [
    "data = json_normalize(all_info['executive_jobs']) # jsaon diccionario dentro de una lista\n",
    "data"
   ]
  },
  {
   "cell_type": "code",
   "execution_count": 140,
   "id": "a4884db2",
   "metadata": {
    "scrolled": true
   },
   "outputs": [],
   "source": [
    "# Export df to excel\n",
    "data.to_excel('Bumeran_jobs.xlsx')"
   ]
  },
  {
   "cell_type": "code",
   "execution_count": 141,
   "id": "1977cb16",
   "metadata": {},
   "outputs": [],
   "source": [
    "# Export df to Json\n",
    "data.to_json('Bumeran_jobs.json')"
   ]
  }
 ],
 "metadata": {
  "kernelspec": {
   "display_name": "Python 3 (ipykernel)",
   "language": "python",
   "name": "python3"
  },
  "language_info": {
   "codemirror_mode": {
    "name": "ipython",
    "version": 3
   },
   "file_extension": ".py",
   "mimetype": "text/x-python",
   "name": "python",
   "nbconvert_exporter": "python",
   "pygments_lexer": "ipython3",
   "version": "3.9.7"
  },
  "toc": {
   "base_numbering": 1,
   "nav_menu": {},
   "number_sections": true,
   "sideBar": true,
   "skip_h1_title": false,
   "title_cell": "Table of Contents",
   "title_sidebar": "Contents",
   "toc_cell": false,
   "toc_position": {},
   "toc_section_display": true,
   "toc_window_display": false
  }
 },
 "nbformat": 4,
 "nbformat_minor": 5
}
