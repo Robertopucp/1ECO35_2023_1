{
 "cells": [
  {
   "cell_type": "code",
   "execution_count": 1,
   "id": "565f6a38",
   "metadata": {},
   "outputs": [],
   "source": [
    "#Library\n",
    "# ---\n",
    "# Librerias de selenium \n",
    "\n",
    "from selenium import webdriver\n",
    "from webdriver_manager.chrome import ChromeDriverManager\n",
    "from selenium.webdriver.support.ui import Select  # selccionar opciones de las lista desplegable\n",
    "from selenium.webdriver.common.by import By  # permite seleccionar los elementos en un html\n",
    "from selenium.webdriver.common.keys import Keys  # ingresar datos a un formulario\n",
    "from selenium.common.exceptions import NoSuchElementException\n",
    "# Opciones driver\n",
    "from selenium.webdriver.chrome.options import Options\n",
    "\n",
    "# dataframes\n",
    "import pandas as pd\n",
    "from pandas import json_normalize\n",
    "import numpy as np\n",
    "\n",
    "# Similamos comportamiento humano al añadir tiempos aleatorios\n",
    "import time\n",
    "from time import sleep\n",
    "import random\n",
    "from tqdm import tqdm\n",
    "\n",
    "# Limpear data (tildes sobretodo)\n",
    "import unidecode\n",
    "\n",
    "# Manipular Json files\n",
    "import json\n"
   ]
  },
  {
   "cell_type": "code",
   "execution_count": 2,
   "id": "82a9b18d",
   "metadata": {
    "scrolled": true
   },
   "outputs": [
    {
     "name": "stderr",
     "output_type": "stream",
     "text": [
      "C:\\Users\\Hp\\AppData\\Local\\Temp\\ipykernel_22840\\1491306052.py:3: DeprecationWarning: executable_path has been deprecated, please pass in a Service object\n",
      "  driver = webdriver.Chrome(\"chromedriver.exe\")\n"
     ]
    }
   ],
   "source": [
    "# Open la página\n",
    "\n",
    "driver = webdriver.Chrome(\"chromedriver.exe\")\n",
    "driver.get(\"https://www.bumeran.com.pe/\")\n",
    "\n",
    "driver.maximize_window()"
   ]
  },
  {
   "cell_type": "code",
   "execution_count": 3,
   "id": "07e87240",
   "metadata": {},
   "outputs": [],
   "source": [
    "# Click en Puestos_ejecutivo\n",
    "\n",
    "# Full path //*[@id=\"root\"]/div/div[1]/div/div[2]/div/div/div[1]/ul/li[2]/a \n",
    "\n",
    "\n",
    "driver.find_elements(By.XPATH, '//li[@class=\"sc-jzgbtB TduFZ\"]')[1].click()"
   ]
  },
  {
   "cell_type": "code",
   "execution_count": 4,
   "id": "3d94af3d",
   "metadata": {},
   "outputs": [],
   "source": [
    "# Se cambia el driver a nueva ventana abierta\n",
    "\n",
    "driver.switch_to.window(driver.window_handles[1])"
   ]
  },
  {
   "cell_type": "code",
   "execution_count": 5,
   "id": "12baa5eb",
   "metadata": {},
   "outputs": [
    {
     "data": {
      "text/plain": [
       "'https://www.bumeran.com.pe/empleos-seniority-junior.html?landing-jovenes-profesionales=true'"
      ]
     },
     "execution_count": 5,
     "metadata": {},
     "output_type": "execute_result"
    }
   ],
   "source": [
    "# Se pude verificar que el url es de la nueva ventana\n",
    "driver.current_url"
   ]
  },
  {
   "cell_type": "code",
   "execution_count": 6,
   "id": "b1434145",
   "metadata": {},
   "outputs": [],
   "source": [
    "# Objeto que continene todos los avisos \n",
    "\n",
    "listado_de_avisos = driver.find_element(By.ID,\"listado-avisos\")"
   ]
  },
  {
   "cell_type": "code",
   "execution_count": 7,
   "id": "0c283a3b",
   "metadata": {},
   "outputs": [
    {
     "data": {
      "text/plain": [
       "[<selenium.webdriver.remote.webelement.WebElement (session=\"2faf265d52dee0e214736e7804fac5c8\", element=\"787FCA16A271A2A402F13C66F2F0ADED_element_65\")>,\n",
       " <selenium.webdriver.remote.webelement.WebElement (session=\"2faf265d52dee0e214736e7804fac5c8\", element=\"787FCA16A271A2A402F13C66F2F0ADED_element_66\")>,\n",
       " <selenium.webdriver.remote.webelement.WebElement (session=\"2faf265d52dee0e214736e7804fac5c8\", element=\"787FCA16A271A2A402F13C66F2F0ADED_element_67\")>,\n",
       " <selenium.webdriver.remote.webelement.WebElement (session=\"2faf265d52dee0e214736e7804fac5c8\", element=\"787FCA16A271A2A402F13C66F2F0ADED_element_68\")>,\n",
       " <selenium.webdriver.remote.webelement.WebElement (session=\"2faf265d52dee0e214736e7804fac5c8\", element=\"787FCA16A271A2A402F13C66F2F0ADED_element_69\")>,\n",
       " <selenium.webdriver.remote.webelement.WebElement (session=\"2faf265d52dee0e214736e7804fac5c8\", element=\"787FCA16A271A2A402F13C66F2F0ADED_element_70\")>,\n",
       " <selenium.webdriver.remote.webelement.WebElement (session=\"2faf265d52dee0e214736e7804fac5c8\", element=\"787FCA16A271A2A402F13C66F2F0ADED_element_71\")>,\n",
       " <selenium.webdriver.remote.webelement.WebElement (session=\"2faf265d52dee0e214736e7804fac5c8\", element=\"787FCA16A271A2A402F13C66F2F0ADED_element_72\")>,\n",
       " <selenium.webdriver.remote.webelement.WebElement (session=\"2faf265d52dee0e214736e7804fac5c8\", element=\"787FCA16A271A2A402F13C66F2F0ADED_element_73\")>,\n",
       " <selenium.webdriver.remote.webelement.WebElement (session=\"2faf265d52dee0e214736e7804fac5c8\", element=\"787FCA16A271A2A402F13C66F2F0ADED_element_74\")>,\n",
       " <selenium.webdriver.remote.webelement.WebElement (session=\"2faf265d52dee0e214736e7804fac5c8\", element=\"787FCA16A271A2A402F13C66F2F0ADED_element_75\")>,\n",
       " <selenium.webdriver.remote.webelement.WebElement (session=\"2faf265d52dee0e214736e7804fac5c8\", element=\"787FCA16A271A2A402F13C66F2F0ADED_element_76\")>,\n",
       " <selenium.webdriver.remote.webelement.WebElement (session=\"2faf265d52dee0e214736e7804fac5c8\", element=\"787FCA16A271A2A402F13C66F2F0ADED_element_77\")>,\n",
       " <selenium.webdriver.remote.webelement.WebElement (session=\"2faf265d52dee0e214736e7804fac5c8\", element=\"787FCA16A271A2A402F13C66F2F0ADED_element_78\")>,\n",
       " <selenium.webdriver.remote.webelement.WebElement (session=\"2faf265d52dee0e214736e7804fac5c8\", element=\"787FCA16A271A2A402F13C66F2F0ADED_element_79\")>,\n",
       " <selenium.webdriver.remote.webelement.WebElement (session=\"2faf265d52dee0e214736e7804fac5c8\", element=\"787FCA16A271A2A402F13C66F2F0ADED_element_80\")>,\n",
       " <selenium.webdriver.remote.webelement.WebElement (session=\"2faf265d52dee0e214736e7804fac5c8\", element=\"787FCA16A271A2A402F13C66F2F0ADED_element_81\")>,\n",
       " <selenium.webdriver.remote.webelement.WebElement (session=\"2faf265d52dee0e214736e7804fac5c8\", element=\"787FCA16A271A2A402F13C66F2F0ADED_element_82\")>,\n",
       " <selenium.webdriver.remote.webelement.WebElement (session=\"2faf265d52dee0e214736e7804fac5c8\", element=\"787FCA16A271A2A402F13C66F2F0ADED_element_83\")>,\n",
       " <selenium.webdriver.remote.webelement.WebElement (session=\"2faf265d52dee0e214736e7804fac5c8\", element=\"787FCA16A271A2A402F13C66F2F0ADED_element_84\")>,\n",
       " <selenium.webdriver.remote.webelement.WebElement (session=\"2faf265d52dee0e214736e7804fac5c8\", element=\"787FCA16A271A2A402F13C66F2F0ADED_element_85\")>,\n",
       " <selenium.webdriver.remote.webelement.WebElement (session=\"2faf265d52dee0e214736e7804fac5c8\", element=\"787FCA16A271A2A402F13C66F2F0ADED_element_86\")>,\n",
       " <selenium.webdriver.remote.webelement.WebElement (session=\"2faf265d52dee0e214736e7804fac5c8\", element=\"787FCA16A271A2A402F13C66F2F0ADED_element_87\")>,\n",
       " <selenium.webdriver.remote.webelement.WebElement (session=\"2faf265d52dee0e214736e7804fac5c8\", element=\"787FCA16A271A2A402F13C66F2F0ADED_element_88\")>,\n",
       " <selenium.webdriver.remote.webelement.WebElement (session=\"2faf265d52dee0e214736e7804fac5c8\", element=\"787FCA16A271A2A402F13C66F2F0ADED_element_89\")>,\n",
       " <selenium.webdriver.remote.webelement.WebElement (session=\"2faf265d52dee0e214736e7804fac5c8\", element=\"787FCA16A271A2A402F13C66F2F0ADED_element_90\")>,\n",
       " <selenium.webdriver.remote.webelement.WebElement (session=\"2faf265d52dee0e214736e7804fac5c8\", element=\"787FCA16A271A2A402F13C66F2F0ADED_element_91\")>,\n",
       " <selenium.webdriver.remote.webelement.WebElement (session=\"2faf265d52dee0e214736e7804fac5c8\", element=\"787FCA16A271A2A402F13C66F2F0ADED_element_92\")>,\n",
       " <selenium.webdriver.remote.webelement.WebElement (session=\"2faf265d52dee0e214736e7804fac5c8\", element=\"787FCA16A271A2A402F13C66F2F0ADED_element_93\")>,\n",
       " <selenium.webdriver.remote.webelement.WebElement (session=\"2faf265d52dee0e214736e7804fac5c8\", element=\"787FCA16A271A2A402F13C66F2F0ADED_element_94\")>,\n",
       " <selenium.webdriver.remote.webelement.WebElement (session=\"2faf265d52dee0e214736e7804fac5c8\", element=\"787FCA16A271A2A402F13C66F2F0ADED_element_95\")>,\n",
       " <selenium.webdriver.remote.webelement.WebElement (session=\"2faf265d52dee0e214736e7804fac5c8\", element=\"787FCA16A271A2A402F13C66F2F0ADED_element_96\")>,\n",
       " <selenium.webdriver.remote.webelement.WebElement (session=\"2faf265d52dee0e214736e7804fac5c8\", element=\"787FCA16A271A2A402F13C66F2F0ADED_element_97\")>,\n",
       " <selenium.webdriver.remote.webelement.WebElement (session=\"2faf265d52dee0e214736e7804fac5c8\", element=\"787FCA16A271A2A402F13C66F2F0ADED_element_98\")>]"
      ]
     },
     "execution_count": 7,
     "metadata": {},
     "output_type": "execute_result"
    }
   ],
   "source": [
    "listado_de_avisos.find_elements(By.TAG_NAME,'a')"
   ]
  },
  {
   "cell_type": "code",
   "execution_count": 8,
   "id": "9ac284ee",
   "metadata": {},
   "outputs": [],
   "source": [
    "# almacenamos los urls de cada oferta laboral\n",
    "\n",
    "links = listado_de_avisos.find_elements(By.TAG_NAME,'a') \n",
    "\n",
    "urls = [link.get_attribute(\"href\") for link in links if \"empleos/\" in str(link.get_attribute(\"href\"))]"
   ]
  },
  {
   "cell_type": "code",
   "execution_count": 9,
   "id": "6880b986",
   "metadata": {
    "scrolled": true
   },
   "outputs": [
    {
     "data": {
      "text/plain": [
       "['https://www.bumeran.com.pe/empleos/asesor-de-negocios-con-sin-experiencia-agencia-san-martin-juliaca-caja-huancayo-1115875150.html',\n",
       " 'https://www.bumeran.com.pe/empleos/asesor-del-cliente-para-banco-lima-adecco-consulting-1115875019.html',\n",
       " 'https://www.bumeran.com.pe/empleos/auxiliar-de-almacen-tiendas-tai-loy-s.-a.-1115873876.html',\n",
       " 'https://www.bumeran.com.pe/empleos/asesor-de-negocios-con-sin-experiencia-agencia-amauta-ate-caja-huancayo-1115866035.html',\n",
       " 'https://www.bumeran.com.pe/empleos/ejecutivo-comercial-izipay-pos-remoto-planilla-comisiones-1115872790.html',\n",
       " 'https://www.bumeran.com.pe/empleos/practicante-profesional-de-reclutamiento-bilingue-tata-consultancy-services-sucursal-peru-1115872774.html',\n",
       " 'https://www.bumeran.com.pe/empleos/asistente-de-servicio-al-cliente-crepier-1115872736.html',\n",
       " 'https://www.bumeran.com.pe/empleos/asistente-administrativo-logistica-bilingue-turno-madrugada-ntt-data-1115872730.html',\n",
       " 'https://www.bumeran.com.pe/empleos/footloose-en-bumeran-spot-match-28-06-footloose-1115872294.html',\n",
       " 'https://www.bumeran.com.pe/empleos/operario-de-almacen-apudex-1115872144.html',\n",
       " 'https://www.bumeran.com.pe/empleos/analista-jr-de-recursos-humanos-apudex-1115872124.html',\n",
       " 'https://www.bumeran.com.pe/empleos/asistente-de-capacitacion-caja-huancayo-1115871809.html',\n",
       " 'https://www.bumeran.com.pe/empleos/data-engineer-program-ntt-data-1115871545.html',\n",
       " 'https://www.bumeran.com.pe/empleos/asesor-de-negocios-sin-experiencia-agencia-pisco-caja-huancayo-1115871497.html',\n",
       " 'https://www.bumeran.com.pe/empleos/asistente-de-visual-y-trade-marketing-crepier-1115871493.html',\n",
       " 'https://www.bumeran.com.pe/empleos/operador-de-monitoreo-ntt-data-1115871198.html',\n",
       " 'https://www.bumeran.com.pe/empleos/asesor-de-negocios-con-sin-experiencia-agencia-lurin-caja-huancayo-1115870724.html',\n",
       " 'https://www.bumeran.com.pe/empleos/helpdesk-bilingue-con-conocimiento-itil-fundamentos-ntt-data-1115868848.html',\n",
       " 'https://www.bumeran.com.pe/empleos/ejecutivo-comercial-izipay-pos-remoto-planilla-comisiones-1115868820.html',\n",
       " 'https://www.bumeran.com.pe/empleos/asesor-call-center-retencion-san-isidro-pin-up-global-1115868738.html']"
      ]
     },
     "execution_count": 9,
     "metadata": {},
     "output_type": "execute_result"
    }
   ],
   "source": [
    "urls"
   ]
  },
  {
   "cell_type": "code",
   "execution_count": 10,
   "id": "5a23e5c9",
   "metadata": {},
   "outputs": [],
   "source": [
    "# He hecho click en una de las ofertas laborales \n",
    "# Se cambia el driver a la nueva ventana \n",
    "\n",
    "driver.get(urls[1]) # nos dirigmos al primer url con info del empleo\n",
    "\n",
    "driver.switch_to.window(driver.window_handles[1]) # ventana posición 2 , indexing 1"
   ]
  },
  {
   "cell_type": "code",
   "execution_count": 11,
   "id": "84b743cf",
   "metadata": {},
   "outputs": [],
   "source": [
    "# se extrae el titulo del empleo\n",
    "\n",
    "time.sleep(2)\n",
    "\n",
    "job = driver.find_element(By.XPATH, \"//h1[@class='sc-euoZOX hjaJMy sc-kEYyzF kcaojl']\").text\n",
    "job = unidecode.unidecode(job).title() # se retira las tildes "
   ]
  },
  {
   "cell_type": "code",
   "execution_count": 12,
   "id": "a6864cec",
   "metadata": {
    "scrolled": true
   },
   "outputs": [
    {
     "data": {
      "text/plain": [
       "'Asesor Del Cliente Para Banco - Lima'"
      ]
     },
     "execution_count": 12,
     "metadata": {},
     "output_type": "execute_result"
    }
   ],
   "source": [
    "job "
   ]
  },
  {
   "cell_type": "code",
   "execution_count": 13,
   "id": "ec4b555e",
   "metadata": {},
   "outputs": [
    {
     "data": {
      "text/plain": [
       "'ADECCO CONSULTING'"
      ]
     },
     "execution_count": 13,
     "metadata": {},
     "output_type": "execute_result"
    }
   ],
   "source": [
    "# Se extrae el nombre de la empresa \n",
    "\n",
    "company = driver.find_element(By.XPATH, \"//h3[@class='sc-fslttm dowqHM']\").text\n",
    "company = unidecode.unidecode(company).upper()\n",
    "company"
   ]
  },
  {
   "cell_type": "code",
   "execution_count": 14,
   "id": "cb052651",
   "metadata": {},
   "outputs": [
    {
     "data": {
      "text/plain": [
       "'Publicado hoy'"
      ]
     },
     "execution_count": 14,
     "metadata": {},
     "output_type": "execute_result"
    }
   ],
   "source": [
    "# Click en el icono de tiempo de publicación \n",
    "\n",
    "driver.find_elements(By.XPATH, \"//i[@name='icon-light-clock']/following-sibling::h2\")[0].text\n",
    "# tenemos dos opciones. La primera opción indica hace cuanto tiempo se publico la oferta laboral \n",
    "# accedemos al tag <h2></h2> dentro del tag del icino de tiempo con following-sibling::h2"
   ]
  },
  {
   "cell_type": "code",
   "execution_count": 15,
   "id": "50de2873",
   "metadata": {},
   "outputs": [
    {
     "data": {
      "text/plain": [
       "'Surco, Lima, Peru'"
      ]
     },
     "execution_count": 15,
     "metadata": {},
     "output_type": "execute_result"
    }
   ],
   "source": [
    "# Click en el icono ubicación\n",
    "\n",
    "driver.find_elements(By.XPATH, \"//i[@name='icon-light-location-pin']/following-sibling::h2\")[0].text\n",
    "\n",
    "# la primera opción correcponde a la ubicación de interés"
   ]
  },
  {
   "cell_type": "code",
   "execution_count": 16,
   "id": "4293cd20",
   "metadata": {
    "scrolled": false
   },
   "outputs": [
    {
     "name": "stderr",
     "output_type": "stream",
     "text": [
      "\r",
      "  0%|                                                                                           | 0/20 [00:00<?, ?it/s]"
     ]
    },
    {
     "name": "stdout",
     "output_type": "stream",
     "text": [
      "Asesor De Negocios Con/Sin Experiencia Agencia San Martin - Juliaca\n"
     ]
    },
    {
     "name": "stderr",
     "output_type": "stream",
     "text": [
      "\r",
      "  5%|████▏                                                                              | 1/20 [00:15<04:46, 15.10s/it]"
     ]
    },
    {
     "name": "stdout",
     "output_type": "stream",
     "text": [
      "Asesor Del Cliente Para Banco - Lima\n"
     ]
    },
    {
     "name": "stderr",
     "output_type": "stream",
     "text": [
      "\r",
      " 10%|████████▎                                                                          | 2/20 [00:32<04:58, 16.59s/it]"
     ]
    },
    {
     "name": "stdout",
     "output_type": "stream",
     "text": [
      "Auxiliar De Almacen- Tiendas\n"
     ]
    },
    {
     "name": "stderr",
     "output_type": "stream",
     "text": [
      "\r",
      " 15%|████████████▍                                                                      | 3/20 [00:47<04:26, 15.67s/it]"
     ]
    },
    {
     "name": "stdout",
     "output_type": "stream",
     "text": [
      "Asesor De Negocios Con/Sin Experiencia - Agencia Amauta (Ate)\n"
     ]
    },
    {
     "name": "stderr",
     "output_type": "stream",
     "text": [
      "\r",
      " 20%|████████████████▌                                                                  | 4/20 [01:06<04:32, 17.03s/it]"
     ]
    },
    {
     "name": "stdout",
     "output_type": "stream",
     "text": [
      "Ejecutivo Comercial- Izipay Pos (Remoto) (Planilla/ Comisiones)\n"
     ]
    },
    {
     "name": "stderr",
     "output_type": "stream",
     "text": [
      "\r",
      " 25%|████████████████████▊                                                              | 5/20 [01:25<04:23, 17.59s/it]"
     ]
    },
    {
     "name": "stdout",
     "output_type": "stream",
     "text": [
      "Practicante Profesional De Reclutamiento Bilingue\n"
     ]
    },
    {
     "name": "stderr",
     "output_type": "stream",
     "text": [
      "\r",
      " 30%|████████████████████████▉                                                          | 6/20 [01:40<03:56, 16.87s/it]"
     ]
    },
    {
     "name": "stdout",
     "output_type": "stream",
     "text": [
      "Asistente De Servicio Al Cliente\n"
     ]
    },
    {
     "name": "stderr",
     "output_type": "stream",
     "text": [
      "\r",
      " 35%|█████████████████████████████                                                      | 7/20 [01:57<03:41, 17.05s/it]"
     ]
    },
    {
     "name": "stdout",
     "output_type": "stream",
     "text": [
      "Asistente Administrativo (Logistica) Bilingue - Turno Madrugada\n"
     ]
    },
    {
     "name": "stderr",
     "output_type": "stream",
     "text": [
      "\r",
      " 40%|█████████████████████████████████▏                                                 | 8/20 [02:13<03:18, 16.53s/it]"
     ]
    },
    {
     "name": "stdout",
     "output_type": "stream",
     "text": [
      "Footloose En Bumeran Spot Match 28/06\n"
     ]
    },
    {
     "name": "stderr",
     "output_type": "stream",
     "text": [
      "\r",
      " 45%|█████████████████████████████████████▎                                             | 9/20 [02:31<03:09, 17.20s/it]"
     ]
    },
    {
     "name": "stdout",
     "output_type": "stream",
     "text": [
      "Operario De Almacen\n"
     ]
    },
    {
     "name": "stderr",
     "output_type": "stream",
     "text": [
      "\r",
      " 50%|█████████████████████████████████████████                                         | 10/20 [02:47<02:47, 16.71s/it]"
     ]
    },
    {
     "name": "stdout",
     "output_type": "stream",
     "text": [
      "Analista Jr De Recursos Humanos\n"
     ]
    },
    {
     "name": "stderr",
     "output_type": "stream",
     "text": [
      "\r",
      " 55%|█████████████████████████████████████████████                                     | 11/20 [03:06<02:35, 17.30s/it]"
     ]
    },
    {
     "name": "stdout",
     "output_type": "stream",
     "text": [
      "Asistente De Capacitacion\n"
     ]
    },
    {
     "name": "stderr",
     "output_type": "stream",
     "text": [
      "\r",
      " 60%|█████████████████████████████████████████████████▏                                | 12/20 [03:24<02:21, 17.64s/it]"
     ]
    },
    {
     "name": "stdout",
     "output_type": "stream",
     "text": [
      "Data Engineer Program\n"
     ]
    },
    {
     "name": "stderr",
     "output_type": "stream",
     "text": [
      "\r",
      " 65%|█████████████████████████████████████████████████████▎                            | 13/20 [03:41<02:01, 17.37s/it]"
     ]
    },
    {
     "name": "stdout",
     "output_type": "stream",
     "text": [
      "Asesor De Negocios Sin Experiencia - Agencia Pisco\n"
     ]
    },
    {
     "name": "stderr",
     "output_type": "stream",
     "text": [
      "\r",
      " 70%|█████████████████████████████████████████████████████████▍                        | 14/20 [03:56<01:39, 16.60s/it]"
     ]
    },
    {
     "name": "stdout",
     "output_type": "stream",
     "text": [
      "Asistente De Visual Y Trade Marketing\n"
     ]
    },
    {
     "name": "stderr",
     "output_type": "stream",
     "text": [
      "\r",
      " 75%|█████████████████████████████████████████████████████████████▌                    | 15/20 [04:12<01:22, 16.50s/it]"
     ]
    },
    {
     "name": "stdout",
     "output_type": "stream",
     "text": [
      "Operador De Monitoreo\n"
     ]
    },
    {
     "name": "stderr",
     "output_type": "stream",
     "text": [
      "\r",
      " 80%|█████████████████████████████████████████████████████████████████▌                | 16/20 [04:26<01:03, 15.80s/it]"
     ]
    },
    {
     "name": "stdout",
     "output_type": "stream",
     "text": [
      "Asesor De Negocios Con/Sin Experiencia Agencia Lurin\n"
     ]
    },
    {
     "name": "stderr",
     "output_type": "stream",
     "text": [
      "\r",
      " 85%|█████████████████████████████████████████████████████████████████████▋            | 17/20 [04:46<00:50, 16.95s/it]"
     ]
    },
    {
     "name": "stdout",
     "output_type": "stream",
     "text": [
      "Helpdesk Bilingue Con Conocimiento Itil Fundamentos\n"
     ]
    },
    {
     "name": "stderr",
     "output_type": "stream",
     "text": [
      "\r",
      " 90%|█████████████████████████████████████████████████████████████████████████▊        | 18/20 [05:04<00:34, 17.32s/it]"
     ]
    },
    {
     "name": "stdout",
     "output_type": "stream",
     "text": [
      "Ejecutivo Comercial- Izipay Pos (Remoto) (Planilla/ Comisiones)\n"
     ]
    },
    {
     "name": "stderr",
     "output_type": "stream",
     "text": [
      "\r",
      " 95%|█████████████████████████████████████████████████████████████████████████████▉    | 19/20 [05:20<00:17, 17.01s/it]"
     ]
    },
    {
     "name": "stdout",
     "output_type": "stream",
     "text": [
      "Asesor Call Center Retencion - San Isidro\n"
     ]
    },
    {
     "name": "stderr",
     "output_type": "stream",
     "text": [
      "100%|██████████████████████████████████████████████████████████████████████████████████| 20/20 [05:37<00:00, 16.90s/it]\n"
     ]
    }
   ],
   "source": [
    "# Diccionario principal \n",
    "\n",
    "all_info = {}\n",
    "all_info['executive_jobs']=[] # lista vacía dentro de un diccionario de llave 'executive_jobs'\n",
    "\n",
    "\n",
    "\n",
    "for url in tqdm(urls):\n",
    "    driver.get(url)  # loop en cada url de empleo \n",
    "    time.sleep(random.randint(10,15)) # tiempo aleatorio como estrategia para evitar ser reconocidos como un bot\n",
    "    \n",
    "    page = {}  # se crea un diccionaruo vacío \n",
    "    \n",
    "# ------------------------------     HEADERS    -------------------------\n",
    "\n",
    "\n",
    "    # Switch to new page \n",
    "    \n",
    "    \n",
    "    job = driver.find_element(By.XPATH, \"//h1[@class='sc-euoZOX hjaJMy sc-kEYyzF kcaojl']\").text\n",
    "    job = unidecode.unidecode(job).title() # se interpreta las tildes o caracteres especiales. Luego formato titulo\n",
    "    \n",
    "    print(job)\n",
    "    \n",
    "    # Append\n",
    "    page['JOB_AVAILABLE'] = job\n",
    "\n",
    "    # Location by xpath\n",
    "    company = driver.find_element(By.XPATH, \"//h3[@class='sc-fslttm dowqHM']\").text\n",
    "    company = unidecode.unidecode(company).upper()  # mayuscula\n",
    "    \n",
    "    # Si la empresa es confidencias\n",
    "    \n",
    "    if company == \"CONFIDENCIAL\":\n",
    "        company = company.lower()\n",
    "\n",
    "    # Append\n",
    "    page['COMPANY'] = company\n",
    "    \n",
    "       \n",
    "# ------------------------------     SECTION RED    -------------------------\n",
    "\n",
    "    # Tiempo de publicación\n",
    "    \n",
    "    publication_date = driver.find_elements(By.XPATH, \"//i[@name='icon-light-clock']/following-sibling::h2\")[0].text\n",
    "    # Append\n",
    "    page['PUBLICATION_DATE'] = publication_date\n",
    "\n",
    "    # Ubicación\n",
    "    location = driver.find_elements(By.XPATH, \"//i[@name='icon-light-location-pin']/following-sibling::h2\")[0].text\n",
    "    location = unidecode.unidecode(location)\n",
    "\n",
    "    # Append\n",
    "    page['LOCATION'] = location\n",
    "    \n",
    "    try:\n",
    "        # Usando XPATH si la ofeta laboral esta dirigido a personas con alguna discapacidad\n",
    "        \n",
    "        disability = driver.find_element(By.XPATH, '//a[@href=\"/empleos-discapacitados-apto.html\"]').text\n",
    "        # Append\n",
    "        page['SUITABLE_FOR_PEOPLE_WITH_DISABILITIES'] = disability\n",
    "    except:\n",
    "        pass\n",
    "#  -------------------------------   SECTION BLUE   ------------------------------\n",
    "\n",
    "\n",
    "    # Tipo de empleo (Full time o part time)\n",
    "    page['SCHEDULES_AVAILABLE'] = driver.find_elements(By.XPATH, \"//i[@name='icon-light-clock']/following-sibling::h2\")[1].text\n",
    "\n",
    "    # Location by xpath using name\n",
    "    try:\n",
    "        money = driver.find_element(By.XPATH, '//i[@name=\"icon-light-money\"]/following-sibling::h2').text\n",
    "    # Append\n",
    "        page['SALARY'] = money\n",
    "        \n",
    "    except:\n",
    "        pass\n",
    "    \n",
    "    # Area laboral \n",
    "    area = driver.find_element(By.XPATH, '//i[@name=\"icon-light-cube\"]/following-sibling::h2').text\n",
    "    area = unidecode.unidecode(area)\n",
    "\n",
    "    # Append\n",
    "    page['AREA'] = area\n",
    "\n",
    "\n",
    "    # Modalidad (presencia o remoto, etc)\n",
    "    modality = driver.find_element(By.XPATH,'//i[@name=\"icon-light-office\"]/following-sibling::h2').text\n",
    "    modality = unidecode.unidecode(modality)\n",
    "    # Append\n",
    "    page['MODALITY_AVAILABLE'] = modality\n",
    "    \n",
    "    all_info['executive_jobs'].append(page) # se añade el diccionario page como un elemento de la lista all_info\n",
    "    \n",
    "   \n",
    "    \n",
    "    time.sleep(3)\n",
    "    \n",
    "driver.close() # se cierra la ventana "
   ]
  },
  {
   "cell_type": "code",
   "execution_count": 17,
   "id": "e09178a0",
   "metadata": {},
   "outputs": [
    {
     "data": {
      "text/html": [
       "<div>\n",
       "<style scoped>\n",
       "    .dataframe tbody tr th:only-of-type {\n",
       "        vertical-align: middle;\n",
       "    }\n",
       "\n",
       "    .dataframe tbody tr th {\n",
       "        vertical-align: top;\n",
       "    }\n",
       "\n",
       "    .dataframe thead th {\n",
       "        text-align: right;\n",
       "    }\n",
       "</style>\n",
       "<table border=\"1\" class=\"dataframe\">\n",
       "  <thead>\n",
       "    <tr style=\"text-align: right;\">\n",
       "      <th></th>\n",
       "      <th>JOB_AVAILABLE</th>\n",
       "      <th>COMPANY</th>\n",
       "      <th>PUBLICATION_DATE</th>\n",
       "      <th>LOCATION</th>\n",
       "      <th>SCHEDULES_AVAILABLE</th>\n",
       "      <th>AREA</th>\n",
       "      <th>MODALITY_AVAILABLE</th>\n",
       "      <th>SUITABLE_FOR_PEOPLE_WITH_DISABILITIES</th>\n",
       "    </tr>\n",
       "  </thead>\n",
       "  <tbody>\n",
       "    <tr>\n",
       "      <th>0</th>\n",
       "      <td>Asesor De Negocios Con/Sin Experiencia Agencia...</td>\n",
       "      <td>CAJA HUANCAYO</td>\n",
       "      <td>Publicado hoy</td>\n",
       "      <td>Juliaca, Puno, Peru</td>\n",
       "      <td>Full-time, Indeterminado</td>\n",
       "      <td>Comercial</td>\n",
       "      <td>Presencial</td>\n",
       "      <td>NaN</td>\n",
       "    </tr>\n",
       "    <tr>\n",
       "      <th>1</th>\n",
       "      <td>Asesor Del Cliente Para Banco - Lima</td>\n",
       "      <td>ADECCO CONSULTING</td>\n",
       "      <td>Publicado hoy</td>\n",
       "      <td>Surco, Lima, Peru</td>\n",
       "      <td>Part-time, Indeterminado</td>\n",
       "      <td>Atencion al Cliente</td>\n",
       "      <td>Presencial</td>\n",
       "      <td>NaN</td>\n",
       "    </tr>\n",
       "    <tr>\n",
       "      <th>2</th>\n",
       "      <td>Auxiliar De Almacen- Tiendas</td>\n",
       "      <td>TAI LOY S. A.</td>\n",
       "      <td>Publicado hoy</td>\n",
       "      <td>Lima, Lima, Peru</td>\n",
       "      <td>Full-time, Temporal</td>\n",
       "      <td>Almacen / Deposito / Expedicion</td>\n",
       "      <td>Presencial</td>\n",
       "      <td>NaN</td>\n",
       "    </tr>\n",
       "    <tr>\n",
       "      <th>3</th>\n",
       "      <td>Asesor De Negocios Con/Sin Experiencia - Agenc...</td>\n",
       "      <td>CAJA HUANCAYO</td>\n",
       "      <td>Publicado ayer</td>\n",
       "      <td>Ate., Lima, Peru</td>\n",
       "      <td>Full-time, Indeterminado</td>\n",
       "      <td>Comercial</td>\n",
       "      <td>Presencial</td>\n",
       "      <td>NaN</td>\n",
       "    </tr>\n",
       "    <tr>\n",
       "      <th>4</th>\n",
       "      <td>Ejecutivo Comercial- Izipay Pos (Remoto) (Plan...</td>\n",
       "      <td>confidencial</td>\n",
       "      <td>Publicado ayer</td>\n",
       "      <td>Otra, Peru</td>\n",
       "      <td>Full-time, Indeterminado</td>\n",
       "      <td>Comercial</td>\n",
       "      <td>Remoto</td>\n",
       "      <td>NaN</td>\n",
       "    </tr>\n",
       "    <tr>\n",
       "      <th>5</th>\n",
       "      <td>Practicante Profesional De Reclutamiento Bilingue</td>\n",
       "      <td>TATA CONSULTANCY SERVICES SUCURSAL PERU</td>\n",
       "      <td>Publicado ayer</td>\n",
       "      <td>Lima, Lima, Peru</td>\n",
       "      <td>Full-time, Pasantía</td>\n",
       "      <td>Oficios y Profesiones</td>\n",
       "      <td>Remoto</td>\n",
       "      <td>Apto personas con discapacidad</td>\n",
       "    </tr>\n",
       "    <tr>\n",
       "      <th>6</th>\n",
       "      <td>Asistente De Servicio Al Cliente</td>\n",
       "      <td>CREPIER</td>\n",
       "      <td>Publicado ayer</td>\n",
       "      <td>Miraflores, Lima, Peru</td>\n",
       "      <td>Full-time, Indeterminado</td>\n",
       "      <td>Atencion al Cliente</td>\n",
       "      <td>Hibrido</td>\n",
       "      <td>NaN</td>\n",
       "    </tr>\n",
       "    <tr>\n",
       "      <th>7</th>\n",
       "      <td>Asistente Administrativo (Logistica) Bilingue ...</td>\n",
       "      <td>NTT DATA</td>\n",
       "      <td>Publicado ayer</td>\n",
       "      <td>Otra, Peru</td>\n",
       "      <td>Full-time, Autónomo</td>\n",
       "      <td>Logistica</td>\n",
       "      <td>Hibrido</td>\n",
       "      <td>NaN</td>\n",
       "    </tr>\n",
       "    <tr>\n",
       "      <th>8</th>\n",
       "      <td>Footloose En Bumeran Spot Match 28/06</td>\n",
       "      <td>FOOTLOOSE</td>\n",
       "      <td>Publicado ayer</td>\n",
       "      <td>Otra, Peru</td>\n",
       "      <td>Full-time, Indeterminado</td>\n",
       "      <td>Jovenes Profesionales</td>\n",
       "      <td>Presencial</td>\n",
       "      <td>NaN</td>\n",
       "    </tr>\n",
       "    <tr>\n",
       "      <th>9</th>\n",
       "      <td>Operario De Almacen</td>\n",
       "      <td>APUDEX</td>\n",
       "      <td>Publicado ayer</td>\n",
       "      <td>El Agustino, Lima, Peru</td>\n",
       "      <td>Full-time, Temporal</td>\n",
       "      <td>Produccion</td>\n",
       "      <td>Presencial</td>\n",
       "      <td>NaN</td>\n",
       "    </tr>\n",
       "    <tr>\n",
       "      <th>10</th>\n",
       "      <td>Analista Jr De Recursos Humanos</td>\n",
       "      <td>APUDEX</td>\n",
       "      <td>Publicado ayer</td>\n",
       "      <td>El Agustino, Lima, Peru</td>\n",
       "      <td>Full-time, Temporal</td>\n",
       "      <td>Recursos Humanos</td>\n",
       "      <td>Presencial</td>\n",
       "      <td>NaN</td>\n",
       "    </tr>\n",
       "    <tr>\n",
       "      <th>11</th>\n",
       "      <td>Asistente De Capacitacion</td>\n",
       "      <td>CAJA HUANCAYO</td>\n",
       "      <td>Publicado ayer</td>\n",
       "      <td>Huancayo, Junin, Peru</td>\n",
       "      <td>Full-time, Indeterminado</td>\n",
       "      <td>Capacitacion</td>\n",
       "      <td>Presencial</td>\n",
       "      <td>NaN</td>\n",
       "    </tr>\n",
       "    <tr>\n",
       "      <th>12</th>\n",
       "      <td>Data Engineer Program</td>\n",
       "      <td>NTT DATA</td>\n",
       "      <td>Publicado ayer</td>\n",
       "      <td>Lima, Lima, Peru</td>\n",
       "      <td>Full-time, Indeterminado</td>\n",
       "      <td>Data Warehousing</td>\n",
       "      <td>Hibrido</td>\n",
       "      <td>NaN</td>\n",
       "    </tr>\n",
       "    <tr>\n",
       "      <th>13</th>\n",
       "      <td>Asesor De Negocios Sin Experiencia - Agencia P...</td>\n",
       "      <td>CAJA HUANCAYO</td>\n",
       "      <td>Publicado ayer</td>\n",
       "      <td>Pisco, Ica, Peru</td>\n",
       "      <td>Full-time, Indeterminado</td>\n",
       "      <td>Comercial</td>\n",
       "      <td>Presencial</td>\n",
       "      <td>NaN</td>\n",
       "    </tr>\n",
       "    <tr>\n",
       "      <th>14</th>\n",
       "      <td>Asistente De Visual Y Trade Marketing</td>\n",
       "      <td>CREPIER</td>\n",
       "      <td>Publicado ayer</td>\n",
       "      <td>Lima, Lima, Peru</td>\n",
       "      <td>Full-time, Indeterminado</td>\n",
       "      <td>Arquitectura</td>\n",
       "      <td>Hibrido</td>\n",
       "      <td>Apto personas con discapacidad</td>\n",
       "    </tr>\n",
       "    <tr>\n",
       "      <th>15</th>\n",
       "      <td>Operador De Monitoreo</td>\n",
       "      <td>NTT DATA</td>\n",
       "      <td>Publicado ayer</td>\n",
       "      <td>Trujillo, La Libertad, Peru</td>\n",
       "      <td>Full-time, Indeterminado</td>\n",
       "      <td>Tecnologia / Sistemas</td>\n",
       "      <td>Hibrido</td>\n",
       "      <td>Apto personas con discapacidad</td>\n",
       "    </tr>\n",
       "    <tr>\n",
       "      <th>16</th>\n",
       "      <td>Asesor De Negocios Con/Sin Experiencia Agencia...</td>\n",
       "      <td>CAJA HUANCAYO</td>\n",
       "      <td>Publicado hace 2 días</td>\n",
       "      <td>Lurin, Lima, Peru</td>\n",
       "      <td>Full-time, Indeterminado</td>\n",
       "      <td>Comercial</td>\n",
       "      <td>Presencial</td>\n",
       "      <td>NaN</td>\n",
       "    </tr>\n",
       "    <tr>\n",
       "      <th>17</th>\n",
       "      <td>Helpdesk Bilingue Con Conocimiento Itil Fundam...</td>\n",
       "      <td>NTT DATA</td>\n",
       "      <td>Publicado hace 3 días</td>\n",
       "      <td>Magdalena del Mar, Lima, Peru</td>\n",
       "      <td>Full-time, Autónomo</td>\n",
       "      <td>Tecnologia / Sistemas</td>\n",
       "      <td>Hibrido</td>\n",
       "      <td>NaN</td>\n",
       "    </tr>\n",
       "    <tr>\n",
       "      <th>18</th>\n",
       "      <td>Ejecutivo Comercial- Izipay Pos (Remoto) (Plan...</td>\n",
       "      <td>confidencial</td>\n",
       "      <td>Publicado hace 3 días</td>\n",
       "      <td>Otra, Peru</td>\n",
       "      <td>Full-time, Indeterminado</td>\n",
       "      <td>Comercial</td>\n",
       "      <td>Remoto</td>\n",
       "      <td>NaN</td>\n",
       "    </tr>\n",
       "    <tr>\n",
       "      <th>19</th>\n",
       "      <td>Asesor Call Center Retencion - San Isidro</td>\n",
       "      <td>PIN-UP GLOBAL</td>\n",
       "      <td>Publicado hace 3 días</td>\n",
       "      <td>Otra, Peru</td>\n",
       "      <td>Full-time, Indeterminado</td>\n",
       "      <td>Call Center</td>\n",
       "      <td>Presencial</td>\n",
       "      <td>NaN</td>\n",
       "    </tr>\n",
       "  </tbody>\n",
       "</table>\n",
       "</div>"
      ],
      "text/plain": [
       "                                        JOB_AVAILABLE  \\\n",
       "0   Asesor De Negocios Con/Sin Experiencia Agencia...   \n",
       "1                Asesor Del Cliente Para Banco - Lima   \n",
       "2                        Auxiliar De Almacen- Tiendas   \n",
       "3   Asesor De Negocios Con/Sin Experiencia - Agenc...   \n",
       "4   Ejecutivo Comercial- Izipay Pos (Remoto) (Plan...   \n",
       "5   Practicante Profesional De Reclutamiento Bilingue   \n",
       "6                    Asistente De Servicio Al Cliente   \n",
       "7   Asistente Administrativo (Logistica) Bilingue ...   \n",
       "8               Footloose En Bumeran Spot Match 28/06   \n",
       "9                                 Operario De Almacen   \n",
       "10                    Analista Jr De Recursos Humanos   \n",
       "11                          Asistente De Capacitacion   \n",
       "12                              Data Engineer Program   \n",
       "13  Asesor De Negocios Sin Experiencia - Agencia P...   \n",
       "14              Asistente De Visual Y Trade Marketing   \n",
       "15                              Operador De Monitoreo   \n",
       "16  Asesor De Negocios Con/Sin Experiencia Agencia...   \n",
       "17  Helpdesk Bilingue Con Conocimiento Itil Fundam...   \n",
       "18  Ejecutivo Comercial- Izipay Pos (Remoto) (Plan...   \n",
       "19          Asesor Call Center Retencion - San Isidro   \n",
       "\n",
       "                                    COMPANY       PUBLICATION_DATE  \\\n",
       "0                             CAJA HUANCAYO          Publicado hoy   \n",
       "1                         ADECCO CONSULTING          Publicado hoy   \n",
       "2                             TAI LOY S. A.          Publicado hoy   \n",
       "3                             CAJA HUANCAYO         Publicado ayer   \n",
       "4                              confidencial         Publicado ayer   \n",
       "5   TATA CONSULTANCY SERVICES SUCURSAL PERU         Publicado ayer   \n",
       "6                                   CREPIER         Publicado ayer   \n",
       "7                                  NTT DATA         Publicado ayer   \n",
       "8                                 FOOTLOOSE         Publicado ayer   \n",
       "9                                    APUDEX         Publicado ayer   \n",
       "10                                   APUDEX         Publicado ayer   \n",
       "11                            CAJA HUANCAYO         Publicado ayer   \n",
       "12                                 NTT DATA         Publicado ayer   \n",
       "13                            CAJA HUANCAYO         Publicado ayer   \n",
       "14                                  CREPIER         Publicado ayer   \n",
       "15                                 NTT DATA         Publicado ayer   \n",
       "16                            CAJA HUANCAYO  Publicado hace 2 días   \n",
       "17                                 NTT DATA  Publicado hace 3 días   \n",
       "18                             confidencial  Publicado hace 3 días   \n",
       "19                            PIN-UP GLOBAL  Publicado hace 3 días   \n",
       "\n",
       "                         LOCATION       SCHEDULES_AVAILABLE  \\\n",
       "0             Juliaca, Puno, Peru  Full-time, Indeterminado   \n",
       "1               Surco, Lima, Peru  Part-time, Indeterminado   \n",
       "2                Lima, Lima, Peru       Full-time, Temporal   \n",
       "3                Ate., Lima, Peru  Full-time, Indeterminado   \n",
       "4                      Otra, Peru  Full-time, Indeterminado   \n",
       "5                Lima, Lima, Peru       Full-time, Pasantía   \n",
       "6          Miraflores, Lima, Peru  Full-time, Indeterminado   \n",
       "7                      Otra, Peru       Full-time, Autónomo   \n",
       "8                      Otra, Peru  Full-time, Indeterminado   \n",
       "9         El Agustino, Lima, Peru       Full-time, Temporal   \n",
       "10        El Agustino, Lima, Peru       Full-time, Temporal   \n",
       "11          Huancayo, Junin, Peru  Full-time, Indeterminado   \n",
       "12               Lima, Lima, Peru  Full-time, Indeterminado   \n",
       "13               Pisco, Ica, Peru  Full-time, Indeterminado   \n",
       "14               Lima, Lima, Peru  Full-time, Indeterminado   \n",
       "15    Trujillo, La Libertad, Peru  Full-time, Indeterminado   \n",
       "16              Lurin, Lima, Peru  Full-time, Indeterminado   \n",
       "17  Magdalena del Mar, Lima, Peru       Full-time, Autónomo   \n",
       "18                     Otra, Peru  Full-time, Indeterminado   \n",
       "19                     Otra, Peru  Full-time, Indeterminado   \n",
       "\n",
       "                               AREA MODALITY_AVAILABLE  \\\n",
       "0                         Comercial         Presencial   \n",
       "1               Atencion al Cliente         Presencial   \n",
       "2   Almacen / Deposito / Expedicion         Presencial   \n",
       "3                         Comercial         Presencial   \n",
       "4                         Comercial             Remoto   \n",
       "5             Oficios y Profesiones             Remoto   \n",
       "6               Atencion al Cliente            Hibrido   \n",
       "7                         Logistica            Hibrido   \n",
       "8             Jovenes Profesionales         Presencial   \n",
       "9                        Produccion         Presencial   \n",
       "10                 Recursos Humanos         Presencial   \n",
       "11                     Capacitacion         Presencial   \n",
       "12                 Data Warehousing            Hibrido   \n",
       "13                        Comercial         Presencial   \n",
       "14                     Arquitectura            Hibrido   \n",
       "15            Tecnologia / Sistemas            Hibrido   \n",
       "16                        Comercial         Presencial   \n",
       "17            Tecnologia / Sistemas            Hibrido   \n",
       "18                        Comercial             Remoto   \n",
       "19                      Call Center         Presencial   \n",
       "\n",
       "   SUITABLE_FOR_PEOPLE_WITH_DISABILITIES  \n",
       "0                                    NaN  \n",
       "1                                    NaN  \n",
       "2                                    NaN  \n",
       "3                                    NaN  \n",
       "4                                    NaN  \n",
       "5         Apto personas con discapacidad  \n",
       "6                                    NaN  \n",
       "7                                    NaN  \n",
       "8                                    NaN  \n",
       "9                                    NaN  \n",
       "10                                   NaN  \n",
       "11                                   NaN  \n",
       "12                                   NaN  \n",
       "13                                   NaN  \n",
       "14        Apto personas con discapacidad  \n",
       "15        Apto personas con discapacidad  \n",
       "16                                   NaN  \n",
       "17                                   NaN  \n",
       "18                                   NaN  \n",
       "19                                   NaN  "
      ]
     },
     "execution_count": 17,
     "metadata": {},
     "output_type": "execute_result"
    }
   ],
   "source": [
    "data = json_normalize(all_info['executive_jobs']) # jsaon diccionario dentro de una lista\n",
    "data"
   ]
  },
  {
   "cell_type": "code",
   "execution_count": 18,
   "id": "a4884db2",
   "metadata": {
    "scrolled": true
   },
   "outputs": [],
   "source": [
    "# Export df to excel\n",
    "data.to_excel('Bumeran_jobs.xlsx')"
   ]
  },
  {
   "cell_type": "code",
   "execution_count": 19,
   "id": "1977cb16",
   "metadata": {},
   "outputs": [],
   "source": [
    "# Export df to Json\n",
    "data.to_json('Bumeran_jobs.json')"
   ]
  },
  {
   "cell_type": "code",
   "execution_count": null,
   "id": "dab3b5e2",
   "metadata": {},
   "outputs": [],
   "source": []
  }
 ],
 "metadata": {
  "kernelspec": {
   "display_name": "Python 3 (ipykernel)",
   "language": "python",
   "name": "python3"
  },
  "language_info": {
   "codemirror_mode": {
    "name": "ipython",
    "version": 3
   },
   "file_extension": ".py",
   "mimetype": "text/x-python",
   "name": "python",
   "nbconvert_exporter": "python",
   "pygments_lexer": "ipython3",
   "version": "3.10.9"
  },
  "toc": {
   "base_numbering": 1,
   "nav_menu": {},
   "number_sections": true,
   "sideBar": true,
   "skip_h1_title": false,
   "title_cell": "Table of Contents",
   "title_sidebar": "Contents",
   "toc_cell": false,
   "toc_position": {},
   "toc_section_display": true,
   "toc_window_display": false
  }
 },
 "nbformat": 4,
 "nbformat_minor": 5
}
