{
 "cells": [
  {
   "cell_type": "code",
   "execution_count": 12,
   "id": "0cb4401c",
   "metadata": {},
   "outputs": [],
   "source": [
    "from selenium import webdriver  # manipulación de driver \n",
    "from webdriver_manager.chrome import ChromeDriverManager # manejar diferentes versiones del driver\n",
    "\n",
    "\n",
    "import re # expresiones regulares \n",
    "import time # time \n",
    "from selenium.webdriver.support.ui import Select  # Trabaja con el tag <select></select>\n",
    "import os\n",
    "import sys\n",
    "from selenium.webdriver.common.by import By  # permite seleccionar los elementos en un html\n",
    "import warnings\n",
    "warnings.filterwarnings('ignore') # eliminar warning messages \n",
    "\n",
    "from selenium.webdriver.common.keys import Keys  # ingresar información a la página web (nombres, fechas)\n",
    "from selenium.common.exceptions import NoSuchElementException\n",
    "from selenium.webdriver import ActionChains # movilizarnos en la página web \n",
    "import pandas as pd\n",
    "import numpy as np \n",
    "import unidecode  # usaremos para reconocer las tildes \n",
    "from tqdm import tqdm\n",
    "\n",
    "import warnings\n",
    "warnings.filterwarnings('ignore') # eliminar warning messages "
   ]
  },
  {
   "cell_type": "markdown",
   "id": "203c9a24",
   "metadata": {},
   "source": [
    "# Dynamic Pages"
   ]
  },
  {
   "cell_type": "code",
   "execution_count": 24,
   "id": "6576ce9d",
   "metadata": {},
   "outputs": [],
   "source": [
    "driver3 = webdriver.Chrome( \"chromedriver.exe\" )\n",
    "# Maximize window\n",
    "driver3.maximize_window()\n",
    "driver3.get('http://www.legacy.com/obituaries/legacy/obituary-search.aspx?daterange=30&countryid=0&stateid=all&affiliateid=all')"
   ]
  },
  {
   "cell_type": "code",
   "execution_count": 26,
   "id": "af2d1f34",
   "metadata": {},
   "outputs": [],
   "source": [
    "# date botoom \n",
    "\n",
    "date = driver3.find_element(By.ID, 'ctl00_ctl00_ContentPlaceHolder1_ContentPlaceHolder1_uxSearchWideControl_ddlSearchRange')\n"
   ]
  },
  {
   "cell_type": "code",
   "execution_count": 27,
   "id": "08108b94",
   "metadata": {},
   "outputs": [],
   "source": [
    "# select range date \n",
    "\n",
    "Select(date).options[9].click()"
   ]
  },
  {
   "cell_type": "code",
   "execution_count": 28,
   "id": "e98ded31",
   "metadata": {},
   "outputs": [],
   "source": [
    "# star date\n",
    "\n",
    "death_begin = driver3.find_element(By.ID,\"ctl00_ctl00_ContentPlaceHolder1_ContentPlaceHolder1_uxSearchWideControl_txtStartDate\")\n",
    "\n",
    "\n",
    "death_begin.send_keys('10/10/1994')"
   ]
  },
  {
   "cell_type": "code",
   "execution_count": 29,
   "id": "8fa51238",
   "metadata": {},
   "outputs": [],
   "source": [
    "# end date\n",
    "\n",
    "death_end = driver3.find_element(By.ID,\"ctl00_ctl00_ContentPlaceHolder1_ContentPlaceHolder1_uxSearchWideControl_txtEndDate\")    \n",
    "death_end.send_keys('10/10/2005')"
   ]
  },
  {
   "cell_type": "code",
   "execution_count": 30,
   "id": "19353047",
   "metadata": {
    "scrolled": true
   },
   "outputs": [],
   "source": [
    "# Name\n",
    "\n",
    "keyword = driver3.find_element(By.ID,\"ctl00_ctl00_ContentPlaceHolder1_ContentPlaceHolder1_uxSearchWideControl_txtFirstName\")\n",
    "\n",
    "keyword.send_keys('robert')"
   ]
  },
  {
   "cell_type": "code",
   "execution_count": 31,
   "id": "6a1db96f",
   "metadata": {},
   "outputs": [],
   "source": [
    "# Lastname\n",
    "\n",
    "keyword = driver3.find_element(By.ID,\"ctl00_ctl00_ContentPlaceHolder1_ContentPlaceHolder1_uxSearchWideControl_txtLastName\")\n",
    "keyword.send_keys('brown')"
   ]
  },
  {
   "cell_type": "code",
   "execution_count": 32,
   "id": "350f2150",
   "metadata": {},
   "outputs": [],
   "source": [
    "keyword = driver3.find_element(By.ID,\"ctl00_ctl00_ContentPlaceHolder1_ContentPlaceHolder1_uxSearchWideControl_txtKeyword\")\n",
    "keyword.send_keys('professor')\n"
   ]
  },
  {
   "cell_type": "code",
   "execution_count": 33,
   "id": "aaf87b39",
   "metadata": {
    "scrolled": true
   },
   "outputs": [],
   "source": [
    " # Set the state of last residence\n",
    "residence = driver3.find_element(By.ID,\"ctl00_ctl00_ContentPlaceHolder1_ContentPlaceHolder1_uxSearchWideControl_ddlCountry\")\n",
    "Select(residence).options[5].click()        "
   ]
  },
  {
   "cell_type": "code",
   "execution_count": 34,
   "id": "29c443f6",
   "metadata": {},
   "outputs": [],
   "source": [
    "# Send information\n",
    "driver3.find_element(By.XPATH,'//*[@id=\"lnkSearch\"]').click()"
   ]
  },
  {
   "cell_type": "code",
   "execution_count": null,
   "id": "99e8037f",
   "metadata": {},
   "outputs": [],
   "source": []
  },
  {
   "cell_type": "code",
   "execution_count": null,
   "id": "42c99464",
   "metadata": {},
   "outputs": [],
   "source": []
  },
  {
   "cell_type": "code",
   "execution_count": null,
   "id": "f7122ad8",
   "metadata": {},
   "outputs": [],
   "source": []
  },
  {
   "cell_type": "code",
   "execution_count": null,
   "id": "960b8eea",
   "metadata": {},
   "outputs": [],
   "source": []
  },
  {
   "cell_type": "code",
   "execution_count": null,
   "id": "874a5767",
   "metadata": {},
   "outputs": [],
   "source": []
  }
 ],
 "metadata": {
  "kernelspec": {
   "display_name": "Python 3 (ipykernel)",
   "language": "python",
   "name": "python3"
  },
  "language_info": {
   "codemirror_mode": {
    "name": "ipython",
    "version": 3
   },
   "file_extension": ".py",
   "mimetype": "text/x-python",
   "name": "python",
   "nbconvert_exporter": "python",
   "pygments_lexer": "ipython3",
   "version": "3.10.9"
  }
 },
 "nbformat": 4,
 "nbformat_minor": 5
}
