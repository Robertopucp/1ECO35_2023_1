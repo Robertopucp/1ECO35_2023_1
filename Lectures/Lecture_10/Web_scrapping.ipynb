{
 "cells": [
  {
   "cell_type": "markdown",
   "metadata": {},
   "source": [
    "# 10. Web Scraping"
   ]
  },
  {
   "cell_type": "markdown",
   "metadata": {},
   "source": [
    "Web  scraping  is  the  practice  of  gathering  data  through  any  means  otherthan a program interacting with an API (or, obviously, through a human using a webbrowser).  This  is  most  commonly  accomplished  by  writing  an  automated  programthat queries a web server, requests data (usually in the form of the HTML and otherfiles  that  comprise  web  pages),  and  then  parses  that  data  to  extract  needed  information."
   ]
  },
  {
   "cell_type": "markdown",
   "metadata": {},
   "source": [
    "# 10.1 Selenium\n",
    "Selenium automates browsers. That's it! <br>\n",
    "Selenium is a Python library and tool used for automating web browsers to do a number of tasks. One of such is web-scraping to extract useful data and information that may be otherwise unavailable. <br>\n",
    "**For this course, we use Chrome.**"
   ]
  },
  {
   "cell_type": "code",
   "execution_count": 1,
   "metadata": {},
   "outputs": [],
   "source": [
    "#!pip install selenium==4.2.0\n",
    "# !pip install webdriver-manager\n",
    "\n",
    "# La versión actual de selenium es 4.10, pero deben instalar la versión 4.2 "
   ]
  },
  {
   "cell_type": "markdown",
   "metadata": {},
   "source": [
    "## 10.2 Calling Libraries"
   ]
  },
  {
   "cell_type": "code",
   "execution_count": 9,
   "metadata": {},
   "outputs": [
    {
     "name": "stdout",
     "output_type": "stream",
     "text": [
      "4.2.0\n"
     ]
    }
   ],
   "source": [
    "# check selenium version \n",
    "\n",
    "import selenium\n",
    "print(selenium.__version__)"
   ]
  },
  {
   "cell_type": "code",
   "execution_count": 1,
   "metadata": {},
   "outputs": [],
   "source": [
    "\n",
    "from selenium import webdriver  # manipulación de driver \n",
    "from webdriver_manager.chrome import ChromeDriverManager # manejar diferentes versiones del driver\n",
    "\n",
    "\n",
    "import re # expresiones regulares \n",
    "import time # time \n",
    "from selenium.webdriver.support.ui import Select  # Trabaja con el tag <select></select>\n",
    "import os\n",
    "import sys\n",
    "from selenium.webdriver.common.by import By  # permite seleccionar los elementos en un html\n",
    "import warnings\n",
    "warnings.filterwarnings('ignore') # eliminar warning messages \n",
    "\n",
    "from selenium.webdriver.common.keys import Keys  # ingresar información a la página web (nombres, fechas)\n",
    "from selenium.common.exceptions import NoSuchElementException\n",
    "from selenium.webdriver import ActionChains # movilizarnos en la página web \n",
    "import pandas as pd\n",
    "import numpy as np \n",
    "import unidecode  # usaremos para reconocer las tildes \n",
    "from tqdm import tqdm\n",
    "\n",
    "import warnings\n",
    "warnings.filterwarnings('ignore') # eliminar warning messages "
   ]
  },
  {
   "cell_type": "markdown",
   "metadata": {},
   "source": [
    "## 7.3 Launch/Set the Driver\n",
    "Este código abre un controlador Chrome. Lo vamos a usar para navegar en la web."
   ]
  },
  {
   "cell_type": "code",
   "execution_count": 14,
   "metadata": {},
   "outputs": [],
   "source": [
    "# Case 1 - Download the driver\n",
    "\n",
    "driver = webdriver.Chrome(\"chromedriver.exe\") # abrimos el simulador de chrome\n",
    "                         # se coloca la ubicación del ejecutable de chrome \n"
   ]
  },
  {
   "cell_type": "code",
   "execution_count": 15,
   "metadata": {},
   "outputs": [],
   "source": [
    "driver.maximize_window() # maximiza la ventama \n",
    "\n",
    "url = 'https://resultadoshistorico.onpe.gob.pe/EG2021/' # URL de ONPE\n"
   ]
  },
  {
   "cell_type": "code",
   "execution_count": 16,
   "metadata": {},
   "outputs": [],
   "source": [
    "driver.get( url ) # ingresar el url al browser "
   ]
  },
  {
   "cell_type": "markdown",
   "metadata": {},
   "source": [
    "## Otra forma de abrir driver de chrome sin usarel ejecutable"
   ]
  },
  {
   "cell_type": "code",
   "execution_count": 18,
   "metadata": {
    "scrolled": true
   },
   "outputs": [],
   "source": [
    "# driver = webdriver.Chrome( ChromeDriverManager().install() )"
   ]
  },
  {
   "cell_type": "code",
   "execution_count": 19,
   "metadata": {},
   "outputs": [],
   "source": [
    "# driver.maximize_window() # maximiza la ventama \n",
    "\n",
    "# url = 'https://resultadoshistorico.onpe.gob.pe/EG2021/' # URL de ONPE\n"
   ]
  },
  {
   "cell_type": "code",
   "execution_count": 20,
   "metadata": {},
   "outputs": [],
   "source": [
    "# driver.get( url ) # ingresar el url al browser "
   ]
  },
  {
   "cell_type": "markdown",
   "metadata": {},
   "source": [
    "## Chrome está siendo controlado por un software de prueba automatizado !!!"
   ]
  },
  {
   "cell_type": "code",
   "execution_count": 6,
   "metadata": {},
   "outputs": [
    {
     "name": "stdout",
     "output_type": "stream",
     "text": [
      "Title:  Presentación de Resultados Elecciones Generales y Parlamento Andino 2021\n"
     ]
    }
   ],
   "source": [
    "# Acceso al contenido del tag <title></title>\n",
    "print('Title: ', driver.title)"
   ]
  },
  {
   "cell_type": "code",
   "execution_count": 7,
   "metadata": {},
   "outputs": [
    {
     "name": "stdout",
     "output_type": "stream",
     "text": [
      "Current Page URL:  https://resultadoshistorico.onpe.gob.pe/EG2021/\n"
     ]
    }
   ],
   "source": [
    "# Access al url\n",
    "\n",
    "print('Current Page URL: ', driver.current_url)"
   ]
  },
  {
   "cell_type": "code",
   "execution_count": 14,
   "metadata": {},
   "outputs": [
    {
     "data": {
      "text/plain": [
       "selenium.webdriver.chrome.webdriver.WebDriver"
      ]
     },
     "execution_count": 14,
     "metadata": {},
     "output_type": "execute_result"
    }
   ],
   "source": [
    "type(driver)"
   ]
  },
  {
   "cell_type": "code",
   "execution_count": 7,
   "metadata": {},
   "outputs": [
    {
     "data": {
      "text/plain": [
       "['__abstractmethods__',\n",
       " '__class__',\n",
       " '__delattr__',\n",
       " '__dict__',\n",
       " '__dir__',\n",
       " '__doc__',\n",
       " '__enter__',\n",
       " '__eq__',\n",
       " '__exit__',\n",
       " '__format__',\n",
       " '__ge__',\n",
       " '__getattribute__',\n",
       " '__gt__',\n",
       " '__hash__',\n",
       " '__init__',\n",
       " '__init_subclass__',\n",
       " '__le__',\n",
       " '__lt__',\n",
       " '__module__',\n",
       " '__ne__',\n",
       " '__new__',\n",
       " '__reduce__',\n",
       " '__reduce_ex__',\n",
       " '__repr__',\n",
       " '__setattr__',\n",
       " '__sizeof__',\n",
       " '__str__',\n",
       " '__subclasshook__',\n",
       " '__weakref__',\n",
       " '_abc_impl',\n",
       " '_authenticator_id',\n",
       " '_file_detector',\n",
       " '_get_cdp_details',\n",
       " '_is_remote',\n",
       " '_mobile',\n",
       " '_shadowroot_cls',\n",
       " '_switch_to',\n",
       " '_unwrap_value',\n",
       " '_web_element_cls',\n",
       " '_wrap_value',\n",
       " 'add_cookie',\n",
       " 'add_credential',\n",
       " 'add_virtual_authenticator',\n",
       " 'application_cache',\n",
       " 'back',\n",
       " 'bidi_connection',\n",
       " 'capabilities',\n",
       " 'caps',\n",
       " 'close',\n",
       " 'command_executor',\n",
       " 'create_options',\n",
       " 'create_web_element',\n",
       " 'current_url',\n",
       " 'current_window_handle',\n",
       " 'delete_all_cookies',\n",
       " 'delete_cookie',\n",
       " 'delete_network_conditions',\n",
       " 'desired_capabilities',\n",
       " 'error_handler',\n",
       " 'execute',\n",
       " 'execute_async_script',\n",
       " 'execute_cdp_cmd',\n",
       " 'execute_script',\n",
       " 'file_detector',\n",
       " 'file_detector_context',\n",
       " 'find_element',\n",
       " 'find_element_by_class_name',\n",
       " 'find_element_by_css_selector',\n",
       " 'find_element_by_id',\n",
       " 'find_element_by_link_text',\n",
       " 'find_element_by_name',\n",
       " 'find_element_by_partial_link_text',\n",
       " 'find_element_by_tag_name',\n",
       " 'find_element_by_xpath',\n",
       " 'find_elements',\n",
       " 'find_elements_by_class_name',\n",
       " 'find_elements_by_css_selector',\n",
       " 'find_elements_by_id',\n",
       " 'find_elements_by_link_text',\n",
       " 'find_elements_by_name',\n",
       " 'find_elements_by_partial_link_text',\n",
       " 'find_elements_by_tag_name',\n",
       " 'find_elements_by_xpath',\n",
       " 'forward',\n",
       " 'fullscreen_window',\n",
       " 'get',\n",
       " 'get_cookie',\n",
       " 'get_cookies',\n",
       " 'get_credentials',\n",
       " 'get_issue_message',\n",
       " 'get_log',\n",
       " 'get_network_conditions',\n",
       " 'get_pinned_scripts',\n",
       " 'get_screenshot_as_base64',\n",
       " 'get_screenshot_as_file',\n",
       " 'get_screenshot_as_png',\n",
       " 'get_sinks',\n",
       " 'get_window_position',\n",
       " 'get_window_rect',\n",
       " 'get_window_size',\n",
       " 'implicitly_wait',\n",
       " 'launch_app',\n",
       " 'log_types',\n",
       " 'maximize_window',\n",
       " 'minimize_window',\n",
       " 'mobile',\n",
       " 'name',\n",
       " 'orientation',\n",
       " 'page_source',\n",
       " 'pin_script',\n",
       " 'pinned_scripts',\n",
       " 'port',\n",
       " 'print_page',\n",
       " 'quit',\n",
       " 'refresh',\n",
       " 'remove_all_credentials',\n",
       " 'remove_credential',\n",
       " 'remove_virtual_authenticator',\n",
       " 'save_screenshot',\n",
       " 'service',\n",
       " 'session_id',\n",
       " 'set_network_conditions',\n",
       " 'set_page_load_timeout',\n",
       " 'set_permissions',\n",
       " 'set_script_timeout',\n",
       " 'set_sink_to_use',\n",
       " 'set_user_verified',\n",
       " 'set_window_position',\n",
       " 'set_window_rect',\n",
       " 'set_window_size',\n",
       " 'start_client',\n",
       " 'start_desktop_mirroring',\n",
       " 'start_session',\n",
       " 'start_tab_mirroring',\n",
       " 'stop_casting',\n",
       " 'stop_client',\n",
       " 'switch_to',\n",
       " 'timeouts',\n",
       " 'title',\n",
       " 'unpin',\n",
       " 'vendor_prefix',\n",
       " 'virtual_authenticator_id',\n",
       " 'window_handles']"
      ]
     },
     "execution_count": 7,
     "metadata": {},
     "output_type": "execute_result"
    }
   ],
   "source": [
    "dir(driver) #observamos los métodos y atributos del objeto "
   ]
  },
  {
   "cell_type": "markdown",
   "metadata": {},
   "source": [
    "### 7.4.1. HTML\n",
    "HTML stands for HyperText Markup Language. You can deduce that it’s a language for creating web pages. It’s not a programming language like Python or Java, but it’s a markup language. It describes the elements of a page through tags characterized by angle brackets.\n",
    "\n",
    "1. The document always begins and ends using `<html>` and `</html>`.\n",
    "2. `<body></body>` constitutes the visible part of HTML document.\n",
    "3. `<h1>` to `<h3>` tags are defined for the headings."
   ]
  },
  {
   "cell_type": "markdown",
   "metadata": {},
   "source": [
    "#### 7.4.1.1. HTML Headings\n",
    "HTML headings are defined with the `<h1>` to `<h6>` tags.\n",
    "`<h1>` defines the most important heading. `<h6>` defines the least important heading.\n",
    "\n",
    "We can use text cells since markdown reads html tags."
   ]
  },
  {
   "cell_type": "markdown",
   "metadata": {},
   "source": [
    "<h1>This is heading 1</h1>\n",
    "<h2>This is heading 2</h2>\n",
    "<h3>This is heading 3</h3>"
   ]
  },
  {
   "cell_type": "markdown",
   "metadata": {},
   "source": [
    "#### 7.4.1.2. HTML Paragraphs\n",
    "HTML paragraphs are defined with the `<p>` tag.\n",
    "`<br>` tag is similar to `\"\\n\"`."
   ]
  },
  {
   "cell_type": "markdown",
   "metadata": {},
   "source": [
    "<br>\n",
    "<p>My first paragraph.</p> <br>\n",
    "<p>This is another paragraph for this text cell.</p>"
   ]
  },
  {
   "cell_type": "markdown",
   "metadata": {},
   "source": [
    "#### 7.4.1.3. HTML Links\n",
    "HTML links are defined with the <a> tag:"
   ]
  },
  {
   "cell_type": "markdown",
   "metadata": {},
   "source": [
    "<a href=\"http://bayes.cs.ucla.edu/jp_home.html\">This is a link for Judea Pearl Website</a> "
   ]
  },
  {
   "cell_type": "markdown",
   "metadata": {},
   "source": [
    "#### 7.4.1.3. Unordered HTML List\n",
    "An unordered list starts with the `<ul>` tag. Each list item starts with the `<li>` tag."
   ]
  },
  {
   "cell_type": "markdown",
   "metadata": {},
   "source": [
    "<ul>\n",
    "  <li>Coffee</li>\n",
    "  <li>Tea</li>\n",
    "  <li>Milk</li>\n",
    "</ul>"
   ]
  },
  {
   "cell_type": "markdown",
   "metadata": {},
   "source": [
    "#### 7.4.1.4. Ordered HTML List\n",
    "An ordered list starts with the `<ol>` tag. Each list item starts with the `<li>` tag."
   ]
  },
  {
   "cell_type": "markdown",
   "metadata": {},
   "source": [
    "<ol>\n",
    "  <li>Coffee</li>\n",
    "  <li>Tea</li>\n",
    "  <li>Milk</li>\n",
    "</ol>"
   ]
  },
  {
   "cell_type": "markdown",
   "metadata": {},
   "source": [
    "#### 7.4.1.4. HTML Tables\n",
    "\n",
    "A table in HTML consists of table cells inside rows and columns. Each table cell is defined by a `<td>` and a `</td>` tag. Each table row starts with a `<tr>` and end with a `</tr>` tag."
   ]
  },
  {
   "cell_type": "markdown",
   "metadata": {},
   "source": [
    "<table>\n",
    "  <tr>\n",
    "    <th>Manager</th>\n",
    "    <th>Club</th>\n",
    "    <th>Nationality</th>\n",
    "  </tr>\n",
    "    \n",
    "  <tr>\n",
    "    <td>Mikel Arteta</td>\n",
    "    <td>Arsenal</td>\n",
    "    <td>Spain</td>\n",
    "  </tr>\n",
    "    \n",
    "  <tr>\n",
    "    <td>Thomas Tuchel</td>\n",
    "    <td>Chelsea</td>\n",
    "    <td>Germany</td>\n",
    "  </tr>\n",
    "</table>"
   ]
  },
  {
   "cell_type": "markdown",
   "metadata": {},
   "source": [
    "#### 7.4.1.5. HTML Iframes\n",
    "\n",
    "An HTML iframe is used to display a web page within a web page."
   ]
  },
  {
   "cell_type": "markdown",
   "metadata": {},
   "source": [
    "\n",
    "<!DOCTYPE html>\n",
    "<html>\n",
    "  \n",
    "<head>\n",
    "    <title>1.0 HTML adrres </title>\n",
    "</head>\n",
    "  \n",
    "<body> style=\"text-align: center\">\n",
    "    <h1>Diploma</h1>\n",
    "    <h2>HTML iframe</h2>\n",
    "   \n",
    "   <p> Add personal information </p> \n",
    "   \n",
    " <address>\n",
    "     \n",
    "Written by <a href=\"mailto:webmaster@example.com\">Jon Doe</a>.<br> \n",
    "Visit us at:<br>\n",
    "Example.com<br>\n",
    "Box 564, Disneyland<br>\n",
    "USA\n",
    "</address>\n",
    "    \n",
    "</body>\n",
    "  \n",
    "</html>"
   ]
  },
  {
   "cell_type": "markdown",
   "metadata": {},
   "source": [
    "<!DOCTYPE html>\n",
    "<html>\n",
    "<head>\n",
    "<style>\n",
    "table, th, td {\n",
    "  border: 1px solid black;\n",
    "}\n",
    "</style>\n",
    "</head>\n",
    "<body>\n",
    "\n",
    "<h1>2.0 The td element</h1>\n",
    "\n",
    "<p>The td element defines a cell in a table:</p>\n",
    "\n",
    "<table>\n",
    "  <tr>\n",
    "    <td>Cell A</td>\n",
    "    <td>Cell B</td>\n",
    "  </tr>\n",
    "  <tr>\n",
    "    <td>Cell C</td>\n",
    "    <td>Cell D</td>\n",
    "  </tr>\n",
    "</table>\n",
    "\n",
    "</body>\n",
    "</html>\n"
   ]
  },
  {
   "cell_type": "markdown",
   "metadata": {},
   "source": [
    "<!DOCTYPE html>\n",
    "<html>\n",
    "<body>\n",
    "\n",
    "<h1>3.0 Bottom </h1>\n",
    "\n",
    "<p>Click the button below to display the hidden content from the template element.</p>\n",
    "\n",
    "<button onclick=\"showContent()\">Click here</button>\n",
    "\n"
   ]
  },
  {
   "cell_type": "markdown",
   "metadata": {},
   "source": [
    "<!DOCTYPE html>\n",
    "<html>\n",
    "<body>\n",
    "\n",
    "<h1>4.0 The form element</h1>\n",
    "\n",
    "<form action=\"/action_page.php\">\n",
    "  <label for=\"fname\">First name:</label>\n",
    "  <input type=\"text\" id=\"fname\" name=\"fname\"><br><br>\n",
    "  <label for=\"lname\">Last name:</label>\n",
    "  <input type=\"text\" id=\"lname\" name=\"lname\"><br><br>\n",
    "  <button onclick=\"showContent()\">Submit</button>\n",
    "</form>\n",
    "\n",
    "<p>Click the \"Submit\" button and the form-data will be sent to a page on the \n",
    "server called \"action_page.php\".</p>\n",
    "\n",
    "</body>\n",
    "</html>\n"
   ]
  },
  {
   "cell_type": "markdown",
   "metadata": {},
   "source": [
    "<!DOCTYPE html>\n",
    "<html>\n",
    "<body>\n",
    "\n",
    "<h1> 5.0 The label element</h1>\n",
    "\n",
    "<p>Click on one of the text labels to toggle the related radio button:</p>\n",
    "\n",
    "<form action=\"/action_page.php\">\n",
    "  <input type=\"radio\" id=\"html\" name=\"fav_language\" value=\"HTML\">\n",
    "  <label for=\"html\">HTML</label><br>\n",
    "  <input type=\"radio\" id=\"css\" name=\"fav_language\" value=\"CSS\">\n",
    "  <label for=\"css\">CSS</label><br>\n",
    "  <input type=\"radio\" id=\"javascript\" name=\"fav_language\" value=\"JavaScript\">\n",
    "  <label for=\"javascript\">JavaScript</label><br><br>\n",
    "\n",
    "  <button onclick=\"showContent()\">Submit</button>\n",
    "    \n",
    "</form>\n",
    "\n",
    "</body>\n",
    "</html>\n"
   ]
  },
  {
   "cell_type": "markdown",
   "metadata": {},
   "source": [
    "<!DOCTYPE html>\n",
    "<html>\n",
    "<body>\n",
    "\n",
    "<h1>6.0 The select element</h1>\n",
    "\n",
    "<p>The select element is used to create a drop-down list.</p>\n",
    "\n",
    "<form action=\"/action_page.php\">\n",
    "  <label for=\"cars\">Choose a car:</label>\n",
    "  <select name=\"cars\" id=\"cars\">\n",
    "    <option value=\"volvo\">Volvo</option>\n",
    "    <option value=\"saab\">Saab</option>\n",
    "    <option value=\"opel\">Opel</option>\n",
    "    <option value=\"audi\">Audi</option>\n",
    "  </select>\n",
    "  <br><br>\n",
    "</form>\n",
    "\n",
    "<button onclick=\"showContent()\">Show hidden content</button>\n",
    "    \n",
    "<p>Click the \"Submit\" button and the form-data will be sent to a page on the \n",
    "server called \"action_page.php\".</p>\n",
    "\n",
    "</body>\n",
    "</html>"
   ]
  },
  {
   "cell_type": "markdown",
   "metadata": {},
   "source": [
    "<!DOCTYPE html>\n",
    "<html>\n",
    " \n",
    "<h1>7.0 Class atribute</h1>    \n",
    "    \n",
    "<head>\n",
    "    <style>\n",
    "        .country {\n",
    "            background-color: black;\n",
    "            color: white;\n",
    "            padding: 8px;\n",
    "        }\n",
    "    </style>\n",
    "</head>\n",
    " \n",
    "<body>\n",
    " \n",
    "<h2 class=\"country\">CHINA</h2>\n",
    "     \n",
    "<p>China has the largest population\n",
    "       in the world.</p>\n",
    " \n",
    " \n",
    "<h2 class=\"country\">INDIA</h2>\n",
    "     \n",
    "<p>India has the second largest\n",
    "       population in the world.</p>\n",
    " \n",
    " \n",
    "<h2 class=\"country\">UNITED STATES</h2>\n",
    "     \n",
    "<p>United States has the third largest\n",
    "       population in the world.</p>\n",
    " \n",
    " \n",
    "</body>\n",
    " \n",
    "</html>\n"
   ]
  },
  {
   "cell_type": "markdown",
   "metadata": {},
   "source": [
    "<!DOCTYPE html>\n",
    "<html>\n",
    "    \n",
    "<h1> 8.0 Style</h1>   \n",
    "    \n",
    "<head>\n",
    "<style>\n",
    "h1 {color:red;}\n",
    "p {color:blue;}\n",
    "</style>\n",
    "</head>\n",
    "<body>\n",
    "\n",
    "<h1>This is a heading</h1>\n",
    "<p>This is a paragraph.</p>\n",
    "\n",
    "</body>\n",
    "</html>\n"
   ]
  },
  {
   "cell_type": "markdown",
   "metadata": {},
   "source": [
    "<!DOCTYPE html>\n",
    "<html>\n",
    "<head>\n",
    "<style>\n",
    "#myHeader {\n",
    "  background-color: lightblue;\n",
    "  color: black;\n",
    "  padding: 40px;\n",
    "  text-align: center;\n",
    "} \n",
    "</style>\n",
    "</head>\n",
    "<body>\n",
    "\n",
    "<h2> 9.0 The id Attribute</h2>\n",
    "<p>Use CSS to style an element with the id \"myHeader\":</p>\n",
    "\n",
    "<h1 id=\"myHeader\">My Header</h1>\n",
    "\n",
    "</body>\n",
    "</html>\n",
    "\n"
   ]
  },
  {
   "cell_type": "markdown",
   "metadata": {},
   "source": [
    "<html>\n",
    "<head>\n",
    "    \n",
    "<h1> 10.0 Div tagname </h1>   \n",
    "    \n",
    "<style>\n",
    ".myDiv {\n",
    "  border: 5px outset red;\n",
    "  background-color: lightblue;\n",
    "  text-align: center;\n",
    "}\n",
    "</style>\n",
    "</head>\n",
    "<body>\n",
    "\n",
    "<div class=\"myDiv\">\n",
    "  <h2>This is a heading in a div element</h2>\n",
    "  <p>This is some text in a div element.</p>\n",
    "</div>\n",
    "\n",
    "</body>\n",
    "</html>"
   ]
  },
  {
   "cell_type": "markdown",
   "metadata": {},
   "source": [
    "#### 7.4.1.6. HTML Tags - Key"
   ]
  },
  {
   "cell_type": "markdown",
   "metadata": {},
   "source": [
    "|Tag|Description|\n",
    "|---|---|\n",
    "|`<h1>` to `<h6>`|\tDefines HTML headings|\n",
    "|`<ul>`|\tDefines an unordered list|\n",
    "|`<ol>`|\tDefines an ordered list|\n",
    "|`<p>`|\tDefines a paragraph|\n",
    "|`<a>`|\tIt is termed as anchor tag and it creates a hyperlink or link.|\n",
    "|`<div>`|\tIt defines a division or section within HTML document.|\n",
    "|`<strong>`|\tIt is used to define important text.|\n",
    "|`<table>`|\tIt is used to present data in tabular form or to create a table within HTML document.|\n",
    "|`<td>`|\tIt is used to define cells of an HTML table which contains table data|\n",
    "|`<iframe>`|\tDefines an inline frame|"
   ]
  },
  {
   "cell_type": "markdown",
   "metadata": {},
   "source": [
    "### 7.4. Identifying elements in a web page\n",
    "\n",
    "To identify elements of a webpage, we need to inspect the webpage. Open the driver and press `Ctrl`+ `Shift` + `I`."
   ]
  },
  {
   "cell_type": "markdown",
   "metadata": {},
   "source": [
    "#### One Element\n",
    "|Method|Description|\n",
    "|---|---|\n",
    "|find_element_by_id| Use id.|\n",
    "|find_element_by_name| Use name.|\n",
    "|find_element_by_xpath| Use Xpath.|\n",
    "|find_element_by_tag_name| Use HTML tag.|\n",
    "|find_element_by_class_name| Use class name.|\n",
    "|find_element_by_css_selector| Use css selector.|"
   ]
  },
  {
   "cell_type": "markdown",
   "metadata": {},
   "source": [
    "#### Multiple  elements\n",
    "|Method|Description|\n",
    "|---|---|\n",
    "|find_elements_by_id| Use id.|\n",
    "|find_elements_by_name| Use name.|\n",
    "|find_elements_by_xpath| Use Xpath.|\n",
    "|find_elements_by_tag_name| Use HTML tag.|\n",
    "|find_elements_by_class_name| Use class name.|\n",
    "|find_elements_by_css_selector| Use css selector.|"
   ]
  },
  {
   "cell_type": "markdown",
   "metadata": {},
   "source": [
    "### 7.4.1. Xpath\n",
    "XPath in Selenium is an XML path used for navigation through the HTML structure of the page. It is a syntax or language for finding any element on a web page using XML path expression.\n",
    "\n",
    "The basic format of XPath in selenium is explained below with screen shot.\n",
    "<img src=\"../../_images/x_path.png\">"
   ]
  },
  {
   "cell_type": "markdown",
   "metadata": {},
   "source": [
    "**DO NOT COMPLICATE!**\n",
    "Finding the XPath of a element:\n",
    "1. Go to the element\n",
    "2. Right click\n",
    "3. Inspect - You may have to do it twice.\n",
    "4. Go to the selected line\n",
    "5. Right click\n",
    "7. Copy \n",
    "8. Copy Full Xpath"
   ]
  }
 ],
 "metadata": {
  "hide_input": false,
  "kernelspec": {
   "display_name": "Python 3 (ipykernel)",
   "language": "python",
   "name": "python3"
  },
  "language_info": {
   "codemirror_mode": {
    "name": "ipython",
    "version": 3
   },
   "file_extension": ".py",
   "mimetype": "text/x-python",
   "name": "python",
   "nbconvert_exporter": "python",
   "pygments_lexer": "ipython3",
   "version": "3.10.4"
  }
 },
 "nbformat": 4,
 "nbformat_minor": 4
}
