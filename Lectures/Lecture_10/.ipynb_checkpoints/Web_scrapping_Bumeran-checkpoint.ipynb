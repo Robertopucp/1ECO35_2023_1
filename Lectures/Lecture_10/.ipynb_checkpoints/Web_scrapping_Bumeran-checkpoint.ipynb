{
 "cells": [
  {
   "cell_type": "code",
   "execution_count": 102,
   "id": "565f6a38",
   "metadata": {},
   "outputs": [],
   "source": [
    "#Library\n",
    "# ---\n",
    "# Librerias de selenium \n",
    "\n",
    "from selenium import webdriver\n",
    "from webdriver_manager.chrome import ChromeDriverManager\n",
    "from selenium.webdriver.support.ui import Select  # selccionar opciones de las lista desplegable\n",
    "from selenium.webdriver.common.by import By  # permite seleccionar los elementos en un html\n",
    "from selenium.webdriver.common.keys import Keys  # ingresar datos a un formulario\n",
    "from selenium.common.exceptions import NoSuchElementException\n",
    "# Opciones driver\n",
    "from selenium.webdriver.chrome.options import Options\n",
    "\n",
    "# dataframes\n",
    "import pandas as pd\n",
    "from pandas import json_normalize\n",
    "import numpy as np\n",
    "\n",
    "# Similamos comportamiento humano al añadir tiempos aleatorios\n",
    "import time\n",
    "from time import sleep\n",
    "import random\n",
    "from tqdm import tqdm\n",
    "\n",
    "# Limpear data (tildes sobretodo)\n",
    "import unidecode\n",
    "\n",
    "# Manipular Json files\n",
    "import json\n"
   ]
  },
  {
   "cell_type": "code",
   "execution_count": 150,
   "id": "82a9b18d",
   "metadata": {
    "scrolled": true
   },
   "outputs": [
    {
     "name": "stderr",
     "output_type": "stream",
     "text": [
      "C:\\Users\\Roberto\\AppData\\Local\\Temp\\ipykernel_22708\\2097753898.py:3: DeprecationWarning: executable_path has been deprecated, please pass in a Service object\n",
      "  driver = webdriver.Chrome(\"chromedriver_07.exe\")\n"
     ]
    }
   ],
   "source": [
    "# Open la página\n",
    "\n",
    "driver = webdriver.Chrome(\"chromedriver.exe\")\n",
    "driver.get(\"https://www.bumeran.com.pe/\")\n",
    "\n",
    "driver.maximize_window()"
   ]
  },
  {
   "cell_type": "code",
   "execution_count": 151,
   "id": "07e87240",
   "metadata": {},
   "outputs": [],
   "source": [
    "# Click en Puestos_ejecutivo\n",
    "\n",
    "# Full path //*[@id=\"root\"]/div/div[1]/div/div[2]/div/div/div[1]/ul/li[2]/a \n",
    "\n",
    "\n",
    "driver.find_elements(By.XPATH, '//a[@class=\"sc-gFaPwZ curEiY sc-fYxtnH ettxiZ\"]')[1].click()"
   ]
  },
  {
   "cell_type": "code",
   "execution_count": 152,
   "id": "3d94af3d",
   "metadata": {},
   "outputs": [],
   "source": [
    "# Se cambia el driver a nueva ventana abierta\n",
    "\n",
    "driver.switch_to.window(driver.window_handles[1])"
   ]
  },
  {
   "cell_type": "code",
   "execution_count": 153,
   "id": "12baa5eb",
   "metadata": {},
   "outputs": [
    {
     "data": {
      "text/plain": [
       "'https://www.bumeran.com.pe/empleos-seniority-gerencia-alta-gerencia-direccion.html?landing-puestos-ejecutivos=true'"
      ]
     },
     "execution_count": 153,
     "metadata": {},
     "output_type": "execute_result"
    }
   ],
   "source": [
    "# Se pude verificar que el url es de la nueva ventana\n",
    "driver.current_url"
   ]
  },
  {
   "cell_type": "code",
   "execution_count": 154,
   "id": "b1434145",
   "metadata": {},
   "outputs": [],
   "source": [
    "# Objeto que continene todos los avisos \n",
    "\n",
    "listado_de_avisos = driver.find_element(By.ID,\"listado-avisos\")"
   ]
  },
  {
   "cell_type": "code",
   "execution_count": 155,
   "id": "9ac284ee",
   "metadata": {},
   "outputs": [],
   "source": [
    "# almacenamos los urls de cada oferta laboral\n",
    "\n",
    "urls = []\n",
    "links = listado_de_avisos.find_elements(By.TAG_NAME,'a') \n",
    "for link in links[2:]:\n",
    "    urls.append(link.get_attribute('href')) # se extrae el atributo URL "
   ]
  },
  {
   "cell_type": "code",
   "execution_count": 156,
   "id": "6880b986",
   "metadata": {},
   "outputs": [
    {
     "data": {
      "text/plain": [
       "['https://www.bumeran.com.pe/empleos/gerente-comercial-millennials-investments-s.a.c.-1115514542.html',\n",
       " 'https://www.bumeran.com.pe/postulantes/productos/doctorcv',\n",
       " 'https://www.bumeran.com.pe/empleos/gerente-de-tienda-chilis-chiclayo-chilis-1115500497.html',\n",
       " 'https://www.bumeran.com.pe/empleos/gerente-general-sector-textil-y-manufactura-rcs-capital-humano-1115481433.html',\n",
       " 'https://www.bumeran.com.pe/empleos/jefe-de-mejora-operacional-plazo-fijo-minera-chinalco-1115463888.html',\n",
       " 'https://www.bumeran.com.pe/empleos/consultor-de-customer-experience-izo-peru-1115462151.html',\n",
       " 'https://www.bumeran.com.pe/empleos/gerente-de-operaciones-sector-seguridad-bumeran-selecta-1115438357.html',\n",
       " 'https://www.bumeran.com.pe/empleos/directora-general-institucion-educativa-virtus-headhunter-1115524138.html',\n",
       " 'https://www.bumeran.com.pe/empleos/gerente-comercial-trisur-consulting-group-s.a.c.-1115523364.html',\n",
       " 'https://www.bumeran.com.pe/empleos/consultor-de-customer-experience-izo-peru-1115523264.html',\n",
       " 'https://www.bumeran.com.pe/empleos/gerente-general-empresa-de-alimentos-en-lurin-1115523214.html',\n",
       " 'https://www.bumeran.com.pe/empleos/sub-gerente-logistico-experiencia-en-almacenes-1115522415.html',\n",
       " 'https://www.bumeran.com.pe/empleos/marketing-en-area-de-maquillajes-internacionales-san-borja-1115522382.html',\n",
       " 'https://www.bumeran.com.pe/empleos/marketing-en-area-de-maquillajes-internacionales-san-isidro-1115522377.html',\n",
       " 'https://www.bumeran.com.pe/empleos/ventas-en-productos-de-salud-y-belleza-mexicana-miraflores2-1115522375.html',\n",
       " 'https://www.bumeran.com.pe/empleos/digital-business-manager-kam-stefanini-peru-s.a-1115522288.html',\n",
       " 'https://www.bumeran.com.pe/empleos/gerente-comercial-agencia-de-carga-tci-cargo-group-s.a.c.-1115522037.html',\n",
       " 'https://www.bumeran.com.pe/empleos/ventas-en-productos-de-salud-y-belleza-mexicana-barranco-1115521852.html',\n",
       " 'https://www.bumeran.com.pe/empleos/ventas-en-productos-de-belleza-san-borja-1115521837.html',\n",
       " 'https://www.bumeran.com.pe/empleos/gerente-legal-cl-selection-s.a.c.-1115521048.html',\n",
       " 'https://www.bumeran.com.pe/empleos/ingeniero-asistente-residente-mina-subterranea-1115520171.html',\n",
       " 'https://www.bumeran.com.pe/empleos-seniority-gerencia-alta-gerencia-direccion.html?landing-puestos-ejecutivos=true#',\n",
       " 'https://www.bumeran.com.pe/empleos-seniority-gerencia-alta-gerencia-direccion.htmllanding-puestos-ejecutivos=true',\n",
       " 'https://www.bumeran.com.pe/empleos-seniority-gerencia-alta-gerencia-direccion.htmllanding-puestos-ejecutivos=true&page=2',\n",
       " 'https://www.bumeran.com.pe/empleos-seniority-gerencia-alta-gerencia-direccion.htmllanding-puestos-ejecutivos=true&page=3',\n",
       " 'https://www.bumeran.com.pe/empleos-seniority-gerencia-alta-gerencia-direccion.htmllanding-puestos-ejecutivos=true&page=4',\n",
       " 'https://www.bumeran.com.pe/empleos-seniority-gerencia-alta-gerencia-direccion.htmllanding-puestos-ejecutivos=true&page=5',\n",
       " 'https://www.bumeran.com.pe/empleos-seniority-gerencia-alta-gerencia-direccion.htmllanding-puestos-ejecutivos=true&page=7',\n",
       " 'https://www.bumeran.com.pe/empleos-seniority-gerencia-alta-gerencia-direccion.htmllanding-puestos-ejecutivos=true&page=2']"
      ]
     },
     "execution_count": 156,
     "metadata": {},
     "output_type": "execute_result"
    }
   ],
   "source": [
    "urls"
   ]
  },
  {
   "cell_type": "code",
   "execution_count": 157,
   "id": "97e818ca",
   "metadata": {},
   "outputs": [
    {
     "data": {
      "text/plain": [
       "['https://www.bumeran.com.pe/empleos/gerente-comercial-millennials-investments-s.a.c.-1115514542.html',\n",
       " 'https://www.bumeran.com.pe/empleos/gerente-de-tienda-chilis-chiclayo-chilis-1115500497.html',\n",
       " 'https://www.bumeran.com.pe/empleos/gerente-general-sector-textil-y-manufactura-rcs-capital-humano-1115481433.html',\n",
       " 'https://www.bumeran.com.pe/empleos/jefe-de-mejora-operacional-plazo-fijo-minera-chinalco-1115463888.html',\n",
       " 'https://www.bumeran.com.pe/empleos/consultor-de-customer-experience-izo-peru-1115462151.html',\n",
       " 'https://www.bumeran.com.pe/empleos/gerente-de-operaciones-sector-seguridad-bumeran-selecta-1115438357.html',\n",
       " 'https://www.bumeran.com.pe/empleos/directora-general-institucion-educativa-virtus-headhunter-1115524138.html',\n",
       " 'https://www.bumeran.com.pe/empleos/gerente-comercial-trisur-consulting-group-s.a.c.-1115523364.html',\n",
       " 'https://www.bumeran.com.pe/empleos/consultor-de-customer-experience-izo-peru-1115523264.html',\n",
       " 'https://www.bumeran.com.pe/empleos/gerente-general-empresa-de-alimentos-en-lurin-1115523214.html',\n",
       " 'https://www.bumeran.com.pe/empleos/sub-gerente-logistico-experiencia-en-almacenes-1115522415.html',\n",
       " 'https://www.bumeran.com.pe/empleos/marketing-en-area-de-maquillajes-internacionales-san-borja-1115522382.html',\n",
       " 'https://www.bumeran.com.pe/empleos/marketing-en-area-de-maquillajes-internacionales-san-isidro-1115522377.html',\n",
       " 'https://www.bumeran.com.pe/empleos/ventas-en-productos-de-salud-y-belleza-mexicana-miraflores2-1115522375.html',\n",
       " 'https://www.bumeran.com.pe/empleos/digital-business-manager-kam-stefanini-peru-s.a-1115522288.html',\n",
       " 'https://www.bumeran.com.pe/empleos/gerente-comercial-agencia-de-carga-tci-cargo-group-s.a.c.-1115522037.html',\n",
       " 'https://www.bumeran.com.pe/empleos/ventas-en-productos-de-salud-y-belleza-mexicana-barranco-1115521852.html',\n",
       " 'https://www.bumeran.com.pe/empleos/ventas-en-productos-de-belleza-san-borja-1115521837.html',\n",
       " 'https://www.bumeran.com.pe/empleos/gerente-legal-cl-selection-s.a.c.-1115521048.html',\n",
       " 'https://www.bumeran.com.pe/empleos/ingeniero-asistente-residente-mina-subterranea-1115520171.html']"
      ]
     },
     "execution_count": 157,
     "metadata": {},
     "output_type": "execute_result"
    }
   ],
   "source": [
    "# Urls de cada oferta laboral \n",
    "\n",
    "urls = [urls[0]] + urls[2:21] # retiramos el aviso de CV doctor \n",
    "urls \n",
    "\n",
    "# Solo nos quedamos con los links que contiene /empleos/ "
   ]
  },
  {
   "cell_type": "code",
   "execution_count": 14,
   "id": "5a23e5c9",
   "metadata": {},
   "outputs": [],
   "source": [
    "# He hecho click en una de las ofertas laborales \n",
    "# Se cambia el driver a la nueva ventana \n",
    "\n",
    "driver.switch_to.window(driver.window_handles[1])"
   ]
  },
  {
   "cell_type": "code",
   "execution_count": 15,
   "id": "84b743cf",
   "metadata": {},
   "outputs": [],
   "source": [
    "# se extrae el titulo del empleo\n",
    "\n",
    "job = driver.find_element(By.XPATH, \"//h1[@class='sc-jxgvnK eOHPZp sc-jKJlTe PCuwg']\").text\n",
    "job = unidecode.unidecode(job).title() # se retira las tildes "
   ]
  },
  {
   "cell_type": "code",
   "execution_count": 18,
   "id": "a6864cec",
   "metadata": {},
   "outputs": [
    {
     "data": {
      "text/plain": [
       "'Gerente Comercial'"
      ]
     },
     "execution_count": 18,
     "metadata": {},
     "output_type": "execute_result"
    }
   ],
   "source": [
    "job "
   ]
  },
  {
   "cell_type": "code",
   "execution_count": 17,
   "id": "ec4b555e",
   "metadata": {},
   "outputs": [
    {
     "data": {
      "text/plain": [
       "'MILLENNIALS INVESTMENTS S.A.C.'"
      ]
     },
     "execution_count": 17,
     "metadata": {},
     "output_type": "execute_result"
    }
   ],
   "source": [
    "# Se extrae el nombre de la empresa \n",
    "\n",
    "company = driver.find_element(By.XPATH, \"//h3[@class='sc-duVqjH dczkmc']\").text\n",
    "company = unidecode.unidecode(company).upper()\n",
    "company"
   ]
  },
  {
   "cell_type": "code",
   "execution_count": 36,
   "id": "cb052651",
   "metadata": {},
   "outputs": [
    {
     "data": {
      "text/plain": [
       "'Publicado hace 5 días'"
      ]
     },
     "execution_count": 36,
     "metadata": {},
     "output_type": "execute_result"
    }
   ],
   "source": [
    "# Click en el icono de tiempo de publicación \n",
    "\n",
    "driver.find_elements(By.XPATH, \"//i[@name='icon-light-clock']/following-sibling::h2\")[0].text\n",
    "# tenemos dos opciones. La primera opción indica hace cuanto tiempo se publico la oferta laboral \n",
    "# accedemos al tag <h2></h2> dentro del tag del icino de tiempo con following-sibling::h2"
   ]
  },
  {
   "cell_type": "code",
   "execution_count": 35,
   "id": "50de2873",
   "metadata": {},
   "outputs": [
    {
     "data": {
      "text/plain": [
       "'Santiago de Surco, Lima, Peru'"
      ]
     },
     "execution_count": 35,
     "metadata": {},
     "output_type": "execute_result"
    }
   ],
   "source": [
    "# Click en el icono ubicación\n",
    "\n",
    "driver.find_elements(By.XPATH, \"//i[@name='icon-light-location-pin']/following-sibling::h2\")[0].text\n",
    "\n",
    "# la primera opción correcponde a la ubicación de interés"
   ]
  },
  {
   "cell_type": "code",
   "execution_count": 158,
   "id": "4293cd20",
   "metadata": {
    "scrolled": false
   },
   "outputs": [
    {
     "name": "stderr",
     "output_type": "stream",
     "text": [
      "\r",
      "  0%|                                                                                           | 0/20 [00:00<?, ?it/s]"
     ]
    },
    {
     "name": "stdout",
     "output_type": "stream",
     "text": [
      "Gerente Comercial\n"
     ]
    },
    {
     "name": "stderr",
     "output_type": "stream",
     "text": [
      "\r",
      "  5%|████▏                                                                              | 1/20 [00:06<02:12,  6.96s/it]"
     ]
    },
    {
     "name": "stdout",
     "output_type": "stream",
     "text": [
      "Gerente De Tienda Chili'S Chiclayo\n"
     ]
    },
    {
     "name": "stderr",
     "output_type": "stream",
     "text": [
      "\r",
      " 10%|████████▎                                                                          | 2/20 [00:13<02:03,  6.88s/it]"
     ]
    },
    {
     "name": "stdout",
     "output_type": "stream",
     "text": [
      "Gerente General - Sector Textil Y Manufactura\n"
     ]
    },
    {
     "name": "stderr",
     "output_type": "stream",
     "text": [
      "\r",
      " 15%|████████████▍                                                                      | 3/20 [00:21<02:04,  7.31s/it]"
     ]
    },
    {
     "name": "stdout",
     "output_type": "stream",
     "text": [
      "Jefe De Mejora Operacional - Plazo Fijo\n"
     ]
    },
    {
     "name": "stderr",
     "output_type": "stream",
     "text": [
      "\r",
      " 20%|████████████████▌                                                                  | 4/20 [00:29<01:59,  7.50s/it]"
     ]
    },
    {
     "name": "stdout",
     "output_type": "stream",
     "text": [
      "Consultor De Customer Experience\n"
     ]
    },
    {
     "name": "stderr",
     "output_type": "stream",
     "text": [
      "\r",
      " 25%|████████████████████▊                                                              | 5/20 [00:37<01:53,  7.58s/it]"
     ]
    },
    {
     "name": "stdout",
     "output_type": "stream",
     "text": [
      "Gerente De Operaciones - Sector Seguridad\n"
     ]
    },
    {
     "name": "stderr",
     "output_type": "stream",
     "text": [
      "\r",
      " 30%|████████████████████████▉                                                          | 6/20 [00:44<01:46,  7.64s/it]"
     ]
    },
    {
     "name": "stdout",
     "output_type": "stream",
     "text": [
      "Director(A) General - Institucion Educativa\n"
     ]
    },
    {
     "name": "stderr",
     "output_type": "stream",
     "text": [
      "\r",
      " 35%|█████████████████████████████                                                      | 7/20 [00:52<01:39,  7.67s/it]"
     ]
    },
    {
     "name": "stdout",
     "output_type": "stream",
     "text": [
      "Gerente Comercial\n"
     ]
    },
    {
     "name": "stderr",
     "output_type": "stream",
     "text": [
      "\r",
      " 40%|█████████████████████████████████▏                                                 | 8/20 [00:59<01:28,  7.35s/it]"
     ]
    },
    {
     "name": "stdout",
     "output_type": "stream",
     "text": [
      "Consultor De Customer Experience\n"
     ]
    },
    {
     "name": "stderr",
     "output_type": "stream",
     "text": [
      "\r",
      " 45%|█████████████████████████████████████▎                                             | 9/20 [01:08<01:25,  7.81s/it]"
     ]
    },
    {
     "name": "stdout",
     "output_type": "stream",
     "text": [
      "Gerente General - Empresa De Alimentos En Lurin\n"
     ]
    },
    {
     "name": "stderr",
     "output_type": "stream",
     "text": [
      "\r",
      " 50%|█████████████████████████████████████████                                         | 10/20 [01:14<01:14,  7.47s/it]"
     ]
    },
    {
     "name": "stdout",
     "output_type": "stream",
     "text": [
      "Sub Gerente Logistico - Experiencia En Almacenes\n"
     ]
    },
    {
     "name": "stderr",
     "output_type": "stream",
     "text": [
      "\r",
      " 55%|█████████████████████████████████████████████                                     | 11/20 [01:21<01:05,  7.24s/it]"
     ]
    },
    {
     "name": "stdout",
     "output_type": "stream",
     "text": [
      "Marketing En Area De Maquillajes Internacionales San Borja\n"
     ]
    },
    {
     "name": "stderr",
     "output_type": "stream",
     "text": [
      "\r",
      " 60%|█████████████████████████████████████████████████▏                                | 12/20 [01:30<01:01,  7.69s/it]"
     ]
    },
    {
     "name": "stdout",
     "output_type": "stream",
     "text": [
      "Marketing En Area De Maquillajes Internacionales San Isidro\n"
     ]
    },
    {
     "name": "stderr",
     "output_type": "stream",
     "text": [
      "\r",
      " 65%|█████████████████████████████████████████████████████▎                            | 13/20 [01:38<00:56,  8.01s/it]"
     ]
    },
    {
     "name": "stdout",
     "output_type": "stream",
     "text": [
      "Ventas En Productos De Salud Y Belleza Mexicana Miraflores2\n"
     ]
    },
    {
     "name": "stderr",
     "output_type": "stream",
     "text": [
      "\r",
      " 70%|█████████████████████████████████████████████████████████▍                        | 14/20 [01:45<00:45,  7.63s/it]"
     ]
    },
    {
     "name": "stdout",
     "output_type": "stream",
     "text": [
      "Digital Business Manager (Kam)\n"
     ]
    },
    {
     "name": "stderr",
     "output_type": "stream",
     "text": [
      "\r",
      " 75%|█████████████████████████████████████████████████████████████▌                    | 15/20 [01:53<00:38,  7.74s/it]"
     ]
    },
    {
     "name": "stdout",
     "output_type": "stream",
     "text": [
      "Gerente Comercial - Agencia De Carga\n"
     ]
    },
    {
     "name": "stderr",
     "output_type": "stream",
     "text": [
      "\r",
      " 80%|█████████████████████████████████████████████████████████████████▌                | 16/20 [02:00<00:29,  7.45s/it]"
     ]
    },
    {
     "name": "stdout",
     "output_type": "stream",
     "text": [
      "Ventas En Productos De Salud Y Belleza Mexicana Barranco\n"
     ]
    },
    {
     "name": "stderr",
     "output_type": "stream",
     "text": [
      "\r",
      " 85%|█████████████████████████████████████████████████████████████████████▋            | 17/20 [02:08<00:22,  7.54s/it]"
     ]
    },
    {
     "name": "stdout",
     "output_type": "stream",
     "text": [
      "Ventas En Productos De Belleza San Borja\n"
     ]
    },
    {
     "name": "stderr",
     "output_type": "stream",
     "text": [
      "\r",
      " 90%|█████████████████████████████████████████████████████████████████████████▊        | 18/20 [02:16<00:15,  7.64s/it]"
     ]
    },
    {
     "name": "stdout",
     "output_type": "stream",
     "text": [
      "Gerente Legal\n"
     ]
    },
    {
     "name": "stderr",
     "output_type": "stream",
     "text": [
      "\r",
      " 95%|█████████████████████████████████████████████████████████████████████████████▉    | 19/20 [02:24<00:07,  7.93s/it]"
     ]
    },
    {
     "name": "stdout",
     "output_type": "stream",
     "text": [
      "Ingeniero Asistente Residente Mina Subterranea\n"
     ]
    },
    {
     "name": "stderr",
     "output_type": "stream",
     "text": [
      "100%|██████████████████████████████████████████████████████████████████████████████████| 20/20 [02:32<00:00,  7.63s/it]\n"
     ]
    }
   ],
   "source": [
    "# Diccionario principal \n",
    "\n",
    "all_info = {}\n",
    "all_info['executive_jobs']=[] \n",
    "\n",
    "\n",
    "\n",
    "for url in tqdm(urls):\n",
    "    driver.get(url)\n",
    "    time.sleep(random.randint(3,5)) # tiempo aleatorio\n",
    "    \n",
    "    page = {}  # se crea un diccionaruo vacío \n",
    "    \n",
    "# ------------------------------     HEADERS    -------------------------\n",
    "\n",
    "\n",
    "    # Switch to new page \n",
    "    \n",
    "    \n",
    "    job = driver.find_element(By.XPATH, \"//h1[@class='sc-jxgvnK eOHPZp sc-jKJlTe PCuwg']\").text\n",
    "    job = unidecode.unidecode(job).title()\n",
    "    \n",
    "    print(job)\n",
    "    \n",
    "    # Append\n",
    "    page['JOB_AVAILABLE'] = job\n",
    "\n",
    "    # Location by xpath\n",
    "    company = driver.find_element(By.XPATH, \"//h3[@class='sc-duVqjH dczkmc']\").text\n",
    "    company = unidecode.unidecode(company).upper()  # mayuscula\n",
    "    \n",
    "    # Si la empresa es confidencias\n",
    "    \n",
    "    if company == \"CONFIDENCIAL\":\n",
    "        company = company.lower()\n",
    "\n",
    "    # Append\n",
    "    page['COMPANY'] = company\n",
    "    \n",
    "       \n",
    "# ------------------------------     SECTION RED    -------------------------\n",
    "\n",
    "    # Tiempo de publicación\n",
    "    \n",
    "    publication_date = driver.find_elements(By.XPATH, \"//i[@name='icon-light-clock']/following-sibling::h2\")[0].text\n",
    "    # Append\n",
    "    page['PUBLICATION_DATE'] = publication_date\n",
    "\n",
    "    # Ubicación\n",
    "    location = driver.find_elements(By.XPATH, \"//i[@name='icon-light-location-pin']/following-sibling::h2\")[0].text\n",
    "    location = unidecode.unidecode(location)\n",
    "\n",
    "    # Append\n",
    "    page['LOCATION'] = location\n",
    "    \n",
    "    try:\n",
    "        # Usando XPATH si la ofeta laboral esta dirigido a personas con alguna discapacidad\n",
    "        \n",
    "        disability = driver.find_element(By.XPATH, '//a[@href=\"/empleos-discapacitados-apto.html\"]').text\n",
    "        # Append\n",
    "        page['SUITABLE_FOR_PEOPLE_WITH_DISABILITIES'] = disability\n",
    "    except:\n",
    "        pass\n",
    "#  -------------------------------   SECTION BLUE   ------------------------------\n",
    "\n",
    "\n",
    "    # Tipo de empleo (Full time o part time)\n",
    "    page['SCHEDULES_AVAILABLE'] = driver.find_elements(By.XPATH, \"//i[@name='icon-light-clock']/following-sibling::h2\")[1].text\n",
    "\n",
    "    # Location by xpath using name\n",
    "    try:\n",
    "        money = driver.find_element(By.XPATH, '//i[@name=\"icon-light-money\"]/following-sibling::h2').text\n",
    "    # Append\n",
    "        page['SALARY'] = money\n",
    "        \n",
    "    except:\n",
    "        pass\n",
    "    \n",
    "    # Area laboral \n",
    "    area = driver.find_element(By.XPATH, '//i[@name=\"icon-light-cube\"]/following-sibling::h2').text\n",
    "    area = unidecode.unidecode(area)\n",
    "\n",
    "    # Append\n",
    "    page['AREA'] = area\n",
    "\n",
    "\n",
    "    # Modalidad (presencia o remoto, etc)\n",
    "    modality = driver.find_element(By.XPATH,'//i[@name=\"icon-light-office\"]/following-sibling::h2').text\n",
    "    modality = unidecode.unidecode(modality)\n",
    "    # Append\n",
    "    page['MODALITY_AVAILABLE'] = modality\n",
    "    \n",
    "    all_info['executive_jobs'].append(page) # se añade el diccionario page como un elemento de la lista all_info\n",
    "    \n",
    "   \n",
    "    \n",
    "    time.sleep(3)\n",
    "    \n",
    "driver.close()"
   ]
  },
  {
   "cell_type": "code",
   "execution_count": 159,
   "id": "e09178a0",
   "metadata": {},
   "outputs": [
    {
     "data": {
      "text/html": [
       "<div>\n",
       "<style scoped>\n",
       "    .dataframe tbody tr th:only-of-type {\n",
       "        vertical-align: middle;\n",
       "    }\n",
       "\n",
       "    .dataframe tbody tr th {\n",
       "        vertical-align: top;\n",
       "    }\n",
       "\n",
       "    .dataframe thead th {\n",
       "        text-align: right;\n",
       "    }\n",
       "</style>\n",
       "<table border=\"1\" class=\"dataframe\">\n",
       "  <thead>\n",
       "    <tr style=\"text-align: right;\">\n",
       "      <th></th>\n",
       "      <th>JOB_AVAILABLE</th>\n",
       "      <th>COMPANY</th>\n",
       "      <th>PUBLICATION_DATE</th>\n",
       "      <th>LOCATION</th>\n",
       "      <th>SCHEDULES_AVAILABLE</th>\n",
       "      <th>SALARY</th>\n",
       "      <th>AREA</th>\n",
       "      <th>MODALITY_AVAILABLE</th>\n",
       "    </tr>\n",
       "  </thead>\n",
       "  <tbody>\n",
       "    <tr>\n",
       "      <th>0</th>\n",
       "      <td>Gerente Comercial</td>\n",
       "      <td>MILLENNIALS INVESTMENTS S.A.C.</td>\n",
       "      <td>Publicado hace 5 días</td>\n",
       "      <td>Santiago de Surco, Lima, Peru</td>\n",
       "      <td>Full-time</td>\n",
       "      <td>Hasta S/.3,000 por mes</td>\n",
       "      <td>Ventas</td>\n",
       "      <td>Presencial</td>\n",
       "    </tr>\n",
       "    <tr>\n",
       "      <th>1</th>\n",
       "      <td>Gerente De Tienda Chili'S Chiclayo</td>\n",
       "      <td>CHILIS</td>\n",
       "      <td>Publicado hace más de 15 días</td>\n",
       "      <td>Chiclayo, Lambayeque, Peru</td>\n",
       "      <td>Full-time</td>\n",
       "      <td>NaN</td>\n",
       "      <td>Gastronomia</td>\n",
       "      <td>Presencial</td>\n",
       "    </tr>\n",
       "    <tr>\n",
       "      <th>2</th>\n",
       "      <td>Gerente General - Sector Textil Y Manufactura</td>\n",
       "      <td>RCS CAPITAL HUMANO</td>\n",
       "      <td>Publicado hace más de 15 días</td>\n",
       "      <td>San Juan de Lurigancho, Lima, Peru</td>\n",
       "      <td>Full-time</td>\n",
       "      <td>NaN</td>\n",
       "      <td>Gerencia / Direccion General</td>\n",
       "      <td>Presencial</td>\n",
       "    </tr>\n",
       "    <tr>\n",
       "      <th>3</th>\n",
       "      <td>Jefe De Mejora Operacional - Plazo Fijo</td>\n",
       "      <td>MINERA CHINALCO</td>\n",
       "      <td>Publicado hace más de 30 días</td>\n",
       "      <td>Morococha, Junin, Peru</td>\n",
       "      <td>Full-time</td>\n",
       "      <td>NaN</td>\n",
       "      <td>Mineria/Petroleo/Gas</td>\n",
       "      <td>Presencial</td>\n",
       "    </tr>\n",
       "    <tr>\n",
       "      <th>4</th>\n",
       "      <td>Consultor De Customer Experience</td>\n",
       "      <td>IZO PERU</td>\n",
       "      <td>Publicado hace más de 30 días</td>\n",
       "      <td>San Isidro, Lima, Peru</td>\n",
       "      <td>Full-time</td>\n",
       "      <td>NaN</td>\n",
       "      <td>Consultoria</td>\n",
       "      <td>Hibrido</td>\n",
       "    </tr>\n",
       "    <tr>\n",
       "      <th>5</th>\n",
       "      <td>Gerente De Operaciones - Sector Seguridad</td>\n",
       "      <td>BUMERAN SELECTA</td>\n",
       "      <td>Publicado hace más de 30 días</td>\n",
       "      <td>Callao, Lima, Peru</td>\n",
       "      <td>Full-time</td>\n",
       "      <td>Hasta S/.5,000 por mes</td>\n",
       "      <td>Seguridad</td>\n",
       "      <td>Hibrido</td>\n",
       "    </tr>\n",
       "    <tr>\n",
       "      <th>6</th>\n",
       "      <td>Director(A) General - Institucion Educativa</td>\n",
       "      <td>VIRTUS HEADHUNTER</td>\n",
       "      <td>Publicado ayer</td>\n",
       "      <td>San Isidro, Lima, Peru</td>\n",
       "      <td>Full-time</td>\n",
       "      <td>NaN</td>\n",
       "      <td>Gerencia / Direccion General</td>\n",
       "      <td>Presencial</td>\n",
       "    </tr>\n",
       "    <tr>\n",
       "      <th>7</th>\n",
       "      <td>Gerente Comercial</td>\n",
       "      <td>TRISUR CONSULTING GROUP S.A.C.</td>\n",
       "      <td>Publicado ayer</td>\n",
       "      <td>Lima, Lima, Peru</td>\n",
       "      <td>Full-time</td>\n",
       "      <td>NaN</td>\n",
       "      <td>Comercial</td>\n",
       "      <td>Presencial</td>\n",
       "    </tr>\n",
       "    <tr>\n",
       "      <th>8</th>\n",
       "      <td>Consultor De Customer Experience</td>\n",
       "      <td>IZO PERU</td>\n",
       "      <td>Publicado ayer</td>\n",
       "      <td>San Isidro, Lima, Peru</td>\n",
       "      <td>Full-time</td>\n",
       "      <td>NaN</td>\n",
       "      <td>Consultoria</td>\n",
       "      <td>Hibrido</td>\n",
       "    </tr>\n",
       "    <tr>\n",
       "      <th>9</th>\n",
       "      <td>Gerente General - Empresa De Alimentos En Lurin</td>\n",
       "      <td>confidencial</td>\n",
       "      <td>Publicado ayer</td>\n",
       "      <td>Lurin, Lima, Peru</td>\n",
       "      <td>Full-time</td>\n",
       "      <td>NaN</td>\n",
       "      <td>Gerencia / Direccion General</td>\n",
       "      <td>Presencial</td>\n",
       "    </tr>\n",
       "    <tr>\n",
       "      <th>10</th>\n",
       "      <td>Sub Gerente Logistico - Experiencia En Almacenes</td>\n",
       "      <td>confidencial</td>\n",
       "      <td>Publicado hace 2 días</td>\n",
       "      <td>Callao, Lima, Peru</td>\n",
       "      <td>Full-time</td>\n",
       "      <td>NaN</td>\n",
       "      <td>Almacen / Deposito / Expedicion</td>\n",
       "      <td>Presencial</td>\n",
       "    </tr>\n",
       "    <tr>\n",
       "      <th>11</th>\n",
       "      <td>Marketing En Area De Maquillajes Internacional...</td>\n",
       "      <td>confidencial</td>\n",
       "      <td>Publicado hace 2 días</td>\n",
       "      <td>San Borja, Lima, Peru</td>\n",
       "      <td>Full-time</td>\n",
       "      <td>NaN</td>\n",
       "      <td>Ventas</td>\n",
       "      <td>Hibrido</td>\n",
       "    </tr>\n",
       "    <tr>\n",
       "      <th>12</th>\n",
       "      <td>Marketing En Area De Maquillajes Internacional...</td>\n",
       "      <td>confidencial</td>\n",
       "      <td>Publicado hace 2 días</td>\n",
       "      <td>San Isidro, Lima, Peru</td>\n",
       "      <td>Full-time</td>\n",
       "      <td>NaN</td>\n",
       "      <td>Ventas</td>\n",
       "      <td>Hibrido</td>\n",
       "    </tr>\n",
       "    <tr>\n",
       "      <th>13</th>\n",
       "      <td>Ventas En Productos De Salud Y Belleza Mexican...</td>\n",
       "      <td>confidencial</td>\n",
       "      <td>Publicado hace 2 días</td>\n",
       "      <td>Miraflores, Lima, Peru</td>\n",
       "      <td>Full-time</td>\n",
       "      <td>NaN</td>\n",
       "      <td>Ventas</td>\n",
       "      <td>Hibrido</td>\n",
       "    </tr>\n",
       "    <tr>\n",
       "      <th>14</th>\n",
       "      <td>Digital Business Manager (Kam)</td>\n",
       "      <td>STEFANINI PERU S.A</td>\n",
       "      <td>Publicado hace 2 días</td>\n",
       "      <td>Lima, Lima, Peru</td>\n",
       "      <td>Full-time</td>\n",
       "      <td>NaN</td>\n",
       "      <td>Comercial</td>\n",
       "      <td>Hibrido</td>\n",
       "    </tr>\n",
       "    <tr>\n",
       "      <th>15</th>\n",
       "      <td>Gerente Comercial - Agencia De Carga</td>\n",
       "      <td>TCI CARGO GROUP S.A.C.</td>\n",
       "      <td>Publicado hace 2 días</td>\n",
       "      <td>San Isidro, Lima, Peru</td>\n",
       "      <td>Full-time</td>\n",
       "      <td>NaN</td>\n",
       "      <td>Comercial</td>\n",
       "      <td>Hibrido</td>\n",
       "    </tr>\n",
       "    <tr>\n",
       "      <th>16</th>\n",
       "      <td>Ventas En Productos De Salud Y Belleza Mexican...</td>\n",
       "      <td>confidencial</td>\n",
       "      <td>Publicado hace 2 días</td>\n",
       "      <td>Barranco, Lima, Peru</td>\n",
       "      <td>Full-time</td>\n",
       "      <td>NaN</td>\n",
       "      <td>Ventas</td>\n",
       "      <td>Hibrido</td>\n",
       "    </tr>\n",
       "    <tr>\n",
       "      <th>17</th>\n",
       "      <td>Ventas En Productos De Belleza San Borja</td>\n",
       "      <td>confidencial</td>\n",
       "      <td>Publicado hace 2 días</td>\n",
       "      <td>San Borja, Lima, Peru</td>\n",
       "      <td>Full-time</td>\n",
       "      <td>NaN</td>\n",
       "      <td>Ventas</td>\n",
       "      <td>Hibrido</td>\n",
       "    </tr>\n",
       "    <tr>\n",
       "      <th>18</th>\n",
       "      <td>Gerente Legal</td>\n",
       "      <td>CL SELECTION S.A.C.</td>\n",
       "      <td>Publicado hace 2 días</td>\n",
       "      <td>Lima, Lima, Peru</td>\n",
       "      <td>Full-time</td>\n",
       "      <td>NaN</td>\n",
       "      <td>Legal</td>\n",
       "      <td>Presencial</td>\n",
       "    </tr>\n",
       "    <tr>\n",
       "      <th>19</th>\n",
       "      <td>Ingeniero Asistente Residente Mina Subterranea</td>\n",
       "      <td>confidencial</td>\n",
       "      <td>Publicado hace 3 días</td>\n",
       "      <td>Pataz, La Libertad, Peru</td>\n",
       "      <td>Full-time</td>\n",
       "      <td>NaN</td>\n",
       "      <td>Ingenieria en Minas</td>\n",
       "      <td>Presencial</td>\n",
       "    </tr>\n",
       "  </tbody>\n",
       "</table>\n",
       "</div>"
      ],
      "text/plain": [
       "                                        JOB_AVAILABLE  \\\n",
       "0                                   Gerente Comercial   \n",
       "1                  Gerente De Tienda Chili'S Chiclayo   \n",
       "2       Gerente General - Sector Textil Y Manufactura   \n",
       "3             Jefe De Mejora Operacional - Plazo Fijo   \n",
       "4                    Consultor De Customer Experience   \n",
       "5           Gerente De Operaciones - Sector Seguridad   \n",
       "6         Director(A) General - Institucion Educativa   \n",
       "7                                   Gerente Comercial   \n",
       "8                    Consultor De Customer Experience   \n",
       "9     Gerente General - Empresa De Alimentos En Lurin   \n",
       "10   Sub Gerente Logistico - Experiencia En Almacenes   \n",
       "11  Marketing En Area De Maquillajes Internacional...   \n",
       "12  Marketing En Area De Maquillajes Internacional...   \n",
       "13  Ventas En Productos De Salud Y Belleza Mexican...   \n",
       "14                     Digital Business Manager (Kam)   \n",
       "15               Gerente Comercial - Agencia De Carga   \n",
       "16  Ventas En Productos De Salud Y Belleza Mexican...   \n",
       "17           Ventas En Productos De Belleza San Borja   \n",
       "18                                      Gerente Legal   \n",
       "19     Ingeniero Asistente Residente Mina Subterranea   \n",
       "\n",
       "                           COMPANY               PUBLICATION_DATE  \\\n",
       "0   MILLENNIALS INVESTMENTS S.A.C.          Publicado hace 5 días   \n",
       "1                           CHILIS  Publicado hace más de 15 días   \n",
       "2               RCS CAPITAL HUMANO  Publicado hace más de 15 días   \n",
       "3                  MINERA CHINALCO  Publicado hace más de 30 días   \n",
       "4                         IZO PERU  Publicado hace más de 30 días   \n",
       "5                  BUMERAN SELECTA  Publicado hace más de 30 días   \n",
       "6                VIRTUS HEADHUNTER                 Publicado ayer   \n",
       "7   TRISUR CONSULTING GROUP S.A.C.                 Publicado ayer   \n",
       "8                         IZO PERU                 Publicado ayer   \n",
       "9                     confidencial                 Publicado ayer   \n",
       "10                    confidencial          Publicado hace 2 días   \n",
       "11                    confidencial          Publicado hace 2 días   \n",
       "12                    confidencial          Publicado hace 2 días   \n",
       "13                    confidencial          Publicado hace 2 días   \n",
       "14              STEFANINI PERU S.A          Publicado hace 2 días   \n",
       "15          TCI CARGO GROUP S.A.C.          Publicado hace 2 días   \n",
       "16                    confidencial          Publicado hace 2 días   \n",
       "17                    confidencial          Publicado hace 2 días   \n",
       "18             CL SELECTION S.A.C.          Publicado hace 2 días   \n",
       "19                    confidencial          Publicado hace 3 días   \n",
       "\n",
       "                              LOCATION SCHEDULES_AVAILABLE  \\\n",
       "0        Santiago de Surco, Lima, Peru           Full-time   \n",
       "1           Chiclayo, Lambayeque, Peru           Full-time   \n",
       "2   San Juan de Lurigancho, Lima, Peru           Full-time   \n",
       "3               Morococha, Junin, Peru           Full-time   \n",
       "4               San Isidro, Lima, Peru           Full-time   \n",
       "5                   Callao, Lima, Peru           Full-time   \n",
       "6               San Isidro, Lima, Peru           Full-time   \n",
       "7                     Lima, Lima, Peru           Full-time   \n",
       "8               San Isidro, Lima, Peru           Full-time   \n",
       "9                    Lurin, Lima, Peru           Full-time   \n",
       "10                  Callao, Lima, Peru           Full-time   \n",
       "11               San Borja, Lima, Peru           Full-time   \n",
       "12              San Isidro, Lima, Peru           Full-time   \n",
       "13              Miraflores, Lima, Peru           Full-time   \n",
       "14                    Lima, Lima, Peru           Full-time   \n",
       "15              San Isidro, Lima, Peru           Full-time   \n",
       "16                Barranco, Lima, Peru           Full-time   \n",
       "17               San Borja, Lima, Peru           Full-time   \n",
       "18                    Lima, Lima, Peru           Full-time   \n",
       "19            Pataz, La Libertad, Peru           Full-time   \n",
       "\n",
       "                    SALARY                             AREA MODALITY_AVAILABLE  \n",
       "0   Hasta S/.3,000 por mes                           Ventas         Presencial  \n",
       "1                      NaN                      Gastronomia         Presencial  \n",
       "2                      NaN     Gerencia / Direccion General         Presencial  \n",
       "3                      NaN             Mineria/Petroleo/Gas         Presencial  \n",
       "4                      NaN                      Consultoria            Hibrido  \n",
       "5   Hasta S/.5,000 por mes                        Seguridad            Hibrido  \n",
       "6                      NaN     Gerencia / Direccion General         Presencial  \n",
       "7                      NaN                        Comercial         Presencial  \n",
       "8                      NaN                      Consultoria            Hibrido  \n",
       "9                      NaN     Gerencia / Direccion General         Presencial  \n",
       "10                     NaN  Almacen / Deposito / Expedicion         Presencial  \n",
       "11                     NaN                           Ventas            Hibrido  \n",
       "12                     NaN                           Ventas            Hibrido  \n",
       "13                     NaN                           Ventas            Hibrido  \n",
       "14                     NaN                        Comercial            Hibrido  \n",
       "15                     NaN                        Comercial            Hibrido  \n",
       "16                     NaN                           Ventas            Hibrido  \n",
       "17                     NaN                           Ventas            Hibrido  \n",
       "18                     NaN                            Legal         Presencial  \n",
       "19                     NaN              Ingenieria en Minas         Presencial  "
      ]
     },
     "execution_count": 159,
     "metadata": {},
     "output_type": "execute_result"
    }
   ],
   "source": [
    "data = json_normalize(all_info['executive_jobs']) # jsaon diccionario dentro de una lista\n",
    "data"
   ]
  },
  {
   "cell_type": "code",
   "execution_count": 160,
   "id": "a4884db2",
   "metadata": {
    "scrolled": true
   },
   "outputs": [],
   "source": [
    "# Export df to excel\n",
    "data.to_excel('Bumeran_jobs.xlsx')"
   ]
  },
  {
   "cell_type": "code",
   "execution_count": 161,
   "id": "1977cb16",
   "metadata": {},
   "outputs": [],
   "source": [
    "# Export df to Json\n",
    "data.to_json('Bumeran_jobs.json')"
   ]
  }
 ],
 "metadata": {
  "kernelspec": {
   "display_name": "Python 3 (ipykernel)",
   "language": "python",
   "name": "python3"
  },
  "language_info": {
   "codemirror_mode": {
    "name": "ipython",
    "version": 3
   },
   "file_extension": ".py",
   "mimetype": "text/x-python",
   "name": "python",
   "nbconvert_exporter": "python",
   "pygments_lexer": "ipython3",
   "version": "3.9.7"
  },
  "toc": {
   "base_numbering": 1,
   "nav_menu": {},
   "number_sections": true,
   "sideBar": true,
   "skip_h1_title": false,
   "title_cell": "Table of Contents",
   "title_sidebar": "Contents",
   "toc_cell": false,
   "toc_position": {},
   "toc_section_display": true,
   "toc_window_display": false
  }
 },
 "nbformat": 4,
 "nbformat_minor": 5
}
