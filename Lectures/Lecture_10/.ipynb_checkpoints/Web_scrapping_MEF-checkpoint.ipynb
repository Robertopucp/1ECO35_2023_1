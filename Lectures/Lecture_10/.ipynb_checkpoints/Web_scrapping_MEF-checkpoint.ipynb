{
 "cells": [
  {
   "cell_type": "markdown",
   "id": "511b0998",
   "metadata": {},
   "source": [
    "## Web sracpping Página web consulta amigable (MEF)\n",
    "\n"
   ]
  },
  {
   "cell_type": "code",
   "execution_count": 1,
   "id": "9ced2cdf",
   "metadata": {},
   "outputs": [],
   "source": [
    "# import main packages\n",
    "\n",
    "import re  # regex or regular expresion \n",
    "import time  ### time library\n",
    "\n",
    "from selenium import webdriver\n",
    "from selenium.webdriver.common.by import By\n",
    "from selenium.webdriver.common.keys import Keys\n",
    "from selenium.webdriver.support.ui import Select\n",
    "\n",
    "from webdriver_manager.chrome import ChromeDriverManager   ## install Chrome driver simulator\n"
   ]
  },
  {
   "cell_type": "code",
   "execution_count": 2,
   "id": "671a7e54",
   "metadata": {},
   "outputs": [
    {
     "name": "stderr",
     "output_type": "stream",
     "text": [
      "C:\\Users\\Roberto\\AppData\\Local\\Temp\\ipykernel_18880\\2185176457.py:7: DeprecationWarning: executable_path has been deprecated, please pass in a Service object\n",
      "  wd = webdriver.Chrome(\"chromedriver.exe\")\n"
     ]
    }
   ],
   "source": [
    "##############################################################################\n",
    "############# GOBIERNO NACIONAL, REGIONAL Y LOCAL (AGREGADOS) ################\n",
    "\n",
    "# Entrando a ChromeDriver (se puede descargar de https://chromedriver.chromium.org/downloads)\n",
    "# Antes de eso, chequear bien la versión del Chrome que uno tiene\n",
    "\n",
    "wd = webdriver.Chrome(\"chromedriver.exe\")\n",
    "url = \"http://apps5.mineco.gob.pe/transparencia/Navegador/default.aspx\"\n",
    "wd.get( url )\n",
    "\n",
    "wd.maximize_window()"
   ]
  },
  {
   "cell_type": "code",
   "execution_count": 4,
   "id": "7f911a4f",
   "metadata": {},
   "outputs": [
    {
     "ename": "NameError",
     "evalue": "name 'driver' is not defined",
     "output_type": "error",
     "traceback": [
      "\u001b[1;31m---------------------------------------------------------------------------\u001b[0m",
      "\u001b[1;31mNameError\u001b[0m                                 Traceback (most recent call last)",
      "Input \u001b[1;32mIn [4]\u001b[0m, in \u001b[0;36m<cell line: 2>\u001b[1;34m()\u001b[0m\n\u001b[0;32m      1\u001b[0m \u001b[38;5;66;03m# bottom año \u001b[39;00m\n\u001b[1;32m----> 2\u001b[0m idn \u001b[38;5;241m=\u001b[39m\u001b[43mdriver\u001b[49m\u001b[38;5;241m.\u001b[39mfind_element(By\u001b[38;5;241m.\u001b[39mID,\u001b[38;5;124m\"\u001b[39m\u001b[38;5;124mctl00_CPH1_DrpYear\u001b[39m\u001b[38;5;124m\"\u001b[39m)\n",
      "\u001b[1;31mNameError\u001b[0m: name 'driver' is not defined"
     ]
    }
   ],
   "source": [
    "# bottom año \n",
    "idn =driver.find_element(By.ID,\"ctl00_CPH1_DrpYear\")\n",
    "\n",
    "# Error por que el contenido estpa dentro de otra página web "
   ]
  },
  {
   "cell_type": "code",
   "execution_count": 5,
   "id": "11388519",
   "metadata": {},
   "outputs": [],
   "source": [
    "# select Frame and select year option \n",
    "\n",
    "frame = wd.find_element(By.ID,\"frame0\")\n",
    "wd.switch_to.frame(frame)\n",
    "\n",
    "time.sleep(1.5)\n",
    "\n",
    "# selecionamos el año 2016\n",
    "\n",
    "periodo = Select(wd.find_element(By.ID,\"ctl00_CPH1_DrpYear\"))\n",
    "periodo.select_by_value(str(2016))\n",
    "\n"
   ]
  },
  {
   "cell_type": "code",
   "execution_count": 6,
   "id": "5f97625c",
   "metadata": {},
   "outputs": [],
   "source": [
    "# Se debe seleccionar la pagina web interna otra avez \n",
    "\n",
    "frame = wd.find_element(By.ID,\"frame0\")\n",
    "wd.switch_to.frame(frame)"
   ]
  },
  {
   "cell_type": "code",
   "execution_count": 7,
   "id": "f650bb32",
   "metadata": {},
   "outputs": [],
   "source": [
    "# click en el tipo de gobierno \n",
    "\n",
    "niv_gob = wd.find_element(By.NAME,\"ctl00$CPH1$BtnTipoGobierno\")\n",
    "niv_gob.click()\n",
    "\n",
    "time.sleep(1.5)\n",
    "\n",
    "# Seleccion en gobierno locales\n",
    "\n",
    "wd.find_element(By.XPATH,\"//*[@id='tr0']/td[2]\").click()"
   ]
  },
  {
   "cell_type": "code",
   "execution_count": 10,
   "id": "7fe5160f",
   "metadata": {},
   "outputs": [
    {
     "name": "stderr",
     "output_type": "stream",
     "text": [
      "C:\\Users\\Roberto\\AppData\\Local\\Temp\\ipykernel_18880\\3415213529.py:2: DeprecationWarning: executable_path has been deprecated, please pass in a Service object\n",
      "  wd = webdriver.Chrome(\"chromedriver.exe\")\n"
     ]
    },
    {
     "name": "stdout",
     "output_type": "stream",
     "text": [
      "2015\n",
      "03: APURIMAC\n",
      "05: AYACUCHO\n",
      "06: CAJAMARCA\n",
      "2016\n",
      "03: APURIMAC\n",
      "05: AYACUCHO\n",
      "06: CAJAMARCA\n",
      "2017\n",
      "03: APURIMAC\n",
      "05: AYACUCHO\n",
      "06: CAJAMARCA\n",
      "2018\n",
      "03: APURIMAC\n",
      "05: AYACUCHO\n"
     ]
    },
    {
     "ename": "KeyboardInterrupt",
     "evalue": "",
     "output_type": "error",
     "traceback": [
      "\u001b[1;31m---------------------------------------------------------------------------\u001b[0m",
      "\u001b[1;31mKeyboardInterrupt\u001b[0m                         Traceback (most recent call last)",
      "Input \u001b[1;32mIn [10]\u001b[0m, in \u001b[0;36m<cell line: 5>\u001b[1;34m()\u001b[0m\n\u001b[0;32m     62\u001b[0m time\u001b[38;5;241m.\u001b[39msleep(\u001b[38;5;241m3\u001b[39m)\n\u001b[0;32m     64\u001b[0m \u001b[38;5;66;03m# Seleccionando Proyectos\u001b[39;00m\n\u001b[1;32m---> 66\u001b[0m \u001b[43mtime\u001b[49m\u001b[38;5;241;43m.\u001b[39;49m\u001b[43msleep\u001b[49m\u001b[43m(\u001b[49m\u001b[38;5;241;43m3\u001b[39;49m\u001b[43m)\u001b[49m\n\u001b[0;32m     68\u001b[0m wd\u001b[38;5;241m.\u001b[39mfind_element(By\u001b[38;5;241m.\u001b[39mID, \u001b[38;5;124m\"\u001b[39m\u001b[38;5;124mctl00_CPH1_BtnProdProy\u001b[39m\u001b[38;5;124m\"\u001b[39m)\u001b[38;5;241m.\u001b[39mclick()\n\u001b[0;32m     70\u001b[0m \u001b[38;5;66;03m# Descargando los archivos de Excel\u001b[39;00m\n",
      "\u001b[1;31mKeyboardInterrupt\u001b[0m: "
     ]
    }
   ],
   "source": [
    "\n",
    "# Preparando el bucle: Gobierno Local\n",
    "wd = webdriver.Chrome(\"chromedriver.exe\")\n",
    "wd.maximize_window()\n",
    "\n",
    "for k in range(2015, 2021): # En este caso se colocaron los años 2015 - 2021\n",
    "    wd.get(\"http://apps5.mineco.gob.pe/transparencia/Navegador/default.aspx\")\n",
    "    \n",
    "    print(k)    \n",
    "    \n",
    "    # Escogiendo el año en el desplegable (luego hacer bucle por año)\n",
    "    frame = wd.find_element(By.ID, \"frame0\")\n",
    "    wd.switch_to.frame(frame)\n",
    "    \n",
    "    periodo = Select(wd.find_element(By.ID, \"ctl00_CPH1_DrpYear\"))\n",
    "    \n",
    "    periodo.select_by_value(str(k))\n",
    "    \n",
    "    # Para escoger el nivel de gobierno que ejecuta los proyectos: Nacional\n",
    "    frame = wd.find_element(By.ID, \"frame0\")\n",
    "    wd.switch_to.frame(frame)\n",
    "    \n",
    "    niv_gob = wd.find_element(By.NAME, \"ctl00$CPH1$BtnTipoGobierno\")\n",
    "    niv_gob.click()\n",
    "    \n",
    "    time.sleep(1.5)\n",
    "    \n",
    "    gob_nac = wd.find_element(By.XPATH, \"//*[@id='tr0']/td[2]\").click()\n",
    "    \n",
    "    time.sleep(1.5)\n",
    "    \n",
    "    # Seleccionando Función (en este caso: Agropecuaria)\n",
    "    \n",
    "    wd.find_element(By.ID,  \"ctl00_CPH1_BtnFuncion\").click()\n",
    "    \n",
    "    time.sleep(2)\n",
    "    \n",
    "    # Seleccionar agropecuaria \n",
    "    \n",
    "    funcion = wd.find_element(By.XPATH, \"//*[@id='tr9']/td[1]\").click() # row 9, columna 1\n",
    "\n",
    "    time.sleep(1.5)\n",
    "    \n",
    "    # Seleccionando Función Agropecuaria (por orden alfabético)\n",
    "   \n",
    "    # Seleccionando opción de Departamento\n",
    "    dptos = wd.find_element(By.NAME,\"ctl00$CPH1$BtnDepartamentoMeta\")\n",
    "    dptos.click()\n",
    "     \n",
    "        \n",
    "    time.sleep(2)\n",
    "        \n",
    "    lista_regiones = [2, 4, 5] # En este caso se seleccionaron 3 departamentos: Apurímac, Ayacucho y Cajamarca\n",
    "\n",
    "    \n",
    "    # Preparando bucle para ir por cada departamento\n",
    "    for i in lista_regiones: \n",
    "        region = wd.find_element(By.XPATH, \"//*[@id='tr\"+str(i)+\"']/td[2]\").text # row i, columna 2\n",
    "        print(region) # Extrae el texto de la opción y lo muestra en la consola (para orden)\n",
    "        \n",
    "        wd.find_element(By.ID,\"tr\"+str(i)+\"\").click()\n",
    "              \n",
    "        time.sleep(3)\n",
    "        \n",
    "        # Seleccionando Proyectos\n",
    "        \n",
    "        time.sleep(3)\n",
    "        \n",
    "        wd.find_element(By.ID, \"ctl00_CPH1_BtnProdProy\").click()\n",
    "        \n",
    "        # Descargando los archivos de Excel\n",
    "        d_excel = wd.find_element(By.ID, \"ctl00_CPH1_lbtnExportar\").click()\n",
    "       \n",
    "        time.sleep(3)\n",
    "    \n",
    "        # Volver para cambiar de Departamento\n",
    "        otro_dep = wd.find_element(By.XPATH, '//*[@id=\"ctl00_CPH1_RptHistory_ctl04_TD0\"]')\n",
    "        otro_dep.click()\n",
    "        \n",
    "        time.sleep(3)\n",
    "        \n"
   ]
  }
 ],
 "metadata": {
  "kernelspec": {
   "display_name": "Python 3 (ipykernel)",
   "language": "python",
   "name": "python3"
  },
  "language_info": {
   "codemirror_mode": {
    "name": "ipython",
    "version": 3
   },
   "file_extension": ".py",
   "mimetype": "text/x-python",
   "name": "python",
   "nbconvert_exporter": "python",
   "pygments_lexer": "ipython3",
   "version": "3.9.7"
  }
 },
 "nbformat": 4,
 "nbformat_minor": 5
}
