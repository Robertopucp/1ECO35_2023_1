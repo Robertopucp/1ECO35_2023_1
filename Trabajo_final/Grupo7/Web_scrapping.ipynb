{
 "cells": [
  {
   "cell_type": "code",
   "execution_count": 5,
   "id": "4880308c",
   "metadata": {},
   "outputs": [
    {
     "name": "stdout",
     "output_type": "stream",
     "text": [
      "Requirement already satisfied: Selenium in /Users/mariale/anaconda3/lib/python3.10/site-packages (4.10.0)\n",
      "Requirement already satisfied: urllib3[socks]<3,>=1.26 in /Users/mariale/anaconda3/lib/python3.10/site-packages (from Selenium) (1.26.14)\n",
      "Requirement already satisfied: trio-websocket~=0.9 in /Users/mariale/anaconda3/lib/python3.10/site-packages (from Selenium) (0.10.3)\n",
      "Requirement already satisfied: trio~=0.17 in /Users/mariale/anaconda3/lib/python3.10/site-packages (from Selenium) (0.22.1)\n",
      "Requirement already satisfied: certifi>=2021.10.8 in /Users/mariale/anaconda3/lib/python3.10/site-packages (from Selenium) (2023.5.7)\n",
      "Requirement already satisfied: exceptiongroup>=1.0.0rc9 in /Users/mariale/anaconda3/lib/python3.10/site-packages (from trio~=0.17->Selenium) (1.1.2)\n",
      "Requirement already satisfied: sniffio in /Users/mariale/anaconda3/lib/python3.10/site-packages (from trio~=0.17->Selenium) (1.2.0)\n",
      "Requirement already satisfied: sortedcontainers in /Users/mariale/anaconda3/lib/python3.10/site-packages (from trio~=0.17->Selenium) (2.4.0)\n",
      "Requirement already satisfied: outcome in /Users/mariale/anaconda3/lib/python3.10/site-packages (from trio~=0.17->Selenium) (1.2.0)\n",
      "Requirement already satisfied: idna in /Users/mariale/anaconda3/lib/python3.10/site-packages (from trio~=0.17->Selenium) (3.4)\n",
      "Requirement already satisfied: attrs>=20.1.0 in /Users/mariale/anaconda3/lib/python3.10/site-packages (from trio~=0.17->Selenium) (22.1.0)\n",
      "Requirement already satisfied: wsproto>=0.14 in /Users/mariale/anaconda3/lib/python3.10/site-packages (from trio-websocket~=0.9->Selenium) (1.2.0)\n",
      "Requirement already satisfied: PySocks!=1.5.7,<2.0,>=1.5.6 in /Users/mariale/anaconda3/lib/python3.10/site-packages (from urllib3[socks]<3,>=1.26->Selenium) (1.7.1)\n",
      "Requirement already satisfied: h11<1,>=0.9.0 in /Users/mariale/anaconda3/lib/python3.10/site-packages (from wsproto>=0.14->trio-websocket~=0.9->Selenium) (0.14.0)\n",
      "zsh:1: command not found: apt-get\n",
      "The operation couldn’t be completed. Unable to locate a Java Runtime.\n",
      "Please visit http://www.java.com for information on installing Java.\n",
      "\n",
      "==> Setting up environment - Done\n"
     ]
    }
   ],
   "source": [
    "# Instalación de Selenium y Chromedriver\n",
    "import warnings\n",
    "warnings.filterwarnings('ignore')\n",
    "\n",
    "!pip install Selenium #instalar selenium \n",
    "!apt-get update #para contar con los últimos paquetes disponibles\n",
    "!apt install chromium-chromedriver # paquete que permite emular google chrome\n",
    "\n",
    "import sys \n",
    "sys.path.insert(0, '/usr/lib/chromium-browser/chromedriver') # el chrome driver es guardado en este link\n",
    "print('==> Setting up environment - Done')\n"
   ]
  },
  {
   "cell_type": "code",
   "execution_count": null,
   "id": "ceb1b150",
   "metadata": {},
   "outputs": [],
   "source": []
  },
  {
   "cell_type": "code",
   "execution_count": null,
   "id": "feb7144e",
   "metadata": {},
   "outputs": [],
   "source": []
  },
  {
   "cell_type": "code",
   "execution_count": 10,
   "id": "68a8eeb3",
   "metadata": {},
   "outputs": [
    {
     "name": "stdout",
     "output_type": "stream",
     "text": [
      "      Abstencion2000 Abstencion2001 Abstencion2006 Abstencion2007  \\\n",
      "0                  0            927            650            965   \n",
      "1                  0           1144            546            891   \n",
      "2                  0           1217            650            878   \n",
      "3                  0           1556            512            718   \n",
      "4                  0           1904            867           1254   \n",
      "...              ...            ...            ...            ...   \n",
      "13158            155            187              0              0   \n",
      "13159            528            716              0              0   \n",
      "13160            473            445            253            354   \n",
      "13161           1167           1000            897           1493   \n",
      "13162            840            758            400            705   \n",
      "\n",
      "      Abstencion2008 Abstencion2009 Abstencion2010 Abstencion2012  \\\n",
      "0                999            660            821            474   \n",
      "1               1060            773           1195            617   \n",
      "2               1015            743            853            599   \n",
      "3                792            505            619            951   \n",
      "4               1579            995           1266            854   \n",
      "...              ...            ...            ...            ...   \n",
      "13158              0              0             68             85   \n",
      "13159              0              0            177            308   \n",
      "13160            329            315            372            236   \n",
      "13161           1023            894            976            559   \n",
      "13162            645            541            687            353   \n",
      "\n",
      "      Abstencion2013 Abstencion2015  ... Votos2008 Votos2009 Votos2010  \\\n",
      "0                497            521  ...      1349      1679      1437   \n",
      "1                645            728  ...      1431      1690      1571   \n",
      "2                664            850  ...      1379      1623      1526   \n",
      "3                978           1035  ...       973      1251      1117   \n",
      "4                907           1435  ...      3354      3815      3945   \n",
      "...              ...            ...  ...       ...       ...       ...   \n",
      "13158             85            175  ...         0         0       235   \n",
      "13159            289            524  ...         0         0       638   \n",
      "13160            240            315  ...      1005      1006      1048   \n",
      "13161            534            691  ...      3363      3476      3061   \n",
      "13162            356            487  ...      2157      2247      2121   \n",
      "\n",
      "      Votos2012 Votos2013 Votos2015 win2006   Winner2006 winnerSwing OBJECTID1  \n",
      "0          1723      1700      1522     563  Oficialismo      Unidad         1  \n",
      "1          1996      1968      1570      95  Oficialismo      Unidad         2  \n",
      "2          2013      1948      1835      76  Oficialismo      Unidad         3  \n",
      "3          1990      1963      1815     313  Oficialismo      Unidad         4  \n",
      "4          4439      4386      4094   -1431       Unidad      Unidad         5  \n",
      "...         ...       ...       ...     ...          ...         ...       ...  \n",
      "13158       382       382       493                           Unidad     13159  \n",
      "13159      1157      1176      1039                           Unidad     13160  \n",
      "13160      1195      1191      1135                           Unidad     13181  \n",
      "13161      2848      2873      2689                           Unidad     13182  \n",
      "13162      2248      2245      2020                           Unidad     13183  \n",
      "\n",
      "[13163 rows x 100 columns]\n"
     ]
    }
   ],
   "source": [
    "import pandas as pd\n",
    "from selenium import webdriver\n",
    "from selenium.webdriver.chrome.service import Service\n",
    "from selenium.webdriver.common.by import By\n",
    "from selenium.webdriver.support.ui import WebDriverWait\n",
    "from selenium.webdriver.support import expected_conditions as EC\n",
    "from selenium.common.exceptions import StaleElementReferenceException\n",
    "from selenium.common.exceptions import NoSuchElementException\n",
    "\n",
    "\n",
    "# Generamos el webdriver para Chrome e indicamos el url de donde extraeremos la información\n",
    "chrome_driver_path = '/path/to/chromedriver'  # Path to the chromedriver executable\n",
    "service = Service(chrome_driver_path)\n",
    "driver = webdriver.Chrome(service=service)\n",
    "\n",
    "url = 'https://venezuela360.org/arcgis/apps/sites/#/infraestructura-geoespacial/datasets/3d0308d198ba422fbdabd2e1859eb577/data?geometry=-103.593%2C-0.931%2C-29.765%2C14.299'\n",
    "\n",
    "# Indicamos que se abra la página y espere que cargue\n",
    "driver.get(url)\n",
    "wait = WebDriverWait(driver, 10)\n",
    "\n",
    "# Definimos la función que indica cómo se deben extraer los datos\n",
    "def extract_table_data(table):\n",
    "    # Initialize a new dataframe for each table\n",
    "    table_data_frame = pd.DataFrame()\n",
    "\n",
    "    # Los nombres de las columnas de nuestro Dataframe deberán ser extraídos de la primera fila\n",
    "    column_names = [th.text.strip() for th in table.find_elements(By.TAG_NAME, 'th')]\n",
    "\n",
    "    # Para las demás filas, indicamos que extraigan y se agreguen a nuestro Dataframe\n",
    "    rows = table.find_elements(By.TAG_NAME, 'tr')\n",
    "    for row in rows[1:]:\n",
    "        # Extraemos los valores para cada fila\n",
    "        values = [td.text.strip() for td in row.find_elements(By.TAG_NAME, 'td')]\n",
    "        # Creamos un diccionario con los nombres de las columnas como llaves y los valores \n",
    "        row_data = {column: value for column, value in zip(column_names, values)}\n",
    "        # Usamos append para agregar los valores al dataframe\n",
    "        table_data_frame = table_data_frame.append(row_data, ignore_index=True)\n",
    "\n",
    "    return table_data_frame\n",
    "\n",
    "\n",
    "# Generamos el dataframe donde se colocaran los valores extraidos\n",
    "data_frame = pd.DataFrame()\n",
    "\n",
    "# Definimos la presencia del botón para pasar a la siguiente tabla e indicamos que el programa automático haga click\n",
    "next_button = WebDriverWait(driver, 10).until(EC.element_to_be_clickable((By.XPATH, '//*[@id=\"ember114\"]/nav/ul/li[13]/a')))\n",
    "\n",
    "while True:\n",
    "    try:\n",
    "        # Esperamos hasta que se pueda identificar la nueva tabla\n",
    "        wait.until(EC.presence_of_element_located((By.TAG_NAME, 'table')))\n",
    "        \n",
    "        # Indicamos que se encuentren todas las tablas en la página\n",
    "        tables = driver.find_elements(By.TAG_NAME, 'table')\n",
    "\n",
    "        # Para cada tabla encontrada, aplicamos la función definida anteriormente\n",
    "        for table in tables:\n",
    "            table_data = extract_table_data(table)\n",
    "            data_frame = data_frame.append(table_data, ignore_index=True)\n",
    "\n",
    "        # Indicamos que se encuentre el botón para pasar a la siguiente tabla\n",
    "        next_button = driver.find_element(By.XPATH, '//*[@id=\"ember114\"]/nav/ul/li[13]/a')\n",
    "        \n",
    "        if not next_button.is_enabled():\n",
    "            break\n",
    "            \n",
    "        next_button.click()\n",
    "    except StaleElementReferenceException:\n",
    "        # Esta línea permite que se vuelva a buscar el botón para pasar a la siguiente tabla en caso se encuentre con un \"stale element\"\n",
    "        next_button = driver.find_element(By.XPATH, '//*[@id=\"ember114\"]/nav/ul/li[13]/a')\n",
    "        \n",
    "    except NoSuchElementException:\n",
    "        # Esta línea indica que ante el problema de \"no such element exception\", el programa debe entender que ya no hay mas tables y debe parar. \n",
    "        break\n",
    "        \n",
    "# Detenemos el navegador\n",
    "driver.quit()\n",
    "\n",
    "# Demostramos un preview de los datos y exportamos nuestra base de datos lista\n",
    "print(data_frame)\n",
    "data_frame.to_csv('resultado_scrapping_grupo7.csv', index=False)\n"
   ]
  },
  {
   "cell_type": "code",
   "execution_count": 11,
   "id": "ed6b5f0e",
   "metadata": {},
   "outputs": [],
   "source": []
  },
  {
   "cell_type": "code",
   "execution_count": null,
   "id": "22698a81",
   "metadata": {},
   "outputs": [],
   "source": []
  },
  {
   "cell_type": "code",
   "execution_count": null,
   "id": "b3fd8a15",
   "metadata": {},
   "outputs": [],
   "source": [
    "\n"
   ]
  },
  {
   "cell_type": "code",
   "execution_count": null,
   "id": "cef0d7fc",
   "metadata": {},
   "outputs": [],
   "source": [
    "\n"
   ]
  },
  {
   "cell_type": "code",
   "execution_count": null,
   "id": "3681859d",
   "metadata": {},
   "outputs": [],
   "source": []
  },
  {
   "cell_type": "code",
   "execution_count": null,
   "id": "0dd382cd",
   "metadata": {},
   "outputs": [],
   "source": []
  },
  {
   "cell_type": "code",
   "execution_count": null,
   "id": "02d738d0",
   "metadata": {},
   "outputs": [],
   "source": []
  },
  {
   "cell_type": "code",
   "execution_count": null,
   "id": "18b02c3f",
   "metadata": {},
   "outputs": [],
   "source": []
  },
  {
   "cell_type": "code",
   "execution_count": null,
   "id": "a434a642",
   "metadata": {},
   "outputs": [],
   "source": []
  },
  {
   "cell_type": "code",
   "execution_count": null,
   "id": "093be3cf",
   "metadata": {},
   "outputs": [],
   "source": []
  },
  {
   "cell_type": "code",
   "execution_count": null,
   "id": "30f54ef6",
   "metadata": {},
   "outputs": [],
   "source": [
    "\n",
    "\n"
   ]
  },
  {
   "cell_type": "code",
   "execution_count": null,
   "id": "6d64fb40",
   "metadata": {},
   "outputs": [],
   "source": []
  },
  {
   "cell_type": "code",
   "execution_count": null,
   "id": "40ed81cc",
   "metadata": {},
   "outputs": [],
   "source": [
    "\n"
   ]
  },
  {
   "cell_type": "code",
   "execution_count": null,
   "id": "12bb8e51",
   "metadata": {},
   "outputs": [],
   "source": [
    "\n"
   ]
  },
  {
   "cell_type": "code",
   "execution_count": null,
   "id": "dc4a841d",
   "metadata": {},
   "outputs": [],
   "source": []
  },
  {
   "cell_type": "code",
   "execution_count": null,
   "id": "8f8664de",
   "metadata": {},
   "outputs": [],
   "source": []
  },
  {
   "cell_type": "code",
   "execution_count": null,
   "id": "28b50d74",
   "metadata": {},
   "outputs": [],
   "source": []
  },
  {
   "cell_type": "code",
   "execution_count": null,
   "id": "e033456e",
   "metadata": {},
   "outputs": [],
   "source": []
  }
 ],
 "metadata": {
  "kernelspec": {
   "display_name": "Python 3 (ipykernel)",
   "language": "python",
   "name": "python3"
  },
  "language_info": {
   "codemirror_mode": {
    "name": "ipython",
    "version": 3
   },
   "file_extension": ".py",
   "mimetype": "text/x-python",
   "name": "python",
   "nbconvert_exporter": "python",
   "pygments_lexer": "ipython3",
   "version": "3.10.9"
  }
 },
 "nbformat": 4,
 "nbformat_minor": 5
}
