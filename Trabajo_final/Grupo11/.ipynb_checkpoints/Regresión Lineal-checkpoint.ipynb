{
 "cells": [
  {
   "cell_type": "markdown",
   "id": "45589975",
   "metadata": {},
   "source": [
    "## Integrantes:"
   ]
  },
  {
   "cell_type": "markdown",
   "id": "a253da6a",
   "metadata": {},
   "source": [
    "- Kevin Pareja (20196318)\n",
    "\n",
    "- Elian Tongombol (20196453)\n",
    "\n",
    "- Paola Aranda (20196052)\n",
    "\n",
    "- María Alejandra Colán (20190515)"
   ]
  },
  {
   "cell_type": "code",
   "execution_count": null,
   "id": "7c6374c6",
   "metadata": {},
   "outputs": [],
   "source": []
  },
  {
   "cell_type": "markdown",
   "id": "b06e0ee7",
   "metadata": {},
   "source": [
    "###  1. Estadisticas descriptivas"
   ]
  },
  {
   "cell_type": "code",
   "execution_count": null,
   "id": "92601872",
   "metadata": {},
   "outputs": [],
   "source": []
  },
  {
   "cell_type": "markdown",
   "id": "ff7ee5d2",
   "metadata": {},
   "source": [
    "### 2. Replica de tablas"
   ]
  },
  {
   "cell_type": "code",
   "execution_count": null,
   "id": "4dd4f7cc",
   "metadata": {},
   "outputs": [],
   "source": []
  },
  {
   "cell_type": "markdown",
   "id": "0ee3d731",
   "metadata": {},
   "source": [
    "#### 2.1 Tabla 3"
   ]
  },
  {
   "cell_type": "code",
   "execution_count": null,
   "id": "e09d7343",
   "metadata": {},
   "outputs": [],
   "source": []
  },
  {
   "cell_type": "markdown",
   "id": "a4704c83",
   "metadata": {},
   "source": [
    "#### 2.2 Tabla 4"
   ]
  },
  {
   "cell_type": "code",
   "execution_count": null,
   "id": "06b0291c",
   "metadata": {},
   "outputs": [],
   "source": []
  },
  {
   "cell_type": "markdown",
   "id": "65b723ad",
   "metadata": {},
   "source": [
    "#### 2.3 Tabla 5"
   ]
  },
  {
   "cell_type": "code",
   "execution_count": null,
   "id": "5ffbda64",
   "metadata": {},
   "outputs": [],
   "source": []
  },
  {
   "cell_type": "markdown",
   "id": "959dd88a",
   "metadata": {},
   "source": [
    "#### 2.4 Tabla 6"
   ]
  },
  {
   "cell_type": "code",
   "execution_count": null,
   "id": "af283e0d",
   "metadata": {},
   "outputs": [],
   "source": []
  },
  {
   "cell_type": "markdown",
   "id": "42a85796",
   "metadata": {},
   "source": [
    "### 3. Modelo econometricos"
   ]
  },
  {
   "cell_type": "markdown",
   "id": "eb3593b1",
   "metadata": {},
   "source": [
    "#### 3.1 Tabla 3"
   ]
  },
  {
   "cell_type": "code",
   "execution_count": null,
   "id": "790b15e5",
   "metadata": {},
   "outputs": [],
   "source": []
  },
  {
   "cell_type": "markdown",
   "id": "73fc057d",
   "metadata": {},
   "source": [
    "#### 3.2 Tabla 4"
   ]
  },
  {
   "cell_type": "code",
   "execution_count": null,
   "id": "beb27b1b",
   "metadata": {},
   "outputs": [],
   "source": []
  },
  {
   "cell_type": "markdown",
   "id": "34967d86",
   "metadata": {},
   "source": [
    "#### 3.3 Tabla 5"
   ]
  },
  {
   "cell_type": "code",
   "execution_count": null,
   "id": "20abbfa6",
   "metadata": {},
   "outputs": [],
   "source": []
  },
  {
   "cell_type": "markdown",
   "id": "f27d657c",
   "metadata": {},
   "source": [
    "#### 3.4 Tabla 6"
   ]
  },
  {
   "cell_type": "code",
   "execution_count": null,
   "id": "2df6d23e",
   "metadata": {},
   "outputs": [],
   "source": []
  },
  {
   "cell_type": "markdown",
   "id": "196313ff",
   "metadata": {},
   "source": [
    "###  4. Creación de un coefplot de la tabla 4"
   ]
  },
  {
   "cell_type": "code",
   "execution_count": null,
   "id": "a58c2188",
   "metadata": {},
   "outputs": [],
   "source": []
  }
 ],
 "metadata": {
  "kernelspec": {
   "display_name": "Python 3 (ipykernel)",
   "language": "python",
   "name": "python3"
  },
  "language_info": {
   "codemirror_mode": {
    "name": "ipython",
    "version": 3
   },
   "file_extension": ".py",
   "mimetype": "text/x-python",
   "name": "python",
   "nbconvert_exporter": "python",
   "pygments_lexer": "ipython3",
   "version": "3.10.9"
  }
 },
 "nbformat": 4,
 "nbformat_minor": 5
}
