{
 "cells": [
  {
   "cell_type": "markdown",
   "id": "97590294",
   "metadata": {},
   "source": [
    "## Integrantes:"
   ]
  },
  {
   "cell_type": "markdown",
   "id": "50db5fad",
   "metadata": {},
   "source": [
    "- Kevin Pareja (20196318)\n",
    "\n",
    "- Elian Tongombol (20196453)\n",
    "\n",
    "- Paola Aranda (20196052)\n",
    "\n",
    "- María Alejandra Colán (20190515)"
   ]
  },
  {
   "cell_type": "code",
   "execution_count": 98,
   "id": "b17cb422",
   "metadata": {},
   "outputs": [],
   "source": [
    "# Importamos las librerias necesarias\n",
    "import pandas as pd \n",
    "import numpy as np\n",
    "import re \n",
    "from tqdm import tqdm  # controlar el tiempo en un loop\n",
    "import os\n",
    "\n",
    "# Librerias correspondientes al modelo de regresión lineal \n",
    "import statsmodels.api as sm  # linear regression utiliza todas las columnas de base de datos \n",
    "import statsmodels.formula.api as smf  # linear regression usa uan formula\n",
    "from sklearn import datasets, linear_model # models \n",
    "from sklearn.metrics import mean_squared_error, r2_score\n",
    "from linearmodels.iv import IV2SLS # for IV regression\n",
    "\n",
    "import warnings\n",
    "warnings.filterwarnings('ignore') # eliminar warning messages \n",
    "\n",
    "# Incluimos la libreriia que nos servía para exportar las tablas a Latex\n",
    "from pystout import pystout\n",
    "\n",
    "# Incluimos librerias de gráfico \n",
    "import matplotlib.pyplot as plt\n",
    "import seaborn as sns"
   ]
  },
  {
   "cell_type": "code",
   "execution_count": 99,
   "id": "b2a74ea6",
   "metadata": {
    "scrolled": true
   },
   "outputs": [
    {
     "data": {
      "text/html": [
       "<div>\n",
       "<style scoped>\n",
       "    .dataframe tbody tr th:only-of-type {\n",
       "        vertical-align: middle;\n",
       "    }\n",
       "\n",
       "    .dataframe tbody tr th {\n",
       "        vertical-align: top;\n",
       "    }\n",
       "\n",
       "    .dataframe thead th {\n",
       "        text-align: right;\n",
       "    }\n",
       "</style>\n",
       "<table border=\"1\" class=\"dataframe\">\n",
       "  <thead>\n",
       "    <tr style=\"text-align: right;\">\n",
       "      <th></th>\n",
       "      <th>anonid</th>\n",
       "      <th>took_fall</th>\n",
       "      <th>took_year</th>\n",
       "      <th>tookanother</th>\n",
       "      <th>numeconclass</th>\n",
       "      <th>econmajor</th>\n",
       "      <th>Major</th>\n",
       "      <th>Major_STEM</th>\n",
       "      <th>Major_Business</th>\n",
       "      <th>Major_Finance</th>\n",
       "      <th>...</th>\n",
       "      <th>ecojobs_b</th>\n",
       "      <th>ecojobs_c</th>\n",
       "      <th>ecojobs_d</th>\n",
       "      <th>ecojobs_e</th>\n",
       "      <th>ecojobs_f</th>\n",
       "      <th>ecojobs_g</th>\n",
       "      <th>ecojobs_h</th>\n",
       "      <th>major_current_a</th>\n",
       "      <th>major_current_b</th>\n",
       "      <th>survey_econmajor</th>\n",
       "    </tr>\n",
       "  </thead>\n",
       "  <tbody>\n",
       "    <tr>\n",
       "      <th>0</th>\n",
       "      <td>4.0</td>\n",
       "      <td>0.0</td>\n",
       "      <td>0.0</td>\n",
       "      <td>0.0</td>\n",
       "      <td>0.0</td>\n",
       "      <td>0.0</td>\n",
       "      <td>Mathematics - BS</td>\n",
       "      <td>1.0</td>\n",
       "      <td>0.0</td>\n",
       "      <td>0.0</td>\n",
       "      <td>...</td>\n",
       "      <td>Entrepreneur</td>\n",
       "      <td>Journalist/ Correspondent</td>\n",
       "      <td>Working for marketplace on NPR</td>\n",
       "      <td>Business consultant</td>\n",
       "      <td></td>\n",
       "      <td></td>\n",
       "      <td></td>\n",
       "      <td>Mathematics</td>\n",
       "      <td></td>\n",
       "      <td>0.0</td>\n",
       "    </tr>\n",
       "    <tr>\n",
       "      <th>1</th>\n",
       "      <td>5.0</td>\n",
       "      <td>0.0</td>\n",
       "      <td>0.0</td>\n",
       "      <td>0.0</td>\n",
       "      <td>0.0</td>\n",
       "      <td>0.0</td>\n",
       "      <td>Biological Sciences - BS</td>\n",
       "      <td>1.0</td>\n",
       "      <td>0.0</td>\n",
       "      <td>0.0</td>\n",
       "      <td>...</td>\n",
       "      <td>Tax advisor</td>\n",
       "      <td>Managerial Position</td>\n",
       "      <td></td>\n",
       "      <td></td>\n",
       "      <td></td>\n",
       "      <td></td>\n",
       "      <td></td>\n",
       "      <td>Biology</td>\n",
       "      <td></td>\n",
       "      <td>0.0</td>\n",
       "    </tr>\n",
       "    <tr>\n",
       "      <th>2</th>\n",
       "      <td>7.0</td>\n",
       "      <td>1.0</td>\n",
       "      <td>1.0</td>\n",
       "      <td>1.0</td>\n",
       "      <td>13.0</td>\n",
       "      <td>1.0</td>\n",
       "      <td>Economics w/ Fina Appl - BS</td>\n",
       "      <td>0.0</td>\n",
       "      <td>0.0</td>\n",
       "      <td>0.0</td>\n",
       "      <td>...</td>\n",
       "      <td></td>\n",
       "      <td></td>\n",
       "      <td></td>\n",
       "      <td></td>\n",
       "      <td></td>\n",
       "      <td></td>\n",
       "      <td></td>\n",
       "      <td></td>\n",
       "      <td></td>\n",
       "      <td>NaN</td>\n",
       "    </tr>\n",
       "    <tr>\n",
       "      <th>3</th>\n",
       "      <td>9.0</td>\n",
       "      <td>0.0</td>\n",
       "      <td>0.0</td>\n",
       "      <td>0.0</td>\n",
       "      <td>0.0</td>\n",
       "      <td>0.0</td>\n",
       "      <td>Journalism - BA</td>\n",
       "      <td>0.0</td>\n",
       "      <td>0.0</td>\n",
       "      <td>0.0</td>\n",
       "      <td>...</td>\n",
       "      <td></td>\n",
       "      <td></td>\n",
       "      <td></td>\n",
       "      <td></td>\n",
       "      <td></td>\n",
       "      <td></td>\n",
       "      <td></td>\n",
       "      <td>Journalism</td>\n",
       "      <td>Communications</td>\n",
       "      <td>0.0</td>\n",
       "    </tr>\n",
       "    <tr>\n",
       "      <th>4</th>\n",
       "      <td>10.0</td>\n",
       "      <td>0.0</td>\n",
       "      <td>0.0</td>\n",
       "      <td>1.0</td>\n",
       "      <td>1.0</td>\n",
       "      <td>0.0</td>\n",
       "      <td>Markets &amp; Culture - BA</td>\n",
       "      <td>0.0</td>\n",
       "      <td>0.0</td>\n",
       "      <td>0.0</td>\n",
       "      <td>...</td>\n",
       "      <td>Investment Banker</td>\n",
       "      <td></td>\n",
       "      <td></td>\n",
       "      <td></td>\n",
       "      <td></td>\n",
       "      <td></td>\n",
       "      <td></td>\n",
       "      <td>Markets and Culture</td>\n",
       "      <td>Economics</td>\n",
       "      <td>1.0</td>\n",
       "    </tr>\n",
       "    <tr>\n",
       "      <th>...</th>\n",
       "      <td>...</td>\n",
       "      <td>...</td>\n",
       "      <td>...</td>\n",
       "      <td>...</td>\n",
       "      <td>...</td>\n",
       "      <td>...</td>\n",
       "      <td>...</td>\n",
       "      <td>...</td>\n",
       "      <td>...</td>\n",
       "      <td>...</td>\n",
       "      <td>...</td>\n",
       "      <td>...</td>\n",
       "      <td>...</td>\n",
       "      <td>...</td>\n",
       "      <td>...</td>\n",
       "      <td>...</td>\n",
       "      <td>...</td>\n",
       "      <td>...</td>\n",
       "      <td>...</td>\n",
       "      <td>...</td>\n",
       "      <td>...</td>\n",
       "    </tr>\n",
       "    <tr>\n",
       "      <th>622</th>\n",
       "      <td>1386.0</td>\n",
       "      <td>0.0</td>\n",
       "      <td>0.0</td>\n",
       "      <td>0.0</td>\n",
       "      <td>0.0</td>\n",
       "      <td>0.0</td>\n",
       "      <td>Markets &amp; Culture - BA</td>\n",
       "      <td>0.0</td>\n",
       "      <td>0.0</td>\n",
       "      <td>0.0</td>\n",
       "      <td>...</td>\n",
       "      <td></td>\n",
       "      <td></td>\n",
       "      <td></td>\n",
       "      <td></td>\n",
       "      <td></td>\n",
       "      <td></td>\n",
       "      <td></td>\n",
       "      <td></td>\n",
       "      <td></td>\n",
       "      <td>NaN</td>\n",
       "    </tr>\n",
       "    <tr>\n",
       "      <th>623</th>\n",
       "      <td>1388.0</td>\n",
       "      <td>0.0</td>\n",
       "      <td>0.0</td>\n",
       "      <td>0.0</td>\n",
       "      <td>0.0</td>\n",
       "      <td>0.0</td>\n",
       "      <td>Economics w/ Fina Appl - PMJ</td>\n",
       "      <td>0.0</td>\n",
       "      <td>0.0</td>\n",
       "      <td>0.0</td>\n",
       "      <td>...</td>\n",
       "      <td></td>\n",
       "      <td></td>\n",
       "      <td></td>\n",
       "      <td></td>\n",
       "      <td></td>\n",
       "      <td></td>\n",
       "      <td></td>\n",
       "      <td>Business</td>\n",
       "      <td></td>\n",
       "      <td>0.0</td>\n",
       "    </tr>\n",
       "    <tr>\n",
       "      <th>624</th>\n",
       "      <td>1389.0</td>\n",
       "      <td>0.0</td>\n",
       "      <td>0.0</td>\n",
       "      <td>0.0</td>\n",
       "      <td>0.0</td>\n",
       "      <td>0.0</td>\n",
       "      <td>Accounting - BBA</td>\n",
       "      <td>0.0</td>\n",
       "      <td>1.0</td>\n",
       "      <td>0.0</td>\n",
       "      <td>...</td>\n",
       "      <td>Finance</td>\n",
       "      <td>Bank</td>\n",
       "      <td>Government</td>\n",
       "      <td></td>\n",
       "      <td></td>\n",
       "      <td></td>\n",
       "      <td></td>\n",
       "      <td>Economics</td>\n",
       "      <td>Public Relations</td>\n",
       "      <td>1.0</td>\n",
       "    </tr>\n",
       "    <tr>\n",
       "      <th>625</th>\n",
       "      <td>1393.0</td>\n",
       "      <td>0.0</td>\n",
       "      <td>1.0</td>\n",
       "      <td>1.0</td>\n",
       "      <td>10.0</td>\n",
       "      <td>1.0</td>\n",
       "      <td>Economics - BA</td>\n",
       "      <td>0.0</td>\n",
       "      <td>0.0</td>\n",
       "      <td>0.0</td>\n",
       "      <td>...</td>\n",
       "      <td>Professor</td>\n",
       "      <td>Economist</td>\n",
       "      <td></td>\n",
       "      <td></td>\n",
       "      <td></td>\n",
       "      <td></td>\n",
       "      <td></td>\n",
       "      <td>Entrepreneurship</td>\n",
       "      <td>Finance Economics</td>\n",
       "      <td>0.0</td>\n",
       "    </tr>\n",
       "    <tr>\n",
       "      <th>626</th>\n",
       "      <td>1396.0</td>\n",
       "      <td>0.0</td>\n",
       "      <td>0.0</td>\n",
       "      <td>0.0</td>\n",
       "      <td>0.0</td>\n",
       "      <td>0.0</td>\n",
       "      <td>Finance - BBA</td>\n",
       "      <td>0.0</td>\n",
       "      <td>0.0</td>\n",
       "      <td>1.0</td>\n",
       "      <td>...</td>\n",
       "      <td>Political position</td>\n",
       "      <td>Business</td>\n",
       "      <td></td>\n",
       "      <td></td>\n",
       "      <td></td>\n",
       "      <td></td>\n",
       "      <td></td>\n",
       "      <td>Finance</td>\n",
       "      <td>French</td>\n",
       "      <td>0.0</td>\n",
       "    </tr>\n",
       "  </tbody>\n",
       "</table>\n",
       "<p>627 rows × 49 columns</p>\n",
       "</div>"
      ],
      "text/plain": [
       "     anonid  took_fall  took_year  tookanother  numeconclass  econmajor  \\\n",
       "0       4.0        0.0        0.0          0.0           0.0        0.0   \n",
       "1       5.0        0.0        0.0          0.0           0.0        0.0   \n",
       "2       7.0        1.0        1.0          1.0          13.0        1.0   \n",
       "3       9.0        0.0        0.0          0.0           0.0        0.0   \n",
       "4      10.0        0.0        0.0          1.0           1.0        0.0   \n",
       "..      ...        ...        ...          ...           ...        ...   \n",
       "622  1386.0        0.0        0.0          0.0           0.0        0.0   \n",
       "623  1388.0        0.0        0.0          0.0           0.0        0.0   \n",
       "624  1389.0        0.0        0.0          0.0           0.0        0.0   \n",
       "625  1393.0        0.0        1.0          1.0          10.0        1.0   \n",
       "626  1396.0        0.0        0.0          0.0           0.0        0.0   \n",
       "\n",
       "                            Major  Major_STEM  Major_Business  Major_Finance  \\\n",
       "0                Mathematics - BS         1.0             0.0            0.0   \n",
       "1        Biological Sciences - BS         1.0             0.0            0.0   \n",
       "2     Economics w/ Fina Appl - BS         0.0             0.0            0.0   \n",
       "3                 Journalism - BA         0.0             0.0            0.0   \n",
       "4          Markets & Culture - BA         0.0             0.0            0.0   \n",
       "..                            ...         ...             ...            ...   \n",
       "622        Markets & Culture - BA         0.0             0.0            0.0   \n",
       "623  Economics w/ Fina Appl - PMJ         0.0             0.0            0.0   \n",
       "624              Accounting - BBA         0.0             1.0            0.0   \n",
       "625                Economics - BA         0.0             0.0            0.0   \n",
       "626                 Finance - BBA         0.0             0.0            1.0   \n",
       "\n",
       "     ...           ecojobs_b                  ecojobs_c  \\\n",
       "0    ...        Entrepreneur  Journalist/ Correspondent   \n",
       "1    ...         Tax advisor        Managerial Position   \n",
       "2    ...                                                  \n",
       "3    ...                                                  \n",
       "4    ...   Investment Banker                              \n",
       "..   ...                 ...                        ...   \n",
       "622  ...                                                  \n",
       "623  ...                                                  \n",
       "624  ...             Finance                       Bank   \n",
       "625  ...           Professor                  Economist   \n",
       "626  ...  Political position                   Business   \n",
       "\n",
       "                          ecojobs_d            ecojobs_e  ecojobs_f  \\\n",
       "0    Working for marketplace on NPR  Business consultant              \n",
       "1                                                                     \n",
       "2                                                                     \n",
       "3                                                                     \n",
       "4                                                                     \n",
       "..                              ...                  ...        ...   \n",
       "622                                                                   \n",
       "623                                                                   \n",
       "624                      Government                                   \n",
       "625                                                                   \n",
       "626                                                                   \n",
       "\n",
       "     ecojobs_g  ecojobs_h      major_current_a    major_current_b  \\\n",
       "0                                  Mathematics                      \n",
       "1                                      Biology                      \n",
       "2                                                                   \n",
       "3                                   Journalism     Communications   \n",
       "4                          Markets and Culture          Economics   \n",
       "..         ...        ...                  ...                ...   \n",
       "622                                                                 \n",
       "623                                   Business                      \n",
       "624                                  Economics   Public Relations   \n",
       "625                           Entrepreneurship  Finance Economics   \n",
       "626                                    Finance             French   \n",
       "\n",
       "     survey_econmajor  \n",
       "0                 0.0  \n",
       "1                 0.0  \n",
       "2                 NaN  \n",
       "3                 0.0  \n",
       "4                 1.0  \n",
       "..                ...  \n",
       "622               NaN  \n",
       "623               0.0  \n",
       "624               1.0  \n",
       "625               0.0  \n",
       "626               0.0  \n",
       "\n",
       "[627 rows x 49 columns]"
      ]
     },
     "execution_count": 99,
     "metadata": {},
     "output_type": "execute_result"
    }
   ],
   "source": [
    "# Cargando la base de datos correspondiente \n",
    "datos = pd.read_stata(r\"../../data/trabajo_final/replicacion/SerraPorterAEJ.dta\",\n",
    "                           convert_categoricals=False)\n",
    "datos"
   ]
  },
  {
   "cell_type": "code",
   "execution_count": 7,
   "id": "1064a365",
   "metadata": {},
   "outputs": [
    {
     "name": "stdout",
     "output_type": "stream",
     "text": [
      "<class 'pandas.core.frame.DataFrame'>\n",
      "Int64Index: 627 entries, 0 to 626\n",
      "Data columns (total 49 columns):\n",
      " #   Column            Non-Null Count  Dtype  \n",
      "---  ------            --------------  -----  \n",
      " 0   anonid            627 non-null    float32\n",
      " 1   took_fall         627 non-null    float32\n",
      " 2   took_year         627 non-null    float32\n",
      " 3   tookanother       627 non-null    float32\n",
      " 4   numeconclass      627 non-null    float32\n",
      " 5   econmajor         627 non-null    float32\n",
      " 6   Major             627 non-null    object \n",
      " 7   Major_STEM        627 non-null    float32\n",
      " 8   Major_Business    627 non-null    float32\n",
      " 9   Major_Finance     627 non-null    float32\n",
      " 10  Major_Marketing   627 non-null    float32\n",
      " 11  Major_SocSc       627 non-null    float32\n",
      " 12  Major_Arts        627 non-null    float32\n",
      " 13  Major_Comm        627 non-null    float32\n",
      " 14  Major_Hum         627 non-null    float32\n",
      " 15  female            627 non-null    float32\n",
      " 16  greek             501 non-null    float64\n",
      " 17  econ_hs           501 non-null    float32\n",
      " 18  varsity           500 non-null    float64\n",
      " 19  class_fe          570 non-null    float32\n",
      " 20  class_fe2         627 non-null    float32\n",
      " 21  yr_2016           627 non-null    float32\n",
      " 22  treatment_class   627 non-null    float32\n",
      " 23  treat2016         627 non-null    float32\n",
      " 24  female_prof       627 non-null    float32\n",
      " 25  instate           627 non-null    float32\n",
      " 26  freshman          627 non-null    float32\n",
      " 27  american          627 non-null    float32\n",
      " 28  ACumGPA           627 non-null    float64\n",
      " 29  gradePrinciples   627 non-null    float32\n",
      " 30  small_class       627 non-null    float32\n",
      " 31  grade3301         91 non-null     float32\n",
      " 32  fem2016           627 non-null    float32\n",
      " 33  femtreat16        627 non-null    float32\n",
      " 34  female_treat      627 non-null    float32\n",
      " 35  Testscore3301     80 non-null     float64\n",
      " 36  top               627 non-null    float32\n",
      " 37  surveyed          627 non-null    float32\n",
      " 38  ecojobs_a         627 non-null    object \n",
      " 39  ecojobs_b         627 non-null    object \n",
      " 40  ecojobs_c         627 non-null    object \n",
      " 41  ecojobs_d         627 non-null    object \n",
      " 42  ecojobs_e         627 non-null    object \n",
      " 43  ecojobs_f         627 non-null    object \n",
      " 44  ecojobs_g         627 non-null    object \n",
      " 45  ecojobs_h         627 non-null    object \n",
      " 46  major_current_a   627 non-null    object \n",
      " 47  major_current_b   627 non-null    object \n",
      " 48  survey_econmajor  502 non-null    float32\n",
      "dtypes: float32(34), float64(4), object(11)\n",
      "memory usage: 161.6+ KB\n"
     ]
    },
    {
     "data": {
      "text/plain": [
       "anonid              float32\n",
       "took_fall           float32\n",
       "took_year           float32\n",
       "tookanother         float32\n",
       "numeconclass        float32\n",
       "econmajor           float32\n",
       "Major                object\n",
       "Major_STEM          float32\n",
       "Major_Business      float32\n",
       "Major_Finance       float32\n",
       "Major_Marketing     float32\n",
       "Major_SocSc         float32\n",
       "Major_Arts          float32\n",
       "Major_Comm          float32\n",
       "Major_Hum           float32\n",
       "female              float32\n",
       "greek               float64\n",
       "econ_hs             float32\n",
       "varsity             float64\n",
       "class_fe            float32\n",
       "class_fe2           float32\n",
       "yr_2016             float32\n",
       "treatment_class     float32\n",
       "treat2016           float32\n",
       "female_prof         float32\n",
       "instate             float32\n",
       "freshman            float32\n",
       "american            float32\n",
       "ACumGPA             float64\n",
       "gradePrinciples     float32\n",
       "small_class         float32\n",
       "grade3301           float32\n",
       "fem2016             float32\n",
       "femtreat16          float32\n",
       "female_treat        float32\n",
       "Testscore3301       float64\n",
       "top                 float32\n",
       "surveyed            float32\n",
       "ecojobs_a            object\n",
       "ecojobs_b            object\n",
       "ecojobs_c            object\n",
       "ecojobs_d            object\n",
       "ecojobs_e            object\n",
       "ecojobs_f            object\n",
       "ecojobs_g            object\n",
       "ecojobs_h            object\n",
       "major_current_a      object\n",
       "major_current_b      object\n",
       "survey_econmajor    float32\n",
       "dtype: object"
      ]
     },
     "execution_count": 7,
     "metadata": {},
     "output_type": "execute_result"
    }
   ],
   "source": [
    "# Incluimos el resumen de los estadísticos\n",
    "datos.describe()\n",
    "\n",
    "# Analizando el tipo de variables\n",
    "datos.info() # A partir de esta información se escogerá la información solicitada\n",
    "\n",
    "datos.dtypes\n"
   ]
  },
  {
   "cell_type": "markdown",
   "id": "67c1d9e2",
   "metadata": {},
   "source": [
    "###  1. Estadisticas descriptivas"
   ]
  },
  {
   "cell_type": "code",
   "execution_count": 10,
   "id": "0a10c48a",
   "metadata": {
    "scrolled": true
   },
   "outputs": [
    {
     "data": {
      "text/html": [
       "<div>\n",
       "<style scoped>\n",
       "    .dataframe tbody tr th:only-of-type {\n",
       "        vertical-align: middle;\n",
       "    }\n",
       "\n",
       "    .dataframe tbody tr th {\n",
       "        vertical-align: top;\n",
       "    }\n",
       "\n",
       "    .dataframe thead th {\n",
       "        text-align: right;\n",
       "    }\n",
       "</style>\n",
       "<table border=\"1\" class=\"dataframe\">\n",
       "  <thead>\n",
       "    <tr style=\"text-align: right;\">\n",
       "      <th></th>\n",
       "      <th>american</th>\n",
       "      <th>instate</th>\n",
       "      <th>freshman</th>\n",
       "      <th>ACumGPA</th>\n",
       "      <th>greek</th>\n",
       "      <th>econ_hs</th>\n",
       "      <th>varsity</th>\n",
       "    </tr>\n",
       "  </thead>\n",
       "  <tbody>\n",
       "    <tr>\n",
       "      <th>0</th>\n",
       "      <td>1.0</td>\n",
       "      <td>1.0</td>\n",
       "      <td>0.0</td>\n",
       "      <td>3.267</td>\n",
       "      <td>0.0</td>\n",
       "      <td>1.0</td>\n",
       "      <td>0.0</td>\n",
       "    </tr>\n",
       "    <tr>\n",
       "      <th>1</th>\n",
       "      <td>1.0</td>\n",
       "      <td>1.0</td>\n",
       "      <td>0.0</td>\n",
       "      <td>3.358</td>\n",
       "      <td>0.0</td>\n",
       "      <td>1.0</td>\n",
       "      <td>0.0</td>\n",
       "    </tr>\n",
       "    <tr>\n",
       "      <th>2</th>\n",
       "      <td>1.0</td>\n",
       "      <td>0.0</td>\n",
       "      <td>1.0</td>\n",
       "      <td>1.775</td>\n",
       "      <td>NaN</td>\n",
       "      <td>NaN</td>\n",
       "      <td>NaN</td>\n",
       "    </tr>\n",
       "    <tr>\n",
       "      <th>3</th>\n",
       "      <td>1.0</td>\n",
       "      <td>1.0</td>\n",
       "      <td>0.0</td>\n",
       "      <td>3.654</td>\n",
       "      <td>1.0</td>\n",
       "      <td>1.0</td>\n",
       "      <td>0.0</td>\n",
       "    </tr>\n",
       "    <tr>\n",
       "      <th>4</th>\n",
       "      <td>1.0</td>\n",
       "      <td>1.0</td>\n",
       "      <td>0.0</td>\n",
       "      <td>3.000</td>\n",
       "      <td>1.0</td>\n",
       "      <td>1.0</td>\n",
       "      <td>0.0</td>\n",
       "    </tr>\n",
       "    <tr>\n",
       "      <th>...</th>\n",
       "      <td>...</td>\n",
       "      <td>...</td>\n",
       "      <td>...</td>\n",
       "      <td>...</td>\n",
       "      <td>...</td>\n",
       "      <td>...</td>\n",
       "      <td>...</td>\n",
       "    </tr>\n",
       "    <tr>\n",
       "      <th>622</th>\n",
       "      <td>1.0</td>\n",
       "      <td>0.0</td>\n",
       "      <td>1.0</td>\n",
       "      <td>2.653</td>\n",
       "      <td>NaN</td>\n",
       "      <td>NaN</td>\n",
       "      <td>NaN</td>\n",
       "    </tr>\n",
       "    <tr>\n",
       "      <th>623</th>\n",
       "      <td>0.0</td>\n",
       "      <td>0.0</td>\n",
       "      <td>1.0</td>\n",
       "      <td>3.200</td>\n",
       "      <td>0.0</td>\n",
       "      <td>0.0</td>\n",
       "      <td>0.0</td>\n",
       "    </tr>\n",
       "    <tr>\n",
       "      <th>624</th>\n",
       "      <td>0.0</td>\n",
       "      <td>0.0</td>\n",
       "      <td>1.0</td>\n",
       "      <td>3.677</td>\n",
       "      <td>0.0</td>\n",
       "      <td>0.0</td>\n",
       "      <td>1.0</td>\n",
       "    </tr>\n",
       "    <tr>\n",
       "      <th>625</th>\n",
       "      <td>0.0</td>\n",
       "      <td>0.0</td>\n",
       "      <td>1.0</td>\n",
       "      <td>3.500</td>\n",
       "      <td>0.0</td>\n",
       "      <td>0.0</td>\n",
       "      <td>0.0</td>\n",
       "    </tr>\n",
       "    <tr>\n",
       "      <th>626</th>\n",
       "      <td>1.0</td>\n",
       "      <td>0.0</td>\n",
       "      <td>1.0</td>\n",
       "      <td>4.000</td>\n",
       "      <td>1.0</td>\n",
       "      <td>1.0</td>\n",
       "      <td>0.0</td>\n",
       "    </tr>\n",
       "  </tbody>\n",
       "</table>\n",
       "<p>627 rows × 7 columns</p>\n",
       "</div>"
      ],
      "text/plain": [
       "     american  instate  freshman  ACumGPA  greek  econ_hs  varsity\n",
       "0         1.0      1.0       0.0    3.267    0.0      1.0      0.0\n",
       "1         1.0      1.0       0.0    3.358    0.0      1.0      0.0\n",
       "2         1.0      0.0       1.0    1.775    NaN      NaN      NaN\n",
       "3         1.0      1.0       0.0    3.654    1.0      1.0      0.0\n",
       "4         1.0      1.0       0.0    3.000    1.0      1.0      0.0\n",
       "..        ...      ...       ...      ...    ...      ...      ...\n",
       "622       1.0      0.0       1.0    2.653    NaN      NaN      NaN\n",
       "623       0.0      0.0       1.0    3.200    0.0      0.0      0.0\n",
       "624       0.0      0.0       1.0    3.677    0.0      0.0      1.0\n",
       "625       0.0      0.0       1.0    3.500    0.0      0.0      0.0\n",
       "626       1.0      0.0       1.0    4.000    1.0      1.0      0.0\n",
       "\n",
       "[627 rows x 7 columns]"
      ]
     },
     "execution_count": 10,
     "metadata": {},
     "output_type": "execute_result"
    }
   ],
   "source": [
    "# Seleccionamos las variables para las estadísticas descriptivas\n",
    "table1 = datos.loc[:,[\"american\", \"instate\", \"freshman\",\"ACumGPA\", \"greek\", \"econ_hs\", \"varsity\"]]\n",
    "table1 "
   ]
  },
  {
   "cell_type": "code",
   "execution_count": 11,
   "id": "41789942",
   "metadata": {
    "scrolled": false
   },
   "outputs": [
    {
     "data": {
      "text/html": [
       "<div>\n",
       "<style scoped>\n",
       "    .dataframe tbody tr th:only-of-type {\n",
       "        vertical-align: middle;\n",
       "    }\n",
       "\n",
       "    .dataframe tbody tr th {\n",
       "        vertical-align: top;\n",
       "    }\n",
       "\n",
       "    .dataframe thead th {\n",
       "        text-align: right;\n",
       "    }\n",
       "</style>\n",
       "<table border=\"1\" class=\"dataframe\">\n",
       "  <thead>\n",
       "    <tr style=\"text-align: right;\">\n",
       "      <th></th>\n",
       "      <th>american</th>\n",
       "      <th>instate</th>\n",
       "      <th>freshman</th>\n",
       "      <th>ACumGPA</th>\n",
       "      <th>greek</th>\n",
       "      <th>econ_hs</th>\n",
       "      <th>varsity</th>\n",
       "    </tr>\n",
       "  </thead>\n",
       "  <tbody>\n",
       "    <tr>\n",
       "      <th>count</th>\n",
       "      <td>627.000000</td>\n",
       "      <td>627.000000</td>\n",
       "      <td>627.000000</td>\n",
       "      <td>627.000000</td>\n",
       "      <td>501.000000</td>\n",
       "      <td>501.000000</td>\n",
       "      <td>500.000000</td>\n",
       "    </tr>\n",
       "    <tr>\n",
       "      <th>mean</th>\n",
       "      <td>0.902711</td>\n",
       "      <td>0.221691</td>\n",
       "      <td>0.864434</td>\n",
       "      <td>3.432091</td>\n",
       "      <td>0.642715</td>\n",
       "      <td>0.578842</td>\n",
       "      <td>0.072000</td>\n",
       "    </tr>\n",
       "    <tr>\n",
       "      <th>std</th>\n",
       "      <td>0.296587</td>\n",
       "      <td>0.415717</td>\n",
       "      <td>0.342602</td>\n",
       "      <td>0.435175</td>\n",
       "      <td>0.479679</td>\n",
       "      <td>0.494239</td>\n",
       "      <td>0.258747</td>\n",
       "    </tr>\n",
       "    <tr>\n",
       "      <th>min</th>\n",
       "      <td>0.000000</td>\n",
       "      <td>0.000000</td>\n",
       "      <td>0.000000</td>\n",
       "      <td>1.200000</td>\n",
       "      <td>0.000000</td>\n",
       "      <td>0.000000</td>\n",
       "      <td>0.000000</td>\n",
       "    </tr>\n",
       "    <tr>\n",
       "      <th>25%</th>\n",
       "      <td>1.000000</td>\n",
       "      <td>0.000000</td>\n",
       "      <td>1.000000</td>\n",
       "      <td>3.229000</td>\n",
       "      <td>0.000000</td>\n",
       "      <td>0.000000</td>\n",
       "      <td>0.000000</td>\n",
       "    </tr>\n",
       "    <tr>\n",
       "      <th>50%</th>\n",
       "      <td>1.000000</td>\n",
       "      <td>0.000000</td>\n",
       "      <td>1.000000</td>\n",
       "      <td>3.500000</td>\n",
       "      <td>1.000000</td>\n",
       "      <td>1.000000</td>\n",
       "      <td>0.000000</td>\n",
       "    </tr>\n",
       "    <tr>\n",
       "      <th>75%</th>\n",
       "      <td>1.000000</td>\n",
       "      <td>0.000000</td>\n",
       "      <td>1.000000</td>\n",
       "      <td>3.740000</td>\n",
       "      <td>1.000000</td>\n",
       "      <td>1.000000</td>\n",
       "      <td>0.000000</td>\n",
       "    </tr>\n",
       "    <tr>\n",
       "      <th>max</th>\n",
       "      <td>1.000000</td>\n",
       "      <td>1.000000</td>\n",
       "      <td>1.000000</td>\n",
       "      <td>4.000000</td>\n",
       "      <td>1.000000</td>\n",
       "      <td>1.000000</td>\n",
       "      <td>1.000000</td>\n",
       "    </tr>\n",
       "  </tbody>\n",
       "</table>\n",
       "</div>"
      ],
      "text/plain": [
       "         american     instate    freshman     ACumGPA       greek     econ_hs  \\\n",
       "count  627.000000  627.000000  627.000000  627.000000  501.000000  501.000000   \n",
       "mean     0.902711    0.221691    0.864434    3.432091    0.642715    0.578842   \n",
       "std      0.296587    0.415717    0.342602    0.435175    0.479679    0.494239   \n",
       "min      0.000000    0.000000    0.000000    1.200000    0.000000    0.000000   \n",
       "25%      1.000000    0.000000    1.000000    3.229000    0.000000    0.000000   \n",
       "50%      1.000000    0.000000    1.000000    3.500000    1.000000    1.000000   \n",
       "75%      1.000000    0.000000    1.000000    3.740000    1.000000    1.000000   \n",
       "max      1.000000    1.000000    1.000000    4.000000    1.000000    1.000000   \n",
       "\n",
       "          varsity  \n",
       "count  500.000000  \n",
       "mean     0.072000  \n",
       "std      0.258747  \n",
       "min      0.000000  \n",
       "25%      0.000000  \n",
       "50%      0.000000  \n",
       "75%      0.000000  \n",
       "max      1.000000  "
      ]
     },
     "execution_count": 11,
     "metadata": {},
     "output_type": "execute_result"
    }
   ],
   "source": [
    "# Realizamos la descripción de la información previamente definida\n",
    "table1.describe()"
   ]
  },
  {
   "cell_type": "code",
   "execution_count": 12,
   "id": "aa759a3e",
   "metadata": {
    "scrolled": true
   },
   "outputs": [
    {
     "data": {
      "text/html": [
       "<div>\n",
       "<style scoped>\n",
       "    .dataframe tbody tr th:only-of-type {\n",
       "        vertical-align: middle;\n",
       "    }\n",
       "\n",
       "    .dataframe tbody tr th {\n",
       "        vertical-align: top;\n",
       "    }\n",
       "\n",
       "    .dataframe thead th {\n",
       "        text-align: right;\n",
       "    }\n",
       "</style>\n",
       "<table border=\"1\" class=\"dataframe\">\n",
       "  <thead>\n",
       "    <tr style=\"text-align: right;\">\n",
       "      <th></th>\n",
       "      <th>mean</th>\n",
       "      <th>std</th>\n",
       "      <th>count</th>\n",
       "      <th>min</th>\n",
       "      <th>max</th>\n",
       "    </tr>\n",
       "  </thead>\n",
       "  <tbody>\n",
       "    <tr>\n",
       "      <th>american</th>\n",
       "      <td>0.902711</td>\n",
       "      <td>0.296587</td>\n",
       "      <td>627.0</td>\n",
       "      <td>0.0</td>\n",
       "      <td>1.0</td>\n",
       "    </tr>\n",
       "    <tr>\n",
       "      <th>instate</th>\n",
       "      <td>0.221691</td>\n",
       "      <td>0.415717</td>\n",
       "      <td>627.0</td>\n",
       "      <td>0.0</td>\n",
       "      <td>1.0</td>\n",
       "    </tr>\n",
       "    <tr>\n",
       "      <th>freshman</th>\n",
       "      <td>0.864434</td>\n",
       "      <td>0.342602</td>\n",
       "      <td>627.0</td>\n",
       "      <td>0.0</td>\n",
       "      <td>1.0</td>\n",
       "    </tr>\n",
       "    <tr>\n",
       "      <th>ACumGPA</th>\n",
       "      <td>3.432091</td>\n",
       "      <td>0.435175</td>\n",
       "      <td>627.0</td>\n",
       "      <td>1.2</td>\n",
       "      <td>4.0</td>\n",
       "    </tr>\n",
       "    <tr>\n",
       "      <th>greek</th>\n",
       "      <td>0.642715</td>\n",
       "      <td>0.479679</td>\n",
       "      <td>501.0</td>\n",
       "      <td>0.0</td>\n",
       "      <td>1.0</td>\n",
       "    </tr>\n",
       "    <tr>\n",
       "      <th>econ_hs</th>\n",
       "      <td>0.578842</td>\n",
       "      <td>0.494239</td>\n",
       "      <td>501.0</td>\n",
       "      <td>0.0</td>\n",
       "      <td>1.0</td>\n",
       "    </tr>\n",
       "    <tr>\n",
       "      <th>varsity</th>\n",
       "      <td>0.072000</td>\n",
       "      <td>0.258747</td>\n",
       "      <td>500.0</td>\n",
       "      <td>0.0</td>\n",
       "      <td>1.0</td>\n",
       "    </tr>\n",
       "  </tbody>\n",
       "</table>\n",
       "</div>"
      ],
      "text/plain": [
       "              mean       std  count  min  max\n",
       "american  0.902711  0.296587  627.0  0.0  1.0\n",
       "instate   0.221691  0.415717  627.0  0.0  1.0\n",
       "freshman  0.864434  0.342602  627.0  0.0  1.0\n",
       "ACumGPA   3.432091  0.435175  627.0  1.2  4.0\n",
       "greek     0.642715  0.479679  501.0  0.0  1.0\n",
       "econ_hs   0.578842  0.494239  501.0  0.0  1.0\n",
       "varsity   0.072000  0.258747  500.0  0.0  1.0"
      ]
     },
     "execution_count": 12,
     "metadata": {},
     "output_type": "execute_result"
    }
   ],
   "source": [
    "# Realizamos una tabla resumen que contenga información sobre:  (mean, sd, min, max, count) \n",
    "# posteriormene transponemos la tabla\n",
    "summary_table = table1.describe().loc[[\"mean\",\"std\",\"count\",\"min\",\"max\"]].T\n",
    "summary_table"
   ]
  },
  {
   "cell_type": "code",
   "execution_count": 13,
   "id": "337f3eed",
   "metadata": {
    "scrolled": true
   },
   "outputs": [
    {
     "data": {
      "text/plain": [
       "Index(['american', 'instate', 'freshman', 'ACumGPA', 'greek', 'econ_hs',\n",
       "       'varsity'],\n",
       "      dtype='object')"
      ]
     },
     "execution_count": 13,
     "metadata": {},
     "output_type": "execute_result"
    }
   ],
   "source": [
    "# Consideramos el nombre de cada colmuna para su posterior modificación\n",
    "table1.columns"
   ]
  },
  {
   "cell_type": "code",
   "execution_count": 14,
   "id": "0dc8522f",
   "metadata": {
    "scrolled": true
   },
   "outputs": [
    {
     "data": {
      "text/plain": [
       "{'american': 'Estudiante americano',\n",
       " 'instate': 'Estudiante in-state',\n",
       " 'freshman': 'Estudiante es de primer año',\n",
       " 'ACumGPA': 'GPA acumulado',\n",
       " 'greek': 'Estudiante pertenece a una fraternidad o sororidad',\n",
       " 'econ_hs': 'Estudiante llevó Economía en High School',\n",
       " 'varsity': 'Estudiante es un atleta'}"
      ]
     },
     "execution_count": 14,
     "metadata": {},
     "output_type": "execute_result"
    }
   ],
   "source": [
    "# Cambiando los nombres\n",
    "table1.columns\n",
    "\n",
    "new_names = [\"Estudiante americano\",\n",
    "             \"Estudiante in-state\",\n",
    "             \"Estudiante es de primer año\",\n",
    "             \"GPA acumulado\",\n",
    "             \"Estudiante pertenece a una fraternidad o sororidad\",\n",
    "             \"Estudiante llevó Economía en High School\",\n",
    "             \"Estudiante es un atleta\"]\n",
    "# Realizamos la unión de la estrcutra bajo un diccionario\n",
    "dict( zip( table1.columns, new_names) )"
   ]
  },
  {
   "cell_type": "code",
   "execution_count": 15,
   "id": "7bcc38f5",
   "metadata": {
    "scrolled": true
   },
   "outputs": [
    {
     "data": {
      "text/html": [
       "<div>\n",
       "<style scoped>\n",
       "    .dataframe tbody tr th:only-of-type {\n",
       "        vertical-align: middle;\n",
       "    }\n",
       "\n",
       "    .dataframe tbody tr th {\n",
       "        vertical-align: top;\n",
       "    }\n",
       "\n",
       "    .dataframe thead th {\n",
       "        text-align: right;\n",
       "    }\n",
       "</style>\n",
       "<table border=\"1\" class=\"dataframe\">\n",
       "  <thead>\n",
       "    <tr style=\"text-align: right;\">\n",
       "      <th></th>\n",
       "      <th>Mean</th>\n",
       "      <th>Standard Deviation</th>\n",
       "      <th>Observations</th>\n",
       "      <th>Min</th>\n",
       "      <th>Max</th>\n",
       "    </tr>\n",
       "  </thead>\n",
       "  <tbody>\n",
       "    <tr>\n",
       "      <th>Estudiante americano</th>\n",
       "      <td>0.902711</td>\n",
       "      <td>0.296587</td>\n",
       "      <td>627.0</td>\n",
       "      <td>0.0</td>\n",
       "      <td>1.0</td>\n",
       "    </tr>\n",
       "    <tr>\n",
       "      <th>Estudiante in-state</th>\n",
       "      <td>0.221691</td>\n",
       "      <td>0.415717</td>\n",
       "      <td>627.0</td>\n",
       "      <td>0.0</td>\n",
       "      <td>1.0</td>\n",
       "    </tr>\n",
       "    <tr>\n",
       "      <th>Estudiante es de primer año</th>\n",
       "      <td>0.864434</td>\n",
       "      <td>0.342602</td>\n",
       "      <td>627.0</td>\n",
       "      <td>0.0</td>\n",
       "      <td>1.0</td>\n",
       "    </tr>\n",
       "    <tr>\n",
       "      <th>GPA acumulado</th>\n",
       "      <td>3.432091</td>\n",
       "      <td>0.435175</td>\n",
       "      <td>627.0</td>\n",
       "      <td>1.2</td>\n",
       "      <td>4.0</td>\n",
       "    </tr>\n",
       "    <tr>\n",
       "      <th>Estudiante pertenece a una fraternidad o sororidad</th>\n",
       "      <td>0.642715</td>\n",
       "      <td>0.479679</td>\n",
       "      <td>501.0</td>\n",
       "      <td>0.0</td>\n",
       "      <td>1.0</td>\n",
       "    </tr>\n",
       "    <tr>\n",
       "      <th>Estudiante llevó Economía en High School</th>\n",
       "      <td>0.578842</td>\n",
       "      <td>0.494239</td>\n",
       "      <td>501.0</td>\n",
       "      <td>0.0</td>\n",
       "      <td>1.0</td>\n",
       "    </tr>\n",
       "    <tr>\n",
       "      <th>Estudiante es un atleta</th>\n",
       "      <td>0.072000</td>\n",
       "      <td>0.258747</td>\n",
       "      <td>500.0</td>\n",
       "      <td>0.0</td>\n",
       "      <td>1.0</td>\n",
       "    </tr>\n",
       "  </tbody>\n",
       "</table>\n",
       "</div>"
      ],
      "text/plain": [
       "                                                        Mean  \\\n",
       "Estudiante americano                                0.902711   \n",
       "Estudiante in-state                                 0.221691   \n",
       "Estudiante es de primer año                         0.864434   \n",
       "GPA acumulado                                       3.432091   \n",
       "Estudiante pertenece a una fraternidad o sororidad  0.642715   \n",
       "Estudiante llevó Economía en High School            0.578842   \n",
       "Estudiante es un atleta                             0.072000   \n",
       "\n",
       "                                                    Standard Deviation  \\\n",
       "Estudiante americano                                          0.296587   \n",
       "Estudiante in-state                                           0.415717   \n",
       "Estudiante es de primer año                                   0.342602   \n",
       "GPA acumulado                                                 0.435175   \n",
       "Estudiante pertenece a una fraternidad o sororidad            0.479679   \n",
       "Estudiante llevó Economía en High School                      0.494239   \n",
       "Estudiante es un atleta                                       0.258747   \n",
       "\n",
       "                                                    Observations  Min  Max  \n",
       "Estudiante americano                                       627.0  0.0  1.0  \n",
       "Estudiante in-state                                        627.0  0.0  1.0  \n",
       "Estudiante es de primer año                                627.0  0.0  1.0  \n",
       "GPA acumulado                                              627.0  1.2  4.0  \n",
       "Estudiante pertenece a una fraternidad o sororidad         501.0  0.0  1.0  \n",
       "Estudiante llevó Economía en High School                   501.0  0.0  1.0  \n",
       "Estudiante es un atleta                                    500.0  0.0  1.0  "
      ]
     },
     "execution_count": 15,
     "metadata": {},
     "output_type": "execute_result"
    }
   ],
   "source": [
    "# Optimizando la tabla de estadísticas descriptivas\n",
    "nuevos_nombres = dict( zip( table1.columns, new_names) )\n",
    "\n",
    "columns_nuevos_nombres = {\n",
    "    \"mean\": \"Mean\",\n",
    "    \"std\": \"Standard Deviation\",\n",
    "    \"count\": \"Observations\",\n",
    "    \"min\": \"Min\",\n",
    "    \"max\": \"Max\"}\n",
    "\n",
    "# Ahora la tabla tiene nuevos nombres tando de columnas como de filas\n",
    "summary_table.rename(index=nuevos_nombres, columns=columns_nuevos_nombres, inplace=True)\n",
    "summary_table"
   ]
  },
  {
   "cell_type": "code",
   "execution_count": 16,
   "id": "ef98bdd9",
   "metadata": {},
   "outputs": [],
   "source": [
    "# Exportamos a Latex\n",
    "summary_table.style.format(subset=\"Mean\", precision=2).format(subset=\"Standard Deviation\", precision=2)\\\n",
    ".format(subset=\"Observations\", precision=0).format(subset=\"Min\", precision=0).format(subset=\"Max\", precision=0)\\\n",
    ".to_latex(\n",
    "    r\"..\\..\\trabajo_final\\Grupo11\\Tabla_ED.tex\",\n",
    "caption=\"Descriptive Statistics\",\n",
    "    column_format = \"lccc\" \n",
    ")"
   ]
  },
  {
   "cell_type": "markdown",
   "id": "26273589",
   "metadata": {},
   "source": [
    "### 2. Replica de tablas"
   ]
  },
  {
   "cell_type": "markdown",
   "id": "c1e8fa54",
   "metadata": {},
   "source": [
    "#### 2.1 Tabla 3"
   ]
  },
  {
   "cell_type": "code",
   "execution_count": 42,
   "id": "385291b9",
   "metadata": {
    "scrolled": true
   },
   "outputs": [
    {
     "name": "stdout",
     "output_type": "stream",
     "text": [
      "                            OLS Regression Results                            \n",
      "==============================================================================\n",
      "Dep. Variable:              took_year   R-squared:                       0.008\n",
      "Model:                            OLS   Adj. R-squared:                  0.003\n",
      "Method:                 Least Squares   F-statistic:                     16.50\n",
      "Date:                Thu, 13 Jul 2023   Prob (F-statistic):           0.000220\n",
      "Time:                        21:27:01   Log-Likelihood:                -211.88\n",
      "No. Observations:                 627   AIC:                             431.8\n",
      "Df Residuals:                     623   BIC:                             449.5\n",
      "Df Model:                           3                                         \n",
      "Covariance Type:              cluster                                         \n",
      "===================================================================================\n",
      "                      coef    std err          z      P>|z|      [0.025      0.975]\n",
      "-----------------------------------------------------------------------------------\n",
      "Intercept           0.1474      0.014     10.307      0.000       0.119       0.175\n",
      "treat2016           0.1150      0.038      3.048      0.002       0.041       0.189\n",
      "yr_2016            -0.0401      0.027     -1.487      0.137      -0.093       0.013\n",
      "treatment_class    -0.0377      0.025     -1.480      0.139      -0.088       0.012\n",
      "==============================================================================\n",
      "Omnibus:                      248.008   Durbin-Watson:                   2.128\n",
      "Prob(Omnibus):                  0.000   Jarque-Bera (JB):              645.527\n",
      "Skew:                           2.124   Prob(JB):                    6.69e-141\n",
      "Kurtosis:                       5.582   Cond. No.                         6.63\n",
      "==============================================================================\n",
      "\n",
      "Notes:\n",
      "[1] Standard Errors are robust to cluster correlation (cluster)\n"
     ]
    }
   ],
   "source": [
    "# NO consideramos variables de control para el modelo 1\n",
    "model1_3= \"took_year ~ treat2016 + yr_2016 + treatment_class\"\n",
    "\n",
    "ols_model1 = smf.ols(model1_3, data=datos).fit(cov_type='cluster', cov_kwds={'groups': datos['class_fe2']})\n",
    "\n",
    "print(ols_model1.summary())"
   ]
  },
  {
   "cell_type": "code",
   "execution_count": 43,
   "id": "9cf9e927",
   "metadata": {},
   "outputs": [
    {
     "data": {
      "text/plain": [
       "'female_prof + instate + freshman + american + ACumGPA + gradePrinciples + small_class'"
      ]
     },
     "execution_count": 43,
     "metadata": {},
     "output_type": "execute_result"
    }
   ],
   "source": [
    "# Considerando variables de control\n",
    "control_vars = [\"female_prof\", \"instate\", \"freshman\", \"american\", \"ACumGPA\", \"gradePrinciples\",\"small_class\"]\n",
    "' + '.join( control_vars )"
   ]
  },
  {
   "cell_type": "code",
   "execution_count": 44,
   "id": "e017c584",
   "metadata": {},
   "outputs": [
    {
     "data": {
      "text/plain": [
       "'took_year ~ treat2016 + yr_2016 + treatment_class + female_prof + instate + freshman + american + ACumGPA + gradePrinciples + small_class'"
      ]
     },
     "execution_count": 44,
     "metadata": {},
     "output_type": "execute_result"
    }
   ],
   "source": [
    "# Tenemos la formula con las variables de control para el modelo 2\n",
    "formula_model2_3 = \"took_year ~ treat2016 + yr_2016 + treatment_class + \" + ' + '.join( control_vars )\n",
    "formula_model2_3"
   ]
  },
  {
   "cell_type": "code",
   "execution_count": 45,
   "id": "9f4aae75",
   "metadata": {
    "scrolled": true
   },
   "outputs": [
    {
     "name": "stdout",
     "output_type": "stream",
     "text": [
      "                            OLS Regression Results                            \n",
      "==============================================================================\n",
      "Dep. Variable:              took_year   R-squared:                       0.035\n",
      "Model:                            OLS   Adj. R-squared:                  0.020\n",
      "Method:                 Least Squares   F-statistic:                     12.67\n",
      "Date:                Thu, 13 Jul 2023   Prob (F-statistic):           0.000114\n",
      "Time:                        21:27:05   Log-Likelihood:                -203.16\n",
      "No. Observations:                 627   AIC:                             428.3\n",
      "Df Residuals:                     616   BIC:                             477.2\n",
      "Df Model:                          10                                         \n",
      "Covariance Type:              cluster                                         \n",
      "===================================================================================\n",
      "                      coef    std err          z      P>|z|      [0.025      0.975]\n",
      "-----------------------------------------------------------------------------------\n",
      "Intercept           0.3720      0.099      3.757      0.000       0.178       0.566\n",
      "treat2016           0.1122      0.041      2.704      0.007       0.031       0.194\n",
      "yr_2016            -0.0486      0.030     -1.610      0.107      -0.108       0.011\n",
      "treatment_class    -0.0473      0.016     -2.920      0.003      -0.079      -0.016\n",
      "female_prof         0.0357      0.033      1.068      0.285      -0.030       0.101\n",
      "instate            -0.0032      0.027     -0.118      0.906      -0.056       0.050\n",
      "freshman            0.0149      0.039      0.378      0.706      -0.062       0.092\n",
      "american           -0.1402      0.062     -2.250      0.024      -0.262      -0.018\n",
      "ACumGPA            -0.0846      0.046     -1.857      0.063      -0.174       0.005\n",
      "gradePrinciples     0.0600      0.021      2.827      0.005       0.018       0.102\n",
      "small_class        -0.0440      0.025     -1.755      0.079      -0.093       0.005\n",
      "==============================================================================\n",
      "Omnibus:                      237.806   Durbin-Watson:                   2.135\n",
      "Prob(Omnibus):                  0.000   Jarque-Bera (JB):              598.324\n",
      "Skew:                           2.045   Prob(JB):                    1.19e-130\n",
      "Kurtosis:                       5.485   Cond. No.                         49.5\n",
      "==============================================================================\n",
      "\n",
      "Notes:\n",
      "[1] Standard Errors are robust to cluster correlation (cluster)\n"
     ]
    }
   ],
   "source": [
    "# Realizando la estimación\n",
    "ols_model2 = smf.ols(formula_model2_3, data=datos).fit(cov_type='cluster', cov_kwds={'groups': datos['class_fe2']})\n",
    "print(ols_model2.summary())"
   ]
  },
  {
   "cell_type": "code",
   "execution_count": 46,
   "id": "57e60f33",
   "metadata": {
    "scrolled": true
   },
   "outputs": [
    {
     "name": "stdout",
     "output_type": "stream",
     "text": [
      "                            OLS Regression Results                            \n",
      "==============================================================================\n",
      "Dep. Variable:            tookanother   R-squared:                       0.010\n",
      "Model:                            OLS   Adj. R-squared:                  0.006\n",
      "Method:                 Least Squares   F-statistic:                     10.04\n",
      "Date:                Thu, 13 Jul 2023   Prob (F-statistic):            0.00176\n",
      "Time:                        21:27:11   Log-Likelihood:                -330.66\n",
      "No. Observations:                 627   AIC:                             669.3\n",
      "Df Residuals:                     623   BIC:                             687.1\n",
      "Df Model:                           3                                         \n",
      "Covariance Type:              cluster                                         \n",
      "===================================================================================\n",
      "                      coef    std err          z      P>|z|      [0.025      0.975]\n",
      "-----------------------------------------------------------------------------------\n",
      "Intercept           0.2372      0.018     13.285      0.000       0.202       0.272\n",
      "treat2016           0.1576      0.046      3.452      0.001       0.068       0.247\n",
      "yr_2016            -0.0620      0.016     -3.801      0.000      -0.094      -0.030\n",
      "treatment_class    -0.0482      0.019     -2.527      0.012      -0.086      -0.011\n",
      "==============================================================================\n",
      "Omnibus:                      118.202   Durbin-Watson:                   1.905\n",
      "Prob(Omnibus):                  0.000   Jarque-Bera (JB):              191.693\n",
      "Skew:                           1.353   Prob(JB):                     2.37e-42\n",
      "Kurtosis:                       2.894   Cond. No.                         6.63\n",
      "==============================================================================\n",
      "\n",
      "Notes:\n",
      "[1] Standard Errors are robust to cluster correlation (cluster)\n"
     ]
    }
   ],
   "source": [
    "# NO consideramos variables de control para el modelo 3\n",
    "model3_3= \"tookanother ~ treat2016 + yr_2016 + treatment_class\"\n",
    "ols_model3 = smf.ols(model3_3, data=datos).fit(cov_type='cluster', cov_kwds={'groups': datos['class_fe2']})\n",
    "print(ols_model3.summary())"
   ]
  },
  {
   "cell_type": "code",
   "execution_count": 47,
   "id": "4dd8f21f",
   "metadata": {},
   "outputs": [
    {
     "data": {
      "text/plain": [
       "'tookanother ~ treat2016 + yr_2016 + treatment_class + female_prof + instate + freshman + american + ACumGPA + gradePrinciples + small_class'"
      ]
     },
     "execution_count": 47,
     "metadata": {},
     "output_type": "execute_result"
    }
   ],
   "source": [
    "# Tenemos la formula con las variables de control para el modelo 4\n",
    "formula_model4_3 = \"tookanother ~ treat2016 + yr_2016 + treatment_class + \" + ' + '.join( control_vars )\n",
    "formula_model4_3"
   ]
  },
  {
   "cell_type": "code",
   "execution_count": 49,
   "id": "4cbe69f7",
   "metadata": {
    "scrolled": false
   },
   "outputs": [
    {
     "name": "stdout",
     "output_type": "stream",
     "text": [
      "                            OLS Regression Results                            \n",
      "==============================================================================\n",
      "Dep. Variable:            tookanother   R-squared:                       0.049\n",
      "Model:                            OLS   Adj. R-squared:                  0.034\n",
      "Method:                 Least Squares   F-statistic:                     6.235\n",
      "Date:                Thu, 13 Jul 2023   Prob (F-statistic):            0.00281\n",
      "Time:                        21:27:21   Log-Likelihood:                -318.16\n",
      "No. Observations:                 627   AIC:                             658.3\n",
      "Df Residuals:                     616   BIC:                             707.2\n",
      "Df Model:                          10                                         \n",
      "Covariance Type:              cluster                                         \n",
      "===================================================================================\n",
      "                      coef    std err          z      P>|z|      [0.025      0.975]\n",
      "-----------------------------------------------------------------------------------\n",
      "Intercept           0.8032      0.176      4.558      0.000       0.458       1.149\n",
      "treat2016           0.1389      0.052      2.679      0.007       0.037       0.240\n",
      "yr_2016            -0.0668      0.025     -2.713      0.007      -0.115      -0.019\n",
      "treatment_class    -0.0615      0.020     -3.037      0.002      -0.101      -0.022\n",
      "female_prof         0.0231      0.032      0.718      0.473      -0.040       0.086\n",
      "instate            -0.0192      0.046     -0.417      0.676      -0.109       0.071\n",
      "freshman           -0.0154      0.050     -0.310      0.757      -0.113       0.082\n",
      "american           -0.2090      0.076     -2.740      0.006      -0.358      -0.060\n",
      "ACumGPA            -0.1370      0.056     -2.435      0.015      -0.247      -0.027\n",
      "gradePrinciples     0.0420      0.027      1.584      0.113      -0.010       0.094\n",
      "small_class        -0.0669      0.025     -2.729      0.006      -0.115      -0.019\n",
      "==============================================================================\n",
      "Omnibus:                      110.999   Durbin-Watson:                   1.928\n",
      "Prob(Omnibus):                  0.000   Jarque-Bera (JB):              174.915\n",
      "Skew:                           1.294   Prob(JB):                     1.04e-38\n",
      "Kurtosis:                       2.986   Cond. No.                         49.5\n",
      "==============================================================================\n",
      "\n",
      "Notes:\n",
      "[1] Standard Errors are robust to cluster correlation (cluster)\n"
     ]
    }
   ],
   "source": [
    "# Realizando la estimación\n",
    "ols_model4= smf.ols(formula_model4_3, data=datos).fit(cov_type='cluster', cov_kwds={'groups': datos['class_fe2']})\n",
    "print(ols_model4.summary())"
   ]
  },
  {
   "cell_type": "markdown",
   "id": "83e16d4c",
   "metadata": {},
   "source": [
    "##### Proceso de exportación a latex"
   ]
  },
  {
   "cell_type": "code",
   "execution_count": 90,
   "id": "7006da5a",
   "metadata": {},
   "outputs": [
    {
     "data": {
      "text/plain": [
       "{'treat2016': 'Treatment class x 2016',\n",
       " 'yr_2016': 'Year 2016',\n",
       " 'treatment_class': 'Treatment class (in 2015)',\n",
       " 'Intercept': 'Intercepto'}"
      ]
     },
     "execution_count": 90,
     "metadata": {},
     "output_type": "execute_result"
    }
   ],
   "source": [
    "# Lista de explicativa a mostrarse en la tabla\n",
    "explicativas = ['treat2016','yr_2016','treatment_class', 'Intercept']\n",
    "\n",
    "# etiquetas a las variables \n",
    "etiquetas = ['Treatment class x 2016','Year 2016','Treatment class (in 2015)', 'Intercepto']\n",
    "\n",
    "labels = dict(zip(explicativas,etiquetas))\n",
    "labels "
   ]
  },
  {
   "cell_type": "code",
   "execution_count": 93,
   "id": "31c3c16e",
   "metadata": {},
   "outputs": [],
   "source": [
    "# Exportando datos\n",
    "pystout(models = [ols_model1,ols_model2,ols_model3,ols_model4], file=r\"..\\..\\trabajo_final\\Grupo11\\Table_3.tex\", digits=3,\n",
    "        endog_names=['Took Micro within year', 'Took Micro within year','Took another econclass','Took another econ class'],\n",
    "        exogvars =explicativas ,  # sellecionamos las variables \n",
    "        varlabels = labels,  # etiquetas a las variables\n",
    "        modstat={'nobs':'Observarions'}, # estadísticos \n",
    "        addrows={'Controls':['No','Yes','No','yes']},\n",
    "        addnotes=['Nivel de significancia:',\n",
    "                  '* Significantly different from zero at 90 percent confidence.',\n",
    "                  '** Significantly different from zero at 95 percent confidence.',\n",
    "                  '*** Significantly different from zero at 99 percent confidence.'],\n",
    "        title='Treatment Effects on Intermediate Outcomes',\n",
    "        stars={.1:'*',.05:'**',.01:'***'}\n",
    "       )"
   ]
  },
  {
   "cell_type": "markdown",
   "id": "e3152b4d",
   "metadata": {},
   "source": [
    "#### 2.2 Tabla 4"
   ]
  },
  {
   "cell_type": "code",
   "execution_count": 50,
   "id": "a13659c1",
   "metadata": {
    "scrolled": true
   },
   "outputs": [
    {
     "name": "stdout",
     "output_type": "stream",
     "text": [
      "                            OLS Regression Results                            \n",
      "==============================================================================\n",
      "Dep. Variable:           numeconclass   R-squared:                       0.006\n",
      "Model:                            OLS   Adj. R-squared:                  0.001\n",
      "Method:                 Least Squares   F-statistic:                     3.964\n",
      "Date:                Thu, 13 Jul 2023   Prob (F-statistic):             0.0385\n",
      "Time:                        21:27:29   Log-Likelihood:                -1505.4\n",
      "No. Observations:                 627   AIC:                             3019.\n",
      "Df Residuals:                     623   BIC:                             3037.\n",
      "Df Model:                           3                                         \n",
      "Covariance Type:              cluster                                         \n",
      "===================================================================================\n",
      "                      coef    std err          z      P>|z|      [0.025      0.975]\n",
      "-----------------------------------------------------------------------------------\n",
      "Intercept           1.0256      0.112      9.192      0.000       0.807       1.244\n",
      "treat2016           0.6916      0.220      3.146      0.002       0.261       1.122\n",
      "yr_2016            -0.1725      0.137     -1.260      0.208      -0.441       0.096\n",
      "treatment_class    -0.1293      0.185     -0.700      0.484      -0.491       0.233\n",
      "==============================================================================\n",
      "Omnibus:                      386.942   Durbin-Watson:                   2.084\n",
      "Prob(Omnibus):                  0.000   Jarque-Bera (JB):             2357.666\n",
      "Skew:                           2.900   Prob(JB):                         0.00\n",
      "Kurtosis:                      10.523   Cond. No.                         6.63\n",
      "==============================================================================\n",
      "\n",
      "Notes:\n",
      "[1] Standard Errors are robust to cluster correlation (cluster)\n"
     ]
    }
   ],
   "source": [
    "# NO consideramos variables de control para el modelo 1\n",
    "model1_4= \"numeconclass ~ treat2016 + yr_2016 + treatment_class\"\n",
    "\n",
    "ols_model1 = smf.ols(model1_4, data=datos).fit(cov_type='cluster', cov_kwds={'groups': datos['class_fe2']})\n",
    "\n",
    "print(ols_model1.summary())"
   ]
  },
  {
   "cell_type": "code",
   "execution_count": 51,
   "id": "ffada541",
   "metadata": {
    "scrolled": true
   },
   "outputs": [
    {
     "data": {
      "text/plain": [
       "'numeconclass ~ treat2016 + yr_2016 + treatment_class + female_prof + instate + freshman + american + ACumGPA + gradePrinciples + small_class'"
      ]
     },
     "execution_count": 51,
     "metadata": {},
     "output_type": "execute_result"
    }
   ],
   "source": [
    "# Tenemos la formula con las variables de control para el modelo 2\n",
    "formula_model2_4 = \"numeconclass ~ treat2016 + yr_2016 + treatment_class + \" + ' + '.join( control_vars )\n",
    "formula_model2_4"
   ]
  },
  {
   "cell_type": "code",
   "execution_count": 52,
   "id": "4513c480",
   "metadata": {},
   "outputs": [
    {
     "name": "stdout",
     "output_type": "stream",
     "text": [
      "                            OLS Regression Results                            \n",
      "==============================================================================\n",
      "Dep. Variable:           numeconclass   R-squared:                       0.064\n",
      "Model:                            OLS   Adj. R-squared:                  0.049\n",
      "Method:                 Least Squares   F-statistic:                     30.57\n",
      "Date:                Thu, 13 Jul 2023   Prob (F-statistic):           1.37e-06\n",
      "Time:                        21:27:37   Log-Likelihood:                -1486.6\n",
      "No. Observations:                 627   AIC:                             2995.\n",
      "Df Residuals:                     616   BIC:                             3044.\n",
      "Df Model:                          10                                         \n",
      "Covariance Type:              cluster                                         \n",
      "===================================================================================\n",
      "                      coef    std err          z      P>|z|      [0.025      0.975]\n",
      "-----------------------------------------------------------------------------------\n",
      "Intercept           5.8037      1.266      4.585      0.000       3.323       8.285\n",
      "treat2016           0.5220      0.256      2.035      0.042       0.019       1.025\n",
      "yr_2016            -0.1890      0.201     -0.942      0.346      -0.583       0.204\n",
      "treatment_class    -0.2058      0.196     -1.052      0.293      -0.589       0.178\n",
      "female_prof         0.0300      0.269      0.112      0.911      -0.497       0.557\n",
      "instate             0.0103      0.188      0.055      0.956      -0.358       0.379\n",
      "freshman           -0.1340      0.376     -0.356      0.722      -0.872       0.604\n",
      "american           -1.6778      0.461     -3.636      0.000      -2.582      -0.773\n",
      "ACumGPA            -1.2725      0.426     -2.985      0.003      -2.108      -0.437\n",
      "gradePrinciples     0.4540      0.195      2.322      0.020       0.071       0.837\n",
      "small_class        -0.3618      0.248     -1.459      0.145      -0.848       0.124\n",
      "==============================================================================\n",
      "Omnibus:                      352.556   Durbin-Watson:                   2.126\n",
      "Prob(Omnibus):                  0.000   Jarque-Bera (JB):             1868.524\n",
      "Skew:                           2.635   Prob(JB):                         0.00\n",
      "Kurtosis:                       9.614   Cond. No.                         49.5\n",
      "==============================================================================\n",
      "\n",
      "Notes:\n",
      "[1] Standard Errors are robust to cluster correlation (cluster)\n"
     ]
    }
   ],
   "source": [
    "# Realizando la estimación\n",
    "ols_model2 = smf.ols(formula_model2_4, data=datos).fit(cov_type='cluster', cov_kwds={'groups': datos['class_fe2']})\n",
    "print(ols_model2.summary())"
   ]
  },
  {
   "cell_type": "code",
   "execution_count": 53,
   "id": "e07c305c",
   "metadata": {},
   "outputs": [
    {
     "name": "stdout",
     "output_type": "stream",
     "text": [
      "                            OLS Regression Results                            \n",
      "==============================================================================\n",
      "Dep. Variable:              econmajor   R-squared:                       0.009\n",
      "Model:                            OLS   Adj. R-squared:                  0.005\n",
      "Method:                 Least Squares   F-statistic:                     6.719\n",
      "Date:                Thu, 13 Jul 2023   Prob (F-statistic):            0.00770\n",
      "Time:                        21:27:45   Log-Likelihood:                -133.19\n",
      "No. Observations:                 627   AIC:                             274.4\n",
      "Df Residuals:                     623   BIC:                             292.1\n",
      "Df Model:                           3                                         \n",
      "Covariance Type:              cluster                                         \n",
      "===================================================================================\n",
      "                      coef    std err          z      P>|z|      [0.025      0.975]\n",
      "-----------------------------------------------------------------------------------\n",
      "Intercept           0.1026      0.011      9.218      0.000       0.081       0.124\n",
      "treat2016           0.0980      0.029      3.411      0.001       0.042       0.154\n",
      "yr_2016            -0.0235      0.022     -1.055      0.291      -0.067       0.020\n",
      "treatment_class    -0.0233      0.026     -0.909      0.363      -0.074       0.027\n",
      "==============================================================================\n",
      "Omnibus:                      333.730   Durbin-Watson:                   2.090\n",
      "Prob(Omnibus):                  0.000   Jarque-Bera (JB):             1367.152\n",
      "Skew:                           2.622   Prob(JB):                    1.34e-297\n",
      "Kurtosis:                       7.983   Cond. No.                         6.63\n",
      "==============================================================================\n",
      "\n",
      "Notes:\n",
      "[1] Standard Errors are robust to cluster correlation (cluster)\n"
     ]
    }
   ],
   "source": [
    "# NO consideramos variables de control para el modelo 3\n",
    "model3_4= \"econmajor ~ treat2016 + yr_2016 + treatment_class\"\n",
    "ols_model3 = smf.ols(model3_4, data=datos).fit(cov_type='cluster', cov_kwds={'groups': datos['class_fe2']})\n",
    "print(ols_model3.summary())"
   ]
  },
  {
   "cell_type": "code",
   "execution_count": 55,
   "id": "0bbfc03b",
   "metadata": {},
   "outputs": [
    {
     "data": {
      "text/plain": [
       "'econmajor ~ treat2016 + yr_2016 + treatment_class + female_prof + instate + freshman + american + ACumGPA + gradePrinciples + small_class'"
      ]
     },
     "execution_count": 55,
     "metadata": {},
     "output_type": "execute_result"
    }
   ],
   "source": [
    "# Tenemos la formula con las variables de control para el modelo 4\n",
    "formula_model4_4 = \"econmajor ~ treat2016 + yr_2016 + treatment_class + \" + ' + '.join( control_vars )\n",
    "formula_model4_4"
   ]
  },
  {
   "cell_type": "code",
   "execution_count": 56,
   "id": "9bc3aca7",
   "metadata": {
    "scrolled": true
   },
   "outputs": [
    {
     "name": "stdout",
     "output_type": "stream",
     "text": [
      "                            OLS Regression Results                            \n",
      "==============================================================================\n",
      "Dep. Variable:              econmajor   R-squared:                       0.055\n",
      "Model:                            OLS   Adj. R-squared:                  0.040\n",
      "Method:                 Least Squares   F-statistic:                     8.543\n",
      "Date:                Thu, 13 Jul 2023   Prob (F-statistic):           0.000714\n",
      "Time:                        21:27:56   Log-Likelihood:                -118.28\n",
      "No. Observations:                 627   AIC:                             258.6\n",
      "Df Residuals:                     616   BIC:                             307.4\n",
      "Df Model:                          10                                         \n",
      "Covariance Type:              cluster                                         \n",
      "===================================================================================\n",
      "                      coef    std err          z      P>|z|      [0.025      0.975]\n",
      "-----------------------------------------------------------------------------------\n",
      "Intercept           0.5105      0.158      3.229      0.001       0.201       0.820\n",
      "treat2016           0.0801      0.036      2.197      0.028       0.009       0.152\n",
      "yr_2016            -0.0277      0.030     -0.922      0.357      -0.087       0.031\n",
      "treatment_class    -0.0301      0.024     -1.238      0.216      -0.078       0.018\n",
      "female_prof         0.0209      0.034      0.605      0.545      -0.047       0.088\n",
      "instate             0.0136      0.030      0.449      0.653      -0.046       0.073\n",
      "freshman            0.0076      0.030      0.255      0.798      -0.051       0.066\n",
      "american           -0.1912      0.060     -3.162      0.002      -0.310      -0.073\n",
      "ACumGPA            -0.1099      0.039     -2.806      0.005      -0.187      -0.033\n",
      "gradePrinciples     0.0455      0.020      2.306      0.021       0.007       0.084\n",
      "small_class        -0.0295      0.030     -0.986      0.324      -0.088       0.029\n",
      "==============================================================================\n",
      "Omnibus:                      315.277   Durbin-Watson:                   2.116\n",
      "Prob(Omnibus):                  0.000   Jarque-Bera (JB):             1227.222\n",
      "Skew:                           2.467   Prob(JB):                    3.25e-267\n",
      "Kurtosis:                       7.757   Cond. No.                         49.5\n",
      "==============================================================================\n",
      "\n",
      "Notes:\n",
      "[1] Standard Errors are robust to cluster correlation (cluster)\n"
     ]
    }
   ],
   "source": [
    "# Realizando la estimación\n",
    "ols_model4 = smf.ols(formula_model4_4, data=datos).fit(cov_type='cluster', cov_kwds={'groups': datos['class_fe2']})\n",
    "print(ols_model4.summary())"
   ]
  },
  {
   "cell_type": "markdown",
   "id": "19033daf",
   "metadata": {},
   "source": [
    "##### Proceso de exportación a latex"
   ]
  },
  {
   "cell_type": "code",
   "execution_count": 94,
   "id": "1742fb05",
   "metadata": {},
   "outputs": [],
   "source": [
    "# Exportando datos\n",
    "pystout(models = [ols_model1,ols_model2,ols_model3,ols_model4], file=r\"..\\..\\trabajo_final\\Grupo11\\Table_4.tex\", digits=3,\n",
    "        endog_names=['Number of econ classes taken','Number of econ classes taken','Major in economics','Major in economics'],\n",
    "        exogvars =explicativas ,  # sellecionamos las variables \n",
    "        varlabels = labels,  # etiquetas a las variables\n",
    "        modstat={'nobs':'Observarions'}, # estadísticos \n",
    "        addrows={'Controls':['No','Yes','No','yes']},\n",
    "        addnotes=['Nivel de significancia:',\n",
    "                  '* Significantly different from zero at 90 percent confidence.',\n",
    "                  '** Significantly different from zero at 95 percent confidence.',\n",
    "                  '*** Significantly different from zero at 99 percent confidence.'],\n",
    "        title='Treatment Effects on Intermediate Outcomes',\n",
    "        stars={.1:'*',.05:'**',.01:'***'}\n",
    "       )"
   ]
  },
  {
   "cell_type": "markdown",
   "id": "55cfeabc",
   "metadata": {},
   "source": [
    "#### 2.3 Tabla 5"
   ]
  },
  {
   "cell_type": "code",
   "execution_count": 57,
   "id": "2bf70d72",
   "metadata": {},
   "outputs": [
    {
     "data": {
      "text/plain": [
       "'Major_STEM ~ treat2016 + yr_2016 + treatment_class + female_prof + instate + freshman + american + ACumGPA + gradePrinciples + small_class'"
      ]
     },
     "execution_count": 57,
     "metadata": {},
     "output_type": "execute_result"
    }
   ],
   "source": [
    "# Tenemos la formula con las variables de control para el modelo 1\n",
    "formula_model1_5 = \"Major_STEM ~ treat2016 + yr_2016 + treatment_class + \" + ' + '.join( control_vars )\n",
    "formula_model1_5"
   ]
  },
  {
   "cell_type": "code",
   "execution_count": 58,
   "id": "f37c5590",
   "metadata": {},
   "outputs": [
    {
     "name": "stdout",
     "output_type": "stream",
     "text": [
      "                            OLS Regression Results                            \n",
      "==============================================================================\n",
      "Dep. Variable:             Major_STEM   R-squared:                       0.030\n",
      "Model:                            OLS   Adj. R-squared:                  0.014\n",
      "Method:                 Least Squares   F-statistic:                     6.932\n",
      "Date:                Thu, 13 Jul 2023   Prob (F-statistic):            0.00179\n",
      "Time:                        21:28:10   Log-Likelihood:                -159.54\n",
      "No. Observations:                 627   AIC:                             341.1\n",
      "Df Residuals:                     616   BIC:                             389.9\n",
      "Df Model:                          10                                         \n",
      "Covariance Type:              cluster                                         \n",
      "===================================================================================\n",
      "                      coef    std err          z      P>|z|      [0.025      0.975]\n",
      "-----------------------------------------------------------------------------------\n",
      "Intercept           0.2453      0.142      1.728      0.084      -0.033       0.524\n",
      "treat2016           0.0134      0.074      0.182      0.856      -0.131       0.158\n",
      "yr_2016             0.0027      0.044      0.061      0.951      -0.084       0.090\n",
      "treatment_class    -0.0051      0.038     -0.136      0.892      -0.079       0.069\n",
      "female_prof        -0.0089      0.024     -0.374      0.708      -0.056       0.038\n",
      "instate             0.0308      0.035      0.891      0.373      -0.037       0.098\n",
      "freshman           -0.1419      0.050     -2.845      0.004      -0.240      -0.044\n",
      "american           -0.0678      0.055     -1.237      0.216      -0.175       0.040\n",
      "ACumGPA             0.0089      0.027      0.333      0.739      -0.043       0.061\n",
      "gradePrinciples     0.0043      0.023      0.190      0.849      -0.040       0.049\n",
      "small_class         0.0192      0.052      0.369      0.712      -0.083       0.121\n",
      "==============================================================================\n",
      "Omnibus:                      291.393   Durbin-Watson:                   1.943\n",
      "Prob(Omnibus):                  0.000   Jarque-Bera (JB):              964.417\n",
      "Skew:                           2.351   Prob(JB):                    3.80e-210\n",
      "Kurtosis:                       6.849   Cond. No.                         49.5\n",
      "==============================================================================\n",
      "\n",
      "Notes:\n",
      "[1] Standard Errors are robust to cluster correlation (cluster)\n"
     ]
    }
   ],
   "source": [
    "# Realizando la estimación\n",
    "ols_model1 = smf.ols(formula_model1_5, data=datos).fit(cov_type='cluster', cov_kwds={'groups': datos['class_fe2']})\n",
    "print(ols_model1.summary())"
   ]
  },
  {
   "cell_type": "code",
   "execution_count": 71,
   "id": "c2804732",
   "metadata": {},
   "outputs": [
    {
     "data": {
      "text/plain": [
       "'Major_Business ~ treat2016 + yr_2016 + treatment_class + female_prof + instate + freshman + american + ACumGPA + gradePrinciples + small_class'"
      ]
     },
     "execution_count": 71,
     "metadata": {},
     "output_type": "execute_result"
    }
   ],
   "source": [
    "# Tenemos la formula con las variables de control para el modelo 2\n",
    "formula_model2_5 = \"Major_Business ~ treat2016 + yr_2016 + treatment_class + \" + ' + '.join( control_vars )\n",
    "formula_model2_5"
   ]
  },
  {
   "cell_type": "code",
   "execution_count": 72,
   "id": "232eeebe",
   "metadata": {},
   "outputs": [
    {
     "name": "stdout",
     "output_type": "stream",
     "text": [
      "                            OLS Regression Results                            \n",
      "==============================================================================\n",
      "Dep. Variable:         Major_Business   R-squared:                       0.022\n",
      "Model:                            OLS   Adj. R-squared:                  0.007\n",
      "Method:                 Least Squares   F-statistic:                     78.36\n",
      "Date:                Thu, 13 Jul 2023   Prob (F-statistic):           9.36e-09\n",
      "Time:                        21:30:38   Log-Likelihood:                -319.96\n",
      "No. Observations:                 627   AIC:                             661.9\n",
      "Df Residuals:                     616   BIC:                             710.8\n",
      "Df Model:                          10                                         \n",
      "Covariance Type:              cluster                                         \n",
      "===================================================================================\n",
      "                      coef    std err          z      P>|z|      [0.025      0.975]\n",
      "-----------------------------------------------------------------------------------\n",
      "Intercept          -0.1535      0.214     -0.718      0.473      -0.573       0.265\n",
      "treat2016           0.0258      0.066      0.391      0.696      -0.104       0.155\n",
      "yr_2016            -0.0054      0.057     -0.095      0.924      -0.118       0.107\n",
      "treatment_class    -0.0305      0.034     -0.893      0.372      -0.097       0.036\n",
      "female_prof         0.0201      0.021      0.942      0.346      -0.022       0.062\n",
      "instate            -0.0037      0.021     -0.175      0.861      -0.046       0.038\n",
      "freshman            0.0243      0.030      0.811      0.417      -0.034       0.083\n",
      "american           -0.0431      0.068     -0.637      0.524      -0.176       0.090\n",
      "ACumGPA             0.0967      0.079      1.225      0.221      -0.058       0.251\n",
      "gradePrinciples     0.0137      0.036      0.383      0.702      -0.056       0.084\n",
      "small_class         0.0450      0.030      1.500      0.134      -0.014       0.104\n",
      "==============================================================================\n",
      "Omnibus:                      119.613   Durbin-Watson:                   1.994\n",
      "Prob(Omnibus):                  0.000   Jarque-Bera (JB):              195.271\n",
      "Skew:                           1.367   Prob(JB):                     3.96e-43\n",
      "Kurtosis:                       2.986   Cond. No.                         49.5\n",
      "==============================================================================\n",
      "\n",
      "Notes:\n",
      "[1] Standard Errors are robust to cluster correlation (cluster)\n"
     ]
    }
   ],
   "source": [
    "# Realizando la estimación\n",
    "ols_model2 = smf.ols(formula_model2_5, data=datos).fit(cov_type='cluster', cov_kwds={'groups': datos['class_fe2']})\n",
    "print(ols_model2.summary())"
   ]
  },
  {
   "cell_type": "code",
   "execution_count": 73,
   "id": "c0407f61",
   "metadata": {},
   "outputs": [
    {
     "data": {
      "text/plain": [
       "'Major_Finance ~ treat2016 + yr_2016 + treatment_class + female_prof + instate + freshman + american + ACumGPA + gradePrinciples + small_class'"
      ]
     },
     "execution_count": 73,
     "metadata": {},
     "output_type": "execute_result"
    }
   ],
   "source": [
    "# Tenemos la formula con las variables de control para el modelo 3\n",
    "formula_model3_5 = \"Major_Finance ~ treat2016 + yr_2016 + treatment_class + \" + ' + '.join( control_vars )\n",
    "formula_model3_5"
   ]
  },
  {
   "cell_type": "code",
   "execution_count": 74,
   "id": "a904ce08",
   "metadata": {},
   "outputs": [
    {
     "name": "stdout",
     "output_type": "stream",
     "text": [
      "                            OLS Regression Results                            \n",
      "==============================================================================\n",
      "Dep. Variable:          Major_Finance   R-squared:                       0.052\n",
      "Model:                            OLS   Adj. R-squared:                  0.036\n",
      "Method:                 Least Squares   F-statistic:                     61.41\n",
      "Date:                Thu, 13 Jul 2023   Prob (F-statistic):           3.46e-08\n",
      "Time:                        21:30:47   Log-Likelihood:                -224.50\n",
      "No. Observations:                 627   AIC:                             471.0\n",
      "Df Residuals:                     616   BIC:                             519.8\n",
      "Df Model:                          10                                         \n",
      "Covariance Type:              cluster                                         \n",
      "===================================================================================\n",
      "                      coef    std err          z      P>|z|      [0.025      0.975]\n",
      "-----------------------------------------------------------------------------------\n",
      "Intercept          -0.3188      0.149     -2.140      0.032      -0.611      -0.027\n",
      "treat2016           0.0782      0.050      1.553      0.120      -0.020       0.177\n",
      "yr_2016            -0.0573      0.032     -1.796      0.073      -0.120       0.005\n",
      "treatment_class    -0.0371      0.043     -0.869      0.385      -0.121       0.047\n",
      "female_prof         0.0268      0.032      0.839      0.402      -0.036       0.090\n",
      "instate            -0.0110      0.059     -0.188      0.851      -0.126       0.104\n",
      "freshman            0.1323      0.037      3.605      0.000       0.060       0.204\n",
      "american            0.0241      0.050      0.478      0.633      -0.075       0.123\n",
      "ACumGPA             0.0726      0.047      1.536      0.125      -0.020       0.165\n",
      "gradePrinciples     0.0346      0.020      1.714      0.087      -0.005       0.074\n",
      "small_class        -0.0212      0.033     -0.633      0.527      -0.087       0.044\n",
      "==============================================================================\n",
      "Omnibus:                      194.256   Durbin-Watson:                   1.946\n",
      "Prob(Omnibus):                  0.000   Jarque-Bera (JB):              402.931\n",
      "Skew:                           1.802   Prob(JB):                     3.20e-88\n",
      "Kurtosis:                       4.562   Cond. No.                         49.5\n",
      "==============================================================================\n",
      "\n",
      "Notes:\n",
      "[1] Standard Errors are robust to cluster correlation (cluster)\n"
     ]
    }
   ],
   "source": [
    "# Realizando la estimación\n",
    "ols_model3 = smf.ols(formula_model3_5, data=datos).fit(cov_type='cluster', cov_kwds={'groups': datos['class_fe2']})\n",
    "print(ols_model3.summary())"
   ]
  },
  {
   "cell_type": "code",
   "execution_count": 75,
   "id": "df04f2ee",
   "metadata": {},
   "outputs": [
    {
     "data": {
      "text/plain": [
       "'Major_Marketing ~ treat2016 + yr_2016 + treatment_class + female_prof + instate + freshman + american + ACumGPA + gradePrinciples + small_class'"
      ]
     },
     "execution_count": 75,
     "metadata": {},
     "output_type": "execute_result"
    }
   ],
   "source": [
    "# Tenemos la formula con las variables de control para el modelo 4\n",
    "formula_model4_5 = \"Major_Marketing ~ treat2016 + yr_2016 + treatment_class + \" + ' + '.join( control_vars )\n",
    "formula_model4_5"
   ]
  },
  {
   "cell_type": "code",
   "execution_count": 76,
   "id": "1a1c070f",
   "metadata": {
    "scrolled": true
   },
   "outputs": [
    {
     "name": "stdout",
     "output_type": "stream",
     "text": [
      "                            OLS Regression Results                            \n",
      "==============================================================================\n",
      "Dep. Variable:        Major_Marketing   R-squared:                       0.037\n",
      "Model:                            OLS   Adj. R-squared:                  0.022\n",
      "Method:                 Least Squares   F-statistic:                     305.1\n",
      "Date:                Thu, 13 Jul 2023   Prob (F-statistic):           5.81e-12\n",
      "Time:                        21:30:52   Log-Likelihood:                -199.30\n",
      "No. Observations:                 627   AIC:                             420.6\n",
      "Df Residuals:                     616   BIC:                             469.5\n",
      "Df Model:                          10                                         \n",
      "Covariance Type:              cluster                                         \n",
      "===================================================================================\n",
      "                      coef    std err          z      P>|z|      [0.025      0.975]\n",
      "-----------------------------------------------------------------------------------\n",
      "Intercept          -0.2548      0.093     -2.754      0.006      -0.436      -0.073\n",
      "treat2016          -0.0176      0.066     -0.265      0.791      -0.147       0.112\n",
      "yr_2016             0.0286      0.030      0.969      0.333      -0.029       0.087\n",
      "treatment_class     0.0370      0.031      1.184      0.236      -0.024       0.098\n",
      "female_prof         0.0519      0.011      4.722      0.000       0.030       0.074\n",
      "instate            -0.0600      0.032     -1.885      0.059      -0.122       0.002\n",
      "freshman            0.0498      0.027      1.832      0.067      -0.003       0.103\n",
      "american            0.1126      0.037      3.075      0.002       0.041       0.184\n",
      "ACumGPA             0.0467      0.043      1.082      0.279      -0.038       0.131\n",
      "gradePrinciples     0.0154      0.016      0.963      0.335      -0.016       0.047\n",
      "small_class        -0.0274      0.026     -1.064      0.287      -0.078       0.023\n",
      "==============================================================================\n",
      "Omnibus:                      235.760   Durbin-Watson:                   2.002\n",
      "Prob(Omnibus):                  0.000   Jarque-Bera (JB):              586.628\n",
      "Skew:                           2.035   Prob(JB):                    4.12e-128\n",
      "Kurtosis:                       5.425   Cond. No.                         49.5\n",
      "==============================================================================\n",
      "\n",
      "Notes:\n",
      "[1] Standard Errors are robust to cluster correlation (cluster)\n"
     ]
    }
   ],
   "source": [
    "# Realizando la estimación\n",
    "ols_model4 = smf.ols(formula_model4_5, data=datos).fit(cov_type='cluster', cov_kwds={'groups': datos['class_fe2']})\n",
    "print(ols_model4.summary())"
   ]
  },
  {
   "cell_type": "markdown",
   "id": "047b4b9b",
   "metadata": {},
   "source": [
    "##### Proceso de exportación a latex"
   ]
  },
  {
   "cell_type": "code",
   "execution_count": 95,
   "id": "bbdce639",
   "metadata": {},
   "outputs": [],
   "source": [
    "# Exportando datos\n",
    "pystout(models = [ols_model1,ols_model2,ols_model3,ols_model4], file=r\"..\\..\\trabajo_final\\Grupo11\\Table_5.tex\", digits=3,\n",
    "        endog_names=['Major STEM','Major busines','Major finance','Major marketing'],\n",
    "        exogvars =explicativas ,  # sellecionamos las variables \n",
    "        varlabels = labels,  # etiquetas a las variables\n",
    "        modstat={'nobs':'Observarions'}, # estadísticos \n",
    "        addrows={'Controls':['No','Yes','No','yes']},\n",
    "        addnotes=['Nivel de significancia:',\n",
    "                  '* Significantly different from zero at 90 percent confidence.',\n",
    "                  '** Significantly different from zero at 95 percent confidence.',\n",
    "                  '*** Significantly different from zero at 99 percent confidence.'],\n",
    "        title='Treatment Effects on Intermediate Outcomes',\n",
    "        stars={.1:'*',.05:'**',.01:'***'}\n",
    "       )\n"
   ]
  },
  {
   "cell_type": "markdown",
   "id": "5b886c8a",
   "metadata": {},
   "source": [
    "#### 2.4 Tabla 6"
   ]
  },
  {
   "cell_type": "code",
   "execution_count": 77,
   "id": "0090c50e",
   "metadata": {},
   "outputs": [
    {
     "data": {
      "text/plain": [
       "'Major_SocSc ~ treat2016 + yr_2016 + treatment_class + female_prof + instate + freshman + american + ACumGPA + gradePrinciples + small_class'"
      ]
     },
     "execution_count": 77,
     "metadata": {},
     "output_type": "execute_result"
    }
   ],
   "source": [
    "# Tenemos la formula con las variables de control para el modelo 1\n",
    "formula_model1_6 = \"Major_SocSc ~ treat2016 + yr_2016 + treatment_class + \" + ' + '.join( control_vars )\n",
    "formula_model1_6"
   ]
  },
  {
   "cell_type": "code",
   "execution_count": 78,
   "id": "4896aa0a",
   "metadata": {},
   "outputs": [
    {
     "name": "stdout",
     "output_type": "stream",
     "text": [
      "                            OLS Regression Results                            \n",
      "==============================================================================\n",
      "Dep. Variable:            Major_SocSc   R-squared:                       0.078\n",
      "Model:                            OLS   Adj. R-squared:                  0.063\n",
      "Method:                 Least Squares   F-statistic:                     1483.\n",
      "Date:                Thu, 13 Jul 2023   Prob (F-statistic):           9.97e-16\n",
      "Time:                        21:31:04   Log-Likelihood:                -131.82\n",
      "No. Observations:                 627   AIC:                             285.6\n",
      "Df Residuals:                     616   BIC:                             334.5\n",
      "Df Model:                          10                                         \n",
      "Covariance Type:              cluster                                         \n",
      "===================================================================================\n",
      "                      coef    std err          z      P>|z|      [0.025      0.975]\n",
      "-----------------------------------------------------------------------------------\n",
      "Intercept           0.6238      0.156      3.996      0.000       0.318       0.930\n",
      "treat2016          -0.0062      0.053     -0.118      0.906      -0.110       0.097\n",
      "yr_2016            -0.0230      0.036     -0.635      0.526      -0.094       0.048\n",
      "treatment_class    -0.0369      0.035     -1.062      0.288      -0.105       0.031\n",
      "female_prof        -0.0359      0.017     -2.068      0.039      -0.070      -0.002\n",
      "instate            -0.0278      0.026     -1.064      0.287      -0.079       0.023\n",
      "freshman           -0.0780      0.038     -2.075      0.038      -0.152      -0.004\n",
      "american            0.0896      0.039      2.294      0.022       0.013       0.166\n",
      "ACumGPA            -0.1105      0.046     -2.408      0.016      -0.200      -0.021\n",
      "gradePrinciples    -0.0298      0.025     -1.185      0.236      -0.079       0.020\n",
      "small_class        -0.0193      0.028     -0.686      0.493      -0.074       0.036\n",
      "==============================================================================\n",
      "Omnibus:                      277.055   Durbin-Watson:                   2.028\n",
      "Prob(Omnibus):                  0.000   Jarque-Bera (JB):              890.075\n",
      "Skew:                           2.224   Prob(JB):                    5.28e-194\n",
      "Kurtosis:                       6.780   Cond. No.                         49.5\n",
      "==============================================================================\n",
      "\n",
      "Notes:\n",
      "[1] Standard Errors are robust to cluster correlation (cluster)\n"
     ]
    }
   ],
   "source": [
    "# Realizando la estimación\n",
    "ols_model1 = smf.ols(formula_model1_6, data=datos).fit(cov_type='cluster', cov_kwds={'groups': datos['class_fe2']})\n",
    "print(ols_model1.summary())"
   ]
  },
  {
   "cell_type": "code",
   "execution_count": 79,
   "id": "97e96562",
   "metadata": {},
   "outputs": [
    {
     "data": {
      "text/plain": [
       "'Major_Arts ~ treat2016 + yr_2016 + treatment_class + female_prof + instate + freshman + american + ACumGPA + gradePrinciples + small_class'"
      ]
     },
     "execution_count": 79,
     "metadata": {},
     "output_type": "execute_result"
    }
   ],
   "source": [
    "# Tenemos la formula con las variables de control para el modelo 2\n",
    "formula_model2_6 = \"Major_Arts ~ treat2016 + yr_2016 + treatment_class + \" + ' + '.join( control_vars )\n",
    "formula_model2_6"
   ]
  },
  {
   "cell_type": "code",
   "execution_count": 80,
   "id": "dc9b78c3",
   "metadata": {},
   "outputs": [
    {
     "name": "stdout",
     "output_type": "stream",
     "text": [
      "                            OLS Regression Results                            \n",
      "==============================================================================\n",
      "Dep. Variable:             Major_Arts   R-squared:                       0.022\n",
      "Model:                            OLS   Adj. R-squared:                  0.006\n",
      "Method:                 Least Squares   F-statistic:                     5.253\n",
      "Date:                Thu, 13 Jul 2023   Prob (F-statistic):            0.00566\n",
      "Time:                        21:31:11   Log-Likelihood:                 48.480\n",
      "No. Observations:                 627   AIC:                            -74.96\n",
      "Df Residuals:                     616   BIC:                            -26.11\n",
      "Df Model:                          10                                         \n",
      "Covariance Type:              cluster                                         \n",
      "===================================================================================\n",
      "                      coef    std err          z      P>|z|      [0.025      0.975]\n",
      "-----------------------------------------------------------------------------------\n",
      "Intercept           0.0503      0.070      0.714      0.475      -0.088       0.188\n",
      "treat2016          -0.0312      0.034     -0.922      0.356      -0.098       0.035\n",
      "yr_2016             0.0180      0.010      1.778      0.075      -0.002       0.038\n",
      "treatment_class     0.0354      0.019      1.870      0.061      -0.002       0.072\n",
      "female_prof        -0.0189      0.017     -1.096      0.273      -0.053       0.015\n",
      "instate             0.0176      0.017      1.018      0.309      -0.016       0.051\n",
      "freshman           -0.0082      0.038     -0.220      0.826      -0.082       0.065\n",
      "american           -0.0048      0.029     -0.166      0.868      -0.061       0.051\n",
      "ACumGPA             0.0368      0.027      1.373      0.170      -0.016       0.089\n",
      "gradePrinciples    -0.0434      0.016     -2.684      0.007      -0.075      -0.012\n",
      "small_class         0.0294      0.021      1.369      0.171      -0.013       0.071\n",
      "==============================================================================\n",
      "Omnibus:                      505.449   Durbin-Watson:                   1.908\n",
      "Prob(Omnibus):                  0.000   Jarque-Bera (JB):             5863.446\n",
      "Skew:                           3.805   Prob(JB):                         0.00\n",
      "Kurtosis:                      15.905   Cond. No.                         49.5\n",
      "==============================================================================\n",
      "\n",
      "Notes:\n",
      "[1] Standard Errors are robust to cluster correlation (cluster)\n"
     ]
    }
   ],
   "source": [
    "# Realizando la estimación\n",
    "ols_model2 = smf.ols(formula_model2_6, data=datos).fit(cov_type='cluster', cov_kwds={'groups': datos['class_fe2']})\n",
    "print(ols_model2.summary())"
   ]
  },
  {
   "cell_type": "code",
   "execution_count": 83,
   "id": "73dd074a",
   "metadata": {},
   "outputs": [
    {
     "data": {
      "text/plain": [
       "'Major_Comm ~ treat2016 + yr_2016 + treatment_class + female_prof + instate + freshman + american + ACumGPA + gradePrinciples + small_class'"
      ]
     },
     "execution_count": 83,
     "metadata": {},
     "output_type": "execute_result"
    }
   ],
   "source": [
    "# Tenemos la formula con las variables de control para el modelo 3\n",
    "formula_model3_6 = \"Major_Comm ~ treat2016 + yr_2016 + treatment_class + \" + ' + '.join( control_vars )\n",
    "formula_model3_6"
   ]
  },
  {
   "cell_type": "code",
   "execution_count": 84,
   "id": "d9891ca8",
   "metadata": {},
   "outputs": [
    {
     "name": "stdout",
     "output_type": "stream",
     "text": [
      "                            OLS Regression Results                            \n",
      "==============================================================================\n",
      "Dep. Variable:             Major_Comm   R-squared:                       0.021\n",
      "Model:                            OLS   Adj. R-squared:                  0.005\n",
      "Method:                 Least Squares   F-statistic:                     20.19\n",
      "Date:                Thu, 13 Jul 2023   Prob (F-statistic):           1.15e-05\n",
      "Time:                        21:31:21   Log-Likelihood:                 31.395\n",
      "No. Observations:                 627   AIC:                            -40.79\n",
      "Df Residuals:                     616   BIC:                             8.060\n",
      "Df Model:                          10                                         \n",
      "Covariance Type:              cluster                                         \n",
      "===================================================================================\n",
      "                      coef    std err          z      P>|z|      [0.025      0.975]\n",
      "-----------------------------------------------------------------------------------\n",
      "Intercept           0.1463      0.073      2.006      0.045       0.003       0.289\n",
      "treat2016          -0.0119      0.023     -0.526      0.599      -0.056       0.033\n",
      "yr_2016            -0.0077      0.020     -0.395      0.693      -0.046       0.031\n",
      "treatment_class    -0.0020      0.017     -0.115      0.908      -0.035       0.031\n",
      "female_prof        -0.0268      0.016     -1.702      0.089      -0.058       0.004\n",
      "instate            -0.0067      0.023     -0.293      0.770      -0.052       0.038\n",
      "freshman            0.0417      0.027      1.559      0.119      -0.011       0.094\n",
      "american            0.0553      0.019      2.845      0.004       0.017       0.093\n",
      "ACumGPA            -0.0427      0.026     -1.625      0.104      -0.094       0.009\n",
      "gradePrinciples    -0.0003      0.012     -0.028      0.978      -0.024       0.023\n",
      "small_class        -0.0186      0.024     -0.758      0.449      -0.067       0.029\n",
      "==============================================================================\n",
      "Omnibus:                      489.288   Durbin-Watson:                   1.978\n",
      "Prob(Omnibus):                  0.000   Jarque-Bera (JB):             5127.813\n",
      "Skew:                           3.681   Prob(JB):                         0.00\n",
      "Kurtosis:                      14.920   Cond. No.                         49.5\n",
      "==============================================================================\n",
      "\n",
      "Notes:\n",
      "[1] Standard Errors are robust to cluster correlation (cluster)\n"
     ]
    }
   ],
   "source": [
    "# Realizando la estimación\n",
    "ols_model3 = smf.ols(formula_model3_6, data=datos).fit(cov_type='cluster', cov_kwds={'groups': datos['class_fe2']})\n",
    "print(ols_model3.summary())"
   ]
  },
  {
   "cell_type": "code",
   "execution_count": 85,
   "id": "9bea4eb2",
   "metadata": {},
   "outputs": [
    {
     "data": {
      "text/plain": [
       "'Major_Hum ~ treat2016 + yr_2016 + treatment_class + female_prof + instate + freshman + american + ACumGPA + gradePrinciples + small_class'"
      ]
     },
     "execution_count": 85,
     "metadata": {},
     "output_type": "execute_result"
    }
   ],
   "source": [
    "# Tenemos la formula con las variables de control para el modelo 4\n",
    "formula_model4_6 = \"Major_Hum ~ treat2016 + yr_2016 + treatment_class + \" + ' + '.join( control_vars )\n",
    "formula_model4_6"
   ]
  },
  {
   "cell_type": "code",
   "execution_count": 86,
   "id": "7560dfb3",
   "metadata": {
    "scrolled": false
   },
   "outputs": [
    {
     "name": "stdout",
     "output_type": "stream",
     "text": [
      "                            OLS Regression Results                            \n",
      "==============================================================================\n",
      "Dep. Variable:              Major_Hum   R-squared:                       0.038\n",
      "Model:                            OLS   Adj. R-squared:                  0.023\n",
      "Method:                 Least Squares   F-statistic:                     18.66\n",
      "Date:                Thu, 13 Jul 2023   Prob (F-statistic):           1.71e-05\n",
      "Time:                        21:31:28   Log-Likelihood:                -69.809\n",
      "No. Observations:                 627   AIC:                             161.6\n",
      "Df Residuals:                     616   BIC:                             210.5\n",
      "Df Model:                          10                                         \n",
      "Covariance Type:              cluster                                         \n",
      "===================================================================================\n",
      "                      coef    std err          z      P>|z|      [0.025      0.975]\n",
      "-----------------------------------------------------------------------------------\n",
      "Intercept           0.1404      0.115      1.219      0.223      -0.085       0.366\n",
      "treat2016          -0.1413      0.026     -5.450      0.000      -0.192      -0.090\n",
      "yr_2016             0.0671      0.017      3.990      0.000       0.034       0.100\n",
      "treatment_class     0.0828      0.027      3.123      0.002       0.031       0.135\n",
      "female_prof        -0.0449      0.021     -2.123      0.034      -0.086      -0.003\n",
      "instate             0.0286      0.017      1.694      0.090      -0.004       0.062\n",
      "freshman           -0.0073      0.036     -0.201      0.840      -0.078       0.064\n",
      "american            0.0201      0.026      0.772      0.440      -0.031       0.071\n",
      "ACumGPA             0.0069      0.042      0.165      0.869      -0.076       0.089\n",
      "gradePrinciples    -0.0412      0.017     -2.364      0.018      -0.075      -0.007\n",
      "small_class         0.0263      0.015      1.713      0.087      -0.004       0.056\n",
      "==============================================================================\n",
      "Omnibus:                      373.696   Durbin-Watson:                   2.056\n",
      "Prob(Omnibus):                  0.000   Jarque-Bera (JB):             1990.167\n",
      "Skew:                           2.851   Prob(JB):                         0.00\n",
      "Kurtosis:                       9.609   Cond. No.                         49.5\n",
      "==============================================================================\n",
      "\n",
      "Notes:\n",
      "[1] Standard Errors are robust to cluster correlation (cluster)\n"
     ]
    }
   ],
   "source": [
    "# Realizando la estimación\n",
    "ols_model4 = smf.ols(formula_model4_6, data=datos).fit(cov_type='cluster', cov_kwds={'groups': datos['class_fe2']})\n",
    "print(ols_model4.summary())"
   ]
  },
  {
   "cell_type": "markdown",
   "id": "9e5bf7ed",
   "metadata": {},
   "source": [
    "##### Proceso de exportación a latex"
   ]
  },
  {
   "cell_type": "code",
   "execution_count": 96,
   "id": "c040c8b2",
   "metadata": {},
   "outputs": [],
   "source": [
    "# Exportando datos\n",
    "pystout(models = [ols_model1,ols_model2,ols_model3,ols_model4], file=r\"..\\..\\trabajo_final\\Grupo11\\Table_6.tex\", digits=3,\n",
    "        endog_names=['Major social sciences','Major arts','Major communication','Major humanities'],\n",
    "        exogvars =explicativas ,  # sellecionamos las variables \n",
    "        varlabels = labels,  # etiquetas a las variables\n",
    "        modstat={'nobs':'Observarions'}, # estadísticos \n",
    "        addrows={'Controls':['No','Yes','No','yes']},\n",
    "        addnotes=['Nivel de significancia:',\n",
    "                  '* Significantly different from zero at 90 percent confidence.',\n",
    "                  '** Significantly different from zero at 95 percent confidence.',\n",
    "                  '*** Significantly different from zero at 99 percent confidence.'],\n",
    "        title='Treatment Effects on Intermediate Outcomes',\n",
    "        stars={.1:'*',.05:'**',.01:'***'}\n",
    "       )\n"
   ]
  },
  {
   "cell_type": "markdown",
   "id": "b67f5590",
   "metadata": {},
   "source": [
    "###  3. Creación de un coefplot de la tabla 4"
   ]
  },
  {
   "cell_type": "code",
   "execution_count": 100,
   "id": "88419581",
   "metadata": {},
   "outputs": [],
   "source": [
    "# configuramos el formato de imagen\n",
    "custom_params = {\"axes.spines.right\": False, \"axes.spines.top\": False}\n",
    "sns.set_theme(style=\"ticks\", rc=custom_params)"
   ]
  },
  {
   "cell_type": "code",
   "execution_count": 120,
   "id": "e95dd10e",
   "metadata": {},
   "outputs": [
    {
     "data": {
      "text/html": [
       "<table class=\"simpletable\">\n",
       "<tr>\n",
       "      <td></td>         <th>coef</th>     <th>std err</th>      <th>z</th>      <th>P>|z|</th>  <th>[0.025</th>    <th>0.975]</th>  \n",
       "</tr>\n",
       "<tr>\n",
       "  <th>Intercept</th> <td>    0.9215</td> <td>    0.104</td> <td>    8.819</td> <td> 0.000</td> <td>    0.717</td> <td>    1.126</td>\n",
       "</tr>\n",
       "<tr>\n",
       "  <th>treat2016</th> <td>    0.4939</td> <td>    0.233</td> <td>    2.118</td> <td> 0.034</td> <td>    0.037</td> <td>    0.951</td>\n",
       "</tr>\n",
       "</table>"
      ],
      "text/plain": [
       "<class 'statsmodels.iolib.table.SimpleTable'>"
      ]
     },
     "execution_count": 120,
     "metadata": {},
     "output_type": "execute_result"
    }
   ],
   "source": [
    "# Modelo 1\n",
    "model1_4= \"numeconclass ~ treat2016\"\n",
    "ols_model1 = smf.ols(model1_4, data=datos).fit(cov_type='cluster', cov_kwds={'groups': datos['class_fe2']})\n",
    "ols_model1.summary().tables[1]"
   ]
  },
  {
   "cell_type": "code",
   "execution_count": 121,
   "id": "0fde7a52",
   "metadata": {},
   "outputs": [
    {
     "data": {
      "text/html": [
       "<table class=\"simpletable\">\n",
       "<tr>\n",
       "         <td></td>            <th>coef</th>     <th>std err</th>      <th>z</th>      <th>P>|z|</th>  <th>[0.025</th>    <th>0.975]</th>  \n",
       "</tr>\n",
       "<tr>\n",
       "  <th>Intercept</th>       <td>    5.6526</td> <td>    1.212</td> <td>    4.662</td> <td> 0.000</td> <td>    3.276</td> <td>    8.029</td>\n",
       "</tr>\n",
       "<tr>\n",
       "  <th>treat2016</th>       <td>    0.2624</td> <td>    0.207</td> <td>    1.266</td> <td> 0.205</td> <td>   -0.144</td> <td>    0.669</td>\n",
       "</tr>\n",
       "<tr>\n",
       "  <th>female_prof</th>     <td>    0.0186</td> <td>    0.274</td> <td>    0.068</td> <td> 0.946</td> <td>   -0.518</td> <td>    0.555</td>\n",
       "</tr>\n",
       "<tr>\n",
       "  <th>instate</th>         <td>    0.0099</td> <td>    0.192</td> <td>    0.052</td> <td> 0.959</td> <td>   -0.366</td> <td>    0.386</td>\n",
       "</tr>\n",
       "<tr>\n",
       "  <th>freshman</th>        <td>   -0.1338</td> <td>    0.376</td> <td>   -0.356</td> <td> 0.722</td> <td>   -0.871</td> <td>    0.604</td>\n",
       "</tr>\n",
       "<tr>\n",
       "  <th>american</th>        <td>   -1.6790</td> <td>    0.464</td> <td>   -3.619</td> <td> 0.000</td> <td>   -2.588</td> <td>   -0.770</td>\n",
       "</tr>\n",
       "<tr>\n",
       "  <th>ACumGPA</th>         <td>   -1.2624</td> <td>    0.425</td> <td>   -2.969</td> <td> 0.003</td> <td>   -2.096</td> <td>   -0.429</td>\n",
       "</tr>\n",
       "<tr>\n",
       "  <th>gradePrinciples</th> <td>    0.4485</td> <td>    0.195</td> <td>    2.299</td> <td> 0.022</td> <td>    0.066</td> <td>    0.831</td>\n",
       "</tr>\n",
       "<tr>\n",
       "  <th>small_class</th>     <td>   -0.3413</td> <td>    0.256</td> <td>   -1.332</td> <td> 0.183</td> <td>   -0.843</td> <td>    0.161</td>\n",
       "</tr>\n",
       "</table>"
      ],
      "text/plain": [
       "<class 'statsmodels.iolib.table.SimpleTable'>"
      ]
     },
     "execution_count": 121,
     "metadata": {},
     "output_type": "execute_result"
    }
   ],
   "source": [
    "# Modelo 2\n",
    "formula_model2_4 = \"numeconclass ~ treat2016 + \" + ' + '.join( control_vars )\n",
    "ols_model2 = smf.ols(formula_model2_4, data=datos).fit(cov_type='cluster', cov_kwds={'groups': datos['class_fe2']})\n",
    "ols_model2.summary().tables[1]"
   ]
  },
  {
   "cell_type": "code",
   "execution_count": 117,
   "id": "e7f6c1ab",
   "metadata": {},
   "outputs": [],
   "source": [
    "# Modelo 3\n",
    "model3_4= \"econmajor ~ treat2016\"\n",
    "ols_model3 = smf.ols(model3_4, data=datos).fit(cov_type='cluster', cov_kwds={'groups': datos['class_fe2']})"
   ]
  },
  {
   "cell_type": "code",
   "execution_count": 119,
   "id": "f885b81e",
   "metadata": {},
   "outputs": [],
   "source": [
    "# Modelo 4\n",
    "formula_model4_4 = \"econmajor ~ treat2016 + \" + ' + '.join( control_vars )\n",
    "ols_model2 = smf.ols(formula_model4_4, data=datos).fit(cov_type='cluster', cov_kwds={'groups': datos['class_fe2']})"
   ]
  },
  {
   "cell_type": "code",
   "execution_count": 111,
   "id": "482a236b",
   "metadata": {},
   "outputs": [
    {
     "data": {
      "text/html": [
       "<table class=\"simpletable\">\n",
       "<tr>\n",
       "      <td></td>         <th>coef</th>     <th>std err</th>      <th>z</th>      <th>P>|z|</th>  <th>[0.025</th>    <th>0.975]</th>  \n",
       "</tr>\n",
       "<tr>\n",
       "  <th>Intercept</th> <td>    0.9215</td> <td>    0.104</td> <td>    8.819</td> <td> 0.000</td> <td>    0.717</td> <td>    1.126</td>\n",
       "</tr>\n",
       "<tr>\n",
       "  <th>treat2016</th> <td>    0.4939</td> <td>    0.233</td> <td>    2.118</td> <td> 0.034</td> <td>    0.037</td> <td>    0.951</td>\n",
       "</tr>\n",
       "</table>"
      ],
      "text/plain": [
       "<class 'statsmodels.iolib.table.SimpleTable'>"
      ]
     },
     "execution_count": 111,
     "metadata": {},
     "output_type": "execute_result"
    }
   ],
   "source": [
    "ols_model1.summary().tables[1]"
   ]
  },
  {
   "cell_type": "code",
   "execution_count": 102,
   "id": "629ec9f7",
   "metadata": {},
   "outputs": [
    {
     "ename": "NameError",
     "evalue": "name 'table_pandas' is not defined",
     "output_type": "error",
     "traceback": [
      "\u001b[1;31m---------------------------------------------------------------------------\u001b[0m",
      "\u001b[1;31mNameError\u001b[0m                                 Traceback (most recent call last)",
      "Cell \u001b[1;32mIn[102], line 5\u001b[0m\n\u001b[0;32m      1\u001b[0m fig, ax \u001b[38;5;241m=\u001b[39m plt\u001b[38;5;241m.\u001b[39msubplots(figsize\u001b[38;5;241m=\u001b[39m(\u001b[38;5;241m7\u001b[39m, \u001b[38;5;241m6\u001b[39m))\n\u001b[0;32m      3\u001b[0m \u001b[38;5;66;03m# scatter plot ( para los points . coeficciente)\u001b[39;00m\n\u001b[1;32m----> 5\u001b[0m ax\u001b[38;5;241m.\u001b[39mscatter(x\u001b[38;5;241m=\u001b[39m\u001b[43mtable_pandas\u001b[49m[\u001b[38;5;124m'\u001b[39m\u001b[38;5;124mmodel1_4\u001b[39m\u001b[38;5;124m'\u001b[39m], \n\u001b[0;32m      6\u001b[0m          marker\u001b[38;5;241m=\u001b[39m\u001b[38;5;124m'\u001b[39m\u001b[38;5;124mo\u001b[39m\u001b[38;5;124m'\u001b[39m, s\u001b[38;5;241m=\u001b[39m\u001b[38;5;241m20\u001b[39m,  \u001b[38;5;66;03m# s: modificar tamaño del point\u001b[39;00m\n\u001b[0;32m      7\u001b[0m          y\u001b[38;5;241m=\u001b[39mtable_pandas[\u001b[38;5;124m'\u001b[39m\u001b[38;5;124mEstimate\u001b[39m\u001b[38;5;124m'\u001b[39m], color \u001b[38;5;241m=\u001b[39m \u001b[38;5;124m\"\u001b[39m\u001b[38;5;124mdarkblue\u001b[39m\u001b[38;5;124m\"\u001b[39m)\n\u001b[0;32m      9\u001b[0m \u001b[38;5;66;03m# errorbar para graficar el itervalo de confianza \u001b[39;00m\n\u001b[0;32m     11\u001b[0m eb1 \u001b[38;5;241m=\u001b[39m plt\u001b[38;5;241m.\u001b[39merrorbar(x\u001b[38;5;241m=\u001b[39mtable_pandas[\u001b[38;5;124m'\u001b[39m\u001b[38;5;124mModel\u001b[39m\u001b[38;5;124m'\u001b[39m], y\u001b[38;5;241m=\u001b[39mtable_pandas[\u001b[38;5;124m'\u001b[39m\u001b[38;5;124mEstimate\u001b[39m\u001b[38;5;124m'\u001b[39m],\n\u001b[0;32m     12\u001b[0m             yerr \u001b[38;5;241m=\u001b[39m \u001b[38;5;241m0.5\u001b[39m\u001b[38;5;241m*\u001b[39m(table_pandas[\u001b[38;5;124m'\u001b[39m\u001b[38;5;124mUpper_bound\u001b[39m\u001b[38;5;124m'\u001b[39m]\u001b[38;5;241m-\u001b[39m table_pandas[\u001b[38;5;124m'\u001b[39m\u001b[38;5;124mLower_bound\u001b[39m\u001b[38;5;124m'\u001b[39m]),\n\u001b[0;32m     13\u001b[0m             color \u001b[38;5;241m=\u001b[39m \u001b[38;5;124m'\u001b[39m\u001b[38;5;124mdarkblue\u001b[39m\u001b[38;5;124m'\u001b[39m, ls\u001b[38;5;241m=\u001b[39m\u001b[38;5;124m'\u001b[39m\u001b[38;5;124m'\u001b[39m, capsize \u001b[38;5;241m=\u001b[39m \u001b[38;5;241m5\u001b[39m)\n",
      "\u001b[1;31mNameError\u001b[0m: name 'table_pandas' is not defined"
     ]
    },
    {
     "data": {
      "image/png": "[encoded data removed]",
      "text/plain": [
       "<Figure size 700x600 with 1 Axes>"
      ]
     },
     "metadata": {},
     "output_type": "display_data"
    }
   ],
   "source": [
    "fig, ax = plt.subplots(figsize=(7, 6))\n",
    "\n",
    "# scatter plot ( para los points . coeficciente)\n",
    "\n",
    "ax.scatter(x=table_pandas['model1_4'], \n",
    "         marker='o', s=20,  # s: modificar tamaño del point\n",
    "         y=table_pandas['Estimate'], color = \"darkblue\")\n",
    "\n",
    "# errorbar para graficar el itervalo de confianza \n",
    "\n",
    "eb1 = plt.errorbar(x=table_pandas['Model'], y=table_pandas['Estimate'],\n",
    "            yerr = 0.5*(table_pandas['Upper_bound']- table_pandas['Lower_bound']),\n",
    "            color = 'darkblue', ls='', capsize = 5)\n",
    "\n",
    "# yerr: distancia del punto (coeficeinte) a los extremo del intervalo (la mitad de la diferencia del upper vs lower bound)\n",
    "# capsize: longitud de las barras del intervalo\n",
    "\n",
    "# ls='': no une los puntos rojos \n",
    "#  yerr genera el gráfico del intervalo de confianza \n",
    "\n",
    "plt.axhline(y=0, color = 'black').set_linestyle('--')  # linea horizontal \n",
    "ax.set_yticks([-0.2,-0.1,0, 0.1,0.2])\n",
    "\n",
    "# Set title & labels\n",
    "plt.title('Smoking Coefficient (95% CI)',fontsize=12)\n"
   ]
  },
  {
   "cell_type": "code",
   "execution_count": null,
   "id": "13e37741",
   "metadata": {},
   "outputs": [],
   "source": []
  }
 ],
 "metadata": {
  "kernelspec": {
   "display_name": "Python 3 (ipykernel)",
   "language": "python",
   "name": "python3"
  },
  "language_info": {
   "codemirror_mode": {
    "name": "ipython",
    "version": 3
   },
   "file_extension": ".py",
   "mimetype": "text/x-python",
   "name": "python",
   "nbconvert_exporter": "python",
   "pygments_lexer": "ipython3",
   "version": "3.10.9"
  }
 },
 "nbformat": 4,
 "nbformat_minor": 5
}
