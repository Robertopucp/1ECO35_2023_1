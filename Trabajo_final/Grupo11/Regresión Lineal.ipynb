{
 "cells": [
  {
   "cell_type": "markdown",
   "id": "e0741b1d",
   "metadata": {},
   "source": [
    "## Integrantes:"
   ]
  },
  {
   "cell_type": "markdown",
   "id": "0e2356df",
   "metadata": {},
   "source": [
    "- Kevin Pareja (20196318)\n",
    "\n",
    "- Elian Tongombol (20196453)\n",
    "\n",
    "- Paola Aranda (20196052)\n",
    "\n",
    "- María Alejandra Colán (20190515)"
   ]
  },
  {
   "cell_type": "code",
   "execution_count": 2,
   "id": "34164918",
   "metadata": {},
   "outputs": [],
   "source": [
    "# Importamos las librerias necesarias\n",
    "import pandas as pd \n",
    "import numpy as np\n",
    "import re \n",
    "from tqdm import tqdm  # controlar el tiempo en un loop\n",
    "import os\n",
    "\n",
    "# Librerias correspondientes al modelo de regresión lineal \n",
    "import statsmodels.api as sm  # linear regression utiliza todas las columnas de base de datos \n",
    "import statsmodels.formula.api as smf  # linear regression usa uan formula\n",
    "from sklearn import datasets, linear_model # models \n",
    "from sklearn.metrics import mean_squared_error, r2_score\n",
    "from linearmodels.iv import IV2SLS # for IV regression\n",
    "\n",
    "import warnings\n",
    "warnings.filterwarnings('ignore') # eliminar warning messages \n",
    "\n",
    "# Incluimos la libreriia que nos servía para exportar las tablas a Latex\n",
    "from pystout import pystout"
   ]
  },
  {
   "cell_type": "code",
   "execution_count": 13,
   "id": "69773e48",
   "metadata": {
    "scrolled": true
   },
   "outputs": [
    {
     "data": {
      "text/html": [
       "<div>\n",
       "<style scoped>\n",
       "    .dataframe tbody tr th:only-of-type {\n",
       "        vertical-align: middle;\n",
       "    }\n",
       "\n",
       "    .dataframe tbody tr th {\n",
       "        vertical-align: top;\n",
       "    }\n",
       "\n",
       "    .dataframe thead th {\n",
       "        text-align: right;\n",
       "    }\n",
       "</style>\n",
       "<table border=\"1\" class=\"dataframe\">\n",
       "  <thead>\n",
       "    <tr style=\"text-align: right;\">\n",
       "      <th></th>\n",
       "      <th>anonid</th>\n",
       "      <th>took_fall</th>\n",
       "      <th>took_year</th>\n",
       "      <th>tookanother</th>\n",
       "      <th>numeconclass</th>\n",
       "      <th>econmajor</th>\n",
       "      <th>Major</th>\n",
       "      <th>Major_STEM</th>\n",
       "      <th>Major_Business</th>\n",
       "      <th>Major_Finance</th>\n",
       "      <th>...</th>\n",
       "      <th>ecojobs_b</th>\n",
       "      <th>ecojobs_c</th>\n",
       "      <th>ecojobs_d</th>\n",
       "      <th>ecojobs_e</th>\n",
       "      <th>ecojobs_f</th>\n",
       "      <th>ecojobs_g</th>\n",
       "      <th>ecojobs_h</th>\n",
       "      <th>major_current_a</th>\n",
       "      <th>major_current_b</th>\n",
       "      <th>survey_econmajor</th>\n",
       "    </tr>\n",
       "  </thead>\n",
       "  <tbody>\n",
       "    <tr>\n",
       "      <th>0</th>\n",
       "      <td>4.0</td>\n",
       "      <td>0.0</td>\n",
       "      <td>0.0</td>\n",
       "      <td>0.0</td>\n",
       "      <td>0.0</td>\n",
       "      <td>0.0</td>\n",
       "      <td>Mathematics - BS</td>\n",
       "      <td>1.0</td>\n",
       "      <td>0.0</td>\n",
       "      <td>0.0</td>\n",
       "      <td>...</td>\n",
       "      <td>Entrepreneur</td>\n",
       "      <td>Journalist/ Correspondent</td>\n",
       "      <td>Working for marketplace on NPR</td>\n",
       "      <td>Business consultant</td>\n",
       "      <td></td>\n",
       "      <td></td>\n",
       "      <td></td>\n",
       "      <td>Mathematics</td>\n",
       "      <td></td>\n",
       "      <td>0.0</td>\n",
       "    </tr>\n",
       "    <tr>\n",
       "      <th>1</th>\n",
       "      <td>5.0</td>\n",
       "      <td>0.0</td>\n",
       "      <td>0.0</td>\n",
       "      <td>0.0</td>\n",
       "      <td>0.0</td>\n",
       "      <td>0.0</td>\n",
       "      <td>Biological Sciences - BS</td>\n",
       "      <td>1.0</td>\n",
       "      <td>0.0</td>\n",
       "      <td>0.0</td>\n",
       "      <td>...</td>\n",
       "      <td>Tax advisor</td>\n",
       "      <td>Managerial Position</td>\n",
       "      <td></td>\n",
       "      <td></td>\n",
       "      <td></td>\n",
       "      <td></td>\n",
       "      <td></td>\n",
       "      <td>Biology</td>\n",
       "      <td></td>\n",
       "      <td>0.0</td>\n",
       "    </tr>\n",
       "    <tr>\n",
       "      <th>2</th>\n",
       "      <td>7.0</td>\n",
       "      <td>1.0</td>\n",
       "      <td>1.0</td>\n",
       "      <td>1.0</td>\n",
       "      <td>13.0</td>\n",
       "      <td>1.0</td>\n",
       "      <td>Economics w/ Fina Appl - BS</td>\n",
       "      <td>0.0</td>\n",
       "      <td>0.0</td>\n",
       "      <td>0.0</td>\n",
       "      <td>...</td>\n",
       "      <td></td>\n",
       "      <td></td>\n",
       "      <td></td>\n",
       "      <td></td>\n",
       "      <td></td>\n",
       "      <td></td>\n",
       "      <td></td>\n",
       "      <td></td>\n",
       "      <td></td>\n",
       "      <td>NaN</td>\n",
       "    </tr>\n",
       "    <tr>\n",
       "      <th>3</th>\n",
       "      <td>9.0</td>\n",
       "      <td>0.0</td>\n",
       "      <td>0.0</td>\n",
       "      <td>0.0</td>\n",
       "      <td>0.0</td>\n",
       "      <td>0.0</td>\n",
       "      <td>Journalism - BA</td>\n",
       "      <td>0.0</td>\n",
       "      <td>0.0</td>\n",
       "      <td>0.0</td>\n",
       "      <td>...</td>\n",
       "      <td></td>\n",
       "      <td></td>\n",
       "      <td></td>\n",
       "      <td></td>\n",
       "      <td></td>\n",
       "      <td></td>\n",
       "      <td></td>\n",
       "      <td>Journalism</td>\n",
       "      <td>Communications</td>\n",
       "      <td>0.0</td>\n",
       "    </tr>\n",
       "    <tr>\n",
       "      <th>4</th>\n",
       "      <td>10.0</td>\n",
       "      <td>0.0</td>\n",
       "      <td>0.0</td>\n",
       "      <td>1.0</td>\n",
       "      <td>1.0</td>\n",
       "      <td>0.0</td>\n",
       "      <td>Markets &amp; Culture - BA</td>\n",
       "      <td>0.0</td>\n",
       "      <td>0.0</td>\n",
       "      <td>0.0</td>\n",
       "      <td>...</td>\n",
       "      <td>Investment Banker</td>\n",
       "      <td></td>\n",
       "      <td></td>\n",
       "      <td></td>\n",
       "      <td></td>\n",
       "      <td></td>\n",
       "      <td></td>\n",
       "      <td>Markets and Culture</td>\n",
       "      <td>Economics</td>\n",
       "      <td>1.0</td>\n",
       "    </tr>\n",
       "    <tr>\n",
       "      <th>...</th>\n",
       "      <td>...</td>\n",
       "      <td>...</td>\n",
       "      <td>...</td>\n",
       "      <td>...</td>\n",
       "      <td>...</td>\n",
       "      <td>...</td>\n",
       "      <td>...</td>\n",
       "      <td>...</td>\n",
       "      <td>...</td>\n",
       "      <td>...</td>\n",
       "      <td>...</td>\n",
       "      <td>...</td>\n",
       "      <td>...</td>\n",
       "      <td>...</td>\n",
       "      <td>...</td>\n",
       "      <td>...</td>\n",
       "      <td>...</td>\n",
       "      <td>...</td>\n",
       "      <td>...</td>\n",
       "      <td>...</td>\n",
       "      <td>...</td>\n",
       "    </tr>\n",
       "    <tr>\n",
       "      <th>622</th>\n",
       "      <td>1386.0</td>\n",
       "      <td>0.0</td>\n",
       "      <td>0.0</td>\n",
       "      <td>0.0</td>\n",
       "      <td>0.0</td>\n",
       "      <td>0.0</td>\n",
       "      <td>Markets &amp; Culture - BA</td>\n",
       "      <td>0.0</td>\n",
       "      <td>0.0</td>\n",
       "      <td>0.0</td>\n",
       "      <td>...</td>\n",
       "      <td></td>\n",
       "      <td></td>\n",
       "      <td></td>\n",
       "      <td></td>\n",
       "      <td></td>\n",
       "      <td></td>\n",
       "      <td></td>\n",
       "      <td></td>\n",
       "      <td></td>\n",
       "      <td>NaN</td>\n",
       "    </tr>\n",
       "    <tr>\n",
       "      <th>623</th>\n",
       "      <td>1388.0</td>\n",
       "      <td>0.0</td>\n",
       "      <td>0.0</td>\n",
       "      <td>0.0</td>\n",
       "      <td>0.0</td>\n",
       "      <td>0.0</td>\n",
       "      <td>Economics w/ Fina Appl - PMJ</td>\n",
       "      <td>0.0</td>\n",
       "      <td>0.0</td>\n",
       "      <td>0.0</td>\n",
       "      <td>...</td>\n",
       "      <td></td>\n",
       "      <td></td>\n",
       "      <td></td>\n",
       "      <td></td>\n",
       "      <td></td>\n",
       "      <td></td>\n",
       "      <td></td>\n",
       "      <td>Business</td>\n",
       "      <td></td>\n",
       "      <td>0.0</td>\n",
       "    </tr>\n",
       "    <tr>\n",
       "      <th>624</th>\n",
       "      <td>1389.0</td>\n",
       "      <td>0.0</td>\n",
       "      <td>0.0</td>\n",
       "      <td>0.0</td>\n",
       "      <td>0.0</td>\n",
       "      <td>0.0</td>\n",
       "      <td>Accounting - BBA</td>\n",
       "      <td>0.0</td>\n",
       "      <td>1.0</td>\n",
       "      <td>0.0</td>\n",
       "      <td>...</td>\n",
       "      <td>Finance</td>\n",
       "      <td>Bank</td>\n",
       "      <td>Government</td>\n",
       "      <td></td>\n",
       "      <td></td>\n",
       "      <td></td>\n",
       "      <td></td>\n",
       "      <td>Economics</td>\n",
       "      <td>Public Relations</td>\n",
       "      <td>1.0</td>\n",
       "    </tr>\n",
       "    <tr>\n",
       "      <th>625</th>\n",
       "      <td>1393.0</td>\n",
       "      <td>0.0</td>\n",
       "      <td>1.0</td>\n",
       "      <td>1.0</td>\n",
       "      <td>10.0</td>\n",
       "      <td>1.0</td>\n",
       "      <td>Economics - BA</td>\n",
       "      <td>0.0</td>\n",
       "      <td>0.0</td>\n",
       "      <td>0.0</td>\n",
       "      <td>...</td>\n",
       "      <td>Professor</td>\n",
       "      <td>Economist</td>\n",
       "      <td></td>\n",
       "      <td></td>\n",
       "      <td></td>\n",
       "      <td></td>\n",
       "      <td></td>\n",
       "      <td>Entrepreneurship</td>\n",
       "      <td>Finance Economics</td>\n",
       "      <td>0.0</td>\n",
       "    </tr>\n",
       "    <tr>\n",
       "      <th>626</th>\n",
       "      <td>1396.0</td>\n",
       "      <td>0.0</td>\n",
       "      <td>0.0</td>\n",
       "      <td>0.0</td>\n",
       "      <td>0.0</td>\n",
       "      <td>0.0</td>\n",
       "      <td>Finance - BBA</td>\n",
       "      <td>0.0</td>\n",
       "      <td>0.0</td>\n",
       "      <td>1.0</td>\n",
       "      <td>...</td>\n",
       "      <td>Political position</td>\n",
       "      <td>Business</td>\n",
       "      <td></td>\n",
       "      <td></td>\n",
       "      <td></td>\n",
       "      <td></td>\n",
       "      <td></td>\n",
       "      <td>Finance</td>\n",
       "      <td>French</td>\n",
       "      <td>0.0</td>\n",
       "    </tr>\n",
       "  </tbody>\n",
       "</table>\n",
       "<p>627 rows × 49 columns</p>\n",
       "</div>"
      ],
      "text/plain": [
       "     anonid  took_fall  took_year  tookanother  numeconclass  econmajor  \\\n",
       "0       4.0        0.0        0.0          0.0           0.0        0.0   \n",
       "1       5.0        0.0        0.0          0.0           0.0        0.0   \n",
       "2       7.0        1.0        1.0          1.0          13.0        1.0   \n",
       "3       9.0        0.0        0.0          0.0           0.0        0.0   \n",
       "4      10.0        0.0        0.0          1.0           1.0        0.0   \n",
       "..      ...        ...        ...          ...           ...        ...   \n",
       "622  1386.0        0.0        0.0          0.0           0.0        0.0   \n",
       "623  1388.0        0.0        0.0          0.0           0.0        0.0   \n",
       "624  1389.0        0.0        0.0          0.0           0.0        0.0   \n",
       "625  1393.0        0.0        1.0          1.0          10.0        1.0   \n",
       "626  1396.0        0.0        0.0          0.0           0.0        0.0   \n",
       "\n",
       "                            Major  Major_STEM  Major_Business  Major_Finance  \\\n",
       "0                Mathematics - BS         1.0             0.0            0.0   \n",
       "1        Biological Sciences - BS         1.0             0.0            0.0   \n",
       "2     Economics w/ Fina Appl - BS         0.0             0.0            0.0   \n",
       "3                 Journalism - BA         0.0             0.0            0.0   \n",
       "4          Markets & Culture - BA         0.0             0.0            0.0   \n",
       "..                            ...         ...             ...            ...   \n",
       "622        Markets & Culture - BA         0.0             0.0            0.0   \n",
       "623  Economics w/ Fina Appl - PMJ         0.0             0.0            0.0   \n",
       "624              Accounting - BBA         0.0             1.0            0.0   \n",
       "625                Economics - BA         0.0             0.0            0.0   \n",
       "626                 Finance - BBA         0.0             0.0            1.0   \n",
       "\n",
       "     ...           ecojobs_b                  ecojobs_c  \\\n",
       "0    ...        Entrepreneur  Journalist/ Correspondent   \n",
       "1    ...         Tax advisor        Managerial Position   \n",
       "2    ...                                                  \n",
       "3    ...                                                  \n",
       "4    ...   Investment Banker                              \n",
       "..   ...                 ...                        ...   \n",
       "622  ...                                                  \n",
       "623  ...                                                  \n",
       "624  ...             Finance                       Bank   \n",
       "625  ...           Professor                  Economist   \n",
       "626  ...  Political position                   Business   \n",
       "\n",
       "                          ecojobs_d            ecojobs_e  ecojobs_f  \\\n",
       "0    Working for marketplace on NPR  Business consultant              \n",
       "1                                                                     \n",
       "2                                                                     \n",
       "3                                                                     \n",
       "4                                                                     \n",
       "..                              ...                  ...        ...   \n",
       "622                                                                   \n",
       "623                                                                   \n",
       "624                      Government                                   \n",
       "625                                                                   \n",
       "626                                                                   \n",
       "\n",
       "     ecojobs_g  ecojobs_h      major_current_a    major_current_b  \\\n",
       "0                                  Mathematics                      \n",
       "1                                      Biology                      \n",
       "2                                                                   \n",
       "3                                   Journalism     Communications   \n",
       "4                          Markets and Culture          Economics   \n",
       "..         ...        ...                  ...                ...   \n",
       "622                                                                 \n",
       "623                                   Business                      \n",
       "624                                  Economics   Public Relations   \n",
       "625                           Entrepreneurship  Finance Economics   \n",
       "626                                    Finance             French   \n",
       "\n",
       "     survey_econmajor  \n",
       "0                 0.0  \n",
       "1                 0.0  \n",
       "2                 NaN  \n",
       "3                 0.0  \n",
       "4                 1.0  \n",
       "..                ...  \n",
       "622               NaN  \n",
       "623               0.0  \n",
       "624               1.0  \n",
       "625               0.0  \n",
       "626               0.0  \n",
       "\n",
       "[627 rows x 49 columns]"
      ]
     },
     "execution_count": 13,
     "metadata": {},
     "output_type": "execute_result"
    }
   ],
   "source": [
    "# Cargando la base de datos correspondiente \n",
    "datos = pd.read_stata(r\"../../data/trabajo_final/replicacion/SerraPorterAEJ.dta\",\n",
    "                           convert_categoricals=False)\n",
    "datos"
   ]
  },
  {
   "cell_type": "code",
   "execution_count": 12,
   "id": "bf27a1f9",
   "metadata": {},
   "outputs": [
    {
     "name": "stdout",
     "output_type": "stream",
     "text": [
      "<class 'pandas.core.frame.DataFrame'>\n",
      "Int64Index: 627 entries, 0 to 626\n",
      "Data columns (total 49 columns):\n",
      " #   Column            Non-Null Count  Dtype  \n",
      "---  ------            --------------  -----  \n",
      " 0   anonid            627 non-null    float32\n",
      " 1   took_fall         627 non-null    float32\n",
      " 2   took_year         627 non-null    float32\n",
      " 3   tookanother       627 non-null    float32\n",
      " 4   numeconclass      627 non-null    float32\n",
      " 5   econmajor         627 non-null    float32\n",
      " 6   Major             627 non-null    object \n",
      " 7   Major_STEM        627 non-null    float32\n",
      " 8   Major_Business    627 non-null    float32\n",
      " 9   Major_Finance     627 non-null    float32\n",
      " 10  Major_Marketing   627 non-null    float32\n",
      " 11  Major_SocSc       627 non-null    float32\n",
      " 12  Major_Arts        627 non-null    float32\n",
      " 13  Major_Comm        627 non-null    float32\n",
      " 14  Major_Hum         627 non-null    float32\n",
      " 15  female            627 non-null    float32\n",
      " 16  greek             501 non-null    float64\n",
      " 17  econ_hs           501 non-null    float32\n",
      " 18  varsity           500 non-null    float64\n",
      " 19  class_fe          570 non-null    float32\n",
      " 20  class_fe2         627 non-null    float32\n",
      " 21  yr_2016           627 non-null    float32\n",
      " 22  treatment_class   627 non-null    float32\n",
      " 23  treat2016         627 non-null    float32\n",
      " 24  female_prof       627 non-null    float32\n",
      " 25  instate           627 non-null    float32\n",
      " 26  freshman          627 non-null    float32\n",
      " 27  american          627 non-null    float32\n",
      " 28  ACumGPA           627 non-null    float64\n",
      " 29  gradePrinciples   627 non-null    float32\n",
      " 30  small_class       627 non-null    float32\n",
      " 31  grade3301         91 non-null     float32\n",
      " 32  fem2016           627 non-null    float32\n",
      " 33  femtreat16        627 non-null    float32\n",
      " 34  female_treat      627 non-null    float32\n",
      " 35  Testscore3301     80 non-null     float64\n",
      " 36  top               627 non-null    float32\n",
      " 37  surveyed          627 non-null    float32\n",
      " 38  ecojobs_a         627 non-null    object \n",
      " 39  ecojobs_b         627 non-null    object \n",
      " 40  ecojobs_c         627 non-null    object \n",
      " 41  ecojobs_d         627 non-null    object \n",
      " 42  ecojobs_e         627 non-null    object \n",
      " 43  ecojobs_f         627 non-null    object \n",
      " 44  ecojobs_g         627 non-null    object \n",
      " 45  ecojobs_h         627 non-null    object \n",
      " 46  major_current_a   627 non-null    object \n",
      " 47  major_current_b   627 non-null    object \n",
      " 48  survey_econmajor  502 non-null    float32\n",
      "dtypes: float32(34), float64(4), object(11)\n",
      "memory usage: 161.6+ KB\n"
     ]
    },
    {
     "data": {
      "text/plain": [
       "anonid              float32\n",
       "took_fall           float32\n",
       "took_year           float32\n",
       "tookanother         float32\n",
       "numeconclass        float32\n",
       "econmajor           float32\n",
       "Major                object\n",
       "Major_STEM          float32\n",
       "Major_Business      float32\n",
       "Major_Finance       float32\n",
       "Major_Marketing     float32\n",
       "Major_SocSc         float32\n",
       "Major_Arts          float32\n",
       "Major_Comm          float32\n",
       "Major_Hum           float32\n",
       "female              float32\n",
       "greek               float64\n",
       "econ_hs             float32\n",
       "varsity             float64\n",
       "class_fe            float32\n",
       "class_fe2           float32\n",
       "yr_2016             float32\n",
       "treatment_class     float32\n",
       "treat2016           float32\n",
       "female_prof         float32\n",
       "instate             float32\n",
       "freshman            float32\n",
       "american            float32\n",
       "ACumGPA             float64\n",
       "gradePrinciples     float32\n",
       "small_class         float32\n",
       "grade3301           float32\n",
       "fem2016             float32\n",
       "femtreat16          float32\n",
       "female_treat        float32\n",
       "Testscore3301       float64\n",
       "top                 float32\n",
       "surveyed            float32\n",
       "ecojobs_a            object\n",
       "ecojobs_b            object\n",
       "ecojobs_c            object\n",
       "ecojobs_d            object\n",
       "ecojobs_e            object\n",
       "ecojobs_f            object\n",
       "ecojobs_g            object\n",
       "ecojobs_h            object\n",
       "major_current_a      object\n",
       "major_current_b      object\n",
       "survey_econmajor    float32\n",
       "dtype: object"
      ]
     },
     "execution_count": 12,
     "metadata": {},
     "output_type": "execute_result"
    }
   ],
   "source": [
    "# Incluimos el resumen de los estadísticos\n",
    "datos.describe()\n",
    "\n",
    "# Analizando el tipo de variables\n",
    "datos.info() # A partir de esta información se escogerá la información solicitada\n",
    "\n",
    "datos.dtypes\n"
   ]
  },
  {
   "cell_type": "markdown",
   "id": "538b98a2",
   "metadata": {},
   "source": [
    "###  1. Estadisticas descriptivas"
   ]
  },
  {
   "cell_type": "code",
   "execution_count": 15,
   "id": "5358a3e1",
   "metadata": {
    "scrolled": true
   },
   "outputs": [
    {
     "data": {
      "text/html": [
       "<div>\n",
       "<style scoped>\n",
       "    .dataframe tbody tr th:only-of-type {\n",
       "        vertical-align: middle;\n",
       "    }\n",
       "\n",
       "    .dataframe tbody tr th {\n",
       "        vertical-align: top;\n",
       "    }\n",
       "\n",
       "    .dataframe thead th {\n",
       "        text-align: right;\n",
       "    }\n",
       "</style>\n",
       "<table border=\"1\" class=\"dataframe\">\n",
       "  <thead>\n",
       "    <tr style=\"text-align: right;\">\n",
       "      <th></th>\n",
       "      <th>american</th>\n",
       "      <th>instate</th>\n",
       "      <th>freshman</th>\n",
       "      <th>ACumGPA</th>\n",
       "      <th>greek</th>\n",
       "      <th>econ_hs</th>\n",
       "      <th>varsity</th>\n",
       "    </tr>\n",
       "  </thead>\n",
       "  <tbody>\n",
       "    <tr>\n",
       "      <th>0</th>\n",
       "      <td>1.0</td>\n",
       "      <td>1.0</td>\n",
       "      <td>0.0</td>\n",
       "      <td>3.267</td>\n",
       "      <td>0.0</td>\n",
       "      <td>1.0</td>\n",
       "      <td>0.0</td>\n",
       "    </tr>\n",
       "    <tr>\n",
       "      <th>1</th>\n",
       "      <td>1.0</td>\n",
       "      <td>1.0</td>\n",
       "      <td>0.0</td>\n",
       "      <td>3.358</td>\n",
       "      <td>0.0</td>\n",
       "      <td>1.0</td>\n",
       "      <td>0.0</td>\n",
       "    </tr>\n",
       "    <tr>\n",
       "      <th>2</th>\n",
       "      <td>1.0</td>\n",
       "      <td>0.0</td>\n",
       "      <td>1.0</td>\n",
       "      <td>1.775</td>\n",
       "      <td>NaN</td>\n",
       "      <td>NaN</td>\n",
       "      <td>NaN</td>\n",
       "    </tr>\n",
       "    <tr>\n",
       "      <th>3</th>\n",
       "      <td>1.0</td>\n",
       "      <td>1.0</td>\n",
       "      <td>0.0</td>\n",
       "      <td>3.654</td>\n",
       "      <td>1.0</td>\n",
       "      <td>1.0</td>\n",
       "      <td>0.0</td>\n",
       "    </tr>\n",
       "    <tr>\n",
       "      <th>4</th>\n",
       "      <td>1.0</td>\n",
       "      <td>1.0</td>\n",
       "      <td>0.0</td>\n",
       "      <td>3.000</td>\n",
       "      <td>1.0</td>\n",
       "      <td>1.0</td>\n",
       "      <td>0.0</td>\n",
       "    </tr>\n",
       "    <tr>\n",
       "      <th>...</th>\n",
       "      <td>...</td>\n",
       "      <td>...</td>\n",
       "      <td>...</td>\n",
       "      <td>...</td>\n",
       "      <td>...</td>\n",
       "      <td>...</td>\n",
       "      <td>...</td>\n",
       "    </tr>\n",
       "    <tr>\n",
       "      <th>622</th>\n",
       "      <td>1.0</td>\n",
       "      <td>0.0</td>\n",
       "      <td>1.0</td>\n",
       "      <td>2.653</td>\n",
       "      <td>NaN</td>\n",
       "      <td>NaN</td>\n",
       "      <td>NaN</td>\n",
       "    </tr>\n",
       "    <tr>\n",
       "      <th>623</th>\n",
       "      <td>0.0</td>\n",
       "      <td>0.0</td>\n",
       "      <td>1.0</td>\n",
       "      <td>3.200</td>\n",
       "      <td>0.0</td>\n",
       "      <td>0.0</td>\n",
       "      <td>0.0</td>\n",
       "    </tr>\n",
       "    <tr>\n",
       "      <th>624</th>\n",
       "      <td>0.0</td>\n",
       "      <td>0.0</td>\n",
       "      <td>1.0</td>\n",
       "      <td>3.677</td>\n",
       "      <td>0.0</td>\n",
       "      <td>0.0</td>\n",
       "      <td>1.0</td>\n",
       "    </tr>\n",
       "    <tr>\n",
       "      <th>625</th>\n",
       "      <td>0.0</td>\n",
       "      <td>0.0</td>\n",
       "      <td>1.0</td>\n",
       "      <td>3.500</td>\n",
       "      <td>0.0</td>\n",
       "      <td>0.0</td>\n",
       "      <td>0.0</td>\n",
       "    </tr>\n",
       "    <tr>\n",
       "      <th>626</th>\n",
       "      <td>1.0</td>\n",
       "      <td>0.0</td>\n",
       "      <td>1.0</td>\n",
       "      <td>4.000</td>\n",
       "      <td>1.0</td>\n",
       "      <td>1.0</td>\n",
       "      <td>0.0</td>\n",
       "    </tr>\n",
       "  </tbody>\n",
       "</table>\n",
       "<p>627 rows × 7 columns</p>\n",
       "</div>"
      ],
      "text/plain": [
       "     american  instate  freshman  ACumGPA  greek  econ_hs  varsity\n",
       "0         1.0      1.0       0.0    3.267    0.0      1.0      0.0\n",
       "1         1.0      1.0       0.0    3.358    0.0      1.0      0.0\n",
       "2         1.0      0.0       1.0    1.775    NaN      NaN      NaN\n",
       "3         1.0      1.0       0.0    3.654    1.0      1.0      0.0\n",
       "4         1.0      1.0       0.0    3.000    1.0      1.0      0.0\n",
       "..        ...      ...       ...      ...    ...      ...      ...\n",
       "622       1.0      0.0       1.0    2.653    NaN      NaN      NaN\n",
       "623       0.0      0.0       1.0    3.200    0.0      0.0      0.0\n",
       "624       0.0      0.0       1.0    3.677    0.0      0.0      1.0\n",
       "625       0.0      0.0       1.0    3.500    0.0      0.0      0.0\n",
       "626       1.0      0.0       1.0    4.000    1.0      1.0      0.0\n",
       "\n",
       "[627 rows x 7 columns]"
      ]
     },
     "execution_count": 15,
     "metadata": {},
     "output_type": "execute_result"
    }
   ],
   "source": [
    "# Seleccionamos las variables para las estadísticas descriptivas\n",
    "table1 = data.loc[:,[\"american\", \"instate\", \"freshman\",\"ACumGPA\", \"greek\", \"econ_hs\", \"varsity\"]]\n",
    "table1 "
   ]
  },
  {
   "cell_type": "code",
   "execution_count": 16,
   "id": "4650c77b",
   "metadata": {
    "scrolled": false
   },
   "outputs": [
    {
     "data": {
      "text/html": [
       "<div>\n",
       "<style scoped>\n",
       "    .dataframe tbody tr th:only-of-type {\n",
       "        vertical-align: middle;\n",
       "    }\n",
       "\n",
       "    .dataframe tbody tr th {\n",
       "        vertical-align: top;\n",
       "    }\n",
       "\n",
       "    .dataframe thead th {\n",
       "        text-align: right;\n",
       "    }\n",
       "</style>\n",
       "<table border=\"1\" class=\"dataframe\">\n",
       "  <thead>\n",
       "    <tr style=\"text-align: right;\">\n",
       "      <th></th>\n",
       "      <th>american</th>\n",
       "      <th>instate</th>\n",
       "      <th>freshman</th>\n",
       "      <th>ACumGPA</th>\n",
       "      <th>greek</th>\n",
       "      <th>econ_hs</th>\n",
       "      <th>varsity</th>\n",
       "    </tr>\n",
       "  </thead>\n",
       "  <tbody>\n",
       "    <tr>\n",
       "      <th>count</th>\n",
       "      <td>627.000000</td>\n",
       "      <td>627.000000</td>\n",
       "      <td>627.000000</td>\n",
       "      <td>627.000000</td>\n",
       "      <td>501.000000</td>\n",
       "      <td>501.000000</td>\n",
       "      <td>500.000000</td>\n",
       "    </tr>\n",
       "    <tr>\n",
       "      <th>mean</th>\n",
       "      <td>0.902711</td>\n",
       "      <td>0.221691</td>\n",
       "      <td>0.864434</td>\n",
       "      <td>3.432091</td>\n",
       "      <td>0.642715</td>\n",
       "      <td>0.578842</td>\n",
       "      <td>0.072000</td>\n",
       "    </tr>\n",
       "    <tr>\n",
       "      <th>std</th>\n",
       "      <td>0.296587</td>\n",
       "      <td>0.415717</td>\n",
       "      <td>0.342602</td>\n",
       "      <td>0.435175</td>\n",
       "      <td>0.479679</td>\n",
       "      <td>0.494239</td>\n",
       "      <td>0.258747</td>\n",
       "    </tr>\n",
       "    <tr>\n",
       "      <th>min</th>\n",
       "      <td>0.000000</td>\n",
       "      <td>0.000000</td>\n",
       "      <td>0.000000</td>\n",
       "      <td>1.200000</td>\n",
       "      <td>0.000000</td>\n",
       "      <td>0.000000</td>\n",
       "      <td>0.000000</td>\n",
       "    </tr>\n",
       "    <tr>\n",
       "      <th>25%</th>\n",
       "      <td>1.000000</td>\n",
       "      <td>0.000000</td>\n",
       "      <td>1.000000</td>\n",
       "      <td>3.229000</td>\n",
       "      <td>0.000000</td>\n",
       "      <td>0.000000</td>\n",
       "      <td>0.000000</td>\n",
       "    </tr>\n",
       "    <tr>\n",
       "      <th>50%</th>\n",
       "      <td>1.000000</td>\n",
       "      <td>0.000000</td>\n",
       "      <td>1.000000</td>\n",
       "      <td>3.500000</td>\n",
       "      <td>1.000000</td>\n",
       "      <td>1.000000</td>\n",
       "      <td>0.000000</td>\n",
       "    </tr>\n",
       "    <tr>\n",
       "      <th>75%</th>\n",
       "      <td>1.000000</td>\n",
       "      <td>0.000000</td>\n",
       "      <td>1.000000</td>\n",
       "      <td>3.740000</td>\n",
       "      <td>1.000000</td>\n",
       "      <td>1.000000</td>\n",
       "      <td>0.000000</td>\n",
       "    </tr>\n",
       "    <tr>\n",
       "      <th>max</th>\n",
       "      <td>1.000000</td>\n",
       "      <td>1.000000</td>\n",
       "      <td>1.000000</td>\n",
       "      <td>4.000000</td>\n",
       "      <td>1.000000</td>\n",
       "      <td>1.000000</td>\n",
       "      <td>1.000000</td>\n",
       "    </tr>\n",
       "  </tbody>\n",
       "</table>\n",
       "</div>"
      ],
      "text/plain": [
       "         american     instate    freshman     ACumGPA       greek     econ_hs  \\\n",
       "count  627.000000  627.000000  627.000000  627.000000  501.000000  501.000000   \n",
       "mean     0.902711    0.221691    0.864434    3.432091    0.642715    0.578842   \n",
       "std      0.296587    0.415717    0.342602    0.435175    0.479679    0.494239   \n",
       "min      0.000000    0.000000    0.000000    1.200000    0.000000    0.000000   \n",
       "25%      1.000000    0.000000    1.000000    3.229000    0.000000    0.000000   \n",
       "50%      1.000000    0.000000    1.000000    3.500000    1.000000    1.000000   \n",
       "75%      1.000000    0.000000    1.000000    3.740000    1.000000    1.000000   \n",
       "max      1.000000    1.000000    1.000000    4.000000    1.000000    1.000000   \n",
       "\n",
       "          varsity  \n",
       "count  500.000000  \n",
       "mean     0.072000  \n",
       "std      0.258747  \n",
       "min      0.000000  \n",
       "25%      0.000000  \n",
       "50%      0.000000  \n",
       "75%      0.000000  \n",
       "max      1.000000  "
      ]
     },
     "execution_count": 16,
     "metadata": {},
     "output_type": "execute_result"
    }
   ],
   "source": [
    "# Realizamos la descripción de la información previamente definida\n",
    "table1.describe()"
   ]
  },
  {
   "cell_type": "code",
   "execution_count": 18,
   "id": "56c48367",
   "metadata": {
    "scrolled": true
   },
   "outputs": [
    {
     "data": {
      "text/html": [
       "<div>\n",
       "<style scoped>\n",
       "    .dataframe tbody tr th:only-of-type {\n",
       "        vertical-align: middle;\n",
       "    }\n",
       "\n",
       "    .dataframe tbody tr th {\n",
       "        vertical-align: top;\n",
       "    }\n",
       "\n",
       "    .dataframe thead th {\n",
       "        text-align: right;\n",
       "    }\n",
       "</style>\n",
       "<table border=\"1\" class=\"dataframe\">\n",
       "  <thead>\n",
       "    <tr style=\"text-align: right;\">\n",
       "      <th></th>\n",
       "      <th>mean</th>\n",
       "      <th>std</th>\n",
       "      <th>count</th>\n",
       "      <th>min</th>\n",
       "      <th>max</th>\n",
       "    </tr>\n",
       "  </thead>\n",
       "  <tbody>\n",
       "    <tr>\n",
       "      <th>american</th>\n",
       "      <td>0.902711</td>\n",
       "      <td>0.296587</td>\n",
       "      <td>627.0</td>\n",
       "      <td>0.0</td>\n",
       "      <td>1.0</td>\n",
       "    </tr>\n",
       "    <tr>\n",
       "      <th>instate</th>\n",
       "      <td>0.221691</td>\n",
       "      <td>0.415717</td>\n",
       "      <td>627.0</td>\n",
       "      <td>0.0</td>\n",
       "      <td>1.0</td>\n",
       "    </tr>\n",
       "    <tr>\n",
       "      <th>freshman</th>\n",
       "      <td>0.864434</td>\n",
       "      <td>0.342602</td>\n",
       "      <td>627.0</td>\n",
       "      <td>0.0</td>\n",
       "      <td>1.0</td>\n",
       "    </tr>\n",
       "    <tr>\n",
       "      <th>ACumGPA</th>\n",
       "      <td>3.432091</td>\n",
       "      <td>0.435175</td>\n",
       "      <td>627.0</td>\n",
       "      <td>1.2</td>\n",
       "      <td>4.0</td>\n",
       "    </tr>\n",
       "    <tr>\n",
       "      <th>greek</th>\n",
       "      <td>0.642715</td>\n",
       "      <td>0.479679</td>\n",
       "      <td>501.0</td>\n",
       "      <td>0.0</td>\n",
       "      <td>1.0</td>\n",
       "    </tr>\n",
       "    <tr>\n",
       "      <th>econ_hs</th>\n",
       "      <td>0.578842</td>\n",
       "      <td>0.494239</td>\n",
       "      <td>501.0</td>\n",
       "      <td>0.0</td>\n",
       "      <td>1.0</td>\n",
       "    </tr>\n",
       "    <tr>\n",
       "      <th>varsity</th>\n",
       "      <td>0.072000</td>\n",
       "      <td>0.258747</td>\n",
       "      <td>500.0</td>\n",
       "      <td>0.0</td>\n",
       "      <td>1.0</td>\n",
       "    </tr>\n",
       "  </tbody>\n",
       "</table>\n",
       "</div>"
      ],
      "text/plain": [
       "              mean       std  count  min  max\n",
       "american  0.902711  0.296587  627.0  0.0  1.0\n",
       "instate   0.221691  0.415717  627.0  0.0  1.0\n",
       "freshman  0.864434  0.342602  627.0  0.0  1.0\n",
       "ACumGPA   3.432091  0.435175  627.0  1.2  4.0\n",
       "greek     0.642715  0.479679  501.0  0.0  1.0\n",
       "econ_hs   0.578842  0.494239  501.0  0.0  1.0\n",
       "varsity   0.072000  0.258747  500.0  0.0  1.0"
      ]
     },
     "execution_count": 18,
     "metadata": {},
     "output_type": "execute_result"
    }
   ],
   "source": [
    "# Realizamos una tabla resumen que contenga información sobre:  (mean, sd, min, max, count) \n",
    "# posteriormene transponemos la tabla\n",
    "summary_table = table1.describe().loc[[\"mean\",\"std\",\"count\",\"min\",\"max\"]].T\n",
    "summary_table"
   ]
  },
  {
   "cell_type": "code",
   "execution_count": 19,
   "id": "75590768",
   "metadata": {
    "scrolled": true
   },
   "outputs": [
    {
     "data": {
      "text/plain": [
       "Index(['american', 'instate', 'freshman', 'ACumGPA', 'greek', 'econ_hs',\n",
       "       'varsity'],\n",
       "      dtype='object')"
      ]
     },
     "execution_count": 19,
     "metadata": {},
     "output_type": "execute_result"
    }
   ],
   "source": [
    "# Consideramos el nombre de cada colmuna para su posterior modificación\n",
    "table1.columns"
   ]
  },
  {
   "cell_type": "code",
   "execution_count": 20,
   "id": "79203d79",
   "metadata": {
    "scrolled": true
   },
   "outputs": [
    {
     "data": {
      "text/plain": [
       "{'american': 'Estudiante americano',\n",
       " 'instate': 'Estudiante in-state',\n",
       " 'freshman': 'Estudiante es de primer año',\n",
       " 'ACumGPA': 'GPA acumulado',\n",
       " 'greek': 'Estudiante pertenece a una fraternidad o sororidad',\n",
       " 'econ_hs': 'Estudiante llevó Economía en High School',\n",
       " 'varsity': 'Estudiante es un atleta'}"
      ]
     },
     "execution_count": 20,
     "metadata": {},
     "output_type": "execute_result"
    }
   ],
   "source": [
    "# Cambiando los nombres\n",
    "table1.columns\n",
    "\n",
    "new_names = [\"Estudiante americano\",\n",
    "             \"Estudiante in-state\",\n",
    "             \"Estudiante es de primer año\",\n",
    "             \"GPA acumulado\",\n",
    "             \"Estudiante pertenece a una fraternidad o sororidad\",\n",
    "             \"Estudiante llevó Economía en High School\",\n",
    "             \"Estudiante es un atleta\"]\n",
    "# Realizamos la unión de la estrcutra bajo un diccionario\n",
    "dict( zip( table1.columns, new_names) )"
   ]
  },
  {
   "cell_type": "code",
   "execution_count": 22,
   "id": "5ea48bbb",
   "metadata": {
    "scrolled": true
   },
   "outputs": [
    {
     "data": {
      "text/html": [
       "<div>\n",
       "<style scoped>\n",
       "    .dataframe tbody tr th:only-of-type {\n",
       "        vertical-align: middle;\n",
       "    }\n",
       "\n",
       "    .dataframe tbody tr th {\n",
       "        vertical-align: top;\n",
       "    }\n",
       "\n",
       "    .dataframe thead th {\n",
       "        text-align: right;\n",
       "    }\n",
       "</style>\n",
       "<table border=\"1\" class=\"dataframe\">\n",
       "  <thead>\n",
       "    <tr style=\"text-align: right;\">\n",
       "      <th></th>\n",
       "      <th>Mean</th>\n",
       "      <th>Standard Deviation</th>\n",
       "      <th>Observations</th>\n",
       "      <th>Min</th>\n",
       "      <th>Max</th>\n",
       "    </tr>\n",
       "  </thead>\n",
       "  <tbody>\n",
       "    <tr>\n",
       "      <th>Estudiante americano</th>\n",
       "      <td>0.902711</td>\n",
       "      <td>0.296587</td>\n",
       "      <td>627.0</td>\n",
       "      <td>0.0</td>\n",
       "      <td>1.0</td>\n",
       "    </tr>\n",
       "    <tr>\n",
       "      <th>Estudiante in-state</th>\n",
       "      <td>0.221691</td>\n",
       "      <td>0.415717</td>\n",
       "      <td>627.0</td>\n",
       "      <td>0.0</td>\n",
       "      <td>1.0</td>\n",
       "    </tr>\n",
       "    <tr>\n",
       "      <th>Estudiante es de primer año</th>\n",
       "      <td>0.864434</td>\n",
       "      <td>0.342602</td>\n",
       "      <td>627.0</td>\n",
       "      <td>0.0</td>\n",
       "      <td>1.0</td>\n",
       "    </tr>\n",
       "    <tr>\n",
       "      <th>GPA acumulado</th>\n",
       "      <td>3.432091</td>\n",
       "      <td>0.435175</td>\n",
       "      <td>627.0</td>\n",
       "      <td>1.2</td>\n",
       "      <td>4.0</td>\n",
       "    </tr>\n",
       "    <tr>\n",
       "      <th>Estudiante pertenece a una fraternidad o sororidad</th>\n",
       "      <td>0.642715</td>\n",
       "      <td>0.479679</td>\n",
       "      <td>501.0</td>\n",
       "      <td>0.0</td>\n",
       "      <td>1.0</td>\n",
       "    </tr>\n",
       "    <tr>\n",
       "      <th>Estudiante llevó Economía en High School</th>\n",
       "      <td>0.578842</td>\n",
       "      <td>0.494239</td>\n",
       "      <td>501.0</td>\n",
       "      <td>0.0</td>\n",
       "      <td>1.0</td>\n",
       "    </tr>\n",
       "    <tr>\n",
       "      <th>Estudiante es un atleta</th>\n",
       "      <td>0.072000</td>\n",
       "      <td>0.258747</td>\n",
       "      <td>500.0</td>\n",
       "      <td>0.0</td>\n",
       "      <td>1.0</td>\n",
       "    </tr>\n",
       "  </tbody>\n",
       "</table>\n",
       "</div>"
      ],
      "text/plain": [
       "                                                        Mean  \\\n",
       "Estudiante americano                                0.902711   \n",
       "Estudiante in-state                                 0.221691   \n",
       "Estudiante es de primer año                         0.864434   \n",
       "GPA acumulado                                       3.432091   \n",
       "Estudiante pertenece a una fraternidad o sororidad  0.642715   \n",
       "Estudiante llevó Economía en High School            0.578842   \n",
       "Estudiante es un atleta                             0.072000   \n",
       "\n",
       "                                                    Standard Deviation  \\\n",
       "Estudiante americano                                          0.296587   \n",
       "Estudiante in-state                                           0.415717   \n",
       "Estudiante es de primer año                                   0.342602   \n",
       "GPA acumulado                                                 0.435175   \n",
       "Estudiante pertenece a una fraternidad o sororidad            0.479679   \n",
       "Estudiante llevó Economía en High School                      0.494239   \n",
       "Estudiante es un atleta                                       0.258747   \n",
       "\n",
       "                                                    Observations  Min  Max  \n",
       "Estudiante americano                                       627.0  0.0  1.0  \n",
       "Estudiante in-state                                        627.0  0.0  1.0  \n",
       "Estudiante es de primer año                                627.0  0.0  1.0  \n",
       "GPA acumulado                                              627.0  1.2  4.0  \n",
       "Estudiante pertenece a una fraternidad o sororidad         501.0  0.0  1.0  \n",
       "Estudiante llevó Economía en High School                   501.0  0.0  1.0  \n",
       "Estudiante es un atleta                                    500.0  0.0  1.0  "
      ]
     },
     "execution_count": 22,
     "metadata": {},
     "output_type": "execute_result"
    }
   ],
   "source": [
    "# Optimizando la tabla de estadísticas descriptivas\n",
    "nuevos_nombres = dict( zip( table1.columns, new_names) )\n",
    "\n",
    "columns_nuevos_nombres = {\n",
    "    \"mean\": \"Mean\",\n",
    "    \"std\": \"Standard Deviation\",\n",
    "    \"count\": \"Observations\",\n",
    "    \"min\": \"Min\",\n",
    "    \"max\": \"Max\"}\n",
    "\n",
    "# Ahora la tabla tiene nuevos nombres tando de columnas como de filas\n",
    "summary_table.rename(index=nuevos_nombres, columns=columns_nuevos_nombres, inplace=True)\n",
    "summary_table"
   ]
  },
  {
   "cell_type": "code",
   "execution_count": 24,
   "id": "e6310cf0",
   "metadata": {},
   "outputs": [],
   "source": [
    "# Exportamos a Latex\n",
    "summary_table.style.format(subset=\"Mean\", precision=2).format(subset=\"Standard Deviation\", precision=2)\\\n",
    ".format(subset=\"Observations\", precision=0).format(subset=\"Min\", precision=0).format(subset=\"Max\", precision=0)\\\n",
    ".to_latex(\n",
    "    r\"..\\..\\trabajo_final\\Grupo11\\Tabla_ED.tex\",\n",
    "caption=\"Descriptive Statistics\",\n",
    "    column_format = \"lccc\"   # l: left, c:center , r: right\n",
    ")"
   ]
  },
  {
   "cell_type": "markdown",
   "id": "dd1c45f6",
   "metadata": {},
   "source": [
    "### 2. Replica de tablas"
   ]
  },
  {
   "cell_type": "markdown",
   "id": "c2d1c415",
   "metadata": {},
   "source": [
    "#### 2.1 Tabla 3"
   ]
  },
  {
   "cell_type": "code",
   "execution_count": 74,
   "id": "d103d204",
   "metadata": {
    "scrolled": true
   },
   "outputs": [
    {
     "name": "stdout",
     "output_type": "stream",
     "text": [
      "                            OLS Regression Results                            \n",
      "==============================================================================\n",
      "Dep. Variable:              took_year   R-squared:                       0.008\n",
      "Model:                            OLS   Adj. R-squared:                  0.003\n",
      "Method:                 Least Squares   F-statistic:                 6.005e+09\n",
      "Date:                Thu, 13 Jul 2023   Prob (F-statistic):           9.49e-06\n",
      "Time:                        18:30:18   Log-Likelihood:                -211.88\n",
      "No. Observations:                 627   AIC:                             431.8\n",
      "Df Residuals:                     623   BIC:                             449.5\n",
      "Df Model:                           3                                         \n",
      "Covariance Type:              cluster                                         \n",
      "===================================================================================\n",
      "                      coef    std err          z      P>|z|      [0.025      0.975]\n",
      "-----------------------------------------------------------------------------------\n",
      "Intercept           0.1474      0.252      0.585      0.559      -0.346       0.641\n",
      "treat2016           0.1150      0.166      0.693      0.488      -0.210       0.440\n",
      "yr_2016            -0.0401      0.060     -0.669      0.503      -0.157       0.077\n",
      "treatment_class    -0.0377      0.056     -0.672      0.502      -0.148       0.072\n",
      "==============================================================================\n",
      "Omnibus:                      248.008   Durbin-Watson:                   2.128\n",
      "Prob(Omnibus):                  0.000   Jarque-Bera (JB):              645.527\n",
      "Skew:                           2.124   Prob(JB):                    6.69e-141\n",
      "Kurtosis:                       5.582   Cond. No.                         6.63\n",
      "==============================================================================\n",
      "\n",
      "Notes:\n",
      "[1] Standard Errors are robust to cluster correlation (cluster)\n"
     ]
    }
   ],
   "source": [
    "# NO consideramos variables de control para el modelo 1\n",
    "model1_3= \"took_year ~ treat2016 + yr_2016 + treatment_class\"\n",
    "\n",
    "ols_model1 = smf.ols(model1_3, data=datos).fit(cov_type='cluster', cov_kwds={'groups': datos['took_year']})\n",
    "\n",
    "print(ols_model1.summary())"
   ]
  },
  {
   "cell_type": "code",
   "execution_count": 68,
   "id": "58154aa5",
   "metadata": {},
   "outputs": [
    {
     "data": {
      "text/plain": [
       "'female_prof + instate + freshman + american + ACumGPA + gradePrinciples + small_class'"
      ]
     },
     "execution_count": 68,
     "metadata": {},
     "output_type": "execute_result"
    }
   ],
   "source": [
    "# Considerando variables de control\n",
    "control_vars = [\"female_prof\", \"instate\", \"freshman\", \"american\", \"ACumGPA\", \"gradePrinciples\",\"small_class\"]\n",
    "' + '.join( control_vars )"
   ]
  },
  {
   "cell_type": "code",
   "execution_count": 75,
   "id": "6dc14468",
   "metadata": {},
   "outputs": [
    {
     "data": {
      "text/plain": [
       "'took_year ~ treat2016 + yr_2016 + treatment_class + female_prof + instate + freshman + american + ACumGPA + gradePrinciples + small_class'"
      ]
     },
     "execution_count": 75,
     "metadata": {},
     "output_type": "execute_result"
    }
   ],
   "source": [
    "# Tenemos la formula con las variables de control para el modelo 2\n",
    "formula_model2_3 = \"took_year ~ treat2016 + yr_2016 + treatment_class + \" + ' + '.join( control_vars )\n",
    "formula_model2_3"
   ]
  },
  {
   "cell_type": "code",
   "execution_count": 133,
   "id": "fb3b34c8",
   "metadata": {
    "scrolled": true
   },
   "outputs": [
    {
     "name": "stdout",
     "output_type": "stream",
     "text": [
      "                            OLS Regression Results                            \n",
      "==============================================================================\n",
      "Dep. Variable:              took_year   R-squared:                       0.035\n",
      "Model:                            OLS   Adj. R-squared:                  0.020\n",
      "Method:                 Least Squares   F-statistic:                -9.451e+09\n",
      "Date:                Thu, 13 Jul 2023   Prob (F-statistic):               1.00\n",
      "Time:                        19:54:11   Log-Likelihood:                -203.16\n",
      "No. Observations:                 627   AIC:                             428.3\n",
      "Df Residuals:                     616   BIC:                             477.2\n",
      "Df Model:                          10                                         \n",
      "Covariance Type:              cluster                                         \n",
      "===================================================================================\n",
      "                      coef    std err          z      P>|z|      [0.025      0.975]\n",
      "-----------------------------------------------------------------------------------\n",
      "Intercept           0.3720      0.558      0.667      0.505      -0.721       1.465\n",
      "treat2016           0.1122      0.159      0.704      0.482      -0.200       0.425\n",
      "yr_2016            -0.0486      0.071     -0.687      0.492      -0.187       0.090\n",
      "treatment_class    -0.0473      0.074     -0.639      0.523      -0.193       0.098\n",
      "female_prof         0.0357      0.047      0.752      0.452      -0.057       0.129\n",
      "instate            -0.0032      0.005     -0.703      0.482      -0.012       0.006\n",
      "freshman            0.0149      0.023      0.644      0.519      -0.030       0.060\n",
      "american           -0.1402      0.171     -0.819      0.413      -0.476       0.195\n",
      "ACumGPA            -0.0846      0.130     -0.650      0.515      -0.340       0.170\n",
      "gradePrinciples     0.0600      0.091      0.657      0.511      -0.119       0.239\n",
      "small_class        -0.0440      0.060     -0.730      0.466      -0.162       0.074\n",
      "==============================================================================\n",
      "Omnibus:                      237.806   Durbin-Watson:                   2.135\n",
      "Prob(Omnibus):                  0.000   Jarque-Bera (JB):              598.324\n",
      "Skew:                           2.045   Prob(JB):                    1.19e-130\n",
      "Kurtosis:                       5.485   Cond. No.                         49.5\n",
      "==============================================================================\n",
      "\n",
      "Notes:\n",
      "[1] Standard Errors are robust to cluster correlation (cluster)\n"
     ]
    }
   ],
   "source": [
    "# Realizando la estimación\n",
    "ols_model2 = smf.ols(formula_model2_3, data=datos).fit(cov_type='cluster', cov_kwds={'groups': datos['took_year']})\n",
    "print(ols_model2.summary())"
   ]
  },
  {
   "cell_type": "code",
   "execution_count": 134,
   "id": "96924a9e",
   "metadata": {
    "scrolled": true
   },
   "outputs": [
    {
     "name": "stdout",
     "output_type": "stream",
     "text": [
      "                            OLS Regression Results                            \n",
      "==============================================================================\n",
      "Dep. Variable:            tookanother   R-squared:                       0.010\n",
      "Model:                            OLS   Adj. R-squared:                  0.006\n",
      "Method:                 Least Squares   F-statistic:                 4.359e+10\n",
      "Date:                Thu, 13 Jul 2023   Prob (F-statistic):           3.52e-06\n",
      "Time:                        19:54:21   Log-Likelihood:                -330.66\n",
      "No. Observations:                 627   AIC:                             669.3\n",
      "Df Residuals:                     623   BIC:                             687.1\n",
      "Df Model:                           3                                         \n",
      "Covariance Type:              cluster                                         \n",
      "===================================================================================\n",
      "                      coef    std err          z      P>|z|      [0.025      0.975]\n",
      "-----------------------------------------------------------------------------------\n",
      "Intercept           0.2372      0.363      0.654      0.513      -0.474       0.948\n",
      "treat2016           0.1576      0.174      0.906      0.365      -0.183       0.499\n",
      "yr_2016            -0.0620      0.073     -0.849      0.396      -0.205       0.081\n",
      "treatment_class    -0.0482      0.055     -0.869      0.385      -0.157       0.060\n",
      "==============================================================================\n",
      "Omnibus:                      118.202   Durbin-Watson:                   1.905\n",
      "Prob(Omnibus):                  0.000   Jarque-Bera (JB):              191.693\n",
      "Skew:                           1.353   Prob(JB):                     2.37e-42\n",
      "Kurtosis:                       2.894   Cond. No.                         6.63\n",
      "==============================================================================\n",
      "\n",
      "Notes:\n",
      "[1] Standard Errors are robust to cluster correlation (cluster)\n"
     ]
    }
   ],
   "source": [
    "# NO consideramos variables de control para el modelo 3\n",
    "model3_3= \"tookanother ~ treat2016 + yr_2016 + treatment_class\"\n",
    "ols_model3 = smf.ols(model3_3, data=datos).fit(cov_type='cluster', cov_kwds={'groups': datos['tookanother']})\n",
    "print(ols_model3.summary())"
   ]
  },
  {
   "cell_type": "code",
   "execution_count": 82,
   "id": "a4fa9f82",
   "metadata": {},
   "outputs": [
    {
     "data": {
      "text/plain": [
       "'tookanother ~ treat2016 + yr_2016 + treatment_class + female_prof + instate + freshman + american + ACumGPA + gradePrinciples + small_class'"
      ]
     },
     "execution_count": 82,
     "metadata": {},
     "output_type": "execute_result"
    }
   ],
   "source": [
    "# Tenemos la formula con las variables de control para el modelo 4\n",
    "formula_model4_3 = \"tookanother ~ treat2016 + yr_2016 + treatment_class + \" + ' + '.join( control_vars )\n",
    "formula_model4_3"
   ]
  },
  {
   "cell_type": "code",
   "execution_count": 135,
   "id": "0e9d9b01",
   "metadata": {
    "scrolled": false
   },
   "outputs": [
    {
     "name": "stdout",
     "output_type": "stream",
     "text": [
      "                            OLS Regression Results                            \n",
      "==============================================================================\n",
      "Dep. Variable:            tookanother   R-squared:                       0.049\n",
      "Model:                            OLS   Adj. R-squared:                  0.034\n",
      "Method:                 Least Squares   F-statistic:                -2.136e+11\n",
      "Date:                Thu, 13 Jul 2023   Prob (F-statistic):               1.00\n",
      "Time:                        19:54:31   Log-Likelihood:                -318.16\n",
      "No. Observations:                 627   AIC:                             658.3\n",
      "Df Residuals:                     616   BIC:                             707.2\n",
      "Df Model:                          10                                         \n",
      "Covariance Type:              cluster                                         \n",
      "===================================================================================\n",
      "                      coef    std err          z      P>|z|      [0.025      0.975]\n",
      "-----------------------------------------------------------------------------------\n",
      "Intercept           0.8032      0.927      0.866      0.386      -1.014       2.620\n",
      "treat2016           0.1389      0.158      0.881      0.378      -0.170       0.448\n",
      "yr_2016            -0.0668      0.073     -0.919      0.358      -0.209       0.076\n",
      "treatment_class    -0.0615      0.083     -0.742      0.458      -0.224       0.101\n",
      "female_prof         0.0231      0.032      0.721      0.471      -0.040       0.086\n",
      "instate            -0.0192      0.024     -0.786      0.432      -0.067       0.029\n",
      "freshman           -0.0154      0.014     -1.074      0.283      -0.043       0.013\n",
      "american           -0.2090      0.153     -1.365      0.172      -0.509       0.091\n",
      "ACumGPA            -0.1370      0.154     -0.891      0.373      -0.439       0.165\n",
      "gradePrinciples     0.0420      0.041      1.035      0.301      -0.038       0.121\n",
      "small_class        -0.0669      0.063     -1.059      0.289      -0.191       0.057\n",
      "==============================================================================\n",
      "Omnibus:                      110.999   Durbin-Watson:                   1.928\n",
      "Prob(Omnibus):                  0.000   Jarque-Bera (JB):              174.915\n",
      "Skew:                           1.294   Prob(JB):                     1.04e-38\n",
      "Kurtosis:                       2.986   Cond. No.                         49.5\n",
      "==============================================================================\n",
      "\n",
      "Notes:\n",
      "[1] Standard Errors are robust to cluster correlation (cluster)\n"
     ]
    }
   ],
   "source": [
    "# Realizando la estimación\n",
    "ols_model4= smf.ols(formula_model4_3, data=datos).fit(cov_type='cluster', cov_kwds={'groups': datos['tookanother']})\n",
    "print(ols_model4.summary())"
   ]
  },
  {
   "cell_type": "markdown",
   "id": "fc7d7c45",
   "metadata": {},
   "source": [
    "##### Proceso de exportación a latex"
   ]
  },
  {
   "cell_type": "code",
   "execution_count": 140,
   "id": "2f58b41f",
   "metadata": {},
   "outputs": [
    {
     "data": {
      "text/plain": [
       "{'treat2016': 'Treatment class x 2016',\n",
       " 'yr_2016': 'Year 2016',\n",
       " 'treatment_class': 'Treatment class (in 2015)'}"
      ]
     },
     "execution_count": 140,
     "metadata": {},
     "output_type": "execute_result"
    }
   ],
   "source": [
    "# Lista de explicativa a mostrarse en la tabla\n",
    "explicativas = ['treat2016','yr_2016','treatment_class']\n",
    "\n",
    "# etiquetas a las variables \n",
    "etiquetas = ['Treatment class x 2016','Year 2016','Treatment class (in 2015)']\n",
    "\n",
    "labels = dict(zip(explicativas,etiquetas))\n",
    "labels "
   ]
  },
  {
   "cell_type": "code",
   "execution_count": 144,
   "id": "159a650c",
   "metadata": {},
   "outputs": [],
   "source": [
    "pystout(models = [ols_model1,ols_model2,ols_model3,ols_model4], file=r\"..\\..\\trabajo_final\\Grupo11\\Table_3x.tex\", digits=3,\n",
    "        endog_names=['Took Micro within year','Took another econclass','Took Micro within year','Took another econclass'],\n",
    "        exogvars =explicativas ,  # sellecionamos las variables \n",
    "        varlabels = labels,  # etiquetas a las variables\n",
    "        modstat={'nobs':'Observarions'}, # estadísticos \n",
    "        addrows={'Controls':['No','Yes','No','yes']},\n",
    "        title='Treatment Effects on Intermediate Outcomes',\n",
    "       )\n"
   ]
  },
  {
   "cell_type": "markdown",
   "id": "226720e0",
   "metadata": {},
   "source": [
    "#### 2.2 Tabla 4"
   ]
  },
  {
   "cell_type": "code",
   "execution_count": 142,
   "id": "f0bd4926",
   "metadata": {
    "scrolled": true
   },
   "outputs": [
    {
     "name": "stdout",
     "output_type": "stream",
     "text": [
      "                            OLS Regression Results                            \n",
      "==============================================================================\n",
      "Dep. Variable:           numeconclass   R-squared:                       0.006\n",
      "Model:                            OLS   Adj. R-squared:                  0.001\n",
      "Method:                 Least Squares   F-statistic:                     3.964\n",
      "Date:                Thu, 13 Jul 2023   Prob (F-statistic):             0.0385\n",
      "Time:                        20:18:54   Log-Likelihood:                -1505.4\n",
      "No. Observations:                 627   AIC:                             3019.\n",
      "Df Residuals:                     623   BIC:                             3037.\n",
      "Df Model:                           3                                         \n",
      "Covariance Type:              cluster                                         \n",
      "===================================================================================\n",
      "                      coef    std err          z      P>|z|      [0.025      0.975]\n",
      "-----------------------------------------------------------------------------------\n",
      "Intercept           1.0256      0.112      9.192      0.000       0.807       1.244\n",
      "treat2016           0.6916      0.220      3.146      0.002       0.261       1.122\n",
      "yr_2016            -0.1725      0.137     -1.260      0.208      -0.441       0.096\n",
      "treatment_class    -0.1293      0.185     -0.700      0.484      -0.491       0.233\n",
      "==============================================================================\n",
      "Omnibus:                      386.942   Durbin-Watson:                   2.084\n",
      "Prob(Omnibus):                  0.000   Jarque-Bera (JB):             2357.666\n",
      "Skew:                           2.900   Prob(JB):                         0.00\n",
      "Kurtosis:                      10.523   Cond. No.                         6.63\n",
      "==============================================================================\n",
      "\n",
      "Notes:\n",
      "[1] Standard Errors are robust to cluster correlation (cluster)\n"
     ]
    }
   ],
   "source": [
    "# NO consideramos variables de control para el modelo 1\n",
    "model1_4= \"numeconclass ~ treat2016 + yr_2016 + treatment_class\"\n",
    "\n",
    "ols_model1 = smf.ols(model1_4, data=datos).fit(cov_type='cluster', cov_kwds={'groups': datos['class_fe2']})\n",
    "\n",
    "print(ols_model1.summary())"
   ]
  },
  {
   "cell_type": "code",
   "execution_count": 138,
   "id": "da1c5de0",
   "metadata": {
    "scrolled": true
   },
   "outputs": [
    {
     "data": {
      "text/plain": [
       "'numeconclass ~ treat2016 + yr_2016 + treatment_class + female_prof + instate + freshman + american + ACumGPA + gradePrinciples + small_class'"
      ]
     },
     "execution_count": 138,
     "metadata": {},
     "output_type": "execute_result"
    }
   ],
   "source": [
    "# Tenemos la formula con las variables de control para el modelo 2\n",
    "formula_model2_4 = \"numeconclass ~ treat2016 + yr_2016 + treatment_class + \" + ' + '.join( control_vars )\n",
    "formula_model2_4"
   ]
  },
  {
   "cell_type": "code",
   "execution_count": 139,
   "id": "6307897d",
   "metadata": {},
   "outputs": [
    {
     "name": "stdout",
     "output_type": "stream",
     "text": [
      "                            OLS Regression Results                            \n",
      "==============================================================================\n",
      "Dep. Variable:           numeconclass   R-squared:                       0.064\n",
      "Model:                            OLS   Adj. R-squared:                  0.049\n",
      "Method:                 Least Squares   F-statistic:                     1.137\n",
      "Date:                Thu, 13 Jul 2023   Prob (F-statistic):              0.406\n",
      "Time:                        19:56:29   Log-Likelihood:                -1486.6\n",
      "No. Observations:                 627   AIC:                             2995.\n",
      "Df Residuals:                     616   BIC:                             3044.\n",
      "Df Model:                          10                                         \n",
      "Covariance Type:              cluster                                         \n",
      "===================================================================================\n",
      "                      coef    std err          z      P>|z|      [0.025      0.975]\n",
      "-----------------------------------------------------------------------------------\n",
      "Intercept           5.8037      4.309      1.347      0.178      -2.642      14.250\n",
      "treat2016           0.5220      0.464      1.126      0.260      -0.387       1.431\n",
      "yr_2016            -0.1890      0.328     -0.576      0.564      -0.832       0.454\n",
      "treatment_class    -0.2058      0.329     -0.625      0.532      -0.852       0.440\n",
      "female_prof         0.0300      0.237      0.127      0.899      -0.434       0.494\n",
      "instate             0.0103      0.160      0.065      0.949      -0.303       0.323\n",
      "freshman           -0.1340      0.172     -0.781      0.435      -0.471       0.203\n",
      "american           -1.6778      0.993     -1.689      0.091      -3.625       0.269\n",
      "ACumGPA            -1.2725      1.063     -1.197      0.231      -3.356       0.811\n",
      "gradePrinciples     0.4540      0.357      1.272      0.203      -0.246       1.154\n",
      "small_class        -0.3618      0.339     -1.067      0.286      -1.027       0.303\n",
      "==============================================================================\n",
      "Omnibus:                      352.556   Durbin-Watson:                   2.126\n",
      "Prob(Omnibus):                  0.000   Jarque-Bera (JB):             1868.524\n",
      "Skew:                           2.635   Prob(JB):                         0.00\n",
      "Kurtosis:                       9.614   Cond. No.                         49.5\n",
      "==============================================================================\n",
      "\n",
      "Notes:\n",
      "[1] Standard Errors are robust to cluster correlation (cluster)\n"
     ]
    }
   ],
   "source": [
    "# Realizando la estimación\n",
    "ols_model2 = smf.ols(formula_model2_4, data=datos).fit(cov_type='cluster', cov_kwds={'groups': datos['numeconclass']})\n",
    "print(ols_model2.summary())"
   ]
  },
  {
   "cell_type": "code",
   "execution_count": 91,
   "id": "1e43a063",
   "metadata": {},
   "outputs": [
    {
     "name": "stdout",
     "output_type": "stream",
     "text": [
      "                            OLS Regression Results                            \n",
      "==============================================================================\n",
      "Dep. Variable:              econmajor   R-squared:                       0.009\n",
      "Model:                            OLS   Adj. R-squared:                  0.005\n",
      "Method:                 Least Squares   F-statistic:                 6.073e+09\n",
      "Date:                Thu, 13 Jul 2023   Prob (F-statistic):           9.07e-06\n",
      "Time:                        18:36:39   Log-Likelihood:                -133.19\n",
      "No. Observations:                 627   AIC:                             274.4\n",
      "Df Residuals:                     623   BIC:                             292.1\n",
      "Df Model:                           3                                         \n",
      "Covariance Type:              cluster                                         \n",
      "===================================================================================\n",
      "                      coef    std err          z      P>|z|      [0.025      0.975]\n",
      "-----------------------------------------------------------------------------------\n",
      "Intercept           0.1026      0.185      0.556      0.578      -0.259       0.464\n",
      "treat2016           0.0980      0.153      0.640      0.522      -0.202       0.398\n",
      "yr_2016            -0.0235      0.039     -0.610      0.542      -0.099       0.052\n",
      "treatment_class    -0.0233      0.038     -0.610      0.542      -0.098       0.052\n",
      "==============================================================================\n",
      "Omnibus:                      333.730   Durbin-Watson:                   2.090\n",
      "Prob(Omnibus):                  0.000   Jarque-Bera (JB):             1367.152\n",
      "Skew:                           2.622   Prob(JB):                    1.34e-297\n",
      "Kurtosis:                       7.983   Cond. No.                         6.63\n",
      "==============================================================================\n",
      "\n",
      "Notes:\n",
      "[1] Standard Errors are robust to cluster correlation (cluster)\n"
     ]
    }
   ],
   "source": [
    "# NO consideramos variables de control para el modelo 3\n",
    "model3_4= \"econmajor ~ treat2016 + yr_2016 + treatment_class\"\n",
    "ols_model3 = smf.ols(model3_4, data=datos).fit(cov_type='cluster', cov_kwds={'groups': datos['econmajor']})\n",
    "print(ols_model3.summary())"
   ]
  },
  {
   "cell_type": "code",
   "execution_count": 92,
   "id": "f02325f5",
   "metadata": {},
   "outputs": [
    {
     "data": {
      "text/plain": [
       "'econmajor ~ treat2016 + yr_2016 + treatment_class + female_prof + instate + freshman + american + ACumGPA + gradePrinciples + small_class'"
      ]
     },
     "execution_count": 92,
     "metadata": {},
     "output_type": "execute_result"
    }
   ],
   "source": [
    "# Tenemos la formula con las variables de control para el modelo 4\n",
    "formula_model4_4 = \"econmajor ~ treat2016 + yr_2016 + treatment_class + \" + ' + '.join( control_vars )\n",
    "formula_model4_4"
   ]
  },
  {
   "cell_type": "code",
   "execution_count": 94,
   "id": "763b94b5",
   "metadata": {
    "scrolled": true
   },
   "outputs": [
    {
     "name": "stdout",
     "output_type": "stream",
     "text": [
      "                            OLS Regression Results                            \n",
      "==============================================================================\n",
      "Dep. Variable:              econmajor   R-squared:                       0.055\n",
      "Model:                            OLS   Adj. R-squared:                  0.040\n",
      "Method:                 Least Squares   F-statistic:                -1.803e+11\n",
      "Date:                Thu, 13 Jul 2023   Prob (F-statistic):               1.00\n",
      "Time:                        18:38:14   Log-Likelihood:                -118.28\n",
      "No. Observations:                 627   AIC:                             258.6\n",
      "Df Residuals:                     616   BIC:                             307.4\n",
      "Df Model:                          10                                         \n",
      "Covariance Type:              cluster                                         \n",
      "===================================================================================\n",
      "                      coef    std err          z      P>|z|      [0.025      0.975]\n",
      "-----------------------------------------------------------------------------------\n",
      "Intercept           0.5105      0.635      0.804      0.421      -0.734       1.755\n",
      "treat2016           0.0801      0.097      0.823      0.410      -0.111       0.271\n",
      "yr_2016            -0.0277      0.026     -1.085      0.278      -0.078       0.022\n",
      "treatment_class    -0.0301      0.046     -0.650      0.516      -0.121       0.061\n",
      "female_prof         0.0209      0.033      0.632      0.528      -0.044       0.086\n",
      "instate             0.0136      0.024      0.558      0.577      -0.034       0.061\n",
      "freshman            0.0076      0.013      0.572      0.567      -0.018       0.034\n",
      "american           -0.1912      0.183     -1.045      0.296      -0.550       0.168\n",
      "ACumGPA            -0.1099      0.149     -0.737      0.461      -0.402       0.182\n",
      "gradePrinciples     0.0455      0.058      0.791      0.429      -0.067       0.158\n",
      "small_class        -0.0295      0.022     -1.353      0.176      -0.072       0.013\n",
      "==============================================================================\n",
      "Omnibus:                      315.277   Durbin-Watson:                   2.116\n",
      "Prob(Omnibus):                  0.000   Jarque-Bera (JB):             1227.222\n",
      "Skew:                           2.467   Prob(JB):                    3.25e-267\n",
      "Kurtosis:                       7.757   Cond. No.                         49.5\n",
      "==============================================================================\n",
      "\n",
      "Notes:\n",
      "[1] Standard Errors are robust to cluster correlation (cluster)\n"
     ]
    }
   ],
   "source": [
    "# Realizando la estimación\n",
    "ols_model4 = smf.ols(formula_model4_4, data=datos).fit(cov_type='cluster', cov_kwds={'groups': datos['tookanother']})\n",
    "print(ols_model4.summary())"
   ]
  },
  {
   "cell_type": "markdown",
   "id": "bde3148d",
   "metadata": {},
   "source": [
    "##### Proceso de exportación a latex"
   ]
  },
  {
   "cell_type": "code",
   "execution_count": null,
   "id": "7a1fc1d8",
   "metadata": {},
   "outputs": [],
   "source": [
    "# Lista de explicativa a mostrarse en la tabla\n",
    "explicativas_4 = ['took_year','tookanother']\n",
    "# etiquetas a las variables \n",
    "etiquetas_3 = ['Took Micro within year','Took another econclass']\n",
    "labels = dict(zip(explicativas_3,etiquetas_3))\n",
    "labels "
   ]
  },
  {
   "cell_type": "markdown",
   "id": "9bbeeaac",
   "metadata": {},
   "source": [
    "#### 2.3 Tabla 5"
   ]
  },
  {
   "cell_type": "code",
   "execution_count": 95,
   "id": "8e2e0cd9",
   "metadata": {},
   "outputs": [
    {
     "data": {
      "text/plain": [
       "'Major_STEM ~ treat2016 + yr_2016 + treatment_class + female_prof + instate + freshman + american + ACumGPA + gradePrinciples + small_class'"
      ]
     },
     "execution_count": 95,
     "metadata": {},
     "output_type": "execute_result"
    }
   ],
   "source": [
    "# Tenemos la formula con las variables de control para el modelo 1\n",
    "formula_model1_5 = \"Major_STEM ~ treat2016 + yr_2016 + treatment_class + \" + ' + '.join( control_vars )\n",
    "formula_model1_5"
   ]
  },
  {
   "cell_type": "code",
   "execution_count": 97,
   "id": "6510ed46",
   "metadata": {},
   "outputs": [
    {
     "name": "stdout",
     "output_type": "stream",
     "text": [
      "                            OLS Regression Results                            \n",
      "==============================================================================\n",
      "Dep. Variable:             Major_STEM   R-squared:                       0.030\n",
      "Model:                            OLS   Adj. R-squared:                  0.014\n",
      "Method:                 Least Squares   F-statistic:                 3.612e+09\n",
      "Date:                Thu, 13 Jul 2023   Prob (F-statistic):           1.28e-05\n",
      "Time:                        18:41:50   Log-Likelihood:                -159.54\n",
      "No. Observations:                 627   AIC:                             341.1\n",
      "Df Residuals:                     616   BIC:                             389.9\n",
      "Df Model:                          10                                         \n",
      "Covariance Type:              cluster                                         \n",
      "===================================================================================\n",
      "                      coef    std err          z      P>|z|      [0.025      0.975]\n",
      "-----------------------------------------------------------------------------------\n",
      "Intercept           0.2453      0.373      0.658      0.511      -0.486       0.976\n",
      "treat2016           0.0134      0.011      1.217      0.224      -0.008       0.035\n",
      "yr_2016             0.0027      0.004      0.722      0.470      -0.005       0.010\n",
      "treatment_class    -0.0051      0.009     -0.559      0.576      -0.023       0.013\n",
      "female_prof        -0.0089      0.014     -0.650      0.516      -0.036       0.018\n",
      "instate             0.0308      0.047      0.657      0.511      -0.061       0.123\n",
      "freshman           -0.1419      0.187     -0.757      0.449      -0.509       0.225\n",
      "american           -0.0678      0.094     -0.718      0.473      -0.253       0.117\n",
      "ACumGPA             0.0089      0.016      0.558      0.577      -0.022       0.040\n",
      "gradePrinciples     0.0043      0.003      1.636      0.102      -0.001       0.010\n",
      "small_class         0.0192      0.022      0.876      0.381      -0.024       0.062\n",
      "==============================================================================\n",
      "Omnibus:                      291.393   Durbin-Watson:                   1.943\n",
      "Prob(Omnibus):                  0.000   Jarque-Bera (JB):              964.417\n",
      "Skew:                           2.351   Prob(JB):                    3.80e-210\n",
      "Kurtosis:                       6.849   Cond. No.                         49.5\n",
      "==============================================================================\n",
      "\n",
      "Notes:\n",
      "[1] Standard Errors are robust to cluster correlation (cluster)\n"
     ]
    }
   ],
   "source": [
    "# Realizando la estimación\n",
    "ols_model1 = smf.ols(formula_model1_5, data=datos).fit(cov_type='cluster', cov_kwds={'groups': datos['Major_STEM']})\n",
    "print(ols_model1.summary())"
   ]
  },
  {
   "cell_type": "code",
   "execution_count": 98,
   "id": "52da500a",
   "metadata": {},
   "outputs": [
    {
     "data": {
      "text/plain": [
       "'Major_Business ~ treat2016 + yr_2016 + treatment_class + female_prof + instate + freshman + american + ACumGPA + gradePrinciples + small_class'"
      ]
     },
     "execution_count": 98,
     "metadata": {},
     "output_type": "execute_result"
    }
   ],
   "source": [
    "# Tenemos la formula con las variables de control para el modelo 2\n",
    "formula_model2_5 = \"Major_Business ~ treat2016 + yr_2016 + treatment_class + \" + ' + '.join( control_vars )\n",
    "formula_model2_5"
   ]
  },
  {
   "cell_type": "code",
   "execution_count": 100,
   "id": "4810ceac",
   "metadata": {},
   "outputs": [
    {
     "name": "stdout",
     "output_type": "stream",
     "text": [
      "                            OLS Regression Results                            \n",
      "==============================================================================\n",
      "Dep. Variable:         Major_Business   R-squared:                       0.022\n",
      "Model:                            OLS   Adj. R-squared:                  0.007\n",
      "Method:                 Least Squares   F-statistic:                 3.413e+09\n",
      "Date:                Thu, 13 Jul 2023   Prob (F-statistic):           1.33e-05\n",
      "Time:                        18:44:28   Log-Likelihood:                -319.96\n",
      "No. Observations:                 627   AIC:                             661.9\n",
      "Df Residuals:                     616   BIC:                             710.8\n",
      "Df Model:                          10                                         \n",
      "Covariance Type:              cluster                                         \n",
      "===================================================================================\n",
      "                      coef    std err          z      P>|z|      [0.025      0.975]\n",
      "-----------------------------------------------------------------------------------\n",
      "Intercept          -0.1535      0.149     -1.031      0.302      -0.445       0.138\n",
      "treat2016           0.0258      0.030      0.873      0.383      -0.032       0.084\n",
      "yr_2016            -0.0054      0.003     -1.699      0.089      -0.012       0.001\n",
      "treatment_class    -0.0305      0.030     -1.026      0.305      -0.089       0.028\n",
      "female_prof         0.0201      0.029      0.702      0.483      -0.036       0.076\n",
      "instate            -0.0037      0.004     -0.833      0.405      -0.013       0.005\n",
      "freshman            0.0243      0.036      0.675      0.499      -0.046       0.095\n",
      "american           -0.0431      0.036     -1.194      0.232      -0.114       0.028\n",
      "ACumGPA             0.0967      0.114      0.846      0.398      -0.127       0.321\n",
      "gradePrinciples     0.0137      0.022      0.612      0.541      -0.030       0.057\n",
      "small_class         0.0450      0.056      0.802      0.422      -0.065       0.155\n",
      "==============================================================================\n",
      "Omnibus:                      119.613   Durbin-Watson:                   1.994\n",
      "Prob(Omnibus):                  0.000   Jarque-Bera (JB):              195.271\n",
      "Skew:                           1.367   Prob(JB):                     3.96e-43\n",
      "Kurtosis:                       2.986   Cond. No.                         49.5\n",
      "==============================================================================\n",
      "\n",
      "Notes:\n",
      "[1] Standard Errors are robust to cluster correlation (cluster)\n"
     ]
    }
   ],
   "source": [
    "# Realizando la estimación\n",
    "ols_model2 = smf.ols(formula_model2_5, data=datos).fit(cov_type='cluster', cov_kwds={'groups': datos['Major_Business']})\n",
    "print(ols_model2.summary())"
   ]
  },
  {
   "cell_type": "code",
   "execution_count": 101,
   "id": "309ad1e3",
   "metadata": {},
   "outputs": [
    {
     "data": {
      "text/plain": [
       "'Major_Finance ~ treat2016 + yr_2016 + treatment_class + female_prof + instate + freshman + american + ACumGPA + gradePrinciples + small_class'"
      ]
     },
     "execution_count": 101,
     "metadata": {},
     "output_type": "execute_result"
    }
   ],
   "source": [
    "# Tenemos la formula con las variables de control para el modelo 3\n",
    "formula_model3_5 = \"Major_Finance ~ treat2016 + yr_2016 + treatment_class + \" + ' + '.join( control_vars )\n",
    "formula_model3_5"
   ]
  },
  {
   "cell_type": "code",
   "execution_count": 102,
   "id": "b9fad1cd",
   "metadata": {},
   "outputs": [
    {
     "name": "stdout",
     "output_type": "stream",
     "text": [
      "                            OLS Regression Results                            \n",
      "==============================================================================\n",
      "Dep. Variable:          Major_Finance   R-squared:                       0.052\n",
      "Model:                            OLS   Adj. R-squared:                  0.036\n",
      "Method:                 Least Squares   F-statistic:                -5.780e+10\n",
      "Date:                Thu, 13 Jul 2023   Prob (F-statistic):               1.00\n",
      "Time:                        18:44:43   Log-Likelihood:                -224.50\n",
      "No. Observations:                 627   AIC:                             471.0\n",
      "Df Residuals:                     616   BIC:                             519.8\n",
      "Df Model:                          10                                         \n",
      "Covariance Type:              cluster                                         \n",
      "===================================================================================\n",
      "                      coef    std err          z      P>|z|      [0.025      0.975]\n",
      "-----------------------------------------------------------------------------------\n",
      "Intercept          -0.3188      0.466     -0.684      0.494      -1.233       0.595\n",
      "treat2016           0.0782      0.110      0.710      0.478      -0.138       0.294\n",
      "yr_2016            -0.0573      0.075     -0.762      0.446      -0.205       0.090\n",
      "treatment_class    -0.0371      0.054     -0.686      0.492      -0.143       0.069\n",
      "female_prof         0.0268      0.038      0.699      0.484      -0.048       0.102\n",
      "instate            -0.0110      0.010     -1.094      0.274      -0.031       0.009\n",
      "freshman            0.1323      0.209      0.632      0.528      -0.278       0.543\n",
      "american            0.0241      0.027      0.903      0.366      -0.028       0.076\n",
      "ACumGPA             0.0726      0.108      0.672      0.502      -0.139       0.284\n",
      "gradePrinciples     0.0346      0.054      0.647      0.517      -0.070       0.140\n",
      "small_class        -0.0212      0.034     -0.623      0.533      -0.088       0.045\n",
      "==============================================================================\n",
      "Omnibus:                      194.256   Durbin-Watson:                   1.946\n",
      "Prob(Omnibus):                  0.000   Jarque-Bera (JB):              402.931\n",
      "Skew:                           1.802   Prob(JB):                     3.20e-88\n",
      "Kurtosis:                       4.562   Cond. No.                         49.5\n",
      "==============================================================================\n",
      "\n",
      "Notes:\n",
      "[1] Standard Errors are robust to cluster correlation (cluster)\n"
     ]
    }
   ],
   "source": [
    "# Realizando la estimación\n",
    "ols_model3 = smf.ols(formula_model3_5, data=datos).fit(cov_type='cluster', cov_kwds={'groups': datos['Major_Finance']})\n",
    "print(ols_model3.summary())"
   ]
  },
  {
   "cell_type": "code",
   "execution_count": 103,
   "id": "4bdbc87d",
   "metadata": {},
   "outputs": [
    {
     "data": {
      "text/plain": [
       "'Major_Marketing ~ treat2016 + yr_2016 + treatment_class + female_prof + instate + freshman + american + ACumGPA + gradePrinciples + small_class'"
      ]
     },
     "execution_count": 103,
     "metadata": {},
     "output_type": "execute_result"
    }
   ],
   "source": [
    "# Tenemos la formula con las variables de control para el modelo 4\n",
    "formula_model4_5 = \"Major_Marketing ~ treat2016 + yr_2016 + treatment_class + \" + ' + '.join( control_vars )\n",
    "formula_model4_5"
   ]
  },
  {
   "cell_type": "code",
   "execution_count": 104,
   "id": "8bb5ff92",
   "metadata": {
    "scrolled": true
   },
   "outputs": [
    {
     "name": "stdout",
     "output_type": "stream",
     "text": [
      "                            OLS Regression Results                            \n",
      "==============================================================================\n",
      "Dep. Variable:        Major_Marketing   R-squared:                       0.037\n",
      "Model:                            OLS   Adj. R-squared:                  0.022\n",
      "Method:                 Least Squares   F-statistic:                -8.163e+08\n",
      "Date:                Thu, 13 Jul 2023   Prob (F-statistic):               1.00\n",
      "Time:                        18:44:59   Log-Likelihood:                -199.30\n",
      "No. Observations:                 627   AIC:                             420.6\n",
      "Df Residuals:                     616   BIC:                             469.5\n",
      "Df Model:                          10                                         \n",
      "Covariance Type:              cluster                                         \n",
      "===================================================================================\n",
      "                      coef    std err          z      P>|z|      [0.025      0.975]\n",
      "-----------------------------------------------------------------------------------\n",
      "Intercept          -0.2548      0.380     -0.670      0.503      -1.000       0.490\n",
      "treat2016          -0.0176      0.021     -0.830      0.406      -0.059       0.024\n",
      "yr_2016             0.0286      0.044      0.646      0.519      -0.058       0.116\n",
      "treatment_class     0.0370      0.051      0.724      0.469      -0.063       0.137\n",
      "female_prof         0.0519      0.077      0.674      0.500      -0.099       0.203\n",
      "instate            -0.0600      0.087     -0.686      0.493      -0.231       0.111\n",
      "freshman            0.0498      0.085      0.588      0.557      -0.116       0.216\n",
      "american            0.1126      0.181      0.623      0.533      -0.242       0.467\n",
      "ACumGPA             0.0467      0.068      0.689      0.491      -0.086       0.180\n",
      "gradePrinciples     0.0154      0.026      0.583      0.560      -0.036       0.067\n",
      "small_class        -0.0274      0.037     -0.737      0.461      -0.100       0.045\n",
      "==============================================================================\n",
      "Omnibus:                      235.760   Durbin-Watson:                   2.002\n",
      "Prob(Omnibus):                  0.000   Jarque-Bera (JB):              586.628\n",
      "Skew:                           2.035   Prob(JB):                    4.12e-128\n",
      "Kurtosis:                       5.425   Cond. No.                         49.5\n",
      "==============================================================================\n",
      "\n",
      "Notes:\n",
      "[1] Standard Errors are robust to cluster correlation (cluster)\n"
     ]
    }
   ],
   "source": [
    "# Realizando la estimación\n",
    "ols_model4 = smf.ols(formula_model4_5, data=datos).fit(cov_type='cluster', cov_kwds={'groups': datos['Major_Marketing']})\n",
    "print(ols_model4.summary())"
   ]
  },
  {
   "cell_type": "markdown",
   "id": "a676898c",
   "metadata": {},
   "source": [
    "##### Proceso de exportación a latex"
   ]
  },
  {
   "cell_type": "code",
   "execution_count": null,
   "id": "868b156a",
   "metadata": {},
   "outputs": [],
   "source": []
  },
  {
   "cell_type": "markdown",
   "id": "9492731f",
   "metadata": {},
   "source": [
    "#### 2.4 Tabla 6"
   ]
  },
  {
   "cell_type": "code",
   "execution_count": 105,
   "id": "40eeb93d",
   "metadata": {},
   "outputs": [
    {
     "data": {
      "text/plain": [
       "'Major_SocSc ~ treat2016 + yr_2016 + treatment_class + female_prof + instate + freshman + american + ACumGPA + gradePrinciples + small_class'"
      ]
     },
     "execution_count": 105,
     "metadata": {},
     "output_type": "execute_result"
    }
   ],
   "source": [
    "# Tenemos la formula con las variables de control para el modelo 1\n",
    "formula_model1_6 = \"Major_SocSc ~ treat2016 + yr_2016 + treatment_class + \" + ' + '.join( control_vars )\n",
    "formula_model1_6"
   ]
  },
  {
   "cell_type": "code",
   "execution_count": 106,
   "id": "4e966b61",
   "metadata": {},
   "outputs": [
    {
     "name": "stdout",
     "output_type": "stream",
     "text": [
      "                            OLS Regression Results                            \n",
      "==============================================================================\n",
      "Dep. Variable:            Major_SocSc   R-squared:                       0.078\n",
      "Model:                            OLS   Adj. R-squared:                  0.063\n",
      "Method:                 Least Squares   F-statistic:                -7.000e+10\n",
      "Date:                Thu, 13 Jul 2023   Prob (F-statistic):               1.00\n",
      "Time:                        18:49:01   Log-Likelihood:                -131.82\n",
      "No. Observations:                 627   AIC:                             285.6\n",
      "Df Residuals:                     616   BIC:                             334.5\n",
      "Df Model:                          10                                         \n",
      "Covariance Type:              cluster                                         \n",
      "===================================================================================\n",
      "                      coef    std err          z      P>|z|      [0.025      0.975]\n",
      "-----------------------------------------------------------------------------------\n",
      "Intercept           0.6238      0.883      0.706      0.480      -1.107       2.355\n",
      "treat2016          -0.0062      0.034     -0.182      0.855      -0.073       0.061\n",
      "yr_2016            -0.0230      0.022     -1.053      0.292      -0.066       0.020\n",
      "treatment_class    -0.0369      0.034     -1.077      0.282      -0.104       0.030\n",
      "female_prof        -0.0359      0.052     -0.689      0.491      -0.138       0.066\n",
      "instate            -0.0278      0.045     -0.615      0.538      -0.117       0.061\n",
      "freshman           -0.0780      0.101     -0.770      0.441      -0.276       0.120\n",
      "american            0.0896      0.144      0.622      0.534      -0.193       0.372\n",
      "ACumGPA            -0.1105      0.160     -0.693      0.488      -0.423       0.202\n",
      "gradePrinciples    -0.0298      0.040     -0.745      0.456      -0.108       0.049\n",
      "small_class        -0.0193      0.025     -0.760      0.447      -0.069       0.030\n",
      "==============================================================================\n",
      "Omnibus:                      277.055   Durbin-Watson:                   2.028\n",
      "Prob(Omnibus):                  0.000   Jarque-Bera (JB):              890.075\n",
      "Skew:                           2.224   Prob(JB):                    5.28e-194\n",
      "Kurtosis:                       6.780   Cond. No.                         49.5\n",
      "==============================================================================\n",
      "\n",
      "Notes:\n",
      "[1] Standard Errors are robust to cluster correlation (cluster)\n"
     ]
    }
   ],
   "source": [
    "# Realizando la estimación\n",
    "ols_model1 = smf.ols(formula_model1_6, data=datos).fit(cov_type='cluster', cov_kwds={'groups': datos['Major_SocSc']})\n",
    "print(ols_model1.summary())"
   ]
  },
  {
   "cell_type": "code",
   "execution_count": 107,
   "id": "17716d0b",
   "metadata": {},
   "outputs": [
    {
     "data": {
      "text/plain": [
       "'Major_Arts ~ treat2016 + yr_2016 + treatment_class + female_prof + instate + freshman + american + ACumGPA + gradePrinciples + small_class'"
      ]
     },
     "execution_count": 107,
     "metadata": {},
     "output_type": "execute_result"
    }
   ],
   "source": [
    "# Tenemos la formula con las variables de control para el modelo 2\n",
    "formula_model2_6 = \"Major_Arts ~ treat2016 + yr_2016 + treatment_class + \" + ' + '.join( control_vars )\n",
    "formula_model2_6"
   ]
  },
  {
   "cell_type": "code",
   "execution_count": 108,
   "id": "c876f484",
   "metadata": {},
   "outputs": [
    {
     "name": "stdout",
     "output_type": "stream",
     "text": [
      "                            OLS Regression Results                            \n",
      "==============================================================================\n",
      "Dep. Variable:             Major_Arts   R-squared:                       0.022\n",
      "Model:                            OLS   Adj. R-squared:                  0.006\n",
      "Method:                 Least Squares   F-statistic:                -7.918e+09\n",
      "Date:                Thu, 13 Jul 2023   Prob (F-statistic):               1.00\n",
      "Time:                        18:50:52   Log-Likelihood:                 48.480\n",
      "No. Observations:                 627   AIC:                            -74.96\n",
      "Df Residuals:                     616   BIC:                            -26.11\n",
      "Df Model:                          10                                         \n",
      "Covariance Type:              cluster                                         \n",
      "===================================================================================\n",
      "                      coef    std err          z      P>|z|      [0.025      0.975]\n",
      "-----------------------------------------------------------------------------------\n",
      "Intercept           0.0503      0.096      0.524      0.601      -0.138       0.239\n",
      "treat2016          -0.0312      0.057     -0.551      0.582      -0.142       0.080\n",
      "yr_2016             0.0180      0.032      0.557      0.578      -0.045       0.081\n",
      "treatment_class     0.0354      0.062      0.574      0.566      -0.085       0.156\n",
      "female_prof        -0.0189      0.036     -0.532      0.595      -0.089       0.051\n",
      "instate             0.0176      0.030      0.590      0.555      -0.041       0.076\n",
      "freshman           -0.0082      0.018     -0.470      0.638      -0.043       0.026\n",
      "american           -0.0048      0.009     -0.505      0.613      -0.023       0.014\n",
      "ACumGPA             0.0368      0.066      0.555      0.579      -0.093       0.167\n",
      "gradePrinciples    -0.0434      0.077     -0.565      0.572      -0.194       0.107\n",
      "small_class         0.0294      0.051      0.578      0.563      -0.070       0.129\n",
      "==============================================================================\n",
      "Omnibus:                      505.449   Durbin-Watson:                   1.908\n",
      "Prob(Omnibus):                  0.000   Jarque-Bera (JB):             5863.446\n",
      "Skew:                           3.805   Prob(JB):                         0.00\n",
      "Kurtosis:                      15.905   Cond. No.                         49.5\n",
      "==============================================================================\n",
      "\n",
      "Notes:\n",
      "[1] Standard Errors are robust to cluster correlation (cluster)\n"
     ]
    }
   ],
   "source": [
    "# Realizando la estimación\n",
    "ols_model2 = smf.ols(formula_model2_6, data=datos).fit(cov_type='cluster', cov_kwds={'groups': datos['Major_Arts']})\n",
    "print(ols_model2.summary())"
   ]
  },
  {
   "cell_type": "code",
   "execution_count": 109,
   "id": "711c4bb8",
   "metadata": {},
   "outputs": [
    {
     "data": {
      "text/plain": [
       "'Major_Comm ~ treat2016 + yr_2016 + treatment_class + female_prof + instate + freshman + american + ACumGPA + gradePrinciples + small_class'"
      ]
     },
     "execution_count": 109,
     "metadata": {},
     "output_type": "execute_result"
    }
   ],
   "source": [
    "# Tenemos la formula con las variables de control para el modelo 3\n",
    "formula_model3_6 = \"Major_Comm ~ treat2016 + yr_2016 + treatment_class + \" + ' + '.join( control_vars )\n",
    "formula_model3_6"
   ]
  },
  {
   "cell_type": "code",
   "execution_count": 110,
   "id": "33eb23d7",
   "metadata": {},
   "outputs": [
    {
     "name": "stdout",
     "output_type": "stream",
     "text": [
      "                            OLS Regression Results                            \n",
      "==============================================================================\n",
      "Dep. Variable:             Major_Comm   R-squared:                       0.021\n",
      "Model:                            OLS   Adj. R-squared:                  0.005\n",
      "Method:                 Least Squares   F-statistic:                 1.240e+09\n",
      "Date:                Thu, 13 Jul 2023   Prob (F-statistic):           2.17e-05\n",
      "Time:                        18:51:30   Log-Likelihood:                 31.395\n",
      "No. Observations:                 627   AIC:                            -40.79\n",
      "Df Residuals:                     616   BIC:                             8.060\n",
      "Df Model:                          10                                         \n",
      "Covariance Type:              cluster                                         \n",
      "===================================================================================\n",
      "                      coef    std err          z      P>|z|      [0.025      0.975]\n",
      "-----------------------------------------------------------------------------------\n",
      "Intercept           0.1463      0.262      0.558      0.577      -0.368       0.660\n",
      "treat2016          -0.0119      0.021     -0.562      0.574      -0.054       0.030\n",
      "yr_2016            -0.0077      0.013     -0.608      0.543      -0.033       0.017\n",
      "treatment_class    -0.0020      0.004     -0.534      0.593      -0.009       0.005\n",
      "female_prof        -0.0268      0.046     -0.576      0.565      -0.118       0.064\n",
      "instate            -0.0067      0.012     -0.552      0.581      -0.030       0.017\n",
      "freshman            0.0417      0.076      0.550      0.583      -0.107       0.190\n",
      "american            0.0553      0.100      0.552      0.581      -0.141       0.252\n",
      "ACumGPA            -0.0427      0.076     -0.560      0.576      -0.192       0.107\n",
      "gradePrinciples    -0.0003      0.001     -0.426      0.670      -0.002       0.001\n",
      "small_class        -0.0186      0.031     -0.593      0.553      -0.080       0.043\n",
      "==============================================================================\n",
      "Omnibus:                      489.288   Durbin-Watson:                   1.978\n",
      "Prob(Omnibus):                  0.000   Jarque-Bera (JB):             5127.813\n",
      "Skew:                           3.681   Prob(JB):                         0.00\n",
      "Kurtosis:                      14.920   Cond. No.                         49.5\n",
      "==============================================================================\n",
      "\n",
      "Notes:\n",
      "[1] Standard Errors are robust to cluster correlation (cluster)\n"
     ]
    }
   ],
   "source": [
    "# Realizando la estimación\n",
    "ols_model3 = smf.ols(formula_model3_6, data=datos).fit(cov_type='cluster', cov_kwds={'groups': datos['Major_Comm']})\n",
    "print(ols_model3.summary())"
   ]
  },
  {
   "cell_type": "code",
   "execution_count": 111,
   "id": "919de532",
   "metadata": {},
   "outputs": [
    {
     "data": {
      "text/plain": [
       "'Major_Hum ~ treat2016 + yr_2016 + treatment_class + female_prof + instate + freshman + american + ACumGPA + gradePrinciples + small_class'"
      ]
     },
     "execution_count": 111,
     "metadata": {},
     "output_type": "execute_result"
    }
   ],
   "source": [
    "# Tenemos la formula con las variables de control para el modelo 4\n",
    "formula_model4_6 = \"Major_Hum ~ treat2016 + yr_2016 + treatment_class + \" + ' + '.join( control_vars )\n",
    "formula_model4_6"
   ]
  },
  {
   "cell_type": "code",
   "execution_count": 112,
   "id": "acde03ad",
   "metadata": {
    "scrolled": false
   },
   "outputs": [
    {
     "name": "stdout",
     "output_type": "stream",
     "text": [
      "                            OLS Regression Results                            \n",
      "==============================================================================\n",
      "Dep. Variable:              Major_Hum   R-squared:                       0.038\n",
      "Model:                            OLS   Adj. R-squared:                  0.023\n",
      "Method:                 Least Squares   F-statistic:                -6.168e+08\n",
      "Date:                Thu, 13 Jul 2023   Prob (F-statistic):               1.00\n",
      "Time:                        18:52:02   Log-Likelihood:                -69.809\n",
      "No. Observations:                 627   AIC:                             161.6\n",
      "Df Residuals:                     616   BIC:                             210.5\n",
      "Df Model:                          10                                         \n",
      "Covariance Type:              cluster                                         \n",
      "===================================================================================\n",
      "                      coef    std err          z      P>|z|      [0.025      0.975]\n",
      "-----------------------------------------------------------------------------------\n",
      "Intercept           0.1404      0.230      0.611      0.541      -0.310       0.591\n",
      "treat2016          -0.1413      0.232     -0.609      0.543      -0.596       0.314\n",
      "yr_2016             0.0671      0.111      0.606      0.544      -0.150       0.284\n",
      "treatment_class     0.0828      0.135      0.614      0.539      -0.182       0.347\n",
      "female_prof        -0.0449      0.075     -0.601      0.548      -0.191       0.102\n",
      "instate             0.0286      0.049      0.582      0.560      -0.068       0.125\n",
      "freshman           -0.0073      0.015     -0.480      0.631      -0.037       0.023\n",
      "american            0.0201      0.030      0.666      0.506      -0.039       0.079\n",
      "ACumGPA             0.0069      0.016      0.436      0.663      -0.024       0.038\n",
      "gradePrinciples    -0.0412      0.067     -0.616      0.538      -0.172       0.090\n",
      "small_class         0.0263      0.042      0.625      0.532      -0.056       0.109\n",
      "==============================================================================\n",
      "Omnibus:                      373.696   Durbin-Watson:                   2.056\n",
      "Prob(Omnibus):                  0.000   Jarque-Bera (JB):             1990.167\n",
      "Skew:                           2.851   Prob(JB):                         0.00\n",
      "Kurtosis:                       9.609   Cond. No.                         49.5\n",
      "==============================================================================\n",
      "\n",
      "Notes:\n",
      "[1] Standard Errors are robust to cluster correlation (cluster)\n"
     ]
    }
   ],
   "source": [
    "# Realizando la estimación\n",
    "ols_model4 = smf.ols(formula_model4_6, data=datos).fit(cov_type='cluster', cov_kwds={'groups': datos['Major_Hum']})\n",
    "print(ols_model4.summary())"
   ]
  },
  {
   "cell_type": "markdown",
   "id": "5989c51c",
   "metadata": {},
   "source": [
    "##### Proceso de exportación a latex"
   ]
  },
  {
   "cell_type": "code",
   "execution_count": null,
   "id": "ae982b52",
   "metadata": {},
   "outputs": [],
   "source": []
  },
  {
   "cell_type": "markdown",
   "id": "214a1d5c",
   "metadata": {},
   "source": [
    "###  3. Creación de un coefplot de la tabla 4"
   ]
  },
  {
   "cell_type": "code",
   "execution_count": null,
   "id": "459252bf",
   "metadata": {},
   "outputs": [],
   "source": []
  },
  {
   "cell_type": "code",
   "execution_count": null,
   "id": "153f9459",
   "metadata": {},
   "outputs": [],
   "source": []
  },
  {
   "cell_type": "code",
   "execution_count": null,
   "id": "739c4845",
   "metadata": {},
   "outputs": [],
   "source": []
  }
 ],
 "metadata": {
  "kernelspec": {
   "display_name": "Python 3 (ipykernel)",
   "language": "python",
   "name": "python3"
  },
  "language_info": {
   "codemirror_mode": {
    "name": "ipython",
    "version": 3
   },
   "file_extension": ".py",
   "mimetype": "text/x-python",
   "name": "python",
   "nbconvert_exporter": "python",
   "pygments_lexer": "ipython3",
   "version": "3.10.9"
  }
 },
 "nbformat": 4,
 "nbformat_minor": 5
}
