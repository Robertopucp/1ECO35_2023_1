{
 "cells": [
  {
   "cell_type": "markdown",
   "id": "994a1f85",
   "metadata": {},
   "source": [
    "## Integrantes:"
   ]
  },
  {
   "cell_type": "markdown",
   "id": "30b30e54",
   "metadata": {},
   "source": [
    "- Kevin Pareja (20196318)\n",
    "\n",
    "- Elian Tongombol (20196453)\n",
    "\n",
    "- Paola Aranda (20196052)\n",
    "\n",
    "- María Alejandra Colán (20190515)"
   ]
  },
  {
   "cell_type": "code",
   "execution_count": null,
   "id": "f37c56bf",
   "metadata": {},
   "outputs": [],
   "source": []
  },
  {
   "cell_type": "markdown",
   "id": "a0eaadc3",
   "metadata": {},
   "source": [
    "###  1. Estadisticas descriptivas"
   ]
  },
  {
   "cell_type": "code",
   "execution_count": null,
   "id": "f108674d",
   "metadata": {},
   "outputs": [],
   "source": []
  },
  {
   "cell_type": "markdown",
   "id": "8265a736",
   "metadata": {},
   "source": [
    "### 2. Replica de tablas"
   ]
  },
  {
   "cell_type": "code",
   "execution_count": null,
   "id": "04fc6f59",
   "metadata": {},
   "outputs": [],
   "source": []
  },
  {
   "cell_type": "markdown",
   "id": "93fe9e94",
   "metadata": {},
   "source": [
    "#### 2.1 Tabla 3"
   ]
  },
  {
   "cell_type": "code",
   "execution_count": null,
   "id": "3e1595bc",
   "metadata": {},
   "outputs": [],
   "source": []
  },
  {
   "cell_type": "markdown",
   "id": "ee10ed78",
   "metadata": {},
   "source": [
    "#### 2.3 Tabla 5"
   ]
  },
  {
   "cell_type": "code",
   "execution_count": null,
   "id": "7fccae32",
   "metadata": {},
   "outputs": [],
   "source": []
  },
  {
   "cell_type": "markdown",
   "id": "4f1a4f75",
   "metadata": {},
   "source": [
    "#### 2.4 Tabla 6"
   ]
  },
  {
   "cell_type": "code",
   "execution_count": null,
   "id": "02ae6ccd",
   "metadata": {},
   "outputs": [],
   "source": []
  },
  {
   "cell_type": "markdown",
   "id": "40623041",
   "metadata": {},
   "source": [
    "### 3. Modelo econometricos\n"
   ]
  },
  {
   "cell_type": "markdown",
   "id": "5b26b6a3",
   "metadata": {},
   "source": [
    "#### 3.1 Tabla 3"
   ]
  },
  {
   "cell_type": "code",
   "execution_count": null,
   "id": "21e4a99f",
   "metadata": {},
   "outputs": [],
   "source": []
  },
  {
   "cell_type": "markdown",
   "id": "6f024b49",
   "metadata": {},
   "source": [
    "#### 3.2 Tabla 4"
   ]
  },
  {
   "cell_type": "code",
   "execution_count": null,
   "id": "130656d0",
   "metadata": {},
   "outputs": [],
   "source": []
  },
  {
   "cell_type": "markdown",
   "id": "f0d5a537",
   "metadata": {},
   "source": [
    "#### 3.3 Tabla 5"
   ]
  },
  {
   "cell_type": "code",
   "execution_count": null,
   "id": "4c5a3aa6",
   "metadata": {},
   "outputs": [],
   "source": []
  },
  {
   "cell_type": "markdown",
   "id": "cc22853a",
   "metadata": {},
   "source": [
    "#### 3.4 Tabla 6"
   ]
  },
  {
   "cell_type": "code",
   "execution_count": null,
   "id": "eea70152",
   "metadata": {},
   "outputs": [],
   "source": []
  },
  {
   "cell_type": "markdown",
   "id": "c7f3dc31",
   "metadata": {},
   "source": [
    "###  4. Creación de un coefplot de la tabla 4"
   ]
  },
  {
   "cell_type": "code",
   "execution_count": null,
   "id": "19036504",
   "metadata": {},
   "outputs": [],
   "source": []
  },
  {
   "cell_type": "code",
   "execution_count": null,
   "id": "cd78014b",
   "metadata": {},
   "outputs": [],
   "source": []
  },
  {
   "cell_type": "code",
   "execution_count": null,
   "id": "b4b309ad",
   "metadata": {},
   "outputs": [],
   "source": []
  }
 ],
 "metadata": {
  "kernelspec": {
   "display_name": "Python 3 (ipykernel)",
   "language": "python",
   "name": "python3"
  },
  "language_info": {
   "codemirror_mode": {
    "name": "ipython",
    "version": 3
   },
   "file_extension": ".py",
   "mimetype": "text/x-python",
   "name": "python",
   "nbconvert_exporter": "python",
   "pygments_lexer": "ipython3",
   "version": "3.10.9"
  }
 },
 "nbformat": 4,
 "nbformat_minor": 5
}
