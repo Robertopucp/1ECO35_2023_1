{
 "cells": [
  {
   "cell_type": "code",
   "execution_count": 2,
   "id": "f3a2c49b",
   "metadata": {
    "scrolled": true
   },
   "outputs": [
    {
     "name": "stdout",
     "output_type": "stream",
     "text": [
      "Requirement already satisfied: geopandas in c:\\users\\alicia\\documents\\anaconda\\lib\\site-packages (0.13.2)\n",
      "Requirement already satisfied: fiona>=1.8.19 in c:\\users\\alicia\\documents\\anaconda\\lib\\site-packages (from geopandas) (1.9.4.post1)\n",
      "Requirement already satisfied: packaging in c:\\users\\alicia\\documents\\anaconda\\lib\\site-packages (from geopandas) (22.0)\n",
      "Requirement already satisfied: pyproj>=3.0.1 in c:\\users\\alicia\\documents\\anaconda\\lib\\site-packages (from geopandas) (3.6.0)\n",
      "Requirement already satisfied: pandas>=1.1.0 in c:\\users\\alicia\\documents\\anaconda\\lib\\site-packages (from geopandas) (1.5.3)\n",
      "Requirement already satisfied: shapely>=1.7.1 in c:\\users\\alicia\\documents\\anaconda\\lib\\site-packages (from geopandas) (2.0.1)\n",
      "Requirement already satisfied: attrs>=19.2.0 in c:\\users\\alicia\\documents\\anaconda\\lib\\site-packages (from fiona>=1.8.19->geopandas) (22.1.0)\n",
      "Requirement already satisfied: click~=8.0 in c:\\users\\alicia\\documents\\anaconda\\lib\\site-packages (from fiona>=1.8.19->geopandas) (8.0.4)\n",
      "Requirement already satisfied: click-plugins>=1.0 in c:\\users\\alicia\\documents\\anaconda\\lib\\site-packages (from fiona>=1.8.19->geopandas) (1.1.1)\n",
      "Requirement already satisfied: cligj>=0.5 in c:\\users\\alicia\\documents\\anaconda\\lib\\site-packages (from fiona>=1.8.19->geopandas) (0.7.2)\n",
      "Requirement already satisfied: certifi in c:\\users\\alicia\\documents\\anaconda\\lib\\site-packages (from fiona>=1.8.19->geopandas) (2022.12.7)\n",
      "Requirement already satisfied: six in c:\\users\\alicia\\documents\\anaconda\\lib\\site-packages (from fiona>=1.8.19->geopandas) (1.16.0)\n",
      "Requirement already satisfied: pytz>=2020.1 in c:\\users\\alicia\\documents\\anaconda\\lib\\site-packages (from pandas>=1.1.0->geopandas) (2022.7)\n",
      "Requirement already satisfied: numpy>=1.21.0 in c:\\users\\alicia\\documents\\anaconda\\lib\\site-packages (from pandas>=1.1.0->geopandas) (1.23.5)\n",
      "Requirement already satisfied: python-dateutil>=2.8.1 in c:\\users\\alicia\\documents\\anaconda\\lib\\site-packages (from pandas>=1.1.0->geopandas) (2.8.2)\n",
      "Requirement already satisfied: colorama in c:\\users\\alicia\\documents\\anaconda\\lib\\site-packages (from click~=8.0->fiona>=1.8.19->geopandas) (0.4.6)\n"
     ]
    }
   ],
   "source": [
    "import matplotlib.pyplot as plt \n",
    "\n",
    "import numpy as np\n",
    "import pandas as pd\n",
    "\n",
    "!pip install geopandas\n",
    "\n",
    "import geopandas as gpd\n",
    "from textwrap import wrap"
   ]
  },
  {
   "cell_type": "code",
   "execution_count": 3,
   "id": "a1e7b87e",
   "metadata": {},
   "outputs": [
    {
     "name": "stderr",
     "output_type": "stream",
     "text": [
      "C:\\Users\\ALICIA\\AppData\\Local\\Temp\\ipykernel_11012\\431120102.py:3: UnicodeWarning: \n",
      "One or more strings in the dta file could not be decoded using utf-8, and\n",
      "so the fallback encoding of latin-1 is being used.  This can happen when a file\n",
      "has been incorrectly encoded by Stata or some other software. You should verify\n",
      "the string values returned are correct.\n",
      "  data1 = pd.read_stata( r'../../data/trabajo_final/CE/resultado_2014.dta')\n"
     ]
    }
   ],
   "source": [
    "# Get data of labor\n",
    "\n",
    "data1 = pd.read_stata( r'../../data/trabajo_final/CE/resultado_2014.dta')\n",
    "\n",
    "#C:\\Users\\ALICIA\\Documents\\GitHub\\1ECO35_2031_1_APUNTES\\Trabajo Final\n",
    "#data1 = pd.read_stata( r'../../data/geopandas_data/8_trab_sex_20.dta' )\n",
    "\n",
    "# creamos ubigeo por deparatamento a dos digitos y a provincia a 4 digitos\n",
    "\n",
    "#sex_work[ 'dpt_code' ] = sex_work.cod_ubigeo.str[ :2 ]\n",
    "#sex_work[ 'prov_code' ] = sex_work.cod_ubigeo.str[ :4 ]\n",
    "\n",
    "# Sex work\n",
    "#women_work = sex_work[ sex_work.sex == 'Mujer' ].copy().reset_index( drop = True )\n"
   ]
  }
 ],
 "metadata": {
  "kernelspec": {
   "display_name": "Python 3 (ipykernel)",
   "language": "python",
   "name": "python3"
  },
  "language_info": {
   "codemirror_mode": {
    "name": "ipython",
    "version": 3
   },
   "file_extension": ".py",
   "mimetype": "text/x-python",
   "name": "python",
   "nbconvert_exporter": "python",
   "pygments_lexer": "ipython3",
   "version": "3.10.9"
  }
 },
 "nbformat": 4,
 "nbformat_minor": 5
}
