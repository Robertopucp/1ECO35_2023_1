{
  "nbformat": 4,
  "nbformat_minor": 0,
  "metadata": {
    "colab": {
      "provenance": []
    },
    "kernelspec": {
      "name": "python3",
      "display_name": "Python 3"
    },
    "language_info": {
      "name": "python"
    }
  },
  "cells": [
    {
      "cell_type": "code",
      "source": [
        "#Primero instalamos:\n",
        "!apt-get install -q -y libspatialindex-dev\n",
        "!pip install -q geopandas matplotlib"
      ],
      "metadata": {
        "id": "Zw7QIjeyB8ge"
      },
      "execution_count": 3,
      "outputs": []
    },
    {
      "cell_type": "code",
      "source": [
        "import geopandas as gpd\n",
        "import matplotlib.pyplot as plt"
      ],
      "metadata": {
        "id": "_jliZ8I9CCc1"
      },
      "execution_count": 4,
      "outputs": []
    },
    {
      "cell_type": "code",
      "source": [
        "# Luego, cargamos los datos de los distritos y departamentos\n",
        "distritos = gpd.read_file('districts_1975_remake.shp')\n",
        "departamentos = gpd.read_file('department_peru.shp')\n",
        "\n",
        "# También cargamos los datos de las capas de la geodatabase\n",
        "geodatabase = gpd.read_file('Figure1Geodatabase.gdb')\n",
        "agrozone_core2 = geodatabase[geodatabase['geodata1'] == 'agrozone_core2_polygons']\n",
        "agrarian_zones = geodatabase[geodatabase['geodata1'] == 'agrarian_zones_polygons']\n",
        "\n",
        "#Mostramos los datos y creamos la gráfica:\n",
        "fig, ax = plt.subplots(figsize=(10, 10))\n",
        "departamentos.boundary.plot(ax=ax, color='black')\n",
        "distritos.plot(ax=ax, color='lightgray')\n",
        "agrozone_core2.plot(ax=ax, facecolor='none', edgecolor='red')\n",
        "agrarian_zones.plot(ax=ax, facecolor='none', edgecolor='blue')\n",
        "\n",
        "\n",
        "# Por último, agregamos el título y la leyenda de la figura 1\n",
        "plt.title('Agrarian Zone')\n",
        "ax.legend(['Departamentos', 'Distritos', 'Agrarian Core Zone', 'Agrarian Zone'])"
      ],
      "metadata": {
        "id": "kH24YlXrChGZ"
      },
      "execution_count": null,
      "outputs": []
    }
  ]
}