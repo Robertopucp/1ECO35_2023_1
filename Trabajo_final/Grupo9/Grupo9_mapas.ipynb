{
 "cells": [
  {
   "cell_type": "code",
   "execution_count": 3,
   "metadata": {
    "id": "Zw7QIjeyB8ge"
   },
   "outputs": [],
   "source": [
    "#Primero instalamos:\n",
    "!apt-get install -q -y libspatialindex-dev\n",
    "!pip install -q geopandas matplotlib"
   ]
  },
  {
   "cell_type": "code",
   "execution_count": 4,
   "metadata": {
    "id": "_jliZ8I9CCc1"
   },
   "outputs": [],
   "source": [
    "import geopandas as gpd\n",
    "import matplotlib.pyplot as plt"
   ]
  },
  {
   "cell_type": "code",
   "execution_count": null,
   "metadata": {
    "id": "kH24YlXrChGZ"
   },
   "outputs": [],
   "source": [
    "# Luego, cargamos los datos de los distritos y departamentos\n",
    "distritos = gpd.read_file('districts_1975_remake.shp')\n",
    "departamentos = gpd.read_file('department_peru.shp')\n",
    "\n",
    "# También cargamos los datos de las capas de la geodatabase\n",
    "geodatabase = gpd.read_file('Figure1Geodatabase.gdb')\n",
    "agrozone_core2 = geodatabase[geodatabase['geodata1'] == 'agrozone_core2_polygons']\n",
    "agrarian_zones = geodatabase[geodatabase['geodata1'] == 'agrarian_zones_polygons']\n",
    "\n",
    "#Mostramos los datos y creamos la gráfica:\n",
    "fig, ax = plt.subplots(figsize=(10, 10))\n",
    "departamentos.boundary.plot(ax=ax, color='black')\n",
    "distritos.plot(ax=ax, color='lightgray')\n",
    "agrozone_core2.plot(ax=ax, facecolor='none', edgecolor='red')\n",
    "agrarian_zones.plot(ax=ax, facecolor='none', edgecolor='blue')\n",
    "\n",
    "\n",
    "# Por último, agregamos el título y la leyenda de la figura 1\n",
    "plt.title('Agrarian Zone')\n",
    "ax.legend(['Departamentos', 'Distritos', 'Agrarian Core Zone', 'Agrarian Zone'])"
   ]
  }
 ],
 "metadata": {
  "colab": {
   "provenance": []
  },
  "kernelspec": {
   "display_name": "Python 3 (ipykernel)",
   "language": "python",
   "name": "python3"
  },
  "language_info": {
   "codemirror_mode": {
    "name": "ipython",
    "version": 3
   },
   "file_extension": ".py",
   "mimetype": "text/x-python",
   "name": "python",
   "nbconvert_exporter": "python",
   "pygments_lexer": "ipython3",
   "version": "3.10.9"
  }
 },
 "nbformat": 4,
 "nbformat_minor": 1
}
