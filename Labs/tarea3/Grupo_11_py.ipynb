{
 "cells": [
  {
   "cell_type": "markdown",
   "id": "17aee407",
   "metadata": {},
   "source": [
    "## Integrantes:"
   ]
  },
  {
   "cell_type": "markdown",
   "id": "31c82ab8",
   "metadata": {},
   "source": [
    "- Kevin Pareja (20196318)\n",
    "\n",
    "- Elian Tongombol (20196453)\n",
    "\n",
    "- Paola Aranda (20196052)\n",
    "\n",
    "- María Alejandra Colán (20190515)"
   ]
  },
  {
   "cell_type": "markdown",
   "id": "bb403223",
   "metadata": {},
   "source": [
    "### 1. Map, sapply, apply, función Lambda"
   ]
  },
  {
   "cell_type": "markdown",
   "id": "f8e4b6bf",
   "metadata": {},
   "source": [
    "Aplique la siguiente función a un vector de 100 numeros aleatorios y a las columnas numericas de la base de datos BDD_compras_consumidores.xlsx\n",
    "\n"
   ]
  },
  {
   "cell_type": "markdown",
   "id": "514438f2",
   "metadata": {},
   "source": [
    "### 2. Apply"
   ]
  },
  {
   "cell_type": "code",
   "execution_count": null,
   "id": "54f328e9",
   "metadata": {},
   "outputs": [],
   "source": []
  },
  {
   "cell_type": "markdown",
   "id": "cc113e2f",
   "metadata": {},
   "source": [
    "### 3. Funciones"
   ]
  },
  {
   "cell_type": "markdown",
   "id": "567d863e",
   "metadata": {},
   "source": [
    "Función para calcular el factorial de un número n!"
   ]
  },
  {
   "cell_type": "code",
   "execution_count": 12,
   "id": "57f4e2f4",
   "metadata": {},
   "outputs": [],
   "source": [
    "def factorial(n): #ponemos nombre a la función y se define que el input es n\n",
    "    if n==0 or n==1: #ponemos 2 condiciones para los casos especiales de factorial\n",
    "        result=1\n",
    "    elif n>1: #condicion para lo demás casos\n",
    "        result=n*factorial(n-1) #se define el result que debe mostrar si cumple n>1\n",
    "    return result"
   ]
  },
  {
   "cell_type": "code",
   "execution_count": 13,
   "id": "75b95f23",
   "metadata": {},
   "outputs": [
    {
     "name": "stdout",
     "output_type": "stream",
     "text": [
      "6\n"
     ]
    }
   ],
   "source": [
    "x=factorial(3) #comprobamos\n",
    "print(x)"
   ]
  },
  {
   "cell_type": "markdown",
   "id": "7c2763f2",
   "metadata": {},
   "source": [
    "Función de masa corporal"
   ]
  },
  {
   "cell_type": "code",
   "execution_count": 8,
   "id": "7cc90ee1",
   "metadata": {},
   "outputs": [],
   "source": [
    "def imc(peso,talla): #definimos inputs de la función\n",
    "    imc1=peso/(talla**2) #ponemos la función a calcular según el concepto del IMC\n",
    "    imc=round(imc1,4) #se redondea a 4 cifras\n",
    "    if imc>=18.5 and imc<=24.9: #ponemos los condicionales a los intervalos que se requieren\n",
    "        return(talla, peso, imc, \"Normal\") #se pone return para tener las variables outputs\n",
    "    elif imc>=25 and imc<=29.9:\n",
    "        return(talla, peso, imc,\"Sobrepeso\")\n",
    "    elif imc>=30 and imc<=34.9:\n",
    "        return(talla, peso, imc,\"Obesidad grado I\")\n",
    "    elif imc>=35 and imc<=39.9:\n",
    "        return(talla, peso, imc,\"Obesidad grado II\")\n",
    "    else:\n",
    "        return(talla, peso, imc, \"Obesidad grado III\")"
   ]
  },
  {
   "cell_type": "code",
   "execution_count": 9,
   "id": "930a59d8",
   "metadata": {},
   "outputs": [
    {
     "name": "stdout",
     "output_type": "stream",
     "text": [
      "(1.5, 70, 31.1111, 'Obesidad grado I')\n"
     ]
    }
   ],
   "source": [
    "#probamos la función para datos del estudiante1\n",
    "estudiante1=imc(70,1.5) \n",
    "print(estudiante1)"
   ]
  },
  {
   "cell_type": "code",
   "execution_count": 10,
   "id": "d67f9074",
   "metadata": {
    "scrolled": true
   },
   "outputs": [
    {
     "name": "stdout",
     "output_type": "stream",
     "text": [
      "(1.8, 80, 24.6914, 'Normal')\n"
     ]
    }
   ],
   "source": [
    "#probamos la función para datos del estudiante2\n",
    "estudiante2=imc(80,1.8)\n",
    "print(estudiante2)"
   ]
  },
  {
   "cell_type": "code",
   "execution_count": 11,
   "id": "47947706",
   "metadata": {},
   "outputs": [
    {
     "name": "stdout",
     "output_type": "stream",
     "text": [
      "(1.6, 50, 19.5312, 'Normal')\n"
     ]
    }
   ],
   "source": [
    "#probamos la función para datos del estudiante3\n",
    "estudiante3=imc(50,1.6)\n",
    "print(estudiante3)"
   ]
  },
  {
   "cell_type": "markdown",
   "id": "d9f3d248",
   "metadata": {},
   "source": [
    "Función aplicado a dos activos financieros"
   ]
  },
  {
   "cell_type": "code",
   "execution_count": null,
   "id": "3bc39fe7",
   "metadata": {},
   "outputs": [],
   "source": []
  },
  {
   "cell_type": "markdown",
   "id": "eb8a2d96",
   "metadata": {},
   "source": [
    "Coeficiente de person de dos varaibles aleatorias:"
   ]
  },
  {
   "cell_type": "code",
   "execution_count": null,
   "id": "fc4c4860",
   "metadata": {},
   "outputs": [],
   "source": []
  },
  {
   "cell_type": "markdown",
   "id": "d274b30b",
   "metadata": {},
   "source": [
    "Keywords especiales _(*args and **kwargs)"
   ]
  },
  {
   "cell_type": "code",
   "execution_count": null,
   "id": "7bf5cc01",
   "metadata": {},
   "outputs": [],
   "source": []
  }
 ],
 "metadata": {
  "kernelspec": {
   "display_name": "Python 3 (ipykernel)",
   "language": "python",
   "name": "python3"
  },
  "language_info": {
   "codemirror_mode": {
    "name": "ipython",
    "version": 3
   },
   "file_extension": ".py",
   "mimetype": "text/x-python",
   "name": "python",
   "nbconvert_exporter": "python",
   "pygments_lexer": "ipython3",
   "version": "3.9.13"
  }
 },
 "nbformat": 4,
 "nbformat_minor": 5
}
