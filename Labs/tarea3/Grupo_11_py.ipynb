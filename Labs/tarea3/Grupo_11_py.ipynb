{
 "cells": [
  {
   "cell_type": "markdown",
   "id": "17aee407",
   "metadata": {},
   "source": [
    "## Integrantes:"
   ]
  },
  {
   "cell_type": "markdown",
   "id": "31c82ab8",
   "metadata": {},
   "source": [
    "- Kevin Pareja (20196318)\n",
    "\n",
    "- Elian Tongombol (20196453)\n",
    "\n",
    "- Paola Aranda (20196052)\n",
    "\n",
    "- María Alejandra Colán (20190515)"
   ]
  },
  {
   "cell_type": "markdown",
   "id": "bb403223",
   "metadata": {},
   "source": [
    "### 1. Map, sapply, apply, función Lambda"
   ]
  },
  {
   "cell_type": "markdown",
   "id": "f8e4b6bf",
   "metadata": {},
   "source": [
    "Aplique la siguiente función a un vector de 100 numeros aleatorios y a las columnas numericas de la base de datos BDD_compras_consumidores.xlsx\n",
    "\n"
   ]
  },
  {
   "cell_type": "markdown",
   "id": "514438f2",
   "metadata": {},
   "source": [
    "### 2. Apply"
   ]
  },
  {
   "cell_type": "code",
   "execution_count": null,
   "id": "54f328e9",
   "metadata": {},
   "outputs": [],
   "source": []
  },
  {
   "cell_type": "markdown",
   "id": "cc113e2f",
   "metadata": {},
   "source": [
    "### 3. Funciones"
   ]
  },
  {
   "cell_type": "markdown",
   "id": "567d863e",
   "metadata": {},
   "source": [
    "Función para calcular el factorial de un número n!"
   ]
  },
  {
   "cell_type": "code",
   "execution_count": null,
   "id": "57f4e2f4",
   "metadata": {},
   "outputs": [],
   "source": []
  },
  {
   "cell_type": "markdown",
   "id": "7c2763f2",
   "metadata": {},
   "source": [
    "Función de masa corporal"
   ]
  },
  {
   "cell_type": "code",
   "execution_count": null,
   "id": "7cc90ee1",
   "metadata": {},
   "outputs": [],
   "source": []
  },
  {
   "cell_type": "markdown",
   "id": "d9f3d248",
   "metadata": {},
   "source": [
    "Función aplicado a dos activos financieros"
   ]
  },
  {
   "cell_type": "code",
   "execution_count": null,
   "id": "3bc39fe7",
   "metadata": {},
   "outputs": [],
   "source": []
  },
  {
   "cell_type": "markdown",
   "id": "eb8a2d96",
   "metadata": {},
   "source": [
    "Coeficiente de person de dos varaibles aleatorias:"
   ]
  },
  {
   "cell_type": "code",
   "execution_count": null,
   "id": "fc4c4860",
   "metadata": {},
   "outputs": [],
   "source": []
  },
  {
   "cell_type": "markdown",
   "id": "d274b30b",
   "metadata": {},
   "source": [
    "Keywords especiales _(*args and **kwargs)"
   ]
  },
  {
   "cell_type": "code",
   "execution_count": null,
   "id": "7bf5cc01",
   "metadata": {},
   "outputs": [],
   "source": []
  }
 ],
 "metadata": {
  "kernelspec": {
   "display_name": "Python 3 (ipykernel)",
   "language": "python",
   "name": "python3"
  },
  "language_info": {
   "codemirror_mode": {
    "name": "ipython",
    "version": 3
   },
   "file_extension": ".py",
   "mimetype": "text/x-python",
   "name": "python",
   "nbconvert_exporter": "python",
   "pygments_lexer": "ipython3",
   "version": "3.10.9"
  }
 },
 "nbformat": 4,
 "nbformat_minor": 5
}
