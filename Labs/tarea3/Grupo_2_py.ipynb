{
 "cells": [
  {
   "cell_type": "code",
   "execution_count": null,
   "id": "da038e0f",
   "metadata": {},
   "outputs": [],
   "source": []
  },
  {
   "cell_type": "code",
   "execution_count": 1,
   "id": "7ac98ef7",
   "metadata": {},
   "outputs": [
    {
     "name": "stdout",
     "output_type": "stream",
     "text": [
      "Las columnas escaladas son las siguientes:\n",
      "         Fresh      Milk   Grocery    Frozen  Detergents_Paper  Delicatessen\n",
      "0    0.112940  0.130727  0.081464  0.003106          0.065427      0.027847\n",
      "1    0.062899  0.132824  0.103097  0.028548          0.080590      0.036984\n",
      "2    0.056622  0.119181  0.082790  0.039116          0.086052      0.163559\n",
      "3    0.118254  0.015536  0.045464  0.104842          0.012346      0.037234\n",
      "4    0.201626  0.072914  0.077552  0.063934          0.043455      0.108093\n",
      "..        ...       ...       ...       ...               ...           ...\n",
      "435  0.264829  0.163338  0.172715  0.215469          0.004385      0.045912\n",
      "436  0.349761  0.018736  0.008202  0.073713          0.002205      0.048874\n",
      "437  0.129543  0.210136  0.325943  0.006771          0.363463      0.038882\n",
      "438  0.091727  0.026224  0.024025  0.016649          0.004042      0.044264\n",
      "439  0.024824  0.022371  0.027022  0.000657          0.011611      0.001022\n",
      "\n",
      "[440 rows x 6 columns]\n"
     ]
    },
    {
     "data": {
      "text/plain": [
       "[0.8342130812681978,\n",
       " 0.34559373302984503,\n",
       " 0.049593176887307695,\n",
       " 0.968634553409693,\n",
       " 0.9513003841191857,\n",
       " 0.3629463204177975,\n",
       " 0.3468765212128023,\n",
       " 0.1637446859490094,\n",
       " 0.508554993860195,\n",
       " 0.8331724297284008,\n",
       " 0.07629375050962554,\n",
       " 0.4238184488958743,\n",
       " 0.9190971152698607,\n",
       " 0.24783019770272516,\n",
       " 0.37239604036631524,\n",
       " 0.4381326203667013,\n",
       " 0.8412465558716898,\n",
       " 0.14625003599833183,\n",
       " 0.46575400868114597,\n",
       " 0.23414647404517305,\n",
       " 0.5590226220552148,\n",
       " 0.7997749142409585,\n",
       " 0.5435775897915033,\n",
       " 0.38065428647440197,\n",
       " 0.48929714584783657,\n",
       " 0.14078386070136922,\n",
       " 0.8735547648908786,\n",
       " 0.7897700409943703,\n",
       " 0.18517513465660895,\n",
       " 0.21639816846858878,\n",
       " 0.5618533437078128,\n",
       " 0.5326518050617334,\n",
       " 0.41251852293550667,\n",
       " 0.6114245497243189,\n",
       " 0.5053446346542934,\n",
       " 0.16744132556739985,\n",
       " 0.44535906282334803,\n",
       " 0.5013002406872071,\n",
       " 0.29123612130160714,\n",
       " 0.11592925889070994,\n",
       " 0.6969840783972756,\n",
       " 0.8234615079679821,\n",
       " 0.57864559300958,\n",
       " 0.27921080520087327,\n",
       " 0.3239416930323169,\n",
       " 0.5968955854605108,\n",
       " 0.41552161963958434,\n",
       " 0.609193737270423,\n",
       " 0.2898426130449736,\n",
       " 0.218194948289837,\n",
       " 0.9508883549936578,\n",
       " 0.5472550904988883,\n",
       " 0.8184575439094088,\n",
       " 0.4188568954373294,\n",
       " 0.23389329213078747,\n",
       " 1.0,\n",
       " 0.7622193004646817,\n",
       " 0.0,\n",
       " 0.6991553342051144,\n",
       " 0.5771762301490999,\n",
       " 0.7390820068325364,\n",
       " 0.3534443905335583,\n",
       " 0.183815280525226,\n",
       " 0.2943738085577817,\n",
       " 0.7018957123647106,\n",
       " 0.09099431163852238,\n",
       " 0.47147319695242146,\n",
       " 0.23620973014183386,\n",
       " 0.5050424626844457,\n",
       " 0.17664766974964835,\n",
       " 0.4883703375422727,\n",
       " 0.7497865713625693,\n",
       " 0.8920764476788459,\n",
       " 0.731297128333054,\n",
       " 0.7590185642061976,\n",
       " 0.4434634145099842,\n",
       " 0.07062082151072638,\n",
       " 0.2589547092444037,\n",
       " 0.5302394925816594,\n",
       " 0.43690983739018413,\n",
       " 0.5391440875426732,\n",
       " 0.9175118233247874,\n",
       " 0.8796723548746392,\n",
       " 0.04459459169677808,\n",
       " 0.5682720821247373,\n",
       " 0.0830379345113477,\n",
       " 0.5866216936382159,\n",
       " 0.9267186710590359,\n",
       " 0.9282293869158738,\n",
       " 0.7301075086346136,\n",
       " 0.5778262950562529,\n",
       " 0.7117293710023673,\n",
       " 0.003782907840128512,\n",
       " 0.13492055135219921,\n",
       " 0.8815911091862453,\n",
       " 0.17691260317421376,\n",
       " 0.7428332712609755,\n",
       " 0.7363275203027749,\n",
       " 0.7073970646587995,\n",
       " 0.8142685785453179]"
      ]
     },
     "execution_count": 1,
     "metadata": {},
     "output_type": "execute_result"
    }
   ],
   "source": [
    "import numpy as np\n",
    "import pandas as pd\n",
    "\n",
    "#Se crea la función\n",
    "def funcionEscalamiento(vector):\n",
    "    return list(map(lambda x: (x-np.min(vector))/(np.max(vector)-np.min(vector)), vector))\n",
    "\n",
    "#Probando la función a 100 números aleatorios\n",
    "vectorAleatorio=np.random.rand(100)*100\n",
    "\n",
    "##\n",
    "\n",
    "#Probando la función a las columnas numéricas de la base de datos de compras de consumidores\n",
    "data= pd.read_csv(r'../../data/BDD_compras_consumidores.csv',delimiter=';')\n",
    "columnasNumericas = data[['Fresh', 'Milk', 'Grocery', 'Frozen', 'Detergents_Paper', 'Delicatessen']]\n",
    "columnasEscaladas = columnasNumericas.apply(funcionEscalamiento)\n",
    "columnasEscaladas\n",
    "print(\"Las columnas escaladas son las siguientes:\\n\", columnasEscaladas)\n",
    "funcionEscalamiento(vectorAleatorio)\n",
    "    \n"
   ]
  },
  {
   "cell_type": "code",
   "execution_count": null,
   "id": "70f9418b",
   "metadata": {},
   "outputs": [],
   "source": []
  },
  {
   "cell_type": "code",
   "execution_count": null,
   "id": "70f28359",
   "metadata": {},
   "outputs": [],
   "source": [
    "# Análisis por alumno"
   ]
  },
  {
   "cell_type": "code",
   "execution_count": null,
   "id": "a4688278",
   "metadata": {},
   "outputs": [],
   "source": []
  },
  {
   "cell_type": "code",
   "execution_count": null,
   "id": "2a949a7a",
   "metadata": {},
   "outputs": [],
   "source": []
  },
  {
   "cell_type": "code",
   "execution_count": null,
   "id": "81a8e3ca",
   "metadata": {},
   "outputs": [],
   "source": []
  },
  {
   "cell_type": "code",
   "execution_count": null,
   "id": "07fa7874",
   "metadata": {},
   "outputs": [],
   "source": [
    "# Análisis por curso"
   ]
  },
  {
   "cell_type": "code",
   "execution_count": null,
   "id": "5ae47695",
   "metadata": {},
   "outputs": [],
   "source": []
  },
  {
   "cell_type": "code",
   "execution_count": null,
   "id": "e533fd10",
   "metadata": {},
   "outputs": [],
   "source": []
  },
  {
   "cell_type": "code",
   "execution_count": null,
   "id": "b5796d6c",
   "metadata": {},
   "outputs": [],
   "source": []
  },
  {
   "cell_type": "code",
   "execution_count": null,
   "id": "1460f54c",
   "metadata": {},
   "outputs": [],
   "source": []
  },
  {
   "cell_type": "code",
   "execution_count": 43,
   "id": "436cb61a",
   "metadata": {},
   "outputs": [
    {
     "data": {
      "text/plain": [
       "'El factorial de 5 es: 120'"
      ]
     },
     "execution_count": 43,
     "metadata": {},
     "output_type": "execute_result"
    }
   ],
   "source": [
    "#Función que calcula el factorial\n",
    "\n",
    "def funcionFactorial(n):\n",
    "    n_anterior= n - 1\n",
    "    factorial= n\n",
    "    while n_anterior >= 1:\n",
    "        factorial=factorial*n_anterior\n",
    "        if n_anterior==1: break\n",
    "        n_anterior=n_anterior-1\n",
    "    return(f\"El factorial de {n} es: {factorial}\")\n",
    "   \n",
    "funcionFactorial(5) #Se invoca la funciónFactorial"
   ]
  },
  {
   "cell_type": "code",
   "execution_count": 37,
   "id": "5a5a8574",
   "metadata": {},
   "outputs": [
    {
     "name": "stdout",
     "output_type": "stream",
     "text": [
      "El estudiante con peso 70 y talla 1.5 tiene 31.11111111111111 y clasificación Obesidad grado I\n",
      "El estudiante con peso 85 y talla 1.8 tiene 26.234567901234566 y clasificación Sobrepeso\n",
      "El estudiante con peso 50 y talla 1.6 tiene 19.531249999999996 y clasificación Normal\n"
     ]
    }
   ],
   "source": [
    "#Se crea la funcion de Índice de Masa Corporal\n",
    "def funcionMasaCorporal(peso, talla):\n",
    "    imc = peso / (talla**2)\n",
    "    if 18.5 <= imc <= 24.9:\n",
    "        clasificacion = \"Normal\"\n",
    "    elif 25 <= imc <= 29.9:\n",
    "        clasificacion = \"Sobrepeso\"\n",
    "    elif 30 <= imc <= 34.9 :\n",
    "        clasificacion = \"Obesidad grado I\"\n",
    "    elif 35 <= imc <= 39.9 :\n",
    "        clasificacion = \"Obesidad grado II\"\n",
    "    else:\n",
    "        clasificacion = \"Obesidad grado III\"\n",
    "    \n",
    "    return (print(\"El estudiante con peso\", peso, \"y talla\", talla, \"tiene\", imc, \"y clasificación\", clasificacion))\n",
    "    \n",
    "#Se prueban los resultados para los estudiantes\n",
    "funcionMasaCorporal(70,1.50) #Estudiante 1\n",
    "\n",
    "funcionMasaCorporal(85,1.80) #Estudiante 2\n",
    "\n",
    "funcionMasaCorporal(50,1.60) #Estudiante 3\n",
    "\n"
   ]
  },
  {
   "cell_type": "code",
   "execution_count": 26,
   "id": "272a0391",
   "metadata": {},
   "outputs": [
    {
     "name": "stdout",
     "output_type": "stream",
     "text": [
      "El coeficiente de correlación de pearson es 0.5206743364408886 y la varianza del portafolio es 1.07402815110268\n"
     ]
    }
   ],
   "source": [
    "#Función que calcula el coeficiente de correlación de Pearson y la varianza del portafolio\n",
    "import pandas as pd\n",
    "import numpy as np\n",
    "portfolio = pd.read_csv(r'../../data/Portafolio.csv')\n",
    "def funcionActivosFinancieros(data):\n",
    "    X = data['X']\n",
    "    y = data['Y']\n",
    "    coef_pearson = (np.cov(X,y)[0][1])/((np.var(X)*np.var(y))**(1/2))\n",
    "    var_portafolio = ((0.2)**2)*np.var(X) + ((0.8)**2)*np.var(y) + 2*0.2*0.8*np.cov(X,y)[0][1]\n",
    "    \n",
    "    return (print(\"El coeficiente de correlación de pearson es\",coef_pearson,\"y la varianza del portafolio es\",var_portafolio))\n",
    "funcionActivosFinancieros(portfolio)\n",
    "\n"
   ]
  },
  {
   "cell_type": "code",
   "execution_count": 58,
   "id": "17c9aaa1",
   "metadata": {},
   "outputs": [
    {
     "name": "stdout",
     "output_type": "stream",
     "text": [
      "[0.0, 0.25, 0.5, 0.75, 1.0] \n",
      "\n",
      "[2.0947125472611012, 2.3124383412727525, 2.4917798526449118] \n",
      "\n"
     ]
    }
   ],
   "source": [
    "#Funcion que permite keywords especiales\n",
    "import numpy as np\n",
    "def funcionEspecial( *args, **kwargs):\n",
    "    \n",
    "      \n",
    "    if ( kwargs[ 'metodo' ] == \"escalamiento\" ) :\n",
    "        \n",
    "        return list(map(lambda x: (x-np.min(args))/(np.max(args)-np.min(args)), args)) #Si se elige escalamiento\n",
    "    \n",
    "    elif ( kwargs[ 'metodo' ] == \"inverse hyperbolic sine\" ) :\n",
    "\n",
    "        return list(map(lambda x: np.log(x + np.sqrt(x**2 + 1)), args)) #Si se elige inverse hyperbolic sine\n",
    "    else:\n",
    "        raise ValueError( f\"The function argument {kwargs[ 'metodo' ]} is not supported.\" )\n",
    "        \n",
    "        # Mensaje de error porque el metodo no existe\n",
    "\n",
    "    \n",
    "#Se prueba la funcion segun el metodo elegido\n",
    "print(funcionEspecial( 4, 5, 6, 7, 8, metodo = \"escalamiento\" ), \"\\n\")\n",
    "\n",
    "print(funcionEspecial( 4, 5, 6, metodo = \"inverse hyperbolic sine\" ), \"\\n\")\n",
    "\n",
    "\n",
    "\n",
    "######################\n",
    "\n",
    "\n"
   ]
  }
 ],
 "metadata": {
  "kernelspec": {
   "display_name": "Python 3 (ipykernel)",
   "language": "python",
   "name": "python3"
  },
  "language_info": {
   "codemirror_mode": {
    "name": "ipython",
    "version": 3
   },
   "file_extension": ".py",
   "mimetype": "text/x-python",
   "name": "python",
   "nbconvert_exporter": "python",
   "pygments_lexer": "ipython3",
   "version": "3.10.9"
  }
 },
 "nbformat": 4,
 "nbformat_minor": 5
}
