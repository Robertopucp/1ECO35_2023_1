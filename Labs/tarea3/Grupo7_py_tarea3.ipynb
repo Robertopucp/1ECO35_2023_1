{
 "cells": [
  {
   "cell_type": "code",
   "execution_count": 1,
   "id": "f05e909a",
   "metadata": {},
   "outputs": [],
   "source": [
    "## TAREA 3 \n"
   ]
  },
  {
   "cell_type": "code",
   "execution_count": 3,
   "id": "65b4437c",
   "metadata": {},
   "outputs": [],
   "source": [
    "## Descargando librerias, y preparando el ambiente"
   ]
  },
  {
   "cell_type": "code",
   "execution_count": 2,
   "id": "e73d9188",
   "metadata": {},
   "outputs": [],
   "source": [
    "import numpy as np\n",
    "import pandas as pd\n",
    "from pandas import DataFrame, Series\n",
    "import re\n",
    "import pyreadr\n",
    "import os"
   ]
  },
  {
   "cell_type": "code",
   "execution_count": 4,
   "id": "2697ad15",
   "metadata": {},
   "outputs": [],
   "source": []
  },
  {
   "cell_type": "code",
   "execution_count": 6,
   "id": "10ec3fa0",
   "metadata": {},
   "outputs": [],
   "source": [
    "## EJERCICIO 1: Funcion de escalamiento"
   ]
  },
  {
   "cell_type": "code",
   "execution_count": 25,
   "id": "1ae7f75f",
   "metadata": {},
   "outputs": [
    {
     "name": "stdout",
     "output_type": "stream",
     "text": [
      "[ 398 -546  577 -367 -592  594  285  352  976 -218  678 -335  135  196\n",
      " -574 -627 -542  345  226  883  412 -504  829  897  464  334 -739 -809\n",
      " -468 -117 -856  772  -52  394 -575 -348 -769  467  548 -560  429 -837\n",
      " -217 -681  488 -320  -54  -70  -49 -468  116  631   -3 -614 -952 -742\n",
      " -838 -817 -756  197  614  709  306  203 -337  863  281  449  467  721\n",
      "  405  858   82   92 -498  875  105  -11 -368 -453  266  -97  136  330\n",
      "  798 -339  363  806  -83 -486 -420 -321  259 -483  678 -290 -871 -990\n",
      " -950  257]\n"
     ]
    },
    {
     "data": {
      "text/plain": [
       "[0.7060020345879959,\n",
       " 0.22583926754832145,\n",
       " 0.7970498474059003,\n",
       " 0.3168870803662258,\n",
       " 0.20244150559511698,\n",
       " 0.8056968463886063,\n",
       " 0.6485249237029501,\n",
       " 0.6826042726347915,\n",
       " 1.0,\n",
       " 0.392675483214649,\n",
       " 0.8484231943031536,\n",
       " 0.33316378433367244,\n",
       " 0.5722278738555443,\n",
       " 0.6032553407934893,\n",
       " 0.2115971515768057,\n",
       " 0.18463886063072227,\n",
       " 0.2278738555442523,\n",
       " 0.6790437436419126,\n",
       " 0.6185147507629705,\n",
       " 0.9526958290946084,\n",
       " 0.7131230925737538,\n",
       " 0.24720244150559512,\n",
       " 0.9252288911495422,\n",
       " 0.9598168870803663,\n",
       " 0.7395727365208545,\n",
       " 0.6734486266531028,\n",
       " 0.12767039674465921,\n",
       " 0.09206510681586978,\n",
       " 0.26551373346897256,\n",
       " 0.4440488301119023,\n",
       " 0.0681586978636826,\n",
       " 0.896236012207528,\n",
       " 0.47711088504577825,\n",
       " 0.7039674465920651,\n",
       " 0.211088504577823,\n",
       " 0.32655137334689727,\n",
       " 0.11241098677517802,\n",
       " 0.7410986775178027,\n",
       " 0.7822990844354019,\n",
       " 0.21871820956256358,\n",
       " 0.7217700915564598,\n",
       " 0.07782299084435401,\n",
       " 0.39318413021363174,\n",
       " 0.15717192268565616,\n",
       " 0.7517802644964394,\n",
       " 0.340793489318413,\n",
       " 0.4760935910478128,\n",
       " 0.46795523906408953,\n",
       " 0.47863682604272634,\n",
       " 0.26551373346897256,\n",
       " 0.5625635808748728,\n",
       " 0.8245167853509664,\n",
       " 0.5020345879959308,\n",
       " 0.19125127161749747,\n",
       " 0.019328585961342827,\n",
       " 0.12614445574771108,\n",
       " 0.07731434384537131,\n",
       " 0.08799593082400814,\n",
       " 0.1190233977619532,\n",
       " 0.603763987792472,\n",
       " 0.8158697863682605,\n",
       " 0.8641912512716174,\n",
       " 0.659206510681587,\n",
       " 0.6068158697863683,\n",
       " 0.33214649033570703,\n",
       " 0.9425228891149542,\n",
       " 0.6464903357070193,\n",
       " 0.731943031536114,\n",
       " 0.7410986775178027,\n",
       " 0.87029501525941,\n",
       " 0.7095625635808749,\n",
       " 0.9399796541200407,\n",
       " 0.5452695829094608,\n",
       " 0.5503560528992879,\n",
       " 0.25025432349949134,\n",
       " 0.9486266531027467,\n",
       " 0.556968463886063,\n",
       " 0.4979654120040692,\n",
       " 0.31637843336724314,\n",
       " 0.27314343845371314,\n",
       " 0.6388606307222787,\n",
       " 0.45422177009155645,\n",
       " 0.572736520854527,\n",
       " 0.671414038657172,\n",
       " 0.9094608341810784,\n",
       " 0.3311291963377416,\n",
       " 0.6881993896236012,\n",
       " 0.91353001017294,\n",
       " 0.46134282807731436,\n",
       " 0.25635808748728384,\n",
       " 0.28992878942014244,\n",
       " 0.3402848423194303,\n",
       " 0.6353001017293998,\n",
       " 0.2578840284842319,\n",
       " 0.8484231943031536,\n",
       " 0.3560528992878942,\n",
       " 0.06052899287894201,\n",
       " 0.0,\n",
       " 0.02034587995930824,\n",
       " 0.6342828077314344]"
      ]
     },
     "execution_count": 25,
     "metadata": {},
     "output_type": "execute_result"
    }
   ],
   "source": [
    "### Empezamos definiendo un seed de forma que nuestros resultados sean replicables\n",
    "rng = np.random.default_rng(12345)\n",
    "\n",
    "### Señalamos que queremos obtener 100 observaciones escogidas de forma aleatoria de un intervalo que va desde -1000 hasta 10000\n",
    "vector = rng.integers(low=-1000, high=1000, size=100)\n",
    "print(vector)\n",
    "\n",
    "### Utilizamos la función lambda y map, para transformar dicho vector \n",
    "list( map(lambda x: (x - min(vector))/(max(vector)-min(vector)),vector))"
   ]
  },
  {
   "cell_type": "code",
   "execution_count": null,
   "id": "9e755045",
   "metadata": {},
   "outputs": [],
   "source": [
    "### Adicionalmente, se puede lograr el mismo objetivo de la siguiente forma\n",
    "\n",
    "### Generar un vector aleatorio de 100 números entre 0 y 100\n",
    "x = np.random.randint(0, 100, 100)\n",
    "print(\"Vector original:\")\n",
    "print(x)\n",
    "\n",
    "### Aplicando la funcion escalamiento al vector\n",
    "x_min = np.min(x)\n",
    "x_max = np.max(x)\n",
    "\n",
    "\n",
    "def escalamiento (x,x_min,x_max): \n",
    "    out = (x - x_min) / (x_max - x_min)\n",
    "    return out \n",
    "\n",
    "\n",
    "print(\"Vector escalado:\")\n",
    "list( map(lambda x, x_min = np.min(x), x_max = np.max(x): escalamiento (x,x_min,x_max),  x ))"
   ]
  },
  {
   "cell_type": "code",
   "execution_count": null,
   "id": "d6012629",
   "metadata": {},
   "outputs": [],
   "source": [
    "### Ahora, con la base de datos BDD_compras_consumidores\n",
    "\n",
    "### Set directorio\n",
    "\n",
    "# Change directory \n",
    "\n",
    "user = os.getlogin()   # Username\n",
    "\n",
    "# Set directorio\n",
    "\n",
    "os.chdir(f\"C:/Users/{user}/Documents/GitHub/1ECO35_2023_1/Lectures/Lecture_3\") # Set directorio\n",
    "\n",
    "datos = pd.read_csv(\".../.../1ECO35_2023_1/data/BDD_compras_consumidores.csv\", sep = \";\")\n",
    "\n",
    "### Valor aleatorio en la base de datos\n",
    "x_random = datos.iloc[:,2:8].apply(lambda x: x*1 , axis = 0)\n",
    "\n",
    "### Valor minimo en la base de datos\n",
    "x_min = datos.iloc[:,2:8].apply(lambda x: np.min(x), axis = 0)\n",
    "\n",
    "### numerador de la funcion escalamiento\n",
    "numerador = x_random - x_min\n",
    "\n",
    "### denominador de la funcion escalamiento\n",
    "x_min = datos.iloc[:,2:8].apply(lambda x: np.min(x), axis = 0)\n",
    "x_max = datos.iloc[:,2:8].apply(lambda x: np.max(x), axis = 0)\n",
    "\n",
    "denominador = x_max - x_min \n",
    "\n",
    "\n",
    "def esca (denominador, numerador):\n",
    "    out = numerador / denominador\n",
    "    return out\n",
    "\n",
    "### funcion escalamiento\n",
    "\n",
    "list(map(lambda denominador = x_max - x_min, numerador = x_random - x_min: esca(denominador, numerador), denominador))\n",
    "\n"
   ]
  },
  {
   "cell_type": "code",
   "execution_count": 5,
   "id": "9587e1e1",
   "metadata": {},
   "outputs": [],
   "source": [
    "## EJERCICIO 2: Base de datos del SIAGIE"
   ]
  },
  {
   "cell_type": "code",
   "execution_count": 3,
   "id": "a17f190e",
   "metadata": {},
   "outputs": [
    {
     "name": "stdout",
     "output_type": "stream",
     "text": [
      "Requirement already satisfied: Pyreadstat in /Users/lala/anaconda3/lib/python3.10/site-packages (1.2.1)\n",
      "Requirement already satisfied: pandas>=1.2.0 in /Users/lala/anaconda3/lib/python3.10/site-packages (from Pyreadstat) (1.5.3)\n",
      "Requirement already satisfied: python-dateutil>=2.8.1 in /Users/lala/anaconda3/lib/python3.10/site-packages (from pandas>=1.2.0->Pyreadstat) (2.8.2)\n",
      "Requirement already satisfied: pytz>=2020.1 in /Users/lala/anaconda3/lib/python3.10/site-packages (from pandas>=1.2.0->Pyreadstat) (2022.7)\n",
      "Requirement already satisfied: numpy>=1.21.0 in /Users/lala/anaconda3/lib/python3.10/site-packages (from pandas>=1.2.0->Pyreadstat) (1.23.5)\n",
      "Requirement already satisfied: six>=1.5 in /Users/lala/anaconda3/lib/python3.10/site-packages (from python-dateutil>=2.8.1->pandas>=1.2.0->Pyreadstat) (1.16.0)\n",
      "Note: you may need to restart the kernel to use updated packages.\n"
     ]
    }
   ],
   "source": [
    "### Descargamos la libreria que nos permitira abrir el archivo de stata\n",
    "\n",
    "pip install Pyreadstat\n"
   ]
  },
  {
   "cell_type": "code",
   "execution_count": 4,
   "id": "c1774b0e",
   "metadata": {},
   "outputs": [],
   "source": [
    "### Importamos la herramienta de tal libreria\n",
    "import pyreadstat"
   ]
  },
  {
   "cell_type": "code",
   "execution_count": 7,
   "id": "c4e01e12",
   "metadata": {},
   "outputs": [
    {
     "name": "stdout",
     "output_type": "stream",
     "text": [
      "    id_anio cod_mod id_nivel id_grado dsc_grado id_seccion arte  \\\n",
      "0      2015    2212       F0       13    CUARTO          1   12   \n",
      "1      2015    2212       F0       11   SEGUNDO          1   17   \n",
      "2      2015    2212       F0       11   SEGUNDO          1   14   \n",
      "3      2015    2212       F0       10   PRIMERO          1   15   \n",
      "4      2015    2212       F0       11   SEGUNDO          1   14   \n",
      "..      ...     ...      ...      ...       ...        ...  ...   \n",
      "129    2015    2212       F0       13    CUARTO          1   12   \n",
      "130    2015    2212       F0       13    CUARTO          1   13   \n",
      "131    2015    2212       F0       11   SEGUNDO          1   18   \n",
      "132    2015    2212       F0       11   SEGUNDO          1   13   \n",
      "133    2015    2212       F0       11   SEGUNDO          1   14   \n",
      "\n",
      "    ciencia_tecnologia_y_ambiente comunicacion educacion_fisica  \\\n",
      "0                              13           16               14   \n",
      "1                              13           11               13   \n",
      "2                              16           13               13   \n",
      "3                              12           11               13   \n",
      "4                              13           10               13   \n",
      "..                            ...          ...              ...   \n",
      "129                            13           14               15   \n",
      "130                            11           10               13   \n",
      "131                            18           18               13   \n",
      "132                            13           11               13   \n",
      "133                            15           13               13   \n",
      "\n",
      "    educacion_para_el_trabajo educacion_religiosa  \\\n",
      "0                          14                  13   \n",
      "1                          16                  13   \n",
      "2                          13                  14   \n",
      "3                          13                  16   \n",
      "4                          13                  13   \n",
      "..                        ...                 ...   \n",
      "129                        12                  13   \n",
      "130                        11                  13   \n",
      "131                        17                  15   \n",
      "132                        12                  14   \n",
      "133                        14                  13   \n",
      "\n",
      "    formacion_ciudadana_y_civica hisotoria_geografia_y_economia ingles  \\\n",
      "0                             14                             13     16   \n",
      "1                             12                             13     14   \n",
      "2                             13                             14     13   \n",
      "3                             13                             14     13   \n",
      "4                             12                             13     13   \n",
      "..                           ...                            ...    ...   \n",
      "129                           14                             13     16   \n",
      "130                           12                             12     13   \n",
      "131                           13                             17     16   \n",
      "132                           12                             12     12   \n",
      "133                           13                             13     14   \n",
      "\n",
      "    matematica persona_familia_y_rrhh  \n",
      "0           13                     14  \n",
      "1           12                     13  \n",
      "2           13                     13  \n",
      "3           12                     12  \n",
      "4           11                     13  \n",
      "..         ...                    ...  \n",
      "129         12                     13  \n",
      "130         11                     13  \n",
      "131         18                     16  \n",
      "132         12                     13  \n",
      "133         15                     13  \n",
      "\n",
      "[134 rows x 17 columns]\n"
     ]
    }
   ],
   "source": [
    "### Importamos codigos de las librerias, para cambiar de directorio, importar archivos de formato .dta, y \n",
    "import os \n",
    "import pyreadstat\n",
    "import numpy as np\n",
    "\n",
    "### Sentamos el directorio, e indicamos que deben cargarse los datos del archivo importado\n",
    "# Change directory \n",
    "user = os.getlogin()   # Username\n",
    "\n",
    "# Set directorio\n",
    "os.chdir(f\"C:/Users/{user}/Documents/GitHub/1ECO35_2023_1/Lectures/Lecture_3\") # Set directorio\n",
    "datos_siagie = pd.read_stata(\"../data/siagie.dta\")\n",
    "\n",
    "# Extraemos la primera fila como los nombres de las columnas\n",
    "columnas = list(datos_siagie.iloc[0:17])\n",
    "\n",
    "# Convertimos la tupla en dataframe con los nombres de las columnas\n",
    "df_siagie = pd.DataFrame(datos_siagie.values[1:], columns=columnas)\n",
    "\n",
    "# Mostramos nuestro dataframe\n",
    "print(df_siagie)\n"
   ]
  },
  {
   "cell_type": "code",
   "execution_count": 8,
   "id": "194f48f0",
   "metadata": {},
   "outputs": [],
   "source": [
    "### Creamos la variable promedio que sera una nueva columna, y el axis es 1 para que sume por columnas\n",
    "\n",
    "\n",
    "df_siagie['promedio'] = df_siagie.iloc[:,7:17].apply(lambda x: sum(float(val) for val in x)/11, axis = 1) \n",
    "\n"
   ]
  },
  {
   "cell_type": "code",
   "execution_count": 9,
   "id": "566dfb8b",
   "metadata": {},
   "outputs": [],
   "source": [
    "### Vamos a crear un calculador que nos permita obtener el máximo y el mínimo de los promedios\n",
    "\n",
    "### Definimos el nombre de la función, donde los datos por columnas son el argumento y la expresiones pueden cambiar\n",
    "def calculator(df_siagie, column, **kwargs):\n",
    "    \n",
    "    ### Definimos la primera función de minimo\n",
    "    if ( kwargs[ 'function' ] == \"minimo\" ) :\n",
    "        \n",
    "        ### Señalamos la expresión que deberá operarse\n",
    "        result = df_siagie[column].min()\n",
    "    \n",
    "    ### Definimos la segunda función de máximo\n",
    "    elif ( kwargs[ 'function' ] == \"máximo\" ) :\n",
    "\n",
    "        \n",
    "        ### Señalamos la expresión que deberá operarse\n",
    "        result = df_siagie[column].max()\n",
    "        \n",
    "    ### Colocamos un mensaje de error en caso se ingrese un tipo de argumento equivocado    \n",
    "    else:\n",
    "        raise ValueError( f\"The function argument {kwargs[ 'function' ]} is not supported.\" )\n",
    "        \n",
    "        # Mensaje de error por tipo de argumento\n",
    "\n",
    "    return result\n",
    "\n"
   ]
  },
  {
   "cell_type": "code",
   "execution_count": 10,
   "id": "983559f6",
   "metadata": {},
   "outputs": [
    {
     "name": "stdout",
     "output_type": "stream",
     "text": [
      "<class 'dict'>\n"
     ]
    },
    {
     "data": {
      "text/plain": [
       "10.0"
      ]
     },
     "execution_count": 10,
     "metadata": {},
     "output_type": "execute_result"
    }
   ],
   "source": [
    "### Probamos nuestra función\n",
    "calculator(df_siagie, 'promedio', function = \"minimo\" )\n",
    "calculator( df_siagie, 'promedio', function = \"máximo\" )"
   ]
  },
  {
   "cell_type": "code",
   "execution_count": 12,
   "id": "2e7ff4ee",
   "metadata": {},
   "outputs": [],
   "source": [
    "### Para lograr obtener promedio_curso, se ha operado con .loc en vez de -iloc. Esto permite añadir filas. Asimismo, se ha indicado como axis = 0 para que la operación sea a nivel filas\n",
    "df_siagie.loc['promedio_curso'] = df_siagie.iloc[:,7:17].apply(lambda x: np.mean([float(val) for val in x]), axis = 0) # axis = 0 , operación a nivel fila\n"
   ]
  },
  {
   "cell_type": "code",
   "execution_count": 13,
   "id": "a524c7de",
   "metadata": {},
   "outputs": [],
   "source": [
    "### De la misma manera, se ha obtenido la mediana de cada curso\n",
    "df_siagie.loc['mediana_curso'] = df_siagie.iloc[:,7:17].apply(lambda x: np.median([float(val) for val in x]), axis = 0) # axis = 0 , operación a nivel fila\n",
    "\n"
   ]
  },
  {
   "cell_type": "code",
   "execution_count": null,
   "id": "abac374c",
   "metadata": {},
   "outputs": [],
   "source": [
    "## EJERCICIO 3: Función para calcular el factorial de un número n!"
   ]
  },
  {
   "cell_type": "code",
   "execution_count": null,
   "id": "ed16ce88",
   "metadata": {},
   "outputs": [],
   "source": [
    "\n",
    "### Definimos la funcion factorial\n",
    "def factorial (n): \n",
    "    if n < 0:\n",
    "        return None # El factorial no está definido para numeros negativos\n",
    "    elif n == 0:\n",
    "        return 1 #porque por definicion 0! = 1 \n",
    "    else:\n",
    "        fact = 1\n",
    "        for i in range(1, n+1): # Hacemos que el rango sea n+1 para indicar que queremos todos los positivos\n",
    "            fact *= i #multiplica 1 por cada entero hasta el valor de i, quien tiene como dominio de 1 hasta n+1\n",
    "        return fact\n",
    "\n",
    "n = 8\n",
    "result = factorial(8)\n",
    "\n",
    "print(result)"
   ]
  },
  {
   "cell_type": "code",
   "execution_count": null,
   "id": "b3a12431",
   "metadata": {
    "scrolled": false
   },
   "outputs": [],
   "source": []
  },
  {
   "cell_type": "code",
   "execution_count": null,
   "id": "6f6a23fd",
   "metadata": {},
   "outputs": [],
   "source": [
    "## EJERCICIO 4: FUNCIÓN DE MASA CORPORAL"
   ]
  },
  {
   "cell_type": "code",
   "execution_count": 41,
   "id": "1763b615",
   "metadata": {},
   "outputs": [
    {
     "name": "stdout",
     "output_type": "stream",
     "text": [
      "con un peso de 70 y una talla de 1.5, el valor IMC es de 31.11 y la persona es considerada con obesidad grado I\n",
      "None\n",
      "con un peso de 85 y una talla de 1.8, el valor IMC es de 26.23 y la persona es considerada con sobrepeso\n",
      "None\n",
      "con un peso de 50 y una talla de 1.6, el valor IMC es de 19.53 y la persona es considerada con peso normal\n",
      "None\n"
     ]
    }
   ],
   "source": [
    "### Definimos la función cuyos argumentos o variables son la talla y el peso\n",
    "def imc_calculator(talla, peso):\n",
    "\n",
    "### señalamos la expresión que operará nuestros argumentos\n",
    "    indice = peso/(talla**2)\n",
    "\n",
    "### Realizamos una serie de condiciones if, elif y else, para señalar el outcome con los 4 datos requeridos más la clasificación correcta por caso. \n",
    "#### se ha utilizado la expresión \":2f\" para señalar que el índice será calculado hasta los dos primeros decimales.\n",
    "    if indice < 18.5:\n",
    "        print (f\"con un peso de {peso} y una talla de {talla}, el valor IMC es de {indice:.2f} y la persona es considerada con peso debajo de lo normal\")\n",
    "        \n",
    "    elif indice <24.9:\n",
    "        print(f\"con un peso de {peso} y una talla de {talla}, el valor IMC es de {indice:.2f} y la persona es considerada con peso normal\") \n",
    "    \n",
    "    elif indice <29.9:\n",
    "        print(f\"con un peso de {peso} y una talla de {talla}, el valor IMC es de {indice:.2f} y la persona es considerada con sobrepeso\") \n",
    "    \n",
    "    elif indice <34.9:\n",
    "        print(f\"con un peso de {peso} y una talla de {talla}, el valor IMC es de {indice:.2f} y la persona es considerada con obesidad grado I\") \n",
    "    \n",
    "    elif indice <39.9:\n",
    "        print(f\"con un peso de {peso} y una talla de {talla}, el valor IMC es de {indice:.2f} y la persona es considerada con obesidad grado II\") \n",
    "    \n",
    "    else:\n",
    "        print(f\"con un peso de {peso} y una talla de {talla}, el valor IMC es de {indice:.2f} y la persona es considerada con obesidad grado III\") \n",
    "\n",
    "### Colocamos 3 ejemplos que permiten darle el input a la función y obtener las respuestas. \n",
    "estudiante_1 = print(imc_calculator(1.5, 70))\n",
    "estudiante_2 = print(imc_calculator(1.8, 85))\n",
    "estudiante_3 = print(imc_calculator(1.6, 50))\n",
    "\n"
   ]
  },
  {
   "cell_type": "code",
   "execution_count": null,
   "id": "47046666",
   "metadata": {},
   "outputs": [],
   "source": [
    "## EJERCICIO 5: PORTAFOLIO DE ACTIVOS FINANCIEROS"
   ]
  },
  {
   "cell_type": "code",
   "execution_count": null,
   "id": "2423ac95",
   "metadata": {
    "scrolled": true
   },
   "outputs": [],
   "source": [
    "# Función aplicada a dos activos financieros con coeficiente de pearson y varianza del portafolio \n",
    "\n",
    "import numpy as np\n",
    "import pandas as pd\n",
    "from pandas import DataFrame, Series\n",
    "import re # Regex\n",
    "import os # for usernanme y set direcotrio\n",
    "import csv \n",
    "import random\n",
    "\n",
    "\n",
    "user = os.getlogin()   # Username\n",
    "\n",
    "# Set directorio\n",
    "os.chdir('/Users/kubo/Documents/GitHub/1ECO35_2023_1/data/Portafolio.csv') # Set directorio\n",
    "porta = pd.read_csv(\"/Users/kubo/Documents/GitHub/1ECO35_2023_1/data/Portafolio.csv\")\n",
    "\n",
    "# Convirtiendo las columnas X e Y a matricez numpy \n",
    "x = porta['X'].to_numpy()\n",
    "y = porta['Y'].to_numpy()\n",
    "\n",
    "# Calculamos la matriz de covarianza\n",
    "cov_matriz = np.cov(x,y)\n",
    "\n",
    "\n",
    "# Extraemos la covarianza entre X e Y de la matriz de covarianzas\n",
    "cova_xy = cov_matriz[0,1]\n",
    "\n",
    "# Calculamos la varianza de X\n",
    "var_x = np.var(x)\n",
    "\n",
    "\n",
    "# Calculamos la varianza de Y\n",
    "var_y = np.var(y)\n",
    "\n",
    "\n",
    "# Calculamos la raiz cuadrada de la varianza de x\n",
    "sqr_var_x = np.sqrt(var_x)\n",
    "\n",
    "\n",
    "# Calculamos la raiz cuadrada de la varianza de y\n",
    "sqr_var_y = np.sqrt(var_y)\n",
    "\n",
    "\n",
    "# Calculamos el coeficiente de correlacion (x,y)\n",
    "\n",
    "ccp = cova_xy/(sqr_var_x * sqr_var_y)\n",
    "\n",
    "print (\"El coeficiente de correlación de Pearson es\", ccp)\n",
    "\n",
    "# Calculamos la varianza del portafolio on wx y wy\n",
    "\n",
    "varporta = 0.2*var_x + 0.8*var_y + 2*0.2*0.8*cova_xy\n",
    "\n",
    "print (\"La varianza del portafolio es\", varporta)\n",
    "\n"
   ]
  },
  {
   "cell_type": "code",
   "execution_count": null,
   "id": "6213928b",
   "metadata": {},
   "outputs": [],
   "source": [
    "## EJERCICIO 6: KEYWORDS ESPECIALES"
   ]
  },
  {
   "cell_type": "code",
   "execution_count": 52,
   "id": "424f6724",
   "metadata": {},
   "outputs": [],
   "source": [
    "### Importamos la libreria math. Nos permitirá utilizar logaritmo\n",
    "import math"
   ]
  },
  {
   "cell_type": "code",
   "execution_count": 54,
   "id": "591edd4a",
   "metadata": {},
   "outputs": [
    {
     "data": {
      "text/plain": [
       "[2.5257286443082556,\n",
       " 2.8903717578961645,\n",
       " 3.1986731175506815,\n",
       " 3.4657359027997265,\n",
       " 3.7013019741124933]"
      ]
     },
     "execution_count": 54,
     "metadata": {},
     "output_type": "execute_result"
    }
   ],
   "source": [
    "### Definimos el calculador con argumentos y expresiones variables\n",
    "def calculator( *list_vars, **kwargs):\n",
    "\n",
    "    ### Definimos el primer método llamado \"escalamiento\"\n",
    "    if ( kwargs[ 'metodo' ] == \"escalamiento\" ) :\n",
    "        \n",
    "        ### Se ingresa la expresión mediante la cual se obtiene el escalamiento\n",
    "        result = [(val - min(list_vars))/(max(list_vars)-min(list_vars)) for val in list_vars]\n",
    "    \n",
    "    ### Definimos el segundo metodo, llamado \"transformación hiperbolica\"\n",
    "    elif ( kwargs[ 'metodo' ] == \"transformacion hiperbolica\" ) :\n",
    "        \n",
    "        ### Se ingresa la expresión mediante la cual se halla la transformación hiperbólica\n",
    "        result = [math.log((val+((val**2)+1)**1/2)) for val in list_vars]\n",
    "    \n",
    "    ### Se define un mensaje de error, que debera ser demostrado, en caso se ingrese un método no contemplado\n",
    "    else:\n",
    "        raise ValueError( f\"The function argument {kwargs[ 'function' ]} is not supported.\" )\n",
    "        \n",
    "       \n",
    "\n",
    "    return result\n",
    "\n",
    "\n",
    "### Probamos el calculador\n",
    "calculator( 4, 5, 6, 7, 8, metodo = \"transformacion hiperbolica\" )\n",
    "calculator( 4, 5, 6, 7, 8, metodo = \"escalamiento\" )\n",
    "\n",
    "\n",
    "\n"
   ]
  },
  {
   "cell_type": "code",
   "execution_count": null,
   "id": "3dd868ff",
   "metadata": {},
   "outputs": [],
   "source": []
  }
 ],
 "metadata": {
  "kernelspec": {
   "display_name": "Python 3 (ipykernel)",
   "language": "python",
   "name": "python3"
  },
  "language_info": {
   "codemirror_mode": {
    "name": "ipython",
    "version": 3
   },
   "file_extension": ".py",
   "mimetype": "text/x-python",
   "name": "python",
   "nbconvert_exporter": "python",
   "pygments_lexer": "ipython3",
   "version": "3.10.9"
  }
 },
 "nbformat": 4,
 "nbformat_minor": 5
}
