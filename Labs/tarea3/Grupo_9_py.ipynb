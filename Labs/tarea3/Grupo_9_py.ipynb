{
 "cells": [
  {
   "cell_type": "code",
   "execution_count": 8,
   "id": "298868ca",
   "metadata": {},
   "outputs": [],
   "source": [
    "#Tarea 3\n",
    "#PARTE SOLO EN PYTHON"
   ]
  },
  {
   "cell_type": "code",
   "execution_count": 73,
   "id": "612f3e9b",
   "metadata": {},
   "outputs": [],
   "source": [
    "#1. Función para calcular el factorial de un número n!\n",
    "#Crear una función que permita calcular el factorial de un número (n).\n",
    "def factorial(n):\n",
    "    \n",
    "    #Calcula el factorial de un número n, para ello debemos considerar no solo a los números postivos, sino también al cero y a los número negativos.\n",
    "   \n",
    "    if n < 0:\n",
    "        return \"Error: argumento inválido\"\n",
    "    elif n == 0:\n",
    "        return 1\n",
    "    else:\n",
    "        fact = 1\n",
    "        for i in range(1, n+1):\n",
    "            fact *= i\n",
    "        return fact\n"
   ]
  },
  {
   "cell_type": "code",
   "execution_count": 74,
   "id": "74e196d3",
   "metadata": {},
   "outputs": [
    {
     "name": "stdout",
     "output_type": "stream",
     "text": [
      "Error: argumento inválido\n"
     ]
    }
   ],
   "source": [
    "print (factorial(-20))"
   ]
  },
  {
   "cell_type": "code",
   "execution_count": 75,
   "id": "34d258ce",
   "metadata": {},
   "outputs": [
    {
     "name": "stdout",
     "output_type": "stream",
     "text": [
      "1\n"
     ]
    }
   ],
   "source": [
    "print (factorial(0))"
   ]
  },
  {
   "cell_type": "code",
   "execution_count": 19,
   "id": "ab2630ff",
   "metadata": {},
   "outputs": [
    {
     "name": "stdout",
     "output_type": "stream",
     "text": [
      "5040\n"
     ]
    }
   ],
   "source": [
    "print (factorial(7))"
   ]
  },
  {
   "cell_type": "code",
   "execution_count": 20,
   "id": "461e4b56",
   "metadata": {},
   "outputs": [],
   "source": [
    "#2.Función de masa corporal\n",
    "#Crear una función que calcule el índice de masa corporal\n",
    "def calcular_imc_estudiantes(peso, talla):\n",
    "   \n",
    "    #Calcular el índice de masa corporal (IMC), a partir ello debemos obtener del peso y la talla de una persona,\n",
    "   # y, además, devuelve el peso, la talla, el IMC y la clasificación según la tabla IMC.\n",
    "   \n",
    "    imc = peso / (talla ** 2)\n",
    "    \n",
    "    if 18.5 <= imc < 25:\n",
    "        clasificacion = \"Normal\"\n",
    "    elif 25 <= imc < 29.9:\n",
    "        clasificacion = \"Sobrepeso\"\n",
    "    elif 30 <= imc < 34.9:\n",
    "        clasificacion = \"Obesidad grado I\"\n",
    "    elif 35 <= imc < 39.9:\n",
    "        clasificacion = \"Obesidad grado II\"\n",
    "    else:\n",
    "        clasificacion = \"Obesidad grado III\"\n",
    "    \n",
    "    return peso, talla, imc, clasificacion\n"
   ]
  },
  {
   "cell_type": "code",
   "execution_count": 21,
   "id": "55862f43",
   "metadata": {},
   "outputs": [
    {
     "name": "stdout",
     "output_type": "stream",
     "text": [
      "Estudiante 1\n",
      "Peso: 70 kg\n",
      "Talla: 1.5 m\n",
      "IMC: 31.11\n",
      "Clasificación: Obesidad grado I\n",
      "\n",
      "Estudiante 2\n",
      "Peso: 85 kg\n",
      "Talla: 1.8 m\n",
      "IMC: 26.23\n",
      "Clasificación: Sobrepeso\n",
      "\n",
      "Estudiante 3\n",
      "Peso: 50 kg\n",
      "Talla: 1.6 m\n",
      "IMC: 19.53\n",
      "Clasificación: Normal\n"
     ]
    }
   ],
   "source": [
    "# Datos del estudiante 1\n",
    "pesoestudiante1 = 70\n",
    "tallaestudiante1 = 1.5\n",
    "peso, talla, imc, clasificacion = calcular_imc_estudiantes(pesoestudiante1, tallaestudiante1)\n",
    "print(\"Estudiante 1\")\n",
    "print(\"Peso: {} kg\".format(peso))\n",
    "print(\"Talla: {} m\".format(talla))\n",
    "print(\"IMC: {:.2f}\".format(imc))\n",
    "print(\"Clasificación: {}\".format(clasificacion))\n",
    "print()\n",
    "\n",
    "# Datos del estudiante 2\n",
    "pesoestudiante2 = 85\n",
    "tallaestudiante2 = 1.8\n",
    "peso, talla, imc, clasificacion = calcular_imc_estudiantes(pesoestudiante2, tallaestudiante2)\n",
    "print(\"Estudiante 2\")\n",
    "print(\"Peso: {} kg\".format(peso))\n",
    "print(\"Talla: {} m\".format(talla))\n",
    "print(\"IMC: {:.2f}\".format(imc))\n",
    "print(\"Clasificación: {}\".format(clasificacion))\n",
    "print()\n",
    "\n",
    "# Datos del estudiante 3\n",
    "pesoestudiante3 = 50\n",
    "tallaestudiante3 = 1.6\n",
    "peso, talla, imc, clasificacion = calcular_imc_estudiantes(pesoestudiante3, tallaestudiante3)\n",
    "print(\"Estudiante 3\")\n",
    "print(\"Peso: {} kg\".format(peso))\n",
    "print(\"Talla: {} m\".format(talla))\n",
    "print(\"IMC: {:.2f}\".format(imc))\n",
    "print(\"Clasificación: {}\".format(clasificacion))"
   ]
  },
  {
   "cell_type": "code",
   "execution_count": 9,
   "id": "82f4ebcc",
   "metadata": {},
   "outputs": [],
   "source": [
    "#3. Función aplicado a dos activos financieros\n",
    "#Usando la base de datos portfolio de la clases del jueves, ustedes deben crear una función que calcule el coeficiente de pearson del rendimiento de los activos X e Y. \n"
   ]
  },
  {
   "cell_type": "code",
   "execution_count": 10,
   "id": "dead4295",
   "metadata": {},
   "outputs": [
    {
     "data": {
      "text/plain": [
       "'C:\\\\Users\\\\HP\\\\Documents\\\\GitHub\\\\1ECO35_2023_1\\\\Labs\\\\tarea3'"
      ]
     },
     "execution_count": 10,
     "metadata": {},
     "output_type": "execute_result"
    }
   ],
   "source": [
    "import os # directorio (carpeta de trabajo)\n",
    "os.getcwd()"
   ]
  },
  {
   "cell_type": "code",
   "execution_count": 11,
   "id": "8b69fc88",
   "metadata": {},
   "outputs": [],
   "source": [
    "import pandas as pd"
   ]
  },
  {
   "cell_type": "code",
   "execution_count": 12,
   "id": "0d20795c",
   "metadata": {
    "scrolled": true
   },
   "outputs": [
    {
     "data": {
      "text/html": [
       "<div>\n",
       "<style scoped>\n",
       "    .dataframe tbody tr th:only-of-type {\n",
       "        vertical-align: middle;\n",
       "    }\n",
       "\n",
       "    .dataframe tbody tr th {\n",
       "        vertical-align: top;\n",
       "    }\n",
       "\n",
       "    .dataframe thead th {\n",
       "        text-align: right;\n",
       "    }\n",
       "</style>\n",
       "<table border=\"1\" class=\"dataframe\">\n",
       "  <thead>\n",
       "    <tr style=\"text-align: right;\">\n",
       "      <th></th>\n",
       "      <th>X</th>\n",
       "      <th>Y</th>\n",
       "    </tr>\n",
       "  </thead>\n",
       "  <tbody>\n",
       "    <tr>\n",
       "      <th>0</th>\n",
       "      <td>-0.895251</td>\n",
       "      <td>-0.234924</td>\n",
       "    </tr>\n",
       "    <tr>\n",
       "      <th>1</th>\n",
       "      <td>-1.562454</td>\n",
       "      <td>-0.885176</td>\n",
       "    </tr>\n",
       "    <tr>\n",
       "      <th>2</th>\n",
       "      <td>-0.417090</td>\n",
       "      <td>0.271888</td>\n",
       "    </tr>\n",
       "    <tr>\n",
       "      <th>3</th>\n",
       "      <td>1.044356</td>\n",
       "      <td>-0.734198</td>\n",
       "    </tr>\n",
       "    <tr>\n",
       "      <th>4</th>\n",
       "      <td>-0.315568</td>\n",
       "      <td>0.841983</td>\n",
       "    </tr>\n",
       "    <tr>\n",
       "      <th>...</th>\n",
       "      <td>...</td>\n",
       "      <td>...</td>\n",
       "    </tr>\n",
       "    <tr>\n",
       "      <th>95</th>\n",
       "      <td>0.479091</td>\n",
       "      <td>1.454774</td>\n",
       "    </tr>\n",
       "    <tr>\n",
       "      <th>96</th>\n",
       "      <td>-0.535020</td>\n",
       "      <td>-0.399175</td>\n",
       "    </tr>\n",
       "    <tr>\n",
       "      <th>97</th>\n",
       "      <td>-0.773129</td>\n",
       "      <td>-0.957175</td>\n",
       "    </tr>\n",
       "    <tr>\n",
       "      <th>98</th>\n",
       "      <td>0.403634</td>\n",
       "      <td>1.396038</td>\n",
       "    </tr>\n",
       "    <tr>\n",
       "      <th>99</th>\n",
       "      <td>-0.588496</td>\n",
       "      <td>-0.497285</td>\n",
       "    </tr>\n",
       "  </tbody>\n",
       "</table>\n",
       "<p>100 rows × 2 columns</p>\n",
       "</div>"
      ],
      "text/plain": [
       "           X         Y\n",
       "0  -0.895251 -0.234924\n",
       "1  -1.562454 -0.885176\n",
       "2  -0.417090  0.271888\n",
       "3   1.044356 -0.734198\n",
       "4  -0.315568  0.841983\n",
       "..       ...       ...\n",
       "95  0.479091  1.454774\n",
       "96 -0.535020 -0.399175\n",
       "97 -0.773129 -0.957175\n",
       "98  0.403634  1.396038\n",
       "99 -0.588496 -0.497285\n",
       "\n",
       "[100 rows x 2 columns]"
      ]
     },
     "execution_count": 12,
     "metadata": {},
     "output_type": "execute_result"
    }
   ],
   "source": [
    "#Cargamos la base de datos\n",
    "portfolio = pd.read_csv(r'../../data/Portafolio.csv')\n",
    "portfolio"
   ]
  },
  {
   "cell_type": "code",
   "execution_count": 14,
   "id": "83282a57",
   "metadata": {},
   "outputs": [],
   "source": [
    "import numpy as np"
   ]
  },
  {
   "cell_type": "code",
   "execution_count": 15,
   "id": "f114dd10",
   "metadata": {},
   "outputs": [],
   "source": [
    "def coef_pearson_portafolio(data):\n",
    "    X = data['X']\n",
    "    y = data['Y']\n",
    "    covarianza = X.cov(y)\n",
    "    varianza_x = X.var(ddof=1)\n",
    "    varianza_y = y.var(ddof=1)\n",
    "    cal_coef_pearson = covarianza / (varianza_x**0.5 * varianza_y**0.5)\n",
    "    return cal_coef_pearson\n"
   ]
  },
  {
   "cell_type": "code",
   "execution_count": 16,
   "id": "97f94013",
   "metadata": {},
   "outputs": [
    {
     "data": {
      "text/plain": [
       "0.5154675930764797"
      ]
     },
     "execution_count": 16,
     "metadata": {},
     "output_type": "execute_result"
    }
   ],
   "source": [
    "coef_pearson_portafolio(portfolio)"
   ]
  },
  {
   "cell_type": "code",
   "execution_count": null,
   "id": "f5e9b597",
   "metadata": {},
   "outputs": [],
   "source": [
    "#4. Ahora, calculamos la varianza del portafolio. Para ello, tenemos que W_x=0.2 y W_y=0.8"
   ]
  },
  {
   "cell_type": "code",
   "execution_count": 17,
   "id": "5a8b199e",
   "metadata": {},
   "outputs": [],
   "source": [
    "#Creamos la unción con los valores dados\n",
    "def varianza_portafolio(data):\n",
    "  \n",
    "    W_x=0.2\n",
    "    W_y=0.8\n",
    "    X = data['X']\n",
    "    y = data['Y']\n",
    "    covarianza = X.cov(y)\n",
    "    varianza_x = X.var(ddof=1)\n",
    "    varianza_y = y.var(ddof=1)\n",
    "    varianza_cal = (W_x**2)*varianza_x+(W_y**2)*varianza_y+2*W_x*W_y*covarianza\n",
    "    return varianza_cal"
   ]
  },
  {
   "cell_type": "code",
   "execution_count": 18,
   "id": "d47ec239",
   "metadata": {},
   "outputs": [
    {
     "data": {
      "text/plain": [
       "1.0828523278464037"
      ]
     },
     "execution_count": 18,
     "metadata": {},
     "output_type": "execute_result"
    }
   ],
   "source": [
    "varianza_portafolio(portfolio)"
   ]
  },
  {
   "cell_type": "code",
   "execution_count": null,
   "id": "43b98064",
   "metadata": {},
   "outputs": [],
   "source": [
    "#Ambos resultados son iguales a los obtenidos en Rstudio"
   ]
  },
  {
   "cell_type": "code",
   "execution_count": 64,
   "id": "667a4fff",
   "metadata": {},
   "outputs": [
    {
     "name": "stdout",
     "output_type": "stream",
     "text": [
      "Resultados de la función de reescalamiento: [0.0, 0.25, 0.5, 0.75, 1.0]\n",
      "Resultados de la función de transformación: [1.52067036 1.73153774 1.84453426 1.92080813 1.97798452]\n",
      "Resultados de la función de reescalamiento: [0.0, 0.4, 0.6, 0.8, 1.0]\n",
      "Resultados de la función de transformación: [1.34849785 1.70101264 1.78319529 1.84453426 1.89322203]\n"
     ]
    }
   ],
   "source": [
    "#PREGUNTA 5\n",
    "# Keywords especiales\n",
    "# El primer paso es construir una función que permite una cantidad no restringida de datos *args y que admita dos tipos de métodos que puedan aplicarse a la cantidad no restringida de datos **kwargs.\n",
    "\n",
    "# Definimos la función inverse hyperbolic\n",
    "def f_resc_inv(*args, **kwargs):\n",
    "    # Aplicamos el condicional para la función reescalamiento\n",
    "    if kwargs.get('funcion_reescalamiento') == \"reescalamiento\":\n",
    "        # Insertamos args en el vector\n",
    "        vector = args[0]\n",
    "        resultados = list(map(lambda x: (x - np.min(vector)) / (np.max(vector) - np.min(vector)), vector))\n",
    "    elif kwargs.get('funcion_transformacion') == \"transformacion\":\n",
    "        # Para la obtención de resultados\n",
    "        vector = args[0]\n",
    "        resultados = np.log(vector + np.sqrt(np.square(vector) + 1))**(1/2)\n",
    "    return resultados\n",
    "#Ejemplo 1\n",
    "# Definimos una lista de datos\n",
    "datos = [5, 10, 15, 20, 25]\n",
    "\n",
    "# Aplicamos la función de reescalamiento a los datos\n",
    "resultados1 = f_resc_inv(datos, funcion_reescalamiento=\"reescalamiento\")\n",
    "\n",
    "# Aplicamos la función de transformación a los datos\n",
    "resultados2 = f_resc_inv(datos, funcion_transformacion=\"transformacion\")\n",
    "\n",
    "# Imprimimos los resultados\n",
    "print(\"Resultados de la función de reescalamiento:\", resultados1)\n",
    "print(\"Resultados de la función de transformación:\", resultados2)\n",
    "\n",
    "#Ejemplo 2\n",
    "# Definimos una lista de datos\n",
    "datos = [3, 9, 12, 15, 18]\n",
    "\n",
    "# Aplicamos la función de reescalamiento a los datos\n",
    "resultados1 = f_resc_inv(datos, funcion_reescalamiento=\"reescalamiento\")\n",
    "\n",
    "# Aplicamos la función de transformación a los datos\n",
    "resultados2 = f_resc_inv(datos, funcion_transformacion=\"transformacion\")\n",
    "\n",
    "# Imprimimos los resultados\n",
    "print(\"Resultados de la función de reescalamiento:\", resultados1)\n",
    "print(\"Resultados de la función de transformación:\", resultados2)"
   ]
  },
  {
   "cell_type": "code",
   "execution_count": null,
   "id": "b4b63717",
   "metadata": {},
   "outputs": [],
   "source": [
    "#PARTE EN R Y PYTHOM"
   ]
  },
  {
   "cell_type": "code",
   "execution_count": 56,
   "id": "2ab69880",
   "metadata": {},
   "outputs": [
    {
     "name": "stdout",
     "output_type": "stream",
     "text": [
      "[0.08750223 0.05885197 0.40287604 0.98239571 0.80675956 0.93351656\n",
      " 0.71905167 0.03170472 0.5149242  0.70971468 0.21417671 0.15980191\n",
      " 0.17942159 0.16072512 0.01333712 0.77483695 0.39416642 0.45873364\n",
      " 0.43577238 0.45417365 0.8840874  0.86173882 0.89721403 0.04410563\n",
      " 0.02847469 0.42587689 1.         0.65143946 0.44929668 0.3567356\n",
      " 0.83062409 0.15432735 0.86086714 0.66280376 0.75903    0.87508555\n",
      " 0.29862168 0.86286507 0.08752215 0.43412621 0.57690124 0.8193009\n",
      " 0.         0.81557077 0.71624763 0.79109832 0.25215777 0.96175541\n",
      " 0.56070591 0.45355182 0.92765964 0.34320213 0.51981521 0.8474609\n",
      " 0.86960663 0.40595882 0.18462044 0.03125868 0.56798516 0.69299107\n",
      " 0.75447875 0.13256862 0.83696611 0.87824207 0.65089343 0.64214169\n",
      " 0.53533252 0.22265215 0.61622754 0.46558408 0.16852084 0.28433861\n",
      " 0.8251911  0.86166102 0.24841912 0.2979828  0.39669894 0.30500777\n",
      " 0.10393304 0.0276427  0.05093796 0.70200747 0.22862703 0.73414414\n",
      " 0.5057593  0.3569708  0.61597514 0.23442671 0.83498301 0.73634012\n",
      " 0.97403356 0.60689304 0.67169443 0.05366081 0.6275956  0.91734049\n",
      " 0.00902305 0.54247456 0.00704023 0.88541805]\n"
     ]
    }
   ],
   "source": [
    "#PREGUNTA1\n",
    "#Para el vector de 100 números aleatorios\n",
    "# Creamos el vector de números aleatorios\n",
    "x = np.random.rand(100)\n",
    "\n",
    "# Mínimo y máximo del vector creado\n",
    "x_min = np.min(x)\n",
    "x_max = np.max(x)\n",
    "\n",
    "# Función de esclamiento \n",
    "x_esc = (x - x_min) / (x_max - x_min)\n",
    "\n",
    "# Imprimir valores del vector\n",
    "print(x_esc)\n",
    "\n",
    "\n",
    "\n"
   ]
  },
  {
   "cell_type": "code",
   "execution_count": 78,
   "id": "1ba84712",
   "metadata": {},
   "outputs": [
    {
     "name": "stdout",
     "output_type": "stream",
     "text": [
      "    Channel;Region;Fresh;Milk;Grocery;Frozen;Detergents_Paper;Delicatessen\n",
      "0                    2;3;12669;9656;7561;214;2674;1338                    \n",
      "1                    2;3;7057;9810;9568;1762;3293;1776                    \n",
      "2                    2;3;6353;8808;7684;2405;3516;7844                    \n",
      "3                    1;3;13265;1196;4221;6404;507;1788                    \n",
      "4                   2;3;22615;5410;7198;3915;1777;5185                    \n",
      "..                                                 ...                    \n",
      "435               1;3;29703;12051;16027;13135;182;2204                    \n",
      "436                    1;3;39228;1431;764;4510;93;2346                    \n",
      "437               2;3;14531;15488;30243;437;14841;1867                    \n",
      "438                  1;3;10290;1981;2232;1038;168;2125                    \n",
      "439                       1;3;2787;1698;2510;65;477;52                    \n",
      "\n",
      "[440 rows x 1 columns]\n"
     ]
    }
   ],
   "source": [
    "#Ahora con la base de datos\n",
    "# Definimos x_min y x_max que son min(x) y max(x) son el minimo y maximo valor del vector asi como de cada columna \n",
    "x_min = np.min(x)\n",
    "x_max = np.max(x)\n",
    "# Ahora, definimos la función de esclamiento \n",
    "x_esc = (x - x_min) / (x_max - x_min)                                                                                                            \n",
    "# En SEgundo lugar, insertamos la base de datos y hacemos una seleccio de las columnas numericas definiendo cols_numericas\n",
    "consumidores= pd.read_csv(r'../../data/BDD_compras_consumidores.csv')\n",
    "cols_numericas = consumidores.select_dtypes(include=[np.number]).columns\n",
    "#Luego, aplicamos la función de escalado a las columnas numéricas definidas\n",
    "consumidores[cols_numericas] = (consumidores[cols_numericas] - consumidores[cols_numericas].min()) / (consumidores[cols_numericas].max() - consumidores[cols_numericas].min())\n",
    "# Finalmente imprimimos el resultado\n",
    "print(consumidores)"
   ]
  },
  {
   "cell_type": "code",
   "execution_count": 49,
   "id": "063d6dcf",
   "metadata": {},
   "outputs": [
    {
     "name": "stdout",
     "output_type": "stream",
     "text": [
      "Nota promedio final de cada alumno:\n",
      "0      15.0\n",
      "1      14.0\n",
      "2      13.0\n",
      "3      13.5\n",
      "4      12.9\n",
      "       ... \n",
      "130    13.5\n",
      "131    11.9\n",
      "132    16.1\n",
      "133    12.4\n",
      "134    13.6\n",
      "Length: 135, dtype: float64\n",
      "Nota máxima y mínima de cada alumno:\n",
      "0      16\n",
      "1      16\n",
      "2      16\n",
      "3      16\n",
      "4      16\n",
      "       ..\n",
      "130    16\n",
      "131    13\n",
      "132    18\n",
      "133    14\n",
      "134    15\n",
      "Length: 135, dtype: int64\n",
      "0      13\n",
      "1      13\n",
      "2      11\n",
      "3      13\n",
      "4      11\n",
      "       ..\n",
      "130    12\n",
      "131    10\n",
      "132    13\n",
      "133    11\n",
      "134    13\n",
      "Length: 135, dtype: int64\n",
      "Promedio notas de cada curso:\n",
      "ciencia_tecnologia_y_ambiente     13.222222\n",
      "comunicacion                      13.762963\n",
      "educacion_fisica                  13.437037\n",
      "educacion_para_el_trabajo         13.414815\n",
      "educacion_religiosa               14.014815\n",
      "formacion_ciudadana_y_civica      12.674074\n",
      "hisotoria_geografia_y_economia    13.703704\n",
      "ingles                            14.214815\n",
      "matematica                        12.311111\n",
      "persona_familia_y_rrhh            13.711111\n",
      "dtype: float64\n",
      "Mediana notas de cada curso:\n",
      "ciencia_tecnologia_y_ambiente     13.0\n",
      "comunicacion                      14.0\n",
      "educacion_fisica                  13.0\n",
      "educacion_para_el_trabajo         13.0\n",
      "educacion_religiosa               14.0\n",
      "formacion_ciudadana_y_civica      13.0\n",
      "hisotoria_geografia_y_economia    13.0\n",
      "ingles                            14.0\n",
      "matematica                        12.0\n",
      "persona_familia_y_rrhh            13.0\n",
      "dtype: float64\n"
     ]
    }
   ],
   "source": [
    "#PREGUNTA2\n",
    "#Insertamos la base de datos siagie\n",
    "# Leer la base de datos\n",
    "siagie=pd.read_csv(\"../../data/siagie.csv\")\n",
    "##Definimos la funcion para la el promedio final y usamos axis igual a 1\n",
    "promedio_final=siagie.iloc[:,7:18].apply(lambda x: np.mean(x), axis=1)\n",
    "# luego vamos a definir una función que obtenga la nota promedio final de los curso  para cada alumno\n",
    "# Calculamos la nota máxima y mínima de cada alumno y usamos axis igual a 1\n",
    "max_notas=siagie.iloc[:,7:18].apply(lambda x: np.max(x), axis=1)\n",
    "min_notas=siagie.iloc[:,7:18].apply(lambda x: np.min(x), axis=1)\n",
    "# Calculamos el promedio y mediana de notas de cada curso\n",
    "curso_mean=siagie.iloc[:,7:18].apply(lambda x: np.mean(x), axis=0)\n",
    "curso_median=siagie.iloc[:,7:18].apply(lambda x: np.median(x), axis=0)\n",
    "#Imprimimos los resultados de nota promedio final de cada alumno\n",
    "print('Nota promedio final de cada alumno:')\n",
    "print(promedio_final)\n",
    "#Imprimimos los resultados de nota minima y maxima de cada alumno\n",
    "print('Nota máxima y mínima de cada alumno:')\n",
    "print(max_notas)\n",
    "print(min_notas)\n",
    "#Imprimimos los resultados de nota promedio de cada curso\n",
    "print('Promedio notas de cada curso:')\n",
    "print(curso_mean)\n",
    "#Imprimimos los resultados de la mediana de notas de cada curso\n",
    "print('Mediana notas de cada curso:')\n",
    "print(curso_median)\n",
    "\n"
   ]
  },
  {
   "cell_type": "code",
   "execution_count": null,
   "id": "36bd1307",
   "metadata": {},
   "outputs": [],
   "source": []
  }
 ],
 "metadata": {
  "kernelspec": {
   "display_name": "Python 3 (ipykernel)",
   "language": "python",
   "name": "python3"
  },
  "language_info": {
   "codemirror_mode": {
    "name": "ipython",
    "version": 3
   },
   "file_extension": ".py",
   "mimetype": "text/x-python",
   "name": "python",
   "nbconvert_exporter": "python",
   "pygments_lexer": "ipython3",
   "version": "3.10.9"
  }
 },
 "nbformat": 4,
 "nbformat_minor": 5
}
