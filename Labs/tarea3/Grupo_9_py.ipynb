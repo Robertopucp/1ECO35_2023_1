{
 "cells": [
  {
   "cell_type": "code",
   "execution_count": 8,
   "id": "298868ca",
   "metadata": {},
   "outputs": [],
   "source": [
    "#Tarea 3\n",
    "#PARTE SOLO EN PYTHON"
   ]
  },
  {
   "cell_type": "code",
   "execution_count": 6,
   "id": "612f3e9b",
   "metadata": {},
   "outputs": [],
   "source": [
    "#1. Función para calcular el factorial de un número n!\n",
    "#Crear una función que permita calcular el factorial de un número (n).\n",
    "def factorial(n):\n",
    "    \n",
    "    #Calcula el factorial de un número n, para ello debemos considerar no solo a los números postivos, sino también al cero y a los número negativos.\n",
    "   \n",
    "    if n < 0:\n",
    "        return \"Error: argumento inválido\"\n",
    "    elif n == 0:\n",
    "        return 1\n",
    "    else:\n",
    "        fact = 1\n",
    "        for i in range(1, n+1):\n",
    "            fact *= i\n",
    "        return fact\n"
   ]
  },
  {
   "cell_type": "code",
   "execution_count": 7,
   "id": "74e196d3",
   "metadata": {},
   "outputs": [
    {
     "name": "stdout",
     "output_type": "stream",
     "text": [
      "Error: argumento inválido\n"
     ]
    }
   ],
   "source": [
    "print (factorial(-20))"
   ]
  },
  {
   "cell_type": "code",
   "execution_count": 8,
   "id": "34d258ce",
   "metadata": {},
   "outputs": [
    {
     "name": "stdout",
     "output_type": "stream",
     "text": [
      "1\n"
     ]
    }
   ],
   "source": [
    "print (factorial(0))"
   ]
  },
  {
   "cell_type": "code",
   "execution_count": 19,
   "id": "ab2630ff",
   "metadata": {},
   "outputs": [
    {
     "name": "stdout",
     "output_type": "stream",
     "text": [
      "5040\n"
     ]
    }
   ],
   "source": [
    "print (factorial(7))"
   ]
  },
  {
   "cell_type": "code",
   "execution_count": 20,
   "id": "461e4b56",
   "metadata": {},
   "outputs": [],
   "source": [
    "#2.Función de masa corporal\n",
    "#Crear una función que calcule el índice de masa corporal\n",
    "def calcular_imc_estudiantes(peso, talla):\n",
    "   \n",
    "    #Calcular el índice de masa corporal (IMC), a partir ello debemos obtener del peso y la talla de una persona,\n",
    "   # y, además, devuelve el peso, la talla, el IMC y la clasificación según la tabla IMC.\n",
    "   \n",
    "    imc = peso / (talla ** 2)\n",
    "    \n",
    "    if 18.5 <= imc < 25:\n",
    "        clasificacion = \"Normal\"\n",
    "    elif 25 <= imc < 29.9:\n",
    "        clasificacion = \"Sobrepeso\"\n",
    "    elif 30 <= imc < 34.9:\n",
    "        clasificacion = \"Obesidad grado I\"\n",
    "    elif 35 <= imc < 39.9:\n",
    "        clasificacion = \"Obesidad grado II\"\n",
    "    else:\n",
    "        clasificacion = \"Obesidad grado III\"\n",
    "    \n",
    "    return peso, talla, imc, clasificacion\n"
   ]
  },
  {
   "cell_type": "code",
   "execution_count": 21,
   "id": "55862f43",
   "metadata": {},
   "outputs": [
    {
     "name": "stdout",
     "output_type": "stream",
     "text": [
      "Estudiante 1\n",
      "Peso: 70 kg\n",
      "Talla: 1.5 m\n",
      "IMC: 31.11\n",
      "Clasificación: Obesidad grado I\n",
      "\n",
      "Estudiante 2\n",
      "Peso: 85 kg\n",
      "Talla: 1.8 m\n",
      "IMC: 26.23\n",
      "Clasificación: Sobrepeso\n",
      "\n",
      "Estudiante 3\n",
      "Peso: 50 kg\n",
      "Talla: 1.6 m\n",
      "IMC: 19.53\n",
      "Clasificación: Normal\n"
     ]
    }
   ],
   "source": [
    "# Datos del estudiante 1\n",
    "pesoestudiante1 = 70\n",
    "tallaestudiante1 = 1.5\n",
    "peso, talla, imc, clasificacion = calcular_imc_estudiantes(pesoestudiante1, tallaestudiante1)\n",
    "print(\"Estudiante 1\")\n",
    "print(\"Peso: {} kg\".format(peso))\n",
    "print(\"Talla: {} m\".format(talla))\n",
    "print(\"IMC: {:.2f}\".format(imc))\n",
    "print(\"Clasificación: {}\".format(clasificacion))\n",
    "print()\n",
    "\n",
    "# Datos del estudiante 2\n",
    "pesoestudiante2 = 85\n",
    "tallaestudiante2 = 1.8\n",
    "peso, talla, imc, clasificacion = calcular_imc_estudiantes(pesoestudiante2, tallaestudiante2)\n",
    "print(\"Estudiante 2\")\n",
    "print(\"Peso: {} kg\".format(peso))\n",
    "print(\"Talla: {} m\".format(talla))\n",
    "print(\"IMC: {:.2f}\".format(imc))\n",
    "print(\"Clasificación: {}\".format(clasificacion))\n",
    "print()\n",
    "\n",
    "# Datos del estudiante 3\n",
    "pesoestudiante3 = 50\n",
    "tallaestudiante3 = 1.6\n",
    "peso, talla, imc, clasificacion = calcular_imc_estudiantes(pesoestudiante3, tallaestudiante3)\n",
    "print(\"Estudiante 3\")\n",
    "print(\"Peso: {} kg\".format(peso))\n",
    "print(\"Talla: {} m\".format(talla))\n",
    "print(\"IMC: {:.2f}\".format(imc))\n",
    "print(\"Clasificación: {}\".format(clasificacion))"
   ]
  },
  {
   "cell_type": "code",
   "execution_count": 9,
   "id": "82f4ebcc",
   "metadata": {},
   "outputs": [],
   "source": [
    "#3. Función aplicado a dos activos financieros\n",
    "#Usando la base de datos portfolio de la clases del jueves, ustedes deben crear una función que calcule el coeficiente de pearson del rendimiento de los activos X e Y. \n"
   ]
  },
  {
   "cell_type": "code",
   "execution_count": 10,
   "id": "dead4295",
   "metadata": {},
   "outputs": [
    {
     "data": {
      "text/plain": [
       "'C:\\\\Users\\\\HP\\\\Documents\\\\GitHub\\\\1ECO35_2023_1\\\\Labs\\\\tarea3'"
      ]
     },
     "execution_count": 10,
     "metadata": {},
     "output_type": "execute_result"
    }
   ],
   "source": [
    "import os # directorio (carpeta de trabajo)\n",
    "os.getcwd()"
   ]
  },
  {
   "cell_type": "code",
   "execution_count": 11,
   "id": "8b69fc88",
   "metadata": {},
   "outputs": [],
   "source": [
    "import pandas as pd"
   ]
  },
  {
   "cell_type": "code",
   "execution_count": 12,
   "id": "0d20795c",
   "metadata": {
    "scrolled": true
   },
   "outputs": [
    {
     "data": {
      "text/html": [
       "<div>\n",
       "<style scoped>\n",
       "    .dataframe tbody tr th:only-of-type {\n",
       "        vertical-align: middle;\n",
       "    }\n",
       "\n",
       "    .dataframe tbody tr th {\n",
       "        vertical-align: top;\n",
       "    }\n",
       "\n",
       "    .dataframe thead th {\n",
       "        text-align: right;\n",
       "    }\n",
       "</style>\n",
       "<table border=\"1\" class=\"dataframe\">\n",
       "  <thead>\n",
       "    <tr style=\"text-align: right;\">\n",
       "      <th></th>\n",
       "      <th>X</th>\n",
       "      <th>Y</th>\n",
       "    </tr>\n",
       "  </thead>\n",
       "  <tbody>\n",
       "    <tr>\n",
       "      <th>0</th>\n",
       "      <td>-0.895251</td>\n",
       "      <td>-0.234924</td>\n",
       "    </tr>\n",
       "    <tr>\n",
       "      <th>1</th>\n",
       "      <td>-1.562454</td>\n",
       "      <td>-0.885176</td>\n",
       "    </tr>\n",
       "    <tr>\n",
       "      <th>2</th>\n",
       "      <td>-0.417090</td>\n",
       "      <td>0.271888</td>\n",
       "    </tr>\n",
       "    <tr>\n",
       "      <th>3</th>\n",
       "      <td>1.044356</td>\n",
       "      <td>-0.734198</td>\n",
       "    </tr>\n",
       "    <tr>\n",
       "      <th>4</th>\n",
       "      <td>-0.315568</td>\n",
       "      <td>0.841983</td>\n",
       "    </tr>\n",
       "    <tr>\n",
       "      <th>...</th>\n",
       "      <td>...</td>\n",
       "      <td>...</td>\n",
       "    </tr>\n",
       "    <tr>\n",
       "      <th>95</th>\n",
       "      <td>0.479091</td>\n",
       "      <td>1.454774</td>\n",
       "    </tr>\n",
       "    <tr>\n",
       "      <th>96</th>\n",
       "      <td>-0.535020</td>\n",
       "      <td>-0.399175</td>\n",
       "    </tr>\n",
       "    <tr>\n",
       "      <th>97</th>\n",
       "      <td>-0.773129</td>\n",
       "      <td>-0.957175</td>\n",
       "    </tr>\n",
       "    <tr>\n",
       "      <th>98</th>\n",
       "      <td>0.403634</td>\n",
       "      <td>1.396038</td>\n",
       "    </tr>\n",
       "    <tr>\n",
       "      <th>99</th>\n",
       "      <td>-0.588496</td>\n",
       "      <td>-0.497285</td>\n",
       "    </tr>\n",
       "  </tbody>\n",
       "</table>\n",
       "<p>100 rows × 2 columns</p>\n",
       "</div>"
      ],
      "text/plain": [
       "           X         Y\n",
       "0  -0.895251 -0.234924\n",
       "1  -1.562454 -0.885176\n",
       "2  -0.417090  0.271888\n",
       "3   1.044356 -0.734198\n",
       "4  -0.315568  0.841983\n",
       "..       ...       ...\n",
       "95  0.479091  1.454774\n",
       "96 -0.535020 -0.399175\n",
       "97 -0.773129 -0.957175\n",
       "98  0.403634  1.396038\n",
       "99 -0.588496 -0.497285\n",
       "\n",
       "[100 rows x 2 columns]"
      ]
     },
     "execution_count": 12,
     "metadata": {},
     "output_type": "execute_result"
    }
   ],
   "source": [
    "#Cargamos la base de datos\n",
    "portfolio = pd.read_csv(r'../../data/Portafolio.csv')\n",
    "portfolio"
   ]
  },
  {
   "cell_type": "code",
   "execution_count": 14,
   "id": "83282a57",
   "metadata": {},
   "outputs": [],
   "source": [
    "import numpy as np"
   ]
  },
  {
   "cell_type": "code",
   "execution_count": 15,
   "id": "f114dd10",
   "metadata": {},
   "outputs": [],
   "source": [
    "def coef_pearson_portafolio(data):\n",
    "    X = data['X']\n",
    "    y = data['Y']\n",
    "    covarianza = X.cov(y)\n",
    "    varianza_x = X.var(ddof=1)\n",
    "    varianza_y = y.var(ddof=1)\n",
    "    cal_coef_pearson = covarianza / (varianza_x**0.5 * varianza_y**0.5)\n",
    "    return cal_coef_pearson\n"
   ]
  },
  {
   "cell_type": "code",
   "execution_count": 16,
   "id": "97f94013",
   "metadata": {},
   "outputs": [
    {
     "data": {
      "text/plain": [
       "0.5154675930764797"
      ]
     },
     "execution_count": 16,
     "metadata": {},
     "output_type": "execute_result"
    }
   ],
   "source": [
    "coef_pearson_portafolio(portfolio)"
   ]
  },
  {
   "cell_type": "code",
   "execution_count": null,
   "id": "f5e9b597",
   "metadata": {},
   "outputs": [],
   "source": [
    "#4. Ahora, calculamos la varianza del portafolio. Para ello, tenemos que W_x=0.2 y W_y=0.8"
   ]
  },
  {
   "cell_type": "code",
   "execution_count": 17,
   "id": "5a8b199e",
   "metadata": {},
   "outputs": [],
   "source": [
    "#Creamos la unción con los valores dados\n",
    "def varianza_portafolio(data):\n",
    "  \n",
    "    W_x=0.2\n",
    "    W_y=0.8\n",
    "    X = data['X']\n",
    "    y = data['Y']\n",
    "    covarianza = X.cov(y)\n",
    "    varianza_x = X.var(ddof=1)\n",
    "    varianza_y = y.var(ddof=1)\n",
    "    varianza_cal = (W_x**2)*varianza_x+(W_y**2)*varianza_y+2*W_x*W_y*covarianza\n",
    "    return varianza_cal"
   ]
  },
  {
   "cell_type": "code",
   "execution_count": 18,
   "id": "d47ec239",
   "metadata": {},
   "outputs": [
    {
     "data": {
      "text/plain": [
       "1.0828523278464037"
      ]
     },
     "execution_count": 18,
     "metadata": {},
     "output_type": "execute_result"
    }
   ],
   "source": [
    "varianza_portafolio(portfolio)"
   ]
  },
  {
   "cell_type": "code",
   "execution_count": null,
   "id": "43b98064",
   "metadata": {},
   "outputs": [],
   "source": [
    "#Ambos resultados son iguales a los obtenidos en Rstudio"
   ]
  },
  {
   "cell_type": "code",
   "execution_count": null,
   "id": "b39f4801",
   "metadata": {},
   "outputs": [],
   "source": [
    "#5. "
   ]
  },
  {
   "cell_type": "code",
   "execution_count": null,
   "id": "b4b63717",
   "metadata": {},
   "outputs": [],
   "source": []
  },
  {
   "cell_type": "code",
   "execution_count": null,
   "id": "2ab69880",
   "metadata": {},
   "outputs": [],
   "source": []
  },
  {
   "cell_type": "code",
   "execution_count": null,
   "id": "446417de",
   "metadata": {},
   "outputs": [],
   "source": []
  },
  {
   "cell_type": "code",
   "execution_count": null,
   "id": "063d6dcf",
   "metadata": {},
   "outputs": [],
   "source": []
  },
  {
   "cell_type": "code",
   "execution_count": null,
   "id": "36bd1307",
   "metadata": {},
   "outputs": [],
   "source": []
  }
 ],
 "metadata": {
  "kernelspec": {
   "display_name": "Python 3 (ipykernel)",
   "language": "python",
   "name": "python3"
  },
  "language_info": {
   "codemirror_mode": {
    "name": "ipython",
    "version": 3
   },
   "file_extension": ".py",
   "mimetype": "text/x-python",
   "name": "python",
   "nbconvert_exporter": "python",
   "pygments_lexer": "ipython3",
   "version": "3.10.9"
  }
 },
 "nbformat": 4,
 "nbformat_minor": 5
}
