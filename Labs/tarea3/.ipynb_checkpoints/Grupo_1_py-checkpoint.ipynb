{
 "cells": [
  {
   "cell_type": "markdown",
   "id": "975b084d",
   "metadata": {},
   "source": [
    "# GRUPO 1 - WORKGROUP 3\n",
    "A continuación presentamos el desarrollo del workgroup 3. Primero, importamos las bibliotecas que usaremos en el script."
   ]
  },
  {
   "cell_type": "code",
   "execution_count": 1,
   "id": "1c2c057b",
   "metadata": {},
   "outputs": [],
   "source": [
    "import numpy as np\n",
    "import pandas as pd\n",
    "import math"
   ]
  },
  {
   "cell_type": "markdown",
   "id": "117bcf7c",
   "metadata": {},
   "source": [
    "## 1. Map, sapply, apply, función lambda\n",
    "\n",
    "En esta sección, haremos uso de las funciones lambda y otros componentes para realizar reescalamientos. Para ello, emplearemos la siguiente fórmula:\n",
    "\n",
    "$$reescalamiento=\\frac{{x_i}-{min(x)}}{{max(x)}-{min(x)}}$$"
   ]
  },
  {
   "cell_type": "markdown",
   "id": "e26f03a3",
   "metadata": {},
   "source": [
    "### 1.1 Reescalamiento con vector de 100 números aleatorios"
   ]
  },
  {
   "cell_type": "code",
   "execution_count": 2,
   "id": "d34dbebc",
   "metadata": {},
   "outputs": [
    {
     "data": {
      "text/plain": [
       "[0.34201082273015043,\n",
       " 0.8149794736481158,\n",
       " 0.33117235489660707,\n",
       " 0.8632763823600581,\n",
       " 0.005077897255869801,\n",
       " 0.1779352779018651,\n",
       " 0.7942335697469565,\n",
       " 0.8249772449342514,\n",
       " 0.7540002376021947,\n",
       " 0.10638678721386573,\n",
       " 0.6171211586324437,\n",
       " 0.6390290471645733,\n",
       " 0.8834945922066335,\n",
       " 0.9796707213097549,\n",
       " 0.29793011604307956,\n",
       " 0.7288313522672238,\n",
       " 0.4000677957538339,\n",
       " 0.1574499695866001,\n",
       " 0.6550563126164213,\n",
       " 0.6457997205332876,\n",
       " 0.23325099154847484,\n",
       " 0.1250226953048281,\n",
       " 0.33178691153884177,\n",
       " 0.3175273306670525,\n",
       " 0.7881204299956851,\n",
       " 0.07974693109904103,\n",
       " 0.13524584749052254,\n",
       " 0.6357652170407243,\n",
       " 0.4424769187915608,\n",
       " 0.48523643472014394,\n",
       " 0.7935513054018147,\n",
       " 0.13398327568588747,\n",
       " 0.052604205960786236,\n",
       " 0.6752512775576885,\n",
       " 0.23860476356534105,\n",
       " 0.9213154284128187,\n",
       " 0.24330683383070784,\n",
       " 0.37948849962452785,\n",
       " 0.8734433869027391,\n",
       " 0.1245669195386987,\n",
       " 0.3684880121696134,\n",
       " 0.2672117068730701,\n",
       " 0.6346037671860346,\n",
       " 0.8604914991037916,\n",
       " 0.9269862926968124,\n",
       " 0.6856240729248041,\n",
       " 0.8113336799778765,\n",
       " 0.19510732554142265,\n",
       " 0.3262121980692449,\n",
       " 0.6148576301507276,\n",
       " 0.34385625318622315,\n",
       " 0.38968444941875235,\n",
       " 0.0067028345931216485,\n",
       " 0.6523174599021145,\n",
       " 0.2847277588806732,\n",
       " 0.911030511006967,\n",
       " 0.5540149337153344,\n",
       " 0.967240733404675,\n",
       " 0.17621143376006596,\n",
       " 0.5275228546993157,\n",
       " 0.8516576202577435,\n",
       " 0.014876069500670261,\n",
       " 0.09724400716893847,\n",
       " 0.0,\n",
       " 0.22516213609226257,\n",
       " 0.23875682524275024,\n",
       " 0.27804153597638603,\n",
       " 0.521129754138139,\n",
       " 0.18812262270747068,\n",
       " 0.4613966407516003,\n",
       " 0.08984792316977273,\n",
       " 0.0659310318102922,\n",
       " 1.0,\n",
       " 0.1712800114473347,\n",
       " 0.6399405620094565,\n",
       " 0.8341757214406006,\n",
       " 0.05002511865626826,\n",
       " 0.10000051581582527,\n",
       " 0.011332688112969882,\n",
       " 0.32899425283427464,\n",
       " 0.9190139709946417,\n",
       " 0.9352493906901191,\n",
       " 0.2627516033867964,\n",
       " 0.23173745376632632,\n",
       " 0.7183258548051373,\n",
       " 0.7839138425023893,\n",
       " 0.2302327483210811,\n",
       " 0.4686103953675458,\n",
       " 0.6077486252570274,\n",
       " 0.8276383086360395,\n",
       " 0.005300619053779469,\n",
       " 0.2247989815593151,\n",
       " 0.9390037227469308,\n",
       " 0.4438968522416026,\n",
       " 0.2869686626296361,\n",
       " 0.44517040524887497,\n",
       " 0.6912806837423909,\n",
       " 0.9292164778528563,\n",
       " 0.04672305841772814,\n",
       " 0.8716700108374273]"
      ]
     },
     "execution_count": 2,
     "metadata": {},
     "output_type": "execute_result"
    }
   ],
   "source": [
    "#Primero lo realizamos con un vector de 100 números aleatorios\n",
    "\n",
    "#Semilla\n",
    "np.random.seed(15112) #plantamos una semilla para que los resultados sean replicables\n",
    "\n",
    "#Vector\n",
    "vector = np.random.uniform(low=100, high=1000, size=100) #generamos el vector aleatorio, con numeros mayores a uno, para notar la diferencia en el reescalamiento\n",
    "\n",
    "#Reescalamiento\n",
    "reescalamiento_0 = list(map( lambda x: (x - np.min(vector))/(np.max(vector)-np.min(vector)), vector) ) #aplicamos la fórmula con una función lambda y haciendo uso de map para que se aplique a todo elvector\n",
    "reescalamiento_0\n"
   ]
  },
  {
   "cell_type": "markdown",
   "id": "dc388142",
   "metadata": {},
   "source": [
    "### 1.2 Reescalamiento con base de datos de compras de consumidores"
   ]
  },
  {
   "cell_type": "code",
   "execution_count": 3,
   "id": "c49d1514",
   "metadata": {},
   "outputs": [
    {
     "data": {
      "text/html": [
       "<div>\n",
       "<style scoped>\n",
       "    .dataframe tbody tr th:only-of-type {\n",
       "        vertical-align: middle;\n",
       "    }\n",
       "\n",
       "    .dataframe tbody tr th {\n",
       "        vertical-align: top;\n",
       "    }\n",
       "\n",
       "    .dataframe thead th {\n",
       "        text-align: right;\n",
       "    }\n",
       "</style>\n",
       "<table border=\"1\" class=\"dataframe\">\n",
       "  <thead>\n",
       "    <tr style=\"text-align: right;\">\n",
       "      <th></th>\n",
       "      <th>Fresh</th>\n",
       "      <th>Milk</th>\n",
       "      <th>Grocery</th>\n",
       "      <th>Frozen</th>\n",
       "      <th>Detergents_Paper</th>\n",
       "      <th>Delicatessen</th>\n",
       "    </tr>\n",
       "  </thead>\n",
       "  <tbody>\n",
       "    <tr>\n",
       "      <th>0</th>\n",
       "      <td>0.112940</td>\n",
       "      <td>0.130727</td>\n",
       "      <td>0.081464</td>\n",
       "      <td>0.003106</td>\n",
       "      <td>0.065427</td>\n",
       "      <td>0.027847</td>\n",
       "    </tr>\n",
       "    <tr>\n",
       "      <th>1</th>\n",
       "      <td>0.062899</td>\n",
       "      <td>0.132824</td>\n",
       "      <td>0.103097</td>\n",
       "      <td>0.028548</td>\n",
       "      <td>0.080590</td>\n",
       "      <td>0.036984</td>\n",
       "    </tr>\n",
       "    <tr>\n",
       "      <th>2</th>\n",
       "      <td>0.056622</td>\n",
       "      <td>0.119181</td>\n",
       "      <td>0.082790</td>\n",
       "      <td>0.039116</td>\n",
       "      <td>0.086052</td>\n",
       "      <td>0.163559</td>\n",
       "    </tr>\n",
       "    <tr>\n",
       "      <th>3</th>\n",
       "      <td>0.118254</td>\n",
       "      <td>0.015536</td>\n",
       "      <td>0.045464</td>\n",
       "      <td>0.104842</td>\n",
       "      <td>0.012346</td>\n",
       "      <td>0.037234</td>\n",
       "    </tr>\n",
       "    <tr>\n",
       "      <th>4</th>\n",
       "      <td>0.201626</td>\n",
       "      <td>0.072914</td>\n",
       "      <td>0.077552</td>\n",
       "      <td>0.063934</td>\n",
       "      <td>0.043455</td>\n",
       "      <td>0.108093</td>\n",
       "    </tr>\n",
       "    <tr>\n",
       "      <th>...</th>\n",
       "      <td>...</td>\n",
       "      <td>...</td>\n",
       "      <td>...</td>\n",
       "      <td>...</td>\n",
       "      <td>...</td>\n",
       "      <td>...</td>\n",
       "    </tr>\n",
       "    <tr>\n",
       "      <th>435</th>\n",
       "      <td>0.264829</td>\n",
       "      <td>0.163338</td>\n",
       "      <td>0.172715</td>\n",
       "      <td>0.215469</td>\n",
       "      <td>0.004385</td>\n",
       "      <td>0.045912</td>\n",
       "    </tr>\n",
       "    <tr>\n",
       "      <th>436</th>\n",
       "      <td>0.349761</td>\n",
       "      <td>0.018736</td>\n",
       "      <td>0.008202</td>\n",
       "      <td>0.073713</td>\n",
       "      <td>0.002205</td>\n",
       "      <td>0.048874</td>\n",
       "    </tr>\n",
       "    <tr>\n",
       "      <th>437</th>\n",
       "      <td>0.129543</td>\n",
       "      <td>0.210136</td>\n",
       "      <td>0.325943</td>\n",
       "      <td>0.006771</td>\n",
       "      <td>0.363463</td>\n",
       "      <td>0.038882</td>\n",
       "    </tr>\n",
       "    <tr>\n",
       "      <th>438</th>\n",
       "      <td>0.091727</td>\n",
       "      <td>0.026224</td>\n",
       "      <td>0.024025</td>\n",
       "      <td>0.016649</td>\n",
       "      <td>0.004042</td>\n",
       "      <td>0.044264</td>\n",
       "    </tr>\n",
       "    <tr>\n",
       "      <th>439</th>\n",
       "      <td>0.024824</td>\n",
       "      <td>0.022371</td>\n",
       "      <td>0.027022</td>\n",
       "      <td>0.000657</td>\n",
       "      <td>0.011611</td>\n",
       "      <td>0.001022</td>\n",
       "    </tr>\n",
       "  </tbody>\n",
       "</table>\n",
       "<p>440 rows × 6 columns</p>\n",
       "</div>"
      ],
      "text/plain": [
       "        Fresh      Milk   Grocery    Frozen  Detergents_Paper  Delicatessen\n",
       "0    0.112940  0.130727  0.081464  0.003106          0.065427      0.027847\n",
       "1    0.062899  0.132824  0.103097  0.028548          0.080590      0.036984\n",
       "2    0.056622  0.119181  0.082790  0.039116          0.086052      0.163559\n",
       "3    0.118254  0.015536  0.045464  0.104842          0.012346      0.037234\n",
       "4    0.201626  0.072914  0.077552  0.063934          0.043455      0.108093\n",
       "..        ...       ...       ...       ...               ...           ...\n",
       "435  0.264829  0.163338  0.172715  0.215469          0.004385      0.045912\n",
       "436  0.349761  0.018736  0.008202  0.073713          0.002205      0.048874\n",
       "437  0.129543  0.210136  0.325943  0.006771          0.363463      0.038882\n",
       "438  0.091727  0.026224  0.024025  0.016649          0.004042      0.044264\n",
       "439  0.024824  0.022371  0.027022  0.000657          0.011611      0.001022\n",
       "\n",
       "[440 rows x 6 columns]"
      ]
     },
     "execution_count": 3,
     "metadata": {},
     "output_type": "execute_result"
    }
   ],
   "source": [
    "#Realizamos el mismo tipo de reescalamiento, pero ahora con la base de datos de compras de consumidores\n",
    "\n",
    "#Base de datos\n",
    "datos = pd.read_csv(\"../../data/BDD_compras_consumidores.csv\", sep = \";\") #importamos la base de datos\n",
    "\n",
    "#Reescalamiento\n",
    "reescalamiento = datos.iloc[:,2:9].apply(lambda x: (x - np.min(x))/(np.max(x)-np.min(x)) , axis = 0)  #Especificamos las columnas a las que se aplicará (solo numéricas), usamos apply y axis = 0 para que aplique a todas las columnas que queremos  \n",
    "reescalamiento"
   ]
  },
  {
   "cell_type": "markdown",
   "id": "cfd241ac",
   "metadata": {},
   "source": [
    "## 2. Apply\n",
    "\n",
    "En esta sección utilizaremos apply para obtener estadísticas específicas de nuestra base de datos"
   ]
  },
  {
   "cell_type": "markdown",
   "id": "92c55fb5",
   "metadata": {},
   "source": [
    "### 2.1 Nota promedio final de cada alumno"
   ]
  },
  {
   "cell_type": "code",
   "execution_count": 4,
   "id": "5175e50e",
   "metadata": {
    "scrolled": false
   },
   "outputs": [
    {
     "name": "stdout",
     "output_type": "stream",
     "text": [
      "0      15.181818\n",
      "1      13.818182\n",
      "2      13.363636\n",
      "3      13.545455\n",
      "4      13.090909\n",
      "         ...    \n",
      "130    13.363636\n",
      "131    12.000000\n",
      "132    16.272727\n",
      "133    12.454545\n",
      "134    13.636364\n",
      "Length: 135, dtype: float64\n"
     ]
    }
   ],
   "source": [
    "#Base de datos\n",
    "siagie = pd.read_csv(\"../../data/siagie.csv\") #Importamos la base siagie\n",
    "\n",
    "#Nota promedio final de cada alumno\n",
    "\n",
    "def promedio_final(row):\n",
    "    return row[6:].mean() #Definimos una función que obtenga la nota promedio final de los cursos, para cada alumno\n",
    "\n",
    "# Aplicamos la función\n",
    "promedios = siagie.apply(promedio_final, axis=1) #usamos apply y axis = 1 para que se aplique a nivel de filas\n",
    "\n",
    "# Mostrar los promedios calculados\n",
    "print(promedios)"
   ]
  },
  {
   "cell_type": "markdown",
   "id": "b3a86877",
   "metadata": {},
   "source": [
    "### 2.2 Nota máxima de cada alumno"
   ]
  },
  {
   "cell_type": "code",
   "execution_count": 5,
   "id": "1a502092",
   "metadata": {
    "scrolled": true
   },
   "outputs": [
    {
     "name": "stdout",
     "output_type": "stream",
     "text": [
      "0      17\n",
      "1      16\n",
      "2      17\n",
      "3      16\n",
      "4      16\n",
      "       ..\n",
      "130    16\n",
      "131    13\n",
      "132    18\n",
      "133    14\n",
      "134    15\n",
      "Length: 135, dtype: int64\n"
     ]
    }
   ],
   "source": [
    "#Nota máxima final de cada alumno\n",
    "\n",
    "def nota_maxima(row):\n",
    "    return row[6:].max() #Definimos una función que obtenga la nota máxima de los cursos, para cada alumno\n",
    "\n",
    "# Aplicamos la función\n",
    "maximos = siagie.apply(nota_maxima, axis=1) #usamos apply y axis = 1 para que se aplique a nivel de filas\n",
    "\n",
    "# Mostrar los promedios calculados\n",
    "print(maximos)"
   ]
  },
  {
   "cell_type": "markdown",
   "id": "8b07b7af",
   "metadata": {},
   "source": [
    "### 2.3 Nota mínima de cada alumno"
   ]
  },
  {
   "cell_type": "code",
   "execution_count": 6,
   "id": "81e77351",
   "metadata": {
    "scrolled": false
   },
   "outputs": [
    {
     "name": "stdout",
     "output_type": "stream",
     "text": [
      "0      13\n",
      "1      12\n",
      "2      11\n",
      "3      13\n",
      "4      11\n",
      "       ..\n",
      "130    12\n",
      "131    10\n",
      "132    13\n",
      "133    11\n",
      "134    13\n",
      "Length: 135, dtype: int64\n"
     ]
    }
   ],
   "source": [
    "#Nota mínima final de cada alumno\n",
    "\n",
    "def nota_minima(row):\n",
    "    return row[6:].min() #Definimos una función que obtenga la nota mínima de los cursos, para cada alumno\n",
    "\n",
    "# Aplicamos la función\n",
    "minimos = siagie.apply(nota_minima, axis=1) #usamos apply y axis = 1 para que se aplique a nivel de filas\n",
    "\n",
    "# Mostrar los promedios calculados\n",
    "print(minimos)"
   ]
  },
  {
   "cell_type": "markdown",
   "id": "7f30c5ac",
   "metadata": {},
   "source": [
    "### 2.4 Promedio de notas de cada curso"
   ]
  },
  {
   "cell_type": "code",
   "execution_count": 7,
   "id": "ba78e24a",
   "metadata": {
    "scrolled": true
   },
   "outputs": [
    {
     "name": "stdout",
     "output_type": "stream",
     "text": [
      "arte                              14.103704\n",
      "ciencia_tecnologia_y_ambiente     13.222222\n",
      "comunicacion                      13.762963\n",
      "educacion_fisica                  13.437037\n",
      "educacion_para_el_trabajo         13.414815\n",
      "educacion_religiosa               14.014815\n",
      "formacion_ciudadana_y_civica      12.674074\n",
      "hisotoria_geografia_y_economia    13.703704\n",
      "ingles                            14.214815\n",
      "matematica                        12.311111\n",
      "persona_familia_y_rrhh            13.711111\n",
      "dtype: float64\n"
     ]
    }
   ],
   "source": [
    "#Promedio de notas de cada curso\n",
    "\n",
    "def promedio_cursos(col):\n",
    "    return col.mean() #Definimos una función que obtenga el promedio de todos los alumnos, para cada curso\n",
    "\n",
    "# Aplicamos la función\n",
    "promedios = siagie.iloc[:, 6:].apply(promedio_cursos, axis=0) #usamos apply y axis = 1 para que se aplique a nivel de columnas\n",
    "\n",
    "# Mostrar los promedios calculados\n",
    "print(promedios)"
   ]
  },
  {
   "cell_type": "markdown",
   "id": "5fcd2bc8",
   "metadata": {},
   "source": [
    "### 2.5 Mediana de notas de cada curso"
   ]
  },
  {
   "cell_type": "code",
   "execution_count": 8,
   "id": "d8ecbc64",
   "metadata": {},
   "outputs": [
    {
     "name": "stdout",
     "output_type": "stream",
     "text": [
      "arte                              14.0\n",
      "ciencia_tecnologia_y_ambiente     13.0\n",
      "comunicacion                      14.0\n",
      "educacion_fisica                  13.0\n",
      "educacion_para_el_trabajo         13.0\n",
      "educacion_religiosa               14.0\n",
      "formacion_ciudadana_y_civica      13.0\n",
      "hisotoria_geografia_y_economia    13.0\n",
      "ingles                            14.0\n",
      "matematica                        12.0\n",
      "persona_familia_y_rrhh            13.0\n",
      "dtype: float64\n"
     ]
    }
   ],
   "source": [
    "#Mediana de notas de cada curso\n",
    "\n",
    "def mediana_cursos(col):\n",
    "    return col.median() #Definimos una función que obtenga la mediana de todos los alumnos, para cada curso\n",
    "\n",
    "# Aplicamos la función\n",
    "medianas = siagie.iloc[:, 6:].apply(mediana_cursos, axis=0) #usamos apply y axis = 1 para que se aplique a nivel de columnas\n",
    "\n",
    "# Mostrar los promedios calculados\n",
    "print(medianas)"
   ]
  },
  {
   "cell_type": "markdown",
   "id": "8a4d5a71",
   "metadata": {},
   "source": [
    "## 3. Funciones\n",
    "\n",
    "### 3.1. Función para calcular el factorial de un número\n",
    "En esta sección, creamos una función que nos permita calcular el factorial de un número $n$.\n",
    "Tal que:\n",
    "$$n!=1 \\text{ x } 2 \\text{ x } 3 \\text{ x...x } n$$ \n",
    "\n",
    "Tomando en cuenta que no existe el factorial de un número menor que 0 (es decir, $ 0 \\leqslant n$)"
   ]
  },
  {
   "cell_type": "code",
   "execution_count": 9,
   "id": "9312211e",
   "metadata": {},
   "outputs": [],
   "source": [
    "#Creamos la función utilizando condicionales (cuando n<0) y loops.\n",
    "def factorial(n):\n",
    "    x=1\n",
    "    if n<0:\n",
    "        print(\"error\")\n",
    "    elif n==0:\n",
    "        print(1)\n",
    "    elif n>0:\n",
    "        for i in range(1,n+1):\n",
    "            x=x*i\n",
    "    return x"
   ]
  },
  {
   "cell_type": "code",
   "execution_count": 10,
   "id": "6417cc8b",
   "metadata": {},
   "outputs": [
    {
     "name": "stdout",
     "output_type": "stream",
     "text": [
      "error\n",
      "1\n"
     ]
    },
    {
     "data": {
      "text/plain": [
       "24"
      ]
     },
     "execution_count": 10,
     "metadata": {},
     "output_type": "execute_result"
    }
   ],
   "source": [
    "#Ejemplo\n",
    "\n",
    "#n<0\n",
    "factorial(-32)\n",
    "\n",
    "#n=0\n",
    "factorial(0)\n",
    "\n",
    "#n>0\n",
    "factorial(4)"
   ]
  },
  {
   "cell_type": "markdown",
   "id": "ac266e59",
   "metadata": {},
   "source": [
    "### 3.2. Función de masa corporal\n",
    "Cremaos una función que calcule el índice de masa corporal como:\n",
    "$$BMI=\\frac{Peso}{Talla^2}$$\n",
    "\n",
    "Luego, probamos la funcion para los siguientes casos:\n",
    "* Estudiante 1: peso 70 kilos y talla 1.5 metros\n",
    "* Estudiante 2: peso 85 kilos y talla 1.8 metros\n",
    "* Estudiante 3: peso 50 kilos y talla 1.6 metros"
   ]
  },
  {
   "cell_type": "code",
   "execution_count": 11,
   "id": "607d3b8d",
   "metadata": {},
   "outputs": [],
   "source": [
    "#Definimos la función utilizando condicionales\n",
    "def BMI(p,t):\n",
    "    imc=p/(t*t)\n",
    "    if 18.5<=imc<25:\n",
    "        clas=\"Normal\"\n",
    "        riesgo=\"Promedio\"\n",
    "    elif 25<=imc<30:\n",
    "        clas=\"Sobrepeso\"\n",
    "        riesgo=\"Aumentado\"\n",
    "    elif 30<=imc<35:\n",
    "        clas=\"Obesidad grado 1\"\n",
    "        riesgo=\"Moderado\"\n",
    "    elif 35<=imc<=40:\n",
    "        clas=\"Obesidad grado 2\"\n",
    "        riesgo=\"Severo\"\n",
    "    elif 40<imc:\n",
    "        clas=\"Obesidad grado 3\"\n",
    "        riesgo=\"Muy severo\"\n",
    "    imc = \"{:.2f}\".format(imc)\n",
    "    resultado=(p,t,imc,clas)\n",
    "    return resultado"
   ]
  },
  {
   "cell_type": "code",
   "execution_count": 12,
   "id": "67e38891",
   "metadata": {},
   "outputs": [
    {
     "name": "stdout",
     "output_type": "stream",
     "text": [
      "Resultados Estudiante 1\n",
      "(70, 1.5, '31.11', 'Obesidad grado 1')\n",
      "Resultados Estudiante 2\n",
      "(85, 1.8, '26.23', 'Sobrepeso')\n",
      "Resultados Estudiante 1\n",
      "(50, 1.6, '19.53', 'Normal')\n"
     ]
    }
   ],
   "source": [
    "#Probamos la función con la información de los estudiantes\n",
    "\n",
    "#Estudiante 1\n",
    "print(\"Resultados Estudiante 1\")\n",
    "print(BMI(70, 1.5))\n",
    "\n",
    "#Estudiante 2\n",
    "print(\"Resultados Estudiante 2\")\n",
    "print(BMI(85, 1.8))\n",
    "\n",
    "#Estudiante 1\n",
    "print(\"Resultados Estudiante 1\")\n",
    "print(BMI(50, 1.6))"
   ]
  },
  {
   "cell_type": "markdown",
   "id": "07b3aeb4",
   "metadata": {},
   "source": [
    "### 3.3. Función aplicada a dos activos financieros\n",
    "Usando la base de datos portfolio, creamos una función que calcule el coeficiente de pearson del rendimiento de los activos $X$ e $Y$. Asimismo, calculamos la varianza del portafolio."
   ]
  },
  {
   "cell_type": "code",
   "execution_count": 13,
   "id": "6099d4a1",
   "metadata": {},
   "outputs": [
    {
     "data": {
      "text/html": [
       "<div>\n",
       "<style scoped>\n",
       "    .dataframe tbody tr th:only-of-type {\n",
       "        vertical-align: middle;\n",
       "    }\n",
       "\n",
       "    .dataframe tbody tr th {\n",
       "        vertical-align: top;\n",
       "    }\n",
       "\n",
       "    .dataframe thead th {\n",
       "        text-align: right;\n",
       "    }\n",
       "</style>\n",
       "<table border=\"1\" class=\"dataframe\">\n",
       "  <thead>\n",
       "    <tr style=\"text-align: right;\">\n",
       "      <th></th>\n",
       "      <th>X</th>\n",
       "      <th>Y</th>\n",
       "    </tr>\n",
       "  </thead>\n",
       "  <tbody>\n",
       "    <tr>\n",
       "      <th>0</th>\n",
       "      <td>-0.895251</td>\n",
       "      <td>-0.234924</td>\n",
       "    </tr>\n",
       "    <tr>\n",
       "      <th>1</th>\n",
       "      <td>-1.562454</td>\n",
       "      <td>-0.885176</td>\n",
       "    </tr>\n",
       "    <tr>\n",
       "      <th>2</th>\n",
       "      <td>-0.417090</td>\n",
       "      <td>0.271888</td>\n",
       "    </tr>\n",
       "    <tr>\n",
       "      <th>3</th>\n",
       "      <td>1.044356</td>\n",
       "      <td>-0.734198</td>\n",
       "    </tr>\n",
       "    <tr>\n",
       "      <th>4</th>\n",
       "      <td>-0.315568</td>\n",
       "      <td>0.841983</td>\n",
       "    </tr>\n",
       "    <tr>\n",
       "      <th>...</th>\n",
       "      <td>...</td>\n",
       "      <td>...</td>\n",
       "    </tr>\n",
       "    <tr>\n",
       "      <th>95</th>\n",
       "      <td>0.479091</td>\n",
       "      <td>1.454774</td>\n",
       "    </tr>\n",
       "    <tr>\n",
       "      <th>96</th>\n",
       "      <td>-0.535020</td>\n",
       "      <td>-0.399175</td>\n",
       "    </tr>\n",
       "    <tr>\n",
       "      <th>97</th>\n",
       "      <td>-0.773129</td>\n",
       "      <td>-0.957175</td>\n",
       "    </tr>\n",
       "    <tr>\n",
       "      <th>98</th>\n",
       "      <td>0.403634</td>\n",
       "      <td>1.396038</td>\n",
       "    </tr>\n",
       "    <tr>\n",
       "      <th>99</th>\n",
       "      <td>-0.588496</td>\n",
       "      <td>-0.497285</td>\n",
       "    </tr>\n",
       "  </tbody>\n",
       "</table>\n",
       "<p>100 rows × 2 columns</p>\n",
       "</div>"
      ],
      "text/plain": [
       "           X         Y\n",
       "0  -0.895251 -0.234924\n",
       "1  -1.562454 -0.885176\n",
       "2  -0.417090  0.271888\n",
       "3   1.044356 -0.734198\n",
       "4  -0.315568  0.841983\n",
       "..       ...       ...\n",
       "95  0.479091  1.454774\n",
       "96 -0.535020 -0.399175\n",
       "97 -0.773129 -0.957175\n",
       "98  0.403634  1.396038\n",
       "99 -0.588496 -0.497285\n",
       "\n",
       "[100 rows x 2 columns]"
      ]
     },
     "execution_count": 13,
     "metadata": {},
     "output_type": "execute_result"
    }
   ],
   "source": [
    "#Importamos la base de datos\n",
    "\n",
    "portfolio = pd.read_csv(\"../../data/Portafolio.csv\")\n",
    "portfolio"
   ]
  },
  {
   "cell_type": "markdown",
   "id": "5f2e7790",
   "metadata": {},
   "source": [
    "### a. Coeficiente de Pearson\n",
    "El coeficiente de pearson define como:\n",
    "$$ \\rho_{(x,y)}=\\frac{Cov_{(x,y)}}{\\sqrt{Var_{(x)}}\\sqrt{Var_{(y)}}}$$"
   ]
  },
  {
   "cell_type": "code",
   "execution_count": 14,
   "id": "3777730a",
   "metadata": {},
   "outputs": [],
   "source": [
    "# Extraemos las clumnas de datos\n",
    "x = portfolio['X']\n",
    "y = portfolio['Y']"
   ]
  },
  {
   "cell_type": "code",
   "execution_count": 15,
   "id": "f5505271",
   "metadata": {},
   "outputs": [
    {
     "data": {
      "text/plain": [
       "0.5154675930764797"
      ]
     },
     "execution_count": 15,
     "metadata": {},
     "output_type": "execute_result"
    }
   ],
   "source": [
    "# Creamos la fórmula para calcular el coeficiente\n",
    "def coeficiente_pearson(x,y):\n",
    "    coeficiente=np.cov(x,y)[0][1]/(math.sqrt(np.var(x, ddof=1)*np.var(y, ddof=1)))\n",
    "    return coeficiente\n",
    "coeficiente_pearson(x,y)"
   ]
  },
  {
   "cell_type": "markdown",
   "id": "47b8c8b2",
   "metadata": {},
   "source": [
    "### b. Varianza del Portafolio\n",
    "En este caso, se destina $w_x=0.2$ de la inversión en el activo $X$ y $w_y=0.8$ de la inversión en el activo $Y$. De modo que la varianza del portafolio se define como:\n",
    "   $$Varianza(Portafolio)=w^2_x Var_{(x)}+w^2_y Var_{(y)} +2 w_x w_y Cov_{(x,y)} $$"
   ]
  },
  {
   "cell_type": "code",
   "execution_count": 16,
   "id": "ffd87d87",
   "metadata": {},
   "outputs": [
    {
     "data": {
      "text/plain": [
       "1.0828523278464037"
      ]
     },
     "execution_count": 16,
     "metadata": {},
     "output_type": "execute_result"
    }
   ],
   "source": [
    "#Creamos la fórmula para calcular la varianza del portafolio\n",
    "#En este caso a=w_x y b=w_y\n",
    "def varianza(x,y,a,b):\n",
    "    varianza_p=a*a*np.var(x, ddof=1)+b*b*np.var(y, ddof=1)+2*a*b*np.cov(x,y)[0][1]\n",
    "    return varianza_p\n",
    "\n",
    "#Definimos los retornos y calculamos la varianza del portafolio\n",
    "w_x=0.2\n",
    "w_y=0.8\n",
    "varianza(x,y,w_x,w_y)"
   ]
  },
  {
   "cell_type": "markdown",
   "id": "054ae66c",
   "metadata": {},
   "source": [
    "También podemos unir ambas funciones en una sola, de modo que el resultado de la función sea lel coefineinte de correlación y la varianza del portafolio:"
   ]
  },
  {
   "cell_type": "code",
   "execution_count": 17,
   "id": "e334c1af",
   "metadata": {},
   "outputs": [
    {
     "data": {
      "text/plain": [
       "(0.5154675930764797, 1.0828523278464037)"
      ]
     },
     "execution_count": 17,
     "metadata": {},
     "output_type": "execute_result"
    }
   ],
   "source": [
    "def var_portafolio(x,y,a,b):\n",
    "    coeficiente=np.cov(x,y)[0][1]/(math.sqrt(np.var(x, ddof=1)*np.var(y, ddof=1)))\n",
    "    varianza_p=a*a*np.var(x, ddof=1)+b*b*np.var(y, ddof=1)+2*a*b*np.cov(x,y)[0][1]\n",
    "    \n",
    "    variacion=(coeficiente,varianza_p)\n",
    "    return variacion\n",
    "\n",
    "var_portafolio(x,y,w_x,w_y)"
   ]
  },
  {
   "cell_type": "markdown",
   "id": "059218ab",
   "metadata": {},
   "source": [
    "### 3.4. Keywords especiales\n",
    "En esta sección, construimos una función que permite una cantidad no  restringida de datos (\\*args) y que admite dos tipos de métodos que pueden aplicarse a la cantidad no restringida de datos (\\*\\*kargs). Estos métodos serán el reescalamiento realizado en la primera pregunta y la siguiente transformación (de acuerdo a la Inverse Hyperbolic Function):\n",
    "\n",
    "$$sinh^{-1}=log(x_i + (x^2_i + 1)^\\frac{1}{2})$$"
   ]
  },
  {
   "cell_type": "markdown",
   "id": "9119f74c",
   "metadata": {},
   "source": [
    "Definimos dos métodos para la función: reescalamiento y transformacion"
   ]
  },
  {
   "cell_type": "code",
   "execution_count": 18,
   "id": "bf9ec8a0",
   "metadata": {},
   "outputs": [],
   "source": [
    "#Definimos la función\n",
    "def f_resc_inv(*args, **kwargs):\n",
    "    if (kwargs['function']==\"reescalamiento\"):\n",
    "        #Insertamos la función utilizada en la primera sección\n",
    "        vector = np.array(list(args))\n",
    "        result=reescalamiento_0 = list(map( lambda x: (x - np.min(vector))/(np.max(vector)-np.min(vector)), vector) )\n",
    "    elif (kwargs['function']==\"transformacion\"):\n",
    "        x = np.array(list(args))\n",
    "        result=np.log(x+np.sqrt(np.square(x)+1))\n",
    "    else:\n",
    "        raise ValueError( f\"The function argument {kwargs[ 'function' ]} is not supported.\" )\n",
    "        \n",
    "    return result\n"
   ]
  },
  {
   "cell_type": "markdown",
   "id": "8ee38e50",
   "metadata": {},
   "source": [
    "A Continuación, probamos la función con tres casos distintos: aplicación del método de reescalamiento, aplicación del método de transformación, y una función que no corresponda a ningún key (en este caso, se espera un error)."
   ]
  },
  {
   "cell_type": "code",
   "execution_count": 19,
   "id": "084fda7e",
   "metadata": {},
   "outputs": [
    {
     "name": "stdout",
     "output_type": "stream",
     "text": [
      "[0.0, 0.42857142857142855, 0.7142857142857143, 1.0]\n"
     ]
    }
   ],
   "source": [
    "#1. Reescalamiento\n",
    "A=f_resc_inv(2,5,7,9, function=\"reescalamiento\")\n",
    "print(A)\n"
   ]
  },
  {
   "cell_type": "code",
   "execution_count": 20,
   "id": "38ee1314",
   "metadata": {},
   "outputs": [
    {
     "name": "stdout",
     "output_type": "stream",
     "text": [
      "[5.28829254 1.44363548 0.         4.89789549 4.73627539 4.2197239\n",
      " 2.64412076]\n"
     ]
    }
   ],
   "source": [
    "#2.Transformación\n",
    "B=f_resc_inv(99,2,0,67,57,34,7,function=\"transformacion\")\n",
    "print(B)\n"
   ]
  },
  {
   "cell_type": "code",
   "execution_count": 21,
   "id": "8ef9acfe",
   "metadata": {},
   "outputs": [
    {
     "ename": "ValueError",
     "evalue": "The function argument suma is not supported.",
     "output_type": "error",
     "traceback": [
      "\u001b[1;31m---------------------------------------------------------------------------\u001b[0m",
      "\u001b[1;31mValueError\u001b[0m                                Traceback (most recent call last)",
      "\u001b[1;32m~\\AppData\\Local\\Temp\\ipykernel_2996\\3596919521.py\u001b[0m in \u001b[0;36m<module>\u001b[1;34m\u001b[0m\n\u001b[0;32m      1\u001b[0m \u001b[1;31m#Error\u001b[0m\u001b[1;33m\u001b[0m\u001b[1;33m\u001b[0m\u001b[0m\n\u001b[1;32m----> 2\u001b[1;33m \u001b[0mC\u001b[0m\u001b[1;33m=\u001b[0m\u001b[0mf_resc_inv\u001b[0m\u001b[1;33m(\u001b[0m\u001b[1;36m1\u001b[0m\u001b[1;33m,\u001b[0m\u001b[1;36m9\u001b[0m\u001b[1;33m,\u001b[0m \u001b[0mfunction\u001b[0m\u001b[1;33m=\u001b[0m\u001b[1;34m\"suma\"\u001b[0m\u001b[1;33m)\u001b[0m\u001b[1;33m\u001b[0m\u001b[1;33m\u001b[0m\u001b[0m\n\u001b[0m\u001b[0;32m      3\u001b[0m \u001b[0mprint\u001b[0m\u001b[1;33m(\u001b[0m\u001b[0mC\u001b[0m\u001b[1;33m)\u001b[0m\u001b[1;33m\u001b[0m\u001b[1;33m\u001b[0m\u001b[0m\n",
      "\u001b[1;32m~\\AppData\\Local\\Temp\\ipykernel_2996\\1909627851.py\u001b[0m in \u001b[0;36mf_resc_inv\u001b[1;34m(*args, **kwargs)\u001b[0m\n\u001b[0;32m      9\u001b[0m         \u001b[0mresult\u001b[0m\u001b[1;33m=\u001b[0m\u001b[0mnp\u001b[0m\u001b[1;33m.\u001b[0m\u001b[0mlog\u001b[0m\u001b[1;33m(\u001b[0m\u001b[0mx\u001b[0m\u001b[1;33m+\u001b[0m\u001b[0mnp\u001b[0m\u001b[1;33m.\u001b[0m\u001b[0msqrt\u001b[0m\u001b[1;33m(\u001b[0m\u001b[0mnp\u001b[0m\u001b[1;33m.\u001b[0m\u001b[0msquare\u001b[0m\u001b[1;33m(\u001b[0m\u001b[0mx\u001b[0m\u001b[1;33m)\u001b[0m\u001b[1;33m+\u001b[0m\u001b[1;36m1\u001b[0m\u001b[1;33m)\u001b[0m\u001b[1;33m)\u001b[0m\u001b[1;33m\u001b[0m\u001b[1;33m\u001b[0m\u001b[0m\n\u001b[0;32m     10\u001b[0m     \u001b[1;32melse\u001b[0m\u001b[1;33m:\u001b[0m\u001b[1;33m\u001b[0m\u001b[1;33m\u001b[0m\u001b[0m\n\u001b[1;32m---> 11\u001b[1;33m         \u001b[1;32mraise\u001b[0m \u001b[0mValueError\u001b[0m\u001b[1;33m(\u001b[0m \u001b[1;34mf\"The function argument {kwargs[ 'function' ]} is not supported.\"\u001b[0m \u001b[1;33m)\u001b[0m\u001b[1;33m\u001b[0m\u001b[1;33m\u001b[0m\u001b[0m\n\u001b[0m\u001b[0;32m     12\u001b[0m \u001b[1;33m\u001b[0m\u001b[0m\n\u001b[0;32m     13\u001b[0m     \u001b[1;32mreturn\u001b[0m \u001b[0mresult\u001b[0m\u001b[1;33m\u001b[0m\u001b[1;33m\u001b[0m\u001b[0m\n",
      "\u001b[1;31mValueError\u001b[0m: The function argument suma is not supported."
     ]
    }
   ],
   "source": [
    "#Error\n",
    "C=f_resc_inv(1,9, function=\"suma\")\n",
    "print(C)"
   ]
  },
  {
   "cell_type": "code",
   "execution_count": null,
   "id": "b3694ef6",
   "metadata": {},
   "outputs": [],
   "source": []
  }
 ],
 "metadata": {
  "kernelspec": {
   "display_name": "Python 3 (ipykernel)",
   "language": "python",
   "name": "python3"
  },
  "language_info": {
   "codemirror_mode": {
    "name": "ipython",
    "version": 3
   },
   "file_extension": ".py",
   "mimetype": "text/x-python",
   "name": "python",
   "nbconvert_exporter": "python",
   "pygments_lexer": "ipython3",
   "version": "3.9.13"
  }
 },
 "nbformat": 4,
 "nbformat_minor": 5
}
