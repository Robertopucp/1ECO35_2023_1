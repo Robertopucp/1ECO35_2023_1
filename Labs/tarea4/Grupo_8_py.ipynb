{
 "cells": [
  {
   "cell_type": "markdown",
   "id": "ce659815",
   "metadata": {},
   "source": [
    "## Trabajo Grupal 4\n",
    "\n",
    "      Integrantes Grupo 8:\n",
    "    \n",
    "    - Renzo Mosquera (20181960)\n",
    "    - Yenner Huancahuire (20173340)\n",
    "    - Pamela Obregón (20173040)"
   ]
  },
  {
   "cell_type": "code",
   "execution_count": 2,
   "id": "7a6c10d0",
   "metadata": {},
   "outputs": [],
   "source": [
    "# Importamos librerias\n",
    "\n",
    "import pandas as pd\n",
    "import numpy as np\n",
    "import warnings\n",
    "\n",
    "import seaborn as sns\n",
    "import matplotlib.pyplot as plt \n",
    "from matplotlib.lines import Line2D\n",
    "\n",
    "warnings.filterwarnings('ignore') "
   ]
  },
  {
   "cell_type": "code",
   "execution_count": null,
   "id": "124f60f6",
   "metadata": {},
   "outputs": [],
   "source": []
  }
 ],
 "metadata": {
  "kernelspec": {
   "display_name": "Python 3 (ipykernel)",
   "language": "python",
   "name": "python3"
  },
  "language_info": {
   "codemirror_mode": {
    "name": "ipython",
    "version": 3
   },
   "file_extension": ".py",
   "mimetype": "text/x-python",
   "name": "python",
   "nbconvert_exporter": "python",
   "pygments_lexer": "ipython3",
   "version": "3.9.12"
  }
 },
 "nbformat": 4,
 "nbformat_minor": 5
}
