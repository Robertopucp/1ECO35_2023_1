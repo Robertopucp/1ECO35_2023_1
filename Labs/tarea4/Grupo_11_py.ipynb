{
 "cells": [
  {
   "cell_type": "markdown",
   "id": "8a1fc3b2",
   "metadata": {},
   "source": [
    "## Integrantes:"
   ]
  },
  {
   "cell_type": "markdown",
   "id": "e2cd8037",
   "metadata": {},
   "source": [
    "- Kevin Pareja (20196318)\n",
    "\n",
    "- Elian Tongombol (20196453)\n",
    "\n",
    "- Paola Aranda (20196052)\n",
    "\n",
    "- María Alejandra Colán (20190515)"
   ]
  },
  {
   "cell_type": "markdown",
   "id": "f82ac2f7",
   "metadata": {},
   "source": [
    "### 1. Datos de la Comisión de la Verdad y Reconciliación"
   ]
  },
  {
   "cell_type": "code",
   "execution_count": null,
   "id": "5526fbdd",
   "metadata": {},
   "outputs": [],
   "source": []
  }
 ],
 "metadata": {
  "kernelspec": {
   "display_name": "Python 3 (ipykernel)",
   "language": "python",
   "name": "python3"
  },
  "language_info": {
   "codemirror_mode": {
    "name": "ipython",
    "version": 3
   },
   "file_extension": ".py",
   "mimetype": "text/x-python",
   "name": "python",
   "nbconvert_exporter": "python",
   "pygments_lexer": "ipython3",
   "version": "3.10.9"
  }
 },
 "nbformat": 4,
 "nbformat_minor": 5
}
