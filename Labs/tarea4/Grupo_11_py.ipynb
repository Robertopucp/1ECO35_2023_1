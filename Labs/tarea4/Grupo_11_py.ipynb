{
 "cells": [
  {
   "cell_type": "markdown",
   "id": "00d24439",
   "metadata": {},
   "source": [
    "## Integrantes:"
   ]
  },
  {
   "cell_type": "markdown",
   "id": "6506ab5c",
   "metadata": {},
   "source": [
    "- Kevin Pareja (20196318)\n",
    "\n",
    "- Elian Tongombol (20196453)\n",
    "\n",
    "- Paola Aranda (20196052)\n",
    "\n",
    "- María Alejandra Colán (20190515)"
   ]
  },
  {
   "cell_type": "code",
   "execution_count": 1,
   "id": "fbaf3009",
   "metadata": {},
   "outputs": [],
   "source": [
    "import pandas as pd\n",
    "import numpy as np\n",
    "import warnings\n",
    "\n",
    "import seaborn as sns\n",
    "import matplotlib.pyplot as plt \n",
    "from matplotlib.lines import Line2D\n",
    "\n",
    "warnings.filterwarnings('ignore')"
   ]
  },
  {
   "cell_type": "markdown",
   "id": "386a0010",
   "metadata": {},
   "source": [
    "### 1. Datos de la Comisión de la Verdad y Reconciliación"
   ]
  },
  {
   "cell_type": "markdown",
   "id": "5cb4b743",
   "metadata": {},
   "source": [
    "#### Mostrar las etiquetas de valor y las etiquetas de las variables"
   ]
  },
  {
   "cell_type": "markdown",
   "id": "ff241b88",
   "metadata": {},
   "source": [
    "#### Filtrar la base de datos según los siguientes tipos de eventos: desaparición, secuestros, reclutamiento forzado y muertes en atentados.\n"
   ]
  },
  {
   "cell_type": "markdown",
   "id": "ad791545",
   "metadata": {},
   "source": [
    "#### Borrar los duplicados de la columna (IDACTO)"
   ]
  },
  {
   "cell_type": "markdown",
   "id": "69bcfe88",
   "metadata": {},
   "source": [
    "#### Crear una base de datos con el total de eventos de violencia según su tipo a nivel departamento (DEPNAO)."
   ]
  },
  {
   "cell_type": "markdown",
   "id": "c8e35693",
   "metadata": {},
   "source": [
    "#### Crear una base de datos con el total de eventos de violencia según su tipo a nivel distrito (UBIDIST)."
   ]
  },
  {
   "cell_type": "markdown",
   "id": "7c8649a8",
   "metadata": {},
   "source": [
    "#### Crear una base de datos con el total de eventos de violencia según su tipo a nivel departamento (DEPNAO) y periodo (PERIODO)."
   ]
  }
 ],
 "metadata": {
  "kernelspec": {
   "display_name": "Python 3 (ipykernel)",
   "language": "python",
   "name": "python3"
  },
  "language_info": {
   "codemirror_mode": {
    "name": "ipython",
    "version": 3
   },
   "file_extension": ".py",
   "mimetype": "text/x-python",
   "name": "python",
   "nbconvert_exporter": "python",
   "pygments_lexer": "ipython3",
   "version": "3.10.9"
  }
 },
 "nbformat": 4,
 "nbformat_minor": 5
}
