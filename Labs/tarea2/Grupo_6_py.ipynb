{
 "cells": [
  {
   "cell_type": "code",
   "execution_count": 1,
   "id": "71abf3df",
   "metadata": {},
   "outputs": [
    {
     "name": "stdout",
     "output_type": "stream",
     "text": [
      "Monto de compra: S/.315\n",
      "Tipo de pago: Tarjeta de Crédito\n",
      "Valor del descuento: S/.31.5\n",
      "Valor total con descuento: S/.283.5\n"
     ]
    }
   ],
   "source": [
    "###CONDICIONALES###\n",
    "#1.\n",
    "compra = 315  # monto de la compra\n",
    "descuento=0; #descuebto inicial en cero\n",
    "#generamos la condicional:\n",
    "if compra <= 100:\n",
    "    tipo_pago = \"Efectivo\"\n",
    "elif compra > 100 and compra < 300:\n",
    "    tipo_pago = \"Tarjeta de Débito\"\n",
    "else:\n",
    "    tipo_pago = \"Tarjeta de Crédito\"\n",
    "    descuento = 0.1  # aplicar descuento del 10% si compra > 300\n",
    "\n",
    "valor_descuento = compra * descuento\n",
    "valor_total = compra - valor_descuento\n",
    "\n",
    "print(\"Monto de compra: S/.\" + str(compra))\n",
    "print(\"Tipo de pago: \" + tipo_pago)\n",
    "print(\"Valor del descuento: S/.\" + str(valor_descuento))\n",
    "print(\"Valor total con descuento: S/.\" + str(valor_total))"
   ]
  },
  {
   "cell_type": "code",
   "execution_count": 2,
   "id": "77ba19b1",
   "metadata": {},
   "outputs": [
    {
     "name": "stdout",
     "output_type": "stream",
     "text": [
      "8.0\n"
     ]
    }
   ],
   "source": [
    "###CONDICIONALES###\n",
    "#2.\n",
    "numero = 64\n",
    "##luego utilizamos una serie de sentencias condicionales para modificar el valor \n",
    "##de la variable \"numero\" basándose en algunos criterios.\n",
    "\n",
    "if 0<=numero <= 100:\n",
    "    numero = numero ** (1/2) #comprueba si la variable es mayor o igual que 0 y menor o igual que 100. Si cumple esta condición, toma la raíz de la variable\n",
    "elif 100< numero <= 300: #comprueba si la variable es mayor que 100 y menor o igual que 300. Si satisface esta condición, resta 5 a la variable\n",
    "    numero= numero - 5\n",
    "else: \n",
    "    numero = 50 #ejecuta si no se cumple ninguna de las condiciones anteriores, y establece el valor de \"numero\" en 50.\n",
    "    \n",
    "print (numero)#Finalmente, el valor de número se imprime en la consola utilizando la sentencia print."
   ]
  },
  {
   "cell_type": "code",
   "execution_count": 3,
   "id": "0c34423b",
   "metadata": {},
   "outputs": [
    {
     "name": "stdout",
     "output_type": "stream",
     "text": [
      "La utilidad neta anual es 100 millones.\n",
      "La utilidad neta anual es 152 millones.\n",
      "La utilidad neta anual es 8 millones.\n",
      "La utilidad neta anual es 12 millones.\n",
      "La utilidad neta anual es 156 millones.\n",
      "La utilidad neta anual es 35 millones.\n",
      "La utilidad neta anual es 100 millones.\n",
      "La utilidad neta anual es 30 millones.\n"
     ]
    }
   ],
   "source": [
    "###LOOPS###\n",
    "#3.\n",
    "utilidades = (100, 152, -1, 8, 12, 156, 35, -10, 100, -0.5, 30, 1050, 7 , -10)\n",
    "\n",
    "##se utiliza un bucle for para iterar sobre cada uno de los valores en la tupla. Dentro del bucle, se utilizan las declaraciones \n",
    "##if, elif y else para determinar si el valor actual es negativo, mayor que 1000, o se encuentra dentro de un rango válido.\n",
    "\n",
    "for utilidad in utilidades:\n",
    "\n",
    "    if utilidad < 0: #Si el valor es negativo, se salta a la siguiente iteración utilizando la declaración continue.\n",
    "        continue\n",
    "    elif utilidad > 1000: # Si el valor es mayor que 1000, se detiene el bucle completo utilizando la declaración break.\n",
    "        break  \n",
    "    else:\n",
    "        print(f\"La utilidad neta anual es {utilidad} millones.\")"
   ]
  },
  {
   "cell_type": "code",
   "execution_count": null,
   "id": "ae891bd1",
   "metadata": {},
   "outputs": [],
   "source": []
  },
  {
   "cell_type": "code",
   "execution_count": null,
   "id": "951e45ad",
   "metadata": {},
   "outputs": [],
   "source": []
  }
 ],
 "metadata": {
  "kernelspec": {
   "display_name": "Python 3 (ipykernel)",
   "language": "python",
   "name": "python3"
  },
  "language_info": {
   "codemirror_mode": {
    "name": "ipython",
    "version": 3
   },
   "file_extension": ".py",
   "mimetype": "text/x-python",
   "name": "python",
   "nbconvert_exporter": "python",
   "pygments_lexer": "ipython3",
   "version": "3.9.12"
  }
 },
 "nbformat": 4,
 "nbformat_minor": 5
}
