{
 "cells": [
  {
   "cell_type": "markdown",
   "id": "dc7a033d",
   "metadata": {},
   "source": [
    "# Grupo 1 - Workgroup 2\n",
    "En este script realizamos los ejercicios de uso de condicionales y loops."
   ]
  },
  {
   "cell_type": "markdown",
   "id": "d9da2e89",
   "metadata": {},
   "source": [
    "## 1. Condicionales\n",
    "\n",
    "#### Ejercicio 1: valor de compra y tipo de pago\n",
    "\n",
    "Usamos condicionales para imprimir el valor y el tipo de pago.\n",
    "Se tienen tres tipos de pago: efectivo, tarjeta de crédito y tarjeta de débito. En cada caso, el tipo de pago dependerá del monto de la compra ($X$), tal que:\n",
    "\n",
    "* Si $X \\leqslant 100$, paga en efectivo.\n",
    "* Si $100 <X \\leqslant 400$, paga con tarjeta de débito.\n",
    "* Si $400 <X $ , paga con tarjeta de crédito.\n",
    "\n",
    "Además, si la compra es mayor a $300$ soles, se realiza un descuento de $10 \\%$"
   ]
  },
  {
   "cell_type": "code",
   "execution_count": 8,
   "id": "06732dca",
   "metadata": {},
   "outputs": [
    {
     "name": "stdout",
     "output_type": "stream",
     "text": [
      "Compra de 350 soles con descuento de 10%. Total a pagar 315.0 soles y pago con tarjeta de débito\n"
     ]
    }
   ],
   "source": [
    "# Definimos X\n",
    "x=350\n",
    "\n",
    "#Definimos el descuento de 10%\n",
    "y=0.9*x\n",
    "\n",
    "# Realizamos el condicional\n",
    "if x <= 100:\n",
    "    print(f'Compra de {x} soles y pago en efectivo')\n",
    "elif x<= 300:\n",
    "    print(f'Compra de {x} soles y pago con tarjeta de débito')\n",
    "elif x<= 400:\n",
    "    print(f'Compra de {x} soles con descuento de 10%. Total a pagar {y} soles y pago con tarjeta de débito')\n",
    "elif 400<x:\n",
    "    print(f'Compra de {x} soles con descuento de 10%. Total a pagar {y} soles y pago con tarjeta de crédito')"
   ]
  },
  {
   "cell_type": "markdown",
   "id": "0d2b7f1b",
   "metadata": {},
   "source": [
    "#### Ejercicio 2: función\n",
    "En esta sección replicamos la siguiente función utilizando condicionales:\n",
    "\n",
    "$$ F(X) = x^{1/2} \\text{ si } x \\in [0,100[ $$\n",
    "$$ F(X) = x-5 \\text{ si } x \\in [100,300[ $$\n",
    "$$ F(X) = 50 \\text{ si } x \\in [300,\\infty[ $$"
   ]
  },
  {
   "cell_type": "code",
   "execution_count": 23,
   "id": "407b902f",
   "metadata": {},
   "outputs": [
    {
     "name": "stdout",
     "output_type": "stream",
     "text": [
      "F(X)=115\n"
     ]
    }
   ],
   "source": [
    "#Primero importamos la librería necesaria\n",
    "import math\n",
    "\n",
    "#Definimos X\n",
    "x_2=120\n",
    "\n",
    "#Definimos f(x)\n",
    "y_2=0\n",
    "\n",
    "#Realizamos el condicional\n",
    "if x_2 < 100:\n",
    "   y_2 =math.sqrt(x_2) \n",
    "elif x_2 < 300:\n",
    "    y_2 =x_2-5\n",
    "elif x_2 >= 300:\n",
    "    y_2=50\n",
    "\n",
    "#Imprimimos el resultado\n",
    "print(f'F(X)={y_2}')"
   ]
  },
  {
   "cell_type": "markdown",
   "id": "6fa12b7e",
   "metadata": {},
   "source": [
    "## 2. Loop\n",
    "Imprimimos la utilidades netas anuales de varias empresas, medidas en millones con las siguientes condiciones:\n",
    "* Si la utilidad es negativa, se omite el mensaje.\n",
    "* Si la utilidad supera los 1000 millones, se interrumpe el loop."
   ]
  },
  {
   "cell_type": "code",
   "execution_count": 32,
   "id": "3ef9ef7e",
   "metadata": {},
   "outputs": [
    {
     "name": "stdout",
     "output_type": "stream",
     "text": [
      "la utilidad neta es anual es 100 millones\n",
      "la utilidad neta es anual es 152 millones\n",
      "la utilidad neta es anual es 8 millones\n",
      "la utilidad neta es anual es 12 millones\n",
      "la utilidad neta es anual es 156 millones\n",
      "la utilidad neta es anual es 35 millones\n",
      "la utilidad neta es anual es 100 millones\n",
      "la utilidad neta es anual es 30 millones\n",
      "¡Utilidad superior a los 1000 millones, loop interrumpido!\n"
     ]
    }
   ],
   "source": [
    "#Definimos las utilidades netas\n",
    "u=[100,152,-1 , 8, 12, 156,35, -10, 100, -0.5, 30, 1050 , 7, -10]\n",
    "\n",
    "#Definimos el loop con las condiciones indicadas\n",
    "for i in range(len(u)):\n",
    "    if u[i]<0:\n",
    "        pass\n",
    "    else:\n",
    "        if u[i]>1000:\n",
    "            print(\"¡Utilidad superior a los 1000 millones, loop interrumpido!\")\n",
    "            break\n",
    "        else:\n",
    "            print(f'La utilidad neta anual es {u[i]} millones')"
   ]
  }
 ],
 "metadata": {
  "kernelspec": {
   "display_name": "Python 3 (ipykernel)",
   "language": "python",
   "name": "python3"
  },
  "language_info": {
   "codemirror_mode": {
    "name": "ipython",
    "version": 3
   },
   "file_extension": ".py",
   "mimetype": "text/x-python",
   "name": "python",
   "nbconvert_exporter": "python",
   "pygments_lexer": "ipython3",
   "version": "3.9.13"
  }
 },
 "nbformat": 4,
 "nbformat_minor": 5
}
