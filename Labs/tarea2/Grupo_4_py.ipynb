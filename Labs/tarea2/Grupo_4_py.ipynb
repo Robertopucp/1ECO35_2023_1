{
 "cells": [
  {
   "cell_type": "markdown",
   "id": "7319c789",
   "metadata": {},
   "source": [
    "## Tarea 2 - Python\n",
    "\n",
    "### Integrantes: Lisbeth Ccoyo Ortiz, Steven Rolando Atoche y Mishell Delgado "
   ]
  },
  {
   "cell_type": "code",
   "execution_count": null,
   "id": "5445244e",
   "metadata": {},
   "outputs": [],
   "source": [
    "import random\n",
    "import numpy as np\n",
    "import math\n",
    "import pandas as pd  # cargamos pandas (modulo que nos permitirá manipular bases de datos)\n",
    "from tqdm import tqdm"
   ]
  },
  {
   "cell_type": "code",
   "execution_count": null,
   "id": "9d44e73f",
   "metadata": {},
   "outputs": [],
   "source": [
    "## 1.\n",
    "\n",
    "# Ingresamos el monto de la compra\n",
    "m = float(input(\"Ingrese el monto de la compra: \"))   \n",
    "\n",
    "# Generamos el condicional que imprima el valor de la compra y el tipo de pago\n",
    "if  m <= 100 :\n",
    "    print(f\"Compra de {m} soles\", \"y pago en efectivo\")  # si la compra es menor a 100 soles\n",
    "\n",
    "elif 100 < m <= 300 :\n",
    "    print(f\"Compra de {m} soles\", \"y pago con tarjeta de débito\")  # si la compra es mayor a 100 y menor a 300\n",
    "\n",
    "else: \n",
    "    m= m*0.9\n",
    "    print(\"El monto de la compra con descuento es: S/.\", m)  # si la compra es mayor a 300 hay dscto.\n",
    "    print(f\"Compra de {m} soles\", \"y pago con tarjeta de crédito\") \n",
    "    "
   ]
  },
  {
   "cell_type": "code",
   "execution_count": null,
   "id": "16a1a6d4",
   "metadata": {},
   "outputs": [],
   "source": [
    "## 2. \n",
    "\n",
    "## pedimos al usuario que escriba un valor para x\n",
    "x = float(input(\"Ingrese un valor para x: \"))\n",
    "\n",
    "## generamos la estructura condicional con las funciones propuestas\n",
    "if x >= 0 and x <= 100:\n",
    "    resultado = x ** 0.5\n",
    "elif x > 100 and x <= 300:\n",
    "    resultado = x - 5\n",
    "else:\n",
    "    resultado = 50\n",
    "\n",
    "# imprimimos el resultado de las funciones\n",
    "print(\"El resultado de F(x) es:\", resultado)"
   ]
  },
  {
   "cell_type": "code",
   "execution_count": null,
   "id": "c947166c",
   "metadata": {},
   "outputs": [],
   "source": [
    "## 3. \n",
    "\n",
    "## generamos el vector de utilidades netas actuales\n",
    "utilidades_na = [100, 152, -1 , 8, 12, 156,35, -10, 100, -0.5, 30, 1050 , 7, -10]\n",
    "\n",
    "## generamos el loop que cumpla las siguientes condiciones:\n",
    "\n",
    "for utilidad in utilidades_na:\n",
    "    if   utilidad < 0:             ## no imprimir utilidades negativas\n",
    "        continue\n",
    "    elif utilidad > 1000:          ## no imprimir utilidades mayores de 1000\n",
    "        break\n",
    "    print(\"La utilidad neta anual es\", utilidad, \"millones\" )\n"
   ]
  },
  {
   "cell_type": "code",
   "execution_count": null,
   "id": "62138f2e",
   "metadata": {},
   "outputs": [],
   "source": []
  }
 ],
 "metadata": {
  "kernelspec": {
   "display_name": "Python 3 (ipykernel)",
   "language": "python",
   "name": "python3"
  },
  "language_info": {
   "codemirror_mode": {
    "name": "ipython",
    "version": 3
   },
   "file_extension": ".py",
   "mimetype": "text/x-python",
   "name": "python",
   "nbconvert_exporter": "python",
   "pygments_lexer": "ipython3",
   "version": "3.10.9"
  }
 },
 "nbformat": 4,
 "nbformat_minor": 5
}
