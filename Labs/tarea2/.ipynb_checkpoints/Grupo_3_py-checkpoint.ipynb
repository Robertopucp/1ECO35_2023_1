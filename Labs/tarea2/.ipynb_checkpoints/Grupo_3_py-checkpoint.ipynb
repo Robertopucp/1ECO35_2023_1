{
 "cells": [
  {
   "cell_type": "markdown",
   "id": "b9cdefdb",
   "metadata": {},
   "source": [
    "# Script en R y python\n",
    "\n",
    "Pregunta 1 , 2 y 3"
   ]
  },
  {
   "cell_type": "code",
   "execution_count": 39,
   "id": "13f29e91",
   "metadata": {},
   "outputs": [],
   "source": [
    "import random\n",
    "import numpy as np\n",
    "import math \n",
    "#se importaron bases de datos"
   ]
  },
  {
   "cell_type": "code",
   "execution_count": 13,
   "id": "0656007d",
   "metadata": {},
   "outputs": [
    {
     "name": "stdout",
     "output_type": "stream",
     "text": [
      "Compra de 150 soles y pago con tarjeta de débito\n"
     ]
    }
   ],
   "source": [
    "#PREGUNTA 1:\n",
    "num = 150        \n",
    "#se tomó como valor el número de 150 \n",
    "\n",
    "if num <= 100:      \n",
    "    pago = \"pago en efectivo\"\n",
    "    precio = num\n",
    "#se asumió un primer escenario si el número es menor a 100 entonces que saliera el monto \n",
    "#y que el pago es en efectivo\n",
    "#recordar que en python se colocan los : en vez de los corchetes\n",
    "\n",
    "elif num > 100 and num < 300:\n",
    "    pago = \"pago con tarjeta de débito\"\n",
    "    precio = num\n",
    "#se asumió un segundo escenario si el número está entre 100 y 300 entonces que saliera el monto \n",
    "#y que el pago es con tarjeta de débito\n",
    "#recordar que en Python elseif se escribe elif\n",
    "\n",
    "else:\n",
    "    pago = \"pago con tarjeta de crédito\"\n",
    "    precio = num * 0.9\n",
    "#se asumió un último escenario si no se cumplen las anteriores condiciones entonces que saliera un descuento del 10% del número\n",
    "#y que el pago es con tarjeta de crédito\n",
    "\n",
    "print(\"Compra de\", precio, \"soles y\", pago)\n",
    "#pedimos que al resultado en el monto resultante del número se le adicione al inicio \"compra de\" y se le posponga \"soles y\"\n",
    "#asimismo pedimos el pago "
   ]
  },
  {
   "cell_type": "code",
   "execution_count": 35,
   "id": "39b02988",
   "metadata": {
    "scrolled": true
   },
   "outputs": [
    {
     "name": "stdout",
     "output_type": "stream",
     "text": [
      "El resultado para x = 200 es 195 \n",
      "\n"
     ]
    }
   ],
   "source": [
    "##PREGUNTA 2\n",
    "\n",
    "def F(x):\n",
    "    if x <= 100:     #se usó funciones condicionales\n",
    "        resultado = x ** 0.5\n",
    "    elif x <= 300:\n",
    "        resultado = x - 5\n",
    "    else:\n",
    "        resultado = 50\n",
    "    print(\"El resultado para x =\", x, \"es\", resultado, \"\\n\") #especificamos el texto que acompañará al resultado\n",
    "\n",
    "    F(200)  #probamos con un valor aleatorio como el 200"
   ]
  },
  {
   "cell_type": "code",
   "execution_count": 1,
   "id": "c5db000c",
   "metadata": {},
   "outputs": [
    {
     "name": "stdout",
     "output_type": "stream",
     "text": [
      "La utilidad neta anual es 100\n",
      "La utilidad neta anual es 152\n",
      "La utilidad neta anual es 8\n",
      "La utilidad neta anual es 12\n",
      "La utilidad neta anual es 156\n",
      "La utilidad neta anual es 35\n",
      "La utilidad neta anual es 100\n",
      "La utilidad neta anual es 30\n",
      "La utilidad neta anual es 1050\n",
      "¡La empresa ha superado los 1000 millones de utilidad!\n",
      "La utilidad neta anual es 7\n"
     ]
    }
   ],
   "source": [
    "## PREGUNTA3 - LOOPS\n",
    "utilidades = [100, 152, -1, 8, 12, 156, 35, -10, 100, -0.5, 30, 1050, 7, -10]   # se coloca en una lista los valores que tomará la utilidad\n",
    "\n",
    "for utilidad in utilidades:\n",
    "    if utilidad < 0:      \n",
    "        continue\n",
    "    print(\"La utilidad neta anual es\", utilidad)\n",
    "    if utilidad > 1000:                       #se detendrá si el valor de la utilidad supera los 100millones\n",
    "        print(\"¡La empresa ha superado los 1000 millones de utilidad!\")\n"
   ]
  }
 ],
 "metadata": {
  "kernelspec": {
   "display_name": "Python 3 (ipykernel)",
   "language": "python",
   "name": "python3"
  },
  "language_info": {
   "codemirror_mode": {
    "name": "ipython",
    "version": 3
   },
   "file_extension": ".py",
   "mimetype": "text/x-python",
   "name": "python",
   "nbconvert_exporter": "python",
   "pygments_lexer": "ipython3",
   "version": "3.10.9"
  }
 },
 "nbformat": 4,
 "nbformat_minor": 5
}
