{
 "cells": [
  {
   "cell_type": "markdown",
   "id": "b9cdefdb",
   "metadata": {},
   "source": [
    "# Script en R y python\n",
    "Condicionales\n",
    "PREGUNTA 1: Use un condicional que imprima el valor de la compra y el tipo de pago. Asuma tres tipos de pagos: pago en efectivo, pago con tarjeta de crédito y pago con tarjeta de débito. El tipo de pago depende del monto de la compra. Si gasta hasta S/.100, se paga con dinero en efectivo. Por otro lado, si gasta más de S/.100 pero menos de S/.300, se paga con tarjeta de débito. Si no, pago con tarjeta de crédito. Además, si la compra es mayor a 300 soles, se hace un descuento de 10%.\n",
    "\n",
    "PREGUNTA 2: Elaborar una estructura condicional que replique la siguiente función.\n",
    "F(X) = x^{1/2} \\ \\ si  \\ \\ x \\in [0,100]\n",
    "F(X) = x - 5 \\ \\ si  \\ \\ x \\in [100,300]\n",
    "F(X) = 50 \\ \\ si  \\ \\ x \\in [300; [\n"
   ]
  },
  {
   "cell_type": "code",
   "execution_count": 39,
   "id": "13f29e91",
   "metadata": {},
   "outputs": [],
   "source": [
    "import random\n",
    "import numpy as np\n",
    "import math \n",
    "#se importaron bases de datos"
   ]
  },
  {
   "cell_type": "code",
   "execution_count": 13,
   "id": "0656007d",
   "metadata": {},
   "outputs": [
    {
     "name": "stdout",
     "output_type": "stream",
     "text": [
      "Compra de 150 soles y pago con tarjeta de débito\n"
     ]
    }
   ],
   "source": [
    "#PREGUNTA 1:\n",
    "num = 150        \n",
    "#se tomó como valor el número de 150 \n",
    "\n",
    "if num <= 100:      \n",
    "    pago = \"pago en efectivo\"\n",
    "    precio = num\n",
    "#se asumió un primer escenario si el número es menor a 100 entonces que saliera el monto \n",
    "#y que el pago es en efectivo\n",
    "#recordar que en python se colocan los : en vez de los corchetes\n",
    "\n",
    "elif num > 100 and num < 300:\n",
    "    pago = \"pago con tarjeta de débito\"\n",
    "    precio = num\n",
    "#se asumió un segundo escenario si el número está entre 100 y 300 entonces que saliera el monto \n",
    "#y que el pago es con tarjeta de débito\n",
    "#recordar que en Python elseif se escribe elif\n",
    "\n",
    "else:\n",
    "    pago = \"pago con tarjeta de crédito\"\n",
    "    precio = num * 0.9\n",
    "#se asumió un último escenario si no se cumplen las anteriores condiciones entonces que saliera un descuento del 10% del número\n",
    "#y que el pago es con tarjeta de crédito\n",
    "\n",
    "print(\"Compra de\", precio, \"soles y\", pago)\n",
    "#pedimos que al resultado en el monto resultante del número se le adicione al inicio \"compra de\" y se le posponga \"soles y\"\n",
    "#asimismo pedimos el pago "
   ]
  },
  {
   "cell_type": "code",
   "execution_count": 35,
   "id": "39b02988",
   "metadata": {},
   "outputs": [
    {
     "name": "stdout",
     "output_type": "stream",
     "text": [
      "El resultado para x = 200 es 195 \n",
      "\n"
     ]
    }
   ],
   "source": [
    "##PREGUNTA 2\n",
    "\n",
    "def F(x):\n",
    "    if x <= 100:\n",
    "        resultado = x ** 0.5\n",
    "    elif x <= 300:\n",
    "        resultado = x - 5\n",
    "    else:\n",
    "        resultado = 50\n",
    "    print(\"El resultado para x =\", x, \"es\", resultado, \"\\n\")\n",
    "F(200)"
   ]
  }
 ],
 "metadata": {
  "kernelspec": {
   "display_name": "Python 3 (ipykernel)",
   "language": "python",
   "name": "python3"
  },
  "language_info": {
   "codemirror_mode": {
    "name": "ipython",
    "version": 3
   },
   "file_extension": ".py",
   "mimetype": "text/x-python",
   "name": "python",
   "nbconvert_exporter": "python",
   "pygments_lexer": "ipython3",
   "version": "3.10.9"
  }
 },
 "nbformat": 4,
 "nbformat_minor": 5
}
