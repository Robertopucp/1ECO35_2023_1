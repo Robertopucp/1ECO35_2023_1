{
 "cells": [
  {
   "cell_type": "code",
   "execution_count": null,
   "id": "52932073",
   "metadata": {},
   "outputs": [],
   "source": [
    "#TAREA 2\n",
    "#CONDICIONALES\n"
   ]
  },
  {
   "cell_type": "code",
   "execution_count": 22,
   "id": "2aec0bb8",
   "metadata": {},
   "outputs": [
    {
     "ename": "SyntaxError",
     "evalue": "invalid syntax. Perhaps you forgot a comma? (2070869750.py, line 5)",
     "output_type": "error",
     "traceback": [
      "\u001b[1;36m  Cell \u001b[1;32mIn[22], line 5\u001b[1;36m\u001b[0m\n\u001b[1;33m    pago <- \"pago en efectivo\"\u001b[0m\n\u001b[1;37m    ^\u001b[0m\n\u001b[1;31mSyntaxError\u001b[0m\u001b[1;31m:\u001b[0m invalid syntax. Perhaps you forgot a comma?\n"
     ]
    }
   ],
   "source": [
    "#PREGUNTA 1\n",
    "\n",
    "num <- 150 \n",
    "if(num <= 100){\n",
    "  pago <- \"pago en efectivo\"\n",
    "  precio<-num\n",
    "#Hemos establecido la  condición \"if\" si el  numero es menor igual a 100\n",
    "#si esto se corrobora el pago se hará en efectivo\n",
    "\n",
    "} else if (num > 100 & num < 300){\n",
    "  pago<-\"pago con tarjeta de débito\"\n",
    "  precio<-num\n",
    "#Hemos establecido la  condición \"if\" si el  numero esta entre 100 y 300\n",
    "#si esto se corrobora el pago se hará con tarjeta de debito\n",
    "\n",
    "} else {\n",
    "  pago<-\"pago con tarjeta de crédito\"\n",
    "  precio<-num * 0.9\n",
    "}\n",
    "\n",
    "# Si no se cumple ninguna condicion anterior se usamos else, si esto se corrobora se aplicara un descuento del 10% y se pagara con con tarjeta de credito\n",
    "\n",
    "cat(\"Compra de\", precio, \"soles y\", pago, \"\\n\")\n"
   ]
  },
  {
   "cell_type": "code",
   "execution_count": 20,
   "id": "3849bead",
   "metadata": {},
   "outputs": [
    {
     "ename": "NameError",
     "evalue": "name 'x' is not defined",
     "output_type": "error",
     "traceback": [
      "\u001b[1;31m---------------------------------------------------------------------------\u001b[0m",
      "\u001b[1;31mNameError\u001b[0m                                 Traceback (most recent call last)",
      "Cell \u001b[1;32mIn[20], line 4\u001b[0m\n\u001b[0;32m      1\u001b[0m \u001b[38;5;66;03m#PREGUNTA 2\u001b[39;00m\n\u001b[0;32m      2\u001b[0m \u001b[38;5;66;03m# Primero usamos un short ifelse donde se asume un valor de 200\u001b[39;00m\n\u001b[1;32m----> 4\u001b[0m \u001b[43mx\u001b[49m \u001b[38;5;241m<\u001b[39m\u001b[38;5;241m-\u001b[39m \u001b[38;5;241m200\u001b[39m\n\u001b[0;32m      5\u001b[0m F \u001b[38;5;241m<\u001b[39m\u001b[38;5;241m-\u001b[39m ifelse(x \u001b[38;5;241m<\u001b[39m\u001b[38;5;241m=\u001b[39m \u001b[38;5;241m100\u001b[39m, sqrt(x), ifelse(x \u001b[38;5;241m<\u001b[39m\u001b[38;5;241m=\u001b[39m \u001b[38;5;241m300\u001b[39m, x \u001b[38;5;241m-\u001b[39m \u001b[38;5;241m5\u001b[39m, \u001b[38;5;241m50\u001b[39m))\n\u001b[0;32m      6\u001b[0m \u001b[38;5;28mprint\u001b[39m(paste(\u001b[38;5;124m\"\u001b[39m\u001b[38;5;124mEl resultado para x =\u001b[39m\u001b[38;5;124m\"\u001b[39m, x, \u001b[38;5;124m\"\u001b[39m\u001b[38;5;124mes\u001b[39m\u001b[38;5;124m\"\u001b[39m, F))\n",
      "\u001b[1;31mNameError\u001b[0m: name 'x' is not defined"
     ]
    }
   ],
   "source": [
    "#PREGUNTA 2\n",
    "# Primero usamos un short ifelse donde se asume un valor de 200\n",
    "\n",
    "x <- 200\n",
    "F <- ifelse(x <= 100, sqrt(x), ifelse(x <= 300, x - 5, 50))\n",
    "print(paste(\"El resultado para x =\", x, \"es\", F))\n",
    "\n",
    "\n",
    "#Usamos ifelse ya que nos permite hacer varias condicionales\n",
    "\n",
    "#Usamos un  primer menor igual a 100 que nos da  \"sqrt\". \n",
    "#Si esta entre 100 y 300 le resta 5 y si no se cumple ninguno de los anteiores nos da 50\n",
    "\n",
    "# Cat nos va a imprimir los valores"
   ]
  },
  {
   "cell_type": "code",
   "execution_count": 30,
   "id": "c6b56e9d",
   "metadata": {},
   "outputs": [
    {
     "name": "stdout",
     "output_type": "stream",
     "text": [
      "La utilidad neta anual es 100 millones.\n",
      "La utilidad neta anual es 152 millones.\n",
      "La utilidad neta anual es 8 millones.\n",
      "La utilidad neta anual es 12 millones.\n",
      "La utilidad neta anual es 156 millones.\n",
      "La utilidad neta anual es 35 millones.\n",
      "La utilidad neta anual es 100 millones.\n",
      "La utilidad neta anual es 30 millones.\n"
     ]
    }
   ],
   "source": [
    "#PREGUNTA 3:loops\n",
    "utilidades_netas_anuales_empresas = [100, 152, -1, 8, 12, 156, 35, -10, 100, -0.5, 30, 1050, 7, -10]\n",
    "\n",
    "for utilidad_neta in utilidades_netas_anuales_empresas:\n",
    "    if utilidad_neta < 0:\n",
    "        continue  # Si la utilidad resulta negativa se usa continue para no considerarla\n",
    "    elif utilidad_neta > 1000:\n",
    "        break  # Si la utilidad neta es mayor a 1000 millones, el loop se rompe\n",
    "    print(f\"La utilidad neta anual es {utilidad_neta} millones.\")"
   ]
  }
 ],
 "metadata": {
  "kernelspec": {
   "display_name": "Python 3 (ipykernel)",
   "language": "python",
   "name": "python3"
  },
  "language_info": {
   "codemirror_mode": {
    "name": "ipython",
    "version": 3
   },
   "file_extension": ".py",
   "mimetype": "text/x-python",
   "name": "python",
   "nbconvert_exporter": "python",
   "pygments_lexer": "ipython3",
   "version": "3.10.9"
  }
 },
 "nbformat": 4,
 "nbformat_minor": 5
}
