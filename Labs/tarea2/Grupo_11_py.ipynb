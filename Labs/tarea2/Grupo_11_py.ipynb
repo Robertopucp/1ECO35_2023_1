{
 "cells": [
  {
   "cell_type": "markdown",
   "id": "8c6c5d42",
   "metadata": {},
   "source": [
    "# Tarea 2"
   ]
  },
  {
   "cell_type": "markdown",
   "id": "22ce9220",
   "metadata": {},
   "source": [
    "## Integrantes:"
   ]
  },
  {
   "cell_type": "markdown",
   "id": "4ce07a87",
   "metadata": {},
   "source": [
    "- Kevin Pareja (20196318)\n",
    "\n",
    "- Elian Tongombol (20196453)\n",
    "\n",
    "- Paola Aranda (20196052)\n",
    "\n",
    "- María Alejandra Colán (20190515)"
   ]
  },
  {
   "cell_type": "markdown",
   "id": "80368a61",
   "metadata": {},
   "source": [
    "### 1. Condicionales"
   ]
  },
  {
   "cell_type": "markdown",
   "id": "b2bd26c8",
   "metadata": {},
   "source": [
    "- Use un condicional que imprima el valor de la compra y el tipo de pago. Asuma tres tipos de pagos: pago en efectivo, pago con tarjeta de crédito y pago con tarjeta de débito. El tipo de pago depende del monto de la compra. Si gasta hasta S/.100, se paga con dinero en efectivo. Por otro lado, si gasta más de S/.100 pero menos de S/.300, se paga con tarjeta de débito. Si no, pago con tarjeta de crédito. Además, si la compra es mayor a 300 soles, se hace un descuento de 10%.\n",
    "\n",
    "Un ejemplo de lo que debe imprimir \" Compra de 150 soles y pago en efectivo\""
   ]
  },
  {
   "cell_type": "code",
   "execution_count": 43,
   "id": "8d9e6acb",
   "metadata": {},
   "outputs": [
    {
     "name": "stdout",
     "output_type": "stream",
     "text": [
      "Compra de 360.0 soles y pago con tarjeta de crédito\n"
     ]
    }
   ],
   "source": [
    "v = 400 # consideramos que v sea el monto de la compra \n",
    "\n",
    "if v < 100:\n",
    "    print (\"Compra de\", v, \"soles y pago en efectivo\")\n",
    "elif v > 100 and v < 300:\n",
    "    print (\"Compra de\", v, \"soles y pago con tarjeta de débito\")\n",
    "elif v > 300:\n",
    "    print (\"Compra de\", 0.9*v, \"soles y pago con tarjeta de crédito\") # Ya consideramos el descuento "
   ]
  },
  {
   "attachments": {
    "image.png": {
     "image/png": "[encoded data removed]"
    }
   },
   "cell_type": "markdown",
   "id": "c034fd0d",
   "metadata": {},
   "source": [
    "- Elaborar una estructura condicional que replique la siguiente función.\n",
    "![image.png](attachment:image.png)"
   ]
  },
  {
   "cell_type": "code",
   "execution_count": 74,
   "id": "470a592d",
   "metadata": {},
   "outputs": [
    {
     "name": "stdout",
     "output_type": "stream",
     "text": [
      "50\n",
      "None\n"
     ]
    }
   ],
   "source": [
    "def f(x):\n",
    "    result1 = x**(1/2)\n",
    "    result2 = x-5\n",
    "    result3 = 50\n",
    "    if x > 0 and x < 100:\n",
    "        print (result1)\n",
    "    elif x > 100 and x < 300:\n",
    "        print (result2)\n",
    "    elif x > 300:\n",
    "        print (result3)\n",
    "\n",
    "print (f(1000))"
   ]
  },
  {
   "cell_type": "markdown",
   "id": "9c47d253",
   "metadata": {},
   "source": [
    "### 2. Loops"
   ]
  },
  {
   "cell_type": "markdown",
   "id": "74dee048",
   "metadata": {},
   "source": [
    "- Sea los siguientas utilidades netas anuales de varias empresas medidas en millones\n",
    "(100, 152, -1 , 8, 12, 156,35, -10, 100, -0.5, 30, 1050 , 7, -10)\n",
    "\n",
    "Use el loop for que imprima lo siguiente \"La utilidad neta anual es (monto) \". Además, el loop no debe imprimir las utilidades negativas (use next y continue según corresponda), y, finalmente, el loop debe deternerse si la utilidad supera los 1000 millones."
   ]
  },
  {
   "cell_type": "code",
   "execution_count": null,
   "id": "2507cdd1",
   "metadata": {},
   "outputs": [],
   "source": []
  }
 ],
 "metadata": {
  "kernelspec": {
   "display_name": "Python 3 (ipykernel)",
   "language": "python",
   "name": "python3"
  },
  "language_info": {
   "codemirror_mode": {
    "name": "ipython",
    "version": 3
   },
   "file_extension": ".py",
   "mimetype": "text/x-python",
   "name": "python",
   "nbconvert_exporter": "python",
   "pygments_lexer": "ipython3",
   "version": "3.10.9"
  }
 },
 "nbformat": 4,
 "nbformat_minor": 5
}
