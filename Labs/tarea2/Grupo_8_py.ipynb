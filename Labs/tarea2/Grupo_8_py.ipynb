{
 "cells": [
  {
   "cell_type": "markdown",
   "id": "3290cd4d",
   "metadata": {},
   "source": [
    "## Trabajo Grupal 2\n",
    "\n",
    "      Integrantes Grupo 8:\n",
    "    \n",
    "    - Renzo Mosquera (20181960)\n",
    "    - Yenner Huancahuire (20173340)\n",
    "    - Pamela Obregón (20173040)"
   ]
  },
  {
   "cell_type": "code",
   "execution_count": 45,
   "id": "b3dc580e",
   "metadata": {},
   "outputs": [],
   "source": [
    "## Ejercicio de Compra y Tipo de pago\n",
    "\n",
    "# Importamos algunas librerias:\n",
    "\n",
    "import random\n",
    "import numpy as np\n",
    "import math\n",
    "import pandas as pd  \n",
    "from tqdm import tqdm\n",
    "\n",
    "# Creamos un vector de números aleatorios enteros desde 90 a 310:\n",
    "\n",
    "monto = np.random.randint(90,310)\n",
    "                          "
   ]
  },
  {
   "cell_type": "code",
   "execution_count": 49,
   "id": "45c48755",
   "metadata": {},
   "outputs": [
    {
     "name": "stdout",
     "output_type": "stream",
     "text": [
      "Compra de 360.0 y pago con tarjeta de crédito.\n"
     ]
    }
   ],
   "source": [
    "# Creamos el condicional con \"if y elif\":\n",
    "\n",
    "if monto <= 100  :\n",
    "    print(f\" Compra de {monto} y pago con efectivo.\")\n",
    "    \n",
    "elif 100 < monto < 300 :\n",
    "    print(f\"Compra de {monto} y pago con tarjeta de débito.\")\n",
    "    \n",
    "else :\n",
    "    monto1 = monto-0.1*monto\n",
    "    print(f\"Compra de {monto1} y pago con tarjeta de crédito.\")"
   ]
  },
  {
   "cell_type": "code",
   "execution_count": 51,
   "id": "b86fe376",
   "metadata": {},
   "outputs": [
    {
     "name": "stdout",
     "output_type": "stream",
     "text": [
      "115\n"
     ]
    }
   ],
   "source": [
    "## Estructura Condicional\n",
    "\n",
    "# Definimos el sistema de ecuaciones:\n",
    "\n",
    "def sistema(x):\n",
    "\n",
    "    if 0 <= x <= 100 :\n",
    "        F = x**0.5\n",
    "    \n",
    "    elif 100 <= x <= 300 :\n",
    "        F = x-5\n",
    "\n",
    "    else :\n",
    "        F = 50\n",
    "    \n",
    "    print(F)\n",
    "    \n",
    "# sistema(ejemplos)\n",
    "    "
   ]
  },
  {
   "cell_type": "code",
   "execution_count": 52,
   "id": "563b45d0",
   "metadata": {},
   "outputs": [
    {
     "name": "stdout",
     "output_type": "stream",
     "text": [
      "9.486832980505138\n",
      "145\n",
      "50\n"
     ]
    }
   ],
   "source": [
    "# Creamos una lista de números para realizar un ejemplo:\n",
    "    \n",
    "num = [90,150,400]\n",
    "\n",
    "# Aplicamos la función \"sistema\" a cada elemento de \"num\":\n",
    "\n",
    "for x in num:\n",
    "    sistema(x)"
   ]
  },
  {
   "cell_type": "code",
   "execution_count": 53,
   "id": "86ab82a5",
   "metadata": {},
   "outputs": [
    {
     "name": "stdout",
     "output_type": "stream",
     "text": [
      "La utilidad neta anual es 100 millones \n",
      "\n",
      "La utilidad neta anual es 152 millones \n",
      "\n",
      "La utilidad neta anual es 8 millones \n",
      "\n",
      "La utilidad neta anual es 12 millones \n",
      "\n",
      "La utilidad neta anual es 156 millones \n",
      "\n",
      "La utilidad neta anual es 35 millones \n",
      "\n",
      "La utilidad neta anual es 100 millones \n",
      "\n",
      "La utilidad neta anual es 30 millones \n",
      "\n"
     ]
    }
   ],
   "source": [
    "## Loops\n",
    "\n",
    "util = [100, 152, -1 , 8, 12, 156,35, -10, 100, -0.5, 30, 1050 , 7, -10]\n",
    "\n",
    "# For + continue + break\n",
    "\n",
    "for i in util:\n",
    "    \n",
    "    if i <= 0 :\n",
    "        continue\n",
    "        print(\"La utilidad neta anual es\",i,\"millones\",\"\\n\")\n",
    "        \n",
    "    elif i >= 1000 :\n",
    "        break\n",
    "    else :\n",
    "        print(\"La utilidad neta anual es\",i,\"millones\",\"\\n\")\n",
    "\n",
    "    \n",
    "    "
   ]
  },
  {
   "cell_type": "code",
   "execution_count": null,
   "id": "e21fb7a9",
   "metadata": {},
   "outputs": [],
   "source": []
  }
 ],
 "metadata": {
  "kernelspec": {
   "display_name": "Python 3 (ipykernel)",
   "language": "python",
   "name": "python3"
  },
  "language_info": {
   "codemirror_mode": {
    "name": "ipython",
    "version": 3
   },
   "file_extension": ".py",
   "mimetype": "text/x-python",
   "name": "python",
   "nbconvert_exporter": "python",
   "pygments_lexer": "ipython3",
   "version": "3.9.12"
  }
 },
 "nbformat": 4,
 "nbformat_minor": 5
}
