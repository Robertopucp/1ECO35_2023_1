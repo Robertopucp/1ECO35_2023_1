{
 "cells": [
  {
   "cell_type": "markdown",
   "id": "7c0911d5",
   "metadata": {},
   "source": [
    "# Tarea 2 - Grupo 2"
   ]
  },
  {
   "cell_type": "markdown",
   "id": "d6c6ff85",
   "metadata": {},
   "source": [
    "- <a href='#1.0'> 1.1 Condicionales  </a> \n",
    "- <a href='#1.1'> 1.2 Loops  </a> "
   ]
  },
  {
   "cell_type": "markdown",
   "id": "3051678c",
   "metadata": {},
   "source": [
    "## <a id='1.0'> 1.1 Condicionales  </a> "
   ]
  },
  {
   "cell_type": "code",
   "execution_count": null,
   "id": "846e1b49",
   "metadata": {},
   "outputs": [],
   "source": [
    "# Use un condicional que imprima el valor de la compra y el tipo de pago. Asuma tres tipos de pagos: \n",
    "# pago en efectivo, pago con tarjeta de crédito y pago con tarjeta de débito. \n",
    "# El tipo de pago depende del monto de la compra. Si gasta hasta S/.100, se paga con dinero en efectivo. \n",
    "# Por otro lado, si gasta más de S/.100 pero menos de S/.300, se paga con tarjeta de débito. \n",
    "# Si no, pago con tarjeta de crédito. Además, si la compra es mayor a 300 soles, se hace un descuento de 10%."
   ]
  },
  {
   "cell_type": "code",
   "execution_count": 19,
   "id": "c12a606a",
   "metadata": {},
   "outputs": [
    {
     "name": "stdout",
     "output_type": "stream",
     "text": [
      "Compra de 99 soles y pago en Efectivo\n"
     ]
    }
   ],
   "source": [
    "compra = 99  \n",
    "\n",
    "if compra > 300:\n",
    "    tipo_pago = \"Tarjeta de crédito\"\n",
    "    compra *= 0.9  # Aquí se aplica el descuento del 10% ya que el operador *= es equivalente a multilpicar una variable por otra y almacenar el resultado de la primera\n",
    "\n",
    "elif compra > 100:\n",
    "    tipo_pago = \"Tarjeta de débito\" # Definimos como se llamará el tipo de pago\n",
    "\n",
    "else:\n",
    "    tipo_pago = \"Efectivo\"\n",
    "    \n",
    "print(\"Compra de\", compra, \"soles y pago en\", tipo_pago)\n",
    "\n",
    "# En este ejercicio utilizamos el \"if\" para declarar un condición si se cumple el resultado, el \"elif\" si no se cumple el resultado anterior\n",
    "# y el \"else\" cuando no declaramos una condición, pues se ejecutará siempre y cuando las dos otras condicionales no se cumple.\n"
   ]
  },
  {
   "cell_type": "code",
   "execution_count": null,
   "id": "37ef1b61",
   "metadata": {},
   "outputs": [],
   "source": [
    "# Elaborar una estructura condicional que replique la siguiente función."
   ]
  },
  {
   "cell_type": "code",
   "execution_count": 21,
   "id": "3e69eb1a",
   "metadata": {},
   "outputs": [
    {
     "name": "stdout",
     "output_type": "stream",
     "text": [
      "El resultado es F(X)= 50\n"
     ]
    }
   ],
   "source": [
    "x = 500\n",
    "\n",
    "if x > 300:\n",
    "    resultado_x = 50\n",
    "\n",
    "elif x > 100:\n",
    "    resultado_x = x-5\n",
    "\n",
    "else: \n",
    "    resultado_x = x**(1/2) # Aquí se aplica el operador ** que equivalente a una potencia\n",
    "    \n",
    "print(\"El resultado es F(X)=\",resultado_x)"
   ]
  },
  {
   "cell_type": "markdown",
   "id": "137617c7",
   "metadata": {},
   "source": [
    "## <a id='1.1'> 1.2 Loops </a>"
   ]
  },
  {
   "cell_type": "code",
   "execution_count": null,
   "id": "515860bd",
   "metadata": {},
   "outputs": [],
   "source": [
    "# Sea los siguientas utilidades netas anuales de varias empresas medidas en millones\n",
    "#(100, 152, -1 , 8, 12, 156,35, -10, 100, -0.5, 30, 1050 , 7, -10)\n",
    "# Use el loop for que imprima lo siguiente \"La utilidad neta anual es (monto) \". \n",
    "#Además, el loop no debe imprimir las utilidades negativas (use next y continue según corresponda), \n",
    "# y, finalmente, el loop debe deternerse si la utilidad supera los 1000 millones."
   ]
  },
  {
   "cell_type": "code",
   "execution_count": 26,
   "id": "53784d15",
   "metadata": {},
   "outputs": [
    {
     "name": "stdout",
     "output_type": "stream",
     "text": [
      "la utilidad neta anual es 100 millones\n",
      "la utilidad neta anual es 152 millones\n",
      "la utilidad neta anual es 8 millones\n",
      "la utilidad neta anual es 12 millones\n",
      "la utilidad neta anual es 156 millones\n",
      "la utilidad neta anual es 35 millones\n",
      "la utilidad neta anual es 100 millones\n",
      "la utilidad neta anual es 30 millones\n"
     ]
    }
   ],
   "source": [
    "utilidades_netas = [100,152,-1,8,12,156,35,-10,100,-0.5,30,1050,7,-10]\n",
    "\n",
    "for utilidad_neta in utilidades_netas:\n",
    "\n",
    "    if utilidad_neta < 0: \n",
    "        continue # Utilizamos continue para saltar todas las opciones que no deseemos que se impriman, pero seguiriamos en el bucle. Por eso, podemos observar que sigue exceptuando solamente los número negativos.\n",
    "\n",
    "    elif utilidad_neta > 1000:\n",
    "        break # Utilizamos break para parar el bucle y salir del bucle. Por ello, no vemos que el número 7\n",
    "\n",
    "    else:\n",
    "        print(f\"la utilidad neta anual es {utilidad_neta} millones\") #"
   ]
  }
 ],
 "metadata": {
  "kernelspec": {
   "display_name": "Python 3 (ipykernel)",
   "language": "python",
   "name": "python3"
  },
  "language_info": {
   "codemirror_mode": {
    "name": "ipython",
    "version": 3
   },
   "file_extension": ".py",
   "mimetype": "text/x-python",
   "name": "python",
   "nbconvert_exporter": "python",
   "pygments_lexer": "ipython3",
   "version": "3.9.12"
  }
 },
 "nbformat": 4,
 "nbformat_minor": 5
}
