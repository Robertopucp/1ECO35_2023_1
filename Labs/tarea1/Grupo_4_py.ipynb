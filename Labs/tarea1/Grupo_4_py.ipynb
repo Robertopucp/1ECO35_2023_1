{
 "cells": [
  {
   "cell_type": "markdown",
   "id": "5cb36d00",
   "metadata": {},
   "source": [
    "# Tarea 1\n",
    "### Integrantes: Lisbeth Ccoyo, Mishell Delgado, Steven Atoche"
   ]
  },
  {
   "cell_type": "code",
   "execution_count": 7,
   "id": "e9b41147",
   "metadata": {},
   "outputs": [
    {
     "name": "stdout",
     "output_type": "stream",
     "text": [
      "Facultad de Ciencias Sociales \\ 2023\n"
     ]
    }
   ],
   "source": [
    "## f-string\n",
    "a = 2023\n",
    "print(f\"Facultad de Ciencias Sociales \\ {a}\")"
   ]
  },
  {
   "cell_type": "code",
   "execution_count": 3,
   "id": "313773af",
   "metadata": {},
   "outputs": [],
   "source": [
    "#Lista\n",
    "lista = [\"Australia\", \"Brunei Darussalam\", \"Canadá\", \"Corea\", \"Chile\", \"China\", \"Estados Unidos\", \"Filipinas\", \"Hong Kong\", \"Indonesia\", \"Japón\", \"Malasia\"]"
   ]
  },
  {
   "cell_type": "code",
   "execution_count": 9,
   "id": "81baf14b",
   "metadata": {},
   "outputs": [
    {
     "data": {
      "text/plain": [
       "'Chile'"
      ]
     },
     "execution_count": 9,
     "metadata": {},
     "output_type": "execute_result"
    }
   ],
   "source": [
    "##Obteniendo lo pedido\n",
    "#Chile está en la posición 4\n",
    "lista[4]"
   ]
  },
  {
   "cell_type": "code",
   "execution_count": 10,
   "id": "cf66c45a",
   "metadata": {},
   "outputs": [
    {
     "data": {
      "text/plain": [
       "'Malasia'"
      ]
     },
     "execution_count": 10,
     "metadata": {},
     "output_type": "execute_result"
    }
   ],
   "source": [
    "#Malasia está en la posición 11\n",
    "lista[11]"
   ]
  },
  {
   "cell_type": "code",
   "execution_count": 11,
   "id": "6c2b94d4",
   "metadata": {
    "scrolled": true
   },
   "outputs": [
    {
     "data": {
      "text/plain": [
       "['China', 'Estados Unidos', 'Filipinas', 'Hong Kong', 'Indonesia']"
      ]
     },
     "execution_count": 11,
     "metadata": {},
     "output_type": "execute_result"
    }
   ],
   "source": [
    "#Desde China posición 5 hasta Indonesia, 11\n",
    "lista[5:10]"
   ]
  },
  {
   "cell_type": "code",
   "execution_count": 2,
   "id": "942c5df7",
   "metadata": {},
   "outputs": [],
   "source": [
    "#creando el dicionario\n",
    "dictionary = {\"Número atómico\" : [1, 6, 47, 88], \"Masa atómica\" : [1.008, 12.011, 107.87, 226], \"Familia\" : ['No metal', 'No metal', 'Metal', 'Metal']}"
   ]
  },
  {
   "cell_type": "code",
   "execution_count": 3,
   "id": "fe7e0ee0",
   "metadata": {
    "scrolled": true
   },
   "outputs": [
    {
     "data": {
      "text/plain": [
       "{'Número atómico': [1, 6, 47, 88],\n",
       " 'Masa atómica': [1.008, 12.011, 107.87, 226],\n",
       " 'Familia': ['No metal', 'No metal', 'Metal', 'Metal']}"
      ]
     },
     "execution_count": 3,
     "metadata": {},
     "output_type": "execute_result"
    }
   ],
   "source": [
    "#el diccionario\n",
    "dictionary"
   ]
  },
  {
   "cell_type": "code",
   "execution_count": 4,
   "id": "ca3b5518",
   "metadata": {
    "scrolled": true
   },
   "outputs": [
    {
     "data": {
      "text/plain": [
       "'Metal'"
      ]
     },
     "execution_count": 4,
     "metadata": {},
     "output_type": "execute_result"
    }
   ],
   "source": [
    "#extraemos la palabra metal\n",
    "dictionary['Familia'][2]"
   ]
  },
  {
   "cell_type": "code",
   "execution_count": 5,
   "id": "af8cd47d",
   "metadata": {},
   "outputs": [
    {
     "data": {
      "text/plain": [
       "47"
      ]
     },
     "execution_count": 5,
     "metadata": {},
     "output_type": "execute_result"
    }
   ],
   "source": [
    "#extraemos el número 47\n",
    "dictionary['Número atómico'][2]"
   ]
  },
  {
   "cell_type": "code",
   "execution_count": 8,
   "id": "e40a8dc6",
   "metadata": {},
   "outputs": [],
   "source": [
    "#añadiendo el key \"books\"\n",
    "dictionary['books'] = 'All Tomorrows', 'Un mundo para Julius', 'Ecología, tiempo anímico y existencia' "
   ]
  },
  {
   "cell_type": "code",
   "execution_count": 9,
   "id": "acf36610",
   "metadata": {
    "scrolled": true
   },
   "outputs": [
    {
     "data": {
      "text/plain": [
       "{'Número atómico': [1, 6, 47, 88],\n",
       " 'Masa atómica': [1.008, 12.011, 107.87, 226],\n",
       " 'Familia': ['No metal', 'No metal', 'Metal', 'Metal'],\n",
       " 'books': ('All Tomorrows',\n",
       "  'Un mundo para Julius',\n",
       "  'Ecología, tiempo anímico y existencia')}"
      ]
     },
     "execution_count": 9,
     "metadata": {},
     "output_type": "execute_result"
    }
   ],
   "source": [
    "#el nuevo diccionario\n",
    "dictionary"
   ]
  }
 ],
 "metadata": {
  "kernelspec": {
   "display_name": "Python 3 (ipykernel)",
   "language": "python",
   "name": "python3"
  },
  "language_info": {
   "codemirror_mode": {
    "name": "ipython",
    "version": 3
   },
   "file_extension": ".py",
   "mimetype": "text/x-python",
   "name": "python",
   "nbconvert_exporter": "python",
   "pygments_lexer": "ipython3",
   "version": "3.10.9"
  }
 },
 "nbformat": 4,
 "nbformat_minor": 5
}
