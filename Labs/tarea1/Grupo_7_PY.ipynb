{
 "cells": [
  {
   "cell_type": "code",
   "execution_count": 9,
   "id": "710ff6b8",
   "metadata": {},
   "outputs": [],
   "source": [
    "# F.string\n",
    "## Creamos la variable que será intercambiable en nuestra estructura f string\n",
    "c1 = \"2023\""
   ]
  },
  {
   "cell_type": "code",
   "execution_count": 11,
   "id": "2e4a3995",
   "metadata": {},
   "outputs": [
    {
     "name": "stdout",
     "output_type": "stream",
     "text": [
      "Facultad de Ciencias Sociales \\ 2023\n"
     ]
    }
   ],
   "source": [
    "## El f string nos ha permitido hacer llamado a una variable dentro de una estructura constante\n",
    "print(f'Facultad de Ciencias Sociales \\ {c1}')"
   ]
  },
  {
   "cell_type": "code",
   "execution_count": 12,
   "id": "e1901ac1",
   "metadata": {},
   "outputs": [
    {
     "name": "stdout",
     "output_type": "stream",
     "text": [
      "['Australia', 'Brunei Darussalam', 'Canadá', 'Corea', 'Chile', 'China', 'Estados Unidos', 'Filipinas', 'Hong Kong', 'Indonesia', 'Japón', 'Malasia']\n"
     ]
    }
   ],
   "source": [
    "# Lista\n",
    "## Creamos una lista donde los elementos son los países miembro de la Alianza del Pacífico. Mostramos el output.\n",
    "lista = [\"Australia\", \"Brunei Darussalam\", \"Canadá\", \"Corea\", \"Chile\", \"China\", \"Estados Unidos\", \"Filipinas\", \"Hong Kong\", \"Indonesia\", \"Japón\", \"Malasia\"]\n",
    "print (lista)"
   ]
  },
  {
   "cell_type": "code",
   "execution_count": 15,
   "id": "47ab5b19",
   "metadata": {},
   "outputs": [
    {
     "data": {
      "text/plain": [
       "'Chile'"
      ]
     },
     "execution_count": 15,
     "metadata": {},
     "output_type": "execute_result"
    }
   ],
   "source": [
    "## Obtenemos la observación \"CHILE\"\n",
    "lista[4]"
   ]
  },
  {
   "cell_type": "code",
   "execution_count": 16,
   "id": "6382406b",
   "metadata": {},
   "outputs": [
    {
     "data": {
      "text/plain": [
       "'Malasia'"
      ]
     },
     "execution_count": 16,
     "metadata": {},
     "output_type": "execute_result"
    }
   ],
   "source": [
    "## Obtenemos la observación \"MALASIA\"\n",
    "lista[11]"
   ]
  },
  {
   "cell_type": "code",
   "execution_count": 18,
   "id": "a41f7d70",
   "metadata": {},
   "outputs": [
    {
     "data": {
      "text/plain": [
       "['China',\n",
       " 'Estados Unidos',\n",
       " 'Filipinas',\n",
       " 'Hong Kong',\n",
       " 'Indonesia',\n",
       " 'Japón',\n",
       " 'Malasia']"
      ]
     },
     "execution_count": 18,
     "metadata": {},
     "output_type": "execute_result"
    }
   ],
   "source": [
    "## Obtenemos todas las observaciones desde \"CHINA\" hasta \"MALASIA\". \n",
    "### Recordemos que para llamar un intervalo de observaciones, debemos colocar una unidad de posicionamiento más alta para el final del intervalo. \n",
    "lista[5:12]"
   ]
  },
  {
   "cell_type": "code",
   "execution_count": 22,
   "id": "75147002",
   "metadata": {},
   "outputs": [
    {
     "name": "stdout",
     "output_type": "stream",
     "text": [
      "{'Número atómico': [1, 6, 47, 88], 'Masa atómica': [1.008, 12.011, 107.87, 226], 'Familia': ['No Metal', 'No metal', 'Metal', 'Metal']}\n"
     ]
    }
   ],
   "source": [
    "# Diccionario\n",
    "##creamos el diccionario de acuerdo a lo indicado y mostramos el resultado\n",
    "diccionario = { 'Número atómico': [1, 6, 47, 88] , 'Masa atómica': [1.008, 12.011, 107.87, 226], 'Familia':['No Metal','No metal', 'Metal', 'Metal']}\n",
    "print (diccionario)"
   ]
  },
  {
   "cell_type": "code",
   "execution_count": 30,
   "id": "5d4c6d67",
   "metadata": {},
   "outputs": [
    {
     "name": "stdout",
     "output_type": "stream",
     "text": [
      "[[1, 6, 47, 88], [1.008, 12.011, 107.87, 226], ['No Metal', 'No metal', 'Metal', 'Metal']]\n",
      "<class 'list'>\n"
     ]
    }
   ],
   "source": [
    "## Para poder extraer valores específicos del diccionarios, tendremos que crear una lista donde las observaciones sean los valores del diccionario\n",
    "### Verificamos que en efecto, hemos creado un di\n",
    "lista = list(diccionario.values())\n",
    "print(lista)\n",
    "print(type(lista))"
   ]
  },
  {
   "cell_type": "code",
   "execution_count": 31,
   "id": "9af7a71a",
   "metadata": {},
   "outputs": [
    {
     "data": {
      "text/plain": [
       "47"
      ]
     },
     "execution_count": 31,
     "metadata": {},
     "output_type": "execute_result"
    }
   ],
   "source": [
    "#Pero ahora tenemos una lista con 3 conjuntos de datos. por lo que necesitamos extraer un valor de una lista dentro de otra lista\n",
    "\n",
    "lista[0][2]"
   ]
  },
  {
   "cell_type": "code",
   "execution_count": 32,
   "id": "a3434bb1",
   "metadata": {},
   "outputs": [
    {
     "data": {
      "text/plain": [
       "['Metal', 'Metal']"
      ]
     },
     "execution_count": 32,
     "metadata": {},
     "output_type": "execute_result"
    }
   ],
   "source": [
    "lista[2][2:4]"
   ]
  },
  {
   "cell_type": "code",
   "execution_count": 34,
   "id": "26465d50",
   "metadata": {},
   "outputs": [
    {
     "name": "stdout",
     "output_type": "stream",
     "text": [
      "{'Número atómico': [1, 6, 47, 88], 'Masa atómica': [1.008, 12.011, 107.87, 226], 'Familia': ['No Metal', 'No metal', 'Metal', 'Metal'], 'Libros': ['El proceso', 'El arte de amar', 'Una muerte muy dulce']}\n"
     ]
    }
   ],
   "source": [
    "# Añadimos un nuevo key o variable al diccionario, donde almacenamos 3 nuevas observaciones\n",
    "\n",
    "diccionario.update( { \"Libros\" :  ['El proceso', 'El arte de amar', 'Una muerte muy dulce'] } )\n",
    "print(diccionario)"
   ]
  },
  {
   "cell_type": "code",
   "execution_count": null,
   "id": "0a449011",
   "metadata": {},
   "outputs": [],
   "source": [
    "# HA CONCLUIDO EL CÓDIGO"
   ]
  }
 ],
 "metadata": {
  "kernelspec": {
   "display_name": "Python 3 (ipykernel)",
   "language": "python",
   "name": "python3"
  },
  "language_info": {
   "codemirror_mode": {
    "name": "ipython",
    "version": 3
   },
   "file_extension": ".py",
   "mimetype": "text/x-python",
   "name": "python",
   "nbconvert_exporter": "python",
   "pygments_lexer": "ipython3",
   "version": "3.10.9"
  }
 },
 "nbformat": 4,
 "nbformat_minor": 5
}
