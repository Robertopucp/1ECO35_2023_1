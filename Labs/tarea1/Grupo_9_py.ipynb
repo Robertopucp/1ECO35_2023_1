{
 "cells": [
  {
   "cell_type": "code",
   "execution_count": null,
   "id": "35f5f092",
   "metadata": {},
   "outputs": [],
   "source": [
    "#Tarea 1"
   ]
  },
  {
   "cell_type": "code",
   "execution_count": 13,
   "id": "d0fe70a1",
   "metadata": {},
   "outputs": [
    {
     "name": "stdout",
     "output_type": "stream",
     "text": [
      "Facultad de Ciencias Sociales\\2023\n"
     ]
    }
   ],
   "source": [
    "# f-string\n",
    "#Use F-string para crear el siguiente texto: \"Facultad de Ciencias Sociales \\ 2023\".\n",
    "#Use el año como la variable en la estructura f-string\n",
    "año=2023\n",
    "print(f\"Facultad de Ciencias Sociales\\{año}\")"
   ]
  },
  {
   "cell_type": "code",
   "execution_count": 14,
   "id": "195371f1",
   "metadata": {},
   "outputs": [],
   "source": [
    "#Lista\n",
    "#Crear una lista de países miembros del acuerdo de la Alianza del Pacífico: \n",
    "#Australia, Brunei Darussalam, Canadá, Corea, Chile, China, Estados Unidos, Filipinas, Hong Kong, Indonesia, Japón, Malasia.\n",
    "lista = [\"Australia\", \"Brunei Darussalam\", \"Canadá\",\"Corea\",\"Chile\",\"China\",\"Estados Unidos\",\"Filipinas\",\"Hong Kong\",\"Indonesia\",\"Japón\",\"Malasia\"]\n",
    "            #0           1                   2        3       4        5        6                7              8         9          10       11        \n",
    "\n"
   ]
  },
  {
   "cell_type": "code",
   "execution_count": 16,
   "id": "8b498cdc",
   "metadata": {},
   "outputs": [
    {
     "data": {
      "text/plain": [
       "'Chile'"
      ]
     },
     "execution_count": 16,
     "metadata": {},
     "output_type": "execute_result"
    }
   ],
   "source": [
    "#a. Use la lista creada para obtener a Chile.\n",
    "lista[4]"
   ]
  },
  {
   "cell_type": "code",
   "execution_count": 14,
   "id": "4022ef98",
   "metadata": {},
   "outputs": [
    {
     "data": {
      "text/plain": [
       "'Malasia'"
      ]
     },
     "execution_count": 14,
     "metadata": {},
     "output_type": "execute_result"
    }
   ],
   "source": [
    "#b. Use la lista creada para obtener a Malasia.\n",
    "lista[11]"
   ]
  },
  {
   "cell_type": "code",
   "execution_count": 18,
   "id": "8bda48e1",
   "metadata": {},
   "outputs": [
    {
     "data": {
      "text/plain": [
       "['China', 'Estados Unidos', 'Filipinas', 'Hong Kong', 'Indonesia']"
      ]
     },
     "execution_count": 18,
     "metadata": {},
     "output_type": "execute_result"
    }
   ],
   "source": [
    "#c. Use la lista creada para obtener una lista de países desde China hasta Indonesia.\n",
    "lista[5:10]"
   ]
  },
  {
   "cell_type": "code",
   "execution_count": 4,
   "id": "d6486d05",
   "metadata": {},
   "outputs": [],
   "source": [
    "#Diccionario\n",
    "#Replique el siguiente diccionario\n",
    "Out[22]: {'Número atómico': [1,6,47,88],\n",
    "         'Masa atómica':[1.008, 12.001, 107.87, 226],\n",
    "         'Familia':['No metal','No metal','Metal','Metal']}\n",
    "    "
   ]
  },
  {
   "cell_type": "code",
   "execution_count": 5,
   "id": "e66bfb1d",
   "metadata": {},
   "outputs": [],
   "source": [
    "#Dado el siguiente diccionario\n",
    "\n",
    "dic = {\"Numero atémico\": [1, 6, 47, 88],\n",
    "\"Masa atémica\": [1.008, 12.011, 107.87, 226],\n",
    "\"Familia\": [\"No metal\", \"No metal\", \"Metal\", \"Metal\"]}"
   ]
  },
  {
   "cell_type": "code",
   "execution_count": 6,
   "id": "c7ad39e1",
   "metadata": {},
   "outputs": [
    {
     "data": {
      "text/plain": [
       "47"
      ]
     },
     "execution_count": 6,
     "metadata": {},
     "output_type": "execute_result"
    }
   ],
   "source": [
    "#Obtengo el número 47\n",
    "\n",
    "dic[\"Numero atémico\"][2]"
   ]
  },
  {
   "cell_type": "code",
   "execution_count": 7,
   "id": "2015fa60",
   "metadata": {},
   "outputs": [
    {
     "data": {
      "text/plain": [
       "'Metal'"
      ]
     },
     "execution_count": 7,
     "metadata": {},
     "output_type": "execute_result"
    }
   ],
   "source": [
    "#Obtengo la palabra metal \n",
    "\n",
    "dic[\"Familia\"][3]"
   ]
  },
  {
   "cell_type": "code",
   "execution_count": 11,
   "id": "c93a7b8d",
   "metadata": {},
   "outputs": [],
   "source": [
    "#Nuevo key \n",
    "\n",
    "dic2 = {\"Libro\":[\"Don Quijote\",\"El Alquimista\",\"El Principito\"]}"
   ]
  },
  {
   "cell_type": "code",
   "execution_count": 12,
   "id": "81b135cb",
   "metadata": {},
   "outputs": [
    {
     "data": {
      "text/plain": [
       "{'Libro': ['Don Quijote', 'El Alquimista', 'El Principito'],\n",
       " 'Numero atémico': [1, 6, 47, 88],\n",
       " 'Masa atémica': [1.008, 12.011, 107.87, 226],\n",
       " 'Familia': ['No metal', 'No metal', 'Metal', 'Metal']}"
      ]
     },
     "execution_count": 12,
     "metadata": {},
     "output_type": "execute_result"
    }
   ],
   "source": [
    "#Agregar el nuevo key\n",
    "\n",
    "dic3 = {**dic2,**dic}\n",
    "dic3"
   ]
  }
 ],
 "metadata": {
  "kernelspec": {
   "display_name": "Python 3 (ipykernel)",
   "language": "python",
   "name": "python3"
  },
  "language_info": {
   "codemirror_mode": {
    "name": "ipython",
    "version": 3
   },
   "file_extension": ".py",
   "mimetype": "text/x-python",
   "name": "python",
   "nbconvert_exporter": "python",
   "pygments_lexer": "ipython3",
   "version": "3.10.9"
  }
 },
 "nbformat": 4,
 "nbformat_minor": 5
}
