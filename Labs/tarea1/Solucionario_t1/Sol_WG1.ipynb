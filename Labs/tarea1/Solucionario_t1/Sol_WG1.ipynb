{
 "cells": [
  {
   "cell_type": "markdown",
   "id": "f10a71c1",
   "metadata": {},
   "source": [
    "# Solucionario WG1"
   ]
  },
  {
   "cell_type": "markdown",
   "id": "0fcc1b01",
   "metadata": {},
   "source": [
    "## F-string"
   ]
  },
  {
   "cell_type": "markdown",
   "id": "c89ea9c8",
   "metadata": {},
   "source": [
    "- Use F-string para crear el siguiente texto: \"Facultad de Ciencias Sociales \\ 2023\"\n",
    "- Use el año como la variable en la estructura f-string"
   ]
  },
  {
   "cell_type": "code",
   "execution_count": 6,
   "id": "0f45ceb5",
   "metadata": {},
   "outputs": [
    {
     "name": "stdout",
     "output_type": "stream",
     "text": [
      "Facultad de Ciencias Sociales \\ 2023\n"
     ]
    }
   ],
   "source": [
    "año = 2023\n",
    "print(f'Facultad de Ciencias Sociales \\ {año}')"
   ]
  },
  {
   "cell_type": "markdown",
   "id": "7b2cc656",
   "metadata": {},
   "source": [
    "## Lista"
   ]
  },
  {
   "cell_type": "markdown",
   "id": "736493c5",
   "metadata": {},
   "source": [
    "- Crear una lista de países miembros del acuerdo de la Alianza del Pacífico: Australia, Brunei Darussalam, Canadá, Corea, Chile, China, Estados Unidos, Filipinas, Hong Kong, Indonesia, Japón, Malasia.\n",
    "\n",
    "- Use la lista creada para obtener a Chile.\n",
    "- Use la lista creada para obtener a Malasia.\n",
    "- Use la lista creada para obtener una lista de países desde China hasta Indonesia."
   ]
  },
  {
   "cell_type": "code",
   "execution_count": 12,
   "id": "e05a84f1",
   "metadata": {},
   "outputs": [],
   "source": [
    "# Primero, creamos la lista:\n",
    "\n",
    "paises_alianza_pacifico = [\"Australia\", \"Brunei Darussalam\", \"Canadá\", \"Corea\", \"Chile\", \"China\", \"Estados Unidos\", \"Filipinas\", \"Hong Kong\", \"Indonesia\",\"Japón\", \"Malasia\"]"
   ]
  },
  {
   "cell_type": "code",
   "execution_count": 8,
   "id": "59bfe1f3",
   "metadata": {},
   "outputs": [
    {
     "data": {
      "text/plain": [
       "'Chile'"
      ]
     },
     "execution_count": 8,
     "metadata": {},
     "output_type": "execute_result"
    }
   ],
   "source": [
    "# Extraemos los países indicados, recordando que el conteo inicia en \"0\", de izquierda a derecha:\n",
    "\n",
    "print(paises_alianza_pacifico[4])"
   ]
  },
  {
   "cell_type": "code",
   "execution_count": 9,
   "id": "51e14d75",
   "metadata": {},
   "outputs": [
    {
     "name": "stdout",
     "output_type": "stream",
     "text": [
      "Malasia\n",
      "Malasia\n"
     ]
    }
   ],
   "source": [
    "# En el caso de Malasia, tenemos dos maneras:\n",
    "\n",
    "print(paises_alianza_pacifico[11])\n",
    "print(paises_alianza_pacifico[-1])"
   ]
  },
  {
   "cell_type": "code",
   "execution_count": 11,
   "id": "09db3533",
   "metadata": {},
   "outputs": [
    {
     "name": "stdout",
     "output_type": "stream",
     "text": [
      "['China', 'Estados Unidos', 'Filipinas', 'Hong Kong', 'Indonesia']\n",
      "['China', 'Estados Unidos', 'Filipinas', 'Hong Kong', 'Indonesia']\n"
     ]
    }
   ],
   "source": [
    "# Por último, la lista de países. Aquí también existen dos maneras:\n",
    "\n",
    "print(paises_alianza_pacifico[5:-2])\n",
    "print(paises_alianza_pacifico[5:10])"
   ]
  },
  {
   "cell_type": "markdown",
   "id": "cfcde96c",
   "metadata": {},
   "source": [
    "## Diccionario"
   ]
  },
  {
   "cell_type": "markdown",
   "id": "073e9f41",
   "metadata": {},
   "source": [
    "- Replique el siguiente diccionario\n",
    "- Extraer las palabras \"Metal\" y el número 47\n",
    "- Añade un Key llamado books que almacene los títulos de 3 libros."
   ]
  },
  {
   "cell_type": "code",
   "execution_count": 15,
   "id": "22220597",
   "metadata": {},
   "outputs": [],
   "source": [
    "# Creamos el diccionario:\n",
    "\n",
    "diccionario = {'Número atómico': [1, 6, 47, 88], 'Masa atómica': [1.008, 12.011, 107.87, 226], 'Familia': [\"No metal\", \"No metal\", \"Metal\", \"Metal\"]}"
   ]
  },
  {
   "cell_type": "code",
   "execution_count": 30,
   "id": "676e8002",
   "metadata": {},
   "outputs": [
    {
     "name": "stdout",
     "output_type": "stream",
     "text": [
      "['Metal', 'Metal']\n"
     ]
    }
   ],
   "source": [
    "# Extraemos las palabras \"Metal\":\n",
    "\n",
    "print(diccionario.get('Familia')[2:])"
   ]
  },
  {
   "cell_type": "code",
   "execution_count": 21,
   "id": "18e8bc0a",
   "metadata": {},
   "outputs": [
    {
     "name": "stdout",
     "output_type": "stream",
     "text": [
      "47\n"
     ]
    }
   ],
   "source": [
    "# Extraemos el número 47:\n",
    "\n",
    "print(diccionario.get('Número atómico')[2])"
   ]
  },
  {
   "cell_type": "code",
   "execution_count": 23,
   "id": "0f082ab4",
   "metadata": {},
   "outputs": [],
   "source": [
    "# Añadimos el Key:\n",
    "\n",
    "diccionario.update({'Books': [\"Libro1\" , \"Libro2\", \"Libro3\"]})"
   ]
  },
  {
   "cell_type": "code",
   "execution_count": 28,
   "id": "69995ebf",
   "metadata": {},
   "outputs": [
    {
     "name": "stdout",
     "output_type": "stream",
     "text": [
      "['Libro1', 'Libro2', 'Libro3']\n"
     ]
    }
   ],
   "source": [
    "# Imprimimos los títulos:\n",
    "\n",
    "print(diccionario.get('Books'))"
   ]
  },
  {
   "cell_type": "code",
   "execution_count": 29,
   "id": "872823c8",
   "metadata": {},
   "outputs": [
    {
     "name": "stdout",
     "output_type": "stream",
     "text": [
      "{'Número atómico': [1, 6, 47, 88], 'Masa atómica': [1.008, 12.011, 107.87, 226], 'Familia': ['No metal', 'No metal', 'Metal', 'Metal'], 'Books': ['Libro1', 'Libro2', 'Libro3']}\n"
     ]
    }
   ],
   "source": [
    "# Al imprimir el diccionario, notamos que Books se encuentra dentro:\n",
    "\n",
    "print(diccionario)"
   ]
  }
 ],
 "metadata": {
  "kernelspec": {
   "display_name": "Python 3",
   "language": "python",
   "name": "python3"
  },
  "language_info": {
   "codemirror_mode": {
    "name": "ipython",
    "version": 3
   },
   "file_extension": ".py",
   "mimetype": "text/x-python",
   "name": "python",
   "nbconvert_exporter": "python",
   "pygments_lexer": "ipython3",
   "version": "3.8.8"
  }
 },
 "nbformat": 4,
 "nbformat_minor": 5
}
