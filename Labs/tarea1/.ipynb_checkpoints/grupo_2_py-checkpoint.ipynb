{
 "cells": [
  {
   "cell_type": "markdown",
   "id": "90984e79",
   "metadata": {},
   "source": [
    "# Tarea 1 - Grupo 2"
   ]
  },
  {
   "cell_type": "markdown",
   "id": "0ac05767",
   "metadata": {},
   "source": [
    "- <a href='#1.0'> 1.1 F-string  </a> \n",
    "- <a href='#1.1'> 1.2 Lista  </a> \n",
    "- <a href='#1.2'> 1.3 Diccionario  </a> "
   ]
  },
  {
   "cell_type": "markdown",
   "id": "51ca7a28",
   "metadata": {},
   "source": [
    "## <a id='1.0'> 1.1 F-string  </a> "
   ]
  },
  {
   "cell_type": "code",
   "execution_count": 2,
   "id": "86757ad1",
   "metadata": {},
   "outputs": [],
   "source": [
    "# Use F-string para crear el siguiente texto: \"Facultad de Ciencias Sociales \\ 2023\"\n",
    "\n",
    "# Use el año como la variable en la estructura f-string"
   ]
  },
  {
   "cell_type": "code",
   "execution_count": 2,
   "id": "149cd02f",
   "metadata": {
    "scrolled": true
   },
   "outputs": [
    {
     "name": "stdout",
     "output_type": "stream",
     "text": [
      "Facultad de ciencias sociales \\ 2023\n"
     ]
    }
   ],
   "source": [
    "cs=\"2023\"   # de esta manera se define la variable \"cs\" para el año 2023\n",
    "\n",
    "print(f\"Facultad de ciencias sociales \\ {cs}\")  # en este código se une el texto indicado y el que indica la variable \"cs\"\n",
    "# con print se puede observar el resultado del código indicado"
   ]
  },
  {
   "cell_type": "markdown",
   "id": "2c4915df",
   "metadata": {},
   "source": [
    "## <a id='1.1'> 1.2 Lista </a> "
   ]
  },
  {
   "cell_type": "code",
   "execution_count": 42,
   "id": "22ca4fc1",
   "metadata": {},
   "outputs": [],
   "source": [
    "#Crear una lista de países miembros del acuerdo de la Alianza del Pacífico:\n",
    "#Australia, Brunei Darussalam, Canadá, Corea, Chile, China,\n",
    "#Estados Unidos, Filipinas, Hong Kong,Indonesia, Japón, Malasia."
   ]
  },
  {
   "cell_type": "code",
   "execution_count": 1,
   "id": "d1e9e943",
   "metadata": {},
   "outputs": [],
   "source": [
    "lista = [\"Australia\", \"Brunei Darussalam\", \"Canadá\", \"Corea\", \"Chile\", \"China\", \"Estados unidos\", \"Filipinas\", \"Hong Kong\",\"Indonesia\", \"Japón\", \"Malasia\"]\n",
    "# se crea una lista con los paises indicados"
   ]
  },
  {
   "cell_type": "code",
   "execution_count": 5,
   "id": "a3a085d2",
   "metadata": {},
   "outputs": [
    {
     "data": {
      "text/plain": [
       "'Chile'"
      ]
     },
     "execution_count": 5,
     "metadata": {},
     "output_type": "execute_result"
    }
   ],
   "source": [
    "#Use la lista creada para obtener a Chile.\n",
    "lista[4] # Chile representa el elemento de la posición 4 en la lista"
   ]
  },
  {
   "cell_type": "code",
   "execution_count": 10,
   "id": "7fd75513",
   "metadata": {},
   "outputs": [
    {
     "data": {
      "text/plain": [
       "'Malasia'"
      ]
     },
     "execution_count": 10,
     "metadata": {},
     "output_type": "execute_result"
    }
   ],
   "source": [
    "#Use la lista creada para obtener a Malasia.\n",
    "lista[11]  #Malasia representa el elemento de la posición 11 en la lista"
   ]
  },
  {
   "cell_type": "code",
   "execution_count": 8,
   "id": "2092d4bd",
   "metadata": {},
   "outputs": [
    {
     "data": {
      "text/plain": [
       "['China', 'Estados unidos', 'Filipinas', 'Hong Kong', 'Indonesia']"
      ]
     },
     "execution_count": 8,
     "metadata": {},
     "output_type": "execute_result"
    }
   ],
   "source": [
    "#Use la lista creada para obtener una lista de países desde China hasta Indonesia.\n",
    "lista[5:10] \n",
    "## Se obtiene los elementos de la lista que están entre las posiciones 5 y 9, China está en la posición 5 e Indonesia en la 9\n",
    "## En el intervalo se indica 1 número superior del límite que se quiere, por eso, a pesar de que Indonesia esté en la \n",
    "## posición 9, se coloca como límite 10"
   ]
  },
  {
   "cell_type": "markdown",
   "id": "692e8ebb",
   "metadata": {},
   "source": [
    "## <a id='1.2'> 1.3 Diccionario </a> "
   ]
  },
  {
   "cell_type": "code",
   "execution_count": 12,
   "id": "ef215d71",
   "metadata": {
    "scrolled": true
   },
   "outputs": [
    {
     "data": {
      "text/plain": [
       "{'Número atómico': [1, 6, 47, 88],\n",
       " 'Masa atómica': [1.008, 12.011, 107.87, 226],\n",
       " 'Familia': ['No metal', 'No metal', 'Metal', 'Metal']}"
      ]
     },
     "execution_count": 12,
     "metadata": {},
     "output_type": "execute_result"
    }
   ],
   "source": [
    "Diccionario = {'Número atómico': [1,6,47,88], 'Masa atómica': [1.008, 12.011, 107.87, 226], 'Familia': ['No metal', 'No metal', 'Metal', 'Metal']}\n",
    "Diccionario\n",
    "\n",
    "# Se crea un diccionario que contenga las llaves Número atómico, Masa atómica y Familia"
   ]
  },
  {
   "cell_type": "code",
   "execution_count": null,
   "id": "e8dfbbd1",
   "metadata": {},
   "outputs": [],
   "source": [
    "#Extraer las palabras \"Metal\""
   ]
  },
  {
   "cell_type": "code",
   "execution_count": 14,
   "id": "178126f4",
   "metadata": {},
   "outputs": [
    {
     "data": {
      "text/plain": [
       "'Metal'"
      ]
     },
     "execution_count": 14,
     "metadata": {},
     "output_type": "execute_result"
    }
   ],
   "source": [
    "Diccionario['Familia'][2] \n",
    "# Se extrae el elemento \"Metal\", el cual representa la posición 2 de la llave Familia"
   ]
  },
  {
   "cell_type": "code",
   "execution_count": null,
   "id": "09330998",
   "metadata": {},
   "outputs": [],
   "source": [
    "#Extraer el numero 47 "
   ]
  },
  {
   "cell_type": "code",
   "execution_count": 15,
   "id": "0bd44a59",
   "metadata": {},
   "outputs": [
    {
     "data": {
      "text/plain": [
       "47"
      ]
     },
     "execution_count": 15,
     "metadata": {},
     "output_type": "execute_result"
    }
   ],
   "source": [
    "Diccionario['Número atómico'][2]  \n",
    "#Se extrae el número 47, el cual representa la posición 2 de la llave Número atómico"
   ]
  },
  {
   "cell_type": "code",
   "execution_count": null,
   "id": "a5f517b0",
   "metadata": {},
   "outputs": [],
   "source": [
    "#Añade un Key llamado books que almacene los titulos de 3 libros."
   ]
  },
  {
   "cell_type": "code",
   "execution_count": 24,
   "id": "bb89f35a",
   "metadata": {},
   "outputs": [],
   "source": [
    "Diccionario.update( { \"BOOKS\" :  [\"caperucita roja\",\"colmillo blanco\",\"orgullo y prejuicio\"] } )\n",
    "# Se añade una nueva llave \"BOOKS\" al diccionario creado"
   ]
  },
  {
   "cell_type": "code",
   "execution_count": 25,
   "id": "35402b32",
   "metadata": {},
   "outputs": [
    {
     "data": {
      "text/plain": [
       "{'Número atómico': [1, 6, 47, 88],\n",
       " 'Masa atómica': [1.008, 12.011, 107.87, 226],\n",
       " 'Familia': ['No metal', 'No metal', 'Metal', 'Metal'],\n",
       " 'BOOKS': ['caperucita roja', 'colmillo blanco', 'orgullo y prejuicio']}"
      ]
     },
     "execution_count": 25,
     "metadata": {},
     "output_type": "execute_result"
    }
   ],
   "source": [
    "Diccionario  \n",
    "#Con este código se muestra las llaves y elementos que contiene el diccionario creado"
   ]
  }
 ],
 "metadata": {
  "kernelspec": {
   "display_name": "Python 3 (ipykernel)",
   "language": "python",
   "name": "python3"
  },
  "language_info": {
   "codemirror_mode": {
    "name": "ipython",
    "version": 3
   },
   "file_extension": ".py",
   "mimetype": "text/x-python",
   "name": "python",
   "nbconvert_exporter": "python",
   "pygments_lexer": "ipython3",
   "version": "3.10.9"
  }
 },
 "nbformat": 4,
 "nbformat_minor": 5
}
