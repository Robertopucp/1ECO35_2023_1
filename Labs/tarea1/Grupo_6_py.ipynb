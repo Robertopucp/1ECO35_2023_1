{
 "cells": [
  {
   "cell_type": "code",
   "execution_count": null,
   "id": "1e00121e",
   "metadata": {},
   "outputs": [],
   "source": [
    "#Use F-string para crear el siguiente texto: \"Facultad de Ciencias Sociales \\ 2023\"\n",
    "#Use el año como la variable en la estructura f-string"
   ]
  },
  {
   "cell_type": "code",
   "execution_count": 47,
   "id": "c213b527",
   "metadata": {},
   "outputs": [
    {
     "name": "stdout",
     "output_type": "stream",
     "text": [
      "Facultad de Ciencias Sociales \\ 2023\n"
     ]
    }
   ],
   "source": [
    "# 1. f-string\n",
    "\n",
    "a = 2023\n",
    "\n",
    "print(f'Facultad de Ciencias Sociales \\ {a}')"
   ]
  },
  {
   "cell_type": "code",
   "execution_count": null,
   "id": "2afa3917",
   "metadata": {},
   "outputs": [],
   "source": [
    "#Crear una lista de países miembros del acuerdo de la Alianza del Pacífico: \n",
    "#Australia, Brunei Darussalam, Canadá, Corea, Chile, China, Estados Unidos, Filipinas, Hong Kong, Indonesia, Japón, Malasia.\n",
    "\n",
    "#Use la lista creada para obtener a Chile.\n",
    "#Use la lista creada para obtener a Malasia.\n",
    "#Use la lista creada para obtener una lista de países desde China hasta Indonesia."
   ]
  },
  {
   "cell_type": "code",
   "execution_count": 48,
   "id": "29457778",
   "metadata": {},
   "outputs": [],
   "source": [
    "lista = [\"Australia\",\"Brunei Darussalam\",\"Canadá\",\"Corea\", \"Chile\", \"China\", \"Estados Unidos\", \"Filipinas\", \"Hong Kong\", \"Indonesia\", \"Japón\", \"Malasia\"]\n",
    "\n",
    "#Recordamos que debemos empezar desde la posicion 0. Por ello\n",
    "#Chile es la posicion 4\n",
    "#Malasia es la posicion 11\n",
    "#China a Indonesia es de la posicion 5 al 9\n"
   ]
  },
  {
   "cell_type": "code",
   "execution_count": 49,
   "id": "3e8d275b",
   "metadata": {},
   "outputs": [
    {
     "name": "stdout",
     "output_type": "stream",
     "text": [
      "Chile\n"
     ]
    }
   ],
   "source": [
    "print(lista[4])"
   ]
  },
  {
   "cell_type": "code",
   "execution_count": 50,
   "id": "e63df22d",
   "metadata": {},
   "outputs": [
    {
     "name": "stdout",
     "output_type": "stream",
     "text": [
      "Malasia\n"
     ]
    }
   ],
   "source": [
    "print(lista[11])"
   ]
  },
  {
   "cell_type": "code",
   "execution_count": 51,
   "id": "02bde36a",
   "metadata": {},
   "outputs": [
    {
     "data": {
      "text/plain": [
       "['China', 'Estados Unidos', 'Filipinas', 'Hong Kong', 'Indonesia']"
      ]
     },
     "execution_count": 51,
     "metadata": {},
     "output_type": "execute_result"
    }
   ],
   "source": [
    "lista[5:10]"
   ]
  },
  {
   "cell_type": "code",
   "execution_count": null,
   "id": "45a49b7e",
   "metadata": {},
   "outputs": [],
   "source": [
    "#Diccionario\n",
    "#Replique el siguiente diccionario\n",
    "#Extraer las palabras \"Metal\" y el numero 47\n",
    "#Añade un Key llamado books que almacene los titulos de 3 libros."
   ]
  },
  {
   "cell_type": "code",
   "execution_count": 52,
   "id": "c98c1aad",
   "metadata": {},
   "outputs": [],
   "source": [
    "Ciencia = {'Numero atómico':[1,6,47,88],'Masa atómica':[1.008,12.011,107.87,226],'Familia':['No metal','No metal','Metal','Metal']}"
   ]
  },
  {
   "cell_type": "code",
   "execution_count": 14,
   "id": "67e2c56e",
   "metadata": {},
   "outputs": [
    {
     "data": {
      "text/plain": [
       "{'Numero atómico': [1, 6, 47, 88],\n",
       " 'Masa atómica': [1.008, 12.011, 107.87, 226],\n",
       " 'Familia': ['No metal', 'No metal', 'Metal', 'Metal']}"
      ]
     },
     "execution_count": 14,
     "metadata": {},
     "output_type": "execute_result"
    }
   ],
   "source": [
    "Ciencia"
   ]
  },
  {
   "cell_type": "code",
   "execution_count": 54,
   "id": "4587c719",
   "metadata": {},
   "outputs": [
    {
     "data": {
      "text/plain": [
       "['Metal', 'Metal']"
      ]
     },
     "execution_count": 54,
     "metadata": {},
     "output_type": "execute_result"
    }
   ],
   "source": [
    "Ciencia.get('Familia')[2:]\n",
    "#Se pone el número 2 porque es la posición de la palabra Metal\n",
    "#Después de los dos puntos no pusimos otro número porque queríamos extraer los demás elementos dentro de la llave. \n"
   ]
  },
  {
   "cell_type": "code",
   "execution_count": 53,
   "id": "b74b54b1",
   "metadata": {},
   "outputs": [
    {
     "data": {
      "text/plain": [
       "47"
      ]
     },
     "execution_count": 53,
     "metadata": {},
     "output_type": "execute_result"
    }
   ],
   "source": [
    "Ciencia.get('Numero atómico')[2]\n",
    "#El número 47 se encuentra en la posición 2 porque empezamos a contar desde el 0. "
   ]
  },
  {
   "cell_type": "code",
   "execution_count": 66,
   "id": "d7993276",
   "metadata": {},
   "outputs": [],
   "source": [
    "Books = [\"La riqueza de las naciones\" , \"El capital\", \"Capitalismo y libertad\"]\n",
    "postal = [15001,15003,15004]\n",
    "#Añadimos valores aleatorios a los títulos de los libros para poder crear nuestra keys. "
   ]
  },
  {
   "cell_type": "code",
   "execution_count": 67,
   "id": "61908b68",
   "metadata": {},
   "outputs": [],
   "source": [
    "ct_pc = dict( zip( Books , postal) )"
   ]
  },
  {
   "cell_type": "code",
   "execution_count": 68,
   "id": "46fa8839",
   "metadata": {},
   "outputs": [
    {
     "data": {
      "text/plain": [
       "{'La riqueza de las naciones': 15001,\n",
       " 'El capital': 15003,\n",
       " 'Capitalismo y libertad': 15004}"
      ]
     },
     "execution_count": 68,
     "metadata": {},
     "output_type": "execute_result"
    }
   ],
   "source": [
    "ct_pc"
   ]
  }
 ],
 "metadata": {
  "kernelspec": {
   "display_name": "Python 3 (ipykernel)",
   "language": "python",
   "name": "python3"
  },
  "language_info": {
   "codemirror_mode": {
    "name": "ipython",
    "version": 3
   },
   "file_extension": ".py",
   "mimetype": "text/x-python",
   "name": "python",
   "nbconvert_exporter": "python",
   "pygments_lexer": "ipython3",
   "version": "3.9.12"
  }
 },
 "nbformat": 4,
 "nbformat_minor": 5
}
