{
 "cells": [
  {
   "cell_type": "markdown",
   "id": "a2f29e9a",
   "metadata": {},
   "source": [
    "## Trabajo Grupal 1\n",
    "\n",
    "      Integrantes Grupo 8:\n",
    "    \n",
    "    - Renzo Mosquera (20181960)\n",
    "    - Yenner Huancahuire (20173340)\n",
    "    - Pamela Obregón (20173040)\n",
    "   \n",
    "    \n",
    "    \n",
    "    "
   ]
  },
  {
   "cell_type": "code",
   "execution_count": 46,
   "id": "1e6d5435",
   "metadata": {},
   "outputs": [
    {
     "name": "stdout",
     "output_type": "stream",
     "text": [
      "Facultad de Ciencias Sociales \\ 2023\n"
     ]
    }
   ],
   "source": [
    "## Uso de F-string\n",
    "\n",
    "    # Creamos la variable \"año\"\n",
    "\n",
    "año=2023\n",
    "\n",
    "    # Imprimimos la frase solicitada e insertamos la variable \"año\" en formato string\n",
    "\n",
    "print(f\"Facultad de Ciencias Sociales \\ {año}\")"
   ]
  },
  {
   "cell_type": "code",
   "execution_count": 34,
   "id": "0fb23eee",
   "metadata": {},
   "outputs": [
    {
     "name": "stdout",
     "output_type": "stream",
     "text": [
      "['Australia', 'Brunei', 'Darussalam', 'Canada', 'Corea', 'Chile', 'China', 'Estados Unidos', 'Filipinas', 'Hong Kong', 'Indonesia', 'Japon', 'Malasia']\n"
     ]
    }
   ],
   "source": [
    "## Lista\n",
    "\n",
    "    # Haciendo uso de los corchetes, creamos la lista solicitada\n",
    "\n",
    "alpaf = [\"Australia\", \"Brunei\", \"Darussalam\", \"Canada\", \"Corea\", \"Chile\",\n",
    "         \"China\", \"Estados Unidos\", \"Filipinas\", \"Hong Kong\", \"Indonesia\",\n",
    "         \"Japon\", \"Malasia\"]\n",
    "\n",
    "print(alpaf)"
   ]
  },
  {
   "cell_type": "code",
   "execution_count": 35,
   "id": "b4e15433",
   "metadata": {},
   "outputs": [
    {
     "data": {
      "text/plain": [
       "'Chile'"
      ]
     },
     "execution_count": 35,
     "metadata": {},
     "output_type": "execute_result"
    }
   ],
   "source": [
    "## Extraemos elementos - Chile\n",
    "\n",
    "    # Identificamos la posición del elemento \"Chile\" y lo extraemos\n",
    "\n",
    "alpaf[5]   "
   ]
  },
  {
   "cell_type": "code",
   "execution_count": 36,
   "id": "ae08eb6f",
   "metadata": {},
   "outputs": [
    {
     "data": {
      "text/plain": [
       "'Malasia'"
      ]
     },
     "execution_count": 36,
     "metadata": {},
     "output_type": "execute_result"
    }
   ],
   "source": [
    "## Extraemos elementos - Malasia\n",
    "\n",
    "    # Identificamos la posición del elemento \"Malasia\" y lo extraemos\n",
    "\n",
    "alpaf[12]"
   ]
  },
  {
   "cell_type": "code",
   "execution_count": 37,
   "id": "063e02e2",
   "metadata": {},
   "outputs": [
    {
     "name": "stdout",
     "output_type": "stream",
     "text": [
      "['China', 'Estados Unidos', 'Filipinas', 'Hong Kong', 'Indonesia']\n"
     ]
    }
   ],
   "source": [
    "## Extraemos elementos desde China a Indonesia en una nueva lista\n",
    "\n",
    "    # Creamos la lista \"newlist\" que agrupa los elementos desde la posición del elemento China, cuya posición es 6, hasta\n",
    "    # el elemento Indonesia, cuya posición es 10, pero, al ser el último elemento, se suma 1 a la posición final pedida.\n",
    "\n",
    "newlist = alpaf[6:11]\n",
    "print(newlist)"
   ]
  },
  {
   "cell_type": "code",
   "execution_count": 38,
   "id": "0185c270",
   "metadata": {},
   "outputs": [
    {
     "data": {
      "text/plain": [
       "{'Numero atomico': [1, 6, 47, 88],\n",
       " 'Masa atomica': [1.008, 12.011, 107.87, 226],\n",
       " 'Familia': ['No metal', 'No metal', 'Metal', 'Metal']}"
      ]
     },
     "execution_count": 38,
     "metadata": {},
     "output_type": "execute_result"
    }
   ],
   "source": [
    "## Replicamos el diccionario propuesto:\n",
    "\n",
    "    # Diccionario está compuesto por keys y values\n",
    "\n",
    "Diccionario={ \"Numero atomico\": [1, 6, 47, 88], \"Masa atomica\":[1.008, 12.011, 107.87, 226], \"Familia\":[\"No metal\", \"No metal\", \"Metal\", \"Metal\"]}\n",
    "\n",
    "Diccionario"
   ]
  },
  {
   "cell_type": "code",
   "execution_count": 39,
   "id": "24938b5f",
   "metadata": {},
   "outputs": [
    {
     "data": {
      "text/plain": [
       "['Numero atomico', 'Masa atomica', 'Familia']"
      ]
     },
     "execution_count": 39,
     "metadata": {},
     "output_type": "execute_result"
    }
   ],
   "source": [
    "# Identificamos keys:\n",
    "\n",
    "list(Diccionario.keys())"
   ]
  },
  {
   "cell_type": "code",
   "execution_count": 40,
   "id": "26e34582",
   "metadata": {
    "scrolled": true
   },
   "outputs": [
    {
     "data": {
      "text/plain": [
       "['No metal', 'No metal', 'Metal', 'Metal']"
      ]
     },
     "execution_count": 40,
     "metadata": {},
     "output_type": "execute_result"
    }
   ],
   "source": [
    "# Key \"Familia\"\n",
    "\n",
    "Diccionario.get(\"Familia\")"
   ]
  },
  {
   "cell_type": "code",
   "execution_count": 41,
   "id": "54ad8143",
   "metadata": {},
   "outputs": [
    {
     "data": {
      "text/plain": [
       "[1, 6, 47, 88]"
      ]
     },
     "execution_count": 41,
     "metadata": {},
     "output_type": "execute_result"
    }
   ],
   "source": [
    "# Key \"Numero atomico\"\n",
    "\n",
    "Diccionario.get(\"Numero atomico\")"
   ]
  },
  {
   "cell_type": "code",
   "execution_count": 42,
   "id": "89e83572",
   "metadata": {},
   "outputs": [
    {
     "data": {
      "text/plain": [
       "'Metal'"
      ]
     },
     "execution_count": 42,
     "metadata": {},
     "output_type": "execute_result"
    }
   ],
   "source": [
    "# Extraemos la palabra \"Metal\"\n",
    "\n",
    "    # Haciendo uso de corchetes, llamamos al key  \"Familia\" e identificamos la posición del elemento solicitado\n",
    "\n",
    "Diccionario[\"Familia\"][3]"
   ]
  },
  {
   "cell_type": "code",
   "execution_count": 43,
   "id": "4860bf54",
   "metadata": {},
   "outputs": [
    {
     "data": {
      "text/plain": [
       "47"
      ]
     },
     "execution_count": 43,
     "metadata": {},
     "output_type": "execute_result"
    }
   ],
   "source": [
    "# Extraemos el numero \"47\"\n",
    "\n",
    "    # Haciendo uso de corchetes, llamamos al key  \"Numero atomico\" e identificamos la posición del elemento solicitado\n",
    "\n",
    "Diccionario[\"Numero atomico\"][2]"
   ]
  },
  {
   "cell_type": "code",
   "execution_count": 44,
   "id": "5841b169",
   "metadata": {},
   "outputs": [],
   "source": [
    "# Añadimos una nueva key llamada \"Books\"\n",
    "\n",
    "Diccionario[\"Books\"]= \"Los miserables\", \"Rayuela\", \"La Casa verde\""
   ]
  },
  {
   "cell_type": "code",
   "execution_count": 45,
   "id": "4c06bea0",
   "metadata": {
    "scrolled": true
   },
   "outputs": [
    {
     "data": {
      "text/plain": [
       "{'Numero atomico': [1, 6, 47, 88],\n",
       " 'Masa atomica': [1.008, 12.011, 107.87, 226],\n",
       " 'Familia': ['No metal', 'No metal', 'Metal', 'Metal'],\n",
       " 'Books': ('Los miserables', 'Rayuela', 'La Casa verde')}"
      ]
     },
     "execution_count": 45,
     "metadata": {},
     "output_type": "execute_result"
    }
   ],
   "source": [
    "# Vemos que la nueva \"key\" ha sido añadida\n",
    "\n",
    "Diccionario"
   ]
  }
 ],
 "metadata": {
  "kernelspec": {
   "display_name": "Python 3 (ipykernel)",
   "language": "python",
   "name": "python3"
  },
  "language_info": {
   "codemirror_mode": {
    "name": "ipython",
    "version": 3
   },
   "file_extension": ".py",
   "mimetype": "text/x-python",
   "name": "python",
   "nbconvert_exporter": "python",
   "pygments_lexer": "ipython3",
   "version": "3.9.12"
  }
 },
 "nbformat": 4,
 "nbformat_minor": 5
}
