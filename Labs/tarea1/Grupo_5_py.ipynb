{
 "cells": [
  {
   "cell_type": "markdown",
   "id": "0c3393ed",
   "metadata": {},
   "source": [
    "#  Tarea 1 - Grupo 5"
   ]
  },
  {
   "cell_type": "markdown",
   "id": "97abe94e",
   "metadata": {},
   "source": [
    "### PREGUNTA 1\n",
    "\n",
    "### Use F-string para crear el siguiente texto: \"Facultad de Ciencias Sociales \\ 2023\"\n",
    "### Use el año como la variable en la estructura f-string"
   ]
  },
  {
   "cell_type": "code",
   "execution_count": 3,
   "id": "34f2caa2",
   "metadata": {},
   "outputs": [
    {
     "name": "stdout",
     "output_type": "stream",
     "text": [
      "Facultad de Ciencias Sociales \\ 2023\n"
     ]
    }
   ],
   "source": [
    "i = 2023\n",
    "print(f\"Facultad de Ciencias Sociales \\ {i}\")"
   ]
  },
  {
   "cell_type": "markdown",
   "id": "cdd29b1d",
   "metadata": {},
   "source": [
    "### PREGUNTA 2\n",
    "\n",
    "### Crear una lista de países miembros del acuerdo de la Alianza del Pacífico: Australia, Brunei Darussalam, Canadá, Corea, Chile, China, Estados Unidos, Filipinas, Hong Kong, Indonesia, Japón, Malasia."
   ]
  },
  {
   "cell_type": "code",
   "execution_count": 4,
   "id": "a351f3f9",
   "metadata": {},
   "outputs": [
    {
     "data": {
      "text/plain": [
       "['Australia',\n",
       " 'Brunei Darussalam',\n",
       " 'Canadá',\n",
       " 'Corea',\n",
       " 'Chile',\n",
       " 'China',\n",
       " 'Estados Unidos',\n",
       " 'Filipinas',\n",
       " 'Hong Kong',\n",
       " 'Indonesia',\n",
       " 'Japón',\n",
       " 'Malasia']"
      ]
     },
     "execution_count": 4,
     "metadata": {},
     "output_type": "execute_result"
    }
   ],
   "source": [
    "#Creamos la lista alianzap  que contiene a los miembros de la Alianza del Pacífico\n",
    "alianzap = [\"Australia\", \"Brunei Darussalam\", \"Canadá\", \"Corea\", \"Chile\", \"China\", \"Estados Unidos\", \"Filipinas\", \"Hong Kong\", \"Indonesia\", \"Japón\", \"Malasia\"]\n",
    "alianzap"
   ]
  },
  {
   "cell_type": "code",
   "execution_count": 5,
   "id": "92440ef3",
   "metadata": {},
   "outputs": [
    {
     "data": {
      "text/plain": [
       "'Chile'"
      ]
     },
     "execution_count": 5,
     "metadata": {},
     "output_type": "execute_result"
    }
   ],
   "source": [
    "#Use la lista creada para obtener a Chile.\n",
    "alianzap[4]   #Chile es el cuarto elemento"
   ]
  },
  {
   "cell_type": "code",
   "execution_count": 7,
   "id": "17db640a",
   "metadata": {},
   "outputs": [
    {
     "data": {
      "text/plain": [
       "'Malasia'"
      ]
     },
     "execution_count": 7,
     "metadata": {},
     "output_type": "execute_result"
    }
   ],
   "source": [
    "#Use la lista creada para obtener a Malasia.\n",
    "alianzap[11]  #Malasia es el noveno elemento"
   ]
  },
  {
   "cell_type": "code",
   "execution_count": 8,
   "id": "436b7541",
   "metadata": {},
   "outputs": [
    {
     "data": {
      "text/plain": [
       "['China', 'Estados Unidos', 'Filipinas', 'Hong Kong', 'Indonesia']"
      ]
     },
     "execution_count": 8,
     "metadata": {},
     "output_type": "execute_result"
    }
   ],
   "source": [
    "#Use la lista creada para obtener una lista de países desde China hasta Indonesia.\n",
    "nuevalista = alianzap[5:10]\n",
    "nuevalista"
   ]
  },
  {
   "cell_type": "markdown",
   "id": "cefe54bd",
   "metadata": {},
   "source": [
    "### PREGUNTA 3\n",
    "\n",
    "### Diccionario"
   ]
  },
  {
   "cell_type": "code",
   "execution_count": 11,
   "id": "a854c25b",
   "metadata": {},
   "outputs": [
    {
     "data": {
      "text/plain": [
       "{'Número atómico': [1, 6, 47, 88],\n",
       " 'Masa atómica': [1.008, 12.011, 107.87, 226],\n",
       " 'Familia': ['No metal', 'No metal', 'Metal', 'Metal']}"
      ]
     },
     "execution_count": 11,
     "metadata": {},
     "output_type": "execute_result"
    }
   ],
   "source": [
    "#Primero creamos el diccionario \n",
    "diccionario={'Número atómico': [1, 6, 47, 88],\n",
    "              'Masa atómica': [1.008, 12.011, 107.87, 226],\n",
    "              'Familia': ['No metal', 'No metal', 'Metal', 'Metal']}\n",
    "diccionario"
   ]
  },
  {
   "cell_type": "code",
   "execution_count": 12,
   "id": "6027b788",
   "metadata": {},
   "outputs": [
    {
     "data": {
      "text/plain": [
       "'Metal'"
      ]
     },
     "execution_count": 12,
     "metadata": {},
     "output_type": "execute_result"
    }
   ],
   "source": [
    "#Extraer las palabras \"Metal\" y el numero 47\n",
    "diccionario.get('Familia')[2] #llamo a la ubicación de \"Metal\""
   ]
  },
  {
   "cell_type": "code",
   "execution_count": 13,
   "id": "5b6a9d41",
   "metadata": {},
   "outputs": [
    {
     "data": {
      "text/plain": [
       "47"
      ]
     },
     "execution_count": 13,
     "metadata": {},
     "output_type": "execute_result"
    }
   ],
   "source": [
    "diccionario.get('Número atómico')[2] #llamo a la ubicación de 47"
   ]
  },
  {
   "cell_type": "code",
   "execution_count": 14,
   "id": "727b61c6",
   "metadata": {},
   "outputs": [
    {
     "data": {
      "text/plain": [
       "{'Número atómico': [1, 6, 47, 88],\n",
       " 'Masa atómica': [1.008, 12.011, 107.87, 226],\n",
       " 'Familia': ['No metal', 'No metal', 'Metal', 'Metal'],\n",
       " 'Books': [1984, 'Cien años de soledad', 'Rayuela']}"
      ]
     },
     "execution_count": 14,
     "metadata": {},
     "output_type": "execute_result"
    }
   ],
   "source": [
    "#Añade un Key llamado books que almacene los titulos de 3 libros.\n",
    "diccionario['Books'] = [1984, 'Cien años de soledad', 'Rayuela']  #creamos un nuevo key y le añadimos los títulos\n",
    "diccionario"
   ]
  }
 ],
 "metadata": {
  "kernelspec": {
   "display_name": "Python 3 (ipykernel)",
   "language": "python",
   "name": "python3"
  },
  "language_info": {
   "codemirror_mode": {
    "name": "ipython",
    "version": 3
   },
   "file_extension": ".py",
   "mimetype": "text/x-python",
   "name": "python",
   "nbconvert_exporter": "python",
   "pygments_lexer": "ipython3",
   "version": "3.9.13"
  }
 },
 "nbformat": 4,
 "nbformat_minor": 5
}
