{
 "cells": [
  {
   "cell_type": "markdown",
   "id": "ec469228",
   "metadata": {},
   "source": [
    "# TAREA  1 (Python) - GRUPO 1\n"
   ]
  },
  {
   "cell_type": "markdown",
   "id": "c4c38955",
   "metadata": {},
   "source": [
    "### 1. F-string\n",
    "Imprimimos el texto \"Facultad de Ciencias Sociales \\ 2023\", utilizando como variable de la estructura el año"
   ]
  },
  {
   "cell_type": "code",
   "execution_count": 1,
   "id": "754b40cd",
   "metadata": {},
   "outputs": [
    {
     "name": "stdout",
     "output_type": "stream",
     "text": [
      "Facultad de Ciencias Sociales \\ 2023\n"
     ]
    }
   ],
   "source": [
    "year = 2023\n",
    "print(f'Facultad de Ciencias Sociales \\ {year}')"
   ]
  },
  {
   "cell_type": "markdown",
   "id": "fa99e828",
   "metadata": {},
   "source": [
    "### 2. Lista\n",
    "Creamos una lista de países miembros del acuerdo de la Alianza del Pacífico y extraemos los elementos solicitados."
   ]
  },
  {
   "cell_type": "code",
   "execution_count": 2,
   "id": "dca8ce99",
   "metadata": {},
   "outputs": [
    {
     "name": "stdout",
     "output_type": "stream",
     "text": [
      "Chile\n",
      "Malasia\n",
      "['China', 'Estados Unidos', 'Filipinas', 'Hong Kong', 'Indonesia']\n"
     ]
    }
   ],
   "source": [
    "#Creamos la lista\n",
    "alianza_pacifico = [\"Australia\", \"Brunei Darussalam\", \"Canadá\", \"Corea\", \"Chile\", \"China\", \"Estados Unidos\", \"Filipinas\", \"Hong Kong\", \"Indonesia\", \"Japón\", \"Malasia\"]\n",
    "\n",
    "#Extraemos Chile de la lista    \n",
    "print(alianza_pacifico[4])\n",
    "\n",
    "#Extraemos Malasia de la lista\n",
    "print(alianza_pacifico[-1])\n",
    "\n",
    "#Extraemos Los países desde China hasta Indonesia\n",
    "print(alianza_pacifico[5:-2])\n"
   ]
  },
  {
   "cell_type": "markdown",
   "id": "72e26337",
   "metadata": {},
   "source": [
    "# 3. Diccionario\n",
    "Replicamos el diccionario indicado e imprimimos los elementos indicados."
   ]
  },
  {
   "cell_type": "code",
   "execution_count": 3,
   "id": "2c8c4003",
   "metadata": {},
   "outputs": [],
   "source": [
    "\n",
    "elementos = {'Número atómico': [1, 6, 47, 88], 'Masa atómica': [1.008, 12.011, 107.87, 226], 'Familia': [\"No metal\", \"No metal\", \"Metal\", \"Metal\" ]}\n",
    "\n",
    "#Extraemos las palabras metal y el número 47\n",
    "elementos.get('Familia')[2:]\n",
    "\n",
    "#Añadimos un Key llamado books que almacene los titulos de 3 libros.\n",
    "elementos.update({'Books': [\"Cien años de soledad\" , \"Emma\", \"Heridas abiertas\"]})\n"
   ]
  },
  {
   "cell_type": "code",
   "execution_count": 4,
   "id": "31ef651c",
   "metadata": {},
   "outputs": [
    {
     "name": "stdout",
     "output_type": "stream",
     "text": [
      "['Metal', 'Metal']\n",
      "47\n",
      "{'Número atómico': [1, 6, 47, 88], 'Masa atómica': [1.008, 12.011, 107.87, 226], 'Familia': ['No metal', 'No metal', 'Metal', 'Metal'], 'Books': ['Cien años de soledad', 'Emma', 'Heridas abiertas']}\n"
     ]
    }
   ],
   "source": [
    "#Imprimimos los elementos solicitados\n",
    "print(elementos.get('Familia')[2:])\n",
    "print(elementos.get('Número atómico')[2])\n",
    "print(elementos)"
   ]
  },
  {
   "cell_type": "code",
   "execution_count": null,
   "id": "c0c9bf6c",
   "metadata": {},
   "outputs": [],
   "source": []
  }
 ],
 "metadata": {
  "kernelspec": {
   "display_name": "Python 3 (ipykernel)",
   "language": "python",
   "name": "python3"
  },
  "language_info": {
   "codemirror_mode": {
    "name": "ipython",
    "version": 3
   },
   "file_extension": ".py",
   "mimetype": "text/x-python",
   "name": "python",
   "nbconvert_exporter": "python",
   "pygments_lexer": "ipython3",
   "version": "3.9.13"
  }
 },
 "nbformat": 4,
 "nbformat_minor": 5
}
