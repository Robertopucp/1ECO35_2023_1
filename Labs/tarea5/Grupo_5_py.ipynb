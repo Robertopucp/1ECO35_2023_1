{
 "cells": [
  {
   "cell_type": "markdown",
   "id": "69c0c12c",
   "metadata": {},
   "source": [
    "# **Tarea 5** \n",
    "\n",
    "# Script en R - Plot\n",
    "\n",
    "#### 1. Replicar el siguiente gráfico"
   ]
  },
  {
   "cell_type": "code",
   "execution_count": 13,
   "id": "39951354",
   "metadata": {},
   "outputs": [
    {
     "data": {
      "text/plain": [
       "'C:\\\\Users\\\\Roberto\\\\Documents\\\\GitHub\\\\1ECO35_2023_1\\\\Labs\\\\tarea5'"
      ]
     },
     "execution_count": 13,
     "metadata": {},
     "output_type": "execute_result"
    }
   ],
   "source": [
    "import pandas as pd\n",
    "import os # directorio (carpeta de trabajo)\n",
    "os.getcwd()\n",
    "\n",
    "# Primero, establecemos nuestro directorio para llamar a los archivos\n",
    "cultivation = pd.read_excel(\"../../data/produccion_coca/6.1.1_-_Illicit_coca_bush_cultivation.xlsx\")\n",
    "# Leemos el archivo y omitimos las filas que no necesitamos\n",
    "cultivation = cultivation.drop(cultivation.index[5:11])\n",
    "cultivation = cultivation.reset_index(drop=True)\n",
    "cultivation = cultivation.drop(cultivation.index[0])\n",
    "cultivation = cultivation.reset_index(drop=True)"
   ]
  },
  {
   "cell_type": "code",
   "execution_count": null,
   "id": "20c7fc60",
   "metadata": {},
   "outputs": [],
   "source": [
    "# Renombramos la primera columna como Country\n",
    "cultivation = cultivation.rename(columns={\"Unnamed: 0\": \"Country\"})\n",
    "\n",
    "# Renombramos las columnas de los años\n",
    "cultivation.columns.values[1:6] = [\"2009\", \"2010\", \"2011\", \"2012\", \"2013\"]\n",
    "\n",
    "# Renombramos las filas para que los nombres de los países coincidan con el ejemplo\n",
    "cultivation.loc[0:3, \"Country\"] = [\"Bolivia\", \"Colombia\", \"Peru\", \"Total\"]\n",
    "cultivation = cultivation.reset_index(drop=True)"
   ]
  },
  {
   "cell_type": "code",
   "execution_count": null,
   "id": "4b504c0c",
   "metadata": {},
   "outputs": [],
   "source": [
    "cultivation"
   ]
  },
  {
   "cell_type": "code",
   "execution_count": null,
   "id": "eb2c10dd",
   "metadata": {},
   "outputs": [],
   "source": [
    "import matplotlib.pyplot as plt\n",
    "\n",
    "# Ahora, con la base ya limpia podemos crear el gráfico\n",
    "# Seleccionamos los datos que necesitamos de la base\n",
    "grafico1 = cultivation.iloc[0:3, 1:13]\n",
    "colores = [\"red\", \"green\", \"gray\"]  # Colores del ejemplo\n",
    "\n",
    "# Colocamos los datos y el formato\n",
    "plt.figure(figsize=(10, 6))\n",
    "plt.plot(range(2009, 2021), grafico1.iloc[0], color=colores[0], linewidth=2, label=\"Bolivia\")\n",
    "plt.plot(range(2009, 2021), grafico1.iloc[1], color=colores[1], linewidth=2, label=\"Colombia\")\n",
    "plt.plot(range(2009, 2021), grafico1.iloc[2], color=colores[2], linewidth=2, label=\"Peru\")\n",
    "plt.scatter(range(2009, 2021), grafico1.iloc[0], color=colores[0], marker='o')\n",
    "plt.scatter(range(2009, 2021), grafico1.iloc[1], color=colores[1], marker='o')\n",
    "plt.scatter(range(2009, 2021), grafico1.iloc[2], color=colores[2], marker='o')\n",
    "plt.xlabel(\"Años\")\n",
    "plt.ylabel(\"Producción de hoja de coca por hectáreas\")\n",
    "plt.title(\"Figura 1: Producción de hoja de coca en hectáreas\")\n",
    "plt.ylim(0, grafico1.max().max())\n",
    "\n",
    "# Ponemos la leyenda\n",
    "plt.legend(loc=\"upper right\")\n",
    "# Agregamos el pie de página\n",
    "plt.figtext(0.5, 0.02, \"Nota: Este gráfico muestra la producción de hoja de coca por años en la región andina usando datos de UNODC.\",\n",
    "            ha=\"center\", fontsize=9)\n",
    "# Observamos el gráfico\n",
    "plt.show()"
   ]
  },
  {
   "cell_type": "markdown",
   "id": "597871cc",
   "metadata": {},
   "source": [
    "#### 2. Replicar el gráfico con los datos de erradicación de hectáreas de hoja de coca"
   ]
  },
  {
   "cell_type": "code",
   "execution_count": null,
   "id": "acdfe580",
   "metadata": {},
   "outputs": [],
   "source": [
    "# Cargamos el archivo\n",
    "eradication = pd.read_excel(\"../../data/produccion_coca/6.1.2_-_Eradication_of_coca_bush.xlsx\")\n",
    "eradication.columns = eradication.iloc[0].values\n",
    "eradication = eradication[1:].reset_index(drop=True)\n",
    "eradication = eradication.drop(eradication.index[3:16]).reset_index(drop=True)\n",
    "eradication = eradication.drop(columns=[eradication.columns[0], eradication.columns[1], eradication.columns[17]])\n",
    "eradication   #la dara necesita limpieza\n"
   ]
  },
  {
   "cell_type": "code",
   "execution_count": null,
   "id": "1c3d6b82",
   "metadata": {},
   "outputs": [],
   "source": [
    "# Renombramos la primera columna como en el caso anterior\n",
    "eradication = eradication.rename(columns={eradication.columns[0]: \"Country\"})\n",
    "eradication.columns.values[3:15] = eradication.columns.values[3:15].astype(int).astype(str)\n",
    "\n",
    "#Cambiamos los nombres para que coincidan\n",
    "eradication.loc[0:2, \"Country\"] = [\"Bolivia\", \"Colombia\", \"Peru\"]\n",
    "eradication = eradication.reset_index(drop=True)\n",
    "eradication\n"
   ]
  },
  {
   "cell_type": "code",
   "execution_count": null,
   "id": "f97687e1",
   "metadata": {},
   "outputs": [],
   "source": [
    "# Ahora podemos crear el gráfico\n",
    "\n",
    "grafico2 = eradication.iloc[0:3, 3:15]\n",
    "\n",
    "colores2 = [\"red\", \"green\", \"gray\"]\n",
    "plt.plot(range(2009, 2021), grafico2.iloc[0, :], linestyle='none', marker='o', color='white')\n",
    "plt.xlim(2009, 2020)\n",
    "plt.ylim(0, grafico2.max().max())\n",
    "plt.xlabel(\"Años\")\n",
    "plt.ylabel(\"Erradicación de la producción de coca por hectárea\")\n",
    "plt.title(\"Figura 2: Erradicación de la producción de hoja de coca por hectárea, 2009-2020\")\n",
    "\n",
    "for i in range(3):\n",
    "    plt.plot(range(2009, 2021), grafico2.iloc[i, :], color=colores2[i], linewidth=2)\n",
    "    plt.scatter(range(2009, 2021), grafico2.iloc[i, :], color=colores2[i], marker='o')\n",
    "\n",
    "plt.legend([\"Bolivia\", \"Colombia\", \"Peru\"], loc=\"upper right\")\n",
    "plt.text(0.5, -0.1, \"Nota: Este gráfico muestra la erradicación de la producción de hoja de coca por años en la región andina usando UNODC data.\", transform=plt.gca().transAxes, fontsize=10, verticalalignment='bottom')\n",
    "# Observamos el gráfico\n",
    "plt.show()"
   ]
  },
  {
   "cell_type": "markdown",
   "id": "7c4d4b38",
   "metadata": {},
   "source": [
    "#### 3. Replicar el gráfico con la producción y erradicación de hoja de coca en el Perú."
   ]
  },
  {
   "cell_type": "code",
   "execution_count": null,
   "id": "63e7bf7d",
   "metadata": {},
   "outputs": [],
   "source": [
    "import pandas as pd\n",
    "import matplotlib.pyplot as plt\n",
    "\n",
    "# Filtramos los datos para Perú en la base de cultivation\n",
    "cultivation_peru = cultivation[cultivation[\"Country\"] == \"Peru\"].iloc[:, 1:13]\n",
    "\n",
    "# Filtramos los datos para Perú en la base de eradication\n",
    "eradication_peru = eradication[eradication[\"Country\"] == \"Peru\"].iloc[:, 3:15]\n",
    "\n",
    "# Damos formato a los datos para trabajarlos\n",
    "cultivation_peru_long = cultivation_peru.melt(var_name=\"Año\", value_name=\"Producción\")\n",
    "eradication_peru_long = eradication_peru.melt(var_name=\"Año\", value_name=\"Erradicación\")\n",
    "\n",
    "# Convertimos la columna \"Año\" a enteros. Sin este paso, los años salen en desorden\n",
    "cultivation_peru_long[\"Año\"] = pd.to_numeric(cultivation_peru_long[\"Año\"], errors=\"coerce\")\n",
    "eradication_peru_long[\"Año\"] = pd.to_numeric(eradication_peru_long[\"Año\"], errors=\"coerce\")\n",
    "\n",
    "# Eliminar filas con valores NaN en la columna \"Año\" porque alteran el gráfico\n",
    "cultivation_peru_long = cultivation_peru_long.dropna(subset=[\"Año\"])\n",
    "eradication_peru_long = eradication_peru_long.dropna(subset=[\"Año\"])\n",
    "\n",
    "# Ordenamos los datos por año debido al problema anterior\n",
    "cultivation_peru_long = cultivation_peru_long.sort_values(\"Año\")\n",
    "eradication_peru_long = eradication_peru_long.sort_values(\"Año\")\n",
    "\n",
    "# Ahora sí podemos crear el gráfico para Perú\n",
    "plt.plot(cultivation_peru_long[\"Año\"], cultivation_peru_long[\"Producción\"], color=\"red\", linestyle=\"solid\", linewidth=1.5)\n",
    "plt.scatter(cultivation_peru_long[\"Año\"], cultivation_peru_long[\"Producción\"], color=\"red\", s=30)\n",
    "plt.plot(eradication_peru_long[\"Año\"], eradication_peru_long[\"Erradicación\"], color=\"green\", linestyle=\"solid\", linewidth=1.5)\n",
    "plt.scatter(eradication_peru_long[\"Año\"], eradication_peru_long[\"Erradicación\"], color=\"green\", s=30)\n",
    "# Añadimos el texto\n",
    "plt.xlabel(\"Años\")\n",
    "plt.ylabel(\"Producción / Erradicación de hoja de coca por hectáreas\")\n",
    "plt.title(\"Producción y Erradicación de la hoja de coca en Perú, 2009-2020\")\n",
    "plt.xticks(rotation=45)\n",
    "plt.legend([\"Producción\", \"Erradicación\"])\n",
    "plt.grid(True)\n",
    "\n",
    "plt.show()"
   ]
  },
  {
   "cell_type": "markdown",
   "id": "738ef8b1",
   "metadata": {},
   "source": [
    "# Script en R - REGEX\n",
    "\n",
    "#### 1. Convertimos coordenadas en la base de datos metropolitano"
   ]
  },
  {
   "cell_type": "code",
   "execution_count": 3,
   "id": "2e282994",
   "metadata": {},
   "outputs": [
    {
     "data": {
      "text/plain": [
       "'C:\\\\Users\\\\Roberto\\\\Documents\\\\GitHub\\\\1ECO35_2023_1\\\\Labs\\\\tarea5'"
      ]
     },
     "execution_count": 3,
     "metadata": {},
     "output_type": "execute_result"
    }
   ],
   "source": [
    "# establecemos directorio\n",
    "import os # directorio (carpeta de trabajo)\n",
    "os.getcwd()"
   ]
  },
  {
   "cell_type": "code",
   "execution_count": 7,
   "id": "03d450d4",
   "metadata": {},
   "outputs": [
    {
     "ename": "SyntaxError",
     "evalue": "invalid syntax (__init__.py, line 1187)",
     "output_type": "error",
     "traceback": [
      "Traceback \u001b[1;36m(most recent call last)\u001b[0m:\n",
      "  File \u001b[0;32m~\\anaconda3\\lib\\site-packages\\IPython\\core\\interactiveshell.py:3397\u001b[0m in \u001b[0;35mrun_code\u001b[0m\n    exec(code_obj, self.user_global_ns, self.user_ns)\n",
      "  Input \u001b[0;32mIn [7]\u001b[0m in \u001b[0;35m<cell line: 4>\u001b[0m\n    base1 = pd.read_excel(r\"../../data/metropolitano.xlsx\")\n",
      "  File \u001b[0;32m~\\anaconda3\\lib\\site-packages\\pandas\\util\\_decorators.py:211\u001b[0m in \u001b[0;35mwrapper\u001b[0m\n    return func(*args, **kwargs)\n",
      "  File \u001b[0;32m~\\anaconda3\\lib\\site-packages\\pandas\\util\\_decorators.py:331\u001b[0m in \u001b[0;35mwrapper\u001b[0m\n    return func(*args, **kwargs)\n",
      "  File \u001b[0;32m~\\anaconda3\\lib\\site-packages\\pandas\\io\\excel\\_base.py:482\u001b[0m in \u001b[0;35mread_excel\u001b[0m\n    io = ExcelFile(io, storage_options=storage_options, engine=engine)\n",
      "  File \u001b[0;32m~\\anaconda3\\lib\\site-packages\\pandas\\io\\excel\\_base.py:1639\u001b[0m in \u001b[0;35m__init__\u001b[0m\n    if import_optional_dependency(\"xlrd\", errors=\"ignore\") is None:\n",
      "  File \u001b[0;32m~\\anaconda3\\lib\\site-packages\\pandas\\compat\\_optional.py:141\u001b[0m in \u001b[0;35mimport_optional_dependency\u001b[0m\n    module = importlib.import_module(name)\n",
      "  File \u001b[0;32m~\\anaconda3\\lib\\importlib\\__init__.py:127\u001b[0m in \u001b[0;35mimport_module\u001b[0m\n    return _bootstrap._gcd_import(name[level:], package, level)\n",
      "  File \u001b[0;32m<frozen importlib._bootstrap>:1030\u001b[0m in \u001b[0;35m_gcd_import\u001b[0m\n",
      "  File \u001b[0;32m<frozen importlib._bootstrap>:1007\u001b[0m in \u001b[0;35m_find_and_load\u001b[0m\n",
      "  File \u001b[0;32m<frozen importlib._bootstrap>:986\u001b[0m in \u001b[0;35m_find_and_load_unlocked\u001b[0m\n",
      "  File \u001b[0;32m<frozen importlib._bootstrap>:680\u001b[0m in \u001b[0;35m_load_unlocked\u001b[0m\n",
      "  File \u001b[0;32m<frozen importlib._bootstrap_external>:846\u001b[0m in \u001b[0;35mexec_module\u001b[0m\n",
      "  File \u001b[0;32m<frozen importlib._bootstrap_external>:983\u001b[0m in \u001b[0;35mget_code\u001b[0m\n",
      "  File \u001b[0;32m<frozen importlib._bootstrap_external>:913\u001b[0m in \u001b[0;35msource_to_code\u001b[0m\n",
      "\u001b[1;36m  File \u001b[1;32m<frozen importlib._bootstrap>:228\u001b[1;36m in \u001b[1;35m_call_with_frames_removed\u001b[1;36m\u001b[0m\n",
      "\u001b[1;36m  File \u001b[1;32m~\\anaconda3\\lib\\site-packages\\xlrd\\__init__.py:1187\u001b[1;36m\u001b[0m\n\u001b[1;33m    print \"EXTERNSHEET(b7-):\"\u001b[0m\n\u001b[1;37m          ^\u001b[0m\n\u001b[1;31mSyntaxError\u001b[0m\u001b[1;31m:\u001b[0m invalid syntax\n"
     ]
    }
   ],
   "source": [
    "#abrimos nuestra base de datos\n",
    "import pandas as pd\n",
    "\n",
    "base1 = pd.read_excel(r\"../../data/metropolitano.xlsx\") "
   ]
  },
  {
   "cell_type": "code",
   "execution_count": null,
   "id": "feb9e584",
   "metadata": {},
   "outputs": [],
   "source": [
    "# creamos una copia que se llamará \"data2\"\n",
    "data2 = base1.copy()"
   ]
  },
  {
   "cell_type": "code",
   "execution_count": null,
   "id": "c41f5bff",
   "metadata": {},
   "outputs": [],
   "source": [
    "# creamos una función apropiada para convertir las coordenadas\n",
    "\n",
    "import re\n",
    "def convert_gps(x):\n",
    "    signo = -1 if re.search('[swSWoO-]', x) else 1\n",
    "    regex = re.compile(r'\\s?(\\d+)\\s*°\\s*(\\d+)\\'\\s*(\\d+(?:\\.\\d+)?)')\n",
    "    match = regex.match(x)\n",
    "    if match:\n",
    "        grados = float(match.group(1))\n",
    "        minutos = float(match.group(2))\n",
    "        segundos = float(match.group(3))\n",
    "        return signo * (grados + minutos / 60 + segundos / 3600)\n",
    "    else:\n",
    "        return None"
   ]
  },
  {
   "cell_type": "code",
   "execution_count": null,
   "id": "f829f06d",
   "metadata": {},
   "outputs": [],
   "source": [
    "#aplicamos a data2 para obtener la transformación de las coordenadas a \"latitud\" y \"longitud\"\n",
    "data2['latitud'] = data2.sur_latitud.map(convert_gps)\n",
    "data2['longitud'] = data2.oeste_longitud.map(convert_gps)"
   ]
  },
  {
   "cell_type": "code",
   "execution_count": 8,
   "id": "5ca7126b",
   "metadata": {},
   "outputs": [
    {
     "ename": "NameError",
     "evalue": "name 'data2' is not defined",
     "output_type": "error",
     "traceback": [
      "\u001b[1;31m---------------------------------------------------------------------------\u001b[0m",
      "\u001b[1;31mNameError\u001b[0m                                 Traceback (most recent call last)",
      "Input \u001b[1;32mIn [8]\u001b[0m, in \u001b[0;36m<cell line: 2>\u001b[1;34m()\u001b[0m\n\u001b[0;32m      1\u001b[0m \u001b[38;5;66;03m#chequeamos los resultados\u001b[39;00m\n\u001b[1;32m----> 2\u001b[0m \u001b[43mdata2\u001b[49m\n",
      "\u001b[1;31mNameError\u001b[0m: name 'data2' is not defined"
     ]
    }
   ],
   "source": [
    "#chequeamos los resultados\n",
    "data2"
   ]
  },
  {
   "cell_type": "markdown",
   "id": "2f97c497",
   "metadata": {},
   "source": [
    "#### 2. Base de estudiantes"
   ]
  },
  {
   "cell_type": "code",
   "execution_count": null,
   "id": "4a8ac2e9",
   "metadata": {},
   "outputs": [],
   "source": [
    "import pandas as pd\n",
    "import numpy as np\n",
    "import re  # for regular expressions (REGEX)\n",
    "import os  # for directorio\n",
    "import unidecode # to drop tildes\n",
    "from datetime import datetime  # library for time\n",
    "import warnings\n",
    "import math\n",
    "warnings.filterwarnings('ignore') "
   ]
  },
  {
   "cell_type": "code",
   "execution_count": null,
   "id": "63096030",
   "metadata": {},
   "outputs": [],
   "source": [
    "# Establecemos nuestro directorio\n",
    "os.getcwd()"
   ]
  },
  {
   "cell_type": "code",
   "execution_count": null,
   "id": "d6e47910",
   "metadata": {},
   "outputs": [],
   "source": [
    "# Cargamos la data y observamos que se encuentra muy sucia\n",
    "data = pd.read_excel(\"../../data/estudiantes/base_students.xlsx\") # Subir base de datos\n",
    "data"
   ]
  },
  {
   "cell_type": "markdown",
   "id": "571f5b8e",
   "metadata": {},
   "source": [
    "* Limpiar el nombre de los estudiantes"
   ]
  },
  {
   "cell_type": "code",
   "execution_count": null,
   "id": "977ee0db",
   "metadata": {},
   "outputs": [],
   "source": [
    "# Limpiamos los caracteres extraños de la variable NAME\n",
    "data['NAME'] = data['NAME'].apply(lambda x: re.sub(r'[^a-zA-Z ]', '', x))"
   ]
  },
  {
   "cell_type": "markdown",
   "id": "66257846",
   "metadata": {},
   "source": [
    "* Similarmente al item anterior, limpiar la fecha de nacimiento y edad y asignar el formato date"
   ]
  },
  {
   "cell_type": "code",
   "execution_count": null,
   "id": "4a6661b1",
   "metadata": {},
   "outputs": [],
   "source": [
    "# Comenzamos limpiando BORN_DATE utilizando regex\n",
    "data['BORN_DATE'] = data['BORN_DATE'].replace(r'[^0-9/]', '', regex=True)\n",
    "\n",
    "# Tenemos que darle formato de datetime para que lo lea como fecha\n",
    "data['BORN_DATE'] = data['BORN_DATE'].apply(lambda x: pd.to_datetime(x, format='%d/%m/%Y', errors='coerce'))\n",
    "\n",
    "# Eliminamos filas con fechas inválidas\n",
    "data = data.dropna(subset=['BORN_DATE'])"
   ]
  },
  {
   "cell_type": "markdown",
   "id": "49c82bcc",
   "metadata": {},
   "source": [
    "Creamos la variable año de nacimiento (YEAR_OF_BIRTH)"
   ]
  },
  {
   "cell_type": "code",
   "execution_count": null,
   "id": "a27a2452",
   "metadata": {},
   "outputs": [],
   "source": [
    "# Ahora limpiamos AGE con regex\n",
    "data['AGE'] = data['AGE'].replace(r'\\D', '', regex=True)\n",
    "\n",
    "# Importante: convertirlo a numérico\n",
    "data['AGE'] = pd.to_numeric(data['AGE'], errors='coerce')\n",
    "\n",
    "#creamos la variable año de nacimiento\n",
    "data['BORN_DATE'] = data['BORN_DATE'].astype(str)\n",
    "data['YEAR_OF_BIRTH'] = data['BORN_DATE'].str.extract(r'(\\d{4})')\n",
    "\n",
    "# Convertimos la variable YEAR_OF_BIRTH a dato numérico\n",
    "data['YEAR_OF_BIRTH'] = pd.to_numeric(data['YEAR_OF_BIRTH'], errors='coerce')"
   ]
  },
  {
   "cell_type": "markdown",
   "id": "330337fa",
   "metadata": {},
   "source": [
    "* Use la variable GENDER para crear una dummy que tome el valor de 1 para female y 0 para males. "
   ]
  },
  {
   "cell_type": "code",
   "execution_count": null,
   "id": "dde7a603",
   "metadata": {},
   "outputs": [],
   "source": [
    "# Limpiamos la variable GENDER y asignamos male si el dato contiene m y female si contiene f. Esto es importante para convertirlo en dummy después.\n",
    "data['GENDER'] = data['GENDER'].str.lower()\n",
    "data['GENDER'] = data['GENDER'].apply(lambda x: 'female' if re.search(r'f', str(x)) else ('male' if re.search(r'm', str(x)) else None))\n",
    "\n",
    "# Eliminamos filas con valores nulos\n",
    "data = data.dropna(subset=['GENDER'])\n",
    "\n",
    "# Ahora convertimos a dummy, considerando que 1 es para female y 0 para male\n",
    "data['GENDER'] = pd.get_dummies(data['GENDER'], drop_first=True)\n",
    "data['GENDER'] = 1 - data['GENDER']"
   ]
  },
  {
   "cell_type": "markdown",
   "id": "fc54b646",
   "metadata": {},
   "source": [
    "* Similarmente, crear una variable dummy que tome el valor de 1 si el colegio al cual asiste la o el menor es pública, y 0 si es privada."
   ]
  },
  {
   "cell_type": "code",
   "execution_count": null,
   "id": "8e5aa4ff",
   "metadata": {},
   "outputs": [],
   "source": [
    "# Ahora limpiamos la variable tipo de escuela. Igual que el caso anterior, le damos el valor de publico si contiene \"pu\" y privado si contiene \"pr\"\n",
    "data.loc[data['TYPE_ADM_SCHOOL'].str.contains(r'pu', case=False, na=False), 'TYPE_ADM_SCHOOL'] = 'publico'\n",
    "data.loc[data['TYPE_ADM_SCHOOL'].str.contains(r'pr', case=False, na=False), 'TYPE_ADM_SCHOOL'] = 'privado'\n",
    "\n",
    "#Convertimos a dummy\n",
    "data['TYPE_ADM_SCHOOL'] = data['TYPE_ADM_SCHOOL'].replace({'publico': 1, 'privado': 0})"
   ]
  },
  {
   "cell_type": "markdown",
   "id": "0da57775",
   "metadata": {},
   "source": [
    "* Creamos la variable USUARIO"
   ]
  },
  {
   "cell_type": "code",
   "execution_count": null,
   "id": "6cb7c7c3",
   "metadata": {},
   "outputs": [],
   "source": [
    "# Creamos una nueva variable \"USUARIO\" usando datos del correo electrónico\n",
    "data['USUARIO'] = data['MAIL'].str.extract(r'(\\w+)@')"
   ]
  },
  {
   "cell_type": "markdown",
   "id": "7ab99a20",
   "metadata": {},
   "source": [
    "La pregunta pedía agregar los datos del profesor"
   ]
  },
  {
   "cell_type": "code",
   "execution_count": null,
   "id": "bf203377",
   "metadata": {},
   "outputs": [],
   "source": [
    "# Agregamos la información del proesor en NAME, MAIL y USUARIO\n",
    "nueva_fila = {'NAME': 'ROBERTO MENDOZA MATOS', 'MAIL': 'rmendozam@pucp.edu.pe', 'USUARIO': 'rmandozam'}\n",
    "\n",
    "# Agregamos la nueva fila al DataFrame\n",
    "data = data.append(nueva_fila, ignore_index=True)"
   ]
  },
  {
   "cell_type": "markdown",
   "id": "191e22f9",
   "metadata": {},
   "source": [
    "Crear una variable con el número de DNI del padre, madre o apoderado."
   ]
  },
  {
   "cell_type": "code",
   "execution_count": null,
   "id": "60c0e784",
   "metadata": {},
   "outputs": [],
   "source": [
    "# Para esto, limpiamos DNI_NUMBER considerando que deben mantenerse los números y eliminar los otros caracteres\n",
    "data['DNI_NUMBER'] = data['DNI_NUMBER'].replace(r'\\D', '', regex=True)"
   ]
  },
  {
   "cell_type": "markdown",
   "id": "e2a08caa",
   "metadata": {},
   "source": [
    "Con \"observaciones\"\n",
    "\n",
    "Recuperar el nombre y edad correctos, y reemplazarlo en las variables de nombre (NAME) y edad respectivamente (AGE)."
   ]
  },
  {
   "cell_type": "code",
   "execution_count": null,
   "id": "a4ec2076",
   "metadata": {},
   "outputs": [],
   "source": [
    "# Recogemos los datos correctos respecto al nombre de observaciones \n",
    "regex = re.compile('(.+)(correcto es)|,(.*)')\n",
    "\n",
    "# lo guardamos en nombre_correcto\n",
    "data['nombre_correcto'] = np.where(data['observaciones'].astype(str).str.match(regex), data['observaciones'].astype(str).str.replace(regex, '').str.strip(), None)\n",
    "data['nombre_correcto']\n",
    "\n",
    "# Reemplazamos en NAME\n",
    "data['NAME'] = data['nombre_correcto'].combine_first(data['NAME'])\n",
    "data['NAME']\n",
    "\n",
    "# Ahora eliminamos la columna nombre_correcto\n",
    "data = data.drop(data.columns[10], axis=1)"
   ]
  },
  {
   "cell_type": "markdown",
   "id": "70e27bf1",
   "metadata": {},
   "source": [
    "Crear una variable con la cantidad de hermana/os del estudiante"
   ]
  },
  {
   "cell_type": "code",
   "execution_count": null,
   "id": "75d16d77",
   "metadata": {},
   "outputs": [],
   "source": [
    "# Aquí recogemos los números de un solo dígito que indican el número de hermanos/as\n",
    "regex = re.compile(r'\\b[0-79]\\b')\n",
    "\n",
    "# Creamos la variable HERMANOS y debe contener un solo dato\n",
    "data['HERMANOS'] = data['observaciones'].apply(lambda x: regex.findall(str(x)))\n",
    "\n",
    "data['HERMANOS'] = data['HERMANOS'].apply(lambda x: x[0] if len(x) > 0 else None)"
   ]
  },
  {
   "cell_type": "markdown",
   "id": "49c75de7",
   "metadata": {},
   "source": [
    "Crear una variable dummy si el menor es beneficiario del programa y otra dummy si asiste a un colegio de jornada escolar completa."
   ]
  },
  {
   "cell_type": "code",
   "execution_count": null,
   "id": "895af8ee",
   "metadata": {},
   "outputs": [],
   "source": [
    "# Ahora, le otorgamos la dummy considerando que contenga \"Beneficiado\" y le creamos su respectiva variable\n",
    "data['BENEFICIARIO'] = np.where(data['observaciones'].str.contains('Beneficiado', na = False),1,0)\n",
    "\n",
    "#Hacemos lo mismo con jornada completa\n",
    "data['JORNADA'] = np.where(data['observaciones'].str.contains('completa', na = False),1,0)"
   ]
  },
  {
   "cell_type": "markdown",
   "id": "543c0016",
   "metadata": {},
   "source": [
    "Finalmente, para asegurarnos de tener la data completamente limpia corregimos detalles como mayúsculas o valores que contienen .0"
   ]
  },
  {
   "cell_type": "code",
   "execution_count": null,
   "id": "372e0f3e",
   "metadata": {},
   "outputs": [],
   "source": [
    "# Debemos convertir age a string para corregir el error de .0\n",
    "data['AGE'] = data['AGE'].astype(str)\n",
    "\n",
    "# Aplicamos la expresión regular para eliminar el '.0' de la columna \"AGE\"\n",
    "data['AGE'] = data['AGE'].str.replace(r'\\.0$', '')\n",
    "\n",
    "# Convertimos las columnas \"GENDER\" y \"YEAR_OF_BIRTH\" a string también\n",
    "data['GENDER'] = data['GENDER'].astype(str)\n",
    "data['YEAR_OF_BIRTH'] = data['YEAR_OF_BIRTH'].astype(str)\n",
    "\n",
    "# Aplicamos la expresión\n",
    "data['GENDER'] = data['GENDER'].str.replace(r'\\.0$', '', regex=True)\n",
    "data['YEAR_OF_BIRTH'] = data['YEAR_OF_BIRTH'].str.replace(r'\\.0$', '', regex=True)\n",
    "\n",
    "# Por último, como el primer nombre de NAME está en minúscula, convertimos todo a mayúscula\n",
    "data['NAME'] = data['NAME'].str.replace(r'\\w+', lambda x: x.group().upper())"
   ]
  },
  {
   "cell_type": "markdown",
   "id": "d47557df",
   "metadata": {},
   "source": [
    "Ahora sí, la data está completamente limpia!"
   ]
  },
  {
   "cell_type": "code",
   "execution_count": null,
   "id": "04b68ece",
   "metadata": {},
   "outputs": [],
   "source": [
    "data"
   ]
  }
 ],
 "metadata": {
  "kernelspec": {
   "display_name": "Python 3 (ipykernel)",
   "language": "python",
   "name": "python3"
  },
  "language_info": {
   "codemirror_mode": {
    "name": "ipython",
    "version": 3
   },
   "file_extension": ".py",
   "mimetype": "text/x-python",
   "name": "python",
   "nbconvert_exporter": "python",
   "pygments_lexer": "ipython3",
   "version": "3.9.7"
  }
 },
 "nbformat": 4,
 "nbformat_minor": 5
}
